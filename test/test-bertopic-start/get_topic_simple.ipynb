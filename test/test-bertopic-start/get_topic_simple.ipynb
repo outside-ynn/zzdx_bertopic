{
 "cells": [
  {
   "cell_type": "markdown",
   "metadata": {},
   "source": [
    "# 导入"
   ]
  },
  {
   "cell_type": "code",
   "execution_count": 5,
   "metadata": {},
   "outputs": [],
   "source": [
    "from bertopic import BERTopic\n",
    "from sentence_transformers import SentenceTransformer\n",
    "from umap import UMAP"
   ]
  },
  {
   "cell_type": "markdown",
   "metadata": {},
   "source": [
    "# 加载数据"
   ]
  },
  {
   "cell_type": "code",
   "execution_count": 6,
   "metadata": {},
   "outputs": [
    {
     "name": "stdout",
     "output_type": "stream",
     "text": [
      "文档条数:  1000\n",
      "预览第一条:  文旅文 创看 洛阳 河南省 文旅文创 发展 大会 本次 大会 安排 项目 签约 主要 方面 内容 一是 文旅 产业 项目 签约 截至 目前 梳理 重点 文旅 项目 投资总额 525.6 亿元 遴选 重大项目 进行 现场 签约 投资总额 365.8 亿元 项目 包括 文物 数字化 开发 文化 创意 园区 建设 文化 项目 涵盖 旅游 度假区 建设 旅游 酒店 民宿 打造 旅游 项目 既有 旅游 景区 开发 商旅 综合体 建设 传统 业态 项目 宇宙 基地 沉浸 演艺 业态 项目 充分体现 我省 文化 旅游 发展 特点 趋势 二是 引客 入豫 项目 签约 主要 我省 文旅 部门 文旅 企业 头部 旅行 知名 OTA 平台 重点 客源地 文旅 部门 签订 引客 入豫 协议 持续 拓展 省外 客源 市场\n",
      "\n"
     ]
    }
   ],
   "source": [
    "# step1 加载文件\n",
    "with open('../../data/切词.txt', 'r', encoding='utf-8') as file:\n",
    "  docs = file.readlines()\n",
    "print('文档条数: ', len(docs))\n",
    "print('预览第一条: ', docs[0])"
   ]
  },
  {
   "cell_type": "markdown",
   "metadata": {},
   "source": [
    "# 文本聚类 ⭐"
   ]
  },
  {
   "cell_type": "code",
   "execution_count": 7,
   "metadata": {},
   "outputs": [
    {
     "data": {
      "application/vnd.jupyter.widget-view+json": {
       "model_id": "370c749a9eb8483e8809925b1bf54e27",
       "version_major": 2,
       "version_minor": 0
      },
      "text/plain": [
       "Batches:   0%|          | 0/32 [00:00<?, ?it/s]"
      ]
     },
     "metadata": {},
     "output_type": "display_data"
    }
   ],
   "source": [
    "# 导入词嵌入模型，生成词嵌入向量\n",
    "# embedding_model = SentenceTransformer(\"paraphrase-multilingual-MiniLM-L12-v2\")\n",
    "embedding_model = SentenceTransformer(r\"C:\\Users\\yangn\\.cache\\huggingface\\hub\\models--sentence-transformers--paraphrase-multilingual-MiniLM-L12-v2\\snapshots\\bf3bf13ab40c3157080a7ab344c831b9ad18b5eb\")\n",
    "embeddings = embedding_model.encode(docs, show_progress_bar=True)"
   ]
  },
  {
   "cell_type": "code",
   "execution_count": 8,
   "metadata": {},
   "outputs": [
    {
     "data": {
      "text/html": [
       "<div>\n",
       "<style scoped>\n",
       "    .dataframe tbody tr th:only-of-type {\n",
       "        vertical-align: middle;\n",
       "    }\n",
       "\n",
       "    .dataframe tbody tr th {\n",
       "        vertical-align: top;\n",
       "    }\n",
       "\n",
       "    .dataframe thead th {\n",
       "        text-align: right;\n",
       "    }\n",
       "</style>\n",
       "<table border=\"1\" class=\"dataframe\">\n",
       "  <thead>\n",
       "    <tr style=\"text-align: right;\">\n",
       "      <th></th>\n",
       "      <th>Topic</th>\n",
       "      <th>Count</th>\n",
       "      <th>Name</th>\n",
       "      <th>Representation</th>\n",
       "      <th>Representative_Docs</th>\n",
       "    </tr>\n",
       "  </thead>\n",
       "  <tbody>\n",
       "    <tr>\n",
       "      <th>0</th>\n",
       "      <td>-1</td>\n",
       "      <td>305</td>\n",
       "      <td>-1_洛阳_旅游_文化_景区</td>\n",
       "      <td>[洛阳, 旅游, 文化, 景区, 城市, 河南, 游客, 历史, 活动, 中国]</td>\n",
       "      <td>[洛阳 跻身 国内 热门 长线 目的地 全国 前十 洛阳 出圈 妈妈 旅游网 发布 中秋 长...</td>\n",
       "    </tr>\n",
       "    <tr>\n",
       "      <th>1</th>\n",
       "      <td>0</td>\n",
       "      <td>136</td>\n",
       "      <td>0_洛阳_旅游_景区_旅行</td>\n",
       "      <td>[洛阳, 旅游, 景区, 旅行, 老君山, 栾川, 大峡谷, 白云山, 位于, 王府]</td>\n",
       "      <td>[要说 旅行 关心 洛阳 来说 洛阳 周末 洛阳 假期 洛阳 好玩 夏天 洛阳 避暑 几个 ...</td>\n",
       "    </tr>\n",
       "    <tr>\n",
       "      <th>2</th>\n",
       "      <td>1</td>\n",
       "      <td>78</td>\n",
       "      <td>1_文化_旅游_洛阳_城市</td>\n",
       "      <td>[文化, 旅游, 洛阳, 城市, 项目, 发展, 建设, 打造, 文旅, 中国]</td>\n",
       "      <td>[洛阳 成为 首批 国家 文化 旅游 消费 示范 城市 近日 国家 文旅部 发布 国家 文旅...</td>\n",
       "    </tr>\n",
       "    <tr>\n",
       "      <th>3</th>\n",
       "      <td>2</td>\n",
       "      <td>63</td>\n",
       "      <td>2_工作_旅游_发展_服务</td>\n",
       "      <td>[工作, 旅游, 发展, 服务, 洛阳, 文化, 建设, 森林, 河南省, 洛阳市]</td>\n",
       "      <td>[河南 文旅 大会 月底 举办 省政府 新闻办 新闻 发布会 获悉 全省 文旅文创 发展 大...</td>\n",
       "    </tr>\n",
       "    <tr>\n",
       "      <th>4</th>\n",
       "      <td>3</td>\n",
       "      <td>61</td>\n",
       "      <td>3_石窟_龙门石窟_艺术_中国</td>\n",
       "      <td>[石窟, 龙门石窟, 艺术, 中国, 世界, 莫高窟, 造像, 朝代, 文化遗产, 云冈石窟]</td>\n",
       "      <td>[旅行 洛阳 龙门石窟 中国 石刻 艺术 宝库 现为 世界 文化遗产 全国 重点 文物保护 ...</td>\n",
       "    </tr>\n",
       "    <tr>\n",
       "      <th>5</th>\n",
       "      <td>4</td>\n",
       "      <td>53</td>\n",
       "      <td>4_中国_历史_安阳_洛阳</td>\n",
       "      <td>[中国, 历史, 安阳, 洛阳, 遗址, 河南, 开封, 文化, 郑州, 古都]</td>\n",
       "      <td>[超全 安阳 旅游 攻略 安阳 美食 大全 安阳 简称 这座 七朝 古都 盘踞 河南省 北端...</td>\n",
       "    </tr>\n",
       "    <tr>\n",
       "      <th>6</th>\n",
       "      <td>5</td>\n",
       "      <td>49</td>\n",
       "      <td>5_高铁_公交_城市_郑州</td>\n",
       "      <td>[高铁, 公交, 城市, 郑州, 洛阳, 线路, 发展, gps, 安全可靠, 正品]</td>\n",
       "      <td>[文明 洛阳 洛阳 公交线路 取消 洛阳市 公交 集团 相关 负责人 表示 自即日起 古都 ...</td>\n",
       "    </tr>\n",
       "    <tr>\n",
       "      <th>7</th>\n",
       "      <td>6</td>\n",
       "      <td>44</td>\n",
       "      <td>6_洛阳_旅游_河南_白云山</td>\n",
       "      <td>[洛阳, 旅游, 河南, 白云山, 宜阳, 活动, 河洛, 文化, 景区, 大鼓]</td>\n",
       "      <td>[河图 报道 第九届 河洛 大鼓 曲艺 节在 洛邑 古城 开幕 演出 现场 伊洛 碧波 起舞...</td>\n",
       "    </tr>\n",
       "    <tr>\n",
       "      <th>8</th>\n",
       "      <td>7</td>\n",
       "      <td>34</td>\n",
       "      <td>7_少林寺_佛教_中国_白马寺</td>\n",
       "      <td>[少林寺, 佛教, 中国, 白马寺, 嵩山, 建筑, 祖庭, 禅宗, 寺院, 印度]</td>\n",
       "      <td>[豫见 美景 少林寺 位于 河南省 郑州市 登封市 嵩山 乳峰 坐落于 嵩山 腹地 少室 茂...</td>\n",
       "    </tr>\n",
       "    <tr>\n",
       "      <th>9</th>\n",
       "      <td>8</td>\n",
       "      <td>33</td>\n",
       "      <td>8_年票_景区_门票_旅游</td>\n",
       "      <td>[年票, 景区, 门票, 旅游, 游客, 洛阳, 活动, 免费, 续费, 暂停]</td>\n",
       "      <td>[洛阳 日至 洛阳 旅游 年票 服务 暂停 办理 洛阳 旅游 年票 机房 系统维护 暂停 服...</td>\n",
       "    </tr>\n",
       "    <tr>\n",
       "      <th>10</th>\n",
       "      <td>9</td>\n",
       "      <td>30</td>\n",
       "      <td>9_景区_开园_游客_大峡谷</td>\n",
       "      <td>[景区, 开园, 游客, 大峡谷, 竹海, 火灾, 疫情, 风景区, 陆续, 洛阳]</td>\n",
       "      <td>[河南 多家 景区 陆续 发布 开园 公告 台风 杜苏芮 强度 逐渐 减弱 河南 景区 陆续...</td>\n",
       "    </tr>\n",
       "    <tr>\n",
       "      <th>11</th>\n",
       "      <td>10</td>\n",
       "      <td>29</td>\n",
       "      <td>10_博物馆_三彩_洛阳_考古</td>\n",
       "      <td>[博物馆, 三彩, 洛阳, 考古, 文物, 艺术, 遗址, 二里头, 展示, 展厅]</td>\n",
       "      <td>[博物馆 之旅 隋唐 大运河 文化 博物馆 洛阳 博物馆 永宁寺 特展 珍宝馆 三彩 曹魏 ...</td>\n",
       "    </tr>\n",
       "    <tr>\n",
       "      <th>12</th>\n",
       "      <td>11</td>\n",
       "      <td>26</td>\n",
       "      <td>11_菩萨_江南_大福_花果山</td>\n",
       "      <td>[菩萨, 江南, 大福, 花果山, 先寺, 洛阳, 金黄, 烤肉, 洛阳纸贵, 谭处端]</td>\n",
       "      <td>[听听 古诗 熏陶 打卡 孩子 自我 学习 王安石 泊船 瓜洲 京口 瓜洲 一水间 钟山 数...</td>\n",
       "    </tr>\n",
       "    <tr>\n",
       "      <th>13</th>\n",
       "      <td>12</td>\n",
       "      <td>24</td>\n",
       "      <td>12_增长_游客_收入_接待</td>\n",
       "      <td>[增长, 游客, 收入, 接待, 万人次, 旅游, 亿元, 五一, 万元, 夜游]</td>\n",
       "      <td>[洛阳 身边 十一 洛阳 接待 游客 万人次 全市 接待 境内外 旅游者 万人次 同比 增长...</td>\n",
       "    </tr>\n",
       "    <tr>\n",
       "      <th>14</th>\n",
       "      <td>13</td>\n",
       "      <td>19</td>\n",
       "      <td>13_旅客_客流_郑州_发送</td>\n",
       "      <td>[旅客, 客流, 郑州, 发送, 高峰, 列车, 出行, 假期, 铁路, 高铁]</td>\n",
       "      <td>[端午 假期 第一天 郑州 公路 铁路 迎来 客流 高峰 今天 端午 假期 第一天 郑州 铁...</td>\n",
       "    </tr>\n",
       "    <tr>\n",
       "      <th>15</th>\n",
       "      <td>14</td>\n",
       "      <td>16</td>\n",
       "      <td>14_景区_旅游_等级_评定</td>\n",
       "      <td>[景区, 旅游, 等级, 评定, 质量, 4a, 度假区, 公示, 国家, 河南省]</td>\n",
       "      <td>[河南省旅游局 日起 官方网站 公示 批准 国家 4A 旅游 景区 名单 包含 景区 公示 ...</td>\n",
       "    </tr>\n",
       "  </tbody>\n",
       "</table>\n",
       "</div>"
      ],
      "text/plain": [
       "    Topic  Count             Name  \\\n",
       "0      -1    305   -1_洛阳_旅游_文化_景区   \n",
       "1       0    136    0_洛阳_旅游_景区_旅行   \n",
       "2       1     78    1_文化_旅游_洛阳_城市   \n",
       "3       2     63    2_工作_旅游_发展_服务   \n",
       "4       3     61  3_石窟_龙门石窟_艺术_中国   \n",
       "5       4     53    4_中国_历史_安阳_洛阳   \n",
       "6       5     49    5_高铁_公交_城市_郑州   \n",
       "7       6     44   6_洛阳_旅游_河南_白云山   \n",
       "8       7     34  7_少林寺_佛教_中国_白马寺   \n",
       "9       8     33    8_年票_景区_门票_旅游   \n",
       "10      9     30   9_景区_开园_游客_大峡谷   \n",
       "11     10     29  10_博物馆_三彩_洛阳_考古   \n",
       "12     11     26  11_菩萨_江南_大福_花果山   \n",
       "13     12     24   12_增长_游客_收入_接待   \n",
       "14     13     19   13_旅客_客流_郑州_发送   \n",
       "15     14     16   14_景区_旅游_等级_评定   \n",
       "\n",
       "                                     Representation  \\\n",
       "0          [洛阳, 旅游, 文化, 景区, 城市, 河南, 游客, 历史, 活动, 中国]   \n",
       "1       [洛阳, 旅游, 景区, 旅行, 老君山, 栾川, 大峡谷, 白云山, 位于, 王府]   \n",
       "2          [文化, 旅游, 洛阳, 城市, 项目, 发展, 建设, 打造, 文旅, 中国]   \n",
       "3        [工作, 旅游, 发展, 服务, 洛阳, 文化, 建设, 森林, 河南省, 洛阳市]   \n",
       "4   [石窟, 龙门石窟, 艺术, 中国, 世界, 莫高窟, 造像, 朝代, 文化遗产, 云冈石窟]   \n",
       "5          [中国, 历史, 安阳, 洛阳, 遗址, 河南, 开封, 文化, 郑州, 古都]   \n",
       "6       [高铁, 公交, 城市, 郑州, 洛阳, 线路, 发展, gps, 安全可靠, 正品]   \n",
       "7         [洛阳, 旅游, 河南, 白云山, 宜阳, 活动, 河洛, 文化, 景区, 大鼓]   \n",
       "8        [少林寺, 佛教, 中国, 白马寺, 嵩山, 建筑, 祖庭, 禅宗, 寺院, 印度]   \n",
       "9          [年票, 景区, 门票, 旅游, 游客, 洛阳, 活动, 免费, 续费, 暂停]   \n",
       "10       [景区, 开园, 游客, 大峡谷, 竹海, 火灾, 疫情, 风景区, 陆续, 洛阳]   \n",
       "11       [博物馆, 三彩, 洛阳, 考古, 文物, 艺术, 遗址, 二里头, 展示, 展厅]   \n",
       "12     [菩萨, 江南, 大福, 花果山, 先寺, 洛阳, 金黄, 烤肉, 洛阳纸贵, 谭处端]   \n",
       "13        [增长, 游客, 收入, 接待, 万人次, 旅游, 亿元, 五一, 万元, 夜游]   \n",
       "14         [旅客, 客流, 郑州, 发送, 高峰, 列车, 出行, 假期, 铁路, 高铁]   \n",
       "15       [景区, 旅游, 等级, 评定, 质量, 4a, 度假区, 公示, 国家, 河南省]   \n",
       "\n",
       "                                  Representative_Docs  \n",
       "0   [洛阳 跻身 国内 热门 长线 目的地 全国 前十 洛阳 出圈 妈妈 旅游网 发布 中秋 长...  \n",
       "1   [要说 旅行 关心 洛阳 来说 洛阳 周末 洛阳 假期 洛阳 好玩 夏天 洛阳 避暑 几个 ...  \n",
       "2   [洛阳 成为 首批 国家 文化 旅游 消费 示范 城市 近日 国家 文旅部 发布 国家 文旅...  \n",
       "3   [河南 文旅 大会 月底 举办 省政府 新闻办 新闻 发布会 获悉 全省 文旅文创 发展 大...  \n",
       "4   [旅行 洛阳 龙门石窟 中国 石刻 艺术 宝库 现为 世界 文化遗产 全国 重点 文物保护 ...  \n",
       "5   [超全 安阳 旅游 攻略 安阳 美食 大全 安阳 简称 这座 七朝 古都 盘踞 河南省 北端...  \n",
       "6   [文明 洛阳 洛阳 公交线路 取消 洛阳市 公交 集团 相关 负责人 表示 自即日起 古都 ...  \n",
       "7   [河图 报道 第九届 河洛 大鼓 曲艺 节在 洛邑 古城 开幕 演出 现场 伊洛 碧波 起舞...  \n",
       "8   [豫见 美景 少林寺 位于 河南省 郑州市 登封市 嵩山 乳峰 坐落于 嵩山 腹地 少室 茂...  \n",
       "9   [洛阳 日至 洛阳 旅游 年票 服务 暂停 办理 洛阳 旅游 年票 机房 系统维护 暂停 服...  \n",
       "10  [河南 多家 景区 陆续 发布 开园 公告 台风 杜苏芮 强度 逐渐 减弱 河南 景区 陆续...  \n",
       "11  [博物馆 之旅 隋唐 大运河 文化 博物馆 洛阳 博物馆 永宁寺 特展 珍宝馆 三彩 曹魏 ...  \n",
       "12  [听听 古诗 熏陶 打卡 孩子 自我 学习 王安石 泊船 瓜洲 京口 瓜洲 一水间 钟山 数...  \n",
       "13  [洛阳 身边 十一 洛阳 接待 游客 万人次 全市 接待 境内外 旅游者 万人次 同比 增长...  \n",
       "14  [端午 假期 第一天 郑州 公路 铁路 迎来 客流 高峰 今天 端午 假期 第一天 郑州 铁...  \n",
       "15  [河南省旅游局 日起 官方网站 公示 批准 国家 4A 旅游 景区 名单 包含 景区 公示 ...  "
      ]
     },
     "execution_count": 8,
     "metadata": {},
     "output_type": "execute_result"
    }
   ],
   "source": [
    "# 创建模型，跑出来的结果可能和我的不一样\n",
    "topic_model = BERTopic(\n",
    "  embedding_model=embedding_model,\n",
    "  min_topic_size=10\n",
    ")\n",
    "\n",
    "# 训练模型\n",
    "topic_model.fit_transform(docs, embeddings=embeddings)\n",
    "\n",
    "# 获取聚类结果\n",
    "topic_info = topic_model.get_topic_info()\n",
    "topic_info"
   ]
  },
  {
   "cell_type": "markdown",
   "metadata": {},
   "source": [
    "# 可视化"
   ]
  },
  {
   "cell_type": "code",
   "execution_count": 9,
   "metadata": {},
   "outputs": [
    {
     "data": {
      "application/vnd.plotly.v1+json": {
       "config": {
        "plotlyServerURL": "https://plot.ly"
       },
       "data": [
        {
         "marker": {
          "color": "#D55E00"
         },
         "orientation": "h",
         "type": "bar",
         "x": [
          0.017161199905979255,
          0.01775980296156552,
          0.019045792422913894,
          0.01942328655988321,
          0.029082105663477867
         ],
         "xaxis": "x",
         "y": [
          "老君山  ",
          "旅行  ",
          "景区  ",
          "旅游  ",
          "洛阳  "
         ],
         "yaxis": "y"
        },
        {
         "marker": {
          "color": "#0072B2"
         },
         "orientation": "h",
         "type": "bar",
         "x": [
          0.027986253377289737,
          0.02920930331376057,
          0.03677550209254668,
          0.03972177413200023,
          0.06994650530822213
         ],
         "xaxis": "x2",
         "y": [
          "项目  ",
          "城市  ",
          "洛阳  ",
          "旅游  ",
          "文化  "
         ],
         "yaxis": "y2"
        },
        {
         "marker": {
          "color": "#CC79A7"
         },
         "orientation": "h",
         "type": "bar",
         "x": [
          0.024082258731192786,
          0.02445903876722229,
          0.026671099982774435,
          0.027235530499375885,
          0.03512405317206602
         ],
         "xaxis": "x3",
         "y": [
          "洛阳  ",
          "服务  ",
          "发展  ",
          "旅游  ",
          "工作  "
         ],
         "yaxis": "y3"
        },
        {
         "marker": {
          "color": "#E69F00"
         },
         "orientation": "h",
         "type": "bar",
         "x": [
          0.04699661797260037,
          0.05690047636014984,
          0.05693359247220396,
          0.06880897402486501,
          0.08597051409396725
         ],
         "xaxis": "x4",
         "y": [
          "世界  ",
          "中国  ",
          "艺术  ",
          "龙门石窟  ",
          "石窟  "
         ],
         "yaxis": "y4"
        },
        {
         "marker": {
          "color": "#56B4E9"
         },
         "orientation": "h",
         "type": "bar",
         "x": [
          0.024165951429007734,
          0.024903019527265487,
          0.025338486474837586,
          0.028646705491323827,
          0.030416290087243163
         ],
         "xaxis": "x5",
         "y": [
          "遗址  ",
          "洛阳  ",
          "安阳  ",
          "历史  ",
          "中国  "
         ],
         "yaxis": "y5"
        },
        {
         "marker": {
          "color": "#009E73"
         },
         "orientation": "h",
         "type": "bar",
         "x": [
          0.032553402285330546,
          0.035525662539669274,
          0.036359075406281985,
          0.03835827963221847,
          0.04032863321215516
         ],
         "xaxis": "x6",
         "y": [
          "洛阳  ",
          "郑州  ",
          "城市  ",
          "公交  ",
          "高铁  "
         ],
         "yaxis": "y6"
        },
        {
         "marker": {
          "color": "#F0E442"
         },
         "orientation": "h",
         "type": "bar",
         "x": [
          0.02972639578051239,
          0.034164961689922925,
          0.03562224613551629,
          0.03903100370167794,
          0.054191438558981564
         ],
         "xaxis": "x7",
         "y": [
          "宜阳  ",
          "白云山  ",
          "河南  ",
          "旅游  ",
          "洛阳  "
         ],
         "yaxis": "y7"
        },
        {
         "marker": {
          "color": "#D55E00"
         },
         "orientation": "h",
         "type": "bar",
         "x": [
          0.03347640172941492,
          0.0337517228627908,
          0.03564309915533819,
          0.050351687290877085,
          0.05815560417999926
         ],
         "xaxis": "x8",
         "y": [
          "嵩山  ",
          "白马寺  ",
          "中国  ",
          "佛教  ",
          "少林寺  "
         ],
         "yaxis": "y8"
        }
       ],
       "layout": {
        "annotations": [
         {
          "font": {
           "size": 16
          },
          "showarrow": false,
          "text": "Topic 0",
          "x": 0.0875,
          "xanchor": "center",
          "xref": "paper",
          "y": 1,
          "yanchor": "bottom",
          "yref": "paper"
         },
         {
          "font": {
           "size": 16
          },
          "showarrow": false,
          "text": "Topic 1",
          "x": 0.36250000000000004,
          "xanchor": "center",
          "xref": "paper",
          "y": 1,
          "yanchor": "bottom",
          "yref": "paper"
         },
         {
          "font": {
           "size": 16
          },
          "showarrow": false,
          "text": "Topic 2",
          "x": 0.6375000000000001,
          "xanchor": "center",
          "xref": "paper",
          "y": 1,
          "yanchor": "bottom",
          "yref": "paper"
         },
         {
          "font": {
           "size": 16
          },
          "showarrow": false,
          "text": "Topic 3",
          "x": 0.9125,
          "xanchor": "center",
          "xref": "paper",
          "y": 1,
          "yanchor": "bottom",
          "yref": "paper"
         },
         {
          "font": {
           "size": 16
          },
          "showarrow": false,
          "text": "Topic 4",
          "x": 0.0875,
          "xanchor": "center",
          "xref": "paper",
          "y": 0.4,
          "yanchor": "bottom",
          "yref": "paper"
         },
         {
          "font": {
           "size": 16
          },
          "showarrow": false,
          "text": "Topic 5",
          "x": 0.36250000000000004,
          "xanchor": "center",
          "xref": "paper",
          "y": 0.4,
          "yanchor": "bottom",
          "yref": "paper"
         },
         {
          "font": {
           "size": 16
          },
          "showarrow": false,
          "text": "Topic 6",
          "x": 0.6375000000000001,
          "xanchor": "center",
          "xref": "paper",
          "y": 0.4,
          "yanchor": "bottom",
          "yref": "paper"
         },
         {
          "font": {
           "size": 16
          },
          "showarrow": false,
          "text": "Topic 7",
          "x": 0.9125,
          "xanchor": "center",
          "xref": "paper",
          "y": 0.4,
          "yanchor": "bottom",
          "yref": "paper"
         }
        ],
        "height": 500,
        "hoverlabel": {
         "bgcolor": "white",
         "font": {
          "family": "Rockwell",
          "size": 16
         }
        },
        "showlegend": false,
        "template": {
         "data": {
          "bar": [
           {
            "error_x": {
             "color": "#2a3f5f"
            },
            "error_y": {
             "color": "#2a3f5f"
            },
            "marker": {
             "line": {
              "color": "white",
              "width": 0.5
             },
             "pattern": {
              "fillmode": "overlay",
              "size": 10,
              "solidity": 0.2
             }
            },
            "type": "bar"
           }
          ],
          "barpolar": [
           {
            "marker": {
             "line": {
              "color": "white",
              "width": 0.5
             },
             "pattern": {
              "fillmode": "overlay",
              "size": 10,
              "solidity": 0.2
             }
            },
            "type": "barpolar"
           }
          ],
          "carpet": [
           {
            "aaxis": {
             "endlinecolor": "#2a3f5f",
             "gridcolor": "#C8D4E3",
             "linecolor": "#C8D4E3",
             "minorgridcolor": "#C8D4E3",
             "startlinecolor": "#2a3f5f"
            },
            "baxis": {
             "endlinecolor": "#2a3f5f",
             "gridcolor": "#C8D4E3",
             "linecolor": "#C8D4E3",
             "minorgridcolor": "#C8D4E3",
             "startlinecolor": "#2a3f5f"
            },
            "type": "carpet"
           }
          ],
          "choropleth": [
           {
            "colorbar": {
             "outlinewidth": 0,
             "ticks": ""
            },
            "type": "choropleth"
           }
          ],
          "contour": [
           {
            "colorbar": {
             "outlinewidth": 0,
             "ticks": ""
            },
            "colorscale": [
             [
              0,
              "#0d0887"
             ],
             [
              0.1111111111111111,
              "#46039f"
             ],
             [
              0.2222222222222222,
              "#7201a8"
             ],
             [
              0.3333333333333333,
              "#9c179e"
             ],
             [
              0.4444444444444444,
              "#bd3786"
             ],
             [
              0.5555555555555556,
              "#d8576b"
             ],
             [
              0.6666666666666666,
              "#ed7953"
             ],
             [
              0.7777777777777778,
              "#fb9f3a"
             ],
             [
              0.8888888888888888,
              "#fdca26"
             ],
             [
              1,
              "#f0f921"
             ]
            ],
            "type": "contour"
           }
          ],
          "contourcarpet": [
           {
            "colorbar": {
             "outlinewidth": 0,
             "ticks": ""
            },
            "type": "contourcarpet"
           }
          ],
          "heatmap": [
           {
            "colorbar": {
             "outlinewidth": 0,
             "ticks": ""
            },
            "colorscale": [
             [
              0,
              "#0d0887"
             ],
             [
              0.1111111111111111,
              "#46039f"
             ],
             [
              0.2222222222222222,
              "#7201a8"
             ],
             [
              0.3333333333333333,
              "#9c179e"
             ],
             [
              0.4444444444444444,
              "#bd3786"
             ],
             [
              0.5555555555555556,
              "#d8576b"
             ],
             [
              0.6666666666666666,
              "#ed7953"
             ],
             [
              0.7777777777777778,
              "#fb9f3a"
             ],
             [
              0.8888888888888888,
              "#fdca26"
             ],
             [
              1,
              "#f0f921"
             ]
            ],
            "type": "heatmap"
           }
          ],
          "heatmapgl": [
           {
            "colorbar": {
             "outlinewidth": 0,
             "ticks": ""
            },
            "colorscale": [
             [
              0,
              "#0d0887"
             ],
             [
              0.1111111111111111,
              "#46039f"
             ],
             [
              0.2222222222222222,
              "#7201a8"
             ],
             [
              0.3333333333333333,
              "#9c179e"
             ],
             [
              0.4444444444444444,
              "#bd3786"
             ],
             [
              0.5555555555555556,
              "#d8576b"
             ],
             [
              0.6666666666666666,
              "#ed7953"
             ],
             [
              0.7777777777777778,
              "#fb9f3a"
             ],
             [
              0.8888888888888888,
              "#fdca26"
             ],
             [
              1,
              "#f0f921"
             ]
            ],
            "type": "heatmapgl"
           }
          ],
          "histogram": [
           {
            "marker": {
             "pattern": {
              "fillmode": "overlay",
              "size": 10,
              "solidity": 0.2
             }
            },
            "type": "histogram"
           }
          ],
          "histogram2d": [
           {
            "colorbar": {
             "outlinewidth": 0,
             "ticks": ""
            },
            "colorscale": [
             [
              0,
              "#0d0887"
             ],
             [
              0.1111111111111111,
              "#46039f"
             ],
             [
              0.2222222222222222,
              "#7201a8"
             ],
             [
              0.3333333333333333,
              "#9c179e"
             ],
             [
              0.4444444444444444,
              "#bd3786"
             ],
             [
              0.5555555555555556,
              "#d8576b"
             ],
             [
              0.6666666666666666,
              "#ed7953"
             ],
             [
              0.7777777777777778,
              "#fb9f3a"
             ],
             [
              0.8888888888888888,
              "#fdca26"
             ],
             [
              1,
              "#f0f921"
             ]
            ],
            "type": "histogram2d"
           }
          ],
          "histogram2dcontour": [
           {
            "colorbar": {
             "outlinewidth": 0,
             "ticks": ""
            },
            "colorscale": [
             [
              0,
              "#0d0887"
             ],
             [
              0.1111111111111111,
              "#46039f"
             ],
             [
              0.2222222222222222,
              "#7201a8"
             ],
             [
              0.3333333333333333,
              "#9c179e"
             ],
             [
              0.4444444444444444,
              "#bd3786"
             ],
             [
              0.5555555555555556,
              "#d8576b"
             ],
             [
              0.6666666666666666,
              "#ed7953"
             ],
             [
              0.7777777777777778,
              "#fb9f3a"
             ],
             [
              0.8888888888888888,
              "#fdca26"
             ],
             [
              1,
              "#f0f921"
             ]
            ],
            "type": "histogram2dcontour"
           }
          ],
          "mesh3d": [
           {
            "colorbar": {
             "outlinewidth": 0,
             "ticks": ""
            },
            "type": "mesh3d"
           }
          ],
          "parcoords": [
           {
            "line": {
             "colorbar": {
              "outlinewidth": 0,
              "ticks": ""
             }
            },
            "type": "parcoords"
           }
          ],
          "pie": [
           {
            "automargin": true,
            "type": "pie"
           }
          ],
          "scatter": [
           {
            "fillpattern": {
             "fillmode": "overlay",
             "size": 10,
             "solidity": 0.2
            },
            "type": "scatter"
           }
          ],
          "scatter3d": [
           {
            "line": {
             "colorbar": {
              "outlinewidth": 0,
              "ticks": ""
             }
            },
            "marker": {
             "colorbar": {
              "outlinewidth": 0,
              "ticks": ""
             }
            },
            "type": "scatter3d"
           }
          ],
          "scattercarpet": [
           {
            "marker": {
             "colorbar": {
              "outlinewidth": 0,
              "ticks": ""
             }
            },
            "type": "scattercarpet"
           }
          ],
          "scattergeo": [
           {
            "marker": {
             "colorbar": {
              "outlinewidth": 0,
              "ticks": ""
             }
            },
            "type": "scattergeo"
           }
          ],
          "scattergl": [
           {
            "marker": {
             "colorbar": {
              "outlinewidth": 0,
              "ticks": ""
             }
            },
            "type": "scattergl"
           }
          ],
          "scattermapbox": [
           {
            "marker": {
             "colorbar": {
              "outlinewidth": 0,
              "ticks": ""
             }
            },
            "type": "scattermapbox"
           }
          ],
          "scatterpolar": [
           {
            "marker": {
             "colorbar": {
              "outlinewidth": 0,
              "ticks": ""
             }
            },
            "type": "scatterpolar"
           }
          ],
          "scatterpolargl": [
           {
            "marker": {
             "colorbar": {
              "outlinewidth": 0,
              "ticks": ""
             }
            },
            "type": "scatterpolargl"
           }
          ],
          "scatterternary": [
           {
            "marker": {
             "colorbar": {
              "outlinewidth": 0,
              "ticks": ""
             }
            },
            "type": "scatterternary"
           }
          ],
          "surface": [
           {
            "colorbar": {
             "outlinewidth": 0,
             "ticks": ""
            },
            "colorscale": [
             [
              0,
              "#0d0887"
             ],
             [
              0.1111111111111111,
              "#46039f"
             ],
             [
              0.2222222222222222,
              "#7201a8"
             ],
             [
              0.3333333333333333,
              "#9c179e"
             ],
             [
              0.4444444444444444,
              "#bd3786"
             ],
             [
              0.5555555555555556,
              "#d8576b"
             ],
             [
              0.6666666666666666,
              "#ed7953"
             ],
             [
              0.7777777777777778,
              "#fb9f3a"
             ],
             [
              0.8888888888888888,
              "#fdca26"
             ],
             [
              1,
              "#f0f921"
             ]
            ],
            "type": "surface"
           }
          ],
          "table": [
           {
            "cells": {
             "fill": {
              "color": "#EBF0F8"
             },
             "line": {
              "color": "white"
             }
            },
            "header": {
             "fill": {
              "color": "#C8D4E3"
             },
             "line": {
              "color": "white"
             }
            },
            "type": "table"
           }
          ]
         },
         "layout": {
          "annotationdefaults": {
           "arrowcolor": "#2a3f5f",
           "arrowhead": 0,
           "arrowwidth": 1
          },
          "autotypenumbers": "strict",
          "coloraxis": {
           "colorbar": {
            "outlinewidth": 0,
            "ticks": ""
           }
          },
          "colorscale": {
           "diverging": [
            [
             0,
             "#8e0152"
            ],
            [
             0.1,
             "#c51b7d"
            ],
            [
             0.2,
             "#de77ae"
            ],
            [
             0.3,
             "#f1b6da"
            ],
            [
             0.4,
             "#fde0ef"
            ],
            [
             0.5,
             "#f7f7f7"
            ],
            [
             0.6,
             "#e6f5d0"
            ],
            [
             0.7,
             "#b8e186"
            ],
            [
             0.8,
             "#7fbc41"
            ],
            [
             0.9,
             "#4d9221"
            ],
            [
             1,
             "#276419"
            ]
           ],
           "sequential": [
            [
             0,
             "#0d0887"
            ],
            [
             0.1111111111111111,
             "#46039f"
            ],
            [
             0.2222222222222222,
             "#7201a8"
            ],
            [
             0.3333333333333333,
             "#9c179e"
            ],
            [
             0.4444444444444444,
             "#bd3786"
            ],
            [
             0.5555555555555556,
             "#d8576b"
            ],
            [
             0.6666666666666666,
             "#ed7953"
            ],
            [
             0.7777777777777778,
             "#fb9f3a"
            ],
            [
             0.8888888888888888,
             "#fdca26"
            ],
            [
             1,
             "#f0f921"
            ]
           ],
           "sequentialminus": [
            [
             0,
             "#0d0887"
            ],
            [
             0.1111111111111111,
             "#46039f"
            ],
            [
             0.2222222222222222,
             "#7201a8"
            ],
            [
             0.3333333333333333,
             "#9c179e"
            ],
            [
             0.4444444444444444,
             "#bd3786"
            ],
            [
             0.5555555555555556,
             "#d8576b"
            ],
            [
             0.6666666666666666,
             "#ed7953"
            ],
            [
             0.7777777777777778,
             "#fb9f3a"
            ],
            [
             0.8888888888888888,
             "#fdca26"
            ],
            [
             1,
             "#f0f921"
            ]
           ]
          },
          "colorway": [
           "#636efa",
           "#EF553B",
           "#00cc96",
           "#ab63fa",
           "#FFA15A",
           "#19d3f3",
           "#FF6692",
           "#B6E880",
           "#FF97FF",
           "#FECB52"
          ],
          "font": {
           "color": "#2a3f5f"
          },
          "geo": {
           "bgcolor": "white",
           "lakecolor": "white",
           "landcolor": "white",
           "showlakes": true,
           "showland": true,
           "subunitcolor": "#C8D4E3"
          },
          "hoverlabel": {
           "align": "left"
          },
          "hovermode": "closest",
          "mapbox": {
           "style": "light"
          },
          "paper_bgcolor": "white",
          "plot_bgcolor": "white",
          "polar": {
           "angularaxis": {
            "gridcolor": "#EBF0F8",
            "linecolor": "#EBF0F8",
            "ticks": ""
           },
           "bgcolor": "white",
           "radialaxis": {
            "gridcolor": "#EBF0F8",
            "linecolor": "#EBF0F8",
            "ticks": ""
           }
          },
          "scene": {
           "xaxis": {
            "backgroundcolor": "white",
            "gridcolor": "#DFE8F3",
            "gridwidth": 2,
            "linecolor": "#EBF0F8",
            "showbackground": true,
            "ticks": "",
            "zerolinecolor": "#EBF0F8"
           },
           "yaxis": {
            "backgroundcolor": "white",
            "gridcolor": "#DFE8F3",
            "gridwidth": 2,
            "linecolor": "#EBF0F8",
            "showbackground": true,
            "ticks": "",
            "zerolinecolor": "#EBF0F8"
           },
           "zaxis": {
            "backgroundcolor": "white",
            "gridcolor": "#DFE8F3",
            "gridwidth": 2,
            "linecolor": "#EBF0F8",
            "showbackground": true,
            "ticks": "",
            "zerolinecolor": "#EBF0F8"
           }
          },
          "shapedefaults": {
           "line": {
            "color": "#2a3f5f"
           }
          },
          "ternary": {
           "aaxis": {
            "gridcolor": "#DFE8F3",
            "linecolor": "#A2B1C6",
            "ticks": ""
           },
           "baxis": {
            "gridcolor": "#DFE8F3",
            "linecolor": "#A2B1C6",
            "ticks": ""
           },
           "bgcolor": "white",
           "caxis": {
            "gridcolor": "#DFE8F3",
            "linecolor": "#A2B1C6",
            "ticks": ""
           }
          },
          "title": {
           "x": 0.05
          },
          "xaxis": {
           "automargin": true,
           "gridcolor": "#EBF0F8",
           "linecolor": "#EBF0F8",
           "ticks": "",
           "title": {
            "standoff": 15
           },
           "zerolinecolor": "#EBF0F8",
           "zerolinewidth": 2
          },
          "yaxis": {
           "automargin": true,
           "gridcolor": "#EBF0F8",
           "linecolor": "#EBF0F8",
           "ticks": "",
           "title": {
            "standoff": 15
           },
           "zerolinecolor": "#EBF0F8",
           "zerolinewidth": 2
          }
         }
        },
        "title": {
         "font": {
          "color": "Black",
          "size": 22
         },
         "text": "Topic Word Scores",
         "x": 0.5,
         "xanchor": "center",
         "yanchor": "top"
        },
        "width": 1000,
        "xaxis": {
         "anchor": "y",
         "domain": [
          0,
          0.175
         ],
         "showgrid": true
        },
        "xaxis2": {
         "anchor": "y2",
         "domain": [
          0.275,
          0.45
         ],
         "showgrid": true
        },
        "xaxis3": {
         "anchor": "y3",
         "domain": [
          0.55,
          0.7250000000000001
         ],
         "showgrid": true
        },
        "xaxis4": {
         "anchor": "y4",
         "domain": [
          0.825,
          1
         ],
         "showgrid": true
        },
        "xaxis5": {
         "anchor": "y5",
         "domain": [
          0,
          0.175
         ],
         "showgrid": true
        },
        "xaxis6": {
         "anchor": "y6",
         "domain": [
          0.275,
          0.45
         ],
         "showgrid": true
        },
        "xaxis7": {
         "anchor": "y7",
         "domain": [
          0.55,
          0.7250000000000001
         ],
         "showgrid": true
        },
        "xaxis8": {
         "anchor": "y8",
         "domain": [
          0.825,
          1
         ],
         "showgrid": true
        },
        "yaxis": {
         "anchor": "x",
         "domain": [
          0.6000000000000001,
          1
         ],
         "showgrid": true
        },
        "yaxis2": {
         "anchor": "x2",
         "domain": [
          0.6000000000000001,
          1
         ],
         "showgrid": true
        },
        "yaxis3": {
         "anchor": "x3",
         "domain": [
          0.6000000000000001,
          1
         ],
         "showgrid": true
        },
        "yaxis4": {
         "anchor": "x4",
         "domain": [
          0.6000000000000001,
          1
         ],
         "showgrid": true
        },
        "yaxis5": {
         "anchor": "x5",
         "domain": [
          0,
          0.4
         ],
         "showgrid": true
        },
        "yaxis6": {
         "anchor": "x6",
         "domain": [
          0,
          0.4
         ],
         "showgrid": true
        },
        "yaxis7": {
         "anchor": "x7",
         "domain": [
          0,
          0.4
         ],
         "showgrid": true
        },
        "yaxis8": {
         "anchor": "x8",
         "domain": [
          0,
          0.4
         ],
         "showgrid": true
        }
       }
      }
     },
     "metadata": {},
     "output_type": "display_data"
    }
   ],
   "source": [
    "# 可视化主题词\n",
    "topic_model.visualize_barchart()"
   ]
  },
  {
   "cell_type": "code",
   "execution_count": 10,
   "metadata": {},
   "outputs": [
    {
     "data": {
      "application/vnd.plotly.v1+json": {
       "config": {
        "plotlyServerURL": "https://plot.ly"
       },
       "data": [
        {
         "customdata": [
          [
           0,
           "洛阳 | 旅游 | 景区 | 旅行 | 老君山",
           136
          ],
          [
           1,
           "文化 | 旅游 | 洛阳 | 城市 | 项目",
           78
          ],
          [
           2,
           "工作 | 旅游 | 发展 | 服务 | 洛阳",
           63
          ],
          [
           3,
           "石窟 | 龙门石窟 | 艺术 | 中国 | 世界",
           61
          ],
          [
           4,
           "中国 | 历史 | 安阳 | 洛阳 | 遗址",
           53
          ],
          [
           5,
           "高铁 | 公交 | 城市 | 郑州 | 洛阳",
           49
          ],
          [
           6,
           "洛阳 | 旅游 | 河南 | 白云山 | 宜阳",
           44
          ],
          [
           7,
           "少林寺 | 佛教 | 中国 | 白马寺 | 嵩山",
           34
          ],
          [
           8,
           "年票 | 景区 | 门票 | 旅游 | 游客",
           33
          ],
          [
           9,
           "景区 | 开园 | 游客 | 大峡谷 | 竹海",
           30
          ],
          [
           10,
           "博物馆 | 三彩 | 洛阳 | 考古 | 文物",
           29
          ],
          [
           11,
           "菩萨 | 江南 | 大福 | 花果山 | 先寺",
           26
          ],
          [
           12,
           "增长 | 游客 | 收入 | 接待 | 万人次",
           24
          ],
          [
           13,
           "旅客 | 客流 | 郑州 | 发送 | 高峰",
           19
          ],
          [
           14,
           "景区 | 旅游 | 等级 | 评定 | 质量",
           16
          ]
         ],
         "hovertemplate": "<b>Topic %{customdata[0]}</b><br>%{customdata[1]}<br>Size: %{customdata[2]}",
         "legendgroup": "",
         "marker": {
          "color": "#B0BEC5",
          "line": {
           "color": "DarkSlateGrey",
           "width": 2
          },
          "size": [
           136,
           78,
           63,
           61,
           53,
           49,
           44,
           34,
           33,
           30,
           29,
           26,
           24,
           19,
           16
          ],
          "sizemode": "area",
          "sizeref": 0.085,
          "symbol": "circle"
         },
         "mode": "markers",
         "name": "",
         "orientation": "v",
         "showlegend": false,
         "type": "scatter",
         "x": [
          10.432758331298828,
          7.697802543640137,
          7.4625139236450195,
          -3.897562265396118,
          -2.7798209190368652,
          -2.414649486541748,
          7.0230937004089355,
          -3.514089584350586,
          9.817788124084473,
          9.964860916137695,
          -4.241252899169922,
          6.80022668838501,
          -1.6233770847320557,
          -1.792145848274231,
          10.221916198730469
         ],
         "xaxis": "x",
         "y": [
          -17.40129280090332,
          11.982589721679688,
          11.747318267822266,
          -0.3749431073665619,
          0.13727600872516632,
          0.3116005063056946,
          -6.573272705078125,
          -0.23109985888004303,
          -16.747413635253906,
          -17.187829971313477,
          -0.6970936059951782,
          -6.796104907989502,
          0.8033974170684814,
          0.498607873916626,
          -16.565977096557617
         ],
         "yaxis": "y"
        }
       ],
       "layout": {
        "annotations": [
         {
          "showarrow": false,
          "text": "D1",
          "x": -4.8774408340454105,
          "y": -3.1157542705535883,
          "yshift": 10
         },
         {
          "showarrow": false,
          "text": "D2",
          "x": 3.560115623474121,
          "xshift": 10,
          "y": 13.779978179931641
         }
        ],
        "height": 650,
        "hoverlabel": {
         "bgcolor": "white",
         "font": {
          "family": "Rockwell",
          "size": 16
         }
        },
        "legend": {
         "itemsizing": "constant",
         "tracegroupgap": 0
        },
        "margin": {
         "t": 60
        },
        "shapes": [
         {
          "line": {
           "color": "#CFD8DC",
           "width": 2
          },
          "type": "line",
          "x0": 3.560115623474121,
          "x1": 3.560115623474121,
          "y0": -20.011486721038818,
          "y1": 13.779978179931641
         },
         {
          "line": {
           "color": "#9E9E9E",
           "width": 2
          },
          "type": "line",
          "x0": -4.8774408340454105,
          "x1": 11.997672080993652,
          "y0": -3.1157542705535883,
          "y1": -3.1157542705535883
         }
        ],
        "sliders": [
         {
          "active": 0,
          "pad": {
           "t": 50
          },
          "steps": [
           {
            "args": [
             {
              "marker.color": [
               [
                "red",
                "#B0BEC5",
                "#B0BEC5",
                "#B0BEC5",
                "#B0BEC5",
                "#B0BEC5",
                "#B0BEC5",
                "#B0BEC5",
                "#B0BEC5",
                "#B0BEC5",
                "#B0BEC5",
                "#B0BEC5",
                "#B0BEC5",
                "#B0BEC5",
                "#B0BEC5"
               ]
              ]
             }
            ],
            "label": "Topic 0",
            "method": "update"
           },
           {
            "args": [
             {
              "marker.color": [
               [
                "#B0BEC5",
                "red",
                "#B0BEC5",
                "#B0BEC5",
                "#B0BEC5",
                "#B0BEC5",
                "#B0BEC5",
                "#B0BEC5",
                "#B0BEC5",
                "#B0BEC5",
                "#B0BEC5",
                "#B0BEC5",
                "#B0BEC5",
                "#B0BEC5",
                "#B0BEC5"
               ]
              ]
             }
            ],
            "label": "Topic 1",
            "method": "update"
           },
           {
            "args": [
             {
              "marker.color": [
               [
                "#B0BEC5",
                "#B0BEC5",
                "red",
                "#B0BEC5",
                "#B0BEC5",
                "#B0BEC5",
                "#B0BEC5",
                "#B0BEC5",
                "#B0BEC5",
                "#B0BEC5",
                "#B0BEC5",
                "#B0BEC5",
                "#B0BEC5",
                "#B0BEC5",
                "#B0BEC5"
               ]
              ]
             }
            ],
            "label": "Topic 2",
            "method": "update"
           },
           {
            "args": [
             {
              "marker.color": [
               [
                "#B0BEC5",
                "#B0BEC5",
                "#B0BEC5",
                "red",
                "#B0BEC5",
                "#B0BEC5",
                "#B0BEC5",
                "#B0BEC5",
                "#B0BEC5",
                "#B0BEC5",
                "#B0BEC5",
                "#B0BEC5",
                "#B0BEC5",
                "#B0BEC5",
                "#B0BEC5"
               ]
              ]
             }
            ],
            "label": "Topic 3",
            "method": "update"
           },
           {
            "args": [
             {
              "marker.color": [
               [
                "#B0BEC5",
                "#B0BEC5",
                "#B0BEC5",
                "#B0BEC5",
                "red",
                "#B0BEC5",
                "#B0BEC5",
                "#B0BEC5",
                "#B0BEC5",
                "#B0BEC5",
                "#B0BEC5",
                "#B0BEC5",
                "#B0BEC5",
                "#B0BEC5",
                "#B0BEC5"
               ]
              ]
             }
            ],
            "label": "Topic 4",
            "method": "update"
           },
           {
            "args": [
             {
              "marker.color": [
               [
                "#B0BEC5",
                "#B0BEC5",
                "#B0BEC5",
                "#B0BEC5",
                "#B0BEC5",
                "red",
                "#B0BEC5",
                "#B0BEC5",
                "#B0BEC5",
                "#B0BEC5",
                "#B0BEC5",
                "#B0BEC5",
                "#B0BEC5",
                "#B0BEC5",
                "#B0BEC5"
               ]
              ]
             }
            ],
            "label": "Topic 5",
            "method": "update"
           },
           {
            "args": [
             {
              "marker.color": [
               [
                "#B0BEC5",
                "#B0BEC5",
                "#B0BEC5",
                "#B0BEC5",
                "#B0BEC5",
                "#B0BEC5",
                "red",
                "#B0BEC5",
                "#B0BEC5",
                "#B0BEC5",
                "#B0BEC5",
                "#B0BEC5",
                "#B0BEC5",
                "#B0BEC5",
                "#B0BEC5"
               ]
              ]
             }
            ],
            "label": "Topic 6",
            "method": "update"
           },
           {
            "args": [
             {
              "marker.color": [
               [
                "#B0BEC5",
                "#B0BEC5",
                "#B0BEC5",
                "#B0BEC5",
                "#B0BEC5",
                "#B0BEC5",
                "#B0BEC5",
                "red",
                "#B0BEC5",
                "#B0BEC5",
                "#B0BEC5",
                "#B0BEC5",
                "#B0BEC5",
                "#B0BEC5",
                "#B0BEC5"
               ]
              ]
             }
            ],
            "label": "Topic 7",
            "method": "update"
           },
           {
            "args": [
             {
              "marker.color": [
               [
                "#B0BEC5",
                "#B0BEC5",
                "#B0BEC5",
                "#B0BEC5",
                "#B0BEC5",
                "#B0BEC5",
                "#B0BEC5",
                "#B0BEC5",
                "red",
                "#B0BEC5",
                "#B0BEC5",
                "#B0BEC5",
                "#B0BEC5",
                "#B0BEC5",
                "#B0BEC5"
               ]
              ]
             }
            ],
            "label": "Topic 8",
            "method": "update"
           },
           {
            "args": [
             {
              "marker.color": [
               [
                "#B0BEC5",
                "#B0BEC5",
                "#B0BEC5",
                "#B0BEC5",
                "#B0BEC5",
                "#B0BEC5",
                "#B0BEC5",
                "#B0BEC5",
                "#B0BEC5",
                "red",
                "#B0BEC5",
                "#B0BEC5",
                "#B0BEC5",
                "#B0BEC5",
                "#B0BEC5"
               ]
              ]
             }
            ],
            "label": "Topic 9",
            "method": "update"
           },
           {
            "args": [
             {
              "marker.color": [
               [
                "#B0BEC5",
                "#B0BEC5",
                "#B0BEC5",
                "#B0BEC5",
                "#B0BEC5",
                "#B0BEC5",
                "#B0BEC5",
                "#B0BEC5",
                "#B0BEC5",
                "#B0BEC5",
                "red",
                "#B0BEC5",
                "#B0BEC5",
                "#B0BEC5",
                "#B0BEC5"
               ]
              ]
             }
            ],
            "label": "Topic 10",
            "method": "update"
           },
           {
            "args": [
             {
              "marker.color": [
               [
                "#B0BEC5",
                "#B0BEC5",
                "#B0BEC5",
                "#B0BEC5",
                "#B0BEC5",
                "#B0BEC5",
                "#B0BEC5",
                "#B0BEC5",
                "#B0BEC5",
                "#B0BEC5",
                "#B0BEC5",
                "red",
                "#B0BEC5",
                "#B0BEC5",
                "#B0BEC5"
               ]
              ]
             }
            ],
            "label": "Topic 11",
            "method": "update"
           },
           {
            "args": [
             {
              "marker.color": [
               [
                "#B0BEC5",
                "#B0BEC5",
                "#B0BEC5",
                "#B0BEC5",
                "#B0BEC5",
                "#B0BEC5",
                "#B0BEC5",
                "#B0BEC5",
                "#B0BEC5",
                "#B0BEC5",
                "#B0BEC5",
                "#B0BEC5",
                "red",
                "#B0BEC5",
                "#B0BEC5"
               ]
              ]
             }
            ],
            "label": "Topic 12",
            "method": "update"
           },
           {
            "args": [
             {
              "marker.color": [
               [
                "#B0BEC5",
                "#B0BEC5",
                "#B0BEC5",
                "#B0BEC5",
                "#B0BEC5",
                "#B0BEC5",
                "#B0BEC5",
                "#B0BEC5",
                "#B0BEC5",
                "#B0BEC5",
                "#B0BEC5",
                "#B0BEC5",
                "#B0BEC5",
                "red",
                "#B0BEC5"
               ]
              ]
             }
            ],
            "label": "Topic 13",
            "method": "update"
           },
           {
            "args": [
             {
              "marker.color": [
               [
                "#B0BEC5",
                "#B0BEC5",
                "#B0BEC5",
                "#B0BEC5",
                "#B0BEC5",
                "#B0BEC5",
                "#B0BEC5",
                "#B0BEC5",
                "#B0BEC5",
                "#B0BEC5",
                "#B0BEC5",
                "#B0BEC5",
                "#B0BEC5",
                "#B0BEC5",
                "red"
               ]
              ]
             }
            ],
            "label": "Topic 14",
            "method": "update"
           }
          ]
         }
        ],
        "template": {
         "data": {
          "bar": [
           {
            "error_x": {
             "color": "rgb(36,36,36)"
            },
            "error_y": {
             "color": "rgb(36,36,36)"
            },
            "marker": {
             "line": {
              "color": "white",
              "width": 0.5
             },
             "pattern": {
              "fillmode": "overlay",
              "size": 10,
              "solidity": 0.2
             }
            },
            "type": "bar"
           }
          ],
          "barpolar": [
           {
            "marker": {
             "line": {
              "color": "white",
              "width": 0.5
             },
             "pattern": {
              "fillmode": "overlay",
              "size": 10,
              "solidity": 0.2
             }
            },
            "type": "barpolar"
           }
          ],
          "carpet": [
           {
            "aaxis": {
             "endlinecolor": "rgb(36,36,36)",
             "gridcolor": "white",
             "linecolor": "white",
             "minorgridcolor": "white",
             "startlinecolor": "rgb(36,36,36)"
            },
            "baxis": {
             "endlinecolor": "rgb(36,36,36)",
             "gridcolor": "white",
             "linecolor": "white",
             "minorgridcolor": "white",
             "startlinecolor": "rgb(36,36,36)"
            },
            "type": "carpet"
           }
          ],
          "choropleth": [
           {
            "colorbar": {
             "outlinewidth": 1,
             "tickcolor": "rgb(36,36,36)",
             "ticks": "outside"
            },
            "type": "choropleth"
           }
          ],
          "contour": [
           {
            "colorbar": {
             "outlinewidth": 1,
             "tickcolor": "rgb(36,36,36)",
             "ticks": "outside"
            },
            "colorscale": [
             [
              0,
              "#440154"
             ],
             [
              0.1111111111111111,
              "#482878"
             ],
             [
              0.2222222222222222,
              "#3e4989"
             ],
             [
              0.3333333333333333,
              "#31688e"
             ],
             [
              0.4444444444444444,
              "#26828e"
             ],
             [
              0.5555555555555556,
              "#1f9e89"
             ],
             [
              0.6666666666666666,
              "#35b779"
             ],
             [
              0.7777777777777778,
              "#6ece58"
             ],
             [
              0.8888888888888888,
              "#b5de2b"
             ],
             [
              1,
              "#fde725"
             ]
            ],
            "type": "contour"
           }
          ],
          "contourcarpet": [
           {
            "colorbar": {
             "outlinewidth": 1,
             "tickcolor": "rgb(36,36,36)",
             "ticks": "outside"
            },
            "type": "contourcarpet"
           }
          ],
          "heatmap": [
           {
            "colorbar": {
             "outlinewidth": 1,
             "tickcolor": "rgb(36,36,36)",
             "ticks": "outside"
            },
            "colorscale": [
             [
              0,
              "#440154"
             ],
             [
              0.1111111111111111,
              "#482878"
             ],
             [
              0.2222222222222222,
              "#3e4989"
             ],
             [
              0.3333333333333333,
              "#31688e"
             ],
             [
              0.4444444444444444,
              "#26828e"
             ],
             [
              0.5555555555555556,
              "#1f9e89"
             ],
             [
              0.6666666666666666,
              "#35b779"
             ],
             [
              0.7777777777777778,
              "#6ece58"
             ],
             [
              0.8888888888888888,
              "#b5de2b"
             ],
             [
              1,
              "#fde725"
             ]
            ],
            "type": "heatmap"
           }
          ],
          "heatmapgl": [
           {
            "colorbar": {
             "outlinewidth": 1,
             "tickcolor": "rgb(36,36,36)",
             "ticks": "outside"
            },
            "colorscale": [
             [
              0,
              "#440154"
             ],
             [
              0.1111111111111111,
              "#482878"
             ],
             [
              0.2222222222222222,
              "#3e4989"
             ],
             [
              0.3333333333333333,
              "#31688e"
             ],
             [
              0.4444444444444444,
              "#26828e"
             ],
             [
              0.5555555555555556,
              "#1f9e89"
             ],
             [
              0.6666666666666666,
              "#35b779"
             ],
             [
              0.7777777777777778,
              "#6ece58"
             ],
             [
              0.8888888888888888,
              "#b5de2b"
             ],
             [
              1,
              "#fde725"
             ]
            ],
            "type": "heatmapgl"
           }
          ],
          "histogram": [
           {
            "marker": {
             "line": {
              "color": "white",
              "width": 0.6
             }
            },
            "type": "histogram"
           }
          ],
          "histogram2d": [
           {
            "colorbar": {
             "outlinewidth": 1,
             "tickcolor": "rgb(36,36,36)",
             "ticks": "outside"
            },
            "colorscale": [
             [
              0,
              "#440154"
             ],
             [
              0.1111111111111111,
              "#482878"
             ],
             [
              0.2222222222222222,
              "#3e4989"
             ],
             [
              0.3333333333333333,
              "#31688e"
             ],
             [
              0.4444444444444444,
              "#26828e"
             ],
             [
              0.5555555555555556,
              "#1f9e89"
             ],
             [
              0.6666666666666666,
              "#35b779"
             ],
             [
              0.7777777777777778,
              "#6ece58"
             ],
             [
              0.8888888888888888,
              "#b5de2b"
             ],
             [
              1,
              "#fde725"
             ]
            ],
            "type": "histogram2d"
           }
          ],
          "histogram2dcontour": [
           {
            "colorbar": {
             "outlinewidth": 1,
             "tickcolor": "rgb(36,36,36)",
             "ticks": "outside"
            },
            "colorscale": [
             [
              0,
              "#440154"
             ],
             [
              0.1111111111111111,
              "#482878"
             ],
             [
              0.2222222222222222,
              "#3e4989"
             ],
             [
              0.3333333333333333,
              "#31688e"
             ],
             [
              0.4444444444444444,
              "#26828e"
             ],
             [
              0.5555555555555556,
              "#1f9e89"
             ],
             [
              0.6666666666666666,
              "#35b779"
             ],
             [
              0.7777777777777778,
              "#6ece58"
             ],
             [
              0.8888888888888888,
              "#b5de2b"
             ],
             [
              1,
              "#fde725"
             ]
            ],
            "type": "histogram2dcontour"
           }
          ],
          "mesh3d": [
           {
            "colorbar": {
             "outlinewidth": 1,
             "tickcolor": "rgb(36,36,36)",
             "ticks": "outside"
            },
            "type": "mesh3d"
           }
          ],
          "parcoords": [
           {
            "line": {
             "colorbar": {
              "outlinewidth": 1,
              "tickcolor": "rgb(36,36,36)",
              "ticks": "outside"
             }
            },
            "type": "parcoords"
           }
          ],
          "pie": [
           {
            "automargin": true,
            "type": "pie"
           }
          ],
          "scatter": [
           {
            "fillpattern": {
             "fillmode": "overlay",
             "size": 10,
             "solidity": 0.2
            },
            "type": "scatter"
           }
          ],
          "scatter3d": [
           {
            "line": {
             "colorbar": {
              "outlinewidth": 1,
              "tickcolor": "rgb(36,36,36)",
              "ticks": "outside"
             }
            },
            "marker": {
             "colorbar": {
              "outlinewidth": 1,
              "tickcolor": "rgb(36,36,36)",
              "ticks": "outside"
             }
            },
            "type": "scatter3d"
           }
          ],
          "scattercarpet": [
           {
            "marker": {
             "colorbar": {
              "outlinewidth": 1,
              "tickcolor": "rgb(36,36,36)",
              "ticks": "outside"
             }
            },
            "type": "scattercarpet"
           }
          ],
          "scattergeo": [
           {
            "marker": {
             "colorbar": {
              "outlinewidth": 1,
              "tickcolor": "rgb(36,36,36)",
              "ticks": "outside"
             }
            },
            "type": "scattergeo"
           }
          ],
          "scattergl": [
           {
            "marker": {
             "colorbar": {
              "outlinewidth": 1,
              "tickcolor": "rgb(36,36,36)",
              "ticks": "outside"
             }
            },
            "type": "scattergl"
           }
          ],
          "scattermapbox": [
           {
            "marker": {
             "colorbar": {
              "outlinewidth": 1,
              "tickcolor": "rgb(36,36,36)",
              "ticks": "outside"
             }
            },
            "type": "scattermapbox"
           }
          ],
          "scatterpolar": [
           {
            "marker": {
             "colorbar": {
              "outlinewidth": 1,
              "tickcolor": "rgb(36,36,36)",
              "ticks": "outside"
             }
            },
            "type": "scatterpolar"
           }
          ],
          "scatterpolargl": [
           {
            "marker": {
             "colorbar": {
              "outlinewidth": 1,
              "tickcolor": "rgb(36,36,36)",
              "ticks": "outside"
             }
            },
            "type": "scatterpolargl"
           }
          ],
          "scatterternary": [
           {
            "marker": {
             "colorbar": {
              "outlinewidth": 1,
              "tickcolor": "rgb(36,36,36)",
              "ticks": "outside"
             }
            },
            "type": "scatterternary"
           }
          ],
          "surface": [
           {
            "colorbar": {
             "outlinewidth": 1,
             "tickcolor": "rgb(36,36,36)",
             "ticks": "outside"
            },
            "colorscale": [
             [
              0,
              "#440154"
             ],
             [
              0.1111111111111111,
              "#482878"
             ],
             [
              0.2222222222222222,
              "#3e4989"
             ],
             [
              0.3333333333333333,
              "#31688e"
             ],
             [
              0.4444444444444444,
              "#26828e"
             ],
             [
              0.5555555555555556,
              "#1f9e89"
             ],
             [
              0.6666666666666666,
              "#35b779"
             ],
             [
              0.7777777777777778,
              "#6ece58"
             ],
             [
              0.8888888888888888,
              "#b5de2b"
             ],
             [
              1,
              "#fde725"
             ]
            ],
            "type": "surface"
           }
          ],
          "table": [
           {
            "cells": {
             "fill": {
              "color": "rgb(237,237,237)"
             },
             "line": {
              "color": "white"
             }
            },
            "header": {
             "fill": {
              "color": "rgb(217,217,217)"
             },
             "line": {
              "color": "white"
             }
            },
            "type": "table"
           }
          ]
         },
         "layout": {
          "annotationdefaults": {
           "arrowhead": 0,
           "arrowwidth": 1
          },
          "autotypenumbers": "strict",
          "coloraxis": {
           "colorbar": {
            "outlinewidth": 1,
            "tickcolor": "rgb(36,36,36)",
            "ticks": "outside"
           }
          },
          "colorscale": {
           "diverging": [
            [
             0,
             "rgb(103,0,31)"
            ],
            [
             0.1,
             "rgb(178,24,43)"
            ],
            [
             0.2,
             "rgb(214,96,77)"
            ],
            [
             0.3,
             "rgb(244,165,130)"
            ],
            [
             0.4,
             "rgb(253,219,199)"
            ],
            [
             0.5,
             "rgb(247,247,247)"
            ],
            [
             0.6,
             "rgb(209,229,240)"
            ],
            [
             0.7,
             "rgb(146,197,222)"
            ],
            [
             0.8,
             "rgb(67,147,195)"
            ],
            [
             0.9,
             "rgb(33,102,172)"
            ],
            [
             1,
             "rgb(5,48,97)"
            ]
           ],
           "sequential": [
            [
             0,
             "#440154"
            ],
            [
             0.1111111111111111,
             "#482878"
            ],
            [
             0.2222222222222222,
             "#3e4989"
            ],
            [
             0.3333333333333333,
             "#31688e"
            ],
            [
             0.4444444444444444,
             "#26828e"
            ],
            [
             0.5555555555555556,
             "#1f9e89"
            ],
            [
             0.6666666666666666,
             "#35b779"
            ],
            [
             0.7777777777777778,
             "#6ece58"
            ],
            [
             0.8888888888888888,
             "#b5de2b"
            ],
            [
             1,
             "#fde725"
            ]
           ],
           "sequentialminus": [
            [
             0,
             "#440154"
            ],
            [
             0.1111111111111111,
             "#482878"
            ],
            [
             0.2222222222222222,
             "#3e4989"
            ],
            [
             0.3333333333333333,
             "#31688e"
            ],
            [
             0.4444444444444444,
             "#26828e"
            ],
            [
             0.5555555555555556,
             "#1f9e89"
            ],
            [
             0.6666666666666666,
             "#35b779"
            ],
            [
             0.7777777777777778,
             "#6ece58"
            ],
            [
             0.8888888888888888,
             "#b5de2b"
            ],
            [
             1,
             "#fde725"
            ]
           ]
          },
          "colorway": [
           "#1F77B4",
           "#FF7F0E",
           "#2CA02C",
           "#D62728",
           "#9467BD",
           "#8C564B",
           "#E377C2",
           "#7F7F7F",
           "#BCBD22",
           "#17BECF"
          ],
          "font": {
           "color": "rgb(36,36,36)"
          },
          "geo": {
           "bgcolor": "white",
           "lakecolor": "white",
           "landcolor": "white",
           "showlakes": true,
           "showland": true,
           "subunitcolor": "white"
          },
          "hoverlabel": {
           "align": "left"
          },
          "hovermode": "closest",
          "mapbox": {
           "style": "light"
          },
          "paper_bgcolor": "white",
          "plot_bgcolor": "white",
          "polar": {
           "angularaxis": {
            "gridcolor": "rgb(232,232,232)",
            "linecolor": "rgb(36,36,36)",
            "showgrid": false,
            "showline": true,
            "ticks": "outside"
           },
           "bgcolor": "white",
           "radialaxis": {
            "gridcolor": "rgb(232,232,232)",
            "linecolor": "rgb(36,36,36)",
            "showgrid": false,
            "showline": true,
            "ticks": "outside"
           }
          },
          "scene": {
           "xaxis": {
            "backgroundcolor": "white",
            "gridcolor": "rgb(232,232,232)",
            "gridwidth": 2,
            "linecolor": "rgb(36,36,36)",
            "showbackground": true,
            "showgrid": false,
            "showline": true,
            "ticks": "outside",
            "zeroline": false,
            "zerolinecolor": "rgb(36,36,36)"
           },
           "yaxis": {
            "backgroundcolor": "white",
            "gridcolor": "rgb(232,232,232)",
            "gridwidth": 2,
            "linecolor": "rgb(36,36,36)",
            "showbackground": true,
            "showgrid": false,
            "showline": true,
            "ticks": "outside",
            "zeroline": false,
            "zerolinecolor": "rgb(36,36,36)"
           },
           "zaxis": {
            "backgroundcolor": "white",
            "gridcolor": "rgb(232,232,232)",
            "gridwidth": 2,
            "linecolor": "rgb(36,36,36)",
            "showbackground": true,
            "showgrid": false,
            "showline": true,
            "ticks": "outside",
            "zeroline": false,
            "zerolinecolor": "rgb(36,36,36)"
           }
          },
          "shapedefaults": {
           "fillcolor": "black",
           "line": {
            "width": 0
           },
           "opacity": 0.3
          },
          "ternary": {
           "aaxis": {
            "gridcolor": "rgb(232,232,232)",
            "linecolor": "rgb(36,36,36)",
            "showgrid": false,
            "showline": true,
            "ticks": "outside"
           },
           "baxis": {
            "gridcolor": "rgb(232,232,232)",
            "linecolor": "rgb(36,36,36)",
            "showgrid": false,
            "showline": true,
            "ticks": "outside"
           },
           "bgcolor": "white",
           "caxis": {
            "gridcolor": "rgb(232,232,232)",
            "linecolor": "rgb(36,36,36)",
            "showgrid": false,
            "showline": true,
            "ticks": "outside"
           }
          },
          "title": {
           "x": 0.05
          },
          "xaxis": {
           "automargin": true,
           "gridcolor": "rgb(232,232,232)",
           "linecolor": "rgb(36,36,36)",
           "showgrid": false,
           "showline": true,
           "ticks": "outside",
           "title": {
            "standoff": 15
           },
           "zeroline": false,
           "zerolinecolor": "rgb(36,36,36)"
          },
          "yaxis": {
           "automargin": true,
           "gridcolor": "rgb(232,232,232)",
           "linecolor": "rgb(36,36,36)",
           "showgrid": false,
           "showline": true,
           "ticks": "outside",
           "title": {
            "standoff": 15
           },
           "zeroline": false,
           "zerolinecolor": "rgb(36,36,36)"
          }
         }
        },
        "title": {
         "font": {
          "color": "Black",
          "size": 22
         },
         "text": "<b>Intertopic Distance Map</b>",
         "x": 0.5,
         "xanchor": "center",
         "y": 0.95,
         "yanchor": "top"
        },
        "width": 650,
        "xaxis": {
         "anchor": "y",
         "domain": [
          0,
          1
         ],
         "range": [
          -4.8774408340454105,
          11.997672080993652
         ],
         "title": {
          "text": ""
         },
         "visible": false
        },
        "yaxis": {
         "anchor": "x",
         "domain": [
          0,
          1
         ],
         "range": [
          -20.011486721038818,
          13.779978179931641
         ],
         "title": {
          "text": ""
         },
         "visible": false
        }
       }
      }
     },
     "metadata": {},
     "output_type": "display_data"
    }
   ],
   "source": [
    "# 可视化主题分布\n",
    "topic_model.visualize_topics()"
   ]
  },
  {
   "cell_type": "code",
   "execution_count": 11,
   "metadata": {},
   "outputs": [
    {
     "data": {
      "application/vnd.plotly.v1+json": {
       "config": {
        "plotlyServerURL": "https://plot.ly"
       },
       "data": [
        {
         "hoverinfo": "text",
         "hovertext": [
          "盘点 洛阳 春节 兔年 春节 马上 就要 洛阳 春节 新春 灯会 洛阳 夜景 应天门 应天门 北广场 晚上 华灯 点亮 应天门 建筑 楼体 大气 壮观 气势磅礴 想象 当初 盛唐 恢宏 广场 四周 小吃店 纪念品 市民 休闲 娱乐 好去处 洛邑 古城 洛邑 古城 夜色迷人 阁楼 灯笼 文峰塔 七彩 璀璨 炫亮 古城 夜空 穿着 汉服 游洛邑 古城 仿若 穿越 盛唐 王城 公园 新春 游园会 主场 市区 公园 今年 主题 国风 隋唐 最潮 中国 园内 大中型 彩灯 气氛 装饰灯 美轮美奂 进门 看见 一只 可爱 喜庆 兔子 唐宫 夜宴 小姐姐 花灯 特别 吸引 隋唐 遗址 植物园 新春 游园会 主场 新春 灯会 河洛 文化 庙会 新春 游园会 活动 精彩 上演 晚上 大型 灯组 节日 氛围 十足 特别 值得 观看 打铁 表演 浓烈 绚烂 火树银花 照亮 夜空 春节 休闲 年度 旅行 不止 旅行\n",
          "历史 天天 我国 首批 历史 文化名城 正式 公布 我国 历史悠久 文明古国 历史 文化名城 我国 不同 时期 不同 地域 政治 经济 文化 近代 革命 运动 发生 重大 历史 事件 重要 城市 历史 文化名城 地面 地下 保存 大量 历史文物 革命 文物 体现 中华民族 悠久 历史 光荣 革命 传统 光辉灿烂 文化 做好 历史 文化名城 保护 管理工作 建设 社会主义 精神文明 发展 我国 旅游事业 重要 作用 首批 公布 历史 文化名城 北京 承德 大同 南京 苏州 杭州 遵义 延安 曲阜 洛阳\n",
          "反观 使用 字母 语言 国家 多数 学校 实际上 起到 学生 文凭 作用 教书育人 开发 学生 智力 不在意 西方 所谓 发达国家 来说 工业革命 起步 高等教育 历史 很长 总以为 世界 优秀 人种 殊不知 培养 出来 大多 殖民者 侵略者 鸦片 贩子 八国联军 成员 今天 利益集团 仍然 不知悔改 全世界 到处 制造 邪恶 仇恨 人类 造成 灾难 罄竹难书 掠夺 曾经 全世界 回去 财宝 难计 其数 今天 哭穷 根源 在于 多数 宇宙 了解 世界 看法 正确 当今 西方 所有 学者 思想 起来 也许 一部 汉语 成语词典 内容 丰富 观点 正确 国家 全部 文化 起来 诸如 西安 杭州 洛阳 古城 文化 深厚 魅力 汉语 成语 凝聚 思想 精练 语言\n",
          "福集 八景 旅游 旅行 四川 古建筑 古桥 泸州 汉语 古文 其六 龙桥 卧波 九曲 河而上 五里 古桥 横于 水面 龙脑 生于 明洪武 尔来 六百余 燕京 卢沟 泉州 洛阳 比肩 扬州 廿四 河北 赵州 齐名 中华 十大 古桥 磐石 青石 为板 设九跨 九曲 八兽 昂首 桥墩 海龙王 昂首 桥头 左立 文殊 之青狮 右立 普贤 白象 麒麟 雄卧 两端 清风 拂来 龙口 之内 镂空 龙珠 清脆 鸣响 实乃 巴蜀 一绝 时至 汛期 河水 漫桥 龙首 回水 入宫 巧应 神话传说 龙脑 古典 中华文化 寝卧江 融入 清波 洪流 奇观\n",
          "洛阳 老赐婚 洛阳城 嘉宾 性别 年龄 身高 有无 婚配 体重 工作 事业 个体 星座 天蝎座 家庭 住址 区县 西工 收入 情况 自给自足 家庭成员 爸爸 妈妈 弟弟 兴趣爱好 游乐场 爬山 旅游 画画 手工 电影 看书 择偶 要求 市区 稳定 工作 稳定 收入 专科 以上 身高 左右 不要 太低 三观 人品 想法 独立 一定 干净 收拾 干干净净 清清爽爽 最好 不要 吸烟 喝酒 吃火锅 烧烤 极好 多一点 包容心 互相 尊重 喜欢 动物\n",
          "洛阳 小时 全国 重点 文物保护 单位名单 公布 洛阳 独揽 全省 第一 昨日 从市 文物局 获悉 第八 全国 重点 文物保护 单位名单 公布 全国 洛阳 独揽 全省 第一 目前 我市 全国 重点 文物保护 单位 总数 东汉 石象 并入 之前 邙山 陵墓 总数 位居 全省 前列 第八 批国保 单位 评审 工作 推荐 项目 申报 遴选 申报 项目 征询 意见 确定 三个 阶段 此次 名单 公布 我市 文物保护 领域 成绩 肯定 我市 进一步 推进 文物 资源 合理 利用 弘扬 地域 历史 文化 加快 推进 国际 文化 旅游 名城 建设 华夏 文明 传承 创新 建设 具有 重要 意义\n",
          "洛阳 爆料 旅游 便利 洛阳 机场 再添 通航 城市 喜讯 日起 洛阳 起飞 哈尔滨 别样 冰雕 桂林 游醉美 山水 贵阳 多彩 美景 天津 口岸 风情 洛阳 机场 出行 几个 选择 旅发 集团 倾力 开通 多彩 航空 福州 航空 执飞 贵阳 洛阳 天津 哈尔滨 洛阳 桂林 航线 正式 首航 目前 各大 机票 销售 平台 售票 此次 航线 开通 标志 洛阳 通航 国内外 城市 具体 航班时刻 多彩 航空 E190 机型 执飞 洛阳 贵阳 航班时刻 航班号 GY7102 贵阳 洛阳 航班时刻 航班号 GY7101 洛阳 天津 航班时刻 航班号 GY7101 天津 洛阳 航班时刻 航班号 GY7102 每周 班期 福州 航空 机型 执飞 洛阳 哈尔滨 航班时刻 航班号 FU6608 哈尔滨 洛阳 航班时刻 航班号 FU6607 洛阳 桂林 航班时刻 航班号 FU6607 桂林 洛阳 航班时刻 航班号 FU6608 每周 班期\n",
          "河图 报道 日前 洛阳 机场 到达 出发 旅客 免票 洛阳 景区 经常 乘坐 飞机 洛阳 出发 到达 市民 游客 注意 日至 凡是 洛阳 北郊 机场 进出 洛阳 市民 游客 享受 登机牌 身份证 门票 游览 洛阳市 部分 景区 优惠政策 洛阳 旅游 发展 集团 负责人 介绍 推动 洛阳 旅游 航空事业 发展 加快 洛阳 国际 文化 旅游 名城 建设 洛阳 旅游 发展 集团 联合 龙门石窟 关林 天子 驾六 博物馆 隋唐洛阳城 国家 遗址 公园 景区 推出 乘飞机 进出 洛阳 旅客 景区 门票 优惠政策 活动 期间 乘坐 洛阳 机场 航班 抵达 洛阳 旅客 航班 当日 一周 截止 登机牌 身份证 上述 景区 享受 免票 优惠 乘坐 洛阳 机场 航班 出行 旅客 航班 当日 天内 截止 登机牌 出票 凭证 票务 代理点 提前 打印 身份证 上述 景区 享受 免票 优惠\n",
          "河南省 简称 河南省 历史 大部分 位于 黄河 以南 河南 远古 时期 黄河 中下游 地区 河流 纵横 森林 茂密 野象 众多 河南 描述 牵象 象形字 根源 河南 简称 河南 中华文明 中华民族 发源地 中原 河洛 三商 文化 源远流长 汉字 文化 姓氏 文化 根亲 文化 诗词 文化 功夫 文化 博大精深 省内 文物古迹 风景名胜 众多 少林寺 龙门石窟 殷墟 清明 河园 黄帝 故里 商丘 古城 嵩山 云台山 白云山 伏牛山 石人 鸡公山 丹江口水库 武侯祠 闻名 海内外 中国 八大 古都 河南 一省 四个 分别 为夏商 古都 郑州 商都 安阳 十三 古都 洛阳 七朝 古都 开封 四千年 新石器 时代 中原 人民 创造 著名 裴李岗 文化 仰韶文化 龙山文化 河南 我国 姓氏 重要 发源地 中国 大姓 中根 河南 陈林 半天 郑排 满街 之称 海外 四大 姓氏 起源于 河南 豫见 中国 老家 河南 大脸 旅游 大脸 旅游 随笔 漫记 国内 河南 南阳 内乡 县衙 医圣 武侯祠\n",
          "汕头 旅游 行程 安排 十六 APP 上线 旅行 城市 汕头 汕头 懒人 地图 汕头 景点 攻略 地图 值得 景点 全部 标记 地图 景点 卡片 攻略 不会 十六 APP 蓝点 位置 跟着 迷路 地图 放大 缩小 移动 南澳岛 旅游 路线图 十六 APP 支持 城市 列表 包含 百个 景点 路线 地图 目前 十六 APP 提供 懒人 地图 城市 北京 上海 广州 成都 重庆 深圳 长沙 武汉 厦门 苏州 无锡 杭州 大连 贵阳 丽江 大理 郑州 南京 青岛 天津 拉萨 洛阳 昆明 西双版纳 泉州 桂林 阳朔 乐山 三亚 潮州\n",
          "扶小风 徒步 黄河 徒步 黄河 小浪底 南岸 盘山公路 六公里 邙山 横水 镇寒 水村 村口 高大 牌坊 豫西 名镇 横水 牌坊 发现 农家 水席 进入 寻访 老师傅 姓王 正带 徒弟 备菜 了解 洛阳 水席 文化 其为 文公村 传承 洛阳 水席 手中 多年 民间 美食 乡间 可惜 今日 并非 日子 零散 客人 点菜 特殊 日子 包桌 肯定 领略到 洛阳 乡间 水席 美味 王师傅 留着 午餐 谢绝 好意 继续 赶路 下次 路过 洛阳 一定 今天 洛阳 市区 小浪底 开通 旅游 公交 寒水村 下车 饭店 门口 洛阳 寒水村\n",
          "洛阳 爆料 快讯 洛阳 龙门 通用 机场 开建 上午 洛阳 龙门 通用 机场 开工 奠基仪式 伊滨经 开区 寇店 举行 洛阳 龙门 通用 机场 一期 26.6676 公顷 用地 机场 选址 位于 洛阳市 东南部 万安 区域 横跨 伊滨经 开区 寇店 偃师市 口镇 洛阳 北郊 机场 直线 距离 公里 洛阳 龙门 通用 机场 建设 方案 机场 一期 A2 通用 机场 标准 建设 占地面积 先期 建设 跑道 相关 航管 气象 设施 计划 年底 具备 通航 条件 一期 工程 主要 用于 开展 空中 作业 应急 救援 旅游观光 飞行 培训 飞机 航材 销售 托管 维修服务 任务 未来 机场 二期 跑道 向东 延长 增加 精密 仪表 导航 设施 建成 A1 通用 机场 具备 中小型 公务机 运营 条件\n",
          "海丝 泉州 夏天 清晨 洛阳桥 洛阳 日出 夏天 清晨 来到 泉州 洛阳桥 沐浴 晨光 长长的 桥板 等待 洛阳 日出 满天 灿烂 朝霞 早晨 普通 日出 太阳 喷薄而出 辉煌 日出 可遇 不可 已经 满足 静静 等待 太阳 洛阳 江东 地平线 升起 渴望 一次 泉州 申遗 成功 洛阳 日出 几年 泉州 申遗 失败 文物 专家 视察 洛阳桥 单个 洛阳桥 申请 世界 文化遗产 项目 绰绰有余 火红 太阳 终于 冉冉升起 金色 光辉 长长的 桥板 桥头 碑亭 一长列 竖立 碑刻 且不说 洛阳桥 筏型 基础 种蛎 固基法 且不说 洛阳桥 中国 古代 四大 名桥 且不说 泉州 宋元 中国 世界 海洋 商贸 中心 成功 列入 世界 文化遗产 名录 洛阳桥 成为 遗产 景点 申遗 资料 评价 洛阳桥 泉州 运输网络 发展 里程碑 加强 泉州 闽北 内陆 陆运 联系 申遗 资料 洛阳桥 开启 宋元 泉州 世纪 造桥 运动 推动 国家 口岸 水陆 转运 系统 建立 完善 清晨 洛阳桥 终于 看到 一次 洛阳 日出 普普通通 在我心中 却是 灿烂辉煌 日出 广角 拍客 新闻 广角 海丝 泉州 文旅之声\n",
          "现场 三门峡 天鹅 高铁 列车 今日 起至 年元 月底 每天 往返 开行 黄河 天鹅 泡温泉 游览 地坑院 问道 函谷关 豫西 美食 三门峡 白天鹅 旅游 今日 开启 河南 文旅 迎来 冬天 一把 天鹅 期间 郑州 铁路 开行 郑州 三门峡 旅游 专列 高铁 专列 今天 起至 元月 月底 每天 往返 开行 去程 车次 G9207 郑州 洛阳 龙门 渑池 三门峡 历时 小时 二等 票价 121.5 一等 195.5 返程 车次 G9104 三门峡 渑池 洛阳 龙门 郑州 历时 小时 二等 票价 121.5 一等 195.5 普速 旅游 专列 日起 年元 月底 周末 往返 开行 每周六 早间 安阳 郑州 开往 三门峡 车次 Y801 安阳 新乡 郑州 洛阳 三门峡 周日 晚间 三门峡 返回 安阳 车次 Y802 三门峡 洛阳 郑州 新乡 安阳\n",
          "河南 人口 教育 状况 不断 改善 河南省 第七次 全国 人口普查 结果显示 全省 常住人口 教育 状况 不断 改善 大学 大专 以上 下同 文化 程度 人口 快速增长 全省 常住人口 万人 拥有 大学 文化 程度 人口 高中 初中 小学 地区 万人 拥有 大学 文化 程度 高于 全省 平均水平 郑州 济源 洛阳 焦作 三门峡 最高 郑州 最低 周口 万人 拥有 高中文化 程度 高于 全省 平均水平 济源 焦作 新乡 三门峡 郑州 洛阳 漯河 最高 济源 最低 周口 万人 拥有 初中文化 程度 信阳 济源 郑州 低于 全省 平均水平 最高 许昌 最低 郑州 万人 拥有 小学文化 程度 高于 全省 平均水平 信阳 南阳 驻马店 周口 商丘 濮阳 安阳 开封 最高 信阳 最低 郑州 郑州 万人 拥有 大学 文化 程度 万人 远高于 地区 河南 统计\n",
          "洛阳 身边 通知 首届 中国 洛阳 华夏 汉服 旅游节 节会 流程 事项 天气 多变 流程 若有 变动 提前 公众 官方 华夏 汉服 游节 通知 节会 期间 各项 主题 活动 嘉宾 流程 自行安排 行程 嘉宾 需在 上午 上阳宫 景区 观风 门口 领取 采风 参加 各项 活动 开幕式 上午 举行 早晨 八点 入场 九点半 停止 入场 入场 流程 上阳 宫观 风殿 东门 进入 报名 凭证 领取 采风 领取 汉服 之夜 入场 领取 餐券 检票 入场 洛阳 降雨 注意 防寒保暖 备上 雨具 洛阳 天气 原因 中午 汉服 宴会 热餐 暂定 改为 冷餐 汉服 之夜 武则天 实景 演出 建议 嘉宾 自驾车 前往 打车 前往 提前 集合 9.4 老君山 之约 参加 嘉宾 提前 预约 自驾车 前往 参加 各项 活动 需凭 采风 证并配 汉服 入场 华夏 汉服 旅游节 武则天 演出 各项 节目 演员 服装 戏服 未尽事宜 官方 公众 提前 公布 疑问请 拨打 客服 电话 洛阳 上阳宫 花园\n",
          "老家 河南 看看 洛阳 汉服 沉浸 体验 盛世 隋唐 三大 博物馆 预约 洛邑 古城 预约 龙门石窟 限流 隋唐洛阳城 应天门 预约 老君山 预约 今年 五一 假期 洛阳 实力 游客 火速 河南 美丽 经济 地图 汉服 沉浸 体验 盛世 隋唐 文化 成来 洛阳 旅游 标配 三件套 平价 暖心 烟火 城市 氛围 景区 博物馆 延长 开放 时间 公共交通 延长 凌晨 本地 车辆 外地 车辆 政府 大院 免费 停车 人文 举措 古都 洛阳 历史 遗迹 起来 游客 留下来 城市 起来 年轻人 爱上 洛阳 理由 河南日报\n",
          "文物 动态 西班牙 马德里 举行 联合国 世界旅游组织 大会 互联网 龙门 行动计划 中国 唯一 进入 总决赛 参赛 项目 喜获 公共政策 管理 创新 大奖 龙门石窟 选送 互联网 龙门 行动计划 国家 地区 入围 项目 脱颖而出 最终 获得 荣誉 一次 闪耀 世界舞台 全球 游客 领略 龙门石窟 文化 科技 魅力 互联网 龙门 智慧 旅游 上线 运营 持续 不断完善 创新 龙门 景区 先后 进入 数据 时代 智能 时代 传统 历史 文化 景区 龙门石窟 华夏 文明 传承 创新 进程 积极 融入 互联网 时代 潮流 建设 全国 首家 互联网 智慧 景区 发挥 互联网 现代科技 优势 古老 龙门 起来 洛阳 名片 世界 龙门 焕发 勃勃生机\n",
          "河南省 巩义市 位于 中岳 嵩山 北麓 西距 十三 古都 洛阳市 公里 东距 郑州市 公里 万年前 人类 繁衍生息 境内 现存 裴李岗 文化 仰韶文化 龙山文化 古文化 遗存 多处 全国 重点 文物保护 单位 华夏 文明 发祥地 核心 地区 河洛 文化 摇篮 巩义 全国 乡镇企业 发祥地 全市 拥有 工业 企业 河南 铝加工 企业 50% 左右 依托 强大 产业 城市 综合 经济 实力 常年 位居 全国 百强县 以来 连续 位居 河南省 首位 堪称 河洛 大地 历史 文化 现代文明 相得益彰 居之城 旅行 推荐 爱上 这座 旅行\n",
          "节庆 传统 文化 今天 腊月 二十六 汉族 民间 谚语 腊月 二十六 杀猪 割年 一天 主要 筹备 过年 肉食 杀猪 当然 家养 割肉 养猪 贫困人家 集市 上去 过年 农耕社会 经济 发达 人们 往往 年节 才能 称为 年肉 年肉 讲究 红烧肉 本身 代表 富裕 意思 红烧肉 表示 日子 红红火火 富裕 十足 一碗 热气腾腾 泛着 红烧肉 腊月 二十六 这天 期盼 今天 家家 日子 越过 红火 腊月 二十六 置办 大肉 成为 忘记 传统 今天\n",
          "快乐 早点 今日 话题 河南 回味 地方 值得 吃货 回味 相信 记忆里 肯定 难以忘怀 美食 吸引 开封 小吃 洛阳 水席 郑州 烩面 逍遥镇 胡辣汤 河南 旅游 不得不 地方 中国 八大 古都 郑州 应该 来说 承载 独特 魅力 古都 回味 历史 感受 历史 今儿 来说 河南 郑州 回味 地方 时时 关注 国内外 新闻资讯 解析 社会 敏感话题 娱乐圈 八卦 时时 话题 互动 微博微信 搜索 娱乐 关注 之后 发送 语音 文字 直接 留言 路飞 胖达 周一 周五 早上 欢迎 准时 收听 参与 话题 互动\n",
          "河南 再添 国家 非遗 名片 获悉 文化 旅游部 办公厅 公布 第五批 国家级 物质 文化遗产 代表性 项目 保护 单位 通知 正式 发布 国家级 物质 文化遗产 保护 管理 暂行办法 推荐 评审 公示 程序 文化 旅游部 认定 单位 第五批 国家级 物质 文化遗产 代表性 项目 保护 单位 河南 共有 保护 单位 入选 项目名称 保护 单位 分别 玄奘 传说 洛阳市 偃师 人民 文化馆 陕州 锣鼓 三门峡市 群众 艺术馆 幻术 宝丰 魔术 宝丰县 人民 文化馆 烙画 南阳 烙画 南阳市 烙画 鲁山 烧制 技艺 鲁山 花瓷 烧制 技艺 鲁山县 文化馆 金镶玉 制作 技艺 郏县 金镶玉 制作 技艺 郏县 文化馆 小吃 制作 技艺 逍遥 胡辣汤 制作 技艺 西华县 物质 文化遗产 保护 中心 中医 诊疗 张氏 经络 收放 疗法 新乡 经络 收放 医院 中医 诊疗 宋氏 中医 外科 疗法 汝州市 金庚 康复 医院 农历 二十四节气 内乡 春牛 习俗 内乡县 县衙 博物馆 庙会 商丘 火神 庙会 商丘市 睢阳区 文化馆 祭典 老子 祭典 鹿邑县 物质 文化遗产 保护 中心 河南日报 温小娟\n",
          "东方 蒙娜丽莎 卢舍那 大佛 女性 卢舍那 大佛 河南 洛阳龙门石窟 众多 佛像 讨论 最为 热烈 一尊 光明 遍照 通高 17.14 头高 耳朵 长达 1.9 神秘 微笑 著称 国外 游客 誉为 东方 蒙娜丽莎 世界 最美 雕像 卢舍那 佛像 面部 非常 丰满 圆润 头顶 波状 发纹 双眉弯 新月 一双 秀目 微微 凝视 下方 露出 祥和 笑意 像是 睿智 慈祥 中年妇女 为啥 有人 肯定 卢舍那 佛事 女性 卢舍那 佛龛 实赖 图兹 丽质 单单 八个 足以 说明 世界 文化遗产 生态 山水 龙门 全域 旅行 风子 一雙 拖鞋 天涯\n",
          "洛阳 旅游 九洲 武则天 时代 洛阳城 著名 御花园 隋唐洛阳城 最具 代表性 皇家 园林 始建 唐宋 年间 继续 沿用 地处 洛阳 市中心 区域 位于 定鼎 北路 以西 唐宫路 以北 原洛 厂区 占地 文献 记载 九洲 池因 东海 九洲 得名 池中 有数 鸟鱼 翔泳 花卉 罗植 池水 宫城 辐射 园内 水网 密布 殿台 楼阁 点缀 其间 其景 美不胜收 设计方案 九洲 遗址 宋三朝 亭台 廊庑 殿阁 建筑 遗址 历史 遗存 得到 整体 保护 溯源 九洲 天堂 明堂 周边 历史 环境 风貌 体现 九洲 皇家 园林 格局 隋唐洛阳城 空间结构 建成 九洲 遗址 公园 天堂 明堂 连成一片 极富 风雅 成为 市民 休闲游 好去处\n",
          "日到 关注 图文 官方 国家图书馆 转发 此条 微博可 参与 抽奖 获奖 幸运 粉丝 得到 国家图书馆 精美 钥匙扣 一份 开奖 时小官 粉丝 达到 每人 加送 资治通鉴 拼图 一套 开奖 粉丝 超过 每人 加送 神秘 大礼 一份 抽奖 平台 Duang 一大 图文 高端 复仿 即将 来袭 钱包 准备 好了吗 精细 复刻 国家图书馆 馆藏 典籍 原汁原味 绝不 走样 传统 文化 司马光 资治通鉴 残稿 舆图 精品 洛阳 十邑图 赵孟頫 手书 道德经 柳公权 神策军 国图 四大 专藏 之二 赵城 金藏 敦煌 遗书 辩亡论 无论是 装点 书室 悉心 珍藏 馈赠 亲友 师长 有心 范儿 绝佳 选择 还原 古籍 真相 历史 自带 锋芒 具体 信息 见评 区哟\n",
          "小城 故事 河南 秋季 最美 小城 网评 喜欢 旅游 一个月 即将 美爆 河南 县城 栾川 美景 张家界 九寨沟 婺源 齐名 河南省 唯一 评为 网民 喜欢 旅游 目的地 地方 进入 秋季 泼洒 一幅幅 浓墨重彩 画卷 高达 82.4% 森林 覆盖率 河南省 第一位 被誉为 中原 肺叶 养眼 养心 栾川 自古 被誉为 洛阳 后花园 洛阳 南大门 老君山 鸡冠 重渡 沟三大 景区 入选 国土 百佳 红叶 观赏 栾川 低调 格外 妖娆 绚丽 行驶 浪漫 秋色 五彩 涂满 眼眸 那种 震撼 久久 难忘 河南 秋季 最美 小城 网评 喜欢 旅游 一个月 即将 美爆\n",
          "五月 微风 轻轻 吹过 六月 笑脸 花绽放 下周 六一 国际 儿童节 就要 心动 礼物 隋唐洛阳城 特别 小朋友 准备 国风 隋唐 一起 六一 丰富多彩 活动 杠铃 杠铃 杠铃 童真 小卖部 亲子 露营 带上 孩子 皇家 园林 感受 千年 公主 皇子 生活 居住 之地 童趣 参与 亲子 互动 享受 欢乐 亲子 时光 园林 呼唤 设计 一座 属于 园林 学习 当今 时代 遗址 保护 重要 价值 了解 九洲 园林 功能 作用 小小 书匠 走进 紫微 宫中 参与 诗集 制作 体验 唐诗 古籍 修复 温习 耳熟能详 唐诗 近距离 全方位 感受 古书 之美 遗小 课堂 小朋友 亲手 拓出 一首首 耳熟能详 古诗 感受 珍贵 传统 技艺 收获 一份 属于 拓本 纪念品 宫里 探险 探秘 历史 任务 挑战 全新 玩法 唐代 妆容 服饰 全方位 深度 体验 风起 明堂 儿童 剧本 角色扮演 感受 隋唐洛阳城 宫城 核心 深度 讲解 盛唐 宫廷 茶文化 还原 体验 无论是 陪伴 孩子 童心未泯 不想 长大 这趟 有趣 童年 时光 机向 快乐 出发 發射 愛心\n",
          "摘抄 文化 典故 冰心 冰雪 冰雪 晶莹 比喻 心志 忠贞 品格 高尚 洛阳 亲友 如相问 一片冰心 玉壶 高洁 心性 古人 清如 玉壶 比喻 光明磊落 心性 草木 草木 繁盛 反衬 荒凉 抒发 盛衰 兴亡 感伤 宋姜 扬州 春风 十里 尽荠麦 青青 春风 十里 十分 繁华 扬州 如今 长满 青青 荠麦 一片 荒凉 旧苑 荒台 杨柳 菱歌 清唱 不胜 吴国 旧苑 台上 杨柳 长出 新枝 遥想 当年 笙歌 曼舞 盛景 春光 杨柳 繁茂 衬托 荒凉\n",
          "奇境 栾川 全景 栾川 栾川县 八大 景区 洛阳 市民 门票 第七个 中国 旅游 栾川县 八大 景区 洛阳 市民 门票 栾川县 老君山 鸡冠 重渡 龙峪湾 养子 抱犊寨 天河 大峡谷 栾川 东北虎 参与 此次 旅游 惠民 活动 洛阳 市民 洛阳 本地 身份证 可免 景区 首道 门票 景区 索道 观光车 二次 消费 进入 景区 游客 景区 规定 购买 相关 保险 景区 免票 时间 截至 OO19 下午 点整 景区 游览 人数 超过 最大 承载量 景区 停止 接待 有意 前往 景区 市民 合理安排 游览 时间 提前 景区 预约 洛阳 印象\n",
          "洛阳 栾川县 最近 景区 雪景 冰挂 位出 景色 之美 丝毫 不输 老君山 王府 竹海 景区 如果说 老君山 人间仙境 王府 竹海 世外桃源 王府 竹海 位于 河南省 洛阳市 栾川县 城西 北约 公里 狮子 庙镇 境内 国家 AAAA 景区 找个 时间 带上 家人 所有 烦恼 开心 通通 丢掉 牵着 漫步 山林 雪地 之中 大大的 雪球 可爱 雪人 一场 酣畅淋漓 雪仗 丢掉 所有 开心 只管 开心 重要 人生 短短 几个 何不 竹海 游一游 王府 竹海 度假 旅游区\n",
          "中国 铁路 全路 铁路 旅行社 共同 倡议 抵制 不合理 低价 下午 中国旅行社 协会 铁道 旅游 分会 年会 河南 洛阳市 举行 会上 中国 铁路 全路 铁路 旅行社 共同 倡议 抵制 不合理 低价 发现 涉嫌 不合理 低价 未经许可 经营 旅行社 业务 违法 线索 倡议 旅行社 留存 证据 坚决 行政 主管部门 执法 部门 反映 举报 存在 不合理 低价 欺骗 强迫 游客 购物 行为 旅行社 从业人员 坚决 清理 行业 协会会员 队伍 予以 公开 通报 提示 合作 风险 河南 新闻广播 谷艳敏 河南 新闻广播\n",
          "河图 报道 日前 洛阳 机场 到达 出发 旅客 免票 洛阳 景区 经常 乘坐 飞机 洛阳 出发 到达 市民 游客 注意 日至 凡是 洛阳 北郊 机场 进出 洛阳 市民 游客 享受 登机牌 身份证 门票 游览 洛阳市 部分 景区 优惠政策 洛阳 旅游 发展 集团 负责人 介绍 推动 洛阳 旅游 航空事业 发展 加快 洛阳 国际 文化 旅游 名城 建设 洛阳 旅游 发展 集团 联合 龙门石窟 关林 天子 驾六 博物馆 隋唐洛阳城 国家 遗址 公园 景区 推出 乘飞机 进出 洛阳 旅客 景区 门票 优惠政策 活动 期间 乘坐 洛阳 机场 航班 抵达 洛阳 旅客 航班 当日 一周 截止 登机牌 身份证 上述 景区 享受 免票 优惠 乘坐 洛阳 机场 航班 出行 旅客 航班 当日 天内 截止 登机牌 出票 凭证 票务 代理点 提前 打印 身份证 上述 景区 享受 免票 优惠\n",
          "濮阳 话题 正式 批复 濮阳 新增 国家级 4A 景区 看看 最近 河南 景区 传捷报 景区 升级 4A 景区 实至名归 景区 深闺 俏佳人 终于 发现 评定 不久 美的 景色 郑州 洛阳 濮阳 三门峡 许昌 商丘 信阳 地方 榜上有名 看看 有没有 熟悉 景区 国家 AAAA 旅游 景区 景区 环境 美景 还要 符合 旅游 安全 旅游 交通 服务体系 景区 卫生 邮电 服务 旅游 购物 经营 管理 资源 环境 接待 能力 多个 方面 规章 规定 景区 自愿 申报 县市 逐级 推荐 省景 评委 明察暗访 党组 集体 研究 程序 才能 入选 国家 4A 旅游 景区 濮阳 入选 景区 上园 景区 上园 旅游 度假区 始建 总面积 有山 中原地区 最大 人工 园林 园内 雷泽湖 西秀湖 东灵湖 知湖 四大 水系 余亩 水体 园内 连绵起伏 山脊 组成 巨幅 山水画 景区 门票 免费 景区 地址 濮阳市 城区 西部 来源 中原\n",
          "洛阳 身边 洛阳 冬季 文化 旅游 惠民 消费 启动 游客 高铁 可享 半价 游遍 洛阳 上午 洛阳市 人民政府 召开 新闻 发布会 透露 我市 日至 期间 开展 洛阳 冬季 文化 旅游 惠民 消费 活动 洛阳 市民 游客 打造 一场 文旅 惠民 盛宴 购等 一系列 文旅 项目 惠民 大礼包 据悉 本次 活动 主题 冬天 洛阳 围绕 谋划 推出 冬游 冬俗 冬购 冬读 冬赏 冬学 冬娱 系列 精彩 活动\n",
          "洛阳 身边 洛阳市 东西 南隅 历史 文化 街区 老城 片区 保护 规划 新鲜出炉 规划 范围 本次 规划 范围 为北至 中州 东路 以南 马市 吕氏 一线 东至 新街 以西 金业 以东 规划 面积 公顷 整体 保护 要求 老城 整体 格局 保护 洛阳 老城 整体 格局 街区 环境 背景 予以 保护 洛阳 老城 城墙 遗址 基本 完整 东北隅 西北 尚存 部分 历史 街巷 遗迹 应予 保护 南北 大街 为界 城西 半部 隋唐洛阳城 东城 范围 半部 隋唐 城里 范围 应对 各类 地下 遗址 予以 保护 老城 街巷 系统 保护 中州 东路 以北 区域 存在 传统 街巷 应予 整体 保护 保留 地名 古树 古迹 历史 地标 尚存 具有 传统 风貌 建筑 尽量 予以 保护 维修 控制 老城 空间 尺度 老城 整体 空间 尺度 予以 控制 中州 东路 以北 区域 新建 建筑 控制 以下 传统 街巷 沿线 现状 传统 建筑 尺度 基准 予以 控制 中州 东路 以南 部分 历史 文化 街区 保护 要求 予以 控制 摘选自 洛阳市 自然资源 规划局 官网 公示 洛阳\n",
          "隋唐洛阳城 获评 省级 文明 旅游 示范 单位 应天门 天门 隋唐洛阳城 宫城 南门 始建 隋大业 元年 公元 先后 历经 五代 北宋 四个 时期 沿用 多年 应天门 规模 宏伟 气势浩大 中国 礼制 最能 彰显 身份 地位 建筑 隋唐 两京 考古 发掘出 第一座 宫阙 遗址 第三次 考古 发掘 首次 发现 隋唐 两京 双向 三出 评为 当年 全国 考古 发现 今天 应天门 遗址 保护 展示 工程 以仿 唐式 建筑 构筑 一副 浩瀚 场景 更是 巨大 字形 建筑群 依托 运用 充满 创意 现代 艺术 手段 夜晚 营造 绚烂 辉煌 3D 投影 灯光 展示 古今 辉映 重现 隋唐 洛阳 辉煌 应天门 灯光 春节 重启 洛阳 隋唐洛阳城 应天门 遗址 全景 洛阳\n",
          "实用 收好 这份 五一 出游 避堵 指南 今年 五一 五年 最最 热闹 假期 若想 玩得 透彻 计划 周到 游客 扎堆 避开 住宿 紧张 绕开 这份 五一 出游 实用 指南 建议 收藏 十座 城市 太多要 三思 国内 知名 互联网 平台 综合 平台 住宿 景区 交通 旅游 相关 订单 罗列 国内 热度 最高 十大 目的地 城市 分别 重庆 西安 长沙 成都 武汉 青岛 南京 北京 上海 杭州 民宿 毁约 涨价 糟蹋 五一 烧烤 好吃 位难 这座 新晋 顶流 城市 想想 就行 国内 知名 互联网 平台 数据 显示 五一 淄博 住宿 预订 相比 上涨 800% 大众 点评 淄博 烧烤 一周 搜索 同比 上涨 700% 笔记 上涨 1400% 淄博 希尔顿酒店 回应 房费 只用 一半 几座 特色 城市 客房 紧张 预订 建议 短途游 国内 知名 互联网 平台 数据 显示 柳州 洛阳 泉州 台州 汕头 自贡 景德镇 几座 特色 城市 假期 客房 紧张 不少 酒店 提前 售罄 注意 广东 五一 预订 热门 景点 几个 国内 知名 互联网 平台 发布 五一 出游 风向标 数据 显示 五一 假期 飞往 广东 机票 预订 同比 增长 广州 长隆 野生动物 世界 珠海 长隆 海洋 王国 广州 广州 长隆欢\n",
          "参加 黄河 旅游节 百城 万车 自驾游 早起 鹰嘴 露营地 洗漱 出发 新安镇 早餐 一碗 小米粥 一碗 豆腐脑 四个 二个 每个 一元 早餐 补足 饮用水 一路 穿越 十点钟 三门峡市 昨天 中国 旅游 河南 主会场 三门峡市 一年一度 黄河 旅游节 开幕式 活动 百城 万车 自驾游 三门峡 城市 建国 以后 修建 三门峡水库 名字 地区 自古 长安 洛阳 之间 重要 经略 之地 两京 历史悠久 典故 众多 三门峡水库 争议 黄河 修建 第一座 水库 中国 治理 黄河 坚定信心 解决 几千年 黄河 中下游 水患 三门峡市 据说 河南省 空气质量 城市 反正 陕州 公园 的确 明天 早上 黄河 旅游节 活动 举行 中午 河南 烩面 晚上 一瓶 俄罗斯 啤酒 四点 下雨 天幕 喝茶 呼吸 新鲜空气 左邻右舍 自驾游 随意 交流 大千世界 独好 明天 起早 万人游 黄河\n",
          "中兹 神州 绚烂 唐代 洛阳城 嵌宝花 水晶 项饰 偃师 商城 博物馆 藏据 文献 记载 水晶 又称 水玉 水精 优质 水晶 产地 中亚 诸国 西亚 波斯 据此 推测 水晶 串珠 如同 项链 点缀 青金石 玉髓 绿松石 丝绸之路 而来 异域 珍宝 佛教 艺术 装饰 影响 丝线 串联 珠子 而成 项链 称为 项璎 珠璎 敦煌 藏经洞 出土 唐代 写本 一首 白居易 禅月 大师 水精 念珠 诗中 写道 琢春冰 红线 贯珠璎 似垂 秋露 连连 不湿 禅衣 点点 乍看 帘外 散罗如睹 中星 要知 奉福明 王处 常念 观音 水月名 水韵 江苏 江苏 旅游 博文 政务 中运博 宝藏 文博热展\n",
          "濮阳 暂停 多条 客运 班线 关闭 多个 公共场所 濮阳 交通部门 了解 从即日起 暂停 濮阳 各县区 郑州 林州 安阳 项城 登封 二安 码头 小集 慈周 桑村 山东 鄄城 德州 兖州 山西 侯马 河北 武安 塘沽 天津 班车 客运 包车 客运 旅游 客运 道路 客运 含对发 班车 经营 公告 暂时 停班 洛阳 原阳 周口 许昌 沈丘 湖北 武汉 河北 邯郸 陕西 西安 客运 班线 含对发 班车 继续 暂停 范县 所有 公交线路 零时 全县 城乡 公交线路 暂停 营运 恢复 通车 时间 另行通知 台前 至范县 班线 暂时 改为 台前 客运站 乔洼 需要 前往 范县 乘客 合理安排 具体 通车 时间 另行通知 濮阳市 图书馆 濮阳市 戚城 文物 景区 濮阳市 工人 文化宫 濮水 小镇 多个 公共场所 暂停 开放 河南 新闻广播 濮阳 出行 范县 台前 公交\n",
          "支付宝 公布 端午 十大 热门 景区 郑州 银基 动物 王国 第一 今年 端午 假期 出游 人次 国内 旅游 市场 持续 支付宝 开放平台 数据 显示 端午 周边 自驾游 需求 旺盛 周边游 自驾游 搜索 一周 上涨 207% 110% 景点 门票 搜索 上周 172% 郑州 银基 动物 王国成 端午 最热 景点 不少 原地 过节 搜索 保洁 回收 上门服务 准备 利用 假期 家里 来个 清扫 整理 搜索 地域 来看 成都 重庆 杭州 周边游 最为 火爆 上海 北京 武汉 苏州 西安 郑州 石家庄 进入 前十 支付宝 搜索 预计 端午 长假 郑州 银基 动物 王国 景德镇 皇窑 景区 浙江 普陀山 成为 全国 热门 景区 三甲 位列 前十 景区 洛阳龙门石窟 山西 五台山 四川 自贡 五彩 荷园 景区 南昌 滕王阁 乌镇 西栅 景区 浙江 湖州 南浔 古镇 北京 莱恩 酒庄 城堡\n",
          "整整 洛阳市 推出 多项 秋季 文化 旅游 优惠政策 日晚 中秋 之夜 隋唐洛阳城 国家 历史 文化公园 重要 组成部分 隋唐洛阳城 宫城 南门 应天门 正式 开城 标志 隋唐洛阳城 宫城 天堂 明堂 九洲 应天门 四点 一区 格局 迈出 关键 一步 更加 激动人心 日晚 洛阳 秋季 文化 旅游 推广 系列 活动 应天门 遗址 博物馆 开放 仪式 正式 启动 日前 我市 围绕 金秋 河洛 古烁 主题 多个 板块 多场 秋季 文化 旅游 系列 活动 载体 推出 多项 优惠政策 广大 市民 游客 发放 文化 旅游 惠民 大礼包\n",
          "十一 假期 本人 洛阳市 消协 洛龙区 消费者 协会 节日期间 开展 迎国庆 构建 和谐 旅游 环境 活动 洛阳市 旅游 城市 旅游 景区 代表 古城 洛阳 形象 洛龙区 世界 文化遗产 龙门石窟 关林庙 景区 所在地 洛龙区 消费者 协会 迎国庆 广大 消费者 营造 和谐 旅游 消费 环境 组织 协会 同志 消费 维权 志愿者 十余 2019.9 洛龙区 进行 为期 两天 消费者 权益保护法 宣传 涉足 酒店 餐饮 超市 娱乐业 景区 领域 景区 中心 悬挂 条幅 投放 显示屏 突出 宣传 消费者 权益保护法 理性 消费 政策法规 深入 查看 体验 景区 餐饮业 酒店 住宿 合理 消费 状况 工作人员 分组 了解 商品 消费 价格 商品质量 监督 纠正 个别 经营场所 不合理 促销 商家 霸王 条款 广大 消费者 十一 假期 营造 和谐 旅游 消费 环境 打下 坚实基础 洛阳 洛阳 同城会 洛阳 中消协 消费 指导 新闻 姚红亮 洛阳 摇曳 田间\n",
          "洛阳 身边 国庆 假期 栾川 旅游 十一 黄金周 总结 会议 告诉您 今年 十一 黄金周 期间 我县 天气晴朗 十分 利于 旅游 接待 旅游 市场繁荣 有序 经济 社会效益 显著 实现 安全 质量 秩序 效益 统一 目标 整体 来看 我县 十一 黄金周 呈现出 核心 景区 增长 强劲 游客 来得早 旺期 持续时间 特点 黄金周 期间 市县 领导 高度重视 牺牲 节假日 时间 参与 旅游 工作 栾川县 全城 联动 服务 游客 全城 一盘棋 全县 一条心 服务 游客 不让 一名 游客 栾川 受委屈 景区 营销 活动 丰富多彩 文明 旅游 蔚然成风 奇境 栾川 栾川 旅游\n",
          "成都旅游 回来 念念不忘 火锅 冰粉 谢谢 胖哥 胖哥 洛阳 双人 甜心 闲生 位置 好找 店员 推荐 下选 两款 玫瑰 糍粑 冰粉 满满 大碗 瓜子 花生 葡萄干 山楂 小丸子 玫瑰 花瓣 中途 服务员 帮忙 一次 贴心 白雪 黑糯米 冰粉 冰粉 爽滑 沙冰 口感 整体 口感 甜而不腻 夏天 肯定 特别 受欢迎 超级 推荐 甜点 高记 油茶 不愧 老字号 超级 上面 那层 果子 吃完饭 达到 洛邑 古城 洛阳人 竟然 第一次 惭愧 皱眉 本来 灯光 可惜 时间 太晚 只能 改天 洛阳 洛邑 古城 景区\n",
          "洛阳城 同享 蓝天 新风 共创 环保 旅游 大型 公益 系列 活动 洛阳 启动 由市 文明办 环保局 旅发委 携手 发起 环境保护 旅游 发展 主题 大型 公益 系列 活动 今天上午 明堂 天堂 景区 举行 本次 活动 旨在 宣传 环保 文化 提升 环保 意识 发展 洛阳 旅游 文明 旅游 提高 大众 环保 参与度 丰富 洛阳 旅游业 塑造 洛阳 旅游 形象 具有 重要 意义 本次 采用 电子 倡议书 朋友圈 转发 形式 希望 这种 形式 唤醒 民众 环境保护 关注 设计 大众 喜闻乐见 系列 活动 自行车 绿色 出行 活动 全民 健步 活动 亲子 环保 互动 环保 主张 活动 据悉 系列 活动 持续 中旬 届时 主办方 还会 评选 活动 奖项 获胜 组织 个人 进行 表彰 奖励\n",
          "温暖 河南 老家 河南 出彩 河南 一元 午餐 打个 免费 广告 假期 洛阳 老君山 景区 推出 一元 午餐 引起 热议 一元 一碗 当地 特色 汤面 一根 烤肠 馒头 售卖 收款 国内 各大 旅游 景区 餐饮 价格 普遍 偏高 餐饮 乱象 事件 时有发生 现状 一元 午餐 无疑 一股 清流 一块 试金石 试出 游客 文明 素养 面对 福利 大家 排队 领取 就餐 有序 维护 整洁 垃圾 入篓 每日 收入 高于 发放 品数 呈现出 投桃报李 般的 良性 互动 试出 服务者 眼界 格局 实在 优惠活动 让利 举措 游客 更好 旅游 体验 领略 大好河山 领略 一份 来自 景区 善意 温情 这种 美好 体验 产生 美誉 磁性 形成 公益 效益 并存 营销 口碑 兼具 效应 这是 广告 不来 景区 门票 明降暗升 行为 实在 点赞 一元 午餐 并非 鼓励 景区 简单 效仿 应该 借鉴 游客 为本 理念 人民 生活 质量 日益 提高 节假日 出游 需求 高涨 大众 旅游 时代 景区 告别 票价 消费 推出 人性化 管理 透明 消费 超值 服务 才能 吸引 留住 口碑 逐步 培育 个性化 特色化 高附加值 旅游\n",
          "黄河 国家 文化公园 形象 标志 洛阳 推出 提升 黄河 国家 文化公园 形象 辨识 近日 从省 文化 旅游 获悉 黄河 国家 文化公园 形象 标志 logo 隋唐洛阳城 天堂 明堂 应天门 二里头 国家 考古 遗址 公园 入口 正式 亮相 黄河 国家 文化公园 形象 标志 logo 设计 理念 立足 黄河 字形 地理 特征 融入 飘带 龙图腾 造型 特征 传达 中华文明 起源 形成 发展 历史进程 象征 中华民族 生生不息 时代 崛起 腾飞 形象 标志 logo 主要 导览 形式 呈现 包括 黄河 国家 文化公园 河南 总览 核心 展示 重大 遗址 简介 园区 周边 信息 咨询 相关 内容 包含 中英日 四种 文字 公众 走近 了解 认识 黄河 国家 文化公园 提供 良好 信息 载体\n",
          "河南 民航 迎来 首个 智库 河南省 航空业 协会 设立 两个 专业 委员会 河南省 航空业 协会 召开 专题会议 会议 决定 设立 两个 专门 委员会 分别 河南省 航空业 协会 航空 旅游 服务 委员会 河南省 航空业 协会 专家 委员会 河南省 航空业 协会 专家 委员会 设立 河南 民航 发展 提供 智力 支持 近年来 河南省 旅游 产业 发展 迅速 出行 旅游 人数 不断 增加 据统计 全省 接待 海内外 旅游 人数 突破 亿人次 旅游 总收入 多亿元 出行 旅游 成为 大众 生活 常态 年底 河南省 民航机场 四个 分别 郑州 洛阳 南阳 信阳 机场 月份 河南 辖区 运输 机场 完成 旅客 吞吐量 万人次 同比 增长 15%\n",
          "旅行 千年 银杏 白云 盛景 洛阳 嵩县 白云山 第九届 银杏 文化节 主题 活动 隆重开幕 上午 银杏 金黄 洛阳 嵩县 白云山 第九届 银杏 文化节 主题 活动 颜色 深秋 致敬 洛阳 白云山 旅游 度假区 钢河 游客 中心 隆重开幕 白云山 千年 银杏 涵盖 景区 五马 白河 云岩寺 村镇 一带 银杏树 五马 千年 银杏 林有 银杏 余株 树龄 最高 白河 云岩寺 附近 多株 千年 银杏树 树龄 最大 银杏树 高大 粗壮 姿态 优美 气势 非凡 具有 极高 科研 观赏价值 本次 银杏 主题 活动 推动 白云山 旅游业 创新 发展 促进 景区 转型 升级 推动 旅游业 景区 旅游 全域 旅游 发展 模式 转变 深度 发掘 白云山 景观 人文 价值 白云山 灿烂 历史 文化 唯美 银杏 景观 传播 出去 本次 活动 千年 银杏 白云 盛景 主题 嵩县 人民政府 主办 白河 人民政府 洛阳 白云山 旅游 度假区 承办\n",
          "不止 旅行 淮阳 太昊陵 摊位 震惊 网友 据说 太昊陵 去年 27.2 两米 摊位 今年 飙升 开心 感到 汗颜 开心 疫情 暴雨 洗礼 老家 河南 文旅 终于 复苏 汗颜 三大 伏羲 纪念地 天水 孟津 淮阳 唯独 孟津 龙马 负图 心疼 游客 稀少 设施 陈旧 地广人稀 不禁 唏嘘 洛阳 悠久 历史 相比 两地 绝对 天花板 伏羲 文化 传承 挖掘 比起 两地 确是 天上 地下 故里 龙马 负图 太昊陵 分别 分别 伏羲 出生 地方 工作 地方 长眠 地方 始建 晋穆帝 永和 四年 公元 感念 人文 之祖 伏羲 功绩 图河 故道 建起 第一座 祭礼 场所 河洛 文化 河图 出现 中华 易学 发源地 距今已有 余年 历代 战乱 屡建 修复 负图 大殿 重修 伏羲 龙马 并建 山门 一座 图河架 石桥 三座 逐步 恢复 寺院 原貌 发展 成为 炎黄子孙 祭祖 圣地 河图洛书 研究 中心 初名 浮图 永嘉 改为 河图 梁武帝 改称 龙马 唐高宗 麟德 四年 更名 兴国 明嘉靖 四十二年 负图 清乾隆 十九年 皇庙 民国 又称 其为 负图 北临 黄河 南依 邙岭 汉陵\n",
          "全天候 健康 旅游 甘肃 甘肃 文旅 公元 隋文帝 杨坚 颁下 诏令 全国 个州建 舍利塔 供养 舍利 阿育王 所建 同一 修起 隋文帝 仁寿 元年 建起 舍利塔 限定 午时 石函 泾川 云寺 隋代 泾州 兴国 长安 门户 公元 武则天 登基 称帝 男尊女卑 时代 武则天 称帝 受到 方面 反对 阻挠 武则天 女性 经变 故事 主题 大云经 极为 崇敬 当年 颁行 天下 敕令 两京 长安 洛阳 诸州 各建 一座 云寺 珍藏 大云经 总遣 千名 僧人 各地 升高 讲解 大云经 泾州 云寺 隋代 兴国 原址 兴建 塔基 石函 舍利 舍利 取出 当时 中国 制作 袖珍 金银器 工艺水平 最高 工匠 选择 当时 珍贵 珠玉 宝石 凝炼 时代 最高 智慧 金雕 做成 鎏金 铜匣 金银 棺椁 并用 琉璃 盛装 佛祖 舍利 再配 石函 公元 重新 放入 地宫 建塔 供奉 这比 陕西 扶风 法门寺 地宫 平凉 云寺 文旅\n",
          "期待 洛阳 举办 金秋 文化 艺术节 红歌 大赛 唱红 门票 赢大奖 值此 河洛 文化 旅游节 盛大举行 之际 庆祝 中华人民共和国 华诞 洛阳 白云山 金秋 文化 艺术节 洛阳 拉开帷幕 这次 白云山 金秋 文化 艺术节 主要 活动 内容 两大 板块 一是 红歌 大赛 海选 比赛 时间 日二是 广场 大赛 海选 比赛 时间 比赛 地点 洛阳 西工区 王府井 百货 正门 广场 报名 方式 识别 图中 二维码 VX 扫码 报名 点击 进行 在线 报名\n",
          "洛阳 老赐婚 洛阳城 嘉宾 本人 妹子 一枚 长得 身高 洛阳 本地人 家里 公主 女孩子 独立 本人 拥有 一份 稳定 不错 工作 福利待遇 堪比 国企 员工 找个 颜值 身材 女朋友 抱歉 肯定 符合条件 本人 性格 活泼开朗 厅堂 厨房 会卖 萌会 撒娇 平时 休息 喜欢 旅游 一名 小小 罕见 志愿者 平时 喜欢 爱心 泛滥 希望 找个 洛阳 本地人 住房 父母 其实 喜欢 父母 一起 美有 一份 稳定 工作 积极向上 身高 最起码 以上 接受 年龄 之间 长相 过得去 就行了 毕竟 本人 长得 希望 有缘人 速速 赶来 刚好 搭伙 过个 情人节\n",
          "心动 旅游 余舍 一场 心灵 之约 遇见 最好 一阵 寒风 吹过 梧桐叶 婆娑 纷飞 路面 金黄 叶子 越积越 热闹 抬头 枝干 略显 冷清 竟然 留不住 飘落 只顾 欣赏 舞动 即将 到来 寒未 寒之时 做些 打算 冬过 更加 温暖 美好 变得 更加 活泼 充盈 余舍 一群 可爱 屋子 融融 春光 美美 安歇 三五 好友 喝茶 叙谈 丰富多彩 文化 活动 望春门 瓦灰 层叠 掩映着 余舍 客房 这般 温馨 静谧 守候 旅行 洛阳 余舍 精品 酒店 神奇 河南 洛阳 热门 假装 旅游 汉子 洛阳 洛阳 瓦库 余舍 精品 客栈\n",
          "今天 朋友 一起 出去 旅游 洛阳 几天 哈哈哈哈 非常 非常 期待 倒计时 七天 今天 以为 发手机 没想到 八点 好多天 好开心 聊天 每次 拍下 照片 今天 朋友圈 ban zhang 每次 发手机 朋友圈 恩爱 哈哈哈 今天 快递 太快 真快 昨天 刚寄到 一天 一天 太快 丰特 我爱你 看到 流星 许愿 许愿 两个 一起 幸好 几天 训练 受伤 今天 快乐 一天 晚安 宝宝\n",
          "龙文 Sky 这座 低调 小城 历史 唯一 称为 古都 城市 巡游 洛阳 旅行 司马迁 史记 一句 三代 之居 之间 就是指 洛阳 丽景门 金明 时期 建筑 洛阳城 文物古迹 更是 洛阳城 地标 最深 记忆 城门 瓮城 箭楼 城墙 丽景桥 护城河 部分 组成 洛阳 老城区 值得 旅游 打卡 本地人 经常 吃喝 游玩 九州 古建筑 不少 不少 汉服 爱好者 拍照 打卡 九州 建于 唐宋 沿用 武则天 时期 皇家 园林 园内 水网 密布 殿台 楼阁 点缀 其间 其景 美不胜收 有瑶 光殿 五明殿 望景台 重要 精美 宫殿 建筑 中国 古代 皇家 园林 杰出 典范\n",
          "主编 漫话 沧州 庆祝 沧州 铁狮子 登上 国家 名片 狮城 沧州 应该 一座 狮子 文化 博物馆 城市 象征性 品牌 肯定 来自 城市 核心 资源 这种 核心 资源 风景 黄山 园林 苏州 名人 曲阜 矿产 大同 动植物 四川 卧龙 历史 文化 西安 洛阳 沧州 目前 缺乏 明确 统一 城市 品牌 名叫 狮城 铁狮子 元素 已经 遍地开花 围绕 铁狮子 所作 文章 不够 最起码 更加 丰富 狮子 文化 引进 铁狮子 旅游 当中 完全 狮子 文化 博物馆 沧州 这点 魅力 沧州 沧州 漫话 沧州 博爆 沧州\n",
          "大量 游客 滞留 老君山 怒喊 退票 景区 回应 新年 第一天 河南 洛阳 老君山 景区 众多 游客 反映 游玩 被困 滞留 山上 长达 小时 多段 网传 显示 景区 一处 山顶 平台 游客 众多 寸步难行 游客 帽顶 积了 一层 薄薄的 游客 游客 不停 大声 退票 发布者 金顶 集体 退票 没来 不要 老君山 景区 工作人员 回应 当天 进入 景区 游客 1.8 万人 景区 中午 停止 门票 售卖 山顶 下雪 导致 比较 出现 短暂 拥堵 情况 工作人员 迅速 采取 应对 措施 已经 时间 游客 疏散 工作人员 表示 景区 并未 封锁 通往 金顶 冬季 下午 以后 确实 允许 游客 继续 金顶 当天 退票 游客 景区 办理 退票 洛阳市 栾川县 文化 广电 旅游局 工作人员 表示 游客 滞留 山上 是因为 山顶 下雪 路滑 具体情况 了解 核实\n",
          "千年 龙泉剑 十四 晋武帝 司马炎代 魏起 两晋 南北朝 直至 隋朝 统一 南北 年间 黑暗 历史 时期 分裂 割据 混战 迄无 间断 时期 特点 数十万 上百万 人口 颠沛流离 惨状 屡屡 出现 长安 洛阳 名城 几度 野草 丛生 大片 古代文明 毁灭 人口 锐减 记录 数字 不到 汉代 盛世 三分之一 尽管如此 南北朝 科学技术 堪称 奇迹 出现 祖冲之 儿子 贾思勰 陶弘景 大家 时期 马镫 普遍 使用 瓷器 制造 发展 已到 成熟 阶段 生铁 熟铁 合炼 成钢 灌钢 技术 成熟 北史 传中 綦母怀 文用 此法 造铁刀 以牲 牲脂 淬火 斩甲过 三十 地域 原因 龙泉 这块 土地 置于 两晋 南朝 时期 版图 之内 相对 安宁 龙泉 铸剑业 不见 史载 不经意 一段 多年 岁月 遗留下 文化 痕迹 南朝梁 简文帝 拭龙渊 之雄剑 魏国之 宝刀 七励 隋末唐 初时 虞世南 古有 龙渊 太阿 至今 擅名 天下 北堂 书钞 诗句 提供 信息 一时期 龙泉 本土 铸剑业 仍然 顽强 艰难 存在 名声 唐代 龙泉 铸剑业 情况 清晰 一位 李峤 诗人\n",
          "认证 洛阳 旅游 发展 目标 洛阳 旅游 产业 发展 作业 洛阳 推动 小浪底 眉山 申报 5A 景区 全市 5A 旅游 景区 达到 4A 旅游 景区 达到 3A 以上 景区 实现 5G 覆盖 5A 景区 全面 实行 门票 预约 制度 不得不 洛阳 旅游 种类 非常 齐全 历史 文化 历史 文化 山水 资源 山水 资源 工业 遗产 工业 遗产 冬季 滑雪场 滑雪场 河南省 洛阳 实力 成为 中原 旅游 中心 到时候 洛阳 5A 景区 占据 河南 50% 左右 具体 作业 内容 表格 中原 势力\n",
          "伏牛山 全域 旅游 扶贫 联盟 成立 伏牛山 地区 河南省 生态旅游 资源 富集区 洛阳 南阳 平顶山 三市 包括 南召 内乡 淅川 西峡 栾川 嵩县 汝阳 鲁山 八县 总面积 平方公里 伏牛山 地区 属于 秦巴山区 集中 连片 特困 地区 范围 国家级 贫困县 省级 贫困县 多年 发展 伏牛山 生态 旅游圈 成为 中原 全国 重要 旅游 目的地 限于 行政区划 壁垒 造成 各县 单打独斗 未能 形成 旅游 发展 合力 规模 竞争 优势 不利于 伏牛山 地区 整体 旅游业 推进 河南 全域 旅游 创建 体制 机制 创新 进一步 提升 伏牛山 旅游 精品 线路 全国 旅游 市场 竞争 优势 打造 河南 旅游 亮点 增长极 嵩县 栾川县 西峡县 联合 成立 伏牛山 全域 旅游 扶贫 联盟 伏牛山 全域 旅游 扶贫 联盟 签约 仪式 嵩县 举行 标志 河南省 打造 伏牛山 精品 旅游圈 号角 正式 吹响\n",
          "认为 走过 五大洲 所有 知名 国家 城市 早已 打卡 全国 二线 旅游 城市 近十年 中国 城市 发展 迅速 以非 往日 可比 个头 进城 姑娘 疫情 无聊 日子 张潮 没错 民族 世界 中国 璀璨 华夏 文明 传统 文化 子孙后代 玩儿 多着呢 迷信 追逐 忽略 国内 旅游 市场 发展 迅速 超乎 想象 范围 很多 复原 原始 建筑 带给 震撼 回味 之美 触摸 内心 中国 文化 足以 留恋 洛阳 这波 夜游 操作 成功 洛阳 洛邑 古城 景区\n",
          "提醒 端午 长假 出行 河南 高速公路 免费 攻略 收起 端午 长假 出行 河南 境内 高速公路 免费 节点 牌照 以下 小型 客车 行驶 以下 几个 特定 路段 免收 高速公路 通行费 郑州 绕城 高速公路 区间 郑少 高速公路 区间 安装 中原 ETC 设备 持有 中原 ETC 非现金 支付卡 郑新 黄河 大桥 焦作 武陟县 嘉应观 收费站 郑州 绕城 任一 收费站 安装 中原 ETC 收费 后退 牌照 以下 小型 客车 安装 中原 ETC 设备 行驶 洛阳 绕城 高速公路 实行 免费 通行 端午 假期 期间 郑州 中心 向外 辐射 短途 旅游 出行 车流 较大 预计 全省 路段 主要 分布 港澳 高速 G4 郑州 许昌 连霍 高速 G30 广武至 郑州 柳林 机场 高速 S1 全线 郑少洛 高速 S85 新密 商登 互通 兰南 高速 S83 襄城 永登 互通 郑西 高速 S88 郑州 始祖 山段 提醒 回程 司机 由西 北方 车流 容易 集中 高速 惠济 柳林 导致 市内 京广 快速路 中州 大道 通行 压力 建议 西南 绕城 高速 提前 高速 收费站 由南向北 郑则 建议 绕行 西南 绕城 高速 避开 郑尧 高速 侯寨 港澳 高速 郑州 东段 河南日报\n",
          "洛阳市 首张 中国 绿卡 发放 公安局 意大利 华人 吴林飞 发放 中华人民共和国 外国人 永久 居留 身份证 这是 去年 我国 绿卡 制度 改革 我市 外国人 发放 首张 绿卡 当天 吴林 飞带 妻子 女儿 来到 公安局 出入境 接待 大厅 领取 期盼 已久 中国 绿卡 绿卡 有效期 到期 申请 换发 新证 吴林飞 今年 出生 江苏 出国 留学 留在 国外 工作 加入 意大利 国籍 吴林飞 单位 派往 中国 工作 我市 一名 女子 结婚 去年 方便 工作 生活 公安局 提交 中华人民共和国 外国人 永久 居留 身份证 办理 申请 太高兴 这张 绿卡 办理 洛阳 旅游 年票 享有 权益 吴林 飞难 内心 激动 洛阳 日报 申利超 通讯员 魏征\n",
          "改革 发展 辞典 十九 中国 河南 自由贸易 试验区 中国 河南 自由贸易 试验区 正式 挂牌 成立 河南 自贸 试验区 涵盖 三个 片区 郑州 片区 重点 打造 多式 联运 国际性 物流 中心 发挥 服务 一带 一路 建设 现代 综合 交通枢纽 作用 开封 片区 重点 打造 服务 贸易 创新 发展 和文 产业 对外开放 先行 促进 国际 文化 旅游 融合 发展 洛阳 片区 重点 打造 国际 智能 制造 合作 示范区 推进 华夏 历史 文明 传承 创新 建设 自贸 试验区 国家 地区 境内 设立 货物 监管 外汇 管理 税收政策 企业 设立 领域 实行 特殊 经济 管理体制 特殊政策 特定 区域 境外 进行 贸易 享受 高度 自由 境外 入区 货物 关税 实施 免税 保税 河南 自贸 试验区 战略 定位 制度 创新 核心 复制 推广 基本 要求 加快 建设 贯通 南北 连接 东西 现代 立体 交通 体系 现代 物流 体系 自贸 试验区 建设 成为 服务 一带 一路 建设 现代 综合 交通枢纽 全面 改革开放 试验田 内陆 开放型 经济 示范区 参考\n",
          "携程 联合 新华 财经 发布 五一 旅行 数据 报告 报告 显示 北京 热门 旅游 城市 上海 广州 杭州 成都 西安 南京 重庆 武汉 长沙 入围 五一 黄金周 十大 热门 旅游 城市 上海 迪士尼 度假区 颐和园 华山 成都 大熊猫 繁育 研究 基地 八达岭长城 圆明园 拙政园 长隆 野生动物 世界 龙门石窟 西安 城墙 跻身 五一 黄金周 热门 景区 TOP10 今年 五一 出游 人群 比达 37% 位列 比达 27% 比达 21% 关键词 搜索 小吃 夜市 奶茶 打卡 地标 建筑 位列 热度 前五 关键词 分别 景区 三亚 自驾 线路 酒吧 长隆 荆州 连云港 汕头 湖州 大同 洛阳 淮安 张家界 济宁 日照 入围 今年 五一 黄金周 增速 最快 目的地 城市\n",
          "河洛 文化 旅游节 洛阳 河洛 文化节 花车 巡游 大招 中秋节 持续 火爆 全球 国际 热气球 旅游节 洛阳 八里 文化公园 震撼 开幕 转发 三个 好友 机会 获得 价值 门票 两张 洛阳市 旅发委 官方 随机 抽取 粉丝 随后 公布 中奖 名单 中奖 粉丝 账号 洛阳 报业 集团 领票 截止 日期 白天 几十只 造型各异 热气球 上天 太阳 肩并肩 夜幕降临 有亮 24K 钛合金 热气球 光雕 音乐节 爵士 摇滚 多种 音乐 翻天 一票 双景 地址 龙门 大道 伊洛路 交叉口 咨询电话 领票 地址 河南省 洛阳市 开元 大道 洛阳 日报 报业 集团 办公室\n",
          "成员 动态 冬春 航季 史上 火热 冬春 航季 来临 美兰 机场 迈入 万级 机场 行列 海口 美兰 国际 机场 官方 冬春季 航空 旅游 信息沟通 海口 航空 旅游城 顺利 召开 会议 通报 美兰 机场 冬春季 航线 航班 相关 情况 新航 美兰 机场 开通 航线 上年 同期 增加 新开 航线 通航 城市 达到 同比 冬春 航季 增加 开通 承德 达县 广元 洛阳 茅台 唐山 黄山 盐城 悉尼 多个 国内外 新航 今年 抓紧时间 再浪 一把\n",
          "徐暇 游记 广州 越秀 迎春花 公众 驰坪轩 人山人海 人气 大吉大利 过大年 蜂蝶 如织 遍地 繁花似锦 满园 争奇斗妍 越秀 绚丽多彩 向前 独乐 乐乐 普天同庆 心安 以上 四联 四个 概括 广州 花城 迎春花 早就 名扬 五洲 饮誉 四海 越秀 花市 锣鼓喧天 鼓声 干净 整洁 街道 老远 感受 过年 花市 嘉年华 气氛 上午 九点半 已经 人山人海 人们 穿着 节日 盛装 洋溢着 喜悦 表情 海洋 任意 遨游 大盆小盆 高矮不一 形态各异 金桔 受欢迎 代表 大吉大利 花市 占用 一条街 繁花似锦 形容 恰当 活泼 蜜蜂 彩色 蝴蝶 过年 来回 穿梭 期间 场景 刘克庄 洛阳 三月 花如锦 工夫 织得成 描写 再就是 近距离 走过 摊位 欣赏 花种 花争 奇斗妍 分明 比一比 秀美 绚丽多姿 跃跃欲试 挣着 向前 仿佛 装点 温馨 越秀 地名 向前 人名 符合 一联 对账 要求 地方 旅游 人多 乐乐 乐乐 普天同庆 一片 祥和 心安 苏东坡 谪居 广东\n",
          "古都 八点 相约 洛阳城 文旅 消费 促进 活动 期间 万文旅 消费 补贴 再来 一波 快来 响应 本次 文旅 消费 促进 活动 推动 文旅 消费 提质 扩量 助力 国家 文化 旅游 消费 示范 城市 工作 持续 提升 激发 演艺 消费 潜力 特邀 河南 剧院 新编 关公 义薄云天 来洛 文旅 消费 形式 市民 享受 惠民 观演 日晚 大型 历史 豫剧 义薄云天 即将 洛阳 新区 歌剧院 上演 本次 演出 文旅促 消费 资金 消费者 进行 补贴 市民 享游 洛阳 公众 享受 半价 购票 享游 洛阳 大型 历史 豫剧 义薄云天 洛阳\n",
          "十月份 栾川县 空气质量 全市 最优 万元 奖励 资金 近日 洛阳市 十月份 空气质量 排名 公布 我县 PM10 PM2.5 考核 位居 生态 全市 生态 环境保护 首位 获得 万元 空气质量 生态 补偿 奖励 资金 全市 唯一 奖励 今年以来 不断 提升 我市 空气质量 洛阳市 环境污染 防治 攻坚战 领导小组 制定 洛阳市 环境 空气质量 生态 补偿 暂行办法 分别 周期 对县 PM10 PM2.5 进行 考核 排名 排名 各组 首位 末位 分别 进行 经济 奖励 处罚 环境污染 防治 攻坚战 领导小组 办公室 十月份 全市 空气质量 进行 考核 我县 PM10 PM2.5 考核 排名 位居 生态 首位 完成 市定 空气质量 PM10 PM2.5 月度 目标 相关 规定 获得 万元 奖励 张瑞\n",
          "洛邑 福利社 中国 韵味 中国 范儿 洛邑 古城 中国 韵味 中国 范儿 大型 汉服 活动 正式 上线 华夏 有衣 天地 想要 亲身 体验 汉服 之美 中国 文化 博大精深 参与 活动 机会 免费 汉服 古城 体验 中国 魅力 汉服 文化 活动 时间 活动 地点 洛阳市 老城区 东路 柳林 交叉口 北侧 洛邑 古城 参与 方式 关注 洛邑 古城 公众 连续 转发 本条 即可 到洛邑 古城 免费 汉服 古城 仅限 当天 人及 以上 古城 游玩 可享 每人 9.9 原价 汉服 体验 活动 详情 咨询 洛邑 古城 游客 中心 前台 本次 活动 最终 解释权 归洛邑 古城 所有 图片 源自 网络\n",
          "最近 目标 下周 考完试 下午 四点 牙拔 完成 唯一 实现 目标 减个 山东 游个泳 一年一度 小伙伴 生日礼物 快递 过去 圆满结束 干考 教师 没考上 考了 中建 没考上 考了 中粮 没考上 面试 银行 不想 北京 上海 天津 洛阳 旅游 可怜兮兮 净忙 二战 心中 有党 当代 青年 唯心 关帝庙 天后宫 龙门石窟 孔庙 国子监 毛毛 圣贤 心中 情怀 教育学 以为 没想到 老师 出题 考前 一周 凯程 关注 特殊教育 许诺 考研 考上 手语 盲文 十分 拥有 一套 芥子 画传 微字 好看 拥有 苦于 没钱 故宫 客服 文献学 书目 没想到 专业 素养 已经 支持 找到 那本书 对不起 心怀 天下 人生目标 万众 师表 薪火相传 定向 教师 储备 头发 超标 要死 即使如此 诸神 黄昏 裙子 穷且 败家 plus.18 盘锦 兴隆 街区\n",
          "洛阳 洛阳 旅游 攻略 洛阳 美食 美食 旅行 熊猫 大家 安利 一家 美味 小资 烧烤店 网红 风格 店面 设计 主色调 为白 简洁 干净 每晚 后会 夜场 暖光 为主 暗光 为辅 个人 喜欢 黄光暖调 历用 场景 下约个 小会 显得 特别 温柔 星星 烧烤 主打 味道 川味 主打 另有 熊猫 冒菜 玉兔 伤心 凉粉 特别 好看 蔬菜 玉米 人工 一粒 一粒 串出来 川味 烧烤 看到 一定 明白 个人 比较 喜欢 菜品 泰式 鸡肉 听说 老板 泰国 当地 考察 美食 味蕾 记忆 国内 演变 新鲜 鸡肉 烤炉 变得 外焦里嫩 后味 柠檬酸 加以 提鲜 好吃 鲫鱼 浓浓的 酸豆角 香味 吐司 广味 香肠 麻辣 兔丁 回味无穷 小牛肉 香辣 脆爽 青笋 看到 不要 夏天 夏天 味道 继续 品味 个人 特别 喜欢 味道 店面 风格 美味 拍照 大家 一定 尝试 一下 位置 洛阳市 洛龙区 古城 学府 向东 公交车站\n",
          "春游 概括 河南 文化 两个 厚重 古时候 地处 黄河流域 河南省 中华民族 发源地 盘古开天 女娲 造人算 盘古 河南 驻马店 女娲 城在 河南 周口 西华 三皇五帝 黄帝 河南 新郑 伏羲 河南 周口 尧山 河南 平顶山 第一个 朝代 夏都 河南 许昌 禹州 文字 可考 信史 商代 殷墟 河南 安阳 中国 八大 古都 河南 境内 四个 洛阳 开封 安阳 郑州 累计 中华 都城 所在 繁华 之地 得天独厚 条件 藏品 故宫博物院 北京 台北 河南 博物院 当属 第一 馆藏 文物 万多件 史前 文物 商周 青铜器 历代 陶瓷器 玉器 最具 特色 国家一级 文物 国家 二级 文物 余件 一部分 藏品 被誉为 国之 重器 随随便便 拿个 物件 一看 却是 商代 西周 捂脸 观展 条件 博物馆 非常 值得 一趟 郑州 旅游 郑州 河南省 博物馆 地点 旅游 旅游\n",
          "令人 心动 街区 最美 风景 路上 古今 兴废 请君 洛阳城 洛阳 我国 建都 年代 最早 朝代 时间 最长 著名 古都 辉煌灿烂 历史 文化 积淀 造就 洛阳 气魄 洛阳 老城 历史 文化 街区 洛阳城 传统 风貌 唯一 保存 较为 完整 地段 历史 文化 街区 整体 体现 特有 历史 价值 展示 明清 时期 典型 风貌 逐步形成 洛阳 别具一格 街区 特色 近日 文化 旅游部 国家 发展 改革 发布公告 正式 公布 国家级 旅游 休闲 街区 名单 洛阳 古城 历史 文化 街区 名列 在册 洛阳 旅游 河南省 文化 旅游 官方 文旅 中国\n",
          "洛阳 爆料 一卡 在手 智行 九州 洛阳 都行 公交 异形 上市 落实 绿色 出行 号召 满足 广大 市民 方便 快捷 乘坐 公交 地铁 依托 洛阳 十三 古都 打造 洛阳 旅游 城市 洛阳 公交 集团 设计 开发 洛阳 元素 文创 产品 都行 公交 异形 定于 面向社会 发行 卡片 使用 范围 该卡 全国 联网 城市 乘坐 公交 地铁 交通工具 洛阳 乘坐 公交 享受 优惠 乘坐 地铁 享受 9.5 优惠 具体 使用 城市 如下 图二 异形 种类 卡片 精致 美观 分为 可折卡 滴胶 软胶 3D 四种 每个 种类 数量 有限 具有 洛阳 特色 具有 收藏 价值 购买 方式 用户 全市 公交 充值 网点 进行 线下 购买 具体地址 如下 图待 网络 销售 渠道 建设 完成 用户 微店 抖音 商城 渠道 进行 在线 订购 充值 方法 用户 全市 人工 充值 进行 充值 手机 下载 洛阳 app 使用 可贴 充值 NFC 功能 随时随地 公交 异形 进行 充值 真正 实现 一卡 在手 智行 九州\n",
          "车载 民生 行天下 河南 旅游 行天下 汽车票 旅游 风景 智慧 购票 便民 出行 河南 洛阳 鸡冠 风景区 鸡冠 风景区 位于 洛阳市 栾川县 以西 公里 双堂 沟内 属于 喀斯特 岩溶地貌 鸡冠 斜入 地下 长达 多米 北方地区 罕见 洞穴 旅游 景区 洞中 一年四季 恒温 严冬 季节 洞内 暖意 融融 盛夏 酷暑 洞中 寒气 侵袭 爽凉 宜人 被誉为 自然 空调 形成 几亿年 鸡冠 唐代 贞观 年间 公元 发现 洞内 面积 巨大 分为 多个 不同 主题 景区 玉柱 溢彩 中国 看看 行天下 汽车票 方便快捷\n",
          "旅行 春游 洛阳城 之洛邑 古城 洛邑 洛阳 古时 旧称 由古 至今 华夏 文明 代表 历经 十三 古都 喻为 文化 圣城 千百年来 河南 人民 哺育 洛邑 地区 逐渐 形成 汉族 文化 民族 文化 共融 北方 文化 南方 文化 交错 乡野 文化 宫廷 文化 同息 文化 特征 中华民族 文化 之林 增添 一副 深邃 博大 区域 人文 精神 画卷 围绕 洛邑 古城 景区 科技 创新 传统 文化 相结合 园区 文峰塔 文庙 妥灵宫 四眼井 保护 遗址 节点 以新潭 护城河 水系 纽带 古典 现代 有机 结合 建筑 建筑 割裂 整体 目标 体现 洛邑 古城 传统 文化底蕴 不失 现代 气息 园区 科学 划分 功能 区域 千年 古城 风采 集中 展现 洛阳\n",
          "俯瞰 粤东 明珠 潮州 广济桥 潮州 位于 粤东 韩江 中下游 一座 历史 旅游 名城 韩文 公祠 开元寺 广济桥 最为 出名 潮州 广济桥 俗称 湘子桥 横跨 韩江 中国 四大 古桥 赵州桥 洛阳桥 卢沟桥 广济 二字 寓意 广济 百粤之民 民谣 不到 枉费 走一遭 到潮 不到 白白 一场 广济桥 潮州 八景 潮州 著名 文物 旅游胜地 特有 高雅 造型 令人 叹为观止 艺术 价值 成为 岭南 人们 吟诵 对象 游览 名胜 潮州 广济桥 有三大 特色 十八 梭般 廿四 廿四 楼台 廿四 长桥 一里市 潮州 广济桥 浮梁 结构 梁舟 结合 明宣德 年间 建有 二十六 之外 桥墩 修筑 楼台 广济 有云 方文 一楼 十丈 一阁 古代 岭南 风雨 桥中 规模 之大 形式 之多 装饰 之美 世所 罕见 潮州 广济桥 意境 之美 感叹 低山 舟小水 亲人 太阳 初升 夜色 雨中 美不胜收\n",
          "技术 在手 天下 可能 不会 一夜 暴富 绝对 不会 发愁 当下 炙手可热 稀有 技术 全新 启航 预约 熙儿 致力于 文化 传播 传承 全系 制作 教学 培训 上门 制作 教学 拥有 全面 导师 团队 只为 欢迎 各路 大神 合作 团队 招募 全面 复盘 熙儿 郑州 洛阳 重庆 青岛 武汉 南京 东营 太原 安阳 平顶山 濮阳 上海 北京 广州 深圳 汕头 香港 澳门 石家庄 保定 唐山 济南 泰安 晋城 遂宁 成都 杭州 郑州 培训 制作 北京 熙儿 培训 郑州 熙儿 熙儿 驻马店 平舆\n",
          "隋唐洛阳城 国家 遗址 公园 坐落 中州 中路 定鼎 交叉口 地处 洛阳市 市中心 交通 便利 五代 北宋 时期 都城 陪都 核心 区域 所在 当时 全国 政治 经济 文化 活动中心 沿用 余年 洛阳 明堂 天堂 景区 修建 当年 隋唐 宫城 遗址 之上 景区 位于 洛阳市 老城区 这是 非常 值得 地方 里边 每一处 景观 深厚 历史 底蕴 一座 洛阳城 半部 中国史 古今 兴废 请君 洛阳城 洛阳 旅行 洛阳 旅游 河南 旅游 洛阳 明堂 天堂 景区 李培友\n",
          "中国 古建 传奇 中国 四大 名桥 洛阳桥 又名 万安 建于 北宋 泉州 蔡襄 主持 修建 我国 现存 最早 跨海 梁式 大石桥 洛阳桥 桥长 桥宽 退潮 桥下 滩涂 当地人 很多 牡蛎 有意思 年前 洛阳桥 修建 伊始 桥下 养殖 牡蛎 牡蛎 吸附 桥墩 桥墩 桥基 连接 更为 紧密 牢固 不得不 感叹 古人 智慧 竟能 年前 想到 生物学 工程学 结合 一起 一天 泉州 旅行 泉州 中国 古城 细说 国家 历史 文化名城 亲历者 长假 旅行 编辑部 中国 古建筑 泉州 旅游 泉州网 成都 天府 街区\n",
          "首批 洛阳 礼物 亮相 包括 余种 余个 单品 昨日 上午 我市 首家 洛阳 礼物 线下 体验 汝阳县 正式 运营 不同 类别 陈列 各具特色 洛阳 礼物 洛阳 礼物 我市 旅游 部门 顺应 旅游 产业 升级 趋势 游客 品质 旅游 购物 需求 发起 建立 洛阳 旅游 商品 品牌 首批 亮相 洛阳 礼物 包括 仿古 制品 农副 特产 手工艺品 茶具 洛阳 吉祥物 余种 余个 单项 产品 今后 洛阳 礼物 成为 我市 主打 旅游 系列产品 更好 彰显 千年 帝都 风采 首批 洛阳 礼物 亮相 包括 余种 余个 单品\n",
          "驴友 1.20 1.27 选择 福建 泉州 鲤城区 文化宫 附近 地铁 公交 打车 步行 景点 方便 老城区 旅游 观光车 开元寺 承天寺 烧香 祈福 门票 预约 五元 一张 晚上 点闭 浔埔村 衣服 拍照 海蛎 牛肉 参观 洛阳桥 洛阳 古镇 对面 蔡襄 雕塑 即可 到达 景区 特色 古厝 民居 祠堂 参观 当地 渔民 现场 捕捞 海蛎子 蛏子 非常 鲜美 母鸭 土笋 非常 好吃 梧林 古村 逛逛 五店 好吃 选择 浙江 湖州 千岛湖 滑雪 竹海 民宿 温泉 比较 温暖 地方 一女 无车 费用 AA 相处 兴趣 私信 希望 同行 年龄\n",
          "东方红 工业 景区 洛阳 工业 文化 旅游 服务中心 外地 朋友 领略到 洛阳 工业 城市 独特 魅力 之外 游客 朋友 了解 洛阳 各类 历史 文化 洛阳 周边游 项目 盛大 开启 优惠 升级 洛阳 一日游 精品 线路 少林寺 一日游 龙潭 大峡谷 一日游 半价 门票 往返 路费 保险 龙门石窟 少林寺 一日游 龙门石窟 白马寺 一日游 人含 保险 往返 路费 以上 线路 纯玩 购物 自费 注明 报名 准备 名字 身份证号 投保 自主 选择 洛阳 周边 景点 线路 价格 同样 优惠 地址 洛阳市 涧西区 建设路 东方红 农耕 博物馆 咨询电话 18638824109O 外地 朋友 过来 学生证 洛阳 周边 一日游 特产 享钜惠 洛阳 建设路\n",
          "旅行 旅行 推荐 河南 旅行 旅行 文化 自然遗产 继续 探索 洛阳 博物馆 今天 二里头 夏都 遗址 博物馆 二里头 遗址 北依 邙山 南望 嵩岳 前临 伊洛 后据 黄河 位居 古代 中国 天下 之中 最早 王朝 夏朝 都城 遗存 远远望去 台地 地势 之外 完全 一片 乡野 景象 二里头 夏都 遗址 博物馆 依托 二里头 遗址 而建 汇集 二里头 遗址 发现 以来 考古 发掘 研究成果 精华 主要 青铜器 陶器 玉器 绿松石 骨角牙器 博物馆 系统 展示 夏代 历史 二里头 遗址 考古 成果 文化 探索 历程 夏商周 断代 工程 中华文明 探源 工程 研究成果 旅游 旅游 洛阳 二里头 夏都 遗址 博物馆\n",
          "泉州 厦门 喧闹 游客 厦门 不失 游客 泉州 美食 闻名 佛教 建筑 不输 美食 洛阳桥 不起眼 普普通通 确实 海上 丝绸之路 起点 曾经 申遗 驳回 一次 材料 文化 历史 不够 深厚 再次 申遗 最终 申遗 成功 主要 地基 建构 明代 清代 石墩 当时 石墩 老百姓 一个个 接力 投入 完成 开元寺 东西 建筑 画壁 精美 左右 对称 建筑 屋檐 独角兽 包括 框景 手法 流连 不肯 离去 开元寺 旁边 西街 到处 小吃 涂鸦 咖啡 咖啡 主要 机位 登楼 远眺 西街 对面 便是 开元寺 停车场 旁边 小巷子 开元寺 好看 泉州 建筑 有意思 几何 建筑 外加 玻璃 墙壁 特地 留意 一下 墙壁 回去 立马 查看 资料 原来 红砖 白石 墙壁 泉州 特色 泉州 一句 便是 出砖 入石 砖墙 牡蛎 砖墙 想起 广州 旅游 牡蛎 燕尾 山墙 几何 山墙 梅花 山墙 尖字 山墙 一次 带团 学习 可惜 一天 时间 匆匆忙忙 一次 一定 几天 好好 感受 可能 文化 吸引力 海上 丝绸之路 起点 城市 泉州\n",
          "壮丽 奋斗 时代 壮丽 奋斗 时代 系列 主题 新闻 发布会 文化 广电 旅游局 专场 举行 花香 书香 辉映 远方 同行 洛阳 千年 古都 历史 文化名城 两手 一摸 河洛 文化 双脚 秦砖汉 洛阳城 生动 写照 壮丽 奋斗 时代 系列 主题 新闻 发布会 文化 广电 旅游局 专场 举行 十三 以来 洛阳 坚定 文化 自信 坚持 守正 创新 文旅融合 抓手 加快 构建 文化 传承 创新 体系 积极 打造 古今 辉映 远方 历史 文化名城 我市 建成 乡镇 办事处 综合 文化 服务中心 行政村 社区 综合 文化 服务中心 全市 公共 图书馆 达到 国家 三级 以上 标准 建成 城市 书房 建立 图书馆 流动 服务 余个 壮丽 奋斗 时代 系列 主题 新闻 发布会 洛阳 文化 广电 旅游局 专场 举行 洛阳 日报 朱艳艳\n",
          "河南省 简称 河南省 历史 大部分 位于 黄河 以南 河南 远古 时期 黄河 中下游 地区 河流 纵横 森林 茂密 野象 众多 河南 描述 牵象 象形字 根源 河南 简称 河南 中华文明 中华民族 发源地 中原 河洛 三商 文化 源远流长 汉字 文化 姓氏 文化 根亲 文化 诗词 文化 功夫 文化 博大精深 省内 文物古迹 风景名胜 众多 少林寺 龙门石窟 殷墟 清明 河园 黄帝 故里 商丘 古城 嵩山 云台山 白云山 伏牛山 石人 鸡公山 丹江口水库 武侯祠 闻名 海内外 中国 八大 古都 河南 一省 四个 分别 为夏商 古都 郑州 商都 安阳 十三 古都 洛阳 七朝 古都 开封 四千年 新石器 时代 中原 人民 创造 著名 裴李岗 文化 仰韶文化 龙山文化 河南 我国 姓氏 重要 发源地 中国 大姓 中根 河南 陈林 半天 郑排 满街 之称 海外 四大 姓氏 起源于 河南 豫见 中国 老家 河南 大脸 旅游 大脸 旅游 随笔 漫记 国内 河南 登封 嵩山 中岳 法王\n",
          "洛邑 古城 洛阳 国庆节 国庆节 快乐 最近 长假 小邑 收到 来自 游客 盆友们 洛邑 古城 很多 问题 所有 熟悉 问答 时间 希望 下面 内容 帮到 问题 欢迎 私信 一问 身份证 驾照 旅游 年票 公交 户口本 进么 洛邑 古城 本人 身份证 入园 一人 一证 小时 限制 入园 一次 忘记 携带 身份证 游客 请到 洛邑 古城 游客 中心 前台 咨询 小孩子 身份证 入园 家长 工作人员 说明 情况 陪同 孩子 一同 入园 即可 洛邑 古城 几点 关门 园区 开放 时间 酒店 住宿 打烊 灯光 文峰塔 灯光 每晚 洛邑 古城 附近 有没有 停车 地方 详情请\n",
          "每经整 点播 每经 洛阳 全市 景区 网吧 KTV 城市 书房 暂时 关闭 当前 疫情 防控 形势 确保 广大 市民 游客 生命 健康 安全 维护 全市 文旅 行业 安全 有序 洛阳市 疫情 防控 指挥部 统一安排 全市 文旅 行业 疫情 防控 工作 如下 一是 各类 文旅 场所 暂时 关闭 全市 旅游 景区 网吧 KTV 歌舞 娱乐场所 游艺 娱乐场所 图书馆 文化馆 城市 书房 基层 文化 服务中心 各类 公共 文化场所 即日起 暂时 关闭 二是 严格控制 各类 文旅 活动 原则上 各类 下文 活动 一律 取消 延期 三是 严格 落实 疫情 防控 措施 每经 市监 总局 腾讯 阿里 发布 行政处罚 决定书 玉林 市民 购首 套房 最高 补贴 万元 创业板 早盘 2.77% 风电 中药 领跌 嘉玛 每经 洛阳 全市 景区 网吧 KTV 城市 书房 暂时 关闭\n",
          "洛阳 旅游 景景 推荐 了解 一下 洛阳 周边 草莓 采摘 推荐 紫依香 草莓 采摘 基地 参考价格 门票 小时 草莓 地址 机场路 古墓 博物馆 正门口 向东 十里香 草莓 基地 参考价格 门票 限时 草莓 地址 孟津县 送庄镇 朱寨村 乐园 草莓 基地 参考价格 门票 时间 草莓 地址 孟津县 宋庄 经济 开发区 向西 高速 洛阳 出口 西北 两公里 洋丰 果业 草莓 基地 参考价 地址 孟津县 孟津 会盟 镇省 S314 十里 头村 附近 浦耕 草莓 采摘 参考价格 门票 玫瑰 奶油 巧克力 摘够 元免 门票 地址 新安县 五头 镇仓 村东 岗组 来源 网络 看到 街边 草莓 有没有 流口水 等到 天气 起来\n",
          "洛阳 身边 洛阳 市区 建成 公厕 处于 全国 领先水平 日前 洛阳市 召开 中心 城区 公厕 建设 推进 会议 透露 今年以来 洛阳 新建 公厕 年底 洛阳 旅游 城市 公厕 建设 实行 一厕 一法 突出 文化 特色 老城区 古建筑 区域 仿古 风格 公厕 西工区 涧西区 城市 体现 现代化 风格 洛龙区 高层建筑 集中 区域 将建 所在区域 色调 一致 公厕 高标准 旅游 公厕 安装 空调 确保 全年 室内 温度 洛阳 市区 公厕 分布 点开 看大图",
          "河南 濮阳 多条 客运 班线 暂停 河南 濮阳市 交通运输 集团 了解 濮阳市 当前 疫情 防控 要求 即日起 暂停 濮阳 各县区 郑州 林州 安阳 项城 登封 二安 码头 小集 慈周 桑村 山东 鄄城 德州 兖州 山西 侯马 河北 武安 塘沽 天津 班车 客运 包车 客运 旅游 客运 道路 客运 含对发 班车 公告 暂时 停班 濮阳 洛阳 原阳 周口 许昌 沈丘 湖北 武汉 河北 邯郸 陕西 西安 客运 班线 含对发 班车 继续 暂停 广大 市民 出行 带来 不便 表示歉意 广大 市民 理解 支持 复班 时间 濮阳 出行 微信 公众 第一 时间 公告 敬请 关注 咨询电话 长途汽车站 长途汽车站 发车\n",
          "一起 穿越 河南 美丽 景色 三天 河南 之旅 流连忘返 Day1 郑州市 登封市 嵩山少林寺 感受 中国武术 文化 之源 登封市 品尝 当地 特色美食 烩面 油饼 烤羊肉串 少林寺 一场 精彩 武术 表演 感受 武侠 文化 魅力 Day2 洛阳 市区 龙门石窟 白马寺 洛阳 老城区 来到 洛阳 一定 龙门石窟 欣赏 千年 石刻 艺术 白马寺 千佛洞 地藏殿 必看 之处 夜晚 来到 洛阳 老城区 品尝 鸡汤 馄饨 糖醋 里脊 感受 古城 宁静 Day3 开封 市区 清明上河图 博物馆 大相国寺 来到 开封 游览 清明上河图 博物馆 认识 中国 千年 古都 开封 历史 文化 感受 古代 民俗文化 魅力 大相国寺 内有 一棵 槐树 据说 唐朝 时期 遗物 走近 仿佛 听到 历史 呼吸 行程 提示 带上 舒适 鞋子 轻便 背包 随时 准备 拍照 留念 河南 美食 一定 品尝 烩面 油饼 烤羊肉串 鸡汤 馄饨 糖醋 里脊 味蕾 享受 旅行 美好 河南 旅游 洛阳 导游\n",
          "9.3 9.7 第二次 洛阳 旅游 先是 火车 市里 这次 义勇 前街 市中心 民宿 外面 很破 里面 应天门 丽景门 十字街 洛邑 古城 心心念念 汉服 照片 第二天 老君山 老君 山顶 三个 瑟瑟 发抖 衣服 一起 取暖 奇特 经历 这辈子 忘不掉 回忆 突然 运气 青旅 床位 小姐姐 托关系 订重 无法 免费送 三个 一辈子 运气 日出 隔壁 养子 荒凉 已经 破产 景区 原住 村民 友好 第三天 养子 沟去 重渡 一晚 第四天 十点 爬山 五点 回来 第五天 早饭 民宿 老板 栾川 车站 南阳 紧密 充实 快乐 天花 开心 难得 一次 时间 一点 小钱 朋友 一起 出去 旅游\n",
          "跟着 课本 旅行 暑期 研学游 持续 升温 甘青 连线 游人 气高 黄沙 一睹 蓝天 模样 沙地 一隅 睁开 月牙 般的 眼眶 东方 甄选 主播 董宇辉 甘肃 之行 作文 描述 敦煌 进入 以来 暑期 研学游 市场 持续 升温 加上 近期 长安 三万里 历史 题材 电影 热映 文化 主题 产品 人气 尤其 旺盛 妈妈 旅游网 数据 显示 暑期 平台 研学游 产品 预订 人次 超过 同期 文化 主题 研学 游人 位居 前列 无论是 跟着 课本 打卡 中国 名山大川 人文 古迹 全国 各地 博物馆 参观 文物 亲子 客群 热门 选择 目的地 来看 北京 西安 南京 洛阳 敦煌 人文 历史 景观 资源 丰富 目的地 人气 火爆 博物馆 石窟 热门 景区 门票 一票 难求 跟着 课本 旅行 暑期 研学游 持续 升温 甘青 连线 游人 气高\n",
          "洛阳 爆料 期待 洛阳 盛会 惠民 购物 节来 这是 一场 潮人 这是 一场 精彩 洛龙 魅力 绽放 劲歌热舞 新奇 好玩 网红 直播 潮流 年轻 传统 国粹 文化 创品 古都 生活 洛龙 美好生活 火爆 来袭 激动 心脏 突突 活动 时间 地点 2020.12 12.13 定鼎 门南 广场 定鼎 门街 古城 交叉口 购物 三天 狂欢 六场 演出 古都 生活 千企商超 联合 惠民 购物 场场 主题 场场 亮点 名家 节目 大牌 商家 提前 剧透 正大 集团 卜蜂 莲花 超市 永辉 超市 开元 大张 实业 丹尼斯 百货 百年 老字号 隆庆 宝洁 日化 强强联合 万种 商品 底价 促销 惠民 洛报 购时惠 商超 名品 展销 想要 统统 线下 取货 一站式 购物 年底 一波货 更多 网红 第一书记 现场直播 带货 近距离 感受 直播 魅力 教育 品牌 商品 惠民 展销 推出 教育 惠民 活动 冬季 课时 半价 半年 半年 七折 让利 美食 专场 洛龙 餐饮 冬季 暖心 美食节\n",
          "洛阳 身边 洛阳 王城 公园 新客 马鹿 远道而来 近日 洛阳 王城 公园 迎来 长春市 远道而来 马鹿 出生 不久 梅花鹿 萌宝 一同 迎接 游客 到来 园中 举办 第九届 王城 金秋 菊展 洛阳 河洛 文化 旅游节 专项 活动 月季 绽放 园中 动物 笼舍 栾树 开满 小花 近日 渐渐 变凉 天气 王城 公园 景致 变化 黄花 红叶 绿树 映入眼帘 园中 增添 美景 几天 长春市 远道而来 马鹿 亮相 园中 出生 不久 梅花鹿 萌宝 一同 迎接 游客 到来 园中 美景 相映成趣 王城 公园 工作人员 告诉 梅花鹿 马鹿 一同 入园 到来 优化 园中 马鹿 梅花鹿 种群 提高 出生率\n",
          "遇见 美好 河南 旅游 清迈 出发 翻山越岭 三个 小时 赶到 泰北 清迈 还要 悠然 小城 云顶 云来 小憩 喝到 来自 梅斯 乌龙茶 糯米 浓郁 香味 留下 回到 洛阳 偶尔 朋友 喝起 这款 茶客 甘心 半包 茶叶 兜里 带走 从来 遇到 可口 乌龙茶 过年 联系 云来 小妹 方便 再寄 几包 香茶 思念 之苦 梅斯 特殊 味道 中国 七十年 前迁 至此 华人 云南 口音 华语 老家 中国 机会 还要 云来 坐在 山顶 华人 吹牛 洛阳 摇曳 田间\n",
          "假期 不想 地方 游玩 推荐 王府 珠海 天然 氧吧 适合 周末 出来 放松 一下 ---------------------------- 王府 珠海 国家 4A 景区 位置 位于 河南省 洛阳市 栾川县 城西 北约 公里 狮子 庙镇 境内 气候 栾川 王府 竹海 年均 气温 12.4 门票 ---------------------------- 交通 郑州 小伙伴 高速 经二广 高速 宁洛 高速 转洛栾 高速 郑少洛 高速 经转宁洛 高速 转洛栾 高速 九龙山 潭头 出口 下站 S322 省道 观景 路线 一日游 游客 服务中心 福海 水坝 湘妃 九连 森林 氧吧 秦王 秦王 高山 茶苑 多日 游以 农家 宾馆 度假区 依托 开展 多日 度假 休闲 体验 健体 旅游 杨幂 陈伟霆 现代戏\n",
          "河南 暑期 亲子 研学 河南 灵宝 函谷关 函谷关 我国 历史 建置 最早 雄关 要塞 位置 独特 地势 险要 我国 古代 两大 古都 洛阳 长安 咽喉 距今已有 多年 道教 文化 发祥地 老子 写下 道德经 五千 海明威 有幸 年轻 时到 巴黎 以后 一生一世 小孩 不会 旅行 留下 深刻印象 途中 不停 给予 孩子 新鲜 感受 感受 润物无声 海绵 孩子 慢慢 吸收 潜移默化 影响 孩子 未来 眼界 情操 性格 能力 老家 河南 清凉 一夏 亲子 旅行 河南省 文化 旅游 官方 携程 旅行网 三门峡 三门峡 函谷关 古文化 旅游区\n",
          "聊城 大同 洛阳 通报 首次 告别 历史 文化名城 建部 国家文物局 通报批评 聊城 大同 洛阳 韩城 哈尔滨 五座 历史 文化名城 历史 文化 遗存 遭到 严重破坏 历史 文化 价值 受到 严重 影响 南方周末 了解 通报 历史 文化名城 古城 内大 拆大建 房地产 开发 聊城 问题 严重 大同 最受 关注 去过 聊城 很多 专家学者 有识之士 纷纷议论 一任 领导 一座 古城 怎么得了 早该 摘掉 聊城 国家 历史 文化名城 帽子 平遥 建筑 基本 原汁原味 保留 下来 要求 古城 居民 全部 迁走 旅游 不是 发展 聊城 大同 洛阳 通报 首次 告别 历史 文化名城\n",
          "洛阳 一座 拥有 文化底蕴 古都 更是 不可 错过 旅游胜地 才能 真正 玩转 洛阳 来到 洛阳 龙门石窟 有着 历史悠久 石刻 艺术 五代十国 时期 贺知章 更是 古代 石刻 艺术 巅峰 之作 令人 惊叹不已 前往 白马寺 佛教 圣地 有着 历史悠久 建筑 佛像 有着 悠久 佛教文化 感受 洛阳 民俗文化 洛阳 博物馆 不错 选择 有着 丰富 文物 展品 深入 了解 洛阳 历史 文化 值得 一游 景点 国家级 自然保护区 嵩山 千年 古刹 栖霞寺 老君山 景点 无不 体现 洛阳 丰富 文化底蕴 自然风光 洛阳 既有 文化底蕴 自然风光 城市 领略到 中国 古代 文化 精髓 感受 大自然 壮美 走出 家门 来到 洛阳 一起 探索 这座 城市 美丽 河南 旅游 洛阳 旅游\n",
          "西游 伏妖 观后感 唐僧 终于 悟空 道歉 每个 从小 喜欢 孙悟空 形象 无所不能 超级 英雄 火眼金睛 洞穿 善恶 美丑 师傅 唐僧 一次次 误会 冤枉 紧箍咒 折磨 何曾 不是 感到 憋屈 电影 西游 伏妖 看到 唐僧 跪下 悟空 道歉 那一刻 居然 小时候 三打 白骨精 唐僧 孙悟空 不行 不行 伤害 从不 道歉 抱怨 过去 过去 毫无悔意 心痛 西游记 小时候 记忆 不能 过去 悟空 忠诚 流泪 更恨 唐僧 迂腐 无情 愤恨不平 昨晚 伏妖 大快人心 唐僧 终于 道歉 西游 伏妖 洛阳 身边 洛阳\n",
          "一种 生活 厦门 有奖 互动 春天 第一杯 五一 假期 一线 海景 酒店 享受 浪漫 下午茶 梦回 清宫 游皇城 IN 最潮 主题乐园 乐享 亲子 时光 萌君 统统 满足 缤纷 五一 畅游 厦门 诗意 厦门 富美 同安 厦门 四季 生活 之旅 推介会 走进 河南 洛阳 洛阳 小伙伴 即日起 转发 本条 带上 话题 诗意 厦门 富美 同安 一种 生活 厦门 分享 春季 休闲 生活 方式 萌君 抽取 幸运 洛阳 市民 朋友 同安 春季 休闲 生活 大礼包 万丽 酒店 豪华 一间 方特 门票 两张 同安 影视城 门票 两张 同安 北辰 门票 两张 总价值 超过 中奖者 参加 上午 举办 同安 文旅 推介 活动 现场 颁奖 天降 小伙伴 快快 起来 洛阳 旅游 精彩 洛阳 洛阳 晚报\n",
          "旅行 千年 银杏 白云 盛景 洛阳 嵩县 白云山 第九届 银杏 文化节 主题 活动 隆重开幕 上午 银杏 金黄 洛阳 嵩县 白云山 第九届 银杏 文化节 主题 活动 颜色 深秋 致敬 洛阳 白云山 旅游 度假区 钢河 游客 中心 隆重开幕 白云山 千年 银杏 涵盖 景区 五马 白河 云岩寺 村镇 一带 银杏树 五马 千年 银杏 林有 银杏 余株 树龄 最高 白河 云岩寺 附近 多株 千年 银杏树 树龄 最大 银杏树 高大 粗壮 姿态 优美 气势 非凡 具有 极高 科研 观赏价值 本次 银杏 主题 活动 推动 白云山 旅游业 创新 发展 促进 景区 转型 升级 推动 旅游业 景区 旅游 全域 旅游 发展 模式 转变 深度 发掘 白云山 景观 人文 价值 白云山 灿烂 历史 文化 唯美 银杏 景观 传播 出去 本次 活动 千年 银杏 白云 盛景 主题 嵩县 人民政府 主办 白河 人民政府 洛阳 白云山 旅游 度假区 承办\n",
          "洛阳 身边 洛阳 中国 热门 旅游 城市 排行榜 新鲜出炉 目前 产业 研究院 整理 中国 热门 旅游 城市 排行榜 排名 十分 别是 重庆 香港 上海 北京 深圳 武汉 成都 杭州 澳门 苏州 河南 洛阳 郑州 信阳 分别 排名 满意 排名 中国 热门 旅游 城市 主要 特征 旅游 市场 持续 景气 旅游 资源 丰富 吸引 眼球 旅游 服务质量 旅游 设施 完善 游客 向往 度高 GN 中国 热门 旅游 城市 评价 指标体系 旅游 市场 发展 水平 指数 旅游 资源 丰富 吸引 指数 旅游 服务质量 指数 旅游 设施 完善 指数 游客 向往 指数 在内 一级 指标 二级 指标 组成\n",
          "十一 隋唐 登场 隋唐洛阳城 国庆 旅游 攻略 大盘 金秋 十月 丹桂 飘香 十一 假期 路上 想玩出 假期 隋唐洛阳城 前来 打卡 三大 主题 活动 四场 大秀 穿越 古今 感受 唐风 古韵 精彩 活动 内容 抢先 小红花 三大题 活动 免费 国庆 迎宾 时间 O10 地点 应天门 广场 汉服 巡游 时间 O10 地点 应天门 北广场 盛世 隋唐 国风 大秀 时间 O10 地点 应天门 五凤 通天 浮屠 八方 朝贺 剧本 时间 O10 地点 圣堂 免费 体验 登场 洛阳 沉浸 体验 时间 地点 九洲 池瑶 光殿 小红花 四场 大秀 唐宫乐宴 时间 国庆 假期 周六 周日 地点 应天门 四楼 明堂 韶乐 唐宫 梦乐 时间 十一 假期 每天 地点 明堂 一层 影视 天堂 茶宴 时间 国庆 假期 每天 地点 明堂 天堂 九洲 时间 国庆 假期 每天 地点 九洲 园区 小红花 双秀 齐亮 喜贺 国庆 应天门 灯光 播放 时间 国庆 假期\n",
          "十一 隋唐 酷炫 十一 洛阳 九洲 放大 穿越 大戏 十一 期间 隋唐洛阳城 九洲 分钟 时间 冲击 感官 极致 唯美 舞台剧 高科技 全息 技术 带给 沉浸 幻唐 之夜 身临其境 感受 盛唐 文化 旅行 TIPS 开放 时间 白天 停止 售票 清园 夜场 停止 售票 幻唐 之夜 演出 时间 演出 时长 分钟 演出 票价 十一 购买 门票 十一 购票 渠道 公号 搜索 玩转 隋唐 全景 洛阳\n",
          "旅行 记录 旅行 旅行 洛邑 洛阳 古时 旧称 洛邑 古城 老城区 文峰塔 中心 老城 千年 古风 还原 出来 古城 以唐 民国 时期 建筑风格 建设 基调 发展 继承 洛邑 古城 原有 文化景观 人文 气息 一步 一景 人文 气息 浓厚 夜幕降临 之后 洛邑 古城 白天 魅力 古城 这时候 满城 花灯 唤醒 洛邑 古城 周围 百家 汉服 店为 游客 提供 方便 洛邑 古城 往来 人群 半数以上 服装 服装 大部分 汉服 限于 汉服 漫步 洛邑 古城 仿佛 穿越时空 回到 唐宋 旅游 旅游\n",
          "今日 可能 炒作 概念 板块 个股 燃油 停产 停售 研究 启动 上游 稀土 永磁 资源 企业 需求 持续 个股 天齐 锂业 赣锋 锂业 华友 钴业 洛阳 钼业 中科 三环 腾讯 Intel 共同 开发区 技术 动物 联网 安全 个股 飞天 诚信 四方 精创 新晨 科技 全面 手机 密集 发布 产业链 需求 提升 个股 合力 大族 激光 长信 科技 惠普 开发 超级计算机 利用 光子 通信 取代 电子 通信 个股 光迅 科技 新易盛 阿里巴巴 正在 海外 寻找 适合 景区 试图 开发 酒店 旅游 综合体 拓展 境外 旅游 消费 场景 个股 石基 信息 众信 旅游 上证指数 sh000001\n",
          "春节假期 洛阳 民俗文化 旅游 活动 追捧 洛阳市 文化 广电 旅游局 获悉 春节 期间 洛阳 魏家坡 洛邑 古城 隋唐 遗址 植物园 花果山 鸡冠 景区 举办 民俗 活动 成为 热点 民俗文化 游受 追捧 自驾游 成为 主流 假期 四天 洛阳 实现 旅游 收入 11.87 亿元 春节 非必要 出行 成为 大家 共识 不少 外来 务工人员 选择 过年 为此 洛阳市 出台 优惠政策 精心策划 贴近 民心 民俗 文旅 活动 营造 独具 洛阳 特色 春节 年味 针对 过年 外地 务工人员 洛阳 开展 文旅 惠民 活动 引导 龙门石窟 隋唐洛阳城 国家 遗址 公园 龙潭 大峡谷 景区 履行 提前 预约 手续 符合要求 人员 予以 门票 折扣 或免 门票\n",
          "漫游 中国 系列 vol.28 华灯 绰影 洛邑城 夜游 洛邑 古城 十字街 洛阳 步行 POV 漫游 中国 旅行 4K60 洛邑 古城 被誉为 中原 渡口 位于 河南省 洛阳市 老城区 景区 包含 文峰塔 河南 文庙 妥灵宫 四眼井 金元 古城墙 遗址 多个 历史 时期 保护 建筑 集游 购于 一体 综合性 人文 旅游观光 洛阳 十字街 位于 洛阳 老城区 西大街 东大街 八角楼 金街 称为 十字街 自古 乃是 商人 云集 之地 建国 之后 成为 洛阳市 重要 商业区 更是 洛阳 小吃 汇集 之地 五月 人民日报 官方 评选 全国 十大 美食街 洛阳 老城 十字街 夜市 入选 全国 十大 美食街 旅行 旅行 漫游 中国 洛阳 旅行 散步 旅行 风景 打卡 计划 最美 风景 路上 徒步 徒步旅行 洛邑 古城 十字街 摄影师 楚狂 摄影师 楚狂\n",
          "洛阳 小时 好消息 即日起 洛阳 城市 书房 小时 开放 如今 遍布 大街小巷 河洛 书苑 城市 书房 阅读 爱好者 好去处 成为 城市 旅游 地标 日前 召开 市委 经济 工作 会议 透露 我市 覆盖面广 受益者 原则 目前 分钟 文化 阅读 覆盖 空白 区域 市民 呼声 区域 建设 城市 书房 届时 城市 书房 总数 超过 自即日起 厚德 城市 书房 泉舜 广场 城市 书房 科技馆 城市 书房 工人 俱乐部 城市 书房 少儿馆 新馆 城市 书房 城市 书房 小时 开放 满足 读者 多样化 阅读 需求 阅读 悦读\n",
          "农家 苦辣酸甜 农作物 拼出 马踏飞 希望 好收成 河南 洛阳 老君山 景区 农家 宾馆 经营者 师傅 山楂 甜枣 苦瓜 辣椒 四种 农作物 晒秋 晒出 旅游 标志 马踏飞 苦辣酸甜 滋味 独到 造型 生动 寓意 深刻 师傅 表示 旅游业 受到 暴雨 灾情 疫情 影响 尝到了 苦辣酸甜 百般 滋味 全国 各地 好心人 受灾 伸出 援手 内心 一股 甜意 丰收 节到 希望 这匹 旅游 骏马 能奋蹄 腾飞 大家 好收成 沸点 拍客 河南 放映厅 沸点 拍客\n",
          "洛阳 卫生 先进 城市 街道 市民 盼禁 四月份 外地人 洛阳 旅游 元华 小区 外边 街道 一不小心 踏上 难受 旅客 感慨 地说 洛阳 卫生 先进 城市 街道 的确 洛阳 环卫工人 辛辛苦苦 街上 路上 打扫 干干净净 美观 小区 清洁工 小区 清扫 得整 整洁 很漂亮 宠物狗 出来 拉屎 拉尿 马上 环境卫生 破坏 城市 楼房 不是 农村 适合 养狗 这是 人人皆知 事实 偏要 宠物狗 害人 不利 城市 领导 民意 体查 不够 市民 多数 反对 楼房 宠物狗 特别 主人 邻居 深受其害 市民 破坏 环境卫生 反感 希望 城市 领导 首长 下决心 禁狗 今天 照片 洛阳 天元 在水一方\n",
          "五一 假期 河南 道路 水路运输 运行 平稳 高速 单日 流量 首破 万辆 据省 交通运输 数据 统计 五一 假期 河南 全省 道路交通 运输 累计 完成 客运量 873.47 万人次 同比 去年 下降 3.4% 累计 投入 运力 14.69 万辆 发放 班次 32.32 万次 安全 生产 事故 旅客 滞留 现象 全省 水路运输 累计 完成 客运量 40.62 万人次 累计 投入 运力 客位 安全 生产 事故 旅客 滞留 现象 全省 高速公路 通行 方面 全省 高速公路 累计 通行 车辆 万辆 小型 客车 1018.76 万辆 86.63% 免征 通行费 4.24 亿元 同比 去年 增长 53% 绿色通道 车辆 7.37 万辆 免费 2827.16 万元 同比 去年 增长 16.11% 安全 生产 事故 旅客 滞留 现象 今年 五一 期间 假期 延长 旅游 热度 上升 天气晴好 影响 高速公路 以下 小客车 免收 通行费 政策 郑州 洛阳 省内 旅游 城市 附近 高速 干线 互通 立交 桥隧 路段 服务区 车流量 增长 明显 河南 高速 单日 流量 假期 第一天 通行 318.70 万辆 同比 增长 16.63% 首次 突破 万辆 历史 新高 返程\n",
          "桂林 旅游 行程 安排 十六 APP 上线 旅行 城市 桂林 桂林 阳朔 懒人 地图 桂林 景点 攻略 地图 值得 景点 全部 标记 地图 景点 卡片 攻略 不会 十六 APP 蓝点 位置 跟着 迷路 地图 放大 缩小 移动 阳朔 景点 攻略 地图 十六 APP 支持 城市 列表 包含 百个 景点 路线 地图 目前 十六 APP 提供 懒人 地图 城市 北京 上海 广州 成都 重庆 深圳 长沙 武汉 厦门 苏州 无锡 杭州 大连 贵阳 丽江 大理 郑州 南京 青岛 天津 拉萨 洛阳 昆明 西双版纳 泉州 桂林 阳朔 乐山 三亚 潮州\n",
          "古風 盛宴 洛陽城 漢裝 踏雪 老君山 古風 盛宴 洛陽城 漢裝 踏雪 老君山 古都 洛陽文 旅產業 新圖景 今年 以來 古都 洛陽 深挖 特色 文化 資源 舉辦 精彩 紛呈 文旅 活動 推出 眾多 惠民 政策 激發 消費 活力 文旅產業 迎來 全面 河南省 洛陽市 欒川縣 老君山 遊客 著漢裝 踏雪 金頂 感受 畫中遊 據洛陽市 文化 廣電 旅遊局 統計 全市 接待 總人數 1031.03 人次 旅遊 收入 62.81 億元 同比 分別 增長 746.63% 690.06% 詳情 洛阳 老君山 老君山 洛陽 这是 老君山 世外 天宫\n",
          "今后 洛阳 自贸区 申领 护照 昨日 市民 张女士 自贸区 洛阳 片区 出入境 窗口 领到 护照 窗口 试运行 发放 首本 护照 高新 派出所 自贸区 洛阳 片区 综合 服务中心 开通 出入境 办证 受理 今后 自贸区 工作 外籍人士 直接 就近 办理 相关 业务 符合 相关 条件 享受 自贸区 提供 出入境 居留 便利 目前 受理 受理 业务 护照 首次 申领 过期 申请 往来 港澳 通行证 团队 旅游 签注 首次 申请 换发 补发 大陆 居民 往来 台湾 通行证 团队 旅游 签注 首次 申请 换发 补发 受理 专门 针对 我国 台湾 居民 外国人 开通 相关 业务 洛阳 新闻\n",
          "洛阳 爆料 全国 前十 洛阳 太火 洛阳 上榜 全国 十大 景区 热点 城市 春节 城市 景区 人气 携程 门票 数据 截至 上海 北京 苏州 洛阳 深圳 长沙 广州 成都 西安 重庆 景区 预约 数最多 成为 今年春节 全国 十大 景区 旅游 热点 城市 携程 门票 数据 显示 全国 十大 线上 本地 预订 人气 景区 分别 洛阳 隋唐 遗址 植物园 湖南省 森林 植物园 上海 海昌 海洋公园 河南 博物院 上海 迪士尼 度假区 西安 城墙 灵山 大佛 世纪 公园 龙庆峡 冰灯 长沙 生态 动物园 今年春节 我市 各大 景区 公园 全部 采取 限流 预约 错峰 亮码 方式 引导 游客 文明 有序 参观 游览 登顶 全国 十大 线上 本地 预订 人气 景区 洛阳 隋唐 遗址 植物园 春节 天入园 游客 总量 超过 万人次\n",
          "机场 新闻 东海 航空 南通 济州岛 航线 首航 进一步 加强 航线 网络 布局 东海 航空 正式 开通 南通 济州岛 航线 班期 每周 机型 波音 该条 航线 东海 航空 南通 兴东 国际 机场 开通 首条 国际 航线 首航 当日 南通 出港 旅客 客座率 87% 了解 即将 到来 夏秋 航班 换季 调整计划 济州岛 航线 南通 兴东 国际 机场 新增 海拉尔 洛阳 航线 加密 广州 长沙 厦门 西安 银川 航线 南通 机场 旅客 吞吐量 突破 277.13 万人次 同比 增长 37.94% 安全 保障 航班 架次 同比 增长 33.66% 目前 国内外 重点 经济 旅游 城市 互联互通 拓展 南通 周边 国内外 重要 城市 经济 文化 往来 南通 周边地区 旅客 出行 提供 便捷 当前 南通 机场 正以 打造 长三角 北翼 重要 航空港 目标 科学 推进 航站楼 施工 建设 力争 今年 上半年 投入使用 机场 大道 高架 空港 酒店 基础设施 同步 配套 到位 届时 南通 机场 对外 形象 服务 保障 能力 得到 显著 提升\n",
          "洛阳 电影院 KTV 娱乐场所 开放 洛阳市 文化 广电 旅游局 文化 市场 经营 单位 复工 复产 通知 各县 文化 广电 旅游局 文化 市场 综合 行政 执法 支队 国务院 联防 联控 机制 印发 做好 新冠 肺炎 疫情 常态 防控 工作 指导 意见 发明 文化 旅游部 通知精神 经市 疫情 防控 指挥部 同意 落实 疫情 防控 措施 前提 推动 文化 市场 经营 单位 有序 复工 复产 现将 事项 通知 如下 文化 市场 经营 单位 有序 复工 复产 互联网 上网 服务 营业 场所 歌舞 娱乐场所 游戏 游艺场 电影院 文化 市场 经营 单位 当地 疫情 防控 指挥部 同意 落实 防控 措施 前提 采取 预约 限流 方式 有序 复工 复产 落实 管控 责任 落实 属地 主管部门 责任 属地 主管部门 加强 组织 领导 坚持 依法 防控 科学 防控 联防 联控 提升 防控 应急 处置 能力 严格 落实 常态 防控 各项措施 要求 落实 主管 责任 继续加强 联防 联控 统筹 调度 强化 各地 常态 防控 工作 指导 支持 落实 经营 单位 责任 文化 市场 经营 单位 落实 主体 责任 严格执行 疫情 防控 规定 健全 防控 工作 责任制 管理制度 制定 完善 应急 预案 加强 执法检查 各县 文化 广电 旅游局 加大 复工 复产\n",
          "中启地 早报 星期一 项城 位于 河南省 东南部 水兴 因集 建城 客货 南来北往 集散地 东进 西出 桥头堡 中原 长三角 经济 走廊 淮河 生态 经济带 重要 节点 城市 最新 河南省 城市 国土 空间 总体规划 草案 天命 玄鸟 降而 生商 商丘 华夏 文明 中华民族 重要 发祥地 商祖 商人 商业 商品 文化 发源地 素有 中国 文化之乡 汉兴 之地 两宋龙 潜之地 之称 资料 河南省 商丘市 国土 空间 总体规划 草案 开封市 简称 古称 汴州 汴梁 汴京 位于 黄河 中下游 平原 东部 省会 郑州市 毗邻 商丘市 相连 南接 许昌市 周口市 北依 黄河 新乡市 隔河相望 推荐 河南省 开封市 国土 空间 总体规划 草案 洛阳市 简称 古称 洛邑 洛京 洛阳 西依 秦岭 东临 嵩岳 北靠 太行 南望 伏牛 黄五水 城而过 自古 河山 形胜 甲于 天下 美誉 平顶山 别称 鹰城 中国 优秀 旅游 城市 国家 园林城市 国家 森林 城市 国家 卫生城市 全国 双拥 模范城 文明城市 中国 曲艺 中国 书法 中国 观音 文化\n",
          "网友 洛阳 重新 划区 建议 觉得 网友 建议 洛阳 国家 区域 中心 城市 中原 城市群 中心 城市 国际 文化 旅游 名城 目前 行政区划 已近 调整 城市 发展 越来越 市区 面积 发展 空间 现有 条件 影响 严重 制约 洛阳 发展 地铁 修建 需要 扩大 市区 面积 人口 洛阳 近几年 进行 区划 调整 地级市 相比 节奏 太慢 徐州 张家口 保定 开封 洛阳 工作 滞后 其实 洛阳 市区 行政区划 相当 不合理 之间 交错 相叉 行政 管理 成本 偏高 加上 传统 区划 已经 极大 程度 洛阳 发展 目前 国内 积极 调整 城市 区划 建议 洛阳 尽快 规划 争取 保定市 一次 调整 到位 西工区 拆分 部分 王城 大道 以西 涧西区 以东 老城区 河区 老城区 合并 包含 西工 王城 大道 以东 部分 区域 老城区 孟津县 撤县 设区 成为 孟津 偃师市 撤市 设区 成为 偃师 成立 伊滨区 以原 区划 属于 洛龙区 诸葛 李村 佃庄 庞村 寇店 伊滨区 区划 调整 洛阳 市区 包含 涧西区 老城区 洛龙区 吉利区 伊滨区 孟津 偃师 新安县 宜阳县 伊川县 汝阳县 嵩县 洛宁县 栾川县\n",
          "洛阳 爆料 洛阳 自驾车 旅游 规划 说走就走 旅行 近日 我市 印发 洛阳市 自驾车 旅游 总体规划 以下 简称 规划 指出 整合 洛阳 全域 资源 提升 自驾 旅游 体验 自驾车 旅游 成为 全市 旅游 产业 整合 提升 突破口 着力点 规划 指出 我市 力争 年内 打造 具有 中原地区 示范性 自驾车 旅游 样板 线路 形成 省内 知名 洛阳 著名 自驾车 旅游 精品 线路 逐步 推出 覆盖 洛阳 全境 自驾车 主题 旅游 线路 建设 一批 自驾车 营地 示范 项目 洛阳 自驾车 旅游 产业 体系 洛阳 建成 国际化 自驾车 旅游 目的地 规划 确定 一环二核 片区 全市 自驾车 旅游 发展 空间布局 一环 中原 最美 山水 人文 自驾 样板 环线 二核 中心 城区 自驾游 服务 核心 枢纽 伏牛山 山区 自驾游 服务 核心 枢纽 片区 环城 文化 休闲 自驾 片区 黄滨水 娱乐 自驾 片区 南部 鲜氧 度假 自驾 片区 此次 规划 期限 总结 一下 里面 提到 线路 基本 覆盖 洛阳 全境 优质 自驾车 旅游 线路 以后 出去玩 不用 费劲 攻略 线路 涵盖 景点 具体 行程 安排 比较 合理 了解 一下 洛阳\n",
          "文化 我国 漫长 饮酒 文化 诗酒 联姻 密不可分 之间 折射出 人间 百态 世事 沧桑 古人 喝酒 喜欢 独酌 喜欢 拉帮结派 比较 知名 魏晋 时期 竹林七贤 唐代 酒中 八仙 两晋 之间 兖州 八伯 已经 不单单是 一种 饮品 上升 思想 情感 层面 竹溪 六饮 开元 二十五年 李白 移家 东鲁 山东 名士 孔巢父 韩准 裴政 张叔明 竹溪 隐居 世人 称为 竹溪 六逸 纵酒 酣歌 举杯 邀月 惬意 香山 九老 称为 洛中九老 白居易 晚年 退居 洛阳 唐代 胡杲 吉皎 刘贞 郑据 卢贞 张浑 白居易 李元爽 禅僧 九人 组成 看不惯 世俗 洛阳 香山 结为 九老会 一道 赏酒 论诗 酒鬼 一家 粉丝\n",
          "鸡冠 风景区 位于 洛阳市 栾川县 以西 公里 双堂 沟内 属于 喀斯特 岩溶地貌 鸡冠 斜入 地下 长达 多米 北方地区 罕见 洞穴 旅游 景区 洞中 一年四季 恒温 严冬 季节 洞内 暖意 融融 盛夏 酷暑 洞中 寒气 侵袭 爽凉 宜人 被誉为 自然 空调 游览 鸡冠 必须 景区 导游 带领 成批 游览 不能 独自 进去 单独 散客 不用 担心 洞口 等待 时间 十几分钟 之后 人数 导游 带领 游客 进洞 形成 几亿年 鸡冠 唐代 贞观 年间 公元 发现 洞内 面积 巨大 分为 多个 不同 主题 景区 玉柱 溢彩 游览 看到 一座 数十米 巨大 厅堂 分为 迎宾 瑶池 白塔 洞中 一条 奔流 不息 有头无尾 河流 鸡冠 洞中 布满 石灰质 水溶液 形成 石柱 石塔 石瀑 石川 石花 五彩 灯光 照耀 琼林玉树 千姿百态 俨然 一座 美不胜收 艺术 殿堂 洞中 中华 第一 鸡冠 洞中 标志性 景观 一粗一细 两根 巨大 盘龙 石柱 支撑 平方米 地下 宫殿 国内 类型 溶洞 少有\n",
          "好消息 洛阳 旅游 年票 双节 放假 距离 中秋节 国庆节 越来越近 近期 不少 市民 询问 今年 双节 假期 我市 旅游 年票 正常 使用 昨日 从市 旅发委 年票 获悉 更好 发挥 旅游 年票 利民 惠民 作用 旅游 年票 全年 使用 中秋节 国庆节 双节 假期 受限 市旅 发委 年票 相关 负责人 提醒 目前 洛阳 旅游 年票 在线 续费 信息 查询 功能 恢复 满足 相应 条件 洛阳 旅游 年票 持卡人 洛阳 旅游 微信 公众 洛阳 旅游 年票 官网 进行 年票 在线 续费 信息 查询 操作 已过期 旅游 年票 续费 之日起 生效 有效期 生效 之日起 一年 过期 旅游 年票 续费 直接 生效 有效期 年票 到期日 次日 一年 更好 服务 旅游 年票 用户 洛阳 旅游 年票 涵盖 景区 正在 迎接 游客 高峰 各项 准备 工作 市旅 发委 年票 工作人员 机房 景区 验票 设备 进行 升级 维护 旅游 年票 销售点 负责人 进行 专业培训 洛阳 晚报 邱明\n",
          "全城 剧本 隋唐洛阳城 奇幻 全城 剧本 活动 日至 举行 沉浸 洛阳 换上 汉服 穿梭 平行 时空 之中 体验 狄仁杰 共赴 唐宫乐宴 上官婉儿 放灯 游园 炀帝 分理 运河 卢舍那 大佛 贴面 博物馆 上演 一场 神秘 青铜 文物 博弈 完成 一次 古墓 长眠 千年 古人 对话 领取 通关 文牒 点亮 舆图 获得 荣誉 信物 洛阳 旅游 支付宝 程序 进入 舆图 游戏 界面 体验 了解 每个 剧本 内容 玩法 打卡 一个个 剧本 项目 点亮 串联 全城 舆图 四月 奔赴 洛阳 郑州 同城事\n",
          "魅丽 洛阳 中华文化 之美 洛邑 古城 被誉为 中原 渡口 洛邑 古城 文化 旅游 景区 位于 河南省 洛阳市 老城区 围绕 洛邑 古城 景区 科技 创新 传统 文化 相结合 园区 文峰塔 文庙 妥灵宫 四眼井 保护 遗址 节点 以新潭 护城河 水系 纽带 古典 现代 有机 结合 建筑 建筑 割裂 整体 目标 体现 洛邑 古城 传统 文化底蕴 不失 现代 气息 园区 科学 划分 功能 区域 千年 古城 风采 集中 展现 园区 餐饮 旅游 住宿 商服 功能区 点缀 整个 园区 一步 一景 人文 气息 浓厚 发展 继承 洛邑 古城 原有 文化景观 人文 气息 成为 洛阳 古城区 文物保护 复兴 继承 洛阳 传统 文化 亮点 洛邑 古城 深厚 文化底蕴 依托 世界 看到 中国 文化 之美 洛邑 古城 魅丽 洛阳城\n",
          "WCS2019 世界 cosplay 峰会 cosplay 中国 新疆 赛区 先导 预告片 2019wcs 世界 cosplay 峰会 中国 新疆 新疆 旅游 大厦 不见不散 出镜 先后顺序 艾特 评委 嘉宾 阴川 蝴蝶 阴川 蝴蝶 __ 一生 七邪 七七七 七哥 秦烟 Coser 秦烟 依酱 囤米 依酱 龟龟 幸运 感谢 以下 出镜 小可爱 酸奶 轩泽 洛阳 萌梓 DAO 阮爷 尼酱 苏圈 官方 WCS 中国 WCS 中国 主办 大大 WCS 新疆 疆漫 文化 协办 西域 萌战 工作室 有场 漫展 零壹 制噪厂 LTOP1001 官博\n",
          "洛阳 身边 征集 夏季 旅游 事件 营销 方案 通知 打造 洛阳 国际 旅游 城市 形象 进一步 提升 洛阳 旅游 营销 实效 水平 市旅 发委拟 即日起 面向社会 公开 征集 接地 形式 内容 反响 引起 社会 广泛 关注 夏季 旅游 事件 营销 方案 应征 方案 传至 lylvyou com 邮箱 市旅 发委将 依据 相关 章程 统一 组织 评审 选中 优秀 方案 进行 报价 实施 征集 方案 截止 方案 务必 表明 策划 单位名称 负责人 姓名 电话 咨询电话 洛阳市 旅游 发展 委员会 洛阳市 旅发委\n",
          "新闻 赏花 景区 预订 环比 大增 福建 漳平 上榜 携程 口碑 国内 赏花 胜地 天气 转暖春 花绽放 近期 赏花 人气 加速 飙升 来自 携程 数据 显示 以来 赏花 景区 门票 预订 环比 同期 增长 同比 去年 增长 150% 依据 城市 赏花 属性 近期 赏花 热度 携程 口碑 推出 国内 赏花 胜地 分别 贵州 安顺 江苏 无锡 湖北 武汉 贵州 毕节 江西 婺源 福建 漳平 云南 罗平 北京 广东 广州 上海 云南 南涧 山东 济南 江苏 南京 河南 洛阳 重庆 陕西 西安 广东 深圳 西藏 波密 江苏 兴化 广东 韶关 旅游 限制 取消 人们 赏花 步伐 迈向 半个 长线 赏花 目的地 线路 产品 进入 预订 火爆 携程 平台 西藏 波密 桃花 新疆 伊犁 杏花 婺源 油菜花 重庆 酉阳 桃花源 云南 罗平 油菜花 线路 进入 火爆 预订 数据 显示 半个 国内 团游 订单 环比 增长 七成 同比 去年 大增 四倍 携程 周末 说走就走 旅行\n",
          "洛阳 随手 最美 洛阳 洛阳市 旅游 发展 委员会 洛阳市 摄影家 协会 共同 主办 首届 洛阳 旅游 全国 摄影 大赛 马上 就要 截稿 最高奖 两万元 手里 反映 洛阳 旅游 美的 图片 千万 不要 私藏 说不定 两万块 征稿 内容 洛阳 城市 风光 山水 景点 名胜古迹 洛阳 交通 餐饮 住宿 旅游 商品 旅游 公共设施 旅游 服务 截稿 时间 投稿 邮箱 lylvyousy com 注意事项 注明 拍摄 地点 作者 真实 姓名 电话 本次 大赛 只收 数码 电子 文件 JPG 格式 文件 小于 1M 大于 10M\n",
          "认证 洛阳 旅游 发展 目标 洛阳 旅游 产业 发展 作业 洛阳 推动 小浪底 眉山 申报 5A 景区 全市 5A 旅游 景区 达到 4A 旅游 景区 达到 3A 以上 景区 实现 5G 覆盖 5A 景区 全面 实行 门票 预约 制度 不得不 洛阳 旅游 种类 非常 齐全 历史 文化 历史 文化 山水 资源 山水 资源 工业 遗产 工业 遗产 冬季 滑雪场 滑雪场 河南省 洛阳 实力 成为 中原 旅游 中心 到时候 洛阳 5A 景区 占据 河南 50% 左右 具体 作业 内容 表格 中原 势力\n",
          "带你去 旅行 洛阳市 河南省 下辖 地级市 位于 河南省 西部 黄河 中下游 地处 洛河 之阳 得名 介于 东经 apos apos 北纬 apos apos 之间 东邻 郑州 西接 三门峡 北跨 黄河 焦作 接壤 平顶山 南阳 相连 温带 季风气候 全市 总面积 1.52 万平方公里 市区 面积 平方公里 下辖 正厅级 规格 洛阳 新区 开发区 省级 产业 集聚 总人口 713.67 万人 河洛 属古 豫州 洛阳 夏朝 立国 活动 中心 地域 太康 仲康 帝桀 洛阳 解放 升格 河南省 直辖市 洛阳 地区 撤销 成立 地级 洛阳市 洛阳 国家 历史 文化名城 中国 四大 古都 世界 文化名城 国家 区域 中心 城市 素有 十三 古都 之称 洛阳 华夏 文明 中华民族 主要 发源地 东汉 曹魏 西晋 北魏 隋唐 时期 丝绸之路 东方 起点 全市 生产总值 GDP 4640.8 亿元 人均 生产总值 同比 增长 7.9% 分别 高于 全国 全省 增速 1.3 百分点 0.3 百分点\n",
          "住宿 搜罗 坐标 洛阳 西工区 凯旋路 定鼎 交叉口 名称 洛阳 应天门 亚朵 酒店 亚朵 酒店 位于 洛阳市 定鼎 南路 凯旋 东路 交汇处 周公庙 隋唐 洛城 明堂 遗址 附近 紧邻 正在 重建 应天门 遗址 景区 天堂 明堂 丽景门 中国 花园 步行 到达 距离 世界 文化遗产 龙门石窟 公里 交通 十分 便利 亚朵 酒店 专业 国际 设计 团队 精心设计 大唐 书吧 千册 图书 阅读 床品 棉织品 全部 采用 五星级 标准 棉制品 全套 高端 阿芙 精华 洗浴 用品 百兆 光纤 wifi 覆盖 自助 洗衣 归属 优良 设施 优质服务 宾客 提供 休憩 静读 空间\n",
          "时代 之问 洛阳 黄金周 数据网络 万物 数据 这是 互联网 社会 数据 价值 体现 学科 社会 领域 经济 结构 交叉 人文 活动 旅游业 数据 关联 自然 人文学科 研究 热点 旅游 数据 研究 传统 旅游 信息化 延续 涉及 旅游 经济 计算机 数学 管理 多个 学科 从无到有 时至今日 仍然 处于 发展 初期 这方面 研究 已经 体现 内容 广泛 涵盖 专业 领域 众多 特点 旅游 数据 研究 报告 洛阳 为例 一书 洛阳 旅游 网络 关注度 数据分析 游客 时空 行为 数据分析 景区 网评 数据分析 黄金周 旅游 数据分析 旅游 网络 关注度 客流量 相关性 挖掘 五个 方面 展开 阐述 书中 枚举 大量 数据 直观 方式 呈现 旅游 数据 旅游 活动 社会学 研究 方面 意义 重要 展现 旅游 数据 商业 运营 模式 指导 价值 数据 检索 分析 不难看出 旅游 数据 关注 研究 极大 程度 推动 社会 相关 领域 经济 发展 旅游 数据 研究 报告 洛阳 为例 中国 工程 科技 发展 战略 河南 研究院 战略 咨询 研究 项目 河南省 高等学校 重点 科研项目 河南省 高校 科技 创新 人才 项目 国家自然科学基金 面上 项目 河南省 重点 研发 推广 专项 科技\n",
          "爸妈 放心 秋高气爽 大型 空调 旅游 专列 盛装 启航 山西 宁夏 中卫 内蒙 甘肃 洛阳 经典 十三天 全程 纯玩 购物 政府 通力合作 扶持 产品 安心 舒适 旅行 方式 送给 爸妈 大型 专列 往返 边玩 轻松 惬意 上海 出行 方便 大件 行李 不用 拿下 安全 便捷 舒适 感悟 历史悠久 晋商 文化 徜徉 藏汉 佛教 博大精深 感受 西北 高原 塞外 壮景 神游 文明古国 异域 风情 山西 太原 乔家大院 平遥 古城 云冈石窟 悬空寺 华严寺 宁夏 青铜峡 黄河 一百零八 甘肃 张掖 七彩 丹霞地貌 平山 大峡谷 甘州 乐舞 河南 龙门石窟 关林 内蒙 通湖 草原 中卫 沙坡头 金沙 沙坡头 盛典 左右 非空 硬卧 空调 硬卧 空调 软卧 先到 小童 1.2 以下 大童 1.2 1.5 行程 旅游 尾单 旅游 尾单 旅游\n",
          "客片 两套 划算 主题 郑州 写真 郑州 拍照 郑州 古装 郑州 个人 写真 汉服 写真 伊人 醉汉 时代 体验 地点 两鬟 千万 孔雀东南飞 汉乐府 鸡鸣 外欲 新妇 严妆著 事事 四五 足下 蹑丝履 头上 玳瑁 光腰 若流 耳著 明月 指如削 口如 含珠 纤纤 作细步 精妙 无双 长裙 连理 广袖 合欢 郑州 拍照 古风 古装 郑州 写真 郑州 旅游 郑州 照片 开封 写真 洛阳 写真 河南 写真 个人 写真 汉服 照片 巩义 写真 驻马店 写真 商丘 周口 唯美 写真 温婉 清秀 写真 郑州 情侣\n",
          "疫情 原因 不能 远游 春色 正浓 春光 正好 出门 辜负 大好 时光 今天 大家 推荐 出远门 距离 洛阳 市区 小时 左右 路程 休闲 游玩 关键 中原 喜欢 竹林 瀑布 高山 正是 竹笋 山泉 丰沛 季节 位于 洛阳 栾川 王府 竹海 景区 王府 竹海 度假 旅游区 竹林 郁郁葱葱 荫蔽 五步 一景 十步 一画 绿色 环抱 这片 天然 氧吧 空气 弥漫着 清香 流水 潺潺 溪水 竹影 婆娑 下周 五一 长假 蜗居 城市 似乎 太委屈 出去 走走 怎能 对得起 春光 逃离 城市 用心 感受 一场 旅行 洛阳\n",
          "魅力 高新 风光 文化 多彩 生态 洛阳 高新区 年经 国务院 批准 设立 首批 国家级 高新技术 产业 开发区 郑洛新 国家 自主 创新 示范区 国务院 批复 高新区 洛阳 片区 核心区 中国 河南 自由贸易 试验区 洛阳 片区 挂牌 洛阳 片区 总面积 26.66 平方公里 主体 部分 高新区 该区 成为 全省 唯一 全国 少有 高新区 自创 自贸区 三区 融合 区域 近年 高新区 依托 自然资源 历史 资源 项目 建设 抓手 着力 推动 文化 旅游 产业 发展 近日 大型 文化 旅游 竞演 节目 晒文旅 家底 河洛 大地 高新区 党工委 书记 管委会 主任 胡加彬 化身 导游 观众 领略 高新区 人文 之韵 生态 之美\n",
          "找到 满意 工作 事情 1.01 好好 研究 研究 流浪 地球 出来 韩语 心理咨询 王者 古北 水镇 泡温泉 度假 爬山 郑州 济南 朋友 疯玩 少林寺 洛阳 趵突泉 煎饼 云南旅游 昆明 丽江 大理 西安 广西 养狗 最想 金毛 小型 中型 男朋友 随缘 一面 最好 学注会 滞后 需求 疯狂 看书 东野 全套 哈利波 重温 投影仪 疯狂 电影 综艺 电视剧 韩剧 国外 旅游 韩国 德国 瑞士 首选 东西 韩餐 肉菜 烘焙 北京 朋友 一遍 密室 剧本 继续 上外 教课 雅思 7.518 减肥 减肥 减肥 有空 拍拍 vlog 剪剪 英国 北京 餐厅 好玩 地方 疯狂 打卡 gay bar 哈哈哈\n",
          "广济桥 俗称 湘子桥 全国 重点 文物保护 单位 国家 AAAA 旅游 景区 位于 潮州 古城 东门外 横跨 韩江 联结 东西 两岸 古代 闽粤 交通 要津 以集 梁桥 浮桥 拱桥 一体 独特 风格 赵州桥 洛阳桥 卢沟桥 并称 中国 著名 古桥 古人 到潮 不到 潮州 走一遭 桥梁 专家 茅以升 撰文 指出 广济桥 中有 一段 船只 连为 浮桥 解开 让出 航道 成为 可分 可合 活动桥 我国 桥梁 史上 特例 形式各异 亭台楼阁 一大 奇观 因兼作 经商 店铺 故有 廿四 楼台 廿四 长桥 一里市 美称 广济桥 始建 于南 宋乾道 七年 公元 明嘉靖 九年 公元 形成 十八 梭船 廿四 格局 多次 修建 广济桥 全面 维修 竣工 广川 利涉 开新运 杰阁 重楼 旧仪 饶宗 先生 联语 修复 广济桥 梁舟 结合 联阁 重瓴 宛若 长龙 嬉水 复道 行空 独特 风姿 高雅 造型艺术 令人 叹为观止 而桥 琳琅满目 楹联 更让人 恍若 置身于 诗文 书法 艺术 长廊 广济桥 一座 美轮美奂 活色生香 文化 古桥 潮州 广济桥 潮州 徐榛\n",
          "洛阳 头条 洛阳 生活 遇见 美好 人生 今天 星期四 农历 壬寅 正月 十七 北国风光 万里 雪飘 早晨 起来 洛阳 下雪 难道 倒春寒 悦读 分享 元宵节 正月 十六 赶紧 恢复 好好 上学 上班 干事 尼克 胡哲 告诉 世人 世界 根本 存在 不会 不能 不想 不去 失去 所有 依靠 自然 成绩 业绩 生活 新年 美好 加油 美好 一天 从心 河南 旅游 最新 优惠 信息 介绍 ---\n",
          "文化 新视角 洛阳 满城 桃李 动春梢 刚刚 过去 五一 假期 洛阳 接待 游客 636.69 万人次 旅游 收入 达到 52.39 亿元 洛阳 满城 游客 汉服 现象 火出 成为 全国 五一 假期 特色 一道 风景线 洛阳 文旅 火热 自然 相关 部门 不遗余力 推动 策划 洛阳 文物保护 工作 功不可没 龙门石窟 隋唐洛阳城 遗址 公园 成为 热门 景点 洛阳 博物馆 纪念馆 文博 场馆 一票 难求 洛邑 古城 成为 网红 打卡 显然 良好 文物保护 已经 成为 洛阳 旅游 经济 主要 推动力 众多 古迹 保存 完好 成为 热门 景点 说明 洛阳 文物 遗迹 保护 方面 走出 一条 成功 道路 洛阳 满城 桃李 动春梢 摄影 曾宪平 详情\n",
          "今天 大圣 六小龄童 老师 章金莱 一起 来到 洛阳 白马寺 中国 第一座 寺院 两千年 历史 印乐 方丈 亲自 接待 老师 喝茶 谈禅 晚辈 学习 良多 尤其 白马寺 农禅 文化 老师 非常 欢喜 大师 欢喜 老师 赠送 白马 老师 赠予 玄奘 肖像 纪录片 第一次 对外 饰演 印乐 方丈 逻辑 推算 玄奘 应该 白马寺 至少 白马寺 洛阳 成为 佛学 重地 肯定 玄奘 学佛 之路 重要 文化 熏染 作用 跟随 老师 徒弟 脚步 继续 重走 玄奘 传播 玄奘 精神 感恩 两位 大师 教诲 六小龄童 品行 洛阳 白马寺\n",
          "洛阳 跻身 国内 热门 长线 目的地 全国 前十 洛阳 出圈 妈妈 旅游网 发布 中秋 长假 出游 盘点 报告 洛阳 深厚 文化 内涵 再次 跻身 国内 热门 长线 目的地 Top10 报告 分析 出游 主题 来看 网红 城市 打卡 海滨 度假 赏秋 摄影 吸引 年轻 人们 奔赴 秋天 第一场 旅行 北京 珠海 上海 三亚 青岛 广州 杭州 成都 重庆 洛阳 成为 今年 中秋 十大 长线 热门 旅游 目的地 城市 河南 卫视 连续 打造 唐宫 夜宴 洛神 水赋 文化 旅游 产品 今年 中秋 假期 推出 中秋 奇妙 再次 刷屏 带动 洛阳 旅游 目的地 热度 上涨 中秋 假期 洛阳 老君山 洛阳 白云山 隋唐洛阳城 国家 遗址 公园 景点 受到 广大 游客 喜爱 泥塑 剪纸 洛阳 非遗 活动 受到 广大 游客 一致 好评 洛阳 有山有水 文化 逐步 成为 年轻 游客 追捧 新兴 网红 打卡 城市\n",
          "王先森 相识 两年 七个 翻看 手机 过去 照片 美好 回忆 王先森 给予 米奇 比心 一起 经历 变故 带我去 很多 地方 内心 感谢 相遇 一场 人生 精彩 三湖 小镇 认识 以后 第一次 出行 苏州 真正 意义 第一次 旅游 记忆 尤深 苏州 高温 洛阳 生日 出去玩 咯图 南阳 准备 第二次 苏州 夏天 第二天 苏州 裤衩 两次 三湖 小镇 时隔 一年 一次 地方 这次 王先森 员工 厦门 春节 我俩 简直 喜欢 南方 天气 湖北 襄阳 准确 这次 过生日 西安 王先森 第一次 出行 计划 好多 旅行 新加坡 巴厘岛 越南 日本 未来 发生 变数 由衷 希望 王先森 人生道路 前程似锦\n",
          "洛阳 旅游 口水 第三届 孟津 采摘 节邀 品尝 上午 孟津 采摘 会盟 铁炉 孟津 主题公园 举行 产于 会盟 万亩 孟津 已有 多年 历史 其色艳味 皮薄质 酸甜 适度 清脆 可口 久负盛名 广受 赞誉 历代 皇家 贡品 洛阳 金橘 美誉 本次 孟津 采摘 节将 持续 一个月 期间 此项 比赛 继续 建于 孟津 主题公园 大型 草场 儿童 游乐园 真人 CS 娱乐 设施 投入使用 游客 品尝 美味 酥梨 体验 童年 乐趣 滑草 运动 时尚性 乘车 路线 洛阳 洛阳 扣马 客车 直达 东华 公交车 会盟 下车 向东 铁炉 洛阳 通往 黄河 以北 吉利 济源 焦作 新乡 会盟 下车 向东 铁炉 自驾车 路线 郑州 连霍 高速 孟津 孟津县 会盟 转向 东至 铁炉 孟津 主题公园 即可 西安 连霍 高速 孟津 孟津县 会盟 转向 东至 铁炉 孟津 主题公园 即可 焦作 济源 长济 高速 吉利 道口 黄河 大桥 公里 孟津县 会盟 转向 东至 铁炉 孟津 主题公园 即可 洛阳 关林镇\n",
          "每日 一善 心灵鸡汤 椰子树 椰子 情感 语录 情侣 头像 朋友圈 背景图 朋友圈 文案 手机 壁纸 水印 表情 包无 水印 能量 一段 文字 一种 心情 这座 寺庙 受欢迎 旅游景点 下面 编来 告诉 中国 受欢迎 三座 寺庙 大昭寺 大昭寺 位于 巴谷 核心区 藏传佛教 信徒 朝圣 之旅 终点 .. 大昭寺 神圣 不亚于 布达拉宫 .. 经常 看到 大昭寺 门口 朝拜 磕头 大昭寺 拉萨 人民 心目 位置 大昭寺 周围 每天 循环 图片 灵隐寺 始建 东晋 灵隐寺 又称 云林 已有 多年 历史 杭州 古老 江南 古寺 称为 济公 出家 地方 .. 图片 灵隐寺 主要 天坛 大雄宝殿 药师 法殿 华严寺 中轴 附属 两侧 五百 罗汉 纪公殿 华严阁 大悲 方丈 建筑 .. 图片 白马寺 白马寺 位于 河南省 洛阳市 老城区 以东 公里 洛龙区 白马寺 始建 东汉 永平 白马寺 佛教 传入 中国 修建 第一座 官庙 .. 图片 整个 寺庙 坐北朝南 庭院 总面积 万平方米 主要 建筑 天坛 大佛 大雄宝殿 接待厅 毗卢寺 均列 南北 轴线 图片 白马寺\n",
          "中国 旅游 泉州 举行 多项 文旅 活动 鲤城区 城南 庙会 再次 开启 传统工艺 传统 美术 传统 小吃 老字号 非遗 进驻 庙会 配套 举办 民俗 文明 实践 特色 主题 活动 游客 市民 城南 逛庙会 赏非 美食 古城 活动 持续 泉州 遇见 宋式 美好生活 泉州市 博物馆 举行 围绕 美好生活 主题 时辰 为线 策划 闽南 文化 宋人 生活 图鉴 体验 项目 带领 参与者 穿越 千年 之前 宋代 体验 宋人 风雅 日常 万千 风华 宋元 中国 海丝 泉州 国际 儿童 时尚 周将 泉州 剧院 举行 活动 宋元 中国 文化 背景 泉州 物质 文化遗产 文化 底色 国际 时尚 童装 秀为 展台 具有 海丝 泉州 文化 特色 兼具 国际 影响力 时尚 洛江区 传承 千年 世遗 常态 惠民 演出 洛阳桥 举行 街头 文化 艺术表演 队伍 进行 街头 表演 提升 游客 文化 体验 洛江区 针对 中国 旅游 开展 文明 旅游 宣传 活动 组织 洛江文 企业 进行 展销 开展 特色 文化 节目 表演 展示 洛江 丰富 优质 文旅 资源 推出 系列 文旅 优惠政策 彰显 悠游 洛江 品牌 魅力\n",
          "洛阳 书房 近日 从市 文化 广电 旅游局 获悉 我市 建成 投用 一批 河洛 书苑 城市 书房 洛龙区 汝阳县 偃师市 栾川县 城市 书房 分别 洛龙区 数据 产业园 城市 书房 汝阳县 三路 城市 书房 文化路 城市 书房 醉美 汝阳 广场 城市 书房 偃师市 人大 政协 城市 书房 后庄 社区 城市 书房 教体局 城市 书房 栾川县 旅游 驿站 城市 书房 九鼎 城市 书房 今年 我市 计划 建设 城市 书房 截至 目前 建成 开放 完成 建设 正在 安装 调试 设备 洛阳 晚报 朱艳艳 通讯员 刘孟刚 高召\n",
          "大美 中国 中部 地区 交通广播 走进 洛阳 采风 活动 第四站 走进 洛阳 中原 渡口 洛邑 古城 洛邑 古城 位于 洛阳 老城区 河南省 重点 PPP 项目 一个集 购于 一体 综合性 人文 旅游 园区 园区 一步 一景 人文 气息 浓厚 文峰塔 屹立 千年 金元 城墙 犹可 追寻 文庙 四眼井 新潭 遗址 历史 遗迹 星罗棋布 河洛 文化 核心 古典 商铺 集聚 唐三彩 咕咕 孔家 钧窑 叶雕 汝阳 毛笔 秦氏 绢艺 皮雕 国家 市级 余项 非遗 百态 园区 各处 遍布 宫廷 乐舞 戏曲 曲艺 民间 绝活 传统 艺术表演 主题 互动 体验 深厚 历史 文化底蕴 讲述 古都 历史 传奇 世界 看到 中国 之美\n",
          "今年 首场 参赛 超万人 赛事 上海 半马 今晨 鸣枪 五一 假日 旅游 前瞻 数据 显示 国内游 订单 追平 新民 早报 2023.4 今年 上海 首场 参赛 人数 过万 大规模 赛事 上海 半程 马拉松 今晨 东方明珠 脚下 鸣枪 上海 车展 即将 日至 国家 会展中心 上海 举行 届时 周边 道路 拥挤 停车位 有限 建议 市民 乘坐 公共交通 绿色 出行 注意 避峰 参观 五一 假日 旅游 前瞻 数据 显示 国内游 订单 追平 同比 增长 热门 线路 火车票 售后 几分钟 内即 售罄 国家统计局 数据 月份 各线 城市 商品住宅 销售价格 环比 上涨 河南 洛阳 马戏团 狮子 意外 出狮笼 发布 情况 说明 狮子 及时 诱捕 入笼 发生 伤人 情况 目前 责令 马戏团 停业整顿 新民晚报 O28 今起 初夏 体验 大放送 周末 跌回 字头 今年 首场 参赛 超万人 赛事 上海 半马 今晨 鸣枪 新民 早报 2023.4\n",
          "辉煌 中国 中国 村民 年收入 外国 政要 跨越 半个 地球 取经 云南 怒江 大山深处 怒族 居住 老姆 登村 人均收入 增长 村庄 即将 迎来 一件 大事 外国 贵客 不远千里 到访 米兰达 乌拉圭 执政党 领导人 这趟 中国 专程来 取经 乌拉圭 人口 等待 脱贫 跨越 半个 地球 深入 大山 腹地 米兰达 着迷 中国 扶贫 方式 借助 发展 生态 茶园 民宿 旅游 特色产业 实现 精准 扶贫 做法 米兰达 很感兴趣 很受 启发 全世界 脱贫 个人 中国 减贫 奇迹 人类 历史 前所未有 背后 创造 扶贫 模式 了不起 中国 创造 辉煌 中国 第六集 开放 中国 讲述 吸引 世界 中国 方案 央视 财经\n",
          "出去 旅游 时间 似乎 按下 暂停 今年 政策 放开 大家 阳过 以后 不约而同 选择 出门 旅游 每座 城市 全是 旅游 工作 忙季 之前 假休 制定 三年 第一次 出游 其实 波澜 本来 计划 西安 洛阳 西安 甲流 预警 洛阳 大雪 放弃 计划 倒春寒 天气 大胆 决定 我用 周五 一天 单位 工作 见缝插针 攻略 周五 晚上 机票 周六 早上 机票 民宿 为期 旅游 选择 航班 早上 只能 机场 附近 酒店 一晚 那天 奶茶 整晚 第二天 酒店 班车 送到 机场 其实 旅游 以来 第一次 机票 当时 有点 紧张 地方 没弄 顺利 当时 小雨 顺利 登机 心情 美丽 飞机 小睡 一会儿 大概 西双版纳 机场 不得不 机场 不怎么样 落机 妈妈 一起 旅游 巴士 泼水 广场 不是 愿意 打车 听说 很多 打车 一口价 坑人 事迹 地铁 政府部门 旅游 大巴车 显得 正规 良心 价格\n",
          "武汉 跻身 全国 十大 夜游 长江 灯光 吸睛 携程 发布 上半年 旅游 经济 报告 上半年 全国 夜游 目的地 排名 武汉 位列 第六 成为 名副其实 夜游 知音 演出 排名 全国 前十 数据 显示 今年 上半年 夜游 目的地 TOP10 洛阳 上海 深圳 广州 西安 武汉 杭州 北京 三亚 成都 顺利 入围 夜游 宵夜 著称 目的地 更受 消费者 青睐 年轻 旅行者 宵夜 夜景 3D 灯影 不可或缺 环节 夜游 客源地 排名 上海 北京 江苏 广东 河南 陕西 浙江 湖北 四川 重庆 位列 前十 武汉 发布\n",
          "读城 先看 武则天 再游 洛阳城 洛阳 旅游 年票 福利 超值 优惠 大型 实景 演出 武则天 即日起 大家 洛阳 旅游 年票 大型 实景 演出 武则天 千年 古都 洛阳 有着 多年 文明史 多年 建城史 多年 建都 拥有 众多 世界遗产 旅游 圣地 欢迎您 洛阳 能够 深入 了解 千年 帝都 辉煌 真切 感受 河洛 文化 璀璨 触摸 洛阳城 千百年 之后 历史 遗存 洛阳 国际 文化 旅游 名城 称号 如今 武则天 传奇 故事 走出 记载 走向 舞台 大型 实景 演出 形式 再现 昔日 大唐 璀璨 文化 一代 武皇 独特 魅力 河南 历史\n",
          "洛阳 旅游 隋唐洛阳城 国庆 旅游 圆满 收官 今年 国庆 假期 期间 围绕 历史 文化 景区 特色 隋唐洛阳城 国家 遗址 公园 推出 登场 隋唐洛阳城 主题 系列 活动 三大 主题 活动 免费 体验 四场 情景 大秀 复原 盛世 隋唐 再现 千年 辉煌 每天 吸引 数以万计 游客 前来 打卡 一次 一次 朋友圈 隋唐洛阳城 累计 接待 游客 26.24 万人次 上演 情景 游客量 应天门 灯光 观看 人数 国庆 期间 隋唐洛阳城 热度 居高不下 假期 奥运冠军 鲍珊菊 打卡 应天门 话题 洛阳 应天门 偶遇 奥运冠军 直冲 榜首 话题 十一 隋唐 应天门 千人同 登场 洛阳 百位 汉服 爱好者 闪现 洛阳 十一 洛阳 旅游 人气 爆棚 隋唐洛阳城 相关 阅读 话题 百位 汉服 爱好者 闪现 洛阳 登上 同城热 搜榜 第三名 天南海北 洛阳 登上 同城热 搜榜 第二名 平台 隋唐洛阳城 应天门 遗址 定位 曝光 达到 2.4 应天门 话题 曝光 达到 1.1 话题 国庆 期间 应天门 灯光 回归 登上 同城 热榜 洛阳 隋唐洛阳城 国家 遗址 公园 全景 洛阳\n",
          "国风 洛阳 国风 古意 寻踪 洛阳 奇妙 钟声 别样 风景 洛阳 旅游 少不了 会到 白马寺 看一看 白马寺 古老 始建 一千 九百多年 全国 重点 文物保护 单位 千年 佛塔 历经 风雨 马寺 钟声 悠远 沧桑 外地 游客 慕名 白马寺 参观 心下 欢喜 不愿 留在 居士 只为 听听 钟声 地方 心里 安定 马寺 钟声 古时 洛阳 八大 不同于 古时 一口 明代 铸造 大钟 两三 千斤 钟声 洪亮 旧日 晨昏 僧人 撞钟 诵经 钟声 响彻 十里 闻者 心旷神怡 如今 白马寺 明代 大钟 早已 功成身退 取而代之 悬挂 钟楼 新钟 未必 新钟 音色 浑厚 悠扬 悦耳 动听 一种 画面感 声音 绕梁 直抵 人心 闭上眼睛 恍如 穿越时空 洛城 千年 风景\n",
          "大张伟 阳光 彩虹 白马 大张伟 阳光 彩虹 白马 舞台 河南 春晚 舞蹈 唐宫 夜宴 洛阳 旅游 隋唐洛阳城 应天门 遗址 隋唐洛阳城 国家 遗址 公园 河南 卫视 春晚 洛阳\n",
          "铂金 丽江 丽江 大理 泸沽湖 双飞 六日 近期 旅游 线路 市场 建议价 元起 收客 标准 人同车 洛阳 旅游 美景 时光 两大 悠然 古城 冰川 蓝月谷 精彩 体验 洱海 吉普车 旅拍 双廊 下午茶 乘猪 船游 泸沽湖 严选 酒店 严选 携程 酒店 升级 泸沽湖 酒店 舌尖 盛宴 摩梭 婚宴 白族 八碗 洱海 砂锅 纳西 王府 丽江 马帮 价值 民俗风情 价值 大型 歌舞 表演 丽水 金沙 摩梭 风情 篝火 晚会 伊川 身边\n",
          "邂逅 隋唐 天堂 天堂 始建 公元 位于 隋唐洛阳城 宫城 正殿 明堂 西北侧 天堂 武周 紫微 城内 佛堂 寓意 至高无上 之堂 功德 通天塔 通天 浮屠 一代 女皇 武则天 感应 四时 沟通 御用 礼佛 圣地 影视剧 风起 洛阳 天堂 视觉 极高 无比 是因为 文献 记载 天堂 五级 三级 俯视 明堂 今天 天堂 遗址 保护 建筑 高达 88.88 一座 巍峨 高大 直上云霄 仿唐 风格 塔式 建筑 外观 五层 内有 九层 彰显 帝王 九五至尊 无上 地位 洛阳 旅游 洛阳 隋唐洛阳城 明堂 遗址\n",
          "冒个 洛阳 旅游 太原 身边 事一 洛博 眼神 不好 规划 早下 一站 计划外 想着 干脆 看看 洛阳 城市规划 展示馆 意料 惊艳 洛阳 城市规划 水平 基本上 洛阳 从古至今 城市 发展史 介绍 一遍 尤其 建国 洛阳 历史 受益匪浅 以前 一五 计划 首都 建设 争议 有过 误解 看到 洛阳 城市规划 苏联 专家 另眼相看 看出 目前 洛阳 打算 打造 南北 走向 龙门石窟 中轴线 新区 城建 水平 看出 可惜 洛阳 省会 之资 省会 之命 发展 更好 洛阳 洛阳市 城市规划\n",
          "日起 洛阳 文化 旅游 场所 有序 恢复 开放 刚刚 洛阳市 文化 广电 旅游局 获悉 结合 全市 疫情 防控 形势 报经 洛阳市 新冠 肺炎 疫情 防控 指挥部 办公室 同意 决定 日起 全市 景区 网吧 KTV 文化 旅游 场所 落实 疫情 防控 常态 措施 基础 县区 疫情 防控 部门 同意 有序 恢复 开放 积极 倡导 洛阳人 洛阳 洛阳 本地 游客 开放 景区 参观 游览 须持 本人 身份证 办理 相关 手续 进入 外地 来洛 返洛 游客 小时 核酸 阴性 证明 方可 进入 景区 网吧 KTV 文化 经营场所 开放 属地 疫情 防控 部门 要求 严格 落实 外地 来洛 返洛 人员 提供 核酸 检测 阴性 证明 防控 措施 恢复 开放 文旅 单位 恢复 开放 文旅 场所 室外 场所 人员 不得 超过 核定 人数 75% 室内 场所 人员 不得 超过 核定 人数 50% 严格 落实 预约 限流 口罩 测体温 实名 登记 健康 行程 米线 通风 消杀 常态 疫情 防控 措施 严防 人员 聚集 图书馆 文化馆 城市 书房 基层 文化 服务中心 公共 文化 服务 场所 暂时 开放 具体 开放 时间 另行通知 综合 洛阳\n",
          "我国 首批 历史 文化名城 正式 公布 我国 历史悠久 文明古国 历史 文化名城 我国 不同 时期 不同 地域 政治 经济 文化 近代 革命 运动 发生 重大 历史 事件 重要 城市 历史 文化名城 地面 地下 保存 大量 历史文物 革命 文物 体现 中华民族 悠久 历史 光荣 革命 传统 光辉灿烂 文化 做好 历史 文化名城 保护 管理工作 建设 社会主义 精神文明 发展 我国 旅游事业 重要 作用 首批 公布 历史 文化名城 北京 承德 大同 南京 苏州 杭州 遵义 延安 曲阜 洛阳\n",
          "满哥 言语 训练馆 第五 满哥 言语 抓住 命题 规律 语言 思维 训练 训练馆 馆长 满哥 出境 确定 不来 满哥 言语 训练馆 第五 季第 打卡 今日 题目 龙马 负图 神龟 载书 远古时代 河图洛书 传说 数千年 认为 中华 传统 文化 源头 河图 出于 河南 洛阳市 孟津县 人们 _________ 而洛书 出于 _________ 定论 依次 填入 横线 部分 恰当 一项 无可厚非 莫衷一是 了然于胸 疑窦 重重 如数家珍 扑朔迷离 妇孺皆知 影影绰绰 满哥 公考 言语 解题 省考 周功\n",
          "黄河 国家 文化公园 形象 标志 logo 洛阳 推出 日前 河南省 文化 旅游 发起 设计 黄河 国家 文化公园 形象 标志 logo 隋唐洛阳城 天堂 明堂 应天门 二里头 国家 考古 遗址 公园 入口 正式 亮相 成为 提升 黄河 国家 文化公园 形象 辨识 积极 尝试 黄河 国家 文化公园 建设 保护 重要 成果 黄河 国家 文化公园 形象 标志 logo 河南省 文化 旅游 委托 多家 机构 进行 设计 设计 理念 立足 黄河 字型 地理 特征 融入 飘带 龙图腾 造型 特征 传达 中华文明 起源 形成 发展 历史进程 象征 中华民族 生生不息 时代 崛起 腾飞 行走 河南 读懂 中国\n",
          "洛阳 身边 洛阳 河洛 文化 旅游节 国际 文艺 广场 巡演 活动 日至 举行 日至 洛阳 河洛 文化 旅游节 国际 文艺 广场 巡演 活动 举行 届时 国家 余支 表演 团队 将来 献艺 市民 游客 带来 多场 别具 异域 风情 表演 巡演 时间 场地 洛邑 古城 专场 时至 表演 团队 来自 波兰 以色列 克罗地亚 芬兰 体育中心 广场 专场 时至 表演 团队 来自 波兰 以色列 克罗地亚 芬兰 立陶宛 周王城 广场 专场 时至 表演 团队 来自 波兰 以色列 克罗地亚 芬兰 立陶宛 俄罗斯 阿根廷 万达 广场 专场 时至 表演 团队 来自 波兰 以色列 克罗地亚 芬兰 立陶宛 俄罗斯 阿根廷 龙潭 大峡谷 专场 时至 表演 团队 来自 以色列 俄罗斯 阿根廷 孟津县 中心 文化 广场 专场 时至 表演 团队 来自 波兰 克罗地亚 芬兰 立陶宛 卫坡 古民居 旅游区 专场 时至 表演 团队 来自 波兰 克罗地亚 芬兰 立陶宛\n",
          "首批 亮相 洛阳 礼物 包括 仿古 制品 农副 特产 手工艺品 茶具 洛阳 吉祥物 余种 余个 单项 产品 计划 洛阳 礼物 洛阳 会展中心 建设 旗舰店 该店 预计 建成 对外 营业 今后 洛阳 礼物 成为 我市 主打 旅游 系列产品 更好 彰显 千年 帝都 风采 打造 品位 高质量 洛阳 城市 礼物 提升 我市 文化 旅游 产业 重要 内容 市委 市政府 提出 洛阳 世界 文化 旅游 产品 品牌 要求 洛阳 旅发 集团 挖掘 特色旅游 资源 结合 艺术 创造 工艺 创新 商品 包装 设计 风格 文化 内涵 使用 价值 方面 我市 特色旅游 商品 进行 科学 整合 推出 洛阳 礼物 系列产品 游客 提供 多集 功能性 特色 文化 性于 一体 旅游 商品\n",
          "洛阳 身边 今日 起至 洛阳 中考 考生 嵩县 景区 门票 免费 嵩县 旅游局 获悉 今日 起至 嵩县 境内 国家 5A 4A 景区 年度 全国 高考 考生 推出 免费 活动 参与 此次 活动 景区 嵩县 白云山 天池 木札岭 考生 活动 期间 准考证 身份证 前往 上述 景区 门票 游览 今年 我市 嵩县 栾川县 南阳市 西峡县 共同 倡议 发起 伏牛山 全域 旅游 扶贫 联盟 成立 三县 协调 推动 伏牛山 全域 旅游 发展 规划 编制 景区 创新 发展 旅游 市场 互惠 重点 景区 旅游 通道 建设 旅游 人才交流 方面 开展 合作 推动 伏牛山 生态 旅游圈 快速 发展 脱贫 攻坚 方面 发挥 积极 作用 充分发挥 伏牛山 全域 旅游 扶贫 联盟 优势 积极探索 伏牛山 地区 旅游 交通 产业 扶贫 区域 一体化 发展 模式 交通 惠民 旅游 扶贫 原则 今年 嵩县 栾川县 联合 举办 高速 免费 活动 零时 所有 经洛栾 高速 嵩县 境内 嵩县 产业 集聚 区站 嵩县 旧县 九龙山 栾川县 境内 栾川 重渡 以下 客车 河南省 高速公路 通行费 洛阳 晚报 王澍 通讯员 郭晓阳\n",
          "洛阳 即日起 洛阳 暂时 关闭 网吧 KTV 人员 聚集 密闭 场所 小编 刚刚 洛阳市 文化 广电 旅游局 获悉 日起 洛阳 市辖区 互联网 上网 服务 营业 场所 网吧 歌舞 娱乐场所 KTV 游艺 娱乐场所 人员 聚集 密闭 场所 暂时 关闭 据介绍 目前 疫情 防控 严峻形势 洛阳市 新冠 肺炎 疫情 防控 指挥部 办公室 同意 做好 洛阳市 文旅 市场 当前 疫情 防控 工作 日起 市辖区 互联网 上网 服务 营业 场所 网吧 歌舞 娱乐场所 KTV 游艺 娱乐场所 人员 聚集 密闭 场所 暂时 关闭 避免 人员 聚集 造成 疫情 传播 风险 疫情 形势 好转 报经 当地 疫情 防控 指挥部 同意 有序 恢复 开放 LLy 直播 洛阳\n",
          "河南 民宿 郑州 周边 民宿 推荐 洛阳市 栾川县 拾光 二十度 推荐 理由 深藏 伏牛山 栾川 4A 景区 龙峪湾 老君山 鸡冠 养子 多个 4A 5A 景区 围绕 民宿 整体 建筑 自然环境 相得益彰 立体 景观 花鸟 鱼虫 莲池 锦鲤 曲径 中国式 庭院 生活 有趣 空间 得到 完美 诠释 民宿 介绍 民宿 早餐 免费 午餐 点菜 价位 适中 周围 有个 庄子 有个 吊桥 散步 一层 简单 娱乐 设施 蹦床 麻将 房等 后院 鱼塘 一小片 向日葵 灿烂 孔雀 可爱 狗子 金鱼 花园 秋千 鱼塘 儿童图书 每间 客房 属于 文化 符号 山景 星空 透过 落地窗 映进 平米 房屋 空间 加上 完善 配套 设施 亲子 人们 躲进 山林 拾取 光阴 生活 感受 生活 体验 云蔓 二乔 晚妆 暮雨 民宿 地址 洛阳市 栾川县 庙子 庄子 一组 龙峪湾 景区 门口 河南 旅游 河南 旅游 攻略 郑州 民宿\n",
          "比较 伤害 同样 旅馆 满员 无法 入住 外国游客 中国 获得 瑞典 待遇 外国游客 久坐 酒店 大厅 不愿 离开 中国 警察 处理 获赞 不久前 中国 先生 父母 瑞典 旅游 提前 到达 旅馆 无法 入住 请求 旅店 允许 其能 酒店 大厅 暂歇 粗暴 对待 欧打 坟场 以此 背景 制作 侮辱 中国 节目 道歉 洛阳 警方 同样 接到 饭店 报警 一群 外国游客 坐在 大厅 不愿 离开 民警 赶到 现场 得知 这群 外国游客 准备 入住 酒店 足够 房间 能够 安排 游客 民警 翻译机 游客 进行 沟通 引导 前往 酒店 入住 外国游客 久坐 酒店 大厅 不愿 离开 中国 警察 处理 获赞\n",
          "洛阳 即日起 洛阳 暂时 关闭 网吧 KTV 人员 聚集 密闭 场所 小编 刚刚 洛阳市 文化 广电 旅游局 获悉 日起 洛阳 市辖区 互联网 上网 服务 营业 场所 网吧 歌舞 娱乐场所 KTV 游艺 娱乐场所 人员 聚集 密闭 场所 暂时 关闭 据介绍 目前 疫情 防控 严峻形势 洛阳市 新冠 肺炎 疫情 防控 指挥部 办公室 同意 做好 洛阳市 文旅 市场 当前 疫情 防控 工作 日起 市辖区 互联网 上网 服务 营业 场所 网吧 歌舞 娱乐场所 KTV 游艺 娱乐场所 人员 聚集 密闭 场所 暂时 关闭 避免 人员 聚集 造成 疫情 传播 风险 疫情 形势 好转 报经 当地 疫情 防控 指挥部 同意 有序 恢复 开放\n",
          "洛阳 身边 首批 革命 文物保护 利用 区分 名单 公布 新安 孟津 两县 入选 日前 中宣部 财政部 文化 旅游部 国家文物局 公布 第一批 革命 文物保护 利用 区分 名单 共计 片区 我市 新安县 孟津县 入选 片区 包括 基于 土地革命战争 时期 革命 根据地 确定 片区 基于 抗日战争 时期 晋冀豫 抗日 根据地 苏北 抗日 根据地 确定 片区 井冈山 中央苏区 湘鄂西 海陆丰 鄂豫皖 琼崖 闽浙 湘鄂赣 湘赣 左右江 川陕 陕甘 湘鄂川黔 晋冀豫 苏北 片区 涉及 个省 个市 来源 洛阳 日报\n",
          "无人 值守 一元 午餐 结账 多出 国庆 假期 景区 连续 推出 午餐 共售 游客 点赞 直呼 太值 午餐 自动 支付 无人 看守 河南 洛阳 老君山 景区 第四年 推出 国庆 假期 一元 午餐 活动 今年 售出 一元 午餐 只用 游客 馒头 面条 自取 果盘 附送 景区 举措 往来 游客 纷纷 点赞 最后 盘点 收款 箱加 扫码 支付 共计 收入 多出 老君山 风景 名胜区 国家 5A 旅游 景区 国家级 自然保护区 日出 云海 奇观 每年 吸引 大批 游客 前往 参观 海客 新闻 海客 新闻\n",
          "栾川 栾川 景色 洛阳 栾川 汤营净 安寺 近日 驱车 前往 栾川县 潭头镇 当地 居民 引领 曲曲弯弯的 山路 来到 一处 佛门 清净 之地 汤营净 安寺 汤营净 安寺 位于 栾川县 潭头镇 汤营村 汤池 沟内 占地面积 474.2 平方米 整组 建筑 西朝东 硬山 青砖 黛瓦 存有 清乾隆 十九年 公元 四月 重修 三清殿 王殿 之槛 舞楼 一座 行述 一通 现存 碑记 推断 庙宇 至迟 建于 清初 寺院 不同 安寺 目前 尚未 旅游景点 对外开放 三名 常住 僧人 不定期 到访 居士 修行 偶尔 香客 到访 显得 格外 清净\n",
          "洛阳 身边 洛阳 首届 华夏 汉服 旅游节 日雨中 完美 开幕 今日 满足 每个 心中 汉服 情结 洛阳 首届 华夏 汉服 旅游节 一起 感受 汉家 服饰 典雅 品味 华夏文化 之博厚 本次 节会 我汉家 衣裳 礼仪之邦 主题 汉服 汉字 汉语 行汉礼 落到实处 来自 全国 各地 嘉宾 朋友 身着 中华民族 传统 服饰 首届 华夏 汉服 旅游节 中原 第一次 举办 大型 汉服 文化 传承 公益活动 我国 北方 规格 最高 数最多 阵容 强大 持续时间 最久 面对 全球 华夏 汉服 文化 传承 活动 开幕式 表演 舞蹈 朗诵 精彩节目 再现 中国 古代 传统 婚礼 习俗 华夏 衣裳 礼仪之邦 世界 重回 洛阳 洛阳 重现 华章 本次 开幕式 虽伴 大雨 来自 全国 各地 嘉宾 朋友 深刻 感受 华夏文化 之博厚\n",
          "Laderach 莱德 风靡 瑞士 半世纪 巧克力 神话 临近 圣诞节 寻思 几位 闺蜜 送点 圣诞礼物 仪式 周末 iapm 逛街 这家 来自 瑞士 宝藏 巧克力 Laderach 莱德 入门 第一眼 展示柜 琳琅满目 巧克力 挪不开 眼以 新鲜 制作 手工 巧克力 闻名 莱德 所有 鲜制 巧克力 瑞士 本土 制作 完成 随后 冷链 空运 全球 分店 保质期 口味 几十种 夹心 超多 造型 可爱 高定 原材料 要求 阿尔卑斯山 优选 牧场 专供 奶源 马达加斯加 厄瓜多尔 特立尼达 优质 产地 稀缺 可可豆 高品质 坚果 最终 融合 巧克力 完美 答案 最后 选择 经典 混合 坚果 送人 体面 更是 一次 品尝 十种 不同 口味 印着 瑞士 风光 旅游 必入 纪念 适合 送给 小朋友 动物 系列 礼盒 无一不是 俘获 味蕾 美好 存在 derach 莱德 地址 上海 环贸 iapm 一楼 紧邻 劳力士 积家 人均 风起 洛阳\n",
          "评价 电视剧 风起 洛阳 悬疑 类型 影片 抵抗力 喜欢 尤其 添加 古装 元素 更是 数一数 瞧一瞧 播放 日子 迟尺 欢喜 前期 公布 演员 名单 预感 精彩 大唐 洛阳 单单 两个 词语 足以 拉满 好奇 指数 回归 题目 评价 风起 洛阳 前期 这部 剧从 操作 层面 早已 不是 单独 一部 电视剧 范畴 整体 设计 退出 一系列 产品 打开 巨大 包裹 先看 原著 小说 电视剧 洛阳 实地 旅游 看看 华夏 古城 时间 刷刷 相关 纪录片 多层次 多角度 丰富 感官 体验 想来 一次 IP 有益 尝试 一种 模式 探索 期待\n",
          "五一 假期 拼出 天假 清明节 春节 第一个 假期 就要 国务院办公厅 此前 发布 部分 节假日 安排 通知 清明节 放假 安排 周三 当天 放假 不再 挪用 周末 调休 想要 长假 一忍 等到 五一 假期 拼出 长假 今年 劳动节 日至 放假 调休 星期日 星期六 上班 日到 请假 加上 周日 形成 假期 假期 泰国 新加坡 马尔代夫 领略 异国 风情 香港 澳门 北京 南京 洛阳 感受 传统 文化 无限 魅力 长途 跨省 出境游 安排 图片 包图 图虫 创意 中国 旅游 新闻 图片库 编辑 宋雨秋\n",
          "洛阳 身边 自驾游 栾川 高速 免费 答疑 自驾游 栾川 高速 费全免 问题 需要 了解 O8 时至 游客 自驾游 栾川 河南 境内 高速 全免费 活动 一经 推出 引起 很多 游客 关注 此次 活动 疑问 接踵而至 参加 栾川 高速 免费 活动 全国 以下 旅游 车辆 河南 高速公路网 站口 直达 洛栾 高速 栾川 重渡 高速 免收 高速 通行费 直接 放行 ETC 操作 针对 高速 ETC 通道 车辆 到洛栾 高速 栾川 重渡 直接 ETC 通道 下站 扣费 回程 是否 免费 回程 车辆 站点 分散 难以 协调 栾川 高速 回程 车辆 不再 高速 通行费 景区 门票 优惠 暂时 优惠 排除 景区 可能 推出 优惠活动 引流 游客 广大 游客 朋友 关注 全景 栾川 微信 吃喝玩乐 随时 掌握 栾川 旅游 最新 动态 栾川 本地人 是否 免费 栾川 县委 县政府 秉承 本地 居民 游客 共享 栾川 旅游 发展 成果 旅游 发展 理念 本次 高速 免费 活动 栾川 当然 尊享 免费 政策 省外 游客 自驾 栾川 省外 部分 高速 通行费 不能\n",
          "舌尖 中国 洛阳 美食 红薯 粉条 栾川 旅游 栾川 潭头 粉条 畅销 主要 几大 原因 原因 潭头 土质 肥沃 疏松 通气 性好 生长 红薯 淀粉 含量 口感 绵甜 可口 原因 选取 潭头 食材 粉条 无污染 无公害 天然 绿色 产品 原因 食材 红薯 抗癌 食品 营养 丰富 富含 碳水化合物 膳食 纤维 蛋白质 烟酸 人体 矿物质 原因 传统 制作 方式 全程无 添加剂 消费者 放心 原因 粉条 色泽 晶莹 发亮 做菜 耐炖 不断 口感 柔润 原因 红薯 粉条 具有 良好 附味性 吸收 鲜美 汤料 味道 粉条 作出 美味佳肴 吃货 发挥 想象 另有 栾川 豆腐 旅游 来到 栾川 朋友 不要 尝尝 潭头 粉条 耐炖 口感 纯手工 制作 储存 纯手工 传统 红薯 粉条 制作 工艺流程\n",
          "时间 调查 目的地 洛阳 魅力 魏都 纯净 莲城 调查小组 今日 来到 洛阳 龙门 调差 洛阳 许昌 环境 差异 洛阳 龙门 占地面积 极大 总体 情况 极好 所见 之处 文明 标语 提醒 人们 注意 卫生 清洁 阿姨 随处可见 打扫卫生 垃圾桶 入门 大致 二十米 垃圾桶 地面 干净 整洁 景区 之内 垃圾 几乎 十几公里 浓浓的 文化 之韵 充斥 石窟 历经沧桑 屹立 优美 整洁 环境 饱经风霜 最好 尊重 之后 来到 人口 密集 老城区 调查 人口众多 摩肩接踵 地面 干净 令人震惊 不禁 洛阳 环境 地面 卫生 之好 离不开 清洁工 打扫 众多 垃圾桶 摆放 人民 素质 提高 洛阳 九朝古都 见证 一个集 历史 文化 现代化 一体 高素质 城市 历史 车轮 碾磨 人们 赞美 洛阳\n",
          "洛阳 身边 喜讯 春节 期间 老城 青年宫 新华 国际 影城 邮政 信用卡 观影 活动 时间 参与 对象 邮政 银行 信用卡 客户 信用卡 卡种 包括 普卡 金卡 旅游 公务 中原 美食 生肖 白金卡 币种 邮政 工会 活动 内容 活动 期间 每周 周六 用户 邮政 银行 信用卡 洛阳 新华 影城 刷卡 观影 活动 期间 每周 周日 用户 邮政 工会 新华 影城 刷卡 观影 活动 期间 每张 仅限 一次 购票 支付 五元 观影 活动 时间 参与 对象 下载 使用 支付 购票 所有 顾客 活动 内容 活动 期间 顾客 每周 周五 周六 周日 三天 使用 支付 新华 国际 影城 购票 观影 可享 五元 购票 观影 春节 放假 期间 限时 每天 使用 一次 活动 期间 每周 每个 支付 仅限 使用 一次 购票 每次 限购 两张 洛阳 生活 闫永豹 杨留锋 吉祥 洛阳 洛城 攻略 生活 栏目 紫香园 洛阳 薰衣草 庄园 Daling 复合式 店铺 火箭 洛阳 全攻略 河洛 人才交流 中心 洛阳 洛阳 百科 洛阳 美食 洛阳 电视新闻 洛阳 大嘴 张颖珺 洛阳\n",
          "天津 大道 拟建 公园 今天上午 从市 方面 获悉 天津 大道 地区 拟建 公园 今起 公开 社会公众 征求意见 异国 风情 建筑 林立 天津 大道 有着 万国 建筑 博览 美名 迄今 中国 保存 最为 完整 外国 洋楼 建筑群 进一步 提升 绿化 环境 完善 大道 地区 配套 设施 建设 近日 本市 发布 天津市 大道 历史 文化 街区 街坊 保护 规划 控规 修改草案 公示 公众 征集 意见 公示 大道 新建 公园 绿地 地块 四至 范围 东至 新华路 洛阳 河北 成都 南京路 规划 最大 地块 用地 性质 公园 绿地 用地 面积 平方米 规划 建设 配套 项目 地铁 风亭 现状 地下 公共 停车场 公共厕所 环卫 清扫 班点 设置 游客 服务中心 旅游 巴士 客区 据悉 天津市 大道 历史 文化 街区 街坊 保护 规划 控规 修改草案 公示 期为 工作日 收集 公众 意见 截止 日期 津云\n",
          "濮阳 暂停 多条 客运 班线 关闭 多个 公共场所 濮阳 交通部门 了解 从即日起 暂停 濮阳 各县区 郑州 林州 安阳 项城 登封 二安 码头 小集 慈周 桑村 山东 鄄城 德州 兖州 山西 侯马 河北 武安 塘沽 天津 班车 客运 包车 客运 旅游 客运 道路 客运 含对发 班车 经营 公告 暂时 停班 洛阳 原阳 周口 许昌 沈丘 湖北 武汉 河北 邯郸 陕西 西安 客运 班线 含对发 班车 继续 暂停 濮阳市 图书馆 濮阳市 戚城 文物 景区 濮阳市 工人 文化宫 濮水 小镇 多个 公共场所 暂停 开放 河南 安娜 濮阳 孙鹤\n",
          "篇文章 有意思 端午节 前夕 打卡 全国 重点 文物保护 单位 洛阳 汉魏 洛阳 故城 遗址 分享 千年 皇宫 地上 今日 风情 上年 洛阳市 第二届 客家 祖根地 纪念大会 文化 自然遗产 活动 洛阳市 汉魏 洛阳 故城 金村 宫城 门前 举行 巧遇 这场 历史 文化 故城 现代 文化遗产 融合 美好 时刻 据悉 一年一度 客家人 祖根地 祭拜 活动 汉魏 洛阳 故城 举行 今年 第二届 每年 文化 自然遗产 这天 进行 意义 汉魏 洛阳 故城 位于 河南 洛阳市 金村 汉魏 洛阳 故城 国家 考古 遗址 公园 世界 文化遗产 全国 重点 文物保护 单位 汉魏 洛阳 故城 宫城 正门 门前 竖立 一块 石碑 世界 文化遗产 汉魏 洛阳 故城 遗址 西晋 客家 先民 南迁 出发地 中华文化 基金会 正因如此 每年 客家人 祖根地 祭拜 活动 举行 看看 世界 文化遗产 欣赏 千年 皇都 故城 风貌 了解 文化 历史 古今 观看 一场 汉服 礼仪 表演 不错 度过 端午节 长假 前夕 古都 风光 游览 端午 出行 奇遇 旅行\n",
          "天地 史话 航线 预定 洛阳 再添 一波 省会 旅游 新航 日起 厦门航空 洛阳 西宁 每天 MF8258 MF8257 洛阳 西宁 洛阳 日起 厦门航空 洛阳 杭州 每天 MF8257 MF8258 洛阳 杭州 洛阳 日起 桂林 航空 洛阳 泉州 洛阳 由原 每周 加班 每周 6GT1063 GT1064 洛阳 泉州 洛阳 以上 航线 新增 洛阳 通航 城市 达到\n",
          "旅游 美食 洛阳 水席 特点 一是 有素 素菜 选料 广泛 天上 飞禽 地下 走兽 海中 游鱼 地里 菜蔬 入席 水席 起源于 洛阳 洛阳 地理 气候 很大 关系 洛阳 四面 环山 地处 盆地 雨量 气候 干燥 寒冷 民间 饮食 多用 汤类 喜欢 酸辣 抵御 干燥 寒冷 洛阳 水席 河南 洛阳 一带 特有 汉族 传统 名宴 属于 菜系 洛阳 水席 始于 唐代 至今已有 多年 历史 中国 迄今 保留 下来 历史 久远 名宴 两个 含义 一是 全部 热菜 汤汤水水 二是 热菜 洛阳 水席 一道 撤后 一道 流水 不断 更新 洛阳 水席 特点 有素 选料 广泛 简可繁 味道 多样 俱全 舒适 可口\n",
          "洛阳 身边 网友 洛阳 重新 划区 建议 觉得 洛阳 国家 区域 中心 城市 中原 城市群 中心 城市 国际 文化 旅游 名城 目前 行政区划 已近 调整 城市 发展 越来越 市区 面积 发展 空间 现有 条件 影响 严重 制约 洛阳 发展 地铁 修建 需要 扩大 市区 面积 人口 洛阳 近几年 进行 区划 调整 地级市 相比 节奏 太慢 徐州 张家口 保定 开封 洛阳 工作 滞后 其实 洛阳 市区 行政区划 相当 不合理 之间 交错 相叉 行政 管理 成本 偏高 加上 传统 区划 已经 极大 程度 洛阳 发展 目前 国内 积极 调整 城市 区划 建议 洛阳 尽快 规划 争取 保定市 一次 调整 到位 西工区 拆分 部分 王城 大道 以西 涧西区 以东 老城区 河区 老城区 合并 包含 西工 王城 大道 以东 部分 区域 老城区 孟津县 撤县 设区 成为 孟津 偃师市 撤市 设区 成为 偃师 成立 伊滨区 以原 区划 属于 洛龙区 诸葛 李村 佃庄 庞村 寇店 伊滨区 区划 调整 洛阳 市区 包含 涧西区 老城区 洛龙区 吉利区 伊滨区 孟津 偃师 新安县 宜阳县 伊川县 汝阳县 嵩县 洛宁县 栾川县 洛阳\n",
          "老家 河南 看看 洛阳 汉服 沉浸 体验 盛世 隋唐 三大 博物馆 预约 洛邑 古城 预约 龙门石窟 限流 隋唐洛阳城 应天门 预约 老君山 预约 今年 五一 假期 洛阳 实力 游客 火速 河南 美丽 经济 地图 汉服 沉浸 体验 盛世 隋唐 文化 成来 洛阳 旅游 标配 三件套 平价 暖心 烟火 城市 氛围 景区 博物馆 延长 开放 时间 公共交通 延长 凌晨 本地 车辆 外地 车辆 政府 大院 免费 停车 人文 举措 古都 洛阳 历史 遗迹 起来 游客 留下来 城市 起来 年轻人 爱上 洛阳 理由\n",
          "洛阳 景区 图鉴 王府 竹海 景区 位于 河南省 洛阳市 栾川县 城西 北约 公里 狮子 庙镇 王府 沟村 处于 熊耳山 南麓 伏牛山 北麓 栾川 北川 深山区 地势 奇峻 山峦起伏 沟壑纵横 海拔高度 之间 总体 地势 南高北 暖温带 大陆性 季风气候 景区 北面 紧邻 小河 所有 沟壑 山间 溪流 溪流 汇集 形成 王府 河流 小河 山涧 泉水 丰富 常年 流水 不断 森林 覆盖率 高达 84% 负氧离子 浓度 含量 极高 被誉为 伏牛山 森林 沐场 景区 内年 平均气温 12.4 夏季 平均气温 避暑 度假 休闲 旅游 核心 康养 生态区 王府 竹海 度假 旅游区 冬季 王府 竹海 像是 人间仙境 景区 独一无二 高山 瀑布群 冬日 气温 珍珠 流苏 瀑等 大大小小 百级 瀑布 自然 形成 大小不一 绝美 冰挂 冰雪 之约 共赴 王府 竹海 一边 绝美 雪景 一边 品尝 特色美食 雪地 堆雪人 打雪仗 童心 淋漓尽致 展现 出来 河南 旅行 洛阳 头条\n",
          "广州 身边 准考证 免费 游仙 门奇峡 高考 结束 暑假 即将 到来 广大 学子 回归 大自然 探秘 南粤 文化 广东 避暑胜地 仙门 奇峡 风景区 举办 Fun 暑假 游仙 活动 景区 昨日 公布 广东省 学生 本人 考证 考证 居民身份证 韶关市 所有 学生 小学 大学 技术 院校 本人 居民身份证 学生证 获得 景区 游览 门票 免费 期限 日至 据悉 仙门 奇峡 位于 韶关市 乳源瑶族自治县 洛阳镇 境内 国家级 AAA 景区 典型 喀斯特 岩溶地貌 乳源 大峡谷 必经之地 更是 民族风情 生态旅游 休闲 度假 一体 多元化 旅游 度假 景区 分享 广州\n",
          "洛阳 大寒 奇缘 大寒 节气 开启 奇缘 大寒 节气 洛阳 广播 电视台 出品 大寒 奇缘 正式 上线 曾经 看过 冬至 奇遇 小寒 奇趣 观众 应该 系列 陌生 也许 内心 隐隐 猜想 没错 春雨 惊春清 谷天 夏满芒 夏暑 相连 秋处露 秋寒 霜降 冬雪 雪冬小 大寒 二十四节气 一遍 洛阳 二十四节气 发祥地 洛阳 电台 厚植 黄河 文化 笃信 文化 内核 创新 表达 石相击 垂直 深耕 融合 传播 以期 赢得 受众 共感 共情 开启 洛阳 故事 国际 年轻 时尚化 创新 表达 铸就 河洛 文化 辉煌 冬至 奇遇 开启 节气 整个 系列 全新 演绎 故事 刚刚开始 正平 上阳宫 天堂 明堂 隋唐 洛阳 一代 女皇 古今 奔涌 河流 浪花 掀起 过往 星海 横流 岁月 成诗 时间 齿轮 不停 转动 旧日 传说 化作 新谈于 古城 冬日 岁末 一卷 故事 大寒 奇缘 一树 风雪 几人识 一城 故事 天下 垂拱 四年 旧谈里 今日 大寒 奇缘 和谐 宜阳\n",
          "黄河 故道 四月 风光旖旎 百花 一夜 春雨 和畅 惠风 千余名 来自 全国 各地 徒步 爱好者 齐聚 梁园区 口镇 湖景区 参加 河南省 商丘市 梁园 首届 黄河 故道 森林 湿地 公园 徒步 穿越 活动 天沐湖 碧波荡漾 游船 穿梭 芦苇 轻摇 野鸭 嬉戏 湖畔 风吹 麦浪 油菜花 飘香 杏树 林下 芍药 争艳 田间 阡陌 泡桐树 犹如 喇叭 紫色 花朵 迎风 盛放 林荫 参赛者 吹奏 春曲 森林公园 槐树 白杨树 柳树 根植 大地 防风固沙 密林 深处 鸟鸣 声声 蜂舞 蝶飞 诗意 盎然 史料 记载 商丘市 梁园区 中华民族 龙山文化 中原 文化 融合 之地 历史 西汉 梁孝王 刘武 皇家 园林 黄河 流经 梁园 余年 多年 改道 留下 绵延 公里 黄河 故道 如今 万亩 水面 碧水 荡漾 万亩 湿地 生机勃勃 万亩 森林 郁郁葱葱 近年 梁园区 注重 原始 生态 保护 加快 生态 文明 建设 故道 大堤 南北 打造 四道 绿色 林带 四道 绿色 屏障 成就 一个集 旅游 文化 经济 一体 生态 廊道 滋润 保护 商丘 古城 洛阳 晚报 姚国彦 山岳\n",
          "绿意 萦绕 古今 交融 天街 美景 市民 乐享 市民 隋唐洛阳城 国家 历史 文化公园 天街 休闲 健身 盎然 绿意 古今 交融 美景 不久前 开放 天街 北延 项目 成为 市民 绿色 出行 便民 惠民 城市 风景线 天街 北延 项目 位于 洛龙区 安乐 水磨 原有 两坊 一街 基础 上向北 延伸 建设 重点 遗址 保护 展示 工程 项目 建成 成为 观光 研学 休闲 旅游 一体 综合性 项目 全面 活化 隋唐洛阳城 中轴线 实现 文物保护 旅游 发展 城乡建设 民生 改善 深度 融合 展现 真实 立体 全面 定鼎 遗址 片区 洛阳 打造 国际 文化 旅游 名城 提供 重要 支撑\n",
          "日起 外地人 洛阳 申请 发出 入境 证件 日起 洛阳 居住 外地人 申请 发出 入境 证件 无须再 户籍 所在地 洛阳 办理 日前 国家 移民 管理局 出台 改进 服务 管理 新举措 一季度 之前 分批 实施 今年 日起 推出 便民利民 新举措 包括 内地 居民 全国 范围 任一 公安 出入境 管理机构 异地 申请 普通 护照 往来 港澳 通行证 往来 台湾 通行证 内地 居民 全国 范围 任一 公安 出入境 管理机构 异地 申请 往来 港澳台 团队 旅游 签注 内地 居民 户籍地 申办 普通 护照 往来 港澳 通行证 往来 台湾 通行证 签发 时限 缩短 工作日 O9 日起 外地人 洛阳 申请 发出 入境 证件\n",
          "河南省 简称 河南省 历史 大部分 位于 黄河 以南 河南 远古 时期 黄河 中下游 地区 河流 纵横 森林 茂密 野象 众多 河南 描述 牵象 象形字 根源 河南 简称 河南 中华文明 中华民族 发源地 中原 河洛 三商 文化 源远流长 汉字 文化 姓氏 文化 根亲 文化 诗词 文化 功夫 文化 博大精深 省内 文物古迹 风景名胜 众多 少林寺 龙门石窟 殷墟 清明 河园 黄帝 故里 商丘 古城 嵩山 云台山 白云山 伏牛山 石人 鸡公山 丹江口水库 武侯祠 闻名 海内外 中国 八大 古都 河南 一省 四个 分别 为夏商 古都 郑州 商都 安阳 十三 古都 洛阳 七朝 古都 开封 四千年 新石器 时代 中原 人民 创造 著名 裴李岗 文化 仰韶文化 龙山文化 河南 我国 姓氏 重要 发源地 中国 大姓 中根 河南 陈林 半天 郑排 满街 之称 海外 四大 姓氏 起源于 河南 豫见 中国 老家 河南 大脸 旅游 大脸 旅游 随笔 漫记 国内 河南 平顶山 街景 花卉市场\n",
          "河南 交友 VIP 推荐 嘉宾 洛阳 销售 出生年月 1991.10 户籍地 河南 洛阳 工作 河南 洛阳 本科 销售 月薪 1W 车房 情况 有车 无房 婚姻 状态 未婚 身高 161cm 体重 55kg 星座 天秤座 爱好 读书 旅游 逛街 喝茶 自我 评价 性格 活泼开朗 超级 喜欢 交朋友 处事 粗中有细 有点 颜控 择偶 要求 希望 爱心 野心 决心 孝心 做人 低调 行事 果断 身高 以上 携手 共同 作战 盟友 朋友 最好 洛阳 本地 哥哥 聊聊\n",
          "宜阳 生活 灵山 莲花 水城 夏季 乐园 启动 仪式 莲花 水城 首届 全民 创作 正式 启动 上午 灵山 洛水 两岸 如沐春风 宜阳 沃土 生机盎然 河洛 大地 热闹非凡 灵山 莲花 水城 夏季 乐园 启动 仪式 灵山 莲花 水城 首届 全民 创作 发布会 景区 乐园 广场 举行 正式 启动 洛水 萦绕 灵山 环抱 洛阳 灵山 莲花 水城 座落在 素有 千年 帝都 美誉 洛阳城 西南 公里 山脚下 它北依 洛河 南临 灵山寺 西傍熊 耳青 东望 龙门石窟 一处 灵山 洛水 莲韵 圣境 依托 温泉 休闲 人文 风情 体验 为主 业态 复合型 生态旅游 度假区 洛阳 灵山 莲花 水城 倚山 之灵 水之名 独具 魅力 山水 莲韵 之城 活力 三大 核心 品牌价值 体系 跨度 领跑 中原地区 旅游 休闲 文化 潮流 业界 盛赞 图文 赵少洲\n",
          "春节假期 旅游 云南 打卡 热门 街头巷尾 再过 多天 春节假期 段时间 大部分 出行 计划 市民 朋友 已经 制定 出游 计划 春节假期 哪些地方 最受 游客 欢迎 青睐 采访 大部分 市民 表示 春节假期 出游 计划 基本 选择 大理 丽江 西双版纳 昆明 省内 热门 目的地 近期 多重 政策 利好 之下 春节假期 旅游 市场 快速 回暖 国内 各大 目的地 城市 走出 疫情 阴影 数据 显示 今年 元旦假期 期间 洛阳 西双版纳 哈尔滨 酒店 预订 同比 上涨 超过 冬季 热门 长线 目的地 三亚 昆明 哈尔滨 进入 热门 目的地 榜单 前十 L8099999\n",
          "今天 洛阳 市内 小众 景点 游玩 洛阳 周王城 天子 驾六 博物馆 博物馆 位于 河南省 洛阳市 西工区 中心 周王城 广场 附近 繁华 西工 小街 属于 市中心 繁华区 交通 便捷 地处 周王城 遗址 东北部 一座 原址 保护 展示 东周时期 大型 车马坑 主体 辅以 周王城 概况 王陵 考古 发现 部分 东周时期 珍贵文物 王城 王陵 王器 专题 博物馆 博物馆 世纪 重大 考古 发现 车马坑 规模 车子 类型 马匹 摆放 整齐 气势 宏伟 当今世界 独一无二 驾六 遗存 博物馆 门票 主要 包括 两个 展厅 第一个 周王城 历史 青铜器 第二个 恢宏 车马坑 主要 第二个 展厅 车马坑 不止 周天子 六驾 马车 五驾 四驾 推测 应该 周王城 驷马 洛阳 主要 应天门 九州 遗迹 此地 应天门 附近 大家 时间 充裕 进去 看看 学习 一下 东周 历史 不错 选择 热门 洛阳 热门 风景 旅游 博物馆 西安 西安 钟楼 回民\n",
          "委员 揭秘 河南 博物院 出圈 手册 全国政协 委员 马萧林 揭秘 河南 博物院 手册 脱胎 唐代 彩绘 陶俑 唐宫 少女 穿越 千年 舞台 欢快 起舞 埋着 微缩 青铜器 元宝 铜佛 仿制 文物 考古 盲盒 供不应求 掀起 考古 支付宝 地下室 模拟 考古 现场 还原 洛阳 考古 器具 人人 成为 数字 考古 一次次 文化 创新 尝试 一件件 爆款 产品 河南 博物院 迅速 拥有 文创 IP 两会 期间 全国政协 委员 河南 博物院 院长 马萧林 北京青年报 讲述 博物院 文创 产品 走红 思考 文化 创新 建议 北青报 郭慧敏 详情 关注 全国 两会\n",
          "洛阳 小时 洛阳 书房 看看 具体位置 近日 从市 文化 广电 旅游局 获悉 我市 建成 投用 一批 河洛 书苑 城市 书房 洛龙区 汝阳县 偃师市 栾川县 城市 书房 分别 洛龙区 数据 产业园 城市 书房 汝阳县 三路 城市 书房 文化路 城市 书房 醉美 汝阳 广场 城市 书房 偃师市 人大 政协 城市 书房 后庄 社区 城市 书房 教体局 城市 书房 栾川县 旅游 驿站 城市 书房 九鼎 城市 书房 今年 我市 计划 建设 城市 书房 截至 目前 建成 开放 完成 建设 正在 安装 调试 设备\n",
          "洛阳 爆料 洛阳 生活 二里头 夏都 遗址 博物馆 洛阳 旅游 三篇 春节假期 期间 博物馆 参观 游客 众多 洛阳 交运 集团 加开 前往 景区 唯一 公交 班次 反而 减少 班次 间隔 运营 毫无 通知 情况 随意 更改 发车 时间 公交站 位置 方便 游客 前往 距离 博物馆 一趟 竟然 游客 分钟 造成 大量 游客 滞留 抱怨 不断 恰逢 正在 建设 洛阳 都市 外地 游客 展示 洛阳 形象 如果说 交运 集团 不想 好好 运营 此条 线路 早日 让出 交由 公交 集团 开通 二里头 旅游 公交线路 洛阳 交通局\n",
          "致富 修路 洛阳 公路 密集 扎堆 开工 打造 交通枢纽 城市 洛阳市 交通局 几年 没少 开工 项目 打造 国家 旅游 城市 中原 城市群 中心 城市 公路网 建设 当然 各项 建设 前面 主抓 交通 工作 洛阳市 市长 张世敏 来说 建设 中心 城市 必须 建设 综合 交通 运力 公路 路网 建设 高速 路网 密度 增加 洛阳 地区 一项 重要 工作 洛阳市 开工 建设 六条 高速公路 建设 规模 历史 投资 规模 最大 一条条 公路 正在 有序 推进 形势 良好 中心 组团 快速通道 洛新 快速通道 洛吉 快速通道 洛阳 宜阳 洛宁 快速通道 正在 加紧 开工 建设 之中 干线 公路 项目 全长 公里 G310 洛阳 改建工程 今年 通车 运行 全长 延米 洛吉 黄河 大桥 新建 工程 加快 推进 月底 以前 全线 竣工 通车\n",
          "栾川 栾川 景色 洛阳 栾川 汤营净 安寺 近日 驱车 前往 栾川县 潭头镇 当地 居民 引领 曲曲弯弯的 山路 来到 一处 佛门 清净 之地 汤营净 安寺 汤营净 安寺 位于 栾川县 潭头镇 汤营村 汤池 沟内 占地面积 474.2 平方米 整组 建筑 西朝东 硬山 青砖 黛瓦 存有 清乾隆 十九年 公元 四月 重修 三清殿 王殿 之槛 舞楼 一座 行述 一通 现存 碑记 推断 庙宇 至迟 建于 清初 寺院 不同 安寺 目前 尚未 旅游景点 对外开放 三名 常住 僧人 不定期 到访 居士 修行 偶尔 香客 到访 显得 格外 清净\n",
          "形容 洛阳 历史 文化 感受 魅力 旅行 九洲 华灯初上 灯火 璀璨 梦回 那年 隋唐洛阳城 富贵 迷人眼 再现 千年 盛景 应天门 一眼 惊艳 奔赴 一场 唐宫乐宴 龙门石窟 卢舍那 见山见 佛见 世间 当今 潮流 感受 年轻 洛阳 活力 中国 首部 寻迹 洛神赋 光影 诠释 洛阳 神韵 修建 龙门 演绎 期间 感动 流泪 震撼 宇宙 主题乐园 朋克 版文和友 主题 穿越 互动 沉浸 体验 完美 实现 次元 穿越 古老 年轻 不愧 洛阳 洛阳 新星 计划 不尽 好时光 洛阳 旅游 旅游 沉浸 体验 大唐 盛景 洛阳 感受 点点 文化 震撼 牛火火 旅行\n",
          "河南省 简称 河南省 历史 大部分 位于 黄河 以南 河南 远古 时期 黄河 中下游 地区 河流 纵横 森林 茂密 野象 众多 河南 描述 牵象 象形字 根源 河南 简称 河南 中华文明 中华民族 发源地 中原 河洛 三商 文化 源远流长 汉字 文化 姓氏 文化 根亲 文化 诗词 文化 功夫 文化 博大精深 省内 文物古迹 风景名胜 众多 少林寺 龙门石窟 殷墟 清明 河园 黄帝 故里 商丘 古城 嵩山 云台山 白云山 伏牛山 石人 鸡公山 丹江口水库 武侯祠 闻名 海内外 中国 八大 古都 河南 一省 四个 分别 为夏商 古都 郑州 商都 安阳 十三 古都 洛阳 七朝 古都 开封 四千年 新石器 时代 中原 人民 创造 著名 裴李岗 文化 仰韶文化 龙山文化 河南 我国 姓氏 重要 发源地 中国 大姓 中根 河南 陈林 半天 郑排 满街 之称 海外 四大 姓氏 起源于 河南 豫见 中国 老家 河南 大脸 旅游 大脸 旅游 随笔 漫记 国内 河南 安阳 林州 红旗渠 汤阴 汤阴 岳飞\n",
          "朋友 以为 出国 其实 洛阳 白马寺 中国 第一 古刹 白马寺 最品 一人 可线 购票 学生票 半价 中国 印度 缅甸 泰国 四国 风格 佛殿 民族服饰 景区 拍照 打卡 超出 门口 店铺 衣服 仿佛 出国 拍照 切勿 拍佛 下午 光线 最好 天空 建筑 很漂亮 红墙 打卡 光影 很棒 景区 见到 粉红色 鸽子 成群结队 建议 游玩 小时 快约 朋友 起来 白马寺 打卡 洛阳 白马寺 白马寺 拍照 打卡 洛阳 旅游 攻略 拍照 打卡 北京 拍照 打卡 洛阳 旅游 洛阳 旅游 攻略 洛阳 白马寺\n",
          "中原 美食 旅游 洛阳 水席 特点 一是 有素 素菜 选料 广泛 天上 飞禽 地下 走兽 海中 游鱼 地里 菜蔬 入席 水席 起源于 洛阳 洛阳 地理 气候 很大 关系 洛阳 四面 环山 地处 盆地 雨量 气候 干燥 寒冷 民间 饮食 多用 汤类 喜欢 酸辣 抵御 干燥 寒冷 洛阳 水席 河南 洛阳 一带 特有 汉族 传统 名宴 属于 菜系 洛阳 水席 始于 唐代 至今已有 多年 历史 中国 迄今 保留 下来 历史 久远 名宴 两个 含义 一是 全部 热菜 汤汤水水 二是 热菜 洛阳 水席 一道 撤后 一道 流水 不断 更新 洛阳 水席 特点 有素 选料 广泛 简可繁 味道 多样 俱全 舒适 可口\n",
          "说起 各地 旅游 物价 事情 洛阳 喝过 块钱 一大 柠檬水 景区 门口 矿泉水 两块 一瓶 西安 街头 买到 块钱 一斤 厘子 天水 大包 荔枝 目测 两斤 碳水 食物 便宜 广州 一份 鲍鱼 海参 海鲜 捞饭 能点 个位数 寿司 外卖 北京 物价 整体 偏贵 杭州 上海 超贵 杭州 门票 便宜 西湖 景区 基本上 免费 疫情 期间 地方 济南 开封 昆明 地方 民宿 基本上 不超 一天 北京 上海 短暂 停留 青旅 以内 普通 连锁 应该 左右 广东 左右 能订 公寓 江景\n",
          "嘉兴 京杭大运河 长虹桥 印象 京杭大运河 源于 杨广 始建 隋唐 大运河 明代 洛阳 起点 改到 北京 通州 起点 南到 浙江 杭州 不变 绵延 一千多公里 沿途 河面上 重修 很多 石拱桥 嘉兴 长虹桥 京杭大运河 上面 石拱桥 有三孔 有五孔 嘉兴 长虹桥 三孔 发现 世界 不凡 长虹桥 两用桥 桥面 行人 桥下 船只 通行 几百年 石桥 建筑 艺术 见证 嘉兴 长虹桥 收录 世界 文化遗产 京杭大运河 遗产 如今 周围 修建 一种 公园 夏天 游玩 发现 假期 遇见 古桥 长虹 卧波 想必 此桥 得名 缘由 中国 旅游 印象\n",
          "贫困生 十几万 朋友圈 伪装 二代 女主播 打赏订 燕窝 父母 在家 低保 最近 北京 工作 女士 求助 弟弟 走火入魔 似地 玩起 土豪 游戏 疯狂 一位 南京 女主播 打赏 打赏 十几万元 父母 贫困 弟弟 校园 维持 女主播 打赏 女士 发现 弟弟 几乎 每天 美团 这位 女主播 订餐 包揽 水果 加餐 塑造 成为 家境 优越 父母 强势 土豪 形象 qq 空间 日记 北京 拥有 一辆 玛莎拉蒂 豪车 空间 经常 音乐会 场面 照片 假装 国外 音乐会 旅游 去年 落下 学分 学校 劝退 家人 隐瞒 此事 目前 处于 降级 试读 女士 希望 报道 怀疑 色情 直播 希望 部门 加强 监管 二来 曝光 弟弟 醒悟 紫牛 新闻\n",
          "洛阳 新鲜事 河南 栾川 启动 高速 免费 活动 日前 河南省 洛阳市 栾川县 旅游 产业 扶贫 推进 大会 宣布 O7 点至 所有 洛栾 高速 栾川县 境内 栾川 重渡 沟站 嵩县 境内 嵩县 产业 集聚 区站 嵩县 旧县 九龙山 以下 栾川 境内 高速 收费站 客车 河南省 高速公路 通行费 奇境 栾川 整个 高速 免费 期间 栾川县 策划 举办 低于 营销 优惠活动 进一步 丰富 游客 体验 真正 栾川 打造 成为 八方 游客 盛会 栾川 人民 节日 活动 期间 栾川县 整合 县内 景区 宾馆饭店 加油站 旅游 接待 服务设施 自驾 游客 提供 优惠 免费 遇见 最美 城市 河南省旅游局 官方 河南 工信 河南 老君山 洛阳市 旅发委 奇境 栾川 军伟 栾川 旅游 洛阳 栾川 重渡 风景 名胜区 鸡冠 洛阳 天河 大峡谷 栾川 抱犊寨\n",
          "天花 元游 当事人 晚上 基本 火车 网吧 吃饭 学校 附近 餐馆 大学生 天花 元游 同学 今年 浙江 台州 刚刚 江苏 大专院校 毕业 今年 他用 花费 游览 个省 城市 月初 同学 征得 家长 学校 同意 生活费 打工 旅程 先后 游览 杭州 济南 天津 北京 洛阳 西安 成都 城市 同学 看来 特种兵 旅游 最大 特点 尽可能少 时间 费用 游览 尽可能 景点 晚上 火车 节省 住宿费 用外 吃饭 讲究 每到 地方 专找 中小学 地方 吃饭 背街 小巷 餐馆 地方 吃饭 比较 便宜 先后 游览 部分 城市 景点 制作 成短 发在 网上 网友 赞叹 惊讶 不少 网友 请求 同学 公布 旅游 攻略 模仿 学习 下午 同学 告诉 大风 新闻记者 注意 网友 攻略 请求 发完 所有 游览 地方 发布 省钱 攻略 大风 新闻记者 陈有\n",
          "中兹 神州 绚烂 唐代 洛阳城 金钏 洛阳 博物馆 唐时 延续 东汉 魏晋 以来 女性 类腕 唐代 这类 闭环 腕饰 中段 稍宽 两端 收窄 线圈 般的 收尾 称为 手钏 闭合 设计 适应 手臂 粗细 不同 女士 穿戴 材质 金属 玉石 多种 隋唐 时期 出现 一类 精致 镶宝石 镶玉 制作 设计 巧妙 使用 规格 仅限 皇亲 贵胄 中晚唐 或素 装饰 花鸟 缠枝 花草 居多 刘禹锡 贾客 妻约 雕金钏 用来 描述 彼时 纹样 工艺 形象 妥帖 水韵 江苏 江苏 旅游 博文 政务 中运博 宝藏 文博热展\n",
          "栾川 洛阳 身边 栾川县 导游 服务中心 建成 投用 县旅 工委 景区 负责人 参加 启用 仪式 仪式 景区 负责人 纷纷表示 导游 服务中心 启用 弥补 景区 专项 导游 不足 满足 游客 游览 多个 景区 需求 大大 方便 游客 栾川县 导游 服务中心 位于 洛栾 高速 栾川 栾川 旅游 信息 咨询中心 西侧 中心 月份 建设 正式 启用 中心 共有 导游员 余名 广大 游客 提供 旅游 咨询 景点 宣传 影视 介绍 导游 服务 票务 预定 服务 栾川 旅游 行业 对外 咨询 服务 窗口 导游 服务中心 具有 自驾游 服务 散客 服务 业内 教育 培训 导游 管理 多项 职能 李亚琼\n",
          "限时 一折 免费 玩转 百家 景区 价值 一万多 门票 全是 热门 景点 游乐场 玩美 暑期 热辣 来袭 中原 福塔 免票 畅玩 马拉 免票 畅玩 巩义 颐和 涌泉 世界 畅玩 热带雨林 免票 畅玩 海水 世界 免票 畅玩 锦艺城 海洋馆 晚场 免票 畅玩 银基 冰雪 世界 晚场 免票 畅玩 中原 童话 王国 免票 畅玩 洛阳 奥斯陆 水上 乐园 免票 畅玩 郑州 普兰 薰衣草 庄园 免票 畅玩 眉山 鸡公山 富景 生态 世界 原始森林 漂流 古柏渡 旅游区 乐山 宝天曼 更爽 全年 百家 门票 景区 天天 免票 景区 原价 一折 限量 优惠 速来 抢购 暑期 联系电话 郑州 康桥 华城\n",
          "洛阳 美食 位于 西工区 唐宫 东路 定鼎 北路 交叉口 向南 路西 武汉 热干面 洛阳 旅游 学校 旁边 他家 经营 种类 吸引 他家 襄阳 牛肉面 一碗 上桌 卖相 平淡无奇 入口 辣椒 印象 平淡无奇 一碗 辣椒 面条 牛肉 应该 不会 第二次 看来 襄阳 牛肉面 歹到 襄阳 人均 见图 PS 一篇 博文 后面 备注 强烈推荐 值得 大家 专门 尝试 推荐 味道 不错 值得 味道 中规中矩 值得 专门 好吃\n",
          "宜阳 赵老屯 屯绿 有方 村子 环境 旅游 越来越 洛阳市 宜阳县 香鹿 山镇 赵老 屯村 村民 宁洛峰 面带笑容 春暖花开 准备 装修 家里 空余 房间 民宿 经营 起来 几年 宁洛峰 在外 打拼 收入 可观 去年 毅然决然 选择 回乡 发展 这是 为啥 赵老屯 村村 一处 农家乐 十分 红火 饭菜 尽显 农家 特色 引得 不少 游客 青睐 走进 村子 一条 清澈 河流 穿村 宛如 一幅 山清水秀 田园 风景画 再往 家家户户 头上 红灯笼 墙上 壁画 年代 十足 几年 赵老 屯村 丘陵 沟岔间 不起眼 小村 可喜 变化 缘于 农村 人居 环境 改善 去年 以来 宜阳县 坚持 扎实 推进 农村 人居 环境 整治 工作 着力 垃圾 治理 行动 厕所 革命 污水 治理 工作 广大 农村 村容村貌 大变样 赵老 屯村 为例 以前 环境 脏乱 垃圾 不能 有效 处理 产生 污水 影响 村容村貌 制约 村里 发展\n",
          "宜阳县 汉唐 古镇 项目 古镇 一条街 预计 今年 十一 期间 建成 投用 千年 斜塔 万亩 油菜花 汉唐 民宅 如今 宜阳县 乡镇 建设 汉唐 古镇 项目 五花 寺塔 依托 打造 洛阳 汉唐 文化 体验 新亮点 预计 今年 十一 期间 部分 开园 项目 投资 亿元 主要 建设 内容 包含 汉唐 文化 主题公园 汉唐 古镇 一条街 昌河 水系 治理 油菜花 基地 开工 建设 三乡 汉唐 古镇 一条街 项目 发展 土特产 销售 特色小吃 手工艺品 制作 为主 旅游业 包含 仿古 建筑 预计 今年 十一 期间 开门 迎宾 宜阳县 汉唐 古镇 项目 古镇 一条街 预计 今年 十一 期间 建成 投用\n",
          "涉及 北京机票 火车票 预定 翻番 北京 取消 进出 核酸 证明 机票 火车票 预订 翻番 下午 北京 发布 消息 零时 国内 风险 地区 人员 返京 不再 需要 抵京 日内 核酸 检测 阴性 证明 受此 利好 消息 涉及 北京 相关 机票 火车票 搜索 预订 应声 上涨 在线 旅游 平台 数据 显示 截至 下午 北京 进出 机票 火车票 预订 昨日 同一 时段 分别 增长 截至 目前 北京 上海 北京 广州 北京 成都 北京 杭州 北京 深圳 商旅 线路 预订 最为 火爆 数据 显示 截至 目前 五一 期间 机票 预订 已经 春节假期 后半段 五一 期间 酒店 预订 启动 住宿 交通 预订 模式 成为 游客 选择 截至 目前 今年 五一 当天 酒店 预订 数量 已经 超过 同期 传统 旅游 热门 目的地 出现 酒店 不好 情况 洛阳 大理 苏州 多个 酒店 房型 出现 库存 紧张 提示 中国民航\n",
          "难忘 恩情 献礼 教师节 两天 所有 教师 本人 有效 教师 资格证 学校 开出 教师 证明 免费 游玩 龙潭 大峡谷 景区 所有 教师 本人 有效 教师 资格证 学校 开出 教师 证明 免费 游玩 荆紫 仙山 景区 本次 免票 优惠 范围 龙潭 大峡谷 景区 门票 原价 荆紫 仙山 景区 门票 原价 教师 需到 票务 中心 购买 人身 意外险 请持 本人 有效 教师 资格证 教师 证明 景区 检票 免费 入园 游览 点击 了解 详情 难忘 恩情 献礼 教师节 洛阳市 旅发委 新安县 旅游局\n",
          "感受 非遗 魅力 国家级 物质 文化遗产 名录 蔡伦 造纸 传说 蔡伦 造纸 传说 起源于 世纪 东汉 早期 最早 见于 东汉 东观汉 南朝 范晔 后汉书 陕西省 洋县 龙亭 石碑 方志 记载 东汉 永元 年间 时任 朝廷 尚方令 蔡伦 洛阳 长安 子午 龙亭 故县 寻找 造纸 原料 实验 造纸 方法 终于 元兴元 研制 树皮 废麻头 渔网 破布 原料 植物纤维 龙亭 造纸 实验 龙亭 造纸 事迹 后来 龙亭 居住 养子 龙亭 蔡氏 家族 后裔 当地 乡亲 传播 逐渐 传开 一千七百 世代 口头 传承 流传 至今 龙亭 县域 地方 至今 蔡伦 造纸 进行 生产 民间 构纸 龙须草 竹纸 作坊 遗址 作坊 遗址 几乎 生动 传说 龙亭 蔡伦 造纸 实验 封地 促进 传说 衍生 龙亭 人文地理 环境 造纸 遗迹 相关 地方 风物 成为 蔡伦 造纸 传说 驱动力 增强 传说 可信度 蔡伦 造纸 传说 列入 第三批 国家级 物质 文化遗产 代表性 项目 名录 文旅之声\n",
          "洛阳 爆料 洛阳 自驾车 旅游 规划 说走就走 旅行 近日 我市 印发 洛阳市 自驾车 旅游 总体规划 以下 简称 规划 指出 整合 洛阳 全域 资源 提升 自驾 旅游 体验 自驾车 旅游 成为 全市 旅游 产业 整合 提升 突破口 着力点 规划 指出 我市 力争 年内 打造 具有 中原地区 示范性 自驾车 旅游 样板 线路 形成 省内 知名 洛阳 著名 自驾车 旅游 精品 线路 逐步 推出 覆盖 洛阳 全境 自驾车 主题 旅游 线路 建设 一批 自驾车 营地 示范 项目 洛阳 自驾车 旅游 产业 体系 洛阳 建成 国际化 自驾车 旅游 目的地 规划 确定 一环二核 片区 全市 自驾车 旅游 发展 空间布局 一环 中原 最美 山水 人文 自驾 样板 环线 二核 中心 城区 自驾游 服务 核心 枢纽 伏牛山 山区 自驾游 服务 核心 枢纽 片区 环城 文化 休闲 自驾 片区 黄滨水 娱乐 自驾 片区 南部 鲜氧 度假 自驾 片区 此次 规划 期限 总结 一下 里面 提到 线路 基本 覆盖 洛阳 全境 优质 自驾车 旅游 线路 以后 出去玩 不用 费劲 攻略 线路 涵盖 景点 具体 行程 安排 比较 合理 了解 一下 洛阳\n",
          "洛阳 热门 洛阳 再添 一家 主题 邮局 设在 老城区 洛邑 古城 景区 洛邑 邮局 正式 开业 我市 再添 一家 主题 邮局 这是 我市 第二家 洛阳 驿为 主题 主题 邮局 相关 负责人 介绍 洛阳 邮驿 文化 源远流长 周南 洛川 洛阳 名驿 辉煌 中国 历史 文化 符号 此次 洛邑 古城 景区 设置 相关 主题 邮局 能够 整合 具有 洛阳 特色 邮资封 文创 产品 提供 加盖 洛阳 主题 纪念章 进行 相关 文化 宣传 服务 我市 旅游业 增加 感受 洛阳 文化 书信 文化 集邮 文化 综合 服务平台 近年 打造 智慧 旅游 项目 一种 尝试 我市 相继 推出 一系列 主题 邮局 龙门 祈福 主题 邮局 一拖 东方红 邮局 启明 保险 主题 邮局 取得 良好 社会 反响 洛邑 邮局 开业 当天 邮政 部门 举行 文物 特种邮票 发行 仪式 邮票 发行 文物 姊妹篇 一套 选取 新石器 时代 玉凤 西周时期 侯鸟 尊等 历史 最能体现 中国 文化 文物 不同 材质 特征 首次 一套 邮票 使用 不同 印制 工艺 完美 再现 文物 精彩\n",
          "无人 值守 一元 午餐 结账 多出 国庆 假期 景区 连续 推出 午餐 共售 游客 点赞 直呼 太值 午餐 自动 支付 无人 看守 河南 洛阳 老君山 景区 第四年 推出 国庆 假期 一元 午餐 活动 今年 售出 一元 午餐 只用 游客 馒头 面条 自取 果盘 附送 景区 举措 往来 游客 纷纷 点赞 最后 盘点 收款 箱加 扫码 支付 共计 收入 多出 老君山 风景 名胜区 国家 5A 旅游 景区 国家级 自然保护区 日出 云海 奇观 每年 吸引 大批 游客 前往 参观 海客 新闻\n",
          "栾川 公路 旅游 更是 致富路 道路 百业 洛阳 栾川县 公路 事业 发展 交通 事业 发展 中心 大力支持 县委 县政府 正确 领导 借助 狠抓 交通 强国 机遇 公路 建设 当做 大力发展 县域 经济 先锋 工程 路域 环境 提档 升级 营造 绿中 行在 景中 公路 环境 充分发挥 公路 旅游 效应 以路 带动 脱贫 攻坚 国土 绿化 生态 保护 全域 旅游 客运 提质 产业 结构调整 电商 物流 服务 进村 人居 环境 整治 各项 工作 顺利 推进 真正 起到 路建 一马当先 先锋 作用 家门口 那条 河南省 交通 事业 发展 中心\n",
          "洛阳 身边 九省 旅行社 齐聚 郑州 分享 多万 现金 奖励 老家 河南 栾川 过年 奇境 栾川 全国 旅行 答谢会 郑州 举行 栾川 县委 常委 宣传部长 吕振涛 栾川县 旅游 工作 委员会 主任 欣欣 栾川县 鸡冠 老君山 重渡 景区 主要 负责人 参加 此次 答谢会 获奖 旅行社 颁奖 年初 制定 旅行社 奖励 政策 答谢会 获奖 旅行社 进行 现金 奖励 此次 答谢会 栾川县 政府 景区 拿出 多万元 奖励 栾川 旅游 发展 做出 突出贡献 旅行社 栾川 旅游 再创 佳绩 景区 超额完成 年初 目标 省外 旅游 客源 市场 不断 扩展 吸引 来自 北京 上海 宁夏 广州 旅行社 栾川 输送 大型 团队 栾川 优质 旅游 目的地 获得 全国 越来越 游客 青睐\n",
          "洛阳 身边 洛阳 举办 金秋 文化 艺术节 红歌 大赛 唱红 门票 赢大奖 值此 河洛 文化 旅游节 盛大举行 之际 庆祝 中华人民共和国 华诞 洛阳 白云山 金秋 文化 艺术节 洛阳 拉开帷幕 这次 白云山 金秋 文化 艺术节 主要 活动 内容 两大 板块 一是 红歌 大赛 海选 比赛 时间 日二是 广场 大赛 海选 比赛 时间 比赛 地点 洛阳 西工区 王府井 百货 正门 广场 报名 方式 识别 图中 二维码 VX 扫码 报名 点击 进行 在线 报名\n",
          "特别 洛阳 老城区 每周六 集市 沿河 长长的 挤满 鸡鸭 鸡鸭 货车 笼子 扑腾 车前 大锅水 现挑现 马上 放血 拔毛 清理 内脏 羊用 绳栓 人流 挤得 来回 摆头 踱步 玉摊 镯子 吊坠 两三座 小山 品相 说不上 多好 对得起 几十块 价格 远远 听见 蛐蛐 震山鸣 凑近 安静 几秒 不一会儿 不满 嘀咕 起来 留恋 旧书摊 载满 故事 过去 人们 穿越 历史 缓缓 诉来 喜欢 这种 生机盎然 市井气 好像 鲜然 活着 不再 水泥 高楼 机器 洛阳 洛阳 旅游 洛阳 旅游\n",
          "河南 景区 认定 国家 4A 景区 今天 从省 文化 旅游 获悉 河南 景区 认定 国家 4A 旅游 景区 了解 景区 分别 洛阳市 伊川县 龙凤 古镇 偃师县 二里头 夏都 遗址 博物馆 新乡市 原阳县 九多肉 多酱 文化园 景区 焦作市 解放区 森林 动物园 温县 蜜雪 集团 国际 梦工厂 鹤壁市 山城区 石林 会议 旧址 濮阳市 濮阳县 濮水 小镇 三门峡市 湖滨区 庙底 考古 遗址 公园 商丘市 永城市 日月 湖景区 信阳市 光山县 钟鼓楼 亲子 乐园 新县 武占岭 生态旅游 度假 景区 目前 景点 名单 正在 进行 公示 中原\n",
          "带你去 旅行 洛阳市 河南省 下辖 地级市 位于 河南省 西部 黄河 中下游 地处 洛河 之阳 得名 介于 东经 apos apos 北纬 apos apos 之间 东邻 郑州 西接 三门峡 北跨 黄河 焦作 接壤 平顶山 南阳 相连 温带 季风气候 全市 总面积 1.52 万平方公里 市区 面积 平方公里 下辖 正厅级 规格 洛阳 新区 开发区 省级 产业 集聚 总人口 713.67 万人 河洛 属古 豫州 洛阳 夏朝 立国 活动 中心 地域 太康 仲康 帝桀 洛阳 解放 升格 河南省 直辖市 洛阳 地区 撤销 成立 地级 洛阳市 洛阳 国家 历史 文化名城 中国 四大 古都 世界 文化名城 国家 区域 中心 城市 素有 十三 古都 之称 洛阳 华夏 文明 中华民族 主要 发源地 东汉 曹魏 西晋 北魏 隋唐 时期 丝绸之路 东方 起点 全市 生产总值 GDP 4640.8 亿元 人均 生产总值 同比 增长 7.9% 分别 高于 全国 全省 增速 1.3 百分点 0.3 百分点\n",
          "风起 洛阳 风起 洛阳 这部 感情 戏少点 糕饼 百里 二郎 集中精力 事业 肯定 宣传 好几个 等级 只会 发发 平台 几乎 水花 随便 一大半 通稿 不像 骚鹅 平台 宣推 一顿 操作 猛如虎 看出 钱袋子 窘迫 渠道 狭窄 力不从心 可惜 哪有 十全十美 这部 整体 制作 精良 好看 拯救 剧荒 广告 已经 追加 每个 间隙 关注度 难免 各路人马 挑挑拣拣 如今 影视 行业 平台 日子 不好过 以后 这种 制作 城市 旅游 文化 背书 精细 打磨 服化 美轮美奂 正反 智商 在线 白痴 节奏 相对 紧凑 反转 演员 形象 贴合 演技 颜值 在线 基本 倍速 精品 可能 看且 珍惜\n",
          "洛阳 栾川 高速 免费 活动 时间 确定 栾川县 第三届 高速 免费 活动 奇境 栾川 爽夏 狂欢节 新闻 发布会 举行 栾川县 高速 免费 活动 确定 O2019 点至 届时 所有 自洛栾 高速 栾川 重渡 以下 客车 免收 河南省 高速公路 通行费 本届 高速 免费 活动 栾川县 高速 免费 活动 收官 之作 栾川县 借鉴 往年 活动 经验 积极 筹备 制定 旅游 安全 住宿 接待 交通 调度 各个方面 保障 预案 真正 广大 游客 提供 安全 有序 便捷 舒适 旅游 环境\n",
          "篇文章 有意思 新年快乐 你好 农历 新年 即将 到来 共同 欢度 新春 迎接 免年 踏上 回家 故乡 很多 在外 工作 打工 人们 踏上 之路 很多 旅游 爱好者 启动 新年 之旅 很多 自驾 等待 明天 高速 免费 时间 窗口 发几张 老家 洛阳 美景 共赏 王城 公园 灯展 已经 亮灯 等待 到来 隋唐 大运河 博物馆 大门 打开 等待 到来 乳钉纹 铜爵 召示 夏都 灿烂 文化 召唤 在外 游子 早日 返回 乡愁 思念 畅游 山水 美景 品读 历史 文化 共同 迎接 美好幸福 明天 遇见 美好 本地 分享 旅行\n",
          "洛阳 嘉宾 已进 洛阳 出生年月 1993.01 户籍地 河南 洛阳 工作 郑州 本科 软件开发 工程师 月薪 车房 情况 婚姻 状态 恋爱史 期待 长长 久久 身高 165cm 体重 57kg 星座 水瓶座 爱好 听歌 旅游 美食 电影 运动 自我 评价 做事 上面 比较 独立 空闲 喜欢 人待 喜欢 朋友 出去 压马路 希望 找到 一起 压马路 择偶 要求 希望 对方 孝敬父母 不要 大男子主义 性格 阳光 有趣 属于 慢热型 之后 比较 喜欢 运动 热爱生活 工作 稳定 做事 沉稳 最好 老家 郑州 洛阳 以内 身高 郑州 有房 想要 郑州 定居 期待 找到 相互 欣赏 一起 奋斗\n",
          "免费 三天 河南省 高速公路 免费 通行 清明节 放假 安排 放假 调休 三天 河南省 高速公路 免费 通行 拥堵 路段 收费站 分布 预测 结合 高速 通行 政策 往年 清明 假期 高速 拥堵 情况 分析 清明节 期间 全省 高速 路段 收费站 分布 有所 缩小 市区 景区 施工 周边 常发 拥堵 路段 收费站 拥堵 情况 突出 通行 压力 较大 路段 郑州 洛阳 登封 新密 旅游 赏花 方向 郑少洛 高速 连霍 高速 郑州 洛阳 二广 高速 洛阳 郑州 焦作 新乡 方向 郑云 高速 港澳 高速 郑州 郑州 禹州 许昌 方向 机场 高速 港澳 高速 薛店 新郑 通行 压力 较大 互通 枢纽 刘江 枢纽 连霍 高速 和京 港澳 高速 交汇 广武 枢纽 连霍 高速 郑云 高速 交汇 港澳 商登 互通 港澳 高速 新郑 黄河 大桥\n",
          "重磅 老君山 庆祝 开放 十周年 高速 门票 全免 洛阳 洛阳 老君山 地点 洛阳 新鲜事 洛阳 曝光 庆祝 河南省 老君山 文化 旅游 集团 重金 打造 老君山 景区 周年 河南 栾川 老君山 景区 重磅 回馈 社会 栾川 老君山 景区 全国 人民 门票 0.00 全国 所有 自洛栾 高速 栾川 重渡 以下 客车 河南省 高速公路 通行费 日免 门票 限额 万人 老君山 景区 单日 游客 最大 承载量 免费 回馈 全国 人民 老君山 景区 优质服务 打折 老君山 景区 必将 饱满 热情 优质 服务 规范 管理 便捷 交通 高效 机制 游客 打造 舒心 便捷 安全 游览 环境\n",
          "隋唐洛阳城 两坊 一街 保护 展示 工程 开工 觉得 有用 分享 爱看 新闻 关注 洛阳 头条 下个月 隋唐洛阳城 宁人坊 教坊 天街 遗址 两坊 一街 保护 展示 工程 开工 标志 古都 文化 核心区 隋唐洛阳城 南大门 定鼎 遗址 片区 隋唐 风格 标志性 景观 隋唐洛阳城 两坊 一街 保护 展示 工程 开工 规划 隋唐洛阳城 两坊 一街 保护 展示 工程 分为 遗址 展示区 管理 服务区 预留 形成 一心 定鼎 门门址 定鼎 门前 广场 两轴 天街 遗址 展示 景观 郭城 城垣 遗址 展示 景观 片区 宁人坊 遗址 展示 片区 教坊 都市 休闲 片区 郊野 生态 湿地 片区 节点 定鼎 门门址 城垣 遗址 天街 中段 考古 发掘 遗址 景观 空间 架构 隋唐洛阳城 两坊 一街 保护 展示 工程 开工 隋唐洛阳城 我市 文物 分布 最为 密集 区域 隋唐 时期 我国 政治 经济 文化 中心 我市 最能体现 古都 文化 核心 区域 保护 利用 活化 文化遗产 打造 国际 文化 旅游 名城 我市 启动 隋唐洛阳城 两坊 一街 保护 展示 工程 方案 编制 立项 工作 展示 隋唐 文化 丝路 文化 建设 示范性 国家 考古 遗址 公园 项目 实施 重新 展示 隋唐洛阳城 中轴线 格局 郭城 格局 格局 项目 保护 遗址 完整性\n",
          "黄河 国家 文化公园 形象 标志 提升 黄河 国家 文化公园 形象 辨识 从省 文化 旅游 获悉 黄河 国家 文化公园 形象 标志 logo 隋唐洛阳城 天堂 明堂 应天门 二里头 国家 考古 遗址 公园 入口 正式 亮相 黄河 国家 文化公园 形象 标志 logo 设计 理念 立足 黄河 字形 地理 特征 融入 飘带 龙图腾 造型 特征 传达 中华文明 起源 形成 发展 历史进程 象征 中华民族 生生不息 时代 崛起 腾飞 形象 标志 logo 主要 导览 形式 呈现 包括 黄河 国家 文化公园 河南 总览 核心 展示 重大 遗址 简介 园区 周边 信息 咨询 相关 内容 包含 中英日 四种 文字 公众 走近 了解 认识 黄河 国家 文化公园 提供 良好 信息 载体\n",
          "乌镇 旅游 行程 安排 十六 APP 上线 地图 乌镇 乌镇 懒人 地图 乌镇 东栅 步行 线路 值得 景点 全部 标记 地图 景点 卡片 攻略 不会 十六 APP 蓝点 位置 跟着 迷路 地图 放大 缩小 移动 乌镇 西栅 步行 路线图 十六 APP 支持 城市 列表 包含 百个 景点 路线 地图 目前 十六 APP 提供 懒人 地图 城市 北京 上海 广州 成都 重庆 深圳 长沙 武汉 厦门 苏州 无锡 杭州 大连 贵阳 丽江 大理 郑州 南京 青岛 天津 拉萨 洛阳 昆明 西双版纳 泉州 桂林 阳朔 乐山 三亚 潮州\n",
          "假期 全国 接待 游客 1.11 亿人次 十一 出游 好去处 洛阳 国庆 假期 去过 火爆 有料 打卡 地是 一场 央视 秋晚 一座 最近 洛阳城 可谓 游客 人潮 如织 洛阳 一跃 成为 全国 排名 前十 热门 人气 打卡 旅游 城市 素有 中原 渡口 之称 文峰塔 河南 文庙 妥灵宫 四眼井 金元 古城墙 遗址 多个 历史 时期 保护 建筑 游玩 购于 一体 潭边 景色 别致 独特 更是 备受 游客 追捧 十一 已然 过半 洛邑 古城 一如既往 热闹 纷呈 漫步 青石板 美景 美人 醉人 眼眸 时不时 身着 国风 汉服 人们 穿梭 诗情画意 之间 白天 夜晚 总能 流连忘返 忘记 时间 图片 来自 网络 版权 原作 所有 旅游 旅游 旅行 洛阳 洛阳 洛邑 古城 景区\n",
          "河南 河南 身边 旅行 日前 洛阳 机场 到达 出发 旅客 免票 洛阳 景区 经常 乘坐 飞机 洛阳 出发 到达 市民 游客 注意 今日 洛阳 旅游 发展 集团 获悉 即日起 凡是 洛阳 北郊 机场 进出 洛阳 市民 游客 享受 登机牌 身份证 门票 游览 洛阳市 部分 景区 优惠政策 洛阳 旅游 发展 集团 负责人 介绍 推动 洛阳 旅游 航空事业 发展 加快 洛阳 国际 文化 旅游 名城 建设 洛阳 旅游 发展 集团 联合 我市 龙门石窟 关林 天子 驾六 博物馆 隋唐洛阳城 国家 遗址 公园 景区 推出 乘飞机 进出 洛阳 旅客 景区 门票 优惠政策 优惠 时间 从即日起 航班时刻 为准 活动 期间 乘坐 洛阳 机场 航班 抵达 洛阳 旅客 航班 当日 一周 截止 登机牌 身份证 上述 景区 享受 免票 优惠 乘坐 洛阳 机场 航班 出行 旅客 航班 当日 天内 截止 登机牌 出票 凭证 票务 代理点 提前 打印 身份证 上述 景区 享受 免票 优惠 白银 通讯员 秦阳\n",
          "畅游 旅行 洛邑 古城 被誉为 中原 渡口 位于 河南省 洛阳市 老城区 景区 包含 文峰塔 河南 文庙 妥灵宫 四眼井 金元 古城墙 遗址 多个 历史 时期 保护 建筑 集游 购于 一体 综合性 人文 旅游观光 围绕 洛邑 古城 景区 科技 创新 传统 文化 相结合 园区 文峰塔 文庙 妥灵宫 四眼井 保护 遗址 节点 以新潭 护城河 水系 纽带 古典 现代 有机 结合 建筑 建筑 割裂 整体 目标 体现 洛邑 古城 传统 文化底蕴 不失 现代 气息 园区 科学 划分 功能 区域 千年 古城 风采 集中 展现 园区 餐饮 旅游 住宿 商服 功能区 点缀 整个 园区 一步 一景 人文 气息 浓厚 发展 继承 洛邑 古城 原有 文化景观 人文 气息 成为 洛阳 古城区 文物保护 复兴 继承 洛阳 传统 文化 亮点 洛邑 古城 深厚 文化底蕴 依托 世界 看到 中国 文化 之美\n",
          "智慧 旅游 创新 项目 龙门 沉浸 体验 龙门 沉浸 体验 打造 裸眼 5D 逼真 效果 利用 一球 一馆 场馆 理念 打造 洛阳 文旅 名片 高科技 全息 天幕 龙门 表演 时长 分钟 满足 观看表演 洛阳 龙门 文化 背景 龙门 历史 故事 石刻 艺术 文化 魅力 高科技 技术手段 赋予 全新 沉浸 文旅 体验 场馆 建造 直径 全息 天幕 整体 采用 钢铝 结构 吊装 微孔 投影幕 安装 激光 工程 投影 画面 拼接 技术 世界 文化遗产 龙门石窟 数字化 科技 文旅 创新 项目 结合 一体 项目 试运营 正式 运营 先后 登上 OTA 展览 展馆 好评 平台 游客 满意度 98% 河南省 文化 旅游 官方 文旅之声\n",
          "跨年 洛阳 新年 音乐会 洛阳 旅游 放送 新年 精彩 一元复始 盛世 万象更新 青春 O2021 洛阳市 举办 洛阳 新年 音乐会 新年 音乐会 洛阳 青春 主题 着重 凸显 洛阳 元素 突出 本土 原创 厚重 底蕴 尽情 展现 青春活力 现场 大家 呈现 寻洛 不老泉 咿呀 New boy 彩云追月 天下 洛阳 礼赞 曲目 进行 精彩 演绎 千年 古都 邂逅 新年 音乐会 将会 开启 一段 奇妙 音乐 旅程 一起 期待 洛阳 旅游\n",
          "江南 影匠 文化 记录 行动 专题 地球 笔记 慢行 日本 影匠 极致 体验 日本 细节 日本 寺院 体现 日本 文化 精髓 日本 中国 文化 特别 唐朝 文化 影响 最深 部分 深厚 文化底蕴 需要 静心 体验 此行 静下心来 不赶 行程 比较 集中 参观 京都 大阪 地区 寺院 京都 城市布局 本身 模仿 唐朝 洛阳 寺院 建筑 保留 唐朝 建筑风格 屋顶 木质 结构 建筑 内部 纸质 移门 榻榻米 非常 恢宏 大气 影匠 旅游 旅行 势力 影响力 峰会 不止 旅行 行者 风雷 飘尘 Marco 汗斯 行者 周刊 日本 国家旅游局 JNTO 日本 京都市 旅游 大阪 旅游\n",
          "洛阳 旅游 必吃 美食 盘点 日晚 古都 洛阳 录制 央视 中秋 晚会 播出 洛阳 刷屏 全网 众多 网友 洛阳 十一 必来 旅行 目的地 洛阳 旅游 美食 推荐 安排 本地 攻略 洛阳 水席 酸辣 可口 汤汤水水 上菜 行云流水 得名 推荐 指数 洛阳 牛羊 驴肉 丸子 豆腐汤 推荐 指数 面条 酸浆 面条 推荐 指数 糊涂 玉米面 推荐 指数 孟津 杂烩 推荐 指数 新安 烫面 新安县 特色 推荐 指数 小街 锅贴 焦而 不腻 推荐 指数 洛宁 粉蒸肉 蒸肉 面食 推荐 指数 洛宁 牛肉 口味 推荐 指数 洛阳 吃货 起来 慢慢 公开课 洛阳 丽景门\n",
          "优质 接发 接发 目前 市面 实用 三种 推荐 编制 接发 特点 隐形 刺激 透气 头皮 最舒服 微型 接发 特点 服贴 用时 水晶 接发 特点 性价比 具体 每个 发质 不同 头发 长度 不同 需求 不同 选择 适合 接发 方式 焦作 新乡 济源 晋城 郑州 洛阳 武陟 修武 沁阳 温县 接发 头发 烫发 烫头发 染发 头发 羽毛 接发 焦作 爆料 焦作 身边 焦作 焦作 美食 焦作 焦作 大学 焦作 旅游 发动 奇迹 焦作 王府井\n",
          "洛阳 看雪 错过 冬天 老君山 收藏 这份 攻略 体验 一下 交通 方式 自驾 直接 缆车 停车场 汽车 洛阳 龙门 下车 挨着 洛阳 客运 汽车站 洛阳 栾川 车票 景区 门口 下车 推荐 路线 中灵 索道 景区 门口 观光车 中灵 索道 路程 节省 很多 体力 天门 中灵 索道 天门 拍照 打卡 留念 峰林 索道 选择性 爬山 爱好者 体力 可不 十里 画屏 峰林 索道 终点 强烈推荐 一定 一趟 看到 天然 油墨 南天门 十里 画屏 南天门 上去 看到 很多 道观 金顶 道观 运气 看到 云海 推荐 民宿 云景 星宿 创意 酒店 民宿 地址 位于 海拔 天门 广场 整个 民宿 半山腰 岩石 房间 岩石 完美 结合 悬崖 位于 民宿 最高处 视野 绝佳 房间内 看到 日出 地面 玻璃 高者 慎选 房型 供选择 每个 房间 配有 望远镜 做到 白天 日出 晚上 星星 真是 民宿 最佳 选择 民宿 周边 天门 救苦 舍身崖 预订 平台 美团 民宿 app 种草 朋友 一定 一下 人间 盛世 绝对 觉得 不虚此行 宝藏 民宿 请教 城市\n",
          "实话 西安 旅游 城市 不配 成都 重庆 长沙 洛阳 旅游 城市 相提并论 张口 十三 古都 闭口 大唐 遗风 实际 旅游 服务 糟糕 景点 多数 脏乱差 上述 城市 营销 西安 那种 营销 不到 地儿 名不虚传 一次 劝告 外地 朋友 轻易 别来 紧紧 抱住 手机 派出所 报案 长队 起来 之前 看到 有人 转过 西安 邪门 地方 千万别 信口开河 我特 只能 自认倒霉 千万别 想着 报警 有用\n",
          "昨天 央视 朝闻 天下 栏目 关注 消费 动能 经济 带动 消费 引擎 为题 报道 疫情 防控 常态 之下 我市 培育 文旅 消费 集群 发挥 特色 优势 方式 打造 夜间 旅游 休闲 品牌 挖掘 灯光 消费 潜能 成为 提振 消费 引擎 重点 报道 晚八点 我市 隋唐洛阳城 国家 遗址 公园 应天门 定鼎 九洲 龙门石窟 景区 点亮 彩灯 3D 灯光 夜游 龙门 唐风 唐韵 古装 演绎 落水 惊鸿 舞蹈 轮番 登场 多种 夜间 文化 旅游 项目 人们 带来 全新 体验 立足 隋唐 文化底蕴 我市 创新 夜游 产品 打造 古都 八点 品牌\n",
          "航拍 洛阳 新安县 新安 地处 豫西 丘陵 山区 历为 古都 洛阳 畿辅 之地 古代 丝绸之路 必经之路 河洛 文化 主要 发祥地 秦时 迄今已有 多年 历史 国家 文化 先进县 国家 文物保护 先进县 中国 旅游 强县 中国 书法 中国 澄泥 自然 钟情 绚烂 风物 北方 雄奇 南方 灵秀 融合 岁月 磨砺 风云 激荡 历史 厚重 时代 光华 交汇 新安 历为 九朝古都 洛阳 畿地 西方 门户 地扼函关 古道 东连 西通 长安 自古 中原 要塞 军事 重地 陇海铁路 国道 连霍 高速公路 横贯东西 现辖 产业 集聚\n",
          "含章 和而不同 传统 文化 大讲堂 离下 一期 含章 一周 小伙伴 期待 一期 惊喜 不要 着急 回顾 一下 第十二 讲座 含章 第十二 穿越 必备 历代 通语 常识 与念读 短训 邀请 刘阳 老师 古汉语 通语 兴衰 演变史 古汉语 通语 音韵学 详细 讲解 带领 听众 体验 宋时 中古 洛阳 朗读 关山月 春江花月夜 将进酒 著名 篇章 回溯 古雅 学习 诗经 大家 切身感受 古人 风范 活动 报道 活动 报道 就算 穿越 复原 古汉语 直播 回顾 北京 汉服 协会 北京市 东城区 图书馆 含章 和而不同\n",
          "全省 首家 海峡两岸 青年 就业 创业 基地 揭牌 全省 首家 海峡两岸 青年 就业 创业 基地 洛阳 恒生 科技园 揭牌 进一步 促进 海峡两岸 经济 文化交流 今年 国台办 个省 设立 海峡两岸 青年 就业 创业 基地 示范点 洛阳 恒生 科技园 入选 海峡两岸 青年 就业 创业 基地 我省 首家 海峡两岸 青年 就业 创业 基地 中原地区 两岸 交流 合作 排头兵 洛阳 恒生 科技园 成立 洛阳 创意 产业 孵化器 设计 中心 中心 台湾 文创 大师 黄振铭 领军 带领 台湾 专业 文创 团队 整合 两岸 设计 品牌 及文创 资源 带动 两地 文创 产业 发展\n",
          "春游 新星 计划 旅行 打卡 洛阳 物质 文化 美食 南关 牛肉汤 洛阳 物质 文化遗产 南关 牛肉汤 洛阳 人民 心中 无疑 传统 味道 无论是 早上 上班 晚上 下班 一碗 热气 香气 牛肉汤 满嘴 鲜辣 滋味 直透 心底 舒坦 牛肉汤 第一次 尝试 洛阳 牛肉汤 自然 想点 个料 一点 吃不下 那种 老板 一点 辣油 端上来 看着 挺重 口味 事实上 汤会 比较 桌上 个人 口味 添加 南方人 来说 这妥 大碗 汤里 牛肉 之外 牛肚 豆腐 丸子 好久 捞出 东西 那种 筷子 下去 夹出 好些 东西 务必 需要 添加 丸子 牛肉 提前 切片 香味 深深地 浸入 牛肉 里面 口感 很棒 至醇 汤味 扑鼻而来 油旋饼 一元 分量 很大 牛肉汤 绝配 选择 直接 里面 加饼 炸丸子 炸丸子 非常适合 放汤里 绝配 一点 不会 泡汤 松散 香脆 爽口 环境 网上 看到 正宗 街边 苍蝇 小馆 没法 环境 门口 摆满 桌子 工作日 点多到 已经 坐满 服务 门口 买单\n",
          "洛阳 九洲 池成 洛阳 十一 旅游 景点 人气 十一 期间 九洲 池霸屏 成为 洛阳 景点 人气 了解 隋唐洛阳城 九洲 多次 上榜 微博同 热点 景区 咨询 人数 社会 关注度 历年 最高 中秋 国庆 假期 持续 火爆 成为 受欢迎 旅游 目的地 网红 打卡 堪称 洛阳 景点 人气 据统计 日至 隋唐洛阳城 国家 遗址 公园 九洲 应天门 天堂 明堂 接待 入园 游客 13.47 万人次 同比增加 158% 了解 九洲 神都志 幻唐 之夜 持续 如遇 恶劣 天气 停止 演出 十一 隋唐 洛阳 九洲 遗址\n",
          "安阳 太行 大峡谷 景区 河南省 首批 交旅 融合 示范 景区 河南 首批 交旅 融合 示范 工程 景区 名单 公布 安阳 旅行 拓展 交通运输 文化 旅游 融合 发展 路径 推动 行业 提质 增效 转型 升级 发展 加快 构建 交通 旅游 融合 发展 新格局 相关 文件精神 交通运输 文化 旅游 统筹 研究 确定 郑栾 高速 尧山 栾川 省道 郑州 小浪底 库区 旅游 公路 洛阳 郑栾 高速 白云山 服务区 郑栾 高速 山东 服务区 林州市 林石 公路 全省 首批 交旅 融合 示范 工程 确定 洛阳 白云山 景区 洛阳 老君山 景区 平顶山 尧山 景区 南阳 界岭 景区 焦作 云台山 景区 安阳 太行 大峡谷 景区 全省 首批 交旅 融合 示范 景区\n",
          "非凡 十年 魅力 二十 青岛 排名 全国 第三 中国 城市 旅游 发展 论坛 江苏 无锡 举行 论坛 发布 全国 游客 满意度 报告 揭晓 非凡 十年 魅力 二十 旅游 城市 名单 名单 青岛 第三名 上榜 第四季度 第三季度 十年 季度 全国 游客 满意度 调查 数据 中国 旅游 研究院 发布 非凡 十年 魅力 二十 全国 游客 满意 城市 分别 重庆 杭州 青岛 苏州 厦门 北京 无锡 成都 南京 黄山 上海 济南 西安 宁波 烟台 沈阳 广州 天津 洛阳 郑州 青岛 日报\n",
          "洛阳 小时 央视 戏曲 春晚 洛阳 分会场 节目 录制 现场 抢先 再有 一个多月 春节 就要 阖家欢 日子 春晚 很多 家庭 选项 从市 文化 广电 旅游局 了解 日前 洛阳 定为 央视 戏曲 春晚 分会场 目前 晚会 栏目组 已经 进驻 洛阳 进行 节目 录制 近日 不少 洛阳人 朋友圈 有人 发布 洛阳 成为 央视 戏曲 春晚 分会场 消息 应天门 北广场 进行 围挡 里面 搭建 舞台灯光 设施 晚上 位于 老城区 洛邑 古城 景区 位于 西工区 应天门 景区 灯光 闪耀 央视 戏曲 春晚 正在 两个 地方 进行 拍摄 了解 当晚 应天门 北广场 舞台 来自 我省 我市 戏曲 名家 轮番 登台 进行 节目 录制 当晚 拍摄 涵盖 剧种 包括 豫剧 曲剧 越调 稀有 剧种 洛邑 古城 拍摄 来自 我市 传统 文化 内容 届时 大家 晚会 看到 代表性 物质 文化遗产 项目 最后 本报 温馨 提醒 节目组 预计 还要 洛阳 录制 一至 两天 保证 大家 人身安全 节目 顺利 录制 大家 不要 现场 围观 首席记者 李砺瑾 张怡熙\n",
          "洛阳城 自行车 选手 洛宁 赛车 河南省 体育局 洛阳市 人民政府 主办 河南省 自行车 现代五项 运动 管理中心 洛阳市 体育局 洛宁县 人民政府 承办 中国 体育彩票 巴迪瑞杯 河南省 公路 自行车 锦标赛 洛宁县 广场 开幕 据悉 洛宁县 举办 五届 国际 自行车赛 积累 丰富 赛事 筹办 经验 本届 公路 自行车赛 专业 比赛 围绕 山水 田园 秀美 洛宁 总体 定位 绿色 骑行 百城 提质 增效 脱贫 攻坚 进行 完美 融合 这一 重大 体育赛事 举办 持续 推进 体育 经济 文化 旅游 业态 深度 融合 体育 切入点 建设 实力 洛宁 广大群众 带来 一场 家门口 体育 盛宴 带动 激发 全民 参与 体育 健身\n",
          "洛阳 老城 高颜值 剪纸 剪纸 技艺 女生 汗颜 生于 孟津县 孟津 剪纸 河南省 省级 物质 文化遗产 传承 畅杨 自幼 奶奶 老一辈 窗花 绣鞋 影响 剪纸 高中毕业 周边 村镇 民间 剪纸 艺人 拜师学艺 收集 民间 传统 剪纸作品 技法 资料 逐渐 创作 大量 反映 淳朴 民俗 剪纸作品 逐渐 表现 非凡 剪纸 才艺 剪纸作品 近年来 多次 国家 省市 比赛 取得 金奖 佳绩 剪纸 工作室 老城 鼓楼 孟津 剪纸 始于 乾隆年间 有近 三百年 历史 俗称 铰花 因其 表现 黄河流域 风土人情 描绘 时代感 现代 生活 具有 鲜明 艺术 特色 生活 情趣 已于 入选 第四批 河南省 物质 文化遗产\n",
          "小兔 日记 今天 开心 一天 爸爸 外地 朋友 洛阳 旅游 饭店 全部 预定 满满的 最后 只能 在家 楼下 水席园 大厅 位置 认识 小妹妹 相差 七岁 哈哈哈 吃饭 聊到 螺蛳 苏州 网上 石头记 妈妈 妈妈 直接 转战 石头记 哈哈哈 已经 很饱 吃饭 还给 奶茶 蛋糕 上午 叔叔 阿姨 地方 爸爸 准备 特产 hhh 今天 四杯 奶茶 可怕 遇到 好多 小猫 小狗 hhh 已经 不下\n",
          "吃喝玩乐 河南 老话 二月 二龙 抬头 一天 正月 理发 剪头 往常 美发店 基本 人满为患 进去 凑热闹 毕竟 央视春晚 一档子 小品 科学 解释 正月 理发 不会 理发 觉得 龙抬头 这天 咱去 地龙 俗话说 天上 龙肉 地上 驴肉 地龙 驴肉 熟悉 一家 洛阳 陈记 驴肉 西丽春路 一年 亿万 喝酒 他领 来到 这家 汤馆 从此 记住 这家 汤馆 二月 这天 一大早 家门口 坐上 公交 驴肉 淘个 彩头 晃晃悠悠 汤馆 犹豫 是不是 亿万 打个 电话 这货离 有个 几百米 距离 拨电话 昨晚 这货 两场 估计 家里 睡觉 亿万 媳妇 在家 几句 是不是 昨晚 把康 亿万 责怪 几句 踏踏实实 喝碗 一段 属于 吹牛 内容 大家 反驳 个人 认为 陈家 驴肉 汤有 三个 特点 肉香 汤淡 中途 添水 油旋 油饼 现场 三个 特点 不用 形容词 解释 喝汤 十元 一碗 肉和杂 剔骨 加点 血块 一把 蒜黄 挖半 勺子 辣椒 扑鼻 汤味 辣椒 香辣\n",
          "洛阳 获得 联合国 旅游 大奖 近日 洛阳市 获得 世界旅游组织 大奖 洛阳 获得 联合国 世界旅游组织 旅游 持续 发展 中国 观测点 最量 文物 活化 智慧 旅游 案例 洛阳 历史渊源 久远 文化 积淀 深厚 文物 积存 丰硕 旅游 持续 发展 观测点 体系 无与伦比 存在 而今 这座 千年 古都 正以 开放 包容 姿态 拥抱 时代 技术 文化 创新 技术革新 赋予 古都 洛阳 更加 旺盛 生命力 旅游 持续 发展 进程 生生不息 授予 洛阳 观测点 联合国 世界旅游组织 旅游 持续 发展 中国 观测点 最佳 文物 活化 智慧 旅游 案例 咱大 洛阳 点赞 洛阳\n",
          "今年 洛阳 市区 县城 全面 消除 旱厕 洛阳 旅游 城市 公厕 建设 实行 一厕 一法 突出 文化 特色 老城区 古建筑 区域 仿古 风格 公厕 西工区 涧西区 城市 体现 现代化 风格 洛龙区 高层建筑 集中 区域 将建 所在区域 色调 一致 公厕 建设 标准 一类 公厕 配置 更加 人性化 舒适 独特 条件 公厕 设置 无线网络 空调 音乐 播放 设备 报刊 高标准 旅游 公厕 安装 空调 确保 全年 室内 温度 今年 市区 县城 全面 消除 旱厕 旱厕 改造 整体 要求 整洁 具体来说 墙面 瓷砖 地砖 防渗 防滑 设置 独立 蹲位 厕所 有墙 有顶 采光 通风 适度 蝇蛆 基本 无臭\n",
          "洛阳城 青春 young 洛阳市 开展 年票 进校园 发放 活动 近日 我市 年票 进校园 发放 活动 第二十三 中学 开展 文广 旅局 工作人员 免费 该校 学生 发放 洛阳 旅游 年票 学生 了解 年票 进校园 活动 采取 政府 补贴 形式 免费 全市 万名 学生 每人 发放 洛阳 旅游 年票 学生 该卡 使用 有效期 日至 在此期间 洛阳 旅游 年票 实行 同等 政策 目前 洛阳 旅游 年票 学生 正在 加紧 制作 预计 月底 完成 所有制 工作 暂未 收到 洛阳 旅游 年票 学生 学生 学生证 身份证 免费 进入 洛阳 旅游 年票 景区 游览\n",
          "汝阳 实验 高中 喜讯 我校 紫藤 同学 荣获 世界 超级 模特 环球 大赛 华中 赛区 总决赛 冠军 世界 超级 模特 环球 大赛 华中 赛区 总决赛 颁奖 盛典 林州市 全域 旅游 集散中心 举行 我校 高三 学生 紫藤 荣获 赛事 最高 奖项 总决赛 冠军 紫藤 汝阳县 实验 高中 二班 学生 多才多艺 课余时间 喜欢 旅游 舞蹈 运动 擅长 演讲 表演 先后 获得 学校 运动会 跳高 一等奖 汝阳县 读书 活动 演讲比赛 一等奖 第四届 中华 之星 经典 阅读 征文 比赛 省级 二级 甲等 年度 洛阳市 优秀团员 荣誉称号 以来 我校 重视 学生 学科 成绩 提高 注重 学生 综合 素质 培养 学校 实施 精细化 管理模式 美丽 优雅 校园环境 文明 规范 校园 秩序 成为 实验 高中 亮丽 风景线 学校 立德 教育 根本任务 每学期 体育节 读书节 艺术节 活动 全面 提升 学生 核心 素养 广大 学生 开辟 第二课堂 学生 这座 美丽 校园 畅谈 理想 学习 科学 文化 知识 搭乘 校园 电视台 校报 广播站 校园文化 列车 展示 出众 才华 飞扬 青春 来源 实高 微信 平台\n",
          "洛阳 热门 栾川县 八大 景区 洛阳 市民 门票 第七个 中国 旅游 栾川县 八大 景区 洛阳 市民 门票 栾川县 老君山 鸡冠 重渡 龙峪湾 养子 抱犊寨 天河 大峡谷 栾川 东北虎 参与 此次 旅游 惠民 活动 洛阳 市民 洛阳 本地 身份证 可免 景区 首道 门票 景区 索道 观光车 二次 消费 进入 景区 游客 景区 规定 购买 相关 保险 景区 免票 时间 截至 O19 下午 点整 景区 游览 人数 超过 最大 承载量 景区 停止 接待 有意 前往 景区 市民 合理安排 游览 时间 提前 景区 预约\n",
          "一汽大众 旗舰 suv 揽境 吾爱 大众 魅力 绽放 一汽大众 明星 车主 我要 开着 境载 家人 一起 洛阳 洛阳 天下 之中 多年 文明史 多年 城市 多年 建都 华夏 文明 发祥地 丝绸之路 东方 起点 隋唐 大运河 中心 历史 先后 王朝 建都 我国 建都 最早 历时 最长 朝代 最多 城市 洛阳市 二里头 遗址 偃师 商城 遗址 周王城 遗址 汉魏 洛阳城 遗址 隋唐洛阳城 遗址 大都城 遗址 龙门石窟 中国 大运河 回洛仓 含嘉仓 遗址 丝绸之路 汉魏 故城 隋唐洛阳城 定鼎 新安 函谷关 遗址 世界 文化遗产 一汽 大众 洛阳 旅游 洛阳\n",
          "六盘水 身边 石生树 情有独钟 看过 十八里 长峡 石生 传说 一段 唯美 爱情故事 代娃 放牛 偷伞 偷回 仙女 爱情 读过 洛阳 石生树 传说 石怪 恼怒 村寨 樵夫 舍身 家园 梅花 山石 生树 春是 适合 拍照 季节 提着 相机 穿行 山里 林里 偶遇 梅花 山石 生树 传说 故事 重要 钟爱 生命 奇迹 钟爱 不屈 精神 钟爱 是因为 梅花山 觉得 缺点 或者说 应该 遇到 不是 文人墨客 一段 故事\n",
          "不要 等到 长大 时间 陪伴 万达 这群 孩子 妈妈 温暖 陪伴 辣妈 盛典 狂欢夜 洛阳 这次 活动 孩子 脑洞 大开 尽情 展示 妈妈 打开 视野 心灵 惟愿 成长 所有 美好 相陪 从此 不再 遗憾 抱抱 亲亲 陪陪 我些 掌声 鼓励 天空海阔 疯闹 无忧无虑 成长 世界 每天 丰富多彩 节日 一天 生活 富有 仪式 长大 日子 回忆 全是 满满的 特别 意义 祝愿 所有 妈妈 永远 青春不老 每天 幸福 围绕 旅行 旅游 六月\n",
          "古今 辉映 引客 夜游 洛阳 受热捧 刚刚 过去 国庆 假期 我市 洋溢着 浓浓的 节日 氛围 形式多样 文化 旅游 惠民 活动 吸引 大批 游客 国庆 假期 我市 火车站 累计 发送 旅客 万人次 洛阳 北郊 机场 旅客 吞吐量 3.35 万人次 全市 市场监管 领域 秩序 持续 平稳 发生 食品药品 安全事件 火爆 文化 旅游 市场 天堂 明堂 夜景 应天门 灯光 老城 十字街 夜市 夜游 项目 受热捧 成为 古都 洛阳 亮点 洛阳 晚报 戚帅华 李岚 李卫超 张怡熙 光辉 通讯员 杨靖怡 宏伟 孙怀真 小民 刘雨震 摄影 报道\n",
          "央视 综艺 风起 洛阳 跌宕 紧凑 故事 脸谱化 英雄人物 云波 诡谲 阴谋 浓郁 大唐 文化 超强 演员阵容 引人关注 拥有 精良 制作 团队 班底 该剧 著名 导演 谢泽 进行 拍摄 指导 参与 拍摄 后宫 精品 古装剧 制作 取得 不俗 口碑 风起 洛阳 马伯庸继 长安 十二 时辰 古董 局中局 之后 再创 古装 悬疑 力作 缜密 逻辑 设定 故事 脉络 彰显 文学 实力 功底 基于 传统 文化 背景 深入研究 还原 千年 洛阳 历史风貌 气质 彰显 文化 时代 魅力 风起 洛阳 官微 洛阳 文保 集团\n",
          "鸡冠 风景区 位于 洛阳市 栾川县 以西 公里 双堂 沟内 属于 喀斯特 岩溶地貌 鸡冠 斜入 地下 长达 多米 北方地区 罕见 洞穴 旅游 景区 洞中 一年四季 恒温 严冬 季节 洞内 暖意 融融 盛夏 酷暑 洞中 寒气 侵袭 爽凉 宜人 被誉为 自然 空调 游览 鸡冠 必须 景区 导游 带领 成批 游览 不能 独自 进去 单独 散客 不用 担心 洞口 等待 时间 十几分钟 之后 人数 导游 带领 游客 进洞 形成 几亿年 鸡冠 唐代 贞观 年间 公元 发现 洞内 面积 巨大 分为 多个 不同 主题 景区 玉柱 溢彩 游览 看到 一座 数十米 巨大 厅堂 分为 迎宾 瑶池 白塔 洞中 一条 奔流 不息 有头无尾 河流 鸡冠 洞中 布满 石灰质 水溶液 形成 石柱 石塔 石瀑 石川 石花 五彩 灯光 照耀 琼林玉树 千姿百态 俨然 一座 美不胜收 艺术 殿堂 洞中 中华 第一 鸡冠 洞中 标志性 景观 一粗一细 两根 巨大 盘龙 石柱 支撑 平方米 地下 宫殿 国内 类型 溶洞 少有 洛阳 旅游 洛阳 导游\n",
          "好书 推荐 连环画 推荐 每天 一本 连环画 推荐 连环画 中华 优秀 传统 文化 瑰宝 小人书 童年 记忆 成长 时光 连环画 知识 宝库 艺术 长廊 教育 殿堂 小人书 最好 经典 启蒙教育 读本 经典 有趣 连环画 本周 推荐 跟着 小编 起来 看看 周一 今日 推荐 连环画 快马传 商情 刘宝 更富 中国 古代 商人 重视 掌握 预测 商情 变化 总结 丰富 经验 章节 选录 北魏 洛阳 著名 商人 刘宝 故事 不同 侧面 表明 古代 商人 重视 商情 发掘 收集 传递 积累 市场 信息 情报 利用 信息 指导 经营 活动 企业家 必须 敏锐 眼光 科学 思辨 能力 善于 辨别 信息 真伪 时效 价值 抓住 时机 果断 决策 注意 经济 技术 机密 情况 保密 受制于人\n",
          "龟兹 国西去 洛阳 八千 二百八十 俗有 城郭 其城 三重 中有 佛塔 千所 王宫 壮丽 焕若 神居 每年 假期 重点 石窟 之旅 新疆 石窟 约始 公元 世纪 左右 拜城 库车 东疆 吐鲁番 大都 山寂 空远 溪水 流经 峭壁 峡谷 之中 穿越 沙漠 满怀 期待 前往 克孜尔 告知 开放 千佛洞 普窟 一律 本来 心灰意冷 峰回路转 联系 研学 队伍 一天 之内 赏遍 克孜尔 千佛洞 克孜尔 库木吐 一系列 世界 文化遗产 克孜尔 石窟 一组 洞窟 相当于 一座 寺院 洞窟 布局 规整 故事 风格 清晰 壁画 精美绝伦 连连 惊呼 大部分 精美 巧饰 壁画 强盗 盗走 国宝 只能 别国 博物馆 欣赏 义愤填膺 克孜尔 石窟 不是 敦煌 敦煌 莫高窟 多年 保存 早期 部派 佛教 艺术 形态 世界 范围 内部 佛教 唯一 完整 可视 窗口 感谢 老师 刘老师 守窟 人们 细心 讲解 陪伴 无论是 石窟 艺术 价值 欣赏 宗教信仰 感悟 文物保护 思考 感触良多 大美 新疆 草原 湖泊 雪山 荒漠 一眼 一眼 世界级 文化 瑰宝 新疆 旅行 旅行 石窟 克孜尔 石窟 壁画 克孜尔 石窟 新疆 旅游 阿克\n",
          "王府 竹海 总结 这份 攻略 赶紧 收藏 每次 惊喜 领略 王府 竹海 四季 春夏秋冬 这是 唯一 打卡 四次 地方 好不好 这篇 笔记 觉得 好玩 好看 分享 大家 交通 郑州 出发 小时 路程 洛阳 出发 两个 小时 路程 地址 河南省 洛阳市 栾川县 狮子 庙镇 王府 沟村 门票 名称 王府 竹海 休闲 旅游 度假区 良心 推荐 景点 瀑布 瀑布 治愈 这种 各样 瀑布 眼前一亮 忍不住 驻足观看 景色 赏心悦目 天空 之境 地方 最火 很多 游客 拍照 打卡 美食 体验 一下 大自然 馈赠 新鲜 美味 虹鳟鱼 特别 好吃 觉得 一条 一鱼 一条 四种 味道 满足 这是 一道 大菜 妥妥 招牌 住宿 特色 高端 山景 民宿 木屋 别墅 任你挑 舒服 春天 花朵 特别 好看 春意盎然 夏天 地方 适合 避暑 想要 避暑 小伙伴 夏天 宝贝 夏天 炎热 秋天 满山 红叶 很多 冲着 秋天 红叶 一片 美丽 景象 冬天 瀑布 比较 看到 雾凇 冰挂 惊艳 地方 一年四季 玩耍 看到 不用 风景 旅游 王府 竹海 度假\n",
          "无人 值守 一元 午餐 结账 多出 国庆 假期 景区 连续 推出 午餐 共售 游客 点赞 直呼 太值 午餐 自动 支付 无人 看守 河南 洛阳 老君山 景区 第四年 推出 国庆 假期 一元 午餐 活动 今年 售出 一元 午餐 只用 游客 馒头 面条 自取 果盘 附送 景区 举措 往来 游客 纷纷 点赞 最后 盘点 收款 箱加 扫码 支付 共计 收入 多出 老君山 风景 名胜区 国家 5A 旅游 景区 国家级 自然保护区 日出 云海 奇观 每年 吸引 大批 游客 前往 参观 海客 新闻\n",
          "门票 洛阳 灵山 文化 旅游节 明日 开幕 上午 召开 宜阳县 洛阳 灵山 文化 旅游节 筹备工作 会议 获悉 洛阳 灵山 文化 旅游节 日至 举行 本届 文化 旅游节 灵山 秀水 民俗 民韵 主题 即日起 游客 可免 门票 灵山 会议 文化 旅游节 期间 开幕式 当天 工作 内容 做出 安排 部署 提出 建设 富美 宜阳 文旅活 目标 全方位 多角度 展示 灵山 文化 旅游节 特色 推动 灵山 景区 旅游 发展 洛阳 灵山 文化 旅游节 宜阳县 灵山寺 景区 开幕 多项 活动 陆续 亮相 舞狮 表演 民俗 表演 特色美食 综艺节目 上场 不断 打造 文化 旅游 新亮点 满足 游客 多元化 文旅 消费 需求 灵山 林区 游客 开放 千年 古刹 焕发 生机 活力 等待 八方 游客 畅览 满山 美景 进一步 推介 宜阳 文旅及 土特产品 灵山 景区 开展 电商 直播 活动 助力 宜阳 特产 走俏 全国 据悉 切实加强 本届 灵山 文化 旅游节 筹备工作 组织 领导 保障 旅游节 各项 活动 顺利进行 宜阳县 成立 洛阳 灵山 文化 旅游节 指挥部 职能部门 相关 乡镇 负责 各项 具体 工作 确保 活动 安全 有序 进行 疫情 期间 希望 广大 游客 做好 疫情 防控\n",
          "大学生 天花 元游 当事人 晚上 基本 火车 网吧 吃饭 学校 附近 餐馆 同学 今年 浙江 台州 刚刚 江苏 大专院校 毕业 今年 他用 花费 游览 个省 城市 月初 同学 征得 家长 学校 同意 生活费 打工 旅程 先后 游览 杭州 济南 天津 北京 洛阳 西安 成都 城市 同学 看来 特种兵 旅游 最大 特点 尽可能少 时间 费用 游览 尽可能 景点 晚上 火车 节省 住宿费 用外 吃饭 讲究 每到 地方 专找 中小学 地方 吃饭 背街 小巷 餐馆 地方 吃饭 比较 便宜 先后 游览 部分 城市 景点 制作 成短 发在 网上 网友 赞叹 惊讶 不少 网友 请求 同学 公布 旅游 攻略 模仿 学习 下午 同学 告诉 华商报 大风 新闻记者 注意 网友 攻略 请求 发完 所有 游览 地方 发布 省钱 攻略 大风 新闻记者 陈有 编辑 王喆楠\n",
          "圆梦 驿栈 金冠 快捷酒店 洛阳 金冠 快捷酒店 位于 洛阳市 繁华 中州 东路 西关 九龙 相邻 洛阳 机场 公里 火车站 公里 位于 闻名 龙门石窟 白马寺 之间 交通 十分 便利 四周 多条 公交线路 直达 洛阳 火车站 长途汽车站 关林 龙门石窟 天子 驾六 博物馆 购物 区及 5A 旅游景点 地理位置 优越 酒店 拥有 标准间 单人间 商务 套房 各类 房型 满足 需要 房间内 设计 独特 新奇 别致 设施 齐全 提供 空调 独立 卫生间 小时 热水 电视 电话 棋牌 娱乐 免费 宽带 酒店 温馨 人性化 服务 宗旨 演绎 舒适 温馨 家居 空间 从事 商务 旅游 休闲 娱乐 选择 酒店 地址 河南省 洛阳市 老城区 中州 东路 义勇 街口 订房 热线 洛阳 金冠 快捷酒店 恭候 光临\n",
          "日晚 中央 广播电视 总台 中秋 晚会 各大 平台 同步 播出 今年 秋晚 话题 热度 爆表 口碑 有点 炸裂 网友 几乎 天花板 水平 现场 旅游 今年 央视 中秋 晚会 口碑 网友 晚会 审美 天花板 今年 央视 中秋 晚会 口碑 网友 晚会 审美 天花板 放张 播出 效果图 大家 感受一下 今年 央视 中秋 晚会 口碑 网友 晚会 审美 天花板 值得注意 当前 疫情 防控 形势 今年 央视 秋晚 采取 提前 录制 方式 中旬 演员 赶往 河南 洛阳 晚主 舞台 开展 紧张 彩排 录制 工作 秋晚 录制 完成 央视 新闻 放出 不少 效果图 今年 央视 中秋 晚会 口碑 网友 晚会 审美 天花板 光是 图片 足以 感受 今年 秋晚 满满的 诚意 今年 央视 中秋 晚会 口碑 网友 晚会 审美 天花板 今年 央视 中秋 晚会 口碑 网友 晚会 审美 天花板 今年 央视 中秋 晚会 口碑 网友 晚会 审美 天花板 今年 央视 中秋 晚会 口碑 网友 晚会 审美 天花板 晚会 最终 播出 效果 结论 名副其实 酷炫 精致 特效 肯定 少不了\n",
          "诗画 成语 漫游 邯郸 邯山郸 风光 无限 邯郸 国家 历史 文化名城 国家 园林城市 中国 优秀 旅游 城市 全国 绿化 模范 城市 全国 双拥 模范 城市 全国 社会治安 综合治理 优秀 城市 中国 成语 典故 拥有 涉县 皇宫 广府 古城 5A 景区 邯郸 有着 建城史 年前 孕育 新石器 早期 磁山 文化 战国 邯郸 赵国都 魏县 魏国 都城 汉代 洛阳 临淄 南阳 成都 共享 大都会 盛名 邯郸 临漳县 先后 曹魏 冉魏 前燕 东魏 北齐 都城 北宋 大名府 成为 北宋 陪都 清代 大名府 直隶省 第一 省会 邯郸 人杰地灵 物华天宝 旅游 资源 十分 丰富 山清水秀 碧水 蓝天 峻岭 南通 各具特色 特别 太行 五指山 景区 主峰 海拔 山势 巍峨 峻秀 植被 郁郁葱葱 著称 更为 神奇 一列 公里 山脉 大自然 巧夺天工 形成 一座 仰卧 大佛 形状 惟妙惟肖 弥漫着 悠远 宁静 佛瑞 吉祥 信息 新疆 阿勒泰 下雪 邯郸 依然 天高云淡 山水画 到处 洋溢着 夏日 浪漫 阿贵 时评\n",
          "澳門 科學館 鄭州 養生 觀光團 弘揚 中華傳統 文化 推廣中 醫養生 保健 理念 澳門 科學館將 日至 日舉 鄭州 養生 觀光團 出發 日期 星期二 歡迎 以上 以下 人士 參加 行程 簡介 第一天 抵達 鄭州 登封 參觀 少林寺 塔林 及欣賞 武術 表演 第二天 參觀 龍門 石窟 白馬寺 第三 四天 參觀 開封 清明 河園 龍亭 公園 河南省 中醫院 問診 第五天 河風景 名勝區 河南 博物院 第六天 中午 返回 澳門 費用 費用 每位 RMB 單人 房差 每位 RMB 團費 包括 全程 空調 旅遊 車費 膳食 酒店 住宿 鄭州 及洛陽 四星 同級 酒店 景點 第一 門票 導遊小費 旅客 人身 意外 保險 旅行社 責任 保險 自費 項目 河南省 中醫院 診金 檢查 藥費 報名 資訊 報名 日期 即日起 下午 名額 有限 額滿 即止 查詢 小姐 電話 小姐 電話 本館 將以 短訊 電話 方式 通知 成功 報名者 親臨 澳門 科學館繳 交相 關費用 資料 未能 指定 時間 辦理 繳費 手續 將視 放棄 接受 電話 留位 不便 之處 敬請 見諒 所有 已繳 交之費用 將不獲 發還\n",
          "平顶山 舞钢 郏县 市内 班线 停运 下午 从市 交通运输 疫情 防控 领导小组 办公室 获悉 进一步 巩固 疫情 防线 即日起 我市 暂停 市际 客运 班线 旅游 包车 业务 严禁 出租车 网约车 跨市 运行 据市 客运 中心站 调度室 负责人 刘伟举 介绍 继发 郑州 洛阳 客车 停运 之后 最近 两天 该站 武汉 南阳 驻马店 固始 班车 全线 停运 下午 疫情 防控 要求 该站 商丘 班线 已经 全部 关闭 疫情 影响 当天 下午 该站 舞钢市 郏县 市内 班线 全线 停运 长途汽车站 调度室 负责人 该站 许昌 漯河 临颍 班线 全部 停运 了解 市际 班线 停运 购票 乘客 车站 退票 微信 平台 购票 乘客 直接 平台 办理 全额 退票 业务 已经 纸制 客票 旅客 只能 乘车 办理 退票 业务 长途汽车站 咨询电话 客运 中心站 咨询电话 邢晓蕊 来源 平顶山 晚报\n",
          "近期 焦作 旅游 市场 出现 新型 旅游 陷阱 个别 旅行社 郑州 洛阳 安阳 新乡 旅游 为名 招徕 游客 低价 旅游 大礼包 诱饵 诱导 游客 参加 低价 旅游团 名为 旅游 实为 强迫 购物 多家 购物 场所 每家 购物 场所 停留 小时 销售 人员 讲课 诱导 欺骗 强迫 变相 强迫 游客 购物 游客 未能 游览 云台山 天河 焦作 知名 景区 反而 诱导 欺骗 参与 购物 造成 损失 这种 行为 损害 游客 合法权益 扰乱 我市 旅游 市场秩序 影响 我市 旅游 形象 目前 我市 旅游 行政部门 查处 此类 违法行为 参加 低价 旅游 送礼 诱导 欺骗 强迫 变相 强迫 购物 拨打 进行 举报 提醒 广大群众 注意 不要 轻信 低价 旅游 送礼 诱骗 信息 避免 上当受骗 造成 人身 财产损失 来自 焦作市 旅游局\n",
          "永葆 初心 党史 今天 毛泽东 演讲 新民主主义论 毛泽东 陕甘宁边区 文化 协会 第一次 代表大会 上以 新民主主义 政治 新民主主义 文化 为题 演讲 完整 提出 新民主主义 理论 毛泽东 演讲 开宗明义 提出 中国 问题 作出 十分明确 回答 建立 中国 共产党人 多年 以来 中国 政治 革命 经济 革命 奋斗 中国 文化 革命 奋斗 目的 在于 建设 中华民族 社会 国家\n",
          "郑板桥 一生 穷困 尤其 左右 一家人 需要 养活 名气 无法 糊口 即便如此 依旧 时间 旅游 这是 郑板桥 画传 三十 三十五岁 板桥 游历 庐山 长安 洛阳 乌江 北京 相当 一段 日子 后来 客居 通州 板桥 进行 漫游 作者 猜想 原因 两个 打开 仕途 通路 封建社会 想要 当官 获得 一定 社会 声望 最好 大人物 帮忙 游扬 科举 才能 顺利 得到 官位 后来 入仕 真是 得到 郡王 帮助 游历 一大 癖好 板桥 自叙 板桥 闭户读书 长游于 古松 荒寺 平沙 远水 峭壁 之间 四处 游历 郑板桥 不断 作词 做画 游历 时见 风景 成为 日后 作画 底稿 常说 读万卷书 行万里路 两件事 融合 一起 便会 发现自己 看过 本书 走过 一条 成为 未来 成长 路上 垫脚石 高高 国际 做书 读书 分享 传播 价值 思想 推送 温度 文章 孩子 搭建 经典 桥梁 成人 寻找 精神 家园 历史\n",
          "参观 孟津 展销会 年前 最后 一次 发团 每人 包括 来回 车费 午餐 参观 结束 每人 丝巾 一条 展销会 四个 展厅 床上用品 厨房用品 医药 护肤品 竹炭 竹纤维 系列产品 床上用品 主要 展出 蚕丝被 蚕沙 泡泡纱 被罩 亚麻 凉席 冰丝 凉席 厨房用品 德国 品质 巴赫 无油烟 不粘锅 多功能 刮皮 磨刀 刀具 医药 护肤品 展出 维斯 深海鱼 软胶囊 鹿血 追风 掌灸液 韩国 九朵 云马油 韩国 自然 乐园 芦荟胶 竹炭 展出 竹炭 牙膏 牙刷 竹纤维 内衣 英国 卫裤 海纳 植物 染发剂 水晶 老花镜 珍珠 饰品 珍珠 护肤品 生活 日常用品 免责 申明 本次 活动 自由 结合 自愿 参加 安全 自负 以上 以下 以上 年龄 家人 陪同 不得 隐瞒 病情 心脏病 高血压 谨慎 报名 出现 问题 活动 组织者 承担 责任 参加 活动 视为 认同 免责 申明 温馨 提示 谢绝 小孩 限定 人数 上午 参观 展销会 下午 游玩 魏家坡 领队 尤尤 报名 电话 洛阳 身边 洛阳 洛阳 旅游 洛阳 旅游 攻略\n",
          "隋唐 实景 剧本 王府 竹海 天下 剧本 室内 青山绿水 白云 蓝天 之中 一次 洛阳 王府 竹海 景区 深挖 隋唐 历史 文化 以此 背景 开发 沉浸 剧本 隋唐 风云 项目 一经 上线 深受 喜爱 不少 游客 体验 后大呼 过瘾 仿佛 进入 隋唐 乱世 游客 换装 扮演 剧情 侠客 成为 九道 关卡 各式 任务 派发 协助者 任务 主线 游玩 整个 景区 获取 相应 装备 道具 仿佛 穿越 武侠 江湖 世界 之中 沉浸 十足 古装 一秒 穿越 秦王 李世民 一起 征战 四方 偌大 山谷 展开 思维 层层 闯关 尽情 释放 王府 竹海 度假 旅游区 洛阳\n",
          "洛阳 新鲜事 好消息 洛阳 机场 新增 及复 航班 民航局 目前 规划 批复 本月底 夏秋 航线 换季 洛阳 机场 新增 贵阳 哈尔滨 泸州 桂林 在内 航点 城市 家门口 坐飞机 热门 旅游 城市 更加 便捷 即将 到来 民航 换季 洛阳 航空 再传 佳讯 日起 洛阳 机场 执行 夏秋航 航班时刻 通航 城市 增长 去年 同比增加 26% 好消息 洛阳 机场 新增 及复 航班 洛阳 北京 上海 昆明 珠海 扬州 杭州 航班 班期 基本 不变 新增 及复 洛阳 成都 青岛 泸州 鄂尔多斯 天津 哈尔滨 桂林 贵阳 南通 银川 航点 城市 届时 洛阳 机场 出发 北京 上海 广州 深圳 泸州 鄂尔多斯 呼和浩特 昆明 大连 宁波 扬州 沈阳 重庆 乌鲁木齐 海口 珠海 南宁 杭州 西宁 哈尔滨 桂林 青岛 成都 天津 贵阳 银川 南通 大阪 曼谷 航点 城市 实现 全面 通航 航线 网络 进一步 强化 家门口 出发 即可 一飞 直达 本文 航线 开通 班期 时刻 最终 民航局 批复 为准 洛阳 关林镇\n",
          "中国 运城 洛阳 山西旅游 不尝 面食 等于 山西 山西 面食 文化 独树一帜 博采众长 海内外 早有 世界 面食 中国 中国 面食 山西 说法 东到 娘子 西到 黄河 南到 风陵渡 北到 雁门关 山西 面食 各有特色 运城 面食 山西 面食 重要 组成部分 永济 牛肉 饺子 稷山 麻花 万荣 疙瘩 煎饼 解州 羊肉 泡馍 运城 特色 面食 随处可见 吸引 众多 食客 张能 凌子 世界 神二儿 杨孝文 河南 历史 香港 卫视 杜利勇 上党 落子 太原 临汾 同城会 运城 同城会\n",
          "持续 升温 甘肃 刷新 历年 数据 持续 升温 甘肃 刷新 历年 数据 黄沙 一睹 蓝天 模样 沙地 一隅 睁开 月牙 般的 眼眶 东方 甄选 主播 董宇辉 甘肃 之行 作文 描述 敦煌 进入 以来 暑期 研学游 市场 持续 升温 加上 近期 长安 三万里 历史 题材 电影 热映 文化 主题 产品 人气 尤其 旺盛 妈妈 旅游网 数据 显示 暑期 平台 研学游 产品 预订 人次 超过 同期 文化 主题 研学 游人 位居 前列 无论是 跟着 课本 打卡 中国 名山大川 人文 古迹 全国 各地 博物馆 参观 文物 亲子 客群 热门 选择 目的地 来看 北京 西安 南京 洛阳 敦煌 人文 历史 景观 资源 丰富 目的地 人气 火爆 博物馆 石窟 热门 景区 门票 一票 难求\n",
          "同样 适用 人大 天打雷劈 这句 地方 政绩 旅游 GDP 不会 西安 洛阳 头上 到时候 全国 之力 未免 可笑 洛阳 操作 理解 最后 这骚 操作 实际上 好感 过犹不及 且不说 以后 洛阳 回头 推出 文化 产品 别人 照方 抓药 再有 类似 文化 产品 创意 洛阳 肯定 重点 举出 抗议 不是 立得 文史 研究会 费劲 巴拉 找出 四条 符合 史实 地方 随便 回忆 一下 电影 不止 四处\n",
          "洛阳 爆料 全球 洛阳 上榜 最具 特色旅游 城市 排行榜 洛阳市 文化 广电 旅游局 官方 微信 获悉 近日 中外 城市 竞争力 研究会 公布 第十八届 全球 国家 城市 竞争力 分类 优势 排行榜 洛阳 92.34 高分 上榜 位列 近日 中外 城市 竞争力 研究会 公布 中国 最具 特色旅游 城市 排行榜 中国 最具 特色旅游 城市 榜单 排名 前十 城市 分别 烟台 洛阳 扬州 黄山 邯郸 林芝 聊城 清远 承德 抚顺 洛阳 排名第 特色旅游 城市 主要 特征 旅游 资源 特色 鲜明 旅游 产品 个性 突出 旅游 文化 特征 明显 旅游 历史 内涵 丰富 公众 口碑\n",
          null
         ],
         "marker": {
          "color": "#CFD8DC",
          "opacity": 0.5,
          "size": 5
         },
         "mode": "markers+text",
         "name": "other",
         "showlegend": false,
         "type": "scattergl",
         "x": [
          9.711115837097168,
          10.946228981018066,
          8.262992858886719,
          11.544833183288574,
          9.4217529296875,
          10.635244369506836,
          6.344488143920898,
          6.252152919769287,
          11.450483322143555,
          7.461038589477539,
          10.8080415725708,
          6.294600009918213,
          10.344106674194336,
          6.426804542541504,
          7.886854648590088,
          9.210766792297363,
          8.94300365447998,
          9.419166564941406,
          11.41476058959961,
          9.564387321472168,
          9.465694427490234,
          10.571050643920898,
          11.13741683959961,
          10.444807052612305,
          7.21321439743042,
          7.449794769287109,
          9.558873176574707,
          9.315437316894531,
          9.94516372680664,
          9.367095947265625,
          5.733853816986084,
          6.23795223236084,
          9.40589427947998,
          8.541236877441406,
          10.452709197998047,
          11.585538864135742,
          5.646080493927002,
          7.471790313720703,
          12.01921558380127,
          5.620311737060547,
          7.339796543121338,
          8.610939979553223,
          7.70004940032959,
          5.636343479156494,
          9.468820571899414,
          8.71982479095459,
          7.355576992034912,
          8.938261985778809,
          6.238508224487305,
          9.522828102111816,
          8.5272798538208,
          12.219259262084961,
          9.185900688171387,
          9.293466567993164,
          9.139540672302246,
          9.186980247497559,
          11.083462715148926,
          9.782154083251953,
          6.697768211364746,
          11.597393989562988,
          6.175737380981445,
          9.627514839172363,
          7.651393890380859,
          6.2973480224609375,
          6.282702922821045,
          7.383813381195068,
          7.6056365966796875,
          7.1011152267456055,
          6.220383644104004,
          10.058303833007812,
          8.131999969482422,
          8.746313095092773,
          9.461142539978027,
          7.7279558181762695,
          9.867088317871094,
          10.866155624389648,
          11.203391075134277,
          6.9502458572387695,
          9.589884757995605,
          10.964040756225586,
          11.575815200805664,
          9.0306396484375,
          10.680098533630371,
          11.590171813964844,
          8.483656883239746,
          8.869430541992188,
          8.64501667022705,
          10.305283546447754,
          11.645772933959961,
          9.859864234924316,
          11.470834732055664,
          9.688620567321777,
          7.913791656494141,
          9.731557846069336,
          8.318204879760742,
          5.634130954742432,
          9.04854965209961,
          10.965734481811523,
          8.916559219360352,
          9.276365280151367,
          9.83934211730957,
          9.449206352233887,
          7.673605918884277,
          11.248497009277344,
          10.977187156677246,
          11.439716339111328,
          12.119431495666504,
          9.523616790771484,
          9.53282642364502,
          7.68560266494751,
          8.818973541259766,
          10.65987491607666,
          10.971076011657715,
          8.699148178100586,
          7.655686378479004,
          10.804176330566406,
          10.33920955657959,
          9.460864067077637,
          8.335827827453613,
          5.775413513183594,
          7.456349849700928,
          8.821341514587402,
          6.273840427398682,
          7.3891448974609375,
          6.186936378479004,
          7.9771952629089355,
          10.838118553161621,
          7.8444390296936035,
          6.867607593536377,
          11.20938491821289,
          9.570527076721191,
          5.609163284301758,
          10.86845874786377,
          10.73998737335205,
          9.324421882629395,
          8.241477966308594,
          6.764561653137207,
          8.337715148925781,
          6.181366443634033,
          10.79708480834961,
          10.727466583251953,
          8.118261337280273,
          8.874961853027344,
          9.426787376403809,
          9.01473617553711,
          10.878349304199219,
          10.086382865905762,
          11.576904296875,
          9.332045555114746,
          8.329285621643066,
          12.08264446258545,
          7.503473281860352,
          9.415340423583984,
          9.776839256286621,
          11.60978889465332,
          9.137493133544922,
          10.275062561035156,
          10.64047908782959,
          7.381077766418457,
          7.649635314941406,
          5.515308856964111,
          7.358396530151367,
          9.774325370788574,
          8.80931568145752,
          11.746247291564941,
          9.776825904846191,
          7.314285755157471,
          12.182541847229004,
          7.989693641662598,
          7.924332618713379,
          11.001008033752441,
          11.035954475402832,
          8.925204277038574,
          9.567850112915039,
          11.934535026550293,
          7.745407581329346,
          7.915521621704102,
          9.318839073181152,
          8.037891387939453,
          7.91361141204834,
          11.010791778564453,
          7.297078609466553,
          12.546634674072266,
          9.302349090576172,
          9.029010772705078,
          9.001541137695312,
          5.645700454711914,
          6.333864212036133,
          9.548820495605469,
          8.393485069274902,
          9.61695384979248,
          10.713208198547363,
          5.622244834899902,
          9.881669044494629,
          6.271380424499512,
          9.858596801757812,
          7.861933708190918,
          8.97774887084961,
          9.584479331970215,
          7.746164321899414,
          8.979965209960938,
          10.478445053100586,
          8.919415473937988,
          6.282017707824707,
          11.47458267211914,
          9.272355079650879,
          9.524900436401367,
          5.630964756011963,
          10.63113021850586,
          12.445728302001953,
          10.287596702575684,
          6.897349834442139,
          7.70835542678833,
          12.519572257995605,
          11.237977027893066,
          11.460044860839844,
          12.1046781539917,
          9.824493408203125,
          6.855488300323486,
          11.568710327148438,
          7.896712303161621,
          6.331803798675537,
          7.32099723815918,
          12.1665620803833,
          8.435815811157227,
          7.374175071716309,
          9.62222957611084,
          8.656065940856934,
          10.437178611755371,
          5.782482624053955,
          7.798091411590576,
          11.639294624328613,
          6.889868259429932,
          10.346972465515137,
          7.296565055847168,
          7.566131114959717,
          9.606157302856445,
          9.22484302520752,
          8.297009468078613,
          9.80392074584961,
          10.806692123413086,
          8.110452651977539,
          6.3408002853393555,
          9.034823417663574,
          9.206032752990723,
          6.236000061035156,
          8.333428382873535,
          10.356335639953613,
          8.945781707763672,
          7.449434757232666,
          7.507165908813477,
          10.129796028137207,
          10.769383430480957,
          9.61567497253418,
          9.280843734741211,
          10.99323844909668,
          9.819738388061523,
          11.237502098083496,
          10.177978515625,
          8.091032981872559,
          8.107755661010742,
          11.297078132629395,
          11.964557647705078,
          9.464038848876953,
          9.632368087768555,
          7.518693923950195,
          8.427323341369629,
          8.099518775939941,
          8.828605651855469,
          9.887885093688965,
          11.473108291625977,
          9.40890884399414,
          9.756942749023438,
          9.455750465393066,
          8.339046478271484,
          7.685433864593506,
          7.879755020141602,
          9.87946605682373,
          11.36618423461914,
          10.243651390075684,
          9.47298812866211,
          7.5743513107299805,
          9.075162887573242,
          9.570735931396484,
          11.933433532714844,
          12.493308067321777,
          9.798555374145508,
          7.293889045715332,
          8.7166166305542,
          7.37587833404541,
          10.673550605773926,
          8.789937973022461,
          10.789517402648926,
          9.511819839477539,
          5.644746780395508,
          6.410405158996582,
          11.608047485351562,
          10.837759971618652,
          12.249919891357422,
          11.02530574798584,
          6.210508823394775,
          9.66576099395752,
          8.790425300598145,
          8.195022583007812,
          7.694299697875977,
          9.084148406982422
         ],
         "y": [
          10.257753372192383,
          8.77662467956543,
          8.750238418579102,
          11.615440368652344,
          9.839537620544434,
          9.316391944885254,
          8.276325225830078,
          8.172163963317871,
          8.560220718383789,
          9.337360382080078,
          10.670458793640137,
          8.240148544311523,
          10.780917167663574,
          9.226543426513672,
          8.682526588439941,
          8.983436584472656,
          9.802424430847168,
          8.16441535949707,
          8.693422317504883,
          10.25818920135498,
          10.125679016113281,
          9.376863479614258,
          10.636205673217773,
          10.622081756591797,
          10.375831604003906,
          9.850549697875977,
          10.246578216552734,
          11.134251594543457,
          9.613465309143066,
          12.324787139892578,
          9.876376152038574,
          8.130021095275879,
          10.626537322998047,
          8.949708938598633,
          8.614274978637695,
          9.054370880126953,
          10.477213859558105,
          10.000325202941895,
          9.273576736450195,
          8.903847694396973,
          9.807188987731934,
          9.042749404907227,
          9.917789459228516,
          10.541954040527344,
          11.04298210144043,
          7.553633213043213,
          11.281113624572754,
          7.447569370269775,
          8.131034851074219,
          9.520231246948242,
          10.110532760620117,
          9.974512100219727,
          9.372580528259277,
          9.74244499206543,
          11.260502815246582,
          10.367997169494629,
          9.813333511352539,
          9.585979461669922,
          10.473249435424805,
          10.302201271057129,
          10.3879976272583,
          12.539864540100098,
          9.066970825195312,
          9.754976272583008,
          8.170624732971191,
          8.308472633361816,
          9.14284896850586,
          10.288740158081055,
          8.126358032226562,
          9.903714179992676,
          9.5936279296875,
          7.464864253997803,
          8.797027587890625,
          9.705572128295898,
          10.548447608947754,
          10.530488967895508,
          9.453804016113281,
          8.720376014709473,
          12.572941780090332,
          10.213481903076172,
          11.615352630615234,
          8.286376953125,
          8.76248836517334,
          11.614049911499023,
          8.147788047790527,
          9.788469314575195,
          9.641341209411621,
          10.483654975891113,
          8.732044219970703,
          9.616156578063965,
          8.572053909301758,
          10.012495040893555,
          7.313146591186523,
          10.595222473144531,
          9.240466117858887,
          8.916300773620605,
          9.775424003601074,
          10.468668937683105,
          10.079611778259277,
          9.897047996520996,
          9.848159790039062,
          11.37254524230957,
          10.529123306274414,
          9.836104393005371,
          8.865962982177734,
          9.609543800354004,
          10.199189186096191,
          10.158182144165039,
          9.515706062316895,
          9.10061264038086,
          9.293983459472656,
          9.95386791229248,
          9.83895492553711,
          8.404114723205566,
          9.999327659606934,
          8.482682228088379,
          8.687984466552734,
          11.034479141235352,
          9.54947280883789,
          10.561888694763184,
          9.317095756530762,
          9.620211601257324,
          8.161215782165527,
          9.69008731842041,
          8.092517852783203,
          7.300653457641602,
          11.664785385131836,
          8.668535232543945,
          8.594846725463867,
          10.22643756866455,
          12.599526405334473,
          10.513886451721191,
          9.98855209350586,
          8.59616756439209,
          8.437939643859863,
          8.546061515808105,
          10.318676948547363,
          9.846659660339355,
          10.384086608886719,
          11.707462310791016,
          8.698684692382812,
          9.367924690246582,
          9.820911407470703,
          10.031045913696289,
          11.923738479614258,
          8.55517864227295,
          9.473482131958008,
          11.611948013305664,
          10.356566429138184,
          9.844218254089355,
          10.049641609191895,
          9.654486656188965,
          10.171453475952148,
          9.83059024810791,
          9.703965187072754,
          8.946517944335938,
          8.738333702087402,
          8.336515426635742,
          9.890771865844727,
          9.078434944152832,
          10.51054573059082,
          9.712483406066895,
          9.696876525878906,
          9.263336181640625,
          9.988186836242676,
          10.196134567260742,
          10.709052085876465,
          10.063547134399414,
          8.695947647094727,
          7.313818454742432,
          8.73108196258545,
          10.270512580871582,
          7.448641777038574,
          9.454150199890137,
          7.4932966232299805,
          9.754938125610352,
          7.313074111938477,
          10.734158515930176,
          9.202455520629883,
          7.3135504722595215,
          8.65674114227295,
          11.295978546142578,
          9.881197929382324,
          9.174553871154785,
          10.774931907653809,
          8.719659805297852,
          10.476125717163086,
          9.779549598693848,
          11.015716552734375,
          9.597047805786133,
          10.04139232635498,
          8.345195770263672,
          8.90810489654541,
          9.57224178314209,
          8.391999244689941,
          10.996903419494629,
          8.655526161193848,
          9.81473159790039,
          12.544098854064941,
          9.740592002868652,
          11.674453735351562,
          11.084433555603027,
          10.687899589538574,
          8.148138999938965,
          8.569974899291992,
          9.6970853805542,
          9.486014366149902,
          10.502334594726562,
          8.42744255065918,
          7.935126304626465,
          8.73731517791748,
          9.929014205932617,
          8.649250984191895,
          9.906964302062988,
          9.94887924194336,
          8.580926895141602,
          8.733243942260742,
          10.974554061889648,
          11.031113624572754,
          11.610397338867188,
          9.258755683898926,
          9.769791603088379,
          9.421049118041992,
          9.534342765808105,
          7.084375381469727,
          10.862614631652832,
          10.96546459197998,
          9.869126319885254,
          8.118412017822266,
          9.857115745544434,
          9.759621620178223,
          9.889593124389648,
          8.578929901123047,
          8.684850692749023,
          11.303603172302246,
          8.537221908569336,
          9.766106605529785,
          9.283205032348633,
          10.263384819030762,
          10.16775894165039,
          11.694838523864746,
          9.23663330078125,
          9.812403678894043,
          10.568682670593262,
          9.599854469299316,
          9.736044883728027,
          9.91951847076416,
          8.66326904296875,
          7.436389446258545,
          9.314719200134277,
          9.951543807983398,
          10.084331512451172,
          8.494580268859863,
          8.203746795654297,
          10.25167179107666,
          8.563255310058594,
          10.842146873474121,
          10.494112014770508,
          10.558826446533203,
          9.202438354492188,
          9.376856803894043,
          9.000576972961426,
          10.039950370788574,
          7.755565166473389,
          10.942451477050781,
          9.874406814575195,
          7.649199485778809,
          8.397746086120605,
          11.591851234436035,
          8.984701156616211,
          9.816791534423828,
          10.401941299438477,
          11.389886856079102,
          8.155789375305176,
          9.238043785095215,
          9.761093139648438,
          9.691414833068848,
          9.638601303100586,
          9.250370025634766,
          11.315543174743652,
          10.411187171936035,
          10.044801712036133,
          8.72819709777832,
          12.600676536560059,
          9.978487014770508,
          9.916428565979004,
          10.102513313293457,
          11.297866821289062,
          8.866762161254883,
          9.382134437561035,
          8.534662246704102,
          11.599654197692871,
          8.860535621643066,
          9.480637550354004,
          8.909828186035156,
          10.191411972045898,
          9.21883773803711,
          9.61121940612793,
          7.674579620361328,
          9.888486862182617,
          8.108366966247559,
          10.94241714477539,
          9.803051948547363,
          8.921910285949707,
          9.076050758361816,
          9.634584426879883
         ]
        },
        {
         "hoverinfo": "text",
         "hovertext": [
          "洛阳 旅游 森林 嬉水 清凉 白云山 嬉水 玩瀑 冰爽 整个 夏天 激烈 欢快 鼓舞 表演 富有 民族风情 服装 歌舞 五彩斑斓 水球 大战 民歌 对唱 竹竿 表演 湿身 游戏 互动 白云山 森林 嬉水 欢乐 启动 人间仙境 白云山 今年 暑假 洛阳 白云山 心动 指数 爆表 冰爽 指数 爆表 置身 高空 森林 氧吧 不用 熟人 就要 别人 羡慕 嫉妒 千姿百态 多级 瀑布群 光辉灿烂 玉皇顶 日出 千姿百态 黄山 云海 清凉 甘爽 森林 氧吧 嬉水 玩瀑 透心凉 妈妈 再也 担心 中暑 好多 好玩 活动 参加 暑期 期间 高速公路 过路费 免单 太给力 7.20 日到 8.20 高速 免费 一省 到底 赶快 行动 不要 羡慕 变成 遗憾 遇见 最美 城市\n",
          "人间仙境 白云山 高速 免费 旅游 有礼 白云山 嬉水 玩瀑 夏季 不再 怕热 激烈 欢快 鼓舞 表演 富有 民族风情 服装 歌舞 五彩斑斓 水球 大战 民歌 对唱 竹竿 表演 湿身 游戏 互动 白云山 森林 嬉水 欢乐 启动 今年 暑假 洛阳 白云山 心动 指数 爆表 冰爽 指数 爆表 置身 高空 森林 氧吧 不用 熟人 就要 别人 羡慕 嫉妒 千姿百态 多级 瀑布群 嬉水 玩瀑 透心凉 妈妈 再也 担心 中暑 好多 好玩 活动 参加 暑期 期间 高速公路 过路费 免单 太给力 温馨 提示 日至 洛阳 白云山 朋友 从洛栾 高速 嵩县 下站 享受 河南省 省内 高速 过路费 免单 政策 路线 指南 洛栾 高速 旧县 下站 洛阳 白云山 米奇 比心 郑州 洛阳 嵩县 白云山 农家 宾馆\n",
          "洛阳 旅游 攻略 洛阳 旅游 住宿 推荐 瓦库 余舍 钟情 建筑 土木 砖瓦 光影 表现 生命力 设计师 余平 这部 作品 中将 演译 淋漓尽致 外墙 背景墙 区间 隔断 墙面 装饰 无处不在 和谐 统一 原木 白墙 圆角 内嵌 储物 空间 推式 百叶窗 窗边 花卉 分明 几分 爱琴海 风情 非常 用心 一家 设计师 酒店 细节 到位 注重 环保 所有 垃圾筒 竹制 布套 卷纸 环保 服务 免费 接送 高铁 晚上 待客 回房 时会 水果 冰糖 雪梨 绝对 值得 强力 推荐 洛阳 朋友 地址 洛阳市 洛龙 新区 望春门 瓦库 余舍 酒店 洛阳 余舍 精品 酒店\n",
          "洛阳 旅游 攻略 来自 南极 企鹅 宝宝 空降 欢乐 世界 洛阳 小方特 欢乐 世界 六一 欢乐 儿童节 推出 欢乐 世界 豪华 套票 价值 豪华 礼包 好玩 游乐 项目 包含 零距离 欣赏 南极 萌宠 企鹅 宝宝 冰雪 世界 摩天轮 摆锤 海盗船 旋转 木马 滑翔 喷球车 火凤凰 小飞 魔幻 星空 蹦床 旋转 飞椅 冰雪 世界 棉服 自理 必消 六一 特价 六一 特价 产品 ID 限量 有效期 日至 六一 献礼 企鹅 宝宝 巡演 时间 抢购 时间 上午 地址 洛阳市 洛龙区 玄奘 民俗文化 南区 冰雪 世界 园内 畅玩 一夏 快乐 六一 洛阳 小方特 欢乐 世界\n",
          "视觉 中国 500px 老君山 古号 景室 位于 洛阳市 栾川 城郊 自古 尊为 天下 名山 道教 圣地 国家 AAAAA 旅游 景区 天连 五岳 全雄晋 地接 九州 伏牛 山顶 道观 历史悠久 道教 文化 源远流长 武当山 称为 南北 老君山 山势 雄伟 群峰 竞秀 峰林 洞涧 千姿百态 一山 四季 十里 不同 君山 北麓 冰未消 水之阳 花艳艳 这是 老君山 生动 写照 老君山 最美 云海 镜头 老君山 伏牛山 老君山 老君山 景区 年终总结 清新 夏日 天边 月亮 光影 魅力 脚下 天边 云彩 几年\n",
          "洛阳 活动 暑期 温泉 漂流 乐园 福利 暑假 来临 气温 越来越 快乐 清爽 趣味 暑期 洛阳 旅游 下面 适合 暑假 游玩 体验 洛阳 周边 温泉 漂流 世界 儿童乐园 福利 便宜 丰富 趣味 点击 下面 海报 图片 二维码 识别 扫码 下单 即可 获得 温泉 汤馆 儿童 游乐 水乐汇 桃源 一号 棕榈 泉水 乐园 游泳馆 游泳池 四月 运动 游泳 乐园 水上 乐园 龙华 欢乐 洛神 帕拉 灵山 莲花 水城 方特 水上 乐园 冰雪 世界 银基 冰雪 世界 动物 王国 银基 动物 王国 漂流 恐龙 漂流 木札岭 漂流 王屋山 漂流 洛阳\n",
          "互联网 发疯 如下 出去玩 神农架 野人 南漳 玩水 洛阳 老君山 西安 大雁塔 周边旅游 出去玩 朋友 带上 对象 出去玩 好想 喝个 通宵 一夜 大声 马路上 狂笑 朋友 见面 考研 政治 我学 不会 英语专业 四级 题目 十个 八个 焦虑 床上 四天 手机 不活 发疯 谈个 对象 看不上 男人 迷惑 行为 有人 发疯 出去玩 有人 一块 出去玩 多好 讨厌 男人 打嘴炮 不能 有人 喜欢 事情 几天 难过 失眠 三天\n",
          "双重 厌氧 处理 这是 一种 咖啡 浆果 处理 分为 两段 一段 处理 饮用 厌氧 处理 方法 红樱桃 密封 容器 进行 全果 厌氧发酵 之后 取出 去除 果皮 后带 果肉 进行 厌氧发酵 不同 阶段 发酵 豆子 呈现出 不同 风味 酒桶 处理 酒桶 处理 法有 雪梨 酒桶 处理 白兰地酒 处理 朗姆 酒桶 处理 法等 方法 处理 咖啡豆 去除 果皮 放置 酒桶 进行 低温 发酵 咖啡 发酵 过程 吸收 不同 形成 特殊 风味 常见 洪都拉斯 雪莉桶 洪都拉斯 荔枝 洪都拉斯 圣荷西 庄园 朗姆 酒桶 发酵法 添加 类厌 处理 这类 处理 通常 厌氧 处理 过程中将 咖啡豆 某种 物质 进行 共同 发酵 添加物 风味 影响 咖啡 生豆 通常 酵母 发酵法 乳酸菌 发酵法 近年来 地区 尝试 水果 发酵法 水果 浓缩 果汁 咖啡豆 共同 发酵 洛阳 美食 洛阳 吃喝玩乐 洛阳 网红 美食 洛阳 美式 咖啡 洛阳 旅游 洛阳 洛阳 攻略 洛阳 小店 洛阳 美式 攻略 洛阳 正大 广场\n",
          "旅游 美景 河南 文化 寻城 芒辰 旅游 龙门石窟 位于 河南 洛阳 境内 国家 5A 旅游 景区 中国 石刻 艺术 宝库 龙门 山清水秀 景色宜人 列入 洛阳 八大 景之冠 有东 两座 青山 对峙 河水 从中 穿流 远望 犹如 一座 天然 古称 伊阙 自古以来 为游 龙门 第一 景观 龙门石窟 开凿 于北 魏孝文帝 年间 之后 历经 东魏 西魏 北齐 五代 宋等 朝代 连续 大规模 营造 余年 南北 长达 公里 存有 造像 万余尊 碑刻 题记 余品 龙门 二十品 书法 魏碑 精华 褚遂良 所书 伊阙 佛龛 之碑 初唐 楷书 艺术 典范 洛阳 巴郎 游記\n",
          "一份 夏日 防暑降温 知识 及时 补充 水分 均衡 营养 喝水 少量多次 每次 毫升 为宜 剧烈运动 不宜 喝过 冷饮 杂粮 粗粮 水果 蔬菜 单身 青蛙 室内外 温差 不可 过大 空调 温度 不要 设置 以下 家里 保持清洁 通风 凉爽 不要 快速 冷却 外出 回到 室内 不要 立刻 电扇 空调 冷水澡 全身 毛孔 快速 闭合 体内 热量 反而 难以 散发 还会 导致 脑部 血管 迅速 收缩 引起 大脑 供血 不足 使人 头晕目眩 做好 防晒 高温 外出 做好 防护 尽量减少 户外活动 夏季 防暑降温 小常识 夏季 防暑 小妙 科普 知识 健康 科普 方式 生活 碎片 暑假 旅游 洛阳 洛阳 凤翔 温泉 旅游区 洛阳 旅游 说走就走 旅行\n",
          "一篇 旅游 短文 一时冲动 周五 洛阳 实习 zjj 实习 十来天 中午 下课 以后 高铁 高铁 已经 接近 傍晚 没来 吵架 洛阳 美食 结论 千万别 饿着肚子 洛阳 应天门 和丽景门 感叹 祖国 古建筑 洛阳 不愧 历史 古城 行程 来去匆匆 第一天 觉得 一点 后悔 第二天 恰逢 周末 休息 同学 一起 老君山 市区 出发 高速 两三个 小时 中间 新手 zjj 同学 想开 一段路 没出 停车位 一辆车 轮胎 大事 插曲 hhh 赘述 已经 中午 大锅 爬山 中间 省略 幸亏 来回 索道 可能 没命 下山 达到 山顶 以后 直接 瘫坐 地上 狼狈 ing 很多 一件 斗篷 后面 zjj 室友 幸运 看到 美的 日落 不幸 最后 下山 时天 已经 累死累活 最后 最后 山下 民宿 End\n",
          "洛阳 身边 老君 之奇 成为 大道 魏小安 栾川 老君山 评价 惊艳 整个 旅游界 旅游界 魏小安 先生 一行 来到 老君山 景区 考察 调研 领略 老君山 华美 旖旎 自然风光 博大精深 文化 之后 老君山 做出 高度 评价 老君山 顶峰 天界 五宫 云雾 蒸腾 时隐 时显 建筑 大气 细节 精致 文化 现代 表现 堪称 奇观 原有 四大 道山 评价 崆峒 之源 龙虎 之兴 青城 武当 今天 一句 老君 之奇 成为 大道 老君山 再次 惊艳 整个 旅游界 河南 美景\n",
          "下午 第二节 计算机课 看见 美好 景色 突然 想到 为啥 夕阳 情有独钟 美好 晒太阳 写书 想到 跨文化 交际 老师 常识 喜欢 提提 打瞌睡 西方 旅游 用心 感受 中国 旅游 拍照 西方 放假 时间 很多 物质条件 充裕 中国 时间 往外 只能 镜头 记录 弥足珍贵 空隙 突然 想到 元旦 洛阳 龙门石窟 那天 白天 很暖货 毕竟 冬天 有点 冬天 样子 俩个 全过程 拍照 后来 疲倦 冻手 手机 电量 不足 下课 絮絮叨叨 快乐\n",
          "充充 世界 大姐 副业 养民 宿挺过 明年 春暖花开 每年 冬天 河南 洛阳 重渡 景区 淡季 今年春节 民宿 老板娘 孙军范 打算 破例 营业 孙军 范干 旅游 已有 多年 年底 多万 装修 民宿 准备 大干一场 遭遇 疫情 生存 孙军范 学习 拍摄 记录 生活 意外 山村 日常 受到 网友 喜爱 年里 靠着 野菜 木工 蜂蜜 不务正业 带来 收入 孙军范 顶住 还贷 压力 累计 投入 五六十万元 进一步 升级 设施 民宿 落后 市场 时代 时刻 准备 重启 回归 主业 河南 民宿 老板娘 回应 旅游业 现状\n",
          "要说 旅行 关心 洛阳 来说 洛阳 周末 洛阳 假期 洛阳 好玩 夏天 洛阳 避暑 几个 问题 洛阳人 假期 最常 搜索 关键词 正值 暑假 孩子 家人 旅游 放松 休闲 避暑 位于 栾川县 狮子 庙镇 国家 4A 宝藏 景区 听过 可能 绝对 称得上 洛阳 适合 避暑 玩水 消夏 景区 洛阳 王府 竹海 度假 旅游区 整个 景区 茂林修竹 飞瀑 流泉 伏牛山 腹地 自然景观 基础 休闲 养生 旅游观光 主题 目前 已经 基本 造成 栾川县 一新 网红 旅游 打卡 胜地 夏天 尤其 凉快 夏季 景区 平均气温 平均 海拔高度 之间 适宜 人类 居住 海拔高度 冬暖夏凉 气候宜人 王府 竹海 度假 旅游区 洛阳\n",
          "泉州 印象 华而 不燥 泉州 城区 游玩 几天 西街 文庙 开元寺 承天寺 关岳庙 时间 原因 洛阳桥 泉州 城内 寺院 众多 晋江 河畔 漫步 见到 岸上 供奉 龙王 焚香 石塔 喜欢 泉州 美食 游玩 五天 竟然 五斤 好家伙 一天 一斤 回到 北京 想着 法子 艰难 减肥 印象 最深 晋江 梧林 传统 村落 古老 榕树 红色 洋楼 相得益彰 营造 一种 精神 升华 环境 网上 闽南 红色 文化 一年 之后 我会 海岸线 一次 自驾 旅行 一起 从头 泉州 2022.12 传统 文化 泉州\n",
          "此次 四天 旅行 已经 结束 以往 不用 这次 大学 同学 一起 毕业 一年 小聚 组团 旅游 实属 不易 一年 过程 很多 同学 逐渐 失去 联系 只能 朋友 圈里 互动 再次 见到 许久 未见 同学 熟悉 扑面而来 此次 旅程 行程 丰富 龙门石窟 感受 石窟 大佛 庄严 不经 令人 思考 古代 雕刻 匠人 巧夺天工 技艺 水平 精湛 部分 佛像 损坏 被盗 感到 惋惜 洛阳 博物院 感受 一座 城市 历史 文化底蕴 深厚 看到 一代 女皇 武则天 登基 冒天下之大不韪 开创 伟业 留下 无字碑 废除 帝号 多么 勇气 魄力 应天门 洛邑 古城 感受 当地 汉服 文化 发展 包容 大家 汉服 登上 应天门 仿佛 穿越 置身于 大唐 盛世 之中 老君山 感受 会当 凌绝顶 一览 众山 山外 有山 层峦叠嶂 诗词 代表 含义 五岳 归来 不见 雄伟壮观 折服 舞钢市 见到 大学 兄弟 登山 看水 烧烤 最令 感动 兄弟 老家 看看 曾经 成长 地方 生活 地方 翻开 毕业 看到 成长 蜕变 激动 郑州 时间 匆忙 汽车站 火车站 附近 下次 到来 留下\n",
          "浪漫 龙华 清凉 世界 洛阳 龙华 水上 乐园 位于 伊滨区 东边 龙镇 高崖 洛阳市 新区 公里 乐园 生态 开发 主题 休闲 游乐园 园内 设有 喇叭 滑梯 冲天 回旋 滑梯 太空 滑梯 海浪 环流 儿童 水池 游乐 设施 满足 全家人 休闲 娱乐 避暑 要求 旅游 线路 登封 方向 游客 自驾车 国道 偃洛 快速通道 立交桥 向西 1.5 公里 巩义 方向 游客 自驾车 国道 顾县 沿偃洛 快速通道 向西 公里 洛阳 方向 游客 自驾车 开元 大道 向东 沿洛 快速通道 向东 公里 郑州 西安 方向 游客 自驾车 高速 洛阳 东转二广 高速 洛阳 关林站 向东 公里 偃师 方向 游客 自驾车 顾县 沿偃洛 快速通道 向西 公里\n",
          "洛阳 行走 伊川 鹤鸣 天界 仙谷 国家 AAA 景区 鹤鸣 风景区 伊川 八大 诗经 鹤鸣九皋 声闻 于天 得名 鹤鸣 风景区 位于 伊川县 酒后 南庄 伊川县 公里 九皋 自然 形成 一条 峡谷 悬崖 陡壁 瀑布 流泉 奇石 灵溪 林木 花草 水库 碧潭 组合而成 心动 旅游 鹤鸣 景区 面积 平方公里 集奇 俊秀 一体 小巧玲珑 自然天成 主峰 九皋 山海拔 景区 奇石 危崖 千姿百态 如佛 似仙 如云 似雾 黑龙 望月 鹰嘴 旱地 飞瀑 悬崖 平泄 飞来 形态各异 入冬 观赏 冰挂 冰挂 斧凿 晶莹剔透 蔚为壮观 伊川\n",
          "洛阳 新鲜事 河南 栾川 谷叫 隐心谷 山水 田园 诗画 禅意 一应俱全 隐心谷 栾川 西北 十余里 途径 鸡冠 天河 大峡谷 抱犊寨 三大 景区 门牌 紧邻 古朴 简约 赏心悦目 耐人寻味 谷内 游客 驿站 乡愁 民宿 牛棚 咖啡屋 国学 讲堂 登山 马场 羊圈 荷塘 水系 道场 抚琴 瑜伽 拙耕坞 膳食 一应俱全 心悦 口福 强身健体 修身养性 颐养天年 隐心谷 隐在 变幻 此谷 春天 瑞雪 渐融 生机 渐显 绿意 山花 初绽 夏天 绿树成荫 绿瀑 横流 山花 漫烂 鸟唱 蝉鸣 秋天 金色 满园 锦绣 山峦 蒙蒙 雾雨 水墨 山色 冬天 白雪皑皑 寒气 袭人 登高 而望 原驰 蜡象 栾川 旅游 心动 旅游 洛阳 伊滨\n",
          "每周 一影 怪诞 小镇 暑假 双胞胎 姐弟俩 梅宝 迪普 爸妈 赶到 偏僻 小镇 重力 暑假 斯坦 叔公 经营 一家 专门 敲诈 游客 旅游景点 神秘 小屋 有着 各种各样 稀奇古怪 东西 更让人 感到 毛骨悚然 怪诞 小镇 森林 慎重 头脑 聪明 迪普 觉察到 森林 异样 发现 一本 地下 神秘 笔记本 里面 记载 存在 神秘 小镇 不为人知 秘密 乐天派 梅宝 机智 迪普 结识 神秘 小屋 店员 温蒂 苏斯 遇到 奇妙 小镇 居民 怪诞 小镇 重力 经历 一系列 奇异 事件 小矮人 湖怪 蜡像 通灵者 暑假 注定 平凡\n",
          "洛阳 小浪底 将建 码头 河南省 交通运输 文化 旅游 融合 发展 战略 合作 协议 签约 仪式 洛阳市 举行 该项 协议 涉及 黄河 小浪底 库区 码头 水上 旅游 航道 建设项目 项目 建设 码头 改扩建 小浪底 中心 码头 黄河 三峡 景区 孤山 码头 旅游 客运码头 提升 景区 服务 能力 方便 游客 当地 群众 出行 新建 黄麓 明珠 兼顾 旅游 客运 便民 交通 功能 码头 项目 建设 完工后 库区 形成 三门峡 白浪 码头 小浪底 大坝 全长约 公里 旅游 航道 完善 小浪底 综合 交通 实现 单个 河流 小伙伴 是不是 非常 期待\n",
          "不良 看起来 整修 一下 不错 景点 度假村 腾出 屋子 客栈 接待 游客 秉烛 年代 不良 井人 迈向 美好生活 一条 不良 井能 劣势 发挥 优势 井下 水上 唐朝 Venice 不见天日 避暑山庄 晚上 挂点 红灯笼 夜市 高低不平 地势 特色 错落 别致 屋子 逛起来 有趣 锻炼身体 坐船 收费 提供 就业 岗位 船夫 小时 收费 水上 线路 不良 一圈 观光 鸭子 饲料 一包 一钱 随便 东西 往水里 垃圾 罚款 水上 划船 特色 推广 出去 可不是 有井才 特产 琼锅 干巴 .. 不良 秉烛 继承 阿娘 手艺 .. 王瞪成 开办 琼锅 制作 辅导班 旅行社 先开 两种 团神 三日 仅神 全程 住宿 客栈 四日游 不良 一天 住宿 不良 四日游 平均 下来 每天 三日 便宜 浪里 小白龙 白浪 能说会道 导游 算个 稳定 饭碗 恐怕 上头 支持 狠狠 操心 圣人 旅游局 疯队 不良 扶贫 建议 风起 洛阳\n",
          "今年 寒假 星期 明天 考完试 先飞 广州 见见 老友 鹏程 看看 表叔 新生 小娃子 广东 暖和 度假 两天 差不多 一周 郑州 见见 小学 初中 高中 老同学 聚餐 聊聊天 两天 饭局 差不多 一周 时间 洛阳 看望 一下 长辈 爷爷奶奶 外公 外婆 七大姑八大姨 坐坐 最起码 一周 时间 寒假 旅游 自驾游 边玩 最起码 一周 时间 过年 北京 参加 家庭 大聚会 初二 初三 稍微 休息 一下 初四 初五 走走 亲戚家 一周 时间 寒假 安排 很多 自由 时间 最起码 安排 充分 每天 过成 样子 充实\n",
          "洛阳 洛神 景区 开启 休闲 养生 新体验 水上 乐园 温泉 洗浴 泡泡 派对 泼水 大战 3D 灯光 梦回 洛神 综艺 演出 系列 休闲 旅游 踩线 活动 精彩 上演 洛神 文化 主题 餐饮 住宿 温泉 洗浴 红桥 游泳 乐园 水上 乐园 沙滩 乐园 开心 乐园 快艇 游船 休闲 度假 会议 研学 演艺 一体 综合性 山水 文化 旅游 景区 每天 上演 3D 灯光 音乐 喷泉 泼水 大战 泡泡 派对 雾森造 空降 飞雨 洛神 演艺 精彩 综艺 演出 盛夏 避暑 家庭聚会 休闲 娱乐 研学 拓展 首选 胜地 夏天 乘凉 玩水 沐浴 休闲 好去处 优美 环境 齐全 功能 超值 价格 良好 服务 流连忘返 温泉 洗浴 全面 装修 升级 日式 风格 温泉 洗浴 户外 汤池 内部 超大 更衣 影视 休息厅 榻榻米 休息区 吊椅 休闲 特色 儿童 游乐 特色美食 每位 来此 体验 顾客 啧啧称赞 夏季 包含 户外 已经 全面 打通 游泳 乐园 沙滩 乐园 水上 乐园 票面价值 活动 体验 暑假 期间 广大 消费者 推出 优惠活动 张团 购价 使用期 日前 以后 户外 温泉 汤池 全面 启用 日前 玩水 后来 泡温泉\n",
          "海边 修车铺 简单 科普 洛阳市 简称 别称 洛邑 洛京 河南省 地级市 洛阳市 总面积 平方公里 市区 面积 平方公里 河南省 西部 东西长 公里 南北宽 公里 横跨 黄河 中下游 南北 两岸 东邻 郑州市 西接 三门峡市 北跨 黄河 焦作市 接壤 平顶山市 南阳市 相连 洛阳市 多年 文明史 多年 城市 多年 建都 五六十 万年前 旧石器时代 已有 先民 洛阳 繁衍生息 禹划 九州 河洛 属古 豫州 洛阳 华夏 文明 发祥地 丝绸之路 东方 起点 隋唐 大运河 中心 历史 先后 十多个 王朝 洛阳 建都 洛阳市 暖温带 大陆性 季风气候 年均 气温 12.2 24.6 洛阳市 地势 西高东 境内 山川 丘陵 交错 地形 复杂 山区 45.51% 丘陵 40.73% 平原 13.8% 洛阳市 境内 主要 河流 黄河 洛河 伊河 汝河 洛阳市 二里头 遗址 偃师 商城 遗址 周王城 遗址 汉魏 洛阳城 遗址 隋唐洛阳城 遗址 遗址 截至 洛阳市 共有 旅游 景区 4A 以上 景区 别名 西亳 洛邑 雒阳 洛京 京洛 欢迎 大家\n",
          "少林寺 河南 旅游 洛阳 玩耍 拐到 少林寺 转转 认真 不好 名气 地方 交通 发达 最好 方式 开车 五一 出行 停车 痛苦 大众交通 之前 室友 总和 少林寺 很小 以为 很小 可能 是因为 名气 故事 大家 错觉 特别 整个 建筑 寺庙 差不多 嵩山 环境 特别 天然 氧吧 观光车 走路 单程 半个 小时 其实 不是 膝盖 不好 觉得 走走 嵩山 依旧 小盖盖 允许 最后 一下 路线 小伙伴 启发 蛮难 顺风 洛阳 直接 少林寺 开车 大哥 特别 提醒 出来 之后 看到 公路 停车场 盛况 出来 少林 公交 登封 车站 大巴 郑州 轻轨 一站 开封 轻轨 特别 舒服 少林寺 河南 旅游 郑州 少林寺\n",
          "洛阳 民宿 绝美 古风 民宿 汉服 免费 七七 最近 洛邑 古城 发现 一间 美的 古风 民宿 古风 元素 现代 设计 相结合 最最 吸引 它家 超多 汉服 随意 挑选 试穿 免费 体验 随意 拍照 旅游 小姐姐 一定 这家 穿着 美美 民宿 景区 拍拍 简直 穿越时空 少女 老板 民宿 九曲 观堂 灵感 来源于 母亲河 黄河 民宿 七间 一间 餐厅 一间 大堂 共个 空间 代表 黄河 流经 九个 每间房 装潢 体现 不同 省份 代表 元素 创意 韵味 十足 古风 元素 现代 设计 相结合 仿古 建筑 外观 庭院 天井 原木 青石 黄铜 材质 运用 仿佛 穿越时空 现代化 设施 入住 体验 智能家居 进口 卫浴 JBL 音响 坚果 投影 满满的 科技 店里 汉服 款式 可选择性 很大 关键 入住 民宿 完全免费 体验 穿着 景区 随意 造型 景区 汉服 体验 限时 收费 完全 手机 没电 大厅 休闲 区域 提供 茶台 泡茶 手冲 咖啡 私密 会议室 书架 围棋 吉他 电脑 一应俱全 营养 丰富 早餐 供应 酒店 对面 洛阳 美食 老字号 劲松 卤肉 他家 肉夹馍 强烈推荐 景区 超多 好吃 餐厅 小店 晚上 不要 本地 哥哥 小姐姐 周末 三五 好来\n",
          "河南 围绕 大运河 出台 重磅 规划 郑州 洛阳 开封 将成 运河 示范 城市 省政府 新闻办 发布 河南省 大运河 文化 保护 传承 利用 实施规划 河南 大运河 迎来 发展 机遇 规划 划分 核心区 拓展 辐射区 核心区 大运河 主河道 流经 拓展 区指 主河道 流经 洛阳 郑州 开封 商丘 焦作 新乡 鹤壁 安阳 濮阳 省辖市 核心区 以外 地域 范围 辐射区 包含 核心区 拓展 之外 省域 范围 空间布局 谋划 两轴 三极 片区 规划 实施 期为 远期 展望 大运河 文化遗产 实现 全面 保护 大运河 水量 保证率 进一步提高 实现 适宜 河段 旅游 通航 生态 空间布局 基本 形成 河湖 水质 明显改善 大运河 旅游 基础设施 条件 公共服务 保障 能力 显著 改善 一批 文化 旅游 精品 线路 大运河 统一 品牌 基本 形成 河南 围绕 大运河 出台 重磅 规划 郑州 洛阳 开封 将成 运河 示范 城市\n",
          "可能 大家 DADA 音节 招商 误区 一定 企业 一定 重金 一定 门面 可能 大家 展位 自由 集市 了解 简单 粗暴 一把 抓住 每天 竟敢 DADA 音节 无关 卖美牙仪 蹦迪 不用 露牙 开口笑 面膜 蹦迪 需要 脸部 持久 滋润 健身房 蹦迪 需要 露人 鱼线 马甲 烟酒 蹦迪 难道 社会 二手烟 卖茶 阿胶 蹦迪 需要 养生 保健 潮牌 服装 蹦迪 需要 潮装潮 超自 棒棒糖 零食 蹦迪 无处 安放 孩子 女朋友 需要 纹身 永久 这辈子 一次 机会 防晒霜 驱蚊 玩具 槟榔 披风 帽子 ....... 就算 尴尬 不信 出手 DADA 电音 招商 依旧 火热 进行 ..... 扫描 二维码 了解 招商 详情 唯漫 文化 DADA 音节 洛阳 同城 洛阳 身边 火爆 招商\n",
          "洛阳 旅游 种草 计划 隋唐 遗址 植物园 洛阳 洛阳 旅行 露营 隋唐 遗址 植物园 城市 露营 家门口 聆听 自然 声音 感受 远方 指定 露营 区淳 广场 草坪 免费 露营 自带 帐篷 餐食 开启 一场 轻松 惬意 露营 野餐 野趣 景园 草坪 精致 轻奢 露营 提供 露营 装备 餐饮 餐具 租赁 服务 包括 帐篷 天幕 下午茶 晚餐 套餐 自带 轻装上阵 租赁 体验 夏日 夜晚 三五 好友 一片 属于 小小 空间 晚风 美景 音乐 电影 感受 躺平 带来 轻松自在 注意事项 自带 帐篷 占地面积 小于 高度 超过 1.5 不得 使用 脚钉 固定 禁止 焚烧 物品 使用 明火 加热 装置 煮食 不得 破坏 草坪 周边 设施 露营 时间 仅限 公园 开放 时间 允许 过夜 远离 喧嚣 忘掉 烦恼 品茶 赏荷 呼吸 新鲜空气 聆听 自然 声音 夏天 起来 隋唐 露营 洛阳 隋唐 遗址 植物园\n",
          "南阳 旅游 十一 发团 路线 淅川 线路 坐禅 船游 小三峡 成人 儿童 八仙洞 船游 小三峡 成人 儿童 方城 线路 方城 七十二 成人 儿童 西峡 线路 恐龙 老君 成人 儿童 恐龙 龙潭 成人 儿童 恐龙 地下河 成人 儿童 洛阳 线路 龙潭 大峡谷 海洋馆 成人 儿童 湖北 线路 绿林 美人谷 日游 成人 儿童 漳河 唐城 日游 成人 儿童 漳河 莫愁 日游 成人 儿童 尧山 线路 尧山 福泉 日游 成人 儿童 以上 线路 天天 发团 大量 位置 代办 门票 欢迎 走单 一团\n",
          "洛阳 旅游 洛阳 白云山 滑雪场 上午 位于 洛阳市 嵩县 洛阳 白云山 冰雪 乐园 滑雪场 正式 启动 洛阳 白云山 冰雪节 拉开帷幕 专业 滑雪 团队 少儿 表演队 成员 如同 林海雪原 英雄 滑雪板 硕大 滑雪场 自由 穿梭 磨擦 磨擦 滑板鞋 洛阳 白云山 滑雪场 景区 白云 景点 相邻 滑雪场 海拔 面积 平方米 接纳 包含 双板 雪具 儿童 雪具 一家 冬季 观光 丛林 滑雪 休闲 度假 一体 滑雪 乐园 运动 教室 高颜值 小姐姐 犹豫 起来 洛阳 关林镇\n",
          "新华网 评网 景点 胜景 不再 藏于 深山 但别 网红 贬义 一句 人间 惊鸿 老君 山顶 泡面 全国 游客 慕名 来到 洛阳 老君 山顶 泡面 打卡 景区 深陷 遍地 垃圾 舆论 漩涡 网络 走红 带来 人流 剧增 考验 景区 管理 能力 服务 配套 老君山 还要 商家 游客 做好 配合 事件 进一步 引发 人们 网红 景点 热议 有人 网红 景点 过度 美化 值得 有人 说红有 道理 看看 其实 老君山 景区 官方 回应 老君 山顶 泡面 游客 自我调侃 游客 长途跋涉 不是 山顶 一桶 泡面 一场 老君山 雪景 盛宴 3D 魔幻 城市 重庆 西安 大唐 不夜城 青海 茶卡盐湖 洛阳 老君山 雪景 网络时代 美好 事物 更加 直接 迅速 地被 大家 了解 喜爱 网红 二字 很多 藏于 深山 胜景 得以 面世 当地 旅游 经济 带来 出路 旅游业 释放 消费 潜力 扩大内需 重要 支撑 网红 景点 兴起 一定 程度 反映 旅游 消费 增长 态势 各类 景区 抓住机遇 借助 网红 经济 东风 深度 挖掘 潜力 想要 长久 红火 下去 需要 景区 东西 无论如何 不能 引流 虚假 宣传 网红 折腾 贬义词\n",
          "人间仙境 白云山 高速 免费 旅游 有礼 白云山 嬉水 玩瀑 夏季 不再 怕热 激烈 欢快 鼓舞 表演 富有 民族风情 服装 歌舞 五彩斑斓 水球 大战 民歌 对唱 竹竿 表演 湿身 游戏 互动 白云山 森林 嬉水 欢乐 启动 今年 暑假 洛阳 白云山 心动 指数 爆表 冰爽 指数 爆表 置身 高空 森林 氧吧 不用 熟人 就要 别人 羡慕 嫉妒 千姿百态 多级 瀑布群 嬉水 玩瀑 透心凉 妈妈 再也 担心 中暑 好多 好玩 活动 参加 暑期 期间 高速公路 过路费 免单 太给力 温馨 提示 日至 洛阳 白云山 朋友 从洛栾 高速 嵩县 下站 享受 河南省 省内 高速 过路费 免单 政策 路线 指南 洛栾 高速 旧县 下站 洛阳 白云山 米奇 比心\n",
          "旅游 个人 偏向 洛阳 千年 帝都 洛阳 历史 更加 深厚 洛阳 有山有水 无论是 人文景观 山水 景观 洛阳 略胜一筹 人文景观 洛阳 龙门石窟 大热 景点 河南 云台山 估计 龙门石窟 出名 白马寺 关林 白云观 风穴 汉光武帝 定鼎 遗址 公园 名胜 估计 众多 数不胜数 山水 自然景观 洛阳 白云山 风景区 鸡冠 老君山 龙潭 大峡谷 重渡 非常 有名 个人 建议 一定 老君山 重渡 看看 河南 旅游 推荐 城市\n",
          "泽行 视界 旅行 玩转 甜品 有心 生活 处处 惊喜 不经意 邂逅 后院 咖啡 老式 门窗 铃铛 作响 空气 飘散 咖啡 独有 醇香 衣着 讲究 笑容 甜甜的 店员 哥哥 更是 增添 一份 想要 走进 好好 探究 感受 味道 说真的 不是 身临其境 想不到 咖啡馆 别有 洞天 每一处 摆设 物件 充满 治愈 设计 整个 瞬间 时间 只想 陶醉 流连 其间 成想 遗忘 物件 组合 起来 韵味 忙碌 之余 闲暇 周末 想要 几位 朋友 陪陪 最爱 听听 轻音乐 喝杯 咖啡 随意 搭配 几种 单品 小吃 谈天 侃地 放松 心情 这才 生活 最本 样子 闲有 味道 风景 故事 融合 里边 洛阳 身边 旅游 旅游 行走 迈克尔 洛阳 偃师 城关镇\n",
          "洛阳 回来 第二天 提首 今天 算是 差不多 真是 熬过 三年 疫情 最终 没逃过 查漏 补缺 最近 好多 大家 一定 注意 防护 主要 刀片 太太 太难受 这次 洛阳 两天 好多 好吃 有种 特种兵 旅游 味儿 下次 机会 几天 慢慢 玩才 有意思 洛阳 服装 造可真 便宜 据说 洛阳 六百多 家汉 服装 飞起 一定 对比 几家 时间 一家 装造 流水线 比较 糊弄 几十块 钱到 一百多 体验 一把 穿着 汉服 拍拍 一天 洛阳 汉服 不用 担心 尴尬 随处可见 穿越 小姐姐 天气 太热 难受 几天 整个 人快 热化 找个 凉快 季节 才能 体验 感拉满 p4 小车 牛肉 好吃 可惜 背着 去逛 下午 龙门石窟 晚上 回到 北京 已经 牛肉 心痛\n",
          "洛阳 洛阳 身边 洛阳 伏牛山 滑雪 度假 乐园 国家 AAAA 景区 位于 栾川县 城西 公里 最高 海拔 度假 乐园 海拔 占地面积 平方公里 一家 户外 滑雪 室内 滑雪 滑冰 高山 观光 湖滨 休闲 度假 一体 四季 旅游 度假胜地 四季 冰雪 乐园 四季 恒温 常年 低于 零下 场馆 白雪皑皑 雪花 飞舞 融入 尽享 四季 滑雪 浪漫 激情 观光 缆车 直达 高山 观光区 风景 气势 雄浑 风姿绰约 延绵 揽秀台 望仙阁 情侣 观景台 不同 角度 欣赏 八百里 伏牛山 洛阳 爆料 洛阳 豫见 栾川\n",
          "南阳 南阳 山水 周边 发团 线路 一日游 七十二 一日游 发团 畅收 武当 大明 一日游 发团 畅收 坐禅 丹江 游船 一日游 发团 畅收 恐龙 龙潭 沟游 一日 玫瑰 恐龙 老君 一日游 两日游 漳河 莫愁 二日游 发团 畅收 洛阳 白云山 二日游 发团 畅收 洛阳 龙潭 二日游 发团 畅收 台儿庄 冰雪 世界 3.8 发团 畅收 三日 山水 恩施 恩施 一号 自驾 七十二 恐龙 南阳 旅游 高端 纯玩 四日游 苏沪杭 南京 金茂 大厦 每周 周五 发团 西藏 双飞 七日 南阳 内乡\n",
          "再谈 旅游 庆幸 拉萨 疫情 爆发 之前 回到 家乡 大家 带来 不必要 麻烦 回顾 近几年 旅行 足迹 感受 大西北 广袤 无垠 游历 甲天下 漓江 山水 体验 泸沽湖 浪漫 大理 慵懒 不用说 这次 雪域 高原 蓝天白云 冰峰 湖泊 感官 心灵 得到 极大 满足 些许 思考 接下来 不会 自然风光 追逐 重点 目光 转向 人文 历史 感受 伟大祖国 几千年 沉甸甸 文化 之美 之前 武则天 洛阳 西安 看看 都城 皇家 帝陵 两天 林语堂 老先生 苏东坡 四川 眉山 眉州 探访 苏轼 故居 杭州 体会 西冷 印舍 和良渚 文化 原来 欲望 无止境 慢慢来 实现\n",
          "远远 望去 金字塔式 尖儿 尖儿 前边 层峦叠嶂 山峦 一层 一层 一眼 望去 特别 层次感 季节 变幻 不同 山色 呈现 美轮美奂 雨过天晴 连阴雨 山谷 里会 升腾 云雾 若隐若现 山巅 显得 格外 仙气 飘飘 意境 特有 地貌 形态 形成 常有 气候 景象 地方 起名叫 云崖 希望 来龙峪湾 国家 康养 基地 人们 有幸 看到 描述 奇特 美景 遇见 美好 康养 龙峪湾 旅游 无与伦比 美丽 洛阳 身边 女生 旗袍 龙峪湾 度假区\n",
          "河南 旅游 冬天 依然 抵挡不住 热爱 旅游 出去 旅行 洛阳 景区 很多 特色 价格 优惠 景区 栾川 王府 竹海 景区 河南 为数不多 竹林 特色 景区 景区 最大 特色 漫天 竹海 高山 瀑布 重渡 千亩 竹林 景区 相比 下来 价格 略贵 性价比 还要 王府 竹海 冬季 景区 可能 光秃秃 很少 绿色 王府 竹海 竹林 特色 景区 最不缺 竹子 竹子 一年 四季常青 一种 植物 觉醒 望去 看到 青白 相间 竹子 看到 景色 一天 心情 美好 疫情 去一趟 寒冷 冬天 感受 绿色 该是 多么 惬意 一件 王府 竹海 度假 旅游区 河南 旅行 洛阳\n",
          "冬天 洛阳 白云山 冰雪节 开幕 洛阳 白云山 冰雪 乐园 滑雪场 现代 生活 元素 美不胜收 原生态 自然 景色 淳朴 民风 完美 融合 雪场 面积 平方米 接纳 包含 双板 雪具 儿童 雪具 一家 冬季 观光 丛林 滑雪 休闲 度假 一体 滑雪 乐园 滑雪场 开业 期间 成人 优惠价格 小时 限时 儿童 优惠价格 小时 限时 即日起 洛阳 白云山 旅游 度假区 针对 所有 游客 实行 门票 优惠政策 洛阳 白云山\n",
          "最美 环卫工 传递 能量 下午 一位 外地 游客 洛阳 王府 竹海 景区 游玩 之际 禁不住 美景 诱惑 手机 拍照 一不小心 手机 掉入 水流 湍急 瀑布 之中 一下子 不见踪影 正当 万分 焦急 无从下手 打捞 景区 环卫工 梁石旦 见此 状况 二话不说 毫不犹豫 跳进 急流 之中 摸索 搜索 终于 游客 心爱 手机 出来 递给 游客 此时此刻 脸上 充满 不知 焦急 汗水 飞溅 高山 泉水 衣服 鞋子 浸湿 抬头 那一刻 充满 褶皱 满脸 透露 出来 纯真 质朴 神情 感染 看得出 此刻 内心 找寻到 游客 手机 显得 分外 激动 周边 游客 环卫工 梁石旦 竖起 大拇指 口中 称赞 以前 总在 音里 看到 王府 竹海 景区 景美 这趟 不虚此行 没想到 景美 名副其实 人美 更让人 感动不已 打动 内心 更是 王府 竹海 度假 旅游区 传递 能量 世界 充满 杭州 西湖 景区 回应 高价 手机\n",
          "广州 旅行 解锁 春光 密码 春暖花开 仙门 奇峡 七仙女 来次 约会 位于 韶关 乳源瑶族自治县 洛阳镇 境内 仙门 奇峡 景区 前往 大峡谷 景区 必经之地 山水 岩溶地貌 仙踪 奇迹 道教 文化 仙人桥 一体 绝对 周末 不错 选择 天下第一 仙门 奇观 传说 盘古 开天辟地 女娲 来到 仙门 奇峡 乳源 七彩 石补天 形成 今天 仙门 仙人桥 仙门 连接 峡谷 两侧 中间 一座 巨大 天坑 十分 壮观 分钟 峡谷 水上漂 竹筏 漂流 雅玛 秀水 峡谷 下游 玛湖 湖水 清澈见底 湖面 平静 如镜 分钟 泛舟 湖上 饱览 情侣 两岸 迤逦 风光 漫步 广东 最早 驿道 西京 古道 始建 西汉 建元 六年 公元前 西京 古道 汉武帝 时期 岭南 各地 通往 京都 必经之道 沿途 村庄 密集 桥梁 凉亭 村宅 保存 良好 上山下海 茵茵\n",
          "儿童 几岁 游泳 最好 宝妈 宝爸 必看 每个 孩子 天生 游泳 出生 生活 环境 改变 这项 技能 逐渐 遗忘 现阶段 婴儿 游泳馆 非常 很多 家长 热衷 小宝宝 游泳 孩子 游泳 越早 儿童 游泳 不是 越早 每个 孩子 身体状况 不同 学习 游泳 最好 过早 下水 游泳 孩子 可能 出现 感染 情况 婴儿 游泳 实际上 只能 起到 锻炼 作用 不能 孩子 学会 游泳 儿童 游泳 最佳 年龄 年龄段 孩子 已经 记住 事情 能够 表达 想法 这一 年龄段 孩子 学习 能力 很快 学会 游泳 科普 知识 第一次 游泳 清凉 一夏 仲夏 清凉 计划 说走就走 旅行 方式 游泳 儿童 水上 乐园 夏日 暑期 旅行 计划 洛阳 洛阳 凤翔 温泉 旅游区 亲子\n",
          "洛阳 周末 节假日 洛阳 这次 游玩 栾川 王府 竹海 度假 旅游区 青山绿水 蓝天白云 空气 特别 清新 玩得 开心 强烈推荐 郑州 出发 开车 大约 半小时 后面 山路 有点 游览 顺序 彩鳞池 双龙 双妃 玉梳 珍珠 流苏 大王峰 门票 目前 单人 门票 平台 景点 天空 之境 上面 宛如 身在 半空 天空 白云 融为一体 脚下 玻璃 映射 纯粹 蔚蓝 天空 仿佛 梦境 非常适合 拍照 飞天 魔毯 之后 不用 费力 台阶 轻轻松松 到达 山上 远处 望去 风景 电影 眼前 闪过 非常 唯美 滚珠 滑道 滑道 全长 透明 玻璃 滚珠 滑道 高空 盘旋 全程 惊险 刺激 坡度 不大 不至于 受到 惊吓 最得 孩子 年轻人 喜爱 景区 特色美食 虹鳟鱼 地锅 蘑菇 农家乐 家常 饭菜 合胃 一定 一晚 早上 空气 混着 竹子 清香 感到 特别 舒适 游览 时间 两天 足够 家乡 风光\n",
          "雨辰 世界 小浪底 水利枢纽 黄河 小浪底 风景 旅游区 位于 洛阳市 孟津县 济源市 边界 黄河 南北 两岸 交通 十分 便利 小浪底 名称 来源于 小浪底 水利枢纽 工程 勘探 选址 洛阳市 孟津县 马屯乡 更名 小浪底 小浪底 故而 得名 黄河 小浪底 遗憾 今年 没能 看到 调水 放沙 3O 一天 ps 交通 指南 一运 汽车站 直达 景区 公交 票价 全程 买票 保险费 大约 小时 左右 景点 西门 返程 景点 东门 乘坐 公交 分钟 一班 末班车 下午 左右 济源 黄河 小浪底 水利枢纽 风景区\n",
          "洛阳 栾川 老君山 风光 老君山 又名 景室 国家 AAAAA 旅游 景区 位于 河南省 洛阳市 栾川 城郊 秦岭 余脉 八百里 伏牛山 主峰 海拔 道教 始祖 老子 归隐 修炼 得名 自古 尊为 天下 名山 道教 圣地 中州 地区 天然 动植物 种质 基因库 美誉 号称 洛阳 避暑山庄 栾川 八大 景观 被誉为 君山 奇景 老君山 中国 北方 道教 信众 拜谒 圣地 中原 山水 文化 杰出代表 西周时期 守藏室 李耳 著名 老子 归隐 修炼 道教 太上老君 唐太宗 易名 老君山 沿袭 至今 成为 道教 主流 全真 圣地 老君山 多年 道教 文化 历史 北魏 山中建 纪念 唐贞观 年间 受到 皇封 修建 铁顶 老君庙 明万历 十九年 颁赐 老君山 道经 诏谕 天下 名山 现存 庙宇 顶峰 老君庙 规模 最大 南有 武当 金顶 北有 老君 铁顶\n",
          "洛阳 身边 网友 反映 裴村 吃水难 问题 亟待解决 网友 金刚 裴村 距离 世界 文化遗产 龙门石窟 公里 小康村 村里 人口众多 洛龙区 人口 最多 村庄 年冬 全村 整体 水位 下降 各家各户 水井 出现 不到 村民 生活 受到 严重 影响 挑水 成为 每家每户 必备 村民 网上 发了 缺水 信息 镇政府 给予 缺水 问题 已经 列入 工作 计划 着重 解决 截止 目前 缺水 问题 日益严重 并未 见到 改善 村里 临时 自来水管 是从 街道 排污 里面 铺设 饮水 安全 问题 亟待解决 文明 河南 洛阳\n",
          "云游 洛阳 Day2 查看 今天 洛阳 气候 适合 户外 行程 龙门石窟 重头戏 登场 查看 各大 官方 旅游 平台 公众 龙门石窟 研究所 一场 非常 专业 讲解 大为 提升 石窟 认识 走进 龙门石窟 刻录 华夏 历史 曾经 强盛时期 模样 万余尊 造像 工匠 千年 时光 斧凿 记载 时代 故事 奉先 大佛 始终 慈祥 注视 一位 来者 简洞 主佛 造像 神韵 卢舍那 大佛 异曲同工 万佛洞 入眼 便是 最美 观世音 窟顶 藻井 文字 记录 女性 故事 文字 参考 上述 机构 介绍 内容 身临其境 龙门石窟 值得 一整 时间 细细 品鉴 云游 模式 节省 时空 周转 线路 洛阳 关林 一并 计划 当天 关林 介绍 较为 匮乏 本期 所有 图片 来自 公开 各大 洛阳 旅游 官方 平台 公众 鸣谢\n",
          "居于 行于 城市 东头 西头 一条 河流 一条 河流 清幽 稳重 人生 两种 状态 每天 东到 跑来跑去 疲惫 城市 一天天 更新 变化 欣喜 新街 曾经 铜驼 暮雨 如幻 美景 地方 清晨 日暮 光线 容易 感受 几百年 两岸 柳绿花红 烟火 遇到 很多 经历 很多 心里 选择 遗忘 记忆 遗忘 构成 人生 复杂 阅历 这种 古城 文化 辉煌 伤痕累累 滋润 城市 灵魂 浓厚 文化 滋养 容易 时光 深处 找到 欢喜 满足 洛阳 春雨 时刻 最美 嘀嗒 嘀嗒 声响 像是 洗刷 过去 伤痕 叩开 神秘 更想 打开 幸福 未来 大门 那声 钥匙 转动 里面 未知 未知 未知 眼睛 看到 一幅 徐徐 展开 美的 画卷 如同 看到 以后 人生 雨润 春色 铜驼 旧事 知是 未来 秋心 新人 无需 沉溺 过往 奔流 向前 微小 雨滴 归于 大海 相爱 灵魂 生离死别 刻骨 事件 变成 朴素 烟火 人间 珍爱 此刻 面向未来 洛阳 洛阳\n",
          "遇见 美好 方式 打开 洛阳 奇妙 洛阳 开箱 上线 倒计时 洛阳 城市 游玩 盲盒 惊喜 来袭 万余份 洛阳 惊喜 时光 奖品 抽取 开箱 福利 尖叫 锁定 洛阳 旅游 免费 盲盒 抽到 过瘾 不仅如此 颜控 福音 洛阳 美好时光 百景 H5 沉浸 感受 洛阳 朝露 晚霞 美景 线下 活动 洛阳 正大 广场 盛大 开启 充满 洛阳 美好时光 奖品 扭蛋机 打印 声音 时光 留声 拍照 打卡 心愿 遇见 向往 时光 奇妙 洛阳 开箱 秋系 氛围 洛阳 旅游\n",
          "小浪底 黄河 小浪底 位于 河南省 洛阳市 济源市 交界 黄河 小浪底 风景区 以下 简称 景区 位于 济源市 西南 公里 洛阳市 以北 公里 总面积 平方公里 水面 平方公里 小浪底 景区 分为 四大 精华 景区 西霞 大坝 湿地 公园 张岭 半岛 度假区 黄河 三峡 四大 景区 特色 各异 东西 相映 恰如 镶嵌 母亲河 四颗 珍珠 成为 世人 瞩目 旅游 热点 景区 获得 荣誉 国家级 水利 风景区 国家 AAAA 旅游 景区 国家级 环保 样板工程 全国 一流 生态旅游 精品 中国 最具 吸引力 地方 河南省 十大 旅游 热点 景区 河南省 十大 美丽 樱花节 入围 美丽 中国 品牌 节庆 中国 最负 国际 盛名 休闲 旅游 节庆 品牌 称号 中原地区 最具 特色 风景线 承德 火神庙\n",
          "洛阳 白云山 绝美 星空 洛阳 白云山 平均海拔 园区 内有 万平方米 华山松 落叶松 森林 空气 负氧离子 含量 小时 均值 立方厘米 中原 海拔 最高 规模 最大 天然 森林 氧吧 盛夏 最高 气温 超过 休闲 度假 清凉 避暑 好去处 旅游 美食 白云山 独有 浪漫 星空 更是 一绝 银河 横跨 天空 宁静 深邃 夜空 令人神往 漫天 星星 白云山 最佳 星星 地点 中原 极顶 玉皇顶 最舒服 星星 地方 森林 木屋 白云 湖畔 看到 月光 星星 倒影 湖中 人生 浪漫 时刻 并不多 浪漫 时刻 却是 终生 记忆 白云山 星星 数星星 童年 浪漫\n",
          "南村 一座 始建 隋唐 风云 之际 兴盛 宋元 刺桐 海上 丝绸之路 千年 古桥 洛阳桥 同命运 辉映 传承 千年 古村落 拥山 沿江 面海 极佳 地理 优势 自然 历史 形成 村内 人文景观 生态景观 江滨 景观 一体 生态 文化 长廊 这座 延续 千年 古村落 洛阳桥 建成 推动 古村落 繁荣 发展 市井 街镇 刺桐 史迹 申遗 成功 南村 迎来 伟大 跨越 历史 机遇 再续 海丝 辉煌 新篇章 清新 福建 文旅之声 泉州市 文化 广电 旅游局 新闻 广角 泉州 旅游 泉州 历史 旅行 泉州 爆料 清新 福建 旅行 随手 泉州 洛阳桥\n",
          "旅行 黄河 旅行 风景 回顾 洛阳 近距离 接近 黄河 河南 山西 多次 来到 不同 地方 黄河 岸边 自驾 一站 一站 黄河 郑州 黄河 文化园 小浪底 水利枢纽 三门峡 水电站 山西 永济 鹳雀楼 壶口瀑布 古镇 旅行 黄河 中华民族 母亲河 郑州 黄河流域 国家 领导人 视察 地方 小浪底 水利枢纽 三门峡 水利工程 黄河 造福 人民 工程 特色 旅游胜地 黄河 岸边 鹳雀楼 唐代 诗人 王之涣 登楼 有感而发 写下 白日 依山 黄河 入海流 欲穷千里目 更上一层楼 记忆 深刻 壶口瀑布 气势 恢弘 心潮澎湃 充满活力 自驾 黄河 一号 公路 来到 吕梁 古镇 周边 李家 西湾 黑龙庙 感到 黄河 积淀 深厚 历史 文化 奔腾 不息 万里 黄河 山峦起伏 黄土高原 吕梁山 绮丽 自然风光 独特 人文景观 交相辉映 收获 满满 景区 一起 出游 榆林 黄河\n",
          "洛阳 呼伦贝尔 旅游 结伴 呼伦贝尔 全境 向导 草原 萨日朗 私人 订制 特色 呼伦贝尔 呼伦贝尔 全境 定制 独家 私房 线路 草原 萨日朗 微信 hlde2003 草原 萨日朗 热爱 旅行 热爱生活 热爱 自然 热爱 美食 向往 自由 喜欢 生活 理念 呼伦贝尔 特色 旅行 深入 草原 腹地 体验 原始 蒙古族 草原 生活 带你去 呼伦贝尔 最美 地方 拒绝 旅行团 打造 真正 购物 平民 消费 草原 独家 线路 玩游 独一无二 草原 线路 无需 攻略 享受 自助游 轻松 快乐 专业 解答 呼伦贝尔 游玩 事项 免费 咨询 解答 私人 定制 旅行 服务 需求 所愿 草原 萨日朗会 尽量 满足 呼伦贝尔 所有 愿望 实现 心中 草原 满意 舒心 旅程\n",
          "北海 新春 基层 北海 春节 消费市场 活力 满满 今年春节 我市 消费 保持 旺盛 势头 餐饮 门店 电影院 消费 加快 恢复 显示 北海 经济 韧性 活力 上午 十点 酒楼 大厅 看到 前来 早茶 市民 络绎不绝 餐台 一桌 难求 数位 食客 大堂 排桌 点餐 市民 女士 来到 感受一下 节日 氛围 热闹 家里 亲戚朋友 一下 游客 周先生 是从 洛阳 北海旅游 想来 体验 一下 北海 当地人 早茶 这种 文化 之前 一次 味道 不错 今天 孩子 尝一尝 酒楼 经理 介绍 茶堂 人流量 基本 恢复 疫情 防控 状况 尤其 春节 期间 翻台率 大大提高 目前 店里 营业额 每天 大幅 提升 餐饮 门店 春节 期间 文娱 生活 消费 十分 火热 北海市 区内 一家 影城 了解 今年 观影 人数 往年 同期相比 增长 明显 年初一 年初三 期间 平均 每天 观影 人次 场次 上座率 基本 达到 40% 55% 部分 黄金 场次 上座率 达到 百分百 北海 影城 经理 陈祖建 今年春节 片子 非常 整体 上座率 提升 北海 市民 观影 氛围 非常 浓厚 本台记者 覃文茜 姜博\n",
          "世界 文化遗产 生态 山水 龙门 金秋 十月 龙门 景区 美呆 看看 这如画 景色 心动 不行 洛阳 本地人 咱有 旅游 年票 一年四季 龙门 不用 门票 是不是 觉得 洛阳人 幸福感 爆棚 旅行 好事 一定 不会 忘记 大家 今年 龙门 景区 推出 每天 免费 门票 送给 游客 政策 邀请 大家 起来 观赏 龙门 举动 是不是 是不是 直接 提醒 大家 防疫 要求 免费 门票 活动 一定 提前 预约 预约 预约 预约 出行 山青水绿 龙门 诗意 满满 秋色 浸染 龙门 龙门 好看 图片 来自 龙门石窟 河南 旅游 龙门石窟 旅游 云台 野人 安庆 塔影 一雙 拖鞋 天涯 河南 洛阳 洛阳\n",
          "旅行 推荐 旅行 冬天 就要 穿过 中国 zui 天门 广东 zui 早古 驿道 仙气 飘飘 不期而遇 旅游 旅游 周末 位于 韶关 乳源瑶族自治县 洛阳镇 境内 仙门 奇峡 景区 山水 岩溶地貌 仙踪 奇迹 道教 文化 仙人桥 一体 绝对 周末 不错 选择 天下第一 仙门 奇观 传说 盘古 开天辟地 女娲 来到 仙门 奇峡 乳源 七彩 石补天 形成 今天 仙门 仙人桥 仙门 连接 峡谷 两侧 中间 一座 巨大 天坑 十分 壮观 分钟 峡谷 水上漂 竹筏 漂流 雅玛 秀水 峡谷 下游 玛湖 湖水 清澈见底 湖面 平静 如镜 分钟 泛舟 湖上 饱览 情侣 两岸 迤逦 风光 漫步 广东 最早 驿道 西京 古道 始建 西汉 建元 六年 公元前 西京 古道 汉武帝 时期 岭南 各地 通往 京都 必经之道 沿途 村庄 密集 桥梁 凉亭 村宅 保存 良好 心动 周末 上山下海 茵茵\n",
          "老君山 又名 景室 国家 AAAAA 旅游 景区 位于 洛阳市 栾川 城郊 秦岭 余脉 八百里 伏牛山 主峰 海拔 道教 始祖 老子 归隐 修炼 得名 自古 尊为 天下 名山 道教 圣地 中州 地区 天然 动植物 种质 基因库 美誉 号称 洛阳 避暑山庄 栾川 八大 景观 被誉为 君山 奇景 一山 四季 十里 不同 君山 北麓 冰未消 水之阳 花艳艳 这是 老君山 生动 写照 废话 不多 图共赏 笔者 天公不作美 阴雨 霏霏 最佳 风景 老君山 海拔 终日 云雾 缭绕 朋友 一定 天气预报 选择 晴好 天气 看到 最佳 风景 山上 风大 气温 带个 外套 御寒 忘记 关系 山上 有租 衣服 洁癖 衣服 老君山 绝对 值得 一游 毕节 黔西县\n",
          "广州 旅行 解锁 春光 密码 春暖花开 仙门 奇峡 七仙女 来次 约会 位于 韶关 乳源瑶族自治县 洛阳镇 境内 仙门 奇峡 景区 前往 大峡谷 景区 必经之地 山水 岩溶地貌 仙踪 奇迹 道教 文化 仙人桥 一体 绝对 周末 不错 选择 旅游 旅游 天下第一 仙门 奇观 传说 盘古 开天辟地 女娲 来到 仙门 奇峡 乳源 七彩 石补天 形成 今天 仙门 仙人桥 仙门 连接 峡谷 两侧 中间 一座 巨大 天坑 十分 壮观 分钟 峡谷 水上漂 竹筏 漂流 雅玛 秀水 峡谷 下游 玛湖 湖水 清澈见底 湖面 平静 如镜 分钟 泛舟 湖上 饱览 情侣 两岸 迤逦 风光 漫步 广东 最早 驿道 西京 古道 始建 西汉 建元 六年 公元前 西京 古道 汉武帝 时期 岭南 各地 通往 京都 必经之道 沿途 村庄 密集 桥梁 凉亭 村宅 保存 良好\n",
          "泉州 洛阳镇 村边 洛阳 平缓 流淌 古老 洛阳桥 静静的 横卧 江面 淡绿 芦苇丛 停泊 一条 渔船 一种 芦花 深处 泊孤舟 寂寞 西晋 南渡 中原 先民 突然 发现 这山 这水 家乡 相像 停下 南迁 脚步 亲切 称呼 洛阳 这条江 洛阳 后来 上架 洛阳桥 古代 四大 名桥 古老 洛阳 今天 闽南语 文化 跨越 地域 灰白 发髻 身穿 老式 盘扣 短衫 老妪 胳膊 竹篮 步履蹒跚 石板桥 走过 2022.3 图片 摄于\n",
          "洛阳 美食 洛阳 旅游 攻略 好不容易 周五 中午 太阳 骑车去 九多肉 鸡腿 路上 无意 看见 这家 小店 店主 母子 坐在 路边 面饺 招牌 米线 线控 一定 停下来 尝一尝 店里 招牌 美食 简简单单 馄饨 米线 面饺 米酒 馄饨 尝一尝 惊艳 米酒 热热 中午 喝上 一口 甜甜的 冰冰凉 酒味 简直 幸福 说不出来 面饺 好吃 一种 家里 味道 胡乱 添加 东西 米线 小吃 喜欢 那种 米线 汤有 胡椒 辣味 肉汤 香味 口味 算不上 多么 美味 坐在 路边 树荫 舒心 洛阳 美食 看着 路边 人来人往 幸福 顺便 一下 店主 阿姨 超级 可爱\n",
          "张信哲 太一 太想 Live 太想 QQ 音乐 伤心 最后 安心 再也 不用 病痛 困扰 照顾 爸爸 当初 不好 爸爸 辛苦 承认 拼命 攒钱 买房 想像 别人 底气 以后 我会 事情 我哥 我姐 商量 商量 照顾 认定 带给 爸爸 看看 不想 成为 爸爸 不想 生病 药物 副作用 洛阳 旅游 放心 一路\n",
          "龙峪湾 古为 蛟龙 淋浴 之地 位于 河南省 洛阳市 西南 公里 伏牛山 腹地 栾川县 境内 方圆 百里 山势 雄伟 峰峦叠嶂 茫茫 古木参天 文化 荟萃 自然景观 万千 四季 景色 秀丽 奇峰 石林 幽深 溪水 清潭 瀑布 纵横 其间 原始 纯天然 无污染 生态 旅游区 国家级 森林公园 国家 AAAA 生态 旅游区 国家级 自然保护区 观赏 面积 余平方公里 开发 景区 景点 河南省 首家 全国 文明 森林公园 龙峪湾 国家森林公园 位于 河南省 洛阳市 西南 公里 栾川 境内 观赏 面积 余平方公里 目前 开发 景区 景点 河南省 十佳 山水 景区 全国 文明 森林公园 国家 AAAA 景区 国家级 自然保护区 旅行 郑州 国际\n",
          "河南 旅游 洛阳 旅游 洛阳 一座 立交桥 通车 日起 谷水西 立交桥 贯通 通车 从中 路上 立马 抵达 新安县 区域 怪不得 网友 纷纷 留言 太快 以后 烫面 一脚 油门 新安县 拐回 洛阳 市区 烫面 热乎乎 龙潭 大峡谷 唐志斋 跨过 谷水西 立交桥 说到就到 来来来 看看 咱拍 觉得 不错 点赞 垂直 博主 洛阳 旅游 生活 老家 洛阳 Isa 巧克力 新闻 姚红亮 洛阳市 新安县 团委 警营 微报员 河南 旅游 洛阳 摇曳 田间\n",
          "旅行 跟着 jennynui 洛阳 逛逛 花式 种草 花式 种草 社区 NO.1 龙门石窟 洛阳 四塞 山水 之胜 龙门 首焉 泛舟 伊河 东西 两岸 优美 景色 打卡 世界 文化遗产 千年 微笑 有史 超萌 剪刀手 龙门 二十品 雕刻 艺术 值得一看 NO.2 白马寺 白马 负经 典故 盛夏 时节 荷花 绽放 元代 至今 多年 历史 色彩 如新 神探 狄仁杰 长眠 NO.3 隋唐洛阳城 国家 遗址 公园 记得 电影 狄仁杰 通天 帝国 拍摄 隋唐 五代 宋朝 核心 区域 出名 武则天 时期 名堂 天堂 NO.4 十字街 华灯初上 夜市 开张 灯笼 林立 人头攒动 十字街 品尝 洛阳 水席 来份 当地 小吃 不是 景点 洛阳人 生活区\n",
          "旅行 日志 2.15 失败 安排 一天 老公 执意 花岛 明年 项目 启动 早上 酒店 早饭 车上 上次 海口 饺子 馄饨 终于 出发 一路 海南 海岸线 高速 高德 总是 犯傻 绕路 索性 老公 总是 念叨 三年 采摘 圣女 两次 高速 找到 再次 高速 回头路 一路上 几个 西瓜 下午 点多 终于 三年 花岛 人少 环境优美 今天 一看 高大 路边摊 一排排 违章建筑 一堆堆 旅游 厕所 可怜 格格不入 环境 深深 怀疑 几天 兴奋 想要 定居 海南 三亚 彻底 死心 旅游 旺季 喜力 啤酒 普通 青岛 啤酒 将近 一厅 NND 好感 言归正传 花岛 附近 正好 三急 奈何 好久 不到 旅游 卫生间 这是 旅游 城市 参考 一下 洛阳 不行 怪不得 体验 之差 遇到 售楼部 要求 口罩 戴好 口罩 手机 看房 口罩 大摇大摆 进去 made 车上 海南 定居 真是 脑袋 云南 匆匆 结束 花岛 行程 返回 文昌 思考 再三 决定 中线 返回 神奇 国度 新开通 高速 服务区 居然 加油站\n",
          "河南 函谷关 景色 别样 秋意 正浓 函谷关 别样 景色 十分 迷人 广大 游客 摄影 爱好者 纷至沓来 生态 宜居 景色宜人 风景如画 函谷关 西据 高原 东临 绝涧 南接 秦岭 北塞 黄河 中国 历史 建置 最早 雄关 要塞 函谷关 历史 两座 秦关 位于 河南省 灵宝市 公里 垛村 汉关 位于 三门峡市 公里 位于 洛阳 新安县 地处 两京 古道 紧靠 黄河 岸边 因关 深险 如函 故称 函谷关 函谷关 我国 古代 伟大 思想家 哲学家 老子 著述 道家 学派 开山 巨著 道德经 圣地 道家 文化 发祥地 古代 长安 东达 洛阳 通衢 咽喉 河南 文化 秦晋 文化 交汇 千百年 烽烟 际会 兵家必争 战略 要塞 紫气东来 鸡鸣 函关 历史 故事 传说 漫漫 历史长河 名人 老子 名著 道德经 名关 函谷关 留芳 青史 声播 海内外 国家 AAAA 旅游 景区 函谷关 古文化 旅游区 位于 晋三省 交界 河南省 大门 灵宝市 境内 辖区 面积 16.5 平方公里 主要 景点 太初 圣宫 道家 养生 藏经楼 瞻紫楼 鸡鸣 碑林 蜡像馆 博物馆 关楼 函关 古道 余处 河南 看点 三门峡\n",
          "旅行 王府 竹海 河南 洛阳 惊艳 小众 旅行 远离 人山人海 私藏 夏日 凉情 进伏刚 时间 河南 气温 已经 全国 前列 蓝天白云 橙色 预警 很多 家里 空调 西瓜 天气预报 每天 关键时刻 刷新 出大 太阳 炎炎夏日 外出 旅行 似乎 不明智 天气炎热 心浮气躁 今天 小编 要说 夏天 定制 旅行 目的地 景色 怡人 养眼 山风 清凉 畅快 泉水 涤荡 心灵 心境 平和 浑然不觉 夏天 躁热 洛阳 栾川 王府 竹海 度假 旅游 景区 仿佛 夏天 遗忘 地方 从早到晚 一阵阵 清凉 风吹 再也 不想 出来 当地人 王府 竹海 夏天 不可不 避暑 圣地 旅游 嘉年华 河南省旅游局 官方 洛阳市 旅发委 多彩 栾川 栾川 旅游 奇境 栾川 军伟\n",
          "老君山 冬游 栾川 参加 摄影 比赛 洛阳 老君山 地坑院 纯玩 双卧 日游 全程 购物 自费 全程 当地 准四 酒店 精选 九处 摄影 美食 全程 含餐 行程 无忧 5A 老君山 奇峰 竞秀 千姿百态 5A 鸡冠 全长 石瀑 飞溅 巧夺天工 5A 龙门石窟 世界 文化遗产 天堂 明园 央视 中秋 晚会 举办地 三峡大坝 黄河 独特 魅力 峡州 坑院 独一无二 进村 不见 地下建筑 发班 铁发 以上 成人 以下 门票 行程 旅游 旅游 尾单\n",
          "大家 介绍 亚洲 第一 音乐 喷泉 洛阳 音乐 喷泉 又称 洛阳 南湖 大桥 音乐 喷泉 阳湖 音乐 喷泉 亚洲 第一 音乐 喷泉 喷泉 占地面积 湖水 面积 硬化 广场 游园 面积 绿化 面积 阳湖 东西长 南北 音乐 喷泉 洛阳市 园林局 承建 集声 水于 一体 高科技 产物 音乐 喷泉 千姿百态 无与伦比 视听 效果 成为 洛阳 新区 一道 美丽 风景线 洛阳 音乐 喷泉 风景优美 旅游 度假 休闲 游玩 去处\n",
          "今日 随笔 东西 洛阳 今天 发布 红色 大雾 警告 能见度 不到 出门 不禁 感慨 天空 原来 emo 不同于 阴天 忧郁 气质 执迷不悟 操场上 樱花 宿舍 显得 气氛 沉闷 总要 陌生 陌生 风景 陌生 不经意 瞬间 发现 原来 费尽心机 想要 忘记 事情 忘记 突然 想起 蓝莓 之夜 这段话 蓦然 发觉 以前 觉得 陌生 地方 如今 感到 亲切 土生土长 家乡 仿佛 变得 陌生 是不是 摇动 异地 接触 不同 文化 遇见 不同 心智 成熟 可能 习惯 无常 感到 庆幸 纷扰 嘈杂 世界 幸福 重要 东西 走过 一段路\n",
          "记录 一下 6.7 洛阳 这次 洛阳 算是 放空 洛阳 一座 富裕 小城 三天 两夜 很多 地方 洛邑 古城 古代 博物馆 丽景门 明堂 鼓楼 老街 夜市 王城 公园 夜市 好吃 尤其 猪脑 不会 猪脑 其实 有点 不想 很多 照片 后面 照片 摆放 相机 赶紧 过去 摆好 pose 定时 拍摄 人去 旅游 感触 很多 人住 酒店 有点 害怕 晚上 夜市 酒店 公交 敢坐 出租 单车 导航 公交 导航 路线 睡前 我会 第二天 地方 路线 查好 早起 出发 一点 耽误 充实 照顾 以后 还要 地方\n",
          "洛阳 爆料 魅力 栾川 天河 大峡谷 雪雕 问世 目前 冬季 栾川 旅游 项目 只能 滑雪 泡温泉 相对 广大 消费 群体 来说 产品 相对 单一 天河 大峡谷 负责人 介绍 天河 大峡谷 拥有 丰厚 冰雪 资源 栾川 中职 雪雕 冰雕 创作 能力 强强联合 尝试 冰雪 艺术 做文章 突出 冰雪 艺术 展示 冰雪 娱乐 相结合 特点 打造 一个集 观赏性 艺术性 趣味性 参与性 一体 冰雪 盛会 全面 展示 河谷 冬季 风采 魅力 丰富 栾川 冬季 旅游 内涵 增添 冬季 旅游 活力 今年 冬季 仅仅 尝试 实战 演练 不断 总结 积累 经验 明年 大刀阔斧 打造 冰雪 盛会 铺垫 打基础 豫见 栾川 全景 栾川 天河 大峡谷 栾川 旅游 映象 栾川 我要 雷达 洛阳 栾川 君山 饭店\n",
          "洛阳 回来 几点 建议 理解 老城区 市中心 堵车 机动车 辅道 洛邑 古城 修好 刮风 一地 垃圾 大家 旅游 随手 垃圾 觉得 老城区 部分 扩宽 一点 毕竟 老城区 风景 不错 夜景 yyds 本人 很多 官方 电话 人接 老君山 客运站 没人接 老君山 一级 索道 有点 离谱 排队 绕来 我人 真人版 贪吃蛇 不能 出个 旅游 专线 白马寺 龙门石窟 这种 景点 一点 地方 完全 搞个 公交车 几个 关键 地段 排队 工作人员 别光 看着 有序 排队 插队 看着 洛阳\n",
          "2021.12 周六 天气 无雨 闽南 泉州 傍晚 即将 结束 漳州 平和 大溪镇 庄上 国家级 传统 古村落 游览 这次 活动 二位 组织者 商议 临时 决定 返回 途中 泉州 洛阳 古桥 看看 出行 同学 我和范 同学 大蒜 杨姐 去过 其他人 闻其名 爱好 旅游 泉州 洛阳桥 打卡 之地 洛阳桥 原名 万安 位于 泉州 东郊 洛阳 北京 卢沟桥 河北 赵州桥 广东 广济桥 称为 中国 古代 四大 名桥 洛阳桥 中国 现存 最早 跨海 梁式 大石桥 世界 桥梁 筏形 基础 开端 全国 重点 文物保护 单位 桥长 船形 桥墩 扶栏 石狮 石亭 石塔 当日 晚餐 一家 餐馆 进行 餐后 分乘 二部 返榕 归家时 已近 福州\n",
          "旅行 日本 不见不散 旅行 推荐 兼六园 金泽市 必游 名胜 冈山 乐园 水户 乐园 称为 日本 三大 名园 兼六园 名字 起来 似乎 奇怪 其实 名字 源自 中国 宋代 诗人 格非 所著 洛阳 名园 此园 兼备 宏大 幽邃 人力 苍古 水泉 眺望 名园 条件 得名 兼六园 这座 精美 园林 建于 世纪 中期 于今 已有近 百年 历史 唐崎松 枝繁叶茂 园里 漂亮 松树 这金泽 地区 日本 降水 最多 地方 树木 之上 有数 垂线 誉为 雪吊 防止 落雪 压坏 树木 兼六园 金泽城 经历 无数次 毁坏 重建 如今 一片 崭新 风貌 一点 缺少美 因子 城外 树下 远远 观望 有如 风景 旅游 日本 国家旅游局 JNTO 旅行 日本 兼六园\n",
          "世界 不见不散 爱上 酒店 点评 一定 想象 不到 洛阳 重渡 一家 隐藏 民宿 旅行 住宿 景区 美食 设计 进行 深度 跨界 融合 一分 星空 美景 惬意 乳花 浮午 试春盘 人间 有味 清欢 民宿 住进 邻家 院里 看到 大堂 像是 开放式 娱乐 空间 服务员 私人 管家 成为 主角 民宿 特别 定制 治愈 房型 融合 当地 不同 绝美 风景 不同 设计 风格 不同 场景 故事 惊叹 这才 生活 享受 样子 白天 夜晚 各有不同 绝美 体验 感受 极具 震撼 私人 拍摄 基地 享用 农家 风味 美食 夜晚 感受 满天 星辰 流水 空气 幽幽 花香 没错 洛阳 重渡 隐藏 民宿 一家 创造 一种 全新 民宿 生活 方式 这种 极具 文化 设计 内涵 美食 新体验 节奏 跨界 民宿 绝对 值得 不远千里 前来 体验 旅游 旅游 酒店 洛阳 洛阳 栾川 重渡 风景 名胜区 洛阳 洛阳 栾川 重渡 风景 名胜区\n",
          "出门 生活 恢复正常 慢慢 恢复 更新 P1 张图 值得 反复 观看 P2 大年三十 那天 单位 接到 外婆家 吃饭 可能 柴火 迷了眼 觉得 这种 生疏 亲密关系 美好 烤火 唠嗑 不想 上班 P3 庆祝 三年 第一次 旅游 临时 三天 时间 出门 河南 真好 喜欢 河南人 豁达 今日 闭关 四月 想见 P4 河南 好美 座位 李家 鲜活 P6 龙门石窟 连夜 高铁 龙门 三个 小时 游览 高铁 洛阳 下次 P7 武则天 金简 一定 故事 故事 文物 活过来 立体 缺角 故事 期待 一天 小金 龙能 发现 P8 同事 姐姐 学习 新技能 扫把 开门 学会 P9 今日 健身 第一天\n",
          "提到 河南 旅游 很多 自觉 想到 洛阳 立冬 已过 天气 逐渐 变冷 秋裤 大家 三两 好友 洛阳 栾川 看看 晚秋 红叶 一番滋味 事实上 真正 吸引 洛阳 山水 民俗文化 伏牛山 深处 独具 魅力 山间 村落 王府 沟村 王府 沟村 4A 景区 伏牛山 瀑布群 王府 竹海 王府 竹海 一年四季 景色 各不相同 每个 季节 应该 看看 地方 毕竟 洛阳 出发 王府 开车 小时 左右 满足 上班族 两天 出来 透透气 愿望 秋天 王府 打碎 大自然 调色板 叶儿 红黄 相间 山中 绿水 流淌 村落 白烟 徐徐 山上 柿子 逐渐 成熟 漫山遍野 红彤彤 柿子 千万盏 灯笼 山中 百余 流水 瀑布 水质 清澈 锦潭 无数 饱满 负离子 空气 热爱 自然 来说 王府 肯定 算是 心灵 驿站 王府 竹海 度假 旅游区 家乡 风光\n",
          "河南 景区 免费 期间 值得 洛阳 景区 最近 河南 景区 门票 恰逢 整个 河南 天气 转暖 很多 这波 羊毛 做好 出去 游玩 打算 其实 头疼 周末 洛阳 周末 景区 林立 十三 古都 魅力 真要 合适 地方 游玩 简单 老君山 门票 免费 每天 数以万计 来自 全国 各地 游客 前来 一睹 人间 盛世 看景 变成 郁闷 至极 最近 发现 宝藏 景区 洛阳 栾川 王府 竹海 景区 山水 景区 景区 竹林 瀑布 无论是 登山 健体 孩子 放松 游玩 非常 合适 山上 完全 溪水 瀑布 渐渐 流动 起来 非常 好看 值得 一去 王府 竹海 度假 旅游区 洛阳 河南 旅行\n",
          "中国 湖南 旅游 丹霞 莨山 古城 邵阳 邵阳 旧名 宝庆 位于 湘中 偏西南 北障 雪峰 之险 南屏 五岭 之秀 资水 横贯 邵水 交汇 盆地 珠连 丘陵 起伏 境内 山环水 风光 秀美 景色宜人 旅游 资源 丰富 被誉为 山水 桂林 丹霞地貌 风景 名胜区 八十里 南山 江南 草原 风光 全国 七十二 佛地 武冈 云山 原始 次生林 绥宁 黄桑 自然保护区 市区 清秋 龙桥 铁犀 六岭 春色 佘湖 神滩 晚渡 山寺 晓钟 洛阳 仙洞 白云 樵隐 岳平 云顶 桃洞 流香 宝庆 十二 点缀 资江 两岸 环布 市区 印象 官微\n",
          "一夜 修整 之后 早就 开封 驾车 前往 洛阳龙门石窟 白马寺 两个 景点 游览 下来 时间 有点 紧张 多年 已经 去过 敦煌 莫高窟 云岗石窟 龙门石窟 向往已久 之地 天公 竟然 不作美 烈日炎炎 气温 非常 更好 了解 石窟 前台 特意 租借 电子 讲解 其实 手机 关注 微信 公众 即可 收听 讲解 电子 讲解 智能 省下 说起 云岗石窟 分为 四个 部分 西区 重点 游览 下来 大汗淋漓 中暑 三个 只能 走马观花 可惜 可惜 看来 季节 实在 适宜 游览 快马加鞭 接下来 驱车 直奔 白马寺 寺院 氛围 大殿 供奉 佛像 精致 喜欢 寺院 文化 艺术 值得 一游滴 疲惫 身体 入住 洛阳 市区 古城 漫步 酒店 下午 所幸 房间 升级成 家庭 套间 非常 满意 毕竟 好好 休息 旅行 最大 保证 晚餐 前往 著名 十字街 解决 酒店 离丽景门 不远 晚上 十分 热闹 汉服 小姐姐 哥哥 不少 古文化 成为 当今 时尚 哈哈哈 明日 还要 前往 二里头 夏都 遗址 博物馆 未完待续 说走就走 旅行 不止 旅行 爱上 这座 旅行\n",
          "航拍 洛阳 周山 森林公园 周山 又名 秦山 蜿蜒 起伏 长达 多公里 海拔 216.93 山上 周灵王 周代 称冢为 名曰 周山 周山 森林公园 位于 洛阳 高新技术 产业 开发区 孙旗 屯乡 境内 省林业厅 正式 批复 同意 周山为 河南省 洛阳 周山 省级 森林公园 公益性 公园 周山 森林公园 北面 近邻 洛阳市 工业区 东面 南面 洛阳市 高新技术 产业园 公园 规模 余亩 公园 重点 建设 寻古觅 胜区 该区 面积 目前 寻古觅 区内 三季 有花 四季 新意 季季景 不同 初步 形成 春花 夏叶 秋实 冬枝 自然景观 以周 山王 陵为 人文景观 公益性 城市 森林公园 周山 森林公园 龙门山 邙山 几个 生态 防护林 构成 城市 生态 防护林 体系 调节 气候 防风 滞尘 净化 空气 涵养 水源 降低 噪音 美化环境 方面 生态 功能 改善 环境 有着 积极 促进作用 了解 周山 森林公园 迎来 一次 提升 日期 周山 森林公园 提升 规划 方案 已经 出炉 未来 周山 森林公园 重点 丰富 植物 景观 增设 公共 市政 服务设施 文化 设施 改造 功能 空间 改善 重要 节点 效果 方面 进行 提升 未来 成为 趣味 公园 洛阳\n",
          "有方 旅行 现场 林壑 先锋 古制 day5 东南 一方 具有 浙江 类似 自然景观 宗教 文化 建筑风格 演变 呈现出 独有 古拙 今日 参观 名山 洞天 中将 师法 自然 呈现 淋漓尽致 东室 正殿 仙君殿 巧借 岩洞 空间 古朴 木构 自然 光景 融为一体 匠人 智慧 体现 古人 天人合一 思想 转到 西室 飞瀑 从天而降 直落 底端 水池 山石 之间 北宋 木构 祖师 潜藏 其梁枋 铺作 架构 形式 微缩 建筑 趣味 下午 参观 元妙观 三清殿 闹市 难得 一片 殿内 空间 相对 前几日 参观 项目 来说 更显 厚重 粗壮 木作 石柱 牢牢 静谧 氛围 更显 开阔 开间 带来 明暗 对比 更为 强烈 室内 效果 这次 旅程 即将 明日 参观 开元寺 洛阳桥 句号 短短 数日 因对 古建筑 热爱 一群 素不相识 人们 一起 旅途 收获 学识 友谊 难得 可贵 希望 这次 旅程 每位 旅者 留下 思考 大家 相伴\n",
          "网红 景点 日本 微博出 游记 新星 计划 兼六园 日本 三大 名园 三甲 名字 取自 中国 宋代 诗人 格非 所著 洛阳 名园 兼备 格非 提出 宏大 幽邃 人力 苍古 水泉 眺望 六大 成为 名园 条件 命名 兼六园 面积 万平方米 园内 设置 池塘 喷泉 瀑布 溪流 景观 种植 树木 燕子 草坪 花卉 加上 建筑 引种 琵琶湖 唐崎松 造型 十分 优美 唐崎松 这种 奇特 造型 需要 木桩 水里 陆地 支撑 起来 才能 维持 这种 美妙 身姿 旅游 垂直 博主\n",
          "洛阳 洛阳 没上 大学 多次 憧憬 城市 洛阳 古都 当然 这次 种草 推荐 栾川 王府 竹海 小众 景点 疫情 期间 不出 河南省 合适 暑假 期间 遗憾 夏日 堪称 绝美 山水 仙境 山清水秀 不错 夏季 避暑胜地 里面 竹海 空气 自然 清新 堪比 天然 造氧机 四季 变换 一件 奇妙 事情 同一个 事物 呈现出 完全 视觉 体验 正值 冬季 王府 竹海 爱雪者 圣地 皑皑 白雪 氛围 一种 忘却 尘世 烦恼 冰河 冰挂 冰川 冰柱 冰凌 不可 雪景 拍照 吸睛 大自然 赠与 天然 背景 仿佛 美好 三两 好友 一起 上光 拍照 震撼 朋友圈 王府 竹海 度假 旅游区 河南 旅行\n",
          "洛阳 值得 一去 地方 简单 下来 洛阳 旅游 攻略 建议 夏天 洛阳 洛阳 市区 主要 历史 文化遗产 县区 自然 文化 景点 龙门石窟 一定 世界 物质 文化遗产 遇见 很多 外国人 明堂 天堂 绝对 值得 地方 富丽堂皇 形容 一点 不为过 小吃街 便宜 热闹 丽景门 古城 洛阳 地道 特产 字画 一定 白马寺 白马寺 年建 外国 寺庙 缅甸 泰国 了解 外面 文化 白云山 人间仙境 老君山 很棒 归纳 一下 三天 旅行 洛阳 第一天 龙门石窟 下午 明堂 天堂 晚上 小吃 一条街 第二天 白云山 需要 两天 才能 游玩 一天 龙潭 大峡谷 超棒 第三天 白马寺 丽景门 古城 随便 买点 特产\n",
          "全省 唯一 洛阳 一地 入选 国家级 滑雪 旅游 度假地 文化 旅游部 国家体育总局 日前 公布 第二批 国家级 滑雪 旅游 度假地 名单 河南 栾川 伏牛山 滑雪 旅游 度假地 入选 全省 唯一 入选 单位 据悉 国家级 滑雪 旅游 度假地 认定 对象 具有 良好 滑雪场 资源 满足 滑雪场 开发 条件 能够 满足 游客 滑雪运动 为主 兼具 康养 度假 休闲 娱乐 旅游 需求 度假 设施 服务 功能 集聚 河南 栾川 伏牛山 滑雪 旅游 度假地 位于 栾川县 城西 公里 杨树 园区 规划 面积 平方千米 一个集 户外 冬季 滑雪 四季 室内 滑雪 体育竞赛 训练 功能 一体 综合性 度假 目的地 近年 河南 栾川 伏牛山 滑雪 旅游 度假地 大力发展 旅游 体育 实现 旅游 度假 产业 体育产业 高度 融合 河南 广播 电视台 李鑫 洛阳 冯珊\n",
          "带你去 旅行 第五站 河南 洛阳 河南 洛阳 素来 古都 著称 怀抱 称为 洛阳 后花园 栾川 却是 山水 出彩 走进 座钟 俊秀 山城 四时 之景 不同 而乐 无穷 称为 避暑胜地 栾川 冬季 风味 雪后 城里 山水 一副 水墨画 诗意 老君山 鸡冠 重渡 天河 大峡谷 两个 5A 景区 七个 4A 景区 一场 视觉 盛宴 道教 圣地 老君山 云海 日出 北国 第一 鸡冠 鬼斧神工 重渡 漂流 抱犊寨 红色 文化 十里 画屏 全景 栾川 洛阳 栾川\n",
          "花果山 位于 古都 洛阳 公里 河南省 宜阳县 西南部 穆册 境内 花果山 总面积 公顷 主峰 海拔 1831.8 县城 多公里 东邻 岳顶山 北接 几山 西交 洛宁 南连 嵩县 总面积 多平方公里 花果山 森林 覆盖率 87.4% 平均气温 14.4 夏季 最高 气温 隋唐 时期 著名 旅游胜地 唐朝 诗人 白居易 韩愈 刘禹锡 裴度 李贺 宋代 司马光 金末 元好问 明代 唐伯虎 吟咏 花果山 传世之作 花果山 国家 林业部 批准 国家森林公园 评为 洛阳市 十佳 风景区 旅行 遇见 美好\n",
          "济南 旅行 攻略 大明湖 大明湖 景区 明湖秀 完后 马上 剪辑 小视频 秒钟 只能 剪些 精华 单说 视觉效果 不错 不是 今天 风大 可能 表现 更好 要说 体现 济南 历史 文化 差点 洛阳 比差 正面 观看 最佳 效果 抢到 几百人 diss 一下 抢到 没来 浪费 好多 座位 洛阳 零头 不到 多钱 设计 应该 考虑 大家 观看 效果 明湖秀 每周 两次 演出 下周 每周 开演 核心 观看 放进 几百人 毛线 希望 相关 部门 尽快 整改 现场 欣赏 时代 泉城 湖秀 济南 济南市 旅游 发展 委员会 济南 关注 旅行 济南 大明湖 景区 马步 马叔带 济南\n",
          "过大年 头一回 年初 出去玩 北京 成都 自贡 西安 安康 河南 洛阳 河南 安阳 延庆 跟着 老师 六天 满满当当 行程 自贡 灯会 荣县 大佛 海井 盐业 历史博物馆 秦始皇陵 兵马俑 龙门石窟 感悟 不信 旅游景点 淡季 不论什么 兵马俑 全靠 自拍杆 往前走 全靠 人流 涌动 结合 夏天 西藏 经历 深刻 理解 夏天 冬天 两句话 暖和 暖和 心态 穿着 薄薄的 羽绒服 南方 一场 直接 感冒药 阿嚏 PS 我要 实名 佩服 导师 三天 每天 连开 七八百 公里 路程 打瞌睡\n",
          "河图 报道 万安 七彩 大峡谷 冰挂 奇观 门票 半价 好礼 相送 近日 我市 气温 持续 走低 万安 七彩 大峡谷 瀑布 滴水成冰 出现 壮观 冰挂 景观 目前 景区 正在 举行 冰挂 嘉年华 系列 活动 游客 推出 多项 优惠 措施 了解 万安 七彩 大峡谷 冰挂 嘉年华 已于 启动 结束 活动 期间 微信 关注 洛阳 万安 七彩 大峡谷 公众 账号 转发 冰挂 相关 文章 游客 享受 门票 半价 优惠 每位 现场 购票 游客 获得 精美 礼品 一份 多种 礼品 任选 数量 有限 先到 先得 万安 七彩 大峡谷 位于 伊滨区 玄奘 李村 大街 交叉口 南约 公里 景区 全长约 公里 面积 公顷 景区 依托 万安 独特 地理位置 自然风光 人文 历史 资源优势 致力于 打造 休闲 功能 基础 道教 文化 特色 游水 登山 幽居 水乐 主题 生态旅游 休闲 观光 度假 娱乐 功能 一体 生态 景区 目前 万安 七彩 大峡谷 开通 公交 专线 乘车 地点 位于 宝龙 公交 停车场 展览路 定鼎 街口 发车 时间 每天 半小时 一班 票价 1.5 自驾 游客 可沿 龙门 大道 龙门 北桥 顾龙路 玄奘\n",
          "人在旅途 洛阳 旅游 攻略 感谢 仙女 Ziiidooo Ziiidooo 一路上 很多 好奇 地问 出来 你好 勇敢 厉害 好酷 最后 提醒 注意安全 其实 选择 旅行 更长 危险 不是 多么 独立 旅行 这件 小小 执念 喜欢 随意 冲动 喜欢 说走就走 喜欢 决定 所有 行程 喜欢 绝对 自由 喜欢 承担 风险 路线 订错 酒店 点到 难吃 特色菜 拖累 别人 别人 拖累 古今 兴废 请君 洛阳城 旅行 清单 旅行 攻略 旅游 势力 毕业 旅行 旅行 宁波 环球\n",
          "洛阳 白云山 森林 嬉水 季冰爽 启动 凉得 汗毛 竖起 人间仙境 白云山 旅行 旅游 嘉年华 世界 看看 温度 我想度 清凉 洛阳 白云山 森林 嬉水 冰爽 指数 小伙伴 惊呆 亲身 体验 凉得 汗毛 竖起 重点 暑期 期间 高速 过路费 日至 洛阳 白云山 朋友 从洛栾 高速 嵩县 下站 享受 河南省 省内 高速 过路费 免单 政策 路线 指南 洛栾 高速 旧县 下站 洛阳 白云山 洛阳 白云山 洛阳 热门 河南省旅游局 官方 魅丽 郑州\n",
          "出尘 三大 招牌 Latte 第三 咖啡 美学 到来 越来越 精品 独立 咖啡馆 零零散散 落户 世界 角落 与生俱来 叛逆 不一致性 咖啡 体现 淋漓尽致 成为 世界 三大 饮品 独特 魅力 Latte 奶香 苦感 甜感 风味 醇厚 杯量 350ml 总结 Latte 出尘 三大 招牌 这次 设计 过多 萃取 方式 大杯量 出品 鲜牛奶 入口 鲜甜 杏仁 余韵 需要 糖浆 修饰 入口 甜感 足矣 说明 温暖 友好 爱喝 美式 加糖 绵密 香甜 咖啡 一种 有没有 想过 这杯 咖啡 丰满 人生 洛阳 美食 洛阳 吃喝玩乐 洛阳 网红 美食 洛阳 美式 咖啡 洛阳 旅游 洛阳 洛阳 攻略 洛阳 小店 洛阳 美式 攻略 洛阳 出尘 SKYBAR\n",
          "旅行 摄影 历史 旅行 泉州 爆料 清新 福建 旅行 随手 南村 一座 始建 隋唐 风云 之际 兴盛 宋元 刺桐 海上 丝绸之路 千年 古桥 洛阳桥 同命运 辉映 传承 千年 古村落 拥山 沿江 面海 极佳 地理 优势 自然 历史 形成 村内 人文景观 生态景观 江滨 景观 一体 生态 文化 长廊 这座 延续 千年 古村落 洛阳桥 建成 推动 古村落 繁荣 发展 市井 街镇 刺桐 史迹 申遗 成功 南村 迎来 伟大 跨越 历史 机遇 再续 海丝 辉煌 新篇章 清新 福建 文旅之声 泉州市 文化 广电 旅游局 新闻 广角 泉州 旅游 泉州\n",
          "旅行 刘宇 宁安 利好 风景 今日 旅游 安利 老君山 旅行 老君山 又名 景室 位于 洛阳市 栾川 城郊 秦岭 余脉 八百里 伏牛山 主峰 海拔 老君山 生态 旅游区 先后 开发 品味 道教 文化 领略 伏牛 主峰 主题 道教 文化区 欣赏 飞瀑 流泉 主题 生态 观光区 两大 区域 景点 余处 自然景观 主要 舍身崖 南天门 马鬃岭 石林 朝阳 仙人桥 君山 天瀑 老龙窝 悟道 亮宝台 玉皇顶 主要 人文景观 十方 灵官殿 淋醋 菩萨 道德 炼丹 当代 著名作家 李准 观后 赞叹 秀压 五岳 奇观 三山 黄山 奇峰 七十二 君山 奇景 知多少 一山 四季 十里 不同 君山 北麓 冰未消 水之阳 花艳艳 这是 老君山 生动 写照 仙境 美丽 老君山 总是 老大 确定 欣赏 一下 摩登 兄弟 刘宇宁\n",
          "决胜 未来 不负 青山 青山 不负 曾经 河南省 洛阳市 孟津县 黄河 无水 身居 水城 用水 为此 洛阳市 四河 同治 三渠 联动 引水 补源 解决 河流 断流 水质 不优 问题 昔日 荒草 丛生 废弃 河道 如今 变为 居民 身边 生态 文化公园 老百姓 开窗 出门 进园 小桥流水 青砖 绿瓦 掩映 绵延 茶海 江西省 景德镇市 浮梁县 因绿而兴 近年来 浮梁 自然 风物 转化 人文 资源 保存 数百个 宋代 窑址 街市 廊道 打造 电商 民宿 旅游 经济 沃土 老百姓 创造 增收 方式 艺术家 设计师 企业家 空心 注入 新鲜血液 游人 品茗 入窑 栖居 山林 诗意 孟津县 浮梁县 生态环境 命名 绿水青山 金山 银山 实践 创新 基地 事实上 一段时间 不少 地方 看不到 绿水青山 只求 金山 银山 一味 索取 资源 资源 匮乏 环境 恶化 经济 发展 矛盾 凸显 人们 意识 金山 银山 绿水青山 环境 发展 根本 所在 zqb cyol com html nw D110000zgqnb htm\n",
          "济南 旅行 攻略 大明湖 大明湖 景区 明湖秀 完后 马上 剪辑 小视频 秒钟 只能 剪些 精华 单说 视觉效果 不错 不是 今天 风大 可能 表现 更好 要说 体现 济南 历史 文化 差点 洛阳 比差 正面 观看 最佳 效果 抢到 几百人 diss 一下 抢到 没来 浪费 好多 座位 洛阳 零头 不到 多钱 设计 应该 考虑 大家 观看 效果 明湖秀 每周 两次 演出 下周 每周 开演 核心 观看 放进 几百人 毛线 希望 相关 部门 尽快 整改 现场 欣赏 时代 泉城 湖秀 济南 济南市 旅游 发展 委员会 济南 关注 旅行 济南 大明湖 景区 马步 马叔带 济南\n",
          "早上 七點 半出 瓜州 停留 買瓜 沙漠 玫瑰 中午 嘉峪 關市 司機 回族 店主 過於 殷勤 指揮 停車 院子 怎麼 我們 先去 嘉峪關 看看 門票 想想 還是 算了 遠望 即可 另家店 榆林 節面 晚上 七彩 索性 酒店 六個 一塊 啤酒 度數 忍不住 敞開 喝完 一圈 酒店 小吃 可見 此地 旅遊 開發 無長 居民 路遇 小霍像 張掖 建立 感謝 月亮 生態 環境 真好 回房間 中秋 晚會 洛陽 今年 疫情 不了 地方 酒泉 瓜州\n",
          "差劲 不是 眼中 努力 想着 洛阳 幸福 从来不 认为 在乎 喜欢 注重 未来 幸福 忽略 现实 幸福 想着 未来 一起 旅游 走遍 地方 所有 美食 事情 很多 合照 朋友圈 别人 羡慕 爱情 无时无刻 开心 照顾 浪漫 一起 老去 争口气 告诉 心爱 一辈子 幸福 快乐 生活 再苦 愿意 创去 挣钱 完善 拒绝 最后 回家 不想 未来 生活 不好 以后 幸福 赌注 别人 身上 我能 做到 不会 赌注 未来 每天 看见 开心 知足\n",
          "出行 防晒 谨防 幼儿 晒伤 户外运动 很多 好处 需要 提醒 家长 注意 晒太阳 适度 人体 天然 防御 功能 较差 经不起 太阳 照射 造成 晒伤 家长 孩子 外出 游玩 一是 注意 外出 时间 不要 选择 中午 下午 最热 出门 每天 早晨 傍晚 外出 强烈 阳光 只能 停留 分钟 左右 三伏天 不能 停留 长时间 孩子 晒伤 清凉 一夏 生活 模样 洛阳 洛阳 旅游 说走就走 旅行 科普 知识 夏季 防暑降温 小常识 方式 洛阳 洛阳 凤翔 温泉 旅游区\n",
          "洛阳 旅游 攻略 洛阳 旅游 住宿 推荐 瓦库 余舍 钟情 建筑 土木 砖瓦 光影 表现 生命力 设计师 余平 这部 作品 中将 演译 淋漓尽致 外墙 背景墙 区间 隔断 墙面 装饰 无处不在 和谐 统一 原木 白墙 圆角 内嵌 储物 空间 推式 百叶窗 窗边 花卉 分明 几分 爱琴海 风情 非常 用心 一家 设计师 酒店 细节 到位 注重 环保 所有 垃圾筒 竹制 布套 卷纸 环保 服务 免费 接送 高铁 晚上 待客 回房 时会 水果 冰糖 雪梨 绝对 值得 强力 推荐 洛阳 朋友 地址 洛阳市 洛龙 新区 望春门 瓦库 余舍 酒店 洛阳 余舍 精品 酒店\n",
          "一覺 放開 天地 火車 傍晚 時分 古都 洛陽 鄭州 洛陽 整潔 街道 兩旁 種滿 顏色 鮮艷 花朵 感覺 一座 花園 古城 改革 開放 初期 旅遊業剛 啟步 整個 洛陽 酒店 酒店 投宿 不像 現時 一部 智能 電話 在手 任我行 我們 隨意 步入 一間 酒店 事先 不知 是否 滿座 幸好 這一間 建成 天香飯 房出租 當時 酒店 多有 三人房 我們 四人 加床 這天 猜輸 原應 加床 酒店 經理 友善 安排 一個 入住 單人房 睡大床 收加 床費 安頓 下來 我們 很快 找到 明天 本地 一日 收費 便宜 提供 旅巴 交通 接載 各景點 包門票 導遊 服務 這也 打緊 反正 我們 普通 很爛 不通 一日 包括 白馬寺 少林寺 及龍門 石窟 翌日 清早 七點 出發 兩晚 火車 終於可 安睡在 床上 真是 一覺 放開 天地\n",
          "人间 惊鸿 老君山 泡面 登山 一碗 泡面 更爽 事情 可惜 没带 海参 差点 意思 下次 补上 海参 助力 不行 明哥 拿捏 抽筋 看来 离不了 海参 下次 海参 表演 这次 徒步走 河南 老君山 河南省 洛阳市 栾川县 老君山 旅游 风景区 海拔 建议 体力 不佳 朋友 人先座 一段 索道 各大 旅游 APP 买到 学生 半价 中灵 索道 往返 峰林 索道 往返 铁人三项 王树川\n",
          "云合 山间 民宿 回归 美好 云合 山间 民宿 果园 竹林 菜地 木屋 别墅 小桥流水 身处 山水 之间 满眼 清新自然 色彩 民宿 房间 设计 人文 自然 融合 古朴 老房子 传奇色彩 红砖 特色 集装箱 房和能 繁星 小木屋 喜欢 三面 玻璃 山景 山间 景色 尽收眼底 好像 隐居 田野 诗人 云合 山间 享受 农家 美味 餐厅 菜品 印在 折扇 小刀 小溪 高山 白草 土鸡 醇香 佳肴 提供 免费 早餐 鸡蛋 小菜 油条 当地 特色 体验 淳朴 贴心 服务 回归自然 尽情 体味 简单 惬意 美好 旅游 旅游 洛阳 穿越 河南 豫见 华夏 网红 景点 小众 宝藏 打卡 徜徉 古镇 时光 大自然 本身 一幅 洛阳 西井 义沟\n",
          "洛阳 小时 坏习惯 引发 火灾 冬季 气候 干燥 火灾事故 易发 多发 人们 日常生活 错误 习惯 往往 成为 引发 家庭 住宅 火灾 隐患 今日 洛阳市 消防 救援 支队 总结 容易 引发 火灾 坏习惯 提醒您 注意 消防安全 打火机 玩具 打火机 火焰 吸引 小孩 注意力 好奇心 家长 小孩子 开心 喜欢 打火机 孩子 手机 长时间 通电 智能手机 极高 耗电量 导致 待机时间 省事 手机 长时间 电源 充电 线板 长期 清理 长期 清理 线板 插头 两极 插座 插孔 堆积 灰尘 毛发 卧床 沙发 吸烟 卧床 坐在 沙发 吸烟 人体 放松 醉酒 疲劳 容易 导致 烟未 吸完 睡着 燃气 软管 永远 很多 认为 使用 燃气 关闭 阀门 掐断 泄漏 源头 燃气 软管 不闻不问 开着 炉火 串门 做饭 途中 出门 购物 邻居家 串门 接电话 看电视 忘记 烧着 东西 安全 通道 杂物间 家中 多余 纸箱 报纸 塑料瓶 易燃 可燃物 堆放 楼道 楼梯间 宾馆 留意 逃生 路线 旅客 外出 旅游 进驻 酒店 注意 查看 房间 门后 逃生 路线图 安全 通道 易燃易爆 品放车 方便\n",
          "太懒 抵死 学车 理由 学车 公路 旅行 出行 喜欢 往西 出发 穿贵 经川 完美 云南 高原 草甸 贵州 群山 云雾 直入 四川盆地 丰饶 一路 向北 穿过 大巴山 绿意 迅速 退却 黄土 此时 可经 西安 洛阳 进入 宁夏 甘肃 辽阔 大西北 永远 不会 忘记 戈壁 笔直 公路 远方 贺兰山 头顶 紫色 晚霞 穿过 嘉峪关 前方 张掖 敦煌 重新 回到 高原 眼里 草原 油菜花 青海 选择 一条 向北 取道 河西走廊 一路 直抵 辽阔 新疆 自然 之旅 文化 之旅 中国 再也 壮丽 路线\n",
          "龙潭 大峡谷 景区 多措 并举 备战 十一 黄金周 全员 崭新 姿态 迎接 国庆 即将 到来 国庆 十一 黄金周 今年 最后 旅游 高峰 做好 十一 黄金周 旅游 工作 全面 提升 黄金周 期间 龙潭 大峡谷 景区 旅游 组织 管理水平 服务质量 确保 广大 游客 度过 欢乐祥和 国庆 假期 旅游 旺季 收官 之战 龙潭 大峡谷 景区 针对 相关 单位 景区 工作 指导 指出 问题 不足 景区 领导 提前 开会 安排 部署 节日期间 旅游 安全 环境卫生 游客 服务 工作 认真 筹划 周密 部署 职能部门 同心 狠抓 节日期间 安全 管理 强化 有序 组织 编制 印发 黄金周 接待工作 方案 黄金周 景区 接待 岗位 人员 安排表 确保 各项 工作 落实 到位 目前 各项 准备 工作 就绪 点击 了解 详情 龙潭 大峡谷 景区 多措 并举 备战 十一 黄金周 全员 崭新 姿态 迎接 国庆\n",
          "虎跳峡 国家 AAAA 旅游 景区 山高谷 雄奇 险峻 闻名 原本 深藏 深山中 峡谷 全国 闻名 起因 那次 长江 漂流 虎跳峡 全程 公里 落差 金沙江 水在 终年 不停 沸腾 奔流 漂队 几个 考察 一名 队员 枯水期 登上 江心 跳石 眼前 场景 不寒而栗 觉得 狂风 吹动 身躯 水汽 扑打 脸面 寒气 夺人 金沙江 巨流 十余米 通道 倾泻 形成 巨大 瀑布 简直 不可思议 可谓 举世 奇观 巨石 以下 水雾 蒸腾 泡沫 满江 水声 震耳欲聋 传至 数里 上面 不一会儿 觉得 害怕 赶紧 撤离 漂流 到达 争执 丰水期 此时 虎跳峡 令人 望而生畏 巨大 江水 跳石 分成 两股 呼啸 形成 两个 十余米 跌水 激起 水柱 浪花 十几米 此前 洛阳 队用 密封 船放 一条 下去 密封 大浪 迅速 消失 出来 密封 早已 大浪 敲开 船体 出来 两尺 多长 口子 不见 最后 这条 出水 身上 一根 漂到 队员 第一次 争议 相关 点击\n",
          "大姐 副业 养民 宿挺过 明年 春暖花开 每年 冬天 河南 洛阳 重渡 景区 淡季 今年春节 民宿 老板娘 孙军范 打算 破例 营业 孙军 范干 旅游 已有 多年 年底 多万 装修 民宿 准备 大干一场 遭遇 疫情 生存 孙军范 学习 拍摄 记录 生活 意外 山村 日常 受到 网友 喜爱 年里 靠着 野菜 木工 蜂蜜 不务正业 带来 收入 孙军范 顶住 还贷 压力 累计 投入 五六十万元 进一步 升级 设施 民宿 落后 市场 时代 时刻 准备 重启 回归 主业 河南 民宿 老板娘 回应 旅游业 现状\n",
          "一起 行走 洛阳城 黄河 渡口 向日葵 花海 白鹤 渡口 黄河 洛阳 渡口 渡口 附近 孟津 黄河 绿道 骑行 爱好者 天堂 喜欢 骑行 朋友 很多 应该 去过 孟津 黄河 道旁 几十亩 向日葵 如今 正是 向日葵 盛开 每天 很多 人来 拍摄 山西旅游 大巴车 看来 洛阳 旅游 一站 很多 美女 向日葵 海里 一拍 几十分钟 向日葵 花海 周末 时间 不妨 位于 孟津 白鹤 白鹤 派出所 东侧 米左右 洛阳 生活 旅行 收起\n",
          "洛阳城 洛阳 天河 大峡谷 高逼格 螃蟹 国庆 吃货 躁动 起来 一年 美好 秋天 中秋 长假 刚过 迎来 国庆 长假 小伙伴 玩儿 漫山 秋红 加上 肥美 秋蟹 十月 地方 简直 不要 天河 大峡谷 螃蟹 美食 文化节 高逼格 吃货 盛会 空降 栾川 天河 大峡谷 国庆 七天 蟹逅 天河 到达 天河 大峡谷 参观 游览 游客 景区 门票 索道 兑换 螃蟹 霸王餐 抵用券 螃蟹 霸王餐 原价 福利 活动 三生 三世 十里 秋红 多代 同游 家庭 景区 游客 中心 检票 报名 景区 免费 拍摄 精美 全家福 照片 印刷 装裱 免费 赠送 秋风 脚肥 转眼 螃蟹 大军 横行霸道 季节 香辣蟹 清蒸 蟹黄 冰淇淋 美食 诱惑 hold\n",
          "旅游 美景 河南 龙门石窟 位于 河南 洛阳 境内 国家 5A 旅游 景区 中国 石刻 艺术 宝库 龙门 山清水秀 景色宜人 列入 洛阳 八大 景之冠 有东 两座 青山 对峙 河水 从中 穿流 远望 犹如 一座 天然 古称 伊阙 自古以来 为游 龙门 第一 景观 龙门石窟 开凿 于北 魏孝文帝 年间 之后 历经 东魏 西魏 北齐 五代 宋等 朝代 连续 大规模 营造 余年 南北 长达 公里 存有 造像 万余尊 碑刻 题记 余品 龙门 二十品 书法 魏碑 精华 褚遂良 所书 伊阙 佛龛 之碑 初唐 楷书 艺术 典范 洛阳 巴郎 游記\n",
          "大家 国庆节 快乐 中秋节 愉快 双节 合一 实属 不易 其实 不是 两个 节气 一天 容易 其实 今年 大家 太不容易 行业 不景气 身边 说起 生活 唉声叹气 起来 顺利 手边 宽裕 再难 生活 继续 再苦 不能 孩子 怒气 肚里 好不容易 孩子 放假 八天 孩子 出去 看看 祖国 大好河山 孩子 面前 永远都是 乐观 向上 旅游 群组 红包 康养 龙峪湾 乘风破浪 姐姐 成团 之夜 央视 国庆 晚会 洛阳 爆料 夏日 撩人 旅行 遇见 美好 说走就走 旅行 旅游 推荐 成都 商报 Baby 林洁 当时 震惊 保定 飞飞 洛阳 栾川 托拉斯\n",
          "大姐 副业 养民 宿挺过 明年 春暖花开 每年 冬天 河南 洛阳 重渡 景区 淡季 今年春节 民宿 老板娘 孙军范 打算 破例 营业 孙军 范干 旅游 已有 多年 年底 多万 装修 民宿 准备 大干一场 遭遇 疫情 生存 孙军范 学习 拍摄 记录 生活 意外 山村 日常 受到 网友 喜爱 年里 靠着 野菜 木工 蜂蜜 不务正业 带来 收入 孙军范 顶住 还贷 压力 累计 投入 五六十万元 进一步 升级 设施 民宿 落后 市场 时代 时刻 准备 重启 回归 主业 河南 民宿 老板娘 回应 旅游业 现状\n",
          "大自然 欢乐 之旅 洛阳市 旅发委 嵩县 旅游 张相正 时间 一年 遇到 喜欢 东西 贵点 贵点 已经 很难 遇到 喜欢 何必 还要 为难 毕竟 遇到 喜欢 一定 喜欢 遇到 喜欢 东西 出钱 属于 美景 属于 单身 不要紧 喜欢 东西 不要紧 没景 温馨 提示 洛阳 白云山 景区 今年 不闭园 不闭园 不闭园 小伙伴 随时 过来 玩耍 神秘 冬季 项目 关注 洛阳 白云山 微信 公众 第一 时间 了解 冬季 项目 详情 洛阳 白云山 景区 海拔 原因 气温 相对 比较 过来 游玩 朋友 携带 保暖 衣物 受凉\n",
          "女子 游玩 老君山 头发 冻成 龙须 景区 山上 零下 十来度 近日 一段 游客 河南 洛阳 老君山 旅游 大雪 头发 冻成 龙须 引发 热议 该名 女子 头发 冻成 条状 忍俊不禁 上游 新闻记者 采访 老君山 景区 工作人员 周先生 表示 看到 拍摄 地点 应该 老君山 金顶 时间 上周日 当天 刚好 下雪 漫天 飞雪 游客 头发 冻成 龙须 现场 温度 自然 不高 周先生 透露 白天 县城 零下 几度 山上 温度 估计 零下 十来度 上游 新闻记者 赵映骥 上游 新闻 上游 新闻\n",
          "冰雪 王国 万安 七彩 大峡谷 近日 持续 降温 暴雪 影响 市区 较近 万安 七彩 大峡谷 出现 绵延 千米 冰挂 奇观 漫山遍野 植被 奇峰怪石 透明 冰层 包裹 晶莹剔透 美丽 巨大 冰瀑 奇异 冰柱 多姿 冰挂 悬挂 悬崖峭壁 之上 令人 赞叹不已 了解 万安 冰挂 嘉年华 活动 时间 日至 活动 开幕 以来 吸引 成千上万 游客 慕名而来 驻足 观赏 合影留念 景区 推出 半价 购票 入园 入园 一系列 优惠政策 利于 万安 七彩 大峡谷 位于 洛阳市 伊滨区 玄奘 兴业 交叉口 南约 公里 景区 依托 万安 独特 地理位置 自然风光 人文 历史 资源优势 打造 城市 休闲 功能 为主 道教 文化 依托 游水 登山 幽居 水乐 特色 生态旅游 休闲 观光 度假 娱乐 功能 一体 原生态 景区 洛阳\n",
          "旅行 旅游 推荐 河南省 洛阳 栾川 老君山 鸡冠 旅游区 老君山 景区 鸡冠 景区 组成 老君山 景区 位于 河南省 洛阳市 栾川县 七里坪 占地面积 26.66 平方千米 鸡冠 景区 位于 河南省 洛阳市 栾川县 塘村 观赏 面积 0.023 平方千米 老君山 形成 十九 亿年 大陆 造山运动 记录 亿年 华北 古陆 南缘 裂解 离散 增生 聚合 碰撞 造山 构造 演化过程 科学研究 价值 鸡冠 洞属 天然 石灰岩 溶洞 喀斯特地貌 历史 追溯到 亿年 鸡冠 考古 科研 价值 截至 老君山 景区 开发 建成 八大 景区 景点 鸡冠 中共 大小 景点\n",
          "旅游 每年 中国 旅游 一天 很多 选择 出游 今年 情况 特殊 很多 旅行 计划 成行 提早 规划 今天 要说 洛阳 栾川 王府 竹海 景区 4A 景区 名气 不算 特别 适合 夏天 避暑 游玩 特色 花费 景区 内部 山涧 泉水 清流 不断 五步 一瀑 十步 一潭 景区 一路 走来 一路 清凉 绝对 不敢 手脚 置于 泉水 冷水 估计 十几 着实 冰手 冰脚 炎热 夏季 游客 带个 西瓜 上山 找个 水洼 往里 一放 游山玩水 过后 取出 西瓜 切开 天然 冰镇 西瓜 清凉 不会 冰牙 起来 整个 夏天 味道 洛阳人 周末 河南人 周末 周边游 接下来 端午节 宝藏 4A 景区 值得 王府 竹海 度假 旅游区\n",
          "没错 没错 最近 夏日 火热 潮流 汉服 悄然 洛阳 山水 景区 吸引 大量 拍照 达人 到来 毕竟 洛阳 山水 景色 非常 美丽 加上 夏天 避暑 纳凉 好去处 特点 确实 美景 变成 拍照 胜地 王府 竹海 度假 旅游区 更是 成为 大家 喜欢 打卡 旅游 热门 景点 美丽 竹林 瀑布 拍照 好去处 拍照 背景 不同 不同 风格 大片 照片 景区 美景 很多 有趣 娱乐活动 美食 等待 游客 到来 不可 错过 旅游胜地 夏天 洛阳 山水 景区 特别 王府 竹海 度假 旅游区 凉爽 美丽 景色 拍照 时髦 氛围 流连忘返 大家 不妨 想想 景点 拍照 留下 夏日 美好 回忆 闪亮 拍照 大片 王府 竹海 度假 旅游区 洛阳\n",
          "安阳 旅游 生活 春游 河南 一起 走进 大峡谷 感受 醉美 春光 安阳 视觉 人间 四月 春光明媚 好时节 春游 选择 旅行 推荐 林州 大峡谷 位于 石板 岩乡 疗养 滑翔 攀岩 避暑 度假 绘画 写生 寻古 探幽 旅行 观光 龙潭 大峡谷 位于 洛阳市 新安县 北部 仰韶 大峡谷 位于 三门峡市 渑池县 丹河 大峡谷 位于 焦作市 西北 公里 豫西 大峡谷 位于 晋三省 结合部 三门峡市 卢氏县 道口镇 境内 梦行者 微爱 宜昌 西安 超哥 汤阴 川门 担担面 女王 范的 鹰击长空 吴晶 美丽 家园 一起 走进 中国 华业 爱文旅 江源 南昌 熊明\n",
          "洛阳 身边 河南 旅游 生活 杂志 大自然 欢乐 之旅 洛阳 旅游 编辑部 嵩县 旅游 张相正 洛阳市 旅发委 周边游 登顶 观海 祈福 纳吉 冰雪 项目 精彩纷呈 洛阳 白云山 度假区 地处 八百里 伏牛山 腹地 玉皇顶 海拔 中原地区 最高 山峰 中原地区 欣赏 云海 日出 最佳 场所 常年 云海 飘渺 朝晖 万千 日出 胜景 更是 令人难忘 玉皇顶 玉皇阁 供奉 玉皇大帝 坐像 当地人 朝拜 玉皇大帝 爱情 甜蜜 永结同心 想得 贵子 心想事成 升官 平步青云 发财 生意兴隆 游客 祈福 纳吉 锻炼身体 欣赏 美景\n",
          "每年 中国 旅游 一天 选择 出游 可能 今年 旅行 计划 实现 一定 提前 规划 今天 我要 介绍 洛阳 栾川 王府 竹海 景区 4A 景区 名气 不算 很大 特别 适合 夏天 避暑 游玩 特色 花费 景区 内部 山涧 泉水 清流 不断 五步 一瀑 十步 一潭 景区 漫步 清凉 无比 冷水 估计 十几 着实 冰手 冰脚 炎热 夏季 游客 会带 西瓜 上山 找个 水洼 往里 一放 游山玩水 过后 取出 西瓜 切开 天然 冰镇 西瓜 清凉 不会 冰牙 起来 整个 夏天 味道 洛阳人 周末 河南人 周边游 接下来 端午节 宝藏 4A 景区 值得 一游 景区 介绍 洛阳 栾川 王府 竹海 景区 王府 竹海 度假 旅游区 洛阳\n",
          "乐在其中 小小鱼 元月份 拍自 老君山 一山 四季 十里 不同 君山 北麓 冰未消 水之阳 花艳艳 这是 老君山 生动 写照 老君山 又名 景室 国家 AAAAA 旅游 景区 位于 洛阳市 栾川 城郊 秦岭 余脉 八百里 伏牛山 主峰 海拔 道教 始祖 老子 归隐 修炼 得名 自古 尊为 天下 名山 道教 圣地 中州 地区 天然 动植物 种质 基因库 美誉 号称 洛阳 避暑山庄 栾川 八大 景观 被誉为 君山 奇景 一山 四季 十里 不同 君山 北麓 冰未消 水之阳 花艳艳 这是 老君山 生动 写照 老君山 又名 景室 国家 AAAAA 旅游 景区 位于 洛阳市 栾川 城郊 秦岭 余脉 八百里 伏牛山 主峰 海拔 道教 始祖 老子 归隐 修炼 得名 自古 尊为 天下 名山 道教 圣地 中州 地区 天然 动植物 种质 基因库 美誉 号称 洛阳 避暑山庄 栾川 八大 景观 被誉为 君山 奇景\n",
          "长征 路上 奔小康 筑梦 长征路 豫见 长征 升级版 农家乐 大叔 钱包 起来 最近 洛阳市 栾川县 4A 景区 龙峪湾 山上 树木 变红 山脚下 庄子 迎来 最美 秋色 往年 不同 今年 郭留 太要 农家乐 宾馆 村民 一起 接待 旅游团 景区 名气 越来越 此地 游玩 游客 络绎不绝 去年 村里 农家乐 收入 达到 万元 大叔 游客 农家乐 接待 要求 提高 他家 客房 进行 升级 改造 实现 wifi 覆盖 热水澡 房价 几年 元涨\n",
          "黄河 小浪底 库区 码头 水上 旅游 航道 建设项目 年底 开工 建设 项目 起于 小浪底 大坝 禁航区 终于 我市 码头 主要 建设 内容 航道 技术标准 整治 航道 公里 主线 航道 公里 支线 航道 公里 建设 孤山 便民 交通 码头 洛阳 济源 建设 桐树 长泉 避风 锚地 洛阳 济源 配布 导航 标志 洛阳 济源 配备 风速 水位 遥测 遥报 航道 信息化 电子 航道 支持 保障系统 统计 小浪底 库区 洛阳 济源 三门峡 水上 客运量 万人次 水上 旅游 收入 万元 洛阳 万元 济源 万元 三门峡 万元 预计 客运量 万人次 客运量 万人次\n",
          "爆款 大唐 盛世 河南 纯玩 日游 开封 洛阳 黄河 三峡 峰林 砀山 陈家沟 山水 太行 文化 河南 5A 景区 完美 体验 一次 游遍 河南 景点 太极 祖祠 陈家沟 文化 砀山 避暑胜地 中华 奇景 峰林 万里 黄河 第一 黄河 三峡 最美 山水 最厚 文化 相结合 豫晋 两省游 超值 划算 尽兴 开心 满意 舒服 充足 当地 车船 交通 明白 消费 特价 产品 限量 发售 暑假 同价 抢购 品手速 行程 旅行 洛阳 开封 黄河\n",
          "洛阳 龙潭 大峡谷 峡谷 狂欢节 峡谷 奇潭 水戏 碧波 旅游 洛阳 龙潭 大峡谷 峡谷 狂欢节 全面 开启 峡谷 飞龙 跃龙门 打卡 龙潭 大峡谷 峡谷 狂欢节 全面 开启 缤纷 泡泡 跃龙门 挑战赛 峡谷 飞龙 老头 卖瓜 系列 活动 轮番 上演 朋友 小朋友 带来 一场 激情 夏日 狂欢 盛宴 查收 一份 精彩绝伦 峡谷 狂欢节 演出 节目表 千万 不要 错过 精彩表演 峡谷 奇观 飞瀑 流泉 龙潭 大峡谷 景区 花样 玩法 惊喜 上线 带上 朋友 小朋友 男盆友 女盆友 开心 放肆 龙潭 大峡谷 峡谷 狂欢节 全面 开启 峡谷 飞龙 跃龙门 打卡 洛阳 龙潭 大峡谷 景区\n",
          null
         ],
         "marker": {
          "opacity": 0.5,
          "size": 5
         },
         "mode": "markers+text",
         "name": "0_洛阳_旅游_景区",
         "text": [
          "",
          "",
          "",
          "",
          "",
          "",
          "",
          "",
          "",
          "",
          "",
          "",
          "",
          "",
          "",
          "",
          "",
          "",
          "",
          "",
          "",
          "",
          "",
          "",
          "",
          "",
          "",
          "",
          "",
          "",
          "",
          "",
          "",
          "",
          "",
          "",
          "",
          "",
          "",
          "",
          "",
          "",
          "",
          "",
          "",
          "",
          "",
          "",
          "",
          "",
          "",
          "",
          "",
          "",
          "",
          "",
          "",
          "",
          "",
          "",
          "",
          "",
          "",
          "",
          "",
          "",
          "",
          "",
          "",
          "",
          "",
          "",
          "",
          "",
          "",
          "",
          "",
          "",
          "",
          "",
          "",
          "",
          "",
          "",
          "",
          "",
          "",
          "",
          "",
          "",
          "",
          "",
          "",
          "",
          "",
          "",
          "",
          "",
          "",
          "",
          "",
          "",
          "",
          "",
          "",
          "",
          "",
          "",
          "",
          "",
          "",
          "",
          "",
          "",
          "",
          "",
          "",
          "",
          "",
          "",
          "",
          "",
          "",
          "",
          "",
          "",
          "",
          "",
          "",
          "",
          "",
          "",
          "",
          "",
          "",
          "",
          "0_洛阳_旅游_景区"
         ],
         "textfont": {
          "size": 12
         },
         "type": "scattergl",
         "x": [
          8.726572036743164,
          8.688766479492188,
          9.160733222961426,
          7.6188554763793945,
          10.228328704833984,
          8.374396324157715,
          8.516068458557129,
          8.788082122802734,
          10.0062255859375,
          8.549288749694824,
          8.25306510925293,
          9.832808494567871,
          8.457918167114258,
          8.550695419311523,
          8.226075172424316,
          8.25629711151123,
          8.319275856018066,
          9.521245956420898,
          10.318305969238281,
          10.192087173461914,
          9.955180168151855,
          10.89194393157959,
          8.884699821472168,
          7.797450065612793,
          8.5126953125,
          10.818302154541016,
          8.46013355255127,
          9.178680419921875,
          10.91940975189209,
          8.69608211517334,
          10.074604988098145,
          10.530372619628906,
          9.811619758605957,
          9.681825637817383,
          8.664054870605469,
          9.851731300354004,
          8.920449256896973,
          8.396944999694824,
          9.86437702178955,
          10.54039478302002,
          8.910282135009766,
          9.797857284545898,
          8.007457733154297,
          9.806549072265625,
          9.355398178100586,
          7.730123996734619,
          8.45548152923584,
          7.697336196899414,
          10.770193099975586,
          10.228487014770508,
          10.859487533569336,
          11.964078903198242,
          8.766552925109863,
          8.789525985717773,
          10.748737335205078,
          9.838146209716797,
          10.804019927978516,
          10.53425121307373,
          10.06694221496582,
          8.03658676147461,
          7.652304649353027,
          7.771305561065674,
          10.183649063110352,
          7.745222091674805,
          10.878064155578613,
          7.993170738220215,
          8.874972343444824,
          10.18775463104248,
          6.792832374572754,
          9.926572799682617,
          8.318325996398926,
          10.186742782592773,
          8.482746124267578,
          9.956477165222168,
          10.377912521362305,
          8.641469955444336,
          8.484121322631836,
          9.8496732711792,
          8.322041511535645,
          7.71457576751709,
          10.447920799255371,
          9.105772018432617,
          8.488484382629395,
          8.579699516296387,
          7.482759475708008,
          10.162490844726562,
          8.42306900024414,
          10.228663444519043,
          9.852580070495605,
          10.415968894958496,
          8.2704496383667,
          8.91001033782959,
          9.829002380371094,
          9.869418144226074,
          10.005603790283203,
          8.27386474609375,
          8.280696868896484,
          9.86513614654541,
          7.63763952255249,
          9.109131813049316,
          9.027246475219727,
          10.20279312133789,
          10.066987037658691,
          10.873177528381348,
          8.262701034545898,
          8.176263809204102,
          8.938298225402832,
          8.555109977722168,
          9.140277862548828,
          8.374601364135742,
          9.414711952209473,
          9.181970596313477,
          8.652017593383789,
          9.49593448638916,
          9.901805877685547,
          10.016053199768066,
          8.544035911560059,
          9.588083267211914,
          9.924025535583496,
          10.039525985717773,
          8.786787986755371,
          8.539779663085938,
          8.72993278503418,
          9.642838478088379,
          9.851560592651367,
          9.773757934570312,
          7.754530429840088,
          8.313650131225586,
          10.045432090759277,
          9.812224388122559,
          7.86038875579834,
          9.996748924255371,
          8.419862747192383,
          10.870386123657227,
          10.087590217590332,
          10.14339542388916,
          9.241076469421387
         ],
         "y": [
          11.576667785644531,
          11.513227462768555,
          10.849724769592285,
          10.994062423706055,
          11.929821968078613,
          11.577120780944824,
          10.85448169708252,
          11.707962989807129,
          11.623224258422852,
          11.646317481994629,
          10.590619087219238,
          11.686326026916504,
          10.893265724182129,
          10.491439819335938,
          11.399131774902344,
          10.483348846435547,
          10.500605583190918,
          11.522708892822266,
          11.454891204833984,
          11.48985767364502,
          11.376936912536621,
          11.415921211242676,
          11.02701473236084,
          10.556244850158691,
          11.55958080291748,
          11.644519805908203,
          10.797262191772461,
          10.81393051147461,
          11.366786003112793,
          11.251713752746582,
          11.141061782836914,
          11.27150821685791,
          12.108741760253906,
          11.824332237243652,
          11.506195068359375,
          11.5352783203125,
          11.118986129760742,
          10.408527374267578,
          12.059125900268555,
          11.234391212463379,
          11.699992179870605,
          11.747223854064941,
          11.007835388183594,
          12.038793563842773,
          11.679600715637207,
          10.462904930114746,
          11.658011436462402,
          10.525322914123535,
          11.588991165161133,
          11.929455757141113,
          11.285736083984375,
          7.830933094024658,
          11.165818214416504,
          11.168874740600586,
          11.63577938079834,
          12.09794807434082,
          11.118111610412598,
          11.255330085754395,
          11.185104370117188,
          11.444015502929688,
          10.889580726623535,
          10.5444974899292,
          11.945561408996582,
          10.448445320129395,
          11.110862731933594,
          10.989664077758789,
          11.045870780944824,
          11.583988189697266,
          9.174394607543945,
          11.341896057128906,
          10.60058307647705,
          11.558378219604492,
          11.49767017364502,
          11.678032875061035,
          11.414776802062988,
          11.286136627197266,
          10.484853744506836,
          12.051668167114258,
          10.773336410522461,
          10.472823143005371,
          11.330863952636719,
          10.920504570007324,
          10.488848686218262,
          11.393896102905273,
          10.8439359664917,
          11.52099895477295,
          10.858375549316406,
          12.01723861694336,
          11.477433204650879,
          11.392024040222168,
          11.43163013458252,
          10.576147079467773,
          12.115696907043457,
          11.585945129394531,
          12.150785446166992,
          11.43052864074707,
          10.406667709350586,
          12.03205680847168,
          10.867169380187988,
          11.638694763183594,
          11.198328971862793,
          11.283060073852539,
          11.648500442504883,
          11.240915298461914,
          11.428266525268555,
          10.802581787109375,
          11.097899436950684,
          11.67343807220459,
          10.878705978393555,
          10.884221076965332,
          11.649505615234375,
          11.082893371582031,
          11.359647750854492,
          11.515379905700684,
          11.960088729858398,
          11.809186935424805,
          10.490700721740723,
          11.412530899047852,
          11.602201461791992,
          11.58200740814209,
          11.007282257080078,
          10.491388320922852,
          11.094752311706543,
          11.637917518615723,
          12.008099555969238,
          12.380147933959961,
          10.700812339782715,
          11.47769546508789,
          11.675796508789062,
          11.920262336730957,
          10.779104232788086,
          11.788952827453613,
          10.550793647766113,
          11.42883014678955,
          11.463480949401855,
          11.604655265808105,
          11.25964069366455
         ]
        },
        {
         "hoverinfo": "text",
         "hovertext": [
          "专家 观点 苏州 科技 大学 旅游 系叶 骁军 教授 洛阳 中原 文化 贡献 洛阳 古都 资源 旅游 开发 主题 报告 提出 洛阳 中原 文化 具有 根基 核心作用 中华文化 主体 认为 中原 中华文明 摇篮 中原 文化 中华文化 重要 源头 核心 组成部分 中原 古代 中国 政治经济 中心 中华 主流 文化 主导 文化 发源地 说道 北方 发生 战乱 遭遇 滑铁卢 中原 文化 转移 南方 南京 中心 继续 发展 很长 时期 南京 成为 中华文化 正朔 文章 最后 洛阳 古迹 遗址 旅游 开发利用 中原 文化 研究 提出 建议\n",
          "两会 政在 河南 两会 问道 两会 人大代表 郝彦洁 加快 洛阳 国际 文化 旅游 名城 建设 民众 直观 触摸 历史 多年 文明史 多年 城市 多年 建都 华夏 文明 重要 发祥地 洛阳 建设 规划师 郝彦洁 给出 答案 城市规划 建设 各个方面 融入 历史 文化 元素 积极 打造 博物馆 目前 历史 轴线 重要 节点 陆续 建成 项目 加快 推进 借机 邀请 大家 洛阳 探访 最早 中国 感受 华夏 第一 独特 文化 魅力 详情 问道 两会 人大代表 郝彦洁 加快 洛阳 国际 文化 旅游 名城 建设 民众 直观 触摸 历史\n",
          "青春 young 助力 青年 友好 城市 建设 社食 遇记 洛阳 目前 正在 积极 打造 青年 友好 城市 知名 美食 UP 洛阳 姑娘 盗月社 树梢 积极响应 家乡 发展 助力 加油 河洛 文化 旅游节 期间 社食 遇记 邀请 五星级 厨师 洛阳 知名 美食 地标 十字街 摆摊 拍摄 探访 体验 大厨 小摊 带动 洛阳 城市 宣传 美食 IP 该期 发布 连续 三天 占据 全站 排行榜 第一位 相关 话题 登上 全国 全网 累计 播放 1106.5 万次 近期 树梢 进行 采访 听听 说些 精彩 洛阳\n",
          "中国 武术 文化产业 投资 基金 首期 投资 签约 此次 签约 首期 项目 包括 河北省 沧州市 河南省 登封市 陕西省 宝鸡市 金台区 海南省 定安县 河南省 洛阳市 伊滨区 区县 建设 功夫 文化 主题 国际 旅游 文化 社区 环球 功夫 小镇 据介绍 功夫 小镇 策划 蓝图 旅游 功能 成熟度 不断 延伸 功夫 小镇 附属 产业链 包括 设置 餐饮 养生 禅修 居住 综合 配套 设施 功夫 小镇 成型 之后 充分发挥 本地 文化 旅游圈 游客 接待 功能 扩大 本土 文化 全国 范围 影响力 具备 旅游 功能 具备 承办 中国 真功夫 世界 武术 搏击 俱乐部 联赛 全球 搏击 品牌 赛事 功夫 小镇 成为 世界 功夫 文化交流 中心 融合 之地 成为 多种 主流 搏击 赛事 举办地 届时 吸引 更多习 爱好者 目光 来源 中国 体育报\n",
          "年轻人 爱上 洛阳 理由 邓亚萍 洛阳 打乒乓球 近日 奥运冠军 邓亚萍 亲赴 洛龙区 定鼎 社区 健身 中心 市民 一同 乒乓球 社区 健身 中心 火爆 洛阳 背后 离不开 邓亚萍 身影 洛阳 走向世界 起点 洛阳 报恩 邓亚萍 满是 感动 地说 去年 以来 河南 邓亚萍 体育产业 投资 基金 洛阳市 合作 盘活 城市 公共绿地 社区 闲置 用房 资源 建成 社区 体育 公园 社区 健身 中心 加快 打造 公共 文化 体育 服务 进社区 洛阳 模式 中国 十年 河南 吉小平 河南日报\n",
          "华夏 文明 开启 最早 中国 中国 封建王朝 夏朝 夏朝 都城 二里头 遗址 看看 华夏 文明 博物馆 信息 位置 河南省 洛阳市 偃师 偃师市 翟镇 二里头 二里头 夏都 博物馆 二里头 夏都 遗址 博物馆 营业时间 周二 周日 门票 免费 需要 微信 公众 提前 预约 洛阳 旅行 洛阳 周末 博物馆 洛阳 文化 国风 旅行 河南 旅游 夏朝 文化 旅行 博物馆 同城 种草 种草 心动 宝藏 洛阳 创作力 计划 遇见 美好 爱上 这座 周末 洛阳 二里头 夏都 遗址 博物馆 令狐 姑娘 LH\n",
          "洛阳 市政府 坚持 创新 引领 发展 建强 中心 形成 增长极 现代化 建设 征程 重振 洛阳 辉煌 实施方案 黄河 文化 实施 沿黄 旅游 通景线 建设 加快 推动 沿黄 生态 廊道 小浪底 库区 港航 工程 汉关 文化城 片区 白马寺 博物馆 项目 建设 推动 小浪底 龙潭 眉山 沿黄 旅游 景区 品质 提升 打造 黄河 文化 旅游 融合 示范带 黄河 国家 文化公园 重点 建设 打造 黄河 历史 文化 地标 城市 完成 沿黄 生态 廊道 中共 治黄 展览馆 黄河 生态 保护 教育 基地 重点项目 建设 沿黄 景点 串联 成线 打造 河之洲 度假区 汉关 文化城 片区 一批 综合性 文旅 项目 建设 小浪底 龙潭 眉山 沿黄 旅游 景区 黄河 文化 旅游 标志性 景区\n",
          "现场 直播 本届 博览会 项目 多种多样 亚太 旅游 协会 探险 旅游 大会 交易会 河南 洛阳 国际 探险 旅游 装备 博览会 河南省旅游局 洛阳市 人民政府 主办 探险 旅游 生动 主题 邀请 美国 英国 法国 德国 澳大利亚 西班牙 多个 国家 地区 代表 参加 围绕 文化遗产 保护 传承 发展 一带 一路 旅游 合作 国际 文化 旅游 名城 建设 旅游 装备 制造业 发展 主题 探讨 交流 组织 安排 亚太 旅游 协会 探险 旅游 洛阳 峰会 旅行 商及 投资 项目 洽谈会 户外 精品展 旅游业界 交流会 系列 旅游 经贸 活动\n",
          "中国 摄影 白云山 生态 摄影 大展 采风 政策 了解 一下 中国 摄影 之地 白云山 生态 摄影 大展 活动 征稿启事 五月 全面 启动 进一步 推广 洛阳 白云山 美丽 自然景观 和谐 风土人情 优质 旅游 资源 摄影艺术 进行 优质 宣传 方便 摄影 爱好者 景区 采风 制定 以下 优惠政策 征稿 期间 中国摄影家协会 省级 摄影家 协会 市级 摄影家 协会会员 身份证 会员证 可免 门票 免景交票 进入 白云山 旅游 度假区 进行 采风 创作 友情 提示 进入 景区 请持 本人 证件 铜河 游客 服务中心 资讯 登记 办理 采风 入园 手续 方可 进入 景区 创作 谢谢合作\n",
          "今日 文旅 行业 信息 洛阳 方特 项目 签约 投资 亿元 洛阳 发布 公众 消息 近日 河南 文旅文创 发展 大会 签约 仪式 举行 本次 签约 梳理 重点 文旅 项目 投资总额 525.6 亿元 签约 仪式 遴选 重点 文旅 项目 重大 引客 入豫 项目 进行 现场 签约 投资总额 365.8 亿元 重点 文旅 项目 包括 文物 数字化 开发 文化 创意 园区 建设 文化 项目 涵盖 旅游 度假区 建设 旅游 酒店 民宿 打造 旅游 项目 既有 旅游 景区 开发 商旅 综合体 建设 传统 业态 宇宙 基地 沉浸 演艺 业态 河南省 文化 旅游 投资 集团 万达 集团 达成 合作 体育 文旅 演艺 影视 方面 广泛 深入 布局 项目 规划设计 开发 建设 运营 管理 进行 全面 合作 国际 IP 品牌 文旅 项目 恐龙 国际 旅游 度假区 项目 洛阳市 文旅 小镇 项目 洛阳 华夏 历史 文明 传承 创新 产业园 项目 落地 仙山 景区 飞梭 项目 红旗渠 太行山 大型 实景 演出 项目 云台山 森林 动物 王国 项目 南召 鸭河 河园 旅游 度假区 项目 周口市 淮阳 中华 文化 休闲 旅游 项目 现场 共同 签约 据悉 洛阳 方特 华夏 历史 文明 传承 创新 示范园 项目 预计 投资 亿元 五千年 华夏 文明 传承 为主 充分 结合 洛阳 特色 文化 依托 现代 高新技术\n",
          "洛阳 热门 洛阳 洛阳城 旅游 攻略 亲爱 网友 您好 提到 问题 以下 洛阳 正大 广场 开业 初期 刚刚 三个 大型商场 相关 投入 热情 积极 饱满 致力 打造 丰富多彩 城市 驿站 广大 市民 提供 环境优美 温度 舒适 光线 充足 气氛 亲切 shopping mall 在此期间 商户 运营 情况 非常 个别 商户 可能 是因为 原因 进入 良性循环 状态 管理方 将会 更加 真诚 态度 更加 完善 服务 大家 提供 帮助 希望 商户 正大 广场 一起 共同努力 共同进步 未来 时间 洛阳 正大 广场 主力 即将 全面 呈现 比如说 ZARA 优衣库 大乐 影城 莲花 超市 大店 陆续 开业 将来 还会 继续 重大 节日 融进 各种各样 活动 丰富 广场 商业 氛围 带动 人气 热烈欢迎 广大 市民 洛阳 正大 广场 感受 宾至如归 购物 体验 欢迎 提出 问题 网友 能够 正大 广场 进行 充分 沟通 满腔热忱 欢迎 广大 商户 提出 各项 意见 建议 大家 监督 指导 发展 进步 希望 看到 满意 微笑 爱是 正大 无私 奉献\n",
          "洛阳 小时 洛阳 洛阳 一座 万达 广场 今日 上午 开元 壹号 万达 广场 项目 合作 签约 仪式 举行 项目 位于 洛龙区 开元 大道 大街 交叉口 东南角 项目 占地面积 43.36 建筑面积 万平方米 投资 金额 亿元 计划 开工日期 计划 开业 时间 项目 采用 最新 设计 理念 商业 定位 打造 购物 休闲 文化 旅游 功能 一体 特色 商业广场 打造 涵盖 大型 商业中心 城市 步行街 购物 餐饮 文化 娱乐 多种 功能 一体 城市 客厅 弥补 洛龙区 东部 商业 空白 建成 以后 形成 居住 办公 商业 步行 分钟 集聚 区域 价值 提升 起到 带动 作用 掌上 洛阳\n",
          "洛阳城 洛阳市 文化 艺术 中心 加紧 建设 洛阳市 文化 艺术 中心 项目 现场 项目 加紧 施工 洛阳市 文化 艺术 中心 项目 位于 开元 大道 以南 白塔路 以北 玉溪 东街 以西 玉溪 西街 以东 东侧 伊滨 板块 中轴 景观 水系 一座 设施 功能 合理 综合性 甲级 剧院 项目 占地面积 平方米 建筑面积 平方米 建筑 结构 主要 包括 一座 座大 剧院 一座 音乐厅 建设 多功能 会堂 多个 中小型 会议室 项目 建筑 形象 着力 体现 唐风汉韵 古都 新风 地域 文化 特色 文化 艺术 中心 主体 建设 东侧 水系 相得益彰 未来 市民 游客 提供 更加 丰富 公共 文化 配套 服务\n",
          "全国 城市 休闲 旅游 竞争力 城市 全国 城市 休闲 旅游 竞争力 大比拼 排名 居前 看看 家乡 有没有 上榜 十四五 规划 远景 目标 纲要 绘制 我国 城市 发展 蓝图 明确提出 打造 一批 文化 特色 鲜明 国家级 旅游 休闲 城市 街区 北京联合大学 社会科学文献出版社 联合 举行 城市 休闲 旅游 竞争力 绿皮书 新闻 发布会 对外 发布 中国 城市 休闲 旅游 竞争力 报告 每经 发布会 了解 这一 报告 公布 全国 城市 休闲 旅游 竞争力 名列前茅 榜单 包括 北京 上海 杭州 南京 广州 深圳 重庆 苏州 厦门 成都 城市 这一 榜单 包括 以下 城市 北京 上海 杭州 南京 广州 深圳 重庆 苏州 厦门 成都 大连 青岛 天津 无锡 西安 武汉 宁波 长沙 洛阳 黄山 哈尔滨 珠海 福州 太原 昆明 沈阳 济南 长春 贵阳 泉州 每经 TY 全国 城市 休闲 旅游 竞争力 大比拼 排名 居前 看看 家乡 有没有 上榜\n",
          "洛阳 获得 联合国 世界旅游组织 旅游 持续 发展 中国 观测点 最量 文物 活化 智慧 旅游 案例 洛阳 历史渊源 久远 文化 积淀 深厚 文物 积存 丰硕 旅游 持续 发展 观测点 体系 无与伦比 存在 而今 这座 千年 古都 正以 开放 包容 姿态 拥抱 时代 技术 文化 创新 技术革新 赋予 古都 洛阳 更加 旺盛 生命力 旅游 持续 发展 进程 生生不息 授予 河南 洛阳 观测点 联合国 世界旅游组织 旅游 持续 发展 中国 观测点 最佳 文物 活化 智慧 旅游 案例 寻找 记忆 城市 名片 公开课 洛阳 爆料 洛阳\n",
          "下午 洛阳市 文化 旅游 产业 投资 合作 洽谈会 成功 举办 该项 活动 中原 文化 旅游 产业 博览会 重要 商务 专项 活动 旨在 境内外 客商 构建 文化 旅游 产业 开放 合作 融合 发展 平台 洽谈会 来自 华润 万达 集团 绿地 集团 民生银行 中青旅 融创 余家 知名企业 多位 文化 旅游 企业 嘉宾 参加 洽谈会 集中 签约 文化 旅游 招商 项目 投资总额 122.53 亿元 亿元 以上 项目 分别 投资 亿元 河洛 春风 苑果 乐农旅 休闲 小镇 项目 投资 亿元 绿地 骊滨 水城 项目 投资 10.53 亿元 香鹿山 迷迭香 芬芳 庄园 项目 签约 项目 涵盖 文旅 综合体 生态 观光旅游 休闲 运动 研学 康养 文创 多个 领域\n",
          "CIFF 广州 设计 高地 永华 家具 赓续 中华文明 薪火 强化 红木 文化 传承 展开 历史 长卷 赵武灵 胡服骑射 到北 魏孝文帝 汉化 改革 洛阳 家家 胡乐 万里 羌人 尽汉歌 中华文化 各族 文化 相互 交融 博采众长 求新 求变 精神 中国 红为 底色 中华文化 变得 更加 绚丽多彩 家具 人民 美好生活 重要 载体 中国 传统 家具 伴随 中国 历史 文化 发展 历经 秦汉 古朴 近代 民国 当下 一路 中华文化 相伴 相随 目前 红木家具 成为 中国 家具行业 最具 民族特色 最富 文化底蕴 重要 组成部分 永华 家具 成立 广州 番禺 植根 优秀 传统 文化 土壤 积淀 丰厚 艺术 资源 围绕 高端 红木 产业 岭南文化 艺术 发展 已经 成为 家具 研发 生产 制造 文化 旅游 工艺美术 特色 文创 一体 广东省 优秀 广作 工艺 制造 企业 综合性 文化产业 企业 国家 博会 广州 即将 到来之际 展会 联合 永华 家具 总经理 陈国伟 进行 展前 专访 邀请 一起 品鉴 红木家具 魅力\n",
          "集团 亚商 舞蹈 健身 学校 发展 连锁 直营 分校 需要 洛阳 市区 市区 内求 场地 地理位置 交通 条件 靠近 物贸 中心 展览 中心 商务中心 大型 游乐场 商住 小区 区域 物业 周边 公里 具备 成熟 大型 社区 高等院校 区域 商业中心 交通 便利 停车 方便 免费 停车位 市场 条件 所在地 良好 经济 文化 发展前景 投资 经营 环境 适合 休闲 行业 周边 较大 车流量 人流量 附近 政府 企事业 单位 商场 住宅小区 物业 条件 基本 条件 租赁 面积 平方米 楼层 以上 超过 以上 必须 配有 电梯 扶梯 局部 承重 500KG 平方米 以上 租赁 期限 最低 不少 物业 正面 免费 提供 独立 广告位 免费 招位 具备 以上 免费 停车位 层高 净高 低于 3.5 净高 设备 最低点 至本层 地面 结构层 高度 柱距 游泳池 最好 电话\n",
          "烟花 三月 扬州 五一 扬州 市政府 食堂 迎客 余人次 五一 扬州 网红 食堂 市政府 食堂 再度 开门 对外 迎客 扬州 市政府 大院 开放 停车场 外地 游客 免费 停车 扬州市 机关 事务 管理局 了解 截止 今天 晚上 扬州 市政府 食堂 就餐 人数 共计 余人次 临近 中午 市政府 食堂 已经 迎来 南京 新疆 第一批 客人 进入 政府 食堂 贴心 独立 洗手台 打包 茶水 免洗 消毒 洗手液 游客 免费 领取 旅游 免费 充电 整齐 摆放 各项 细节 诚意 满满 山东 淄博 烧烤 南有 江苏 扬州 市政府 开门 八方客 来自 山东 临沂 游客 市政府 食堂 留言板 郑重 写下 扬州 市政府 机关 食堂 服务 管理 饭菜 非常 满意 洛阳市 游客 写道 政府 为民 解忧 旅途 增加 快乐 感谢 扬州 市政府 工作人员 热情服务 引导 郑州市 游客 表示 荣幸 来到 扬州 市政府 干饭 感谢 下次 还来 特种兵 大学生 留下 落款\n",
          "厚重 河南 旅游 展区 惊艳 中国 国际 旅交会 日至 中国国际旅游交易会 上海 国际博览 中心 举行 旅游局 组织 郑州 开封 洛阳 焦作 许昌 驻马店 鹤壁 安阳 平顶山 等市 旅游局 多家 景区 参会 河南 展区 设计 造型 青砖 灰瓦 折射出 河南 中国 历史 地方 厚重 主题 交易会 期间 漫步 河南 展区 大屏幕 LED 现场 滚动 播放 河南 旅游 形象 宣传片 来自 焦作 温县 陈家沟 太极 大师 现场 进行 太极 表演 书法 大师 挥毫 泼墨 优美 典雅 古筝 弹奏 充满 文化 内涵 历史 底蕴 河南 元素 吸引 众多 国内外 参展 嘉宾 旅行 驻足观看 了解 中国国际旅游交易会 举办 走过 历程 近年来 旅交会 成为 亚洲 最大 旅游 专业 交易会 全球 旅游业界 关注 国际 旅游 盛事 深化 国际 国内 旅游 合作 搭建 宽广 平台 本届 交易会 展出 面积 平方米\n",
          "文旅文 创看 洛阳 河南省 文旅文创 发展 大会 本次 大会 安排 项目 签约 主要 方面 内容 一是 文旅 产业 项目 签约 截至 目前 梳理 重点 文旅 项目 投资总额 525.6 亿元 遴选 重大项目 进行 现场 签约 投资总额 365.8 亿元 项目 包括 文物 数字化 开发 文化 创意 园区 建设 文化 项目 涵盖 旅游 度假区 建设 旅游 酒店 民宿 打造 旅游 项目 既有 旅游 景区 开发 商旅 综合体 建设 传统 业态 项目 宇宙 基地 沉浸 演艺 业态 项目 充分体现 我省 文化 旅游 发展 特点 趋势 二是 引客 入豫 项目 签约 主要 我省 文旅 部门 文旅 企业 头部 旅行 知名 OTA 平台 重点 客源地 文旅 部门 签订 引客 入豫 协议 持续 拓展 省外 客源 市场\n",
          "洛阳 旅游 日至 旅发 集团 匠心 雅集 公开课 推出 百期 课庆 特别节目 公众 别样 感受 中国 传统 文化 魅力 此次 匠心 雅集 百期 课庆 分为 国学 传承 民间 技艺 古典 演出 三大类 多种 课程 包含 书法 茶道 围棋 中医 养生 诗经 品读 剪纸 脸谱 绘画 糖人糖 乐器 演奏 敦煌 香道 文化 汉服 汉饰 成人礼 洛阳 城市 会客厅 位于 洛阳市 新区 会展中心 一层 之间 通道 玻璃房 进入 公众 关注 匠心 雅集 免费 公开课 信号 jiangxinyaji 领取 电子地图 报名 参课 发布 头条 文章 匠心 雅集 百期 课庆 免费 一场 中国 传统 文化 之约 quot 匠心 雅集 quot 百期 课庆 免费 一场 中国 传统 文化 之约\n",
          "洛阳市 营市 餐饮 小吃 娱乐 综合体 位于 西工区 人民 核心 地带 斥资 天府 小街 正门口 餐饮 沉淀 自然 流量 一天 万人 百货 建业 商圈 占地 2.6 万平方米 文化 怀旧 唱歌 演绎 美食 小吃 休闲 娱乐 网红 打卡 餐饮 孵化 一体 大型 餐饮 综合体 小时 营业 室内 演绎 全天候 运营 配套 服务 健全 星级 服务 标准 大众 消费 群体 定位 中原 打造 服务 全国 市场 目前 招商 品类 如下 文创类 轻餐 网红 小吃 特色小吃 特色 面粉 外地 小吃 甜品 串串 烘培 烧烤 水吧 奶茶 汤食 特色 主题 餐厅 中型 餐饮 酒吧 台球 咖啡 剧本 儿童乐园 各类 品种 一种 重复\n",
          "洛阳城 洛阳 旅游 好消息 好消息 洛阳 新增 一处 免费网 打卡 隋唐洛阳城 国家 历史 文化公园 天街 北延 项目 今日 对外开放 天街 北延 项目 位于 洛龙区 安乐 水磨 境内 原有 两坊 一街 基础 上向北 延伸 建设 重点 遗址 保护 展示 工程 项目 总面积 7.2 万平方米 建成 成为 观光 研学 休旅为 一体 综合性 项目 隋唐洛阳城 一区 一轴 中轴线 建设 继续 向北 推进 展现 全面 活化 隋唐洛阳城 中轴线 实现 文物保护 旅游 发展 城乡建设 民生 改善 深度 融合 外界 展现 真实 立体 全面 定鼎 遗址 片区 洛阳 打造 国际 文化 旅游 名城 提供 重要 支撑 洛阳 洛阳 行走\n",
          "洛阳 日报 首版 刊登 文章 伊滨 板块 正在 崛起 文章 伊滨区 发展 详细 介绍 阐述 历史 文化 发展 传承 现代 城市 建设 加速 产业布局 未来 发展 方向 正在 快速 崛起 形容 伊滨区 一点 不为过 不同于 洛北 洛南 城区 定位 伊滨区 正在 赋予 科技 新城 使命 未来 伊滨区 壮大 高端 装备 制作 机器人 电子信息 高端 服务 两大 主导产业 发展 教育 培训 总部 经济 文化 旅游 金融服务 四大 新兴产业 做强 钢制 家具 通用 航空 两大 特色产业 产业 发展 适应 伊滨 实际 洛阳 整个 经济 发展 趋势 崛起 伊滨区 需要 洛阳人 支持 伊滨区 管委会 全景 洛阳 洛阳\n",
          "洛阳 青春 提升 城市 文明 程度 积极 打造 沉浸 文旅 目的地 洛龙区 打造 街头 艺术表演 品牌 文化 鼓励 引导 民间艺人 文化 艺术 爱好者 参与 街头 艺术表演 丰富 古都 八点 活动 为夜 经济 注入 文化 活力 此项 街头 艺术表演 活动 中共 洛阳 市委 宣传部 洛阳市 文化 广电 旅游局 指导 中共 洛龙区 宣传部 洛龙区 文化 广电 旅游局 主办 招募 街头 艺人 街头 艺人 表演 进行 动态 管理 形成 规范化 常态 持续 街头 艺术表演 模式 洛龙区 文化氛围 注入 源源不断 新鲜 活力 提升 洛龙区 文化 品牌价值 助推 洛阳 青年 友好 城市 建设 行走 青春 洛阳\n",
          "手记 豫见 快手 洛阳 洛阳 打造 网红 城市 文化 看见 首届 河南 洛阳 快手 网红文 大会 多位 快手 深入 洛阳市 核心 文化 旅游 景区 孟津 新安 县区 主要 景区 展开 旅拍 创作 届时 直播 方式 全方位 展现 洛阳 古今 交融 之美 推广 洛阳 文旅 资源优势 华夏 第一 王朝 二里头 二里头 夏都 遗址 博物馆 高楼 广阔 一览 洛阳城 隋唐 第一门 应天门 世界 石窟 龙门石窟 国家一级 博物馆 洛阳 博物馆 繁华 如梦 夜市 洛阳 十字街 每一处 梦回 大唐 洛阳城 快手 精彩 洛阳 洛阳 旅游 河南省 文化 旅游 官方 河南 网信 文旅 中国\n",
          "洛阳 获批 设立 国家级 河洛 文化 生态 保护 实验区 国家级 文化 生态 保护区 指以 保护 物质 文化遗产 核心 历史 文化 积淀 丰厚 存续 状态 良好 具有 重要 价值 鲜明 特色 文化 形态 进行 整体性 保护 文化 旅游部 同意 设立 特定 区域 河洛 文化 生态 保护 实验区 获批 充分体现 国家 河洛 文化 重大 战略地位 认可 洛阳 河洛 文化 黄河 文化 华夏 文明 起源地 核心区 认可 凸显 河洛 文化 黄河 文化 重要 组成部分 黄河 文化 主流 文化 母体 文化 地位 我市 打造 国际 人文 交往 中心 建设 国际 文化 旅游 名城 深入 推进 华夏 历史 文明 传承 创新 建设 推进 大运河 文化 建设 具有 重要 意义 设立 河洛 文化 生态 保护 实验区 以非 物质 文化遗产 核心 加强 河洛 文化 生态 保护 有利于 推动 我市 物质 文化遗产 整体性 保护 传承 发展 优化 河洛 文化 生态环境 维护 文化 生态系统 平衡 完整 有利于 大运河 文化 建设 环境 涵养 促进 运河 地区 文化 交流 互鉴 有利于 提高 文化 自觉 增强 民族 自信心 凝聚力\n",
          "洛阳 打造 文化 集中 体验 规划 提出 实施 中华文化 超级 IP 工程 构建 中华文化 超级 IP 矩阵 重点 打造 代表 早期 中国 二里头 文化 IP 展示 中国 气象 隋唐洛阳城 文化 IP 提升 国际 知名度 影响力 依托 二里头 遗址 龙门石窟 重要 文物古迹 国内外 优秀 拍摄 制作 团队 创作 一批 精品 影视节目 扩大 全球 影响 依托 洛阳 打造 文化 集中 体验 建设 一批 文化 体验 文化交流 文化教育 一体 综合 文化 空间 打造 沉浸 文化 体验 场景 围绕 唐宋 服饰 唐宋 美食 唐三彩 历史 建筑 绘画 作品 遗址 文物 创作 一批 体现 中式 美学 生活 器物 和文 产品 唐宋 审美 融入 日常生活 郑汴洛及 节点 旅游 城市 旅游 景区 设立 一批 小剧场 引进 创作 一批 小歌剧 舞剧 音乐剧 木偶 皮影 杂技 魔术 节目 洛阳 隋唐洛阳城 应天门 遗址\n",
          "今日 晚报 国际象棋 公益 课邀 近日 从市 体育局 了解 棋类 协会 涧西区 文化 体育 旅游局 日前 授予 全国 国际象棋 后备 人才 基地 红太阳 国际象棋 俱乐部 联合 我市 推出 国际象棋 公益 课程 少年儿童 普及 国际象棋 相关 知识 公益 课程 地点 青少年儿童 活动中心 教学楼 公益 课程 首场 本月 进行 以上 儿童 报名 参与 课程 结束 学员 掌握 程度 颁发 相应 中国 国际象棋 协会 棋士 等级证书 相关 事宜 可拨打 电话 进行 咨询 国际象棋 公益 课邀\n",
          "点亮 传统 文化 现代 密码 洛阳 频频 背后 唐宫 夜宴 洛神 水赋 龙门 金刚 一次次 文化 输出 频频 打破常规 印象 河南 文化 许许多多 绕不开 洛阳 元素 洛阳 文化底蕴 厚重 全国 全球 具有 认同度 基础 条件 打造 国家 文化 创新 高地 近年来 洛阳 打破 传统 思维 进一步提高 站位 拓宽 视野 聚焦 营销 洛阳 文化 旅游 目标 善于 传播 思维 策划 活动 针对 不同 受众 群体 设置 话题 坚持 移动 优先 扩大 网络 传播 不断 提高 洛阳 文化 传播 影响力 点亮 传统 文化 现代 密码 洛阳 频频 背后\n",
          "徐克 狄仁杰 系列 电影 爱好者 中意 风起 洛阳 题材 马伯庸 之前 长安 十二 时辰 烂尾 这部 完结 口碑 其实 地方 政府 推广 城市 旅游 打造 文化 名片 借鉴 长安 十二 时辰 成功 理解 很多 事情 总是 无心插柳柳成荫 有心 栽花 花不开 跟风 模仿者 似乎 永远 无法 超越 初代 作品 惊鸿一瞥 区别 作家 心血来潮 原创 小说 当地 行政部门 命题 作业 小说 改编 剧本 必要 部门 层层 修改 演员 选择 角色 适配 籍贯 建议 长沙 市政府 整个 类似 影视剧 好好 推广 一下 历史 文化名城 可惜 不是 古都\n",
          "行走 河南 读懂 中国 关注 全省 文旅文创 发展 大会 二十大 报告 指出 坚持 以文塑 旅彰文 推进 文化 旅游 深度 融合 发展 聚焦 全省 文旅文创 大会 今日 河南 将文 旅文创 融合 战略 列入 十大 战略 依托 历史 底蕴 深厚 文旅 资源 丰富 优势 建设 中华文化 传承 创新 中心 打造 世界 文化 旅游胜地 目标 积极 发展 富有 特色 链条 文旅 业态 培育 文旅文创 产业 支柱 领跑 时代 文旅融合 发展 赛道 老家 河南 融出 河南省 文旅文创 发展 大会 洛阳 举办 本报 围绕 行走 河南 读懂 中国 主题 推出 关注 河南省 文旅文创 发展 大会 特刊 集中 展示 我省 深入 实施 文旅文创 融合 战略 取得 显著 成效 凝聚 建设 文化 旅游 强省 强大 合力 详见 河南日报 客户端\n",
          "洛阳 餐旅 实业 第十九届 中国 美食节 荣获 改革开放 周年 全国 饭店 餐饮业 功勋 企业 大奖 全国 饭店 餐饮业 改革开放 周年纪念 大会 第十九届 中国 美食节 同期 召开 洛阳 旅发 集团 控股 企业 省内 首家 唯一 餐饮 类新 三板 挂牌 企业 洛阳 餐旅 实业 全国 余家 知名 餐饮企业 脱颖而出 荣获 改革开放 周年 全国 饭店 餐饮业 功勋 企业 制作 宴席 喜结良缘 荣获 中国 名宴 中国 金牌 宴席 设计 旗下 洛阳 水席园 旗舰店 制作 洛阳 水席 荣获 中国 美食 百强 中国 名菜 荣誉 奖项 进一步 提升 我市 餐饮 产业 品牌 知名度 美誉度 推动 文化 旅游 餐饮 产业 融合 发展 迈上 新台阶\n",
          "洛阳 本地 攻略 洛阳 获得 联合国 世界旅游组织 旅游 持续 发展 中国 观测点 最量 文物 活化 智慧 旅游 案例 洛阳 爆料 洛阳 历史渊源 久远 文化 积淀 深厚 文物 积存 丰硕 旅游 持续 发展 观测点 体系 无与伦比 存在 而今 这座 千年 古都 正以 开放 包容 姿态 拥抱 时代 技术 文化 创新 技术革新 赋予 古都 洛阳 更加 旺盛 生命力 旅游 持续 发展 进程 生生不息 授予 河南 洛阳 观测点 联合国 世界旅游组织 旅游 持续 发展 中国 观测点 最佳 文物 活化 智慧 旅游 案例 洛阳\n",
          "洛阳 洛阳 本土 综艺 少年行 第一季 文化 寻根 来袭 综艺 当今社会 高楼 迭起 科技 急速 发展 逐渐 忘记 原本 样子 忘记 真正 寻根 不仅仅 一次 旅行 冒险 一次 探索 学习 祖辈 留下 传统 文化 告诉 真正 答案 国学 文化 娃娃 抓起 少年行 寻根 季将 带领 小朋友 寻找 传统 文化 洛阳 中国 著名 六大 古都 华夏 文明 发祥地 丝绸之路 东方 起点 十三个 王朝 先后 建立 华夏大地 留下 浓墨重彩 一笔 五千年 历史长河 之中 这片 古老 土地 留下 绚烂 多彩的 东方 文明 少年 意气风发 洛阳 悠悠 古韵 相结合 碰撞 火花 文化 寻根 少年 洛阳 敬请期待 洛阳\n",
          "洛阳城 即将 开幕 第三届 中原 国际 文化 旅游 产业 博览会 邀约 河南省 文化 旅游 洛阳市 人民政府 主办 洛阳 旅游 发展 集团 承办 文旅 中原 融通 世界 主题 第三届 中原 国际 文化 旅游 产业 博览会 日至 洛阳 会展中心 举行 此次 博览会 国际化 专业化 市场化 导向 打造 一站式 中原 文化 旅游 产品 展示 交流 交易平台 这是 一场 以文 旅之名 河洛 文化 之约 文化 盛宴 一张 丰富 河洛 文化 品牌 内涵 城市 名片 历届 博会 精华 世界 输送 河洛 文化 一次 创新 日至 洛阳 会展中心 不见不散\n",
          "近年来 偃师 牢固 树立 以文促 旅彰文 发展 理念 抢抓 国家 黄河流域 生态 保护 高质量 发展 战略 布局 一带 一核 三山 五区 战略 格局 洛阳 都市 建设 国际 人文 交往 中心 建设 机遇 依托 丰富 优势 文化 旅游 资源 全力 构建 文化 旅游 互动 共进 共生 互融 格局 文化 起来 产业 起来 实现 文化 旅游 产业 全区 发展 大局 同频 共振 互补 互兴 厚重 偃师 期待 相遇 O10 上午 偃师 文化 旅游 工作 会议 首阳 大厦 会议 中心 召开 届时 洛阳 日报 报业 集团 洛阳 晚报 洛阳 商报 河图 洛阳 平台 会议 进行 现场直播 欢迎 大家 进入 直播间 一起 关注 偃师 文旅 发展 洛阳\n",
          "洛阳 身边 厉害 洛阳市 计划 接待 游客 1.23 亿人次 旅游 总收入 亿元 近日 洛阳 市委 经济 工作 会议 指明 全市 加快 建设 国际 文化 旅游 名城 目标 任务 推进 隋唐洛阳城 应天门 定鼎 片区 城墙 遗址 公园 汉魏 故城 太极 函谷关 一批 遗址 保护 展示 工程 抓好 二里头 夏都 遗址 博物馆 丝绸之路 博物馆 仓窖 博物馆 项目 建设 谋划 建设 博物馆 开发 温泉 养生 医疗 养老 旅游 产品 创作 一批 实景 演艺 影视 演出 文艺 精品 丰富 文化 旅游 产品 体系 全年 计划 接待 游客 1.23 亿人次 实现 旅游 总收入 亿元 洛阳 旅游\n",
          "V40 本色 之星 陈姿君 Livel 全球 婚旅 创始人 毕业 昆士兰 大学 拥有 国际 事件 管理 旅游 规划 双硕士 担任 澳大利亚 布里斯班 华人 商会 秘书长 澳洲 成立 婚礼 摄影 策划 工作室 几年 积累 之后 陈姿君 放下 毅然 回到 中国 开设 一家 海外 婚礼 工作室 创立 品牌 LIVEL 沃尔沃 汽车 赞助 创享 寻找 沃尔沃 V40 之星 女性 创业 大会 陈姿君 LIVEL 获得 沃尔沃 V40 之星 大奖 成功 经验 总结 八个 心中 勇敢\n",
          "洛阳 全省 唯一 洛阳 荣膺 首批 国家 文化 旅游 消费 示范 城市 称号 国家 文化 旅游部 召开 推动 文化产业 高质量 发展 电视电话会议 会上 宣布 国家 文化 旅游 消费 示范 城市 试点 城市 洛阳 成为 首批 国家 文化 旅游 消费 示范 城市 河南省 唯一 示范 城市 实现 试点 示范 飞跃 据悉 奖项 年度 中国 夜游 名城 称号 重量级 奖项 成为 第一批 国家 文化 消费 试点 城市 以来 洛阳市 发力 供给 创新 丰富 产品 供给 做强 业态 做优 产品 活化 资源 促进 文旅 消费 老贾 播报\n",
          "洛阳 爆料 提升 城市 文明 程度 积极 打造 沉浸 文旅 目的地 洛龙区 打造 街头 艺术表演 品牌 文化 鼓励 引导 民间艺人 文化 艺术 爱好者 参与 街头 艺术表演 丰富 古都 八点 活动 为夜 经济 注入 文化 活力 此项 街头 艺术表演 活动 中共 洛阳 市委 宣传部 洛阳市 文化 广电 旅游局 指导 中共 洛龙区 宣传部 洛龙区 文化 广电 旅游局 主办 招募 街头 艺人 街头 艺人 表演 进行 动态 管理 形成 规范化 常态 持续 街头 艺术表演 模式 洛龙区 文化氛围 注入 源源不断 新鲜 活力 提升 洛龙区 文化 品牌价值 助推 洛阳 青年 友好 城市 建设 行走 青春 洛阳 洛阳 青春\n",
          "万里 走单骑 一定 推荐 节目 最近 第一季 第二季 断断续续 跟着 单院 走遍 中国 世界 文化遗产 单院 一贯 风趣 幽默 语句 生动 诉说着 世界遗产 过去 当下 遇到 问题 文化遗产 保护 未来 展望 内容 水准 节目 节目 大部分 地方 去过 没想到 曾经 世界遗产 景区 福建 土楼 普洱 景迈 武夷山 黄山 洛阳 景德镇 鼓浪屿 宏村 西递 无论是 中轴线 秩序 之美 紫禁城 建筑 对称 之美 放眼 全国 熟悉 陌生 地方 等待 发现 读万卷书 行万里路 不能 不能 到处 旅游 此时此刻 看看 觉得 过瘾 好像 故地重游 一遍 想起 不少 当时 好多 有趣 好玩 武夷山 回民 中巴车 超载 拦下 后来 居然 一辆 警车 回去 妈呀 此生 第一次 警车 武夷山 节目 出书 万里 走单骑 老单 日记 万里 走单骑 辛丑 居然 中国 大百科全书 出版 曾经 深度 合作 出版社 一如既往 优秀\n",
          "雨辰 世界 洛阳市 国际 博物馆 中国 旅游 景区 优惠 汇总 国际 博物馆 我市 博物馆 开展 丰富多彩 活动 福利 吸引 市民 游客 走进 博物馆 了解 历史 中国 旅游 普天同庆 合适 选择 中国 旅游 出行 省钱 爱好 旅游 来讲 大写 今年 周六 嘿嘿 随挑 几处 景点 玩玩 分钟 能省 一顿 大餐 人生 一场 修行 旅途 人生 旅行 总能 遇到 更好\n",
          "画作 变为 路边 公益广告 洛阳 一批 小学生 做到 文明 养犬 爱护 环境 垃圾 分类 文明 旅游 一幅幅 创意 公益广告 洛阳市 涧西区 长春 社区 街坊 崭新 亮相 引得 不少 辖区 居民 驻足 围观 妈妈 这张 我画 突然 人群 传出 稚嫩 童声 说话 司马歆 长春 社区 相关 负责人 介绍 社区 张贴 这批 创意 公益广告 全部 出自 辖区 小朋友 之手 此次 活动 长春 社区 立足 时代 文明 实践 联合 辖区 红色 物业 学校 开展 画笔 文明 文明 实践 主题 活动 旨在 培养 增强 年轻一代 城市 主人翁 意识 孩子 视角 展现 文明城市 文明 社区 蓝图 期许 以此 带动 群众 主动 关注 积极参与 城市 文明 创建 工作\n",
          "包机 巨惠 双飞 政府 补贴 产品 抓紧 机会 元纯 品质 五大 景区 神游 仙境 少林寺 龙门石窟 影视城 峰林 云台山 郭亮 隋唐洛阳城 千年 古迹 一网打尽 焦作 二晚 当地 五星 万盛 集团 旗下 酒店 独家 推出 CCTV 中秋佳节 分会场 所在 隋唐洛阳城 穿越 千年 之旅 以下 需补 行程 旅游 旅游 尾单\n",
          "月初 刚刚 评选 十大 年度 国家 IP 河南省 广播 电视台 中国 节日 系列 作品 唐宫 夜宴 获奖 国家 IP 讲好 中国 故事 奏响 国家 IP 最强音 宗旨 创新性 传播 引领 民族性 艺术性 商业性 六大 维度 寻找 中国 领域 最具 优质 IP 代表 中国 知识产权 强国 迈进 提供 助力 河南 卫视 中国 文化 传播 中国 文化 过程 河南 卫视 从来 不含糊 唐宫 夜宴 作品 讲述 一千三百多年 晚上 唐高 宗李治 武则天 洛阳 上阳宫 设宴 一群 体态 丰腴 宫女 叽叽喳喳 地去 赴宴 表演 途中 发生 趣事 首播 之后 网上 掀起 很大 一股 中国 文化 中国 找到 自信 中国 年轻人 汉服 列入 日常 唐宫 夜宴 宫女 出自 博物馆 文物 河南 卫视 唤醒 历史文物 国宝 说话 国宝 起来 国宝 传播 中华文明 西安 西安 地铁 旅行 冰雨\n",
          "青岛 获评 首批 国家 文旅 消费 示范 城市 下午 文化 旅游部 召开 推动 文化产业 高质量 发展 电视电话会议 会上 宣读 第一批 国家 文化 旅游 消费 示范 城市 试点 城市 名单 青岛市 成功 入围 首批 国家级 文化 旅游 消费 示范 城市 青岛 获评 第一批 国家 文化 旅游 消费 示范 城市 包括 河北省 廊坊市 内蒙古自治区 鄂尔多斯市 吉林省 长春市 上海市 徐汇区 江苏省 南京市 江苏省 苏州市 浙江省 杭州市 山东省 济南市 河南省 洛阳市 湖北省 武汉市 湖南省 长沙市 重庆市 渝中区 四川省 成都市 云南省 昆明市 青岛 日报\n",
          "中国 洛阳 本地 攻略 洛阳 成为 首批 国家 文化 旅游 消费 示范 城市 造浪 生活 国家 文旅部 发布 国家 文旅 示范 城市 洛阳 入围 日前 国家 文化 旅游部 召开 推动 文化产业 高质量 发展 电视电话会议 会上 宣布 国家 文化 旅游 消费 示范 城市 试点 城市 洛阳 成为 首批 国家 文化 旅游 消费 示范 城市 河南省 唯一 示范 城市 实现 试点 示范 飞跃 成为 第一批 国家 文化 消费 试点 城市 以来 洛阳市 建设 提升 文旅 特色 街区 举办 古都 八点 古都 生活 文旅促 消费 活动 持续 扩大 有效 需求 营造 消费 场景 初步 形成 供需 匹配 场景 打造 模式 特色 突出 成效 明显\n",
          "特种兵 出游 津城 文旅 新鲜事 年轻人 旅游 特种兵 中国 旅游 研究院 院长 戴斌 认为 特种兵 旅游 火爆 是因为 年轻人 生活 理念 发生 转变 努力 工作 希望 快乐 游玩 价值观 过去 单一 价值 取向 变得 多元 精力 能力 参与 旅游 活动 旅游 目的地 加大 市场 宣传 推广 准备 越来越 丰富 旅游 产品 消费 场景 洛阳 国风 新潮 淄博 烧烤 吸引 很多 年轻人 游玩 喜欢 特种兵 旅游 游客 戴斌 提出 这种 旅游 模式 游客 容易 出现 走马观花 浅尝辄止 情况 旅游 旅游 其实 希望 游客 脚步 慢下来 赶路 打卡 留意 体验 当地 风土人情 历史 文化 生活 方式 才能 此行 今晚报 数字\n",
          "河图 报道 洛阳 河洛 文化 旅游节 国际 文艺 广场 巡演 活动 今日 启动 今天 洛阳 河洛 文化 旅游节 国际 文艺 广场 巡演 活动 拉开帷幕 来自 国家 余支 表演 团队 登上 洛阳 舞台 为期 时间 洛阳 市民 游客 带来 多场 别具 异域 风情 表演 上午 来自 波兰 以色列 克罗地亚 芬兰 表演者 洛邑 古城 游客 奉上 经擦 演出 来自 克罗地亚 演员 带来 颇具 民族风情 歌舞 美丽 奥西耶克 备受 关注 下午 来自 波兰 以色列 克罗地亚 芬兰 立陶宛 团在 新区 体育中心 洛阳 市民 带来 精彩表演 来自 波兰 小演员 身着 民族服装 展示 西里西亚 地区 传统 舞蹈 魅力 现场 氛围 推向 最高潮 了解 曾带 舞蹈 受邀 访问 法国 西班牙 余个 国家 此次 国际 文艺 广场 汇演 持续 天共 演出 演出 时间 地点 分别 上午 西工区 周王城 广场 下午 涧西区 万达 广场 上午 新安县 龙潭 大峡谷 下午 孟津县 休闲 文化 广场 卫坡 古民居 旅游区\n",
          "洛阳 成为 首批 国家 文化 旅游 消费 示范 城市 近日 国家 文旅部 发布 国家 文旅 示范 城市 洛阳 入围 日前 国家 文化 旅游部 召开 推动 文化产业 高质量 发展 电视电话会议 会上 宣布 国家 文化 旅游 消费 示范 城市 试点 城市 洛阳 成为 首批 国家 文化 旅游 消费 示范 城市 河南省 唯一 示范 城市 实现 试点 示范 飞跃 成为 第一批 国家 文化 消费 试点 城市 以来 洛阳市 建设 提升 文旅 特色 街区 举办 古都 八点 古都 生活 文旅促 消费 活动 持续 扩大 有效 需求 营造 消费 场景 初步 形成 供需 匹配 场景 打造 模式 特色 突出 成效 明显 洛阳 点赞 洛阳\n",
          "中国 洛阳 房车 旅游 产业链 大会 举行 中国 洛阳 房车 旅游 产业链 大会 第二届 中国 国际 房车 旅游 产业 发展 高峰论坛 洛阳 会展中心 举行 国内 余家 领先 房车 企业 参展 展会 持续 活动 由省 旅游 协会 主办 旅游 协会 房车 露营 分会 房车 旅游网 承办 洛阳 会展中心 协办 展会 吸引 宇通 诺优 朗宸 旌航 大通 江铃 国内 领先 房车 企业 参展 展出 各类 车型 房车 余款 自行 拖挂 商务 旅居 应有尽有 O2019 中国 洛阳 房车 旅游 产业链 大会 举行 来源 洛阳 日报\n",
          "洛阳 新鲜事 融创来 洛阳 带给 洛阳 这座 历史 文化底蕴 深厚 古城 介绍 想来 打造 洛阳 依靠 洛阳 十五 朝代 古都 历史 打造 文化 旅游 融创 主打 地产 服务 文旅 文化 产业 融创 打算 中原 扩展 天下 大手笔 动作 人融 创有 超前 商业 战略眼光 洛阳 打造出 特色 展示 示范 基地 向外 扩张 简直 轻而易举 疑问 融创来 洛阳 不会 洛阳 带来 福利 开发 优质 底价 房子 普惠 大众 洛阳 建设 标志性 游乐场 大家 想法 洛阳\n",
          "洛阳市 中原 文化 舞台 活动 启动 昨晚 洛阳市 中原 文化 舞台 活动 洛阳 国学 剧院 启动 即日起 今年年底 场省 文艺 院团 精品 剧目 演出 洛阳 歌剧院 洛阳市 工人 俱乐部 剧场 进行 今年 活动 我市 进行 精品 剧目 演出 包括 豫剧 花木兰 豫剧 五世 请缨 豫剧 铡刀 红梅 豫剧 大明 皇后 豫剧 穆桂英 挂帅 豫剧 清风明月 豫剧 盘夫 索夫 曲剧 洛阳 曲剧 寇准 背靴 舞剧 关公 功夫 九卷 百戏 展演 豫剧 山妞 洛阳市 中原 文化 舞台 活动 启动\n",
          "洛阳城 河洛 文化 旅游节 第五届 中原 国际 文化 旅游 产业 博览会 开幕 今天上午 省委 宣传部 指导 文化 旅游 洛阳市 人民政府 主办 河洛 文化 旅游节 第五届 中原 国际 文化 旅游 产业 博览会 洛阳 会展中心 盛大 开幕 本届 博览会 延续 户外 消费 生活 主题 市场化 交易 产业化 年轻化 导向 努力 打造 一站式 文化 旅游 产业 展示 交易 专业 综合 服务平台 推进 文旅文创 深度 融合 拉动 青年 消费 快速增长 倾力 打造 全国 沉浸 文旅 目的地 详情请 O2022 河洛 文化 旅游节 第五届 中原 国际 文化 旅游 产业 博览会 开幕\n",
          "河南 要闻 河洛 文化 生态 保护区 总体规划 出台 传承 河洛 文化 培育 文化 生态 洛阳市 文化 广电 旅游局 获悉 河洛 文化 生态 保护区 总体规划 以下 简称 规划 近日 省政府 批复 发布 规划 提出 初步 建成 国家级 河洛 文化 生态 保护区 规划 明确 河洛 文化 生态 保护区 指以 洛阳市 行政区域 社会 环境 依托 黄河 洛河 伊河 河流 洛阳 盆地 一带 平原 丘陵 山地 复合 地貌 自然环境 依托 对以 河图洛书 传说 代表 诸多 物质 文化遗产 依存 物质 文化遗产 文化 空间 采取 科学 保护 河洛 文化 生态 进行 整体性 维护 培育 区域\n",
          "洛阳 元旦 长跑 半程 马拉松 上赛 奖牌 赛事 服装 亮相 今日 全新 设计 洛阳市 元旦 长跑 半程 马拉松 上赛 奖牌 服装 首次 社会 公布 洛阳市 元旦 长跑 比赛 洛阳 品牌 赛事 每年 参与 人数 万人 左右 洛阳市 参与 人数 影响 广泛 群众体育 活动 爱好 运动 洛阳 市民 庆祝 新年 到来 首选 方式 完赛 奖牌 完赛者 认可 更是 浓厚 城市 文化 现代 体育精神 体现 洛阳 一座 现代化 不失 古典 气息 文化名城 奖牌 设计 极具 特色 完成 上赛 获取 赛事 纪念 T恤 一件 完赛 奖牌 一枚 上传 跑步 截图 获得 纪念 意义 电子 完赛 证书 广大 跑友 关注 微信 公众 中原 体育 报名 洛阳市 元旦 长跑 半程 马拉松 上赛 期待 参与 康蕤\n",
          "邮票 国家 文化 载体 组成部分 无锡 亚洲 邮展 专题 洛阳 世界 集邮 展览 之后 我国 举办 一次 大型 国际性 邮展 一次 重要 国际 文化 活动 推动 社会主义 文化 发展 繁荣 生动 实践 十七届 六中全会 提出 开展 多渠道 形式 多层次 对外 文化交流 广泛 参与 世界 文明 对话 促进 文化 相互 借鉴 此次 邮展 举办 借助 邮票 这一 窗口 邮展 这一 形式 服务 我国 文化 出去 战略 推动 亚洲 区域性 集邮 文化交流 增进 中国 亚洲各国 人民 之间 和平 友谊 收藏 企业 助理 海风 吹来 独狼\n",
          "益起趣 河南 千年 不得不 河南 两年 传统 文化 宣传 影响 非常 重大 最近 熟悉 益禾堂 河南 举办 潮玩 文化 展览 邀请 特别 知名 画师 特浓 合作 中华文化 融入 到益 杯子 上面 这次 画师 主要 绘制 河南 千年 画卷 画卷 总共 分为 四份 分别 绘制 河南 特色 饮品 包装 河南 城市 文化 选出 代表性 城市 安阳 开封 郑州 洛阳 每个 城市 文化 杯子 对应 场景 比如说 开封 清明上河图 安阳 甲骨文 不得不 这次 传统 文化 致敬 尤其 最近 时间 伙伴 一定 要来益 门店 领取 喜欢 城市 美食 同城 种草 益禾堂\n",
          "提到 旅游 策划人 挖掘 历史 文化 突出 地方 特色 很多 大家 会为 文化 文化 忘记 根本 目的 吸引 游客 发展 经济 景区 城市 文化 特点 特点 一定 卖点 特点 与众不同 卖点 消费者 愿意 掏钱 买单 特点 消费者 愿意 买单 再特 没用 消费者 愿意 文化 掏钱 世界级 文化 独一无二 特别 吸引力 文化 数一数二 文化 很多 城市 景区 根本 具备 这种 量级 文化 北京 西安 洛阳 千年 古都 一流 文化 城市 旅游 古人 赚钱 绝大多数 城市 景区 文化 特点 缺乏 足够 量级 吸引力 兴平 桑镇\n",
          "今日 商报 我市 北上 广等七市 开展 旅游 推介 活动 尹红磊 通讯员 郑宝亚 商报讯 日前 了解 我市 旅游 部门 组织 全市 景点 星级 酒店 重点 旅游 企业 北京 上海 广州 城市 举行 洛阳 河洛 文化 旅游节 新闻 发布会 秋季 旅游 推介会 市旅 发委 相关 负责人 表示 今年 河洛 文化 旅游节 即将 启动 吸引 游客 来洛 观光 度假 市旅 发委将 组织 全市 重点 旅游 企业 北京 上海 广州 杭州 成都 长沙 郑州 宣传 推介 洛阳 旅游 资源 精品 旅游 项目 进一步 提升 我市 知名度 影响力 推介会 期间 旅游 部门 丰富多彩 组织 形式 智慧 旅游 营销 手段 发布 来洛 旅游 优惠 奖励 政策 发放 洛阳 旅游 纪念品 旅游 景区 优惠 门票 方式 全面 展示 洛阳 得天独厚 旅游 资源 特色旅游 景区 精品 旅游 线路 据市 旅发委 负责人 介绍 我市 河洛 文化 旅游节 契机 此次 旅游 推介 活动 全市 重点 旅游 企业 集合 一起 抱团 出击 我市 旅游 产品 出去 北京 上海 广州 城市 旅游 部门 旅游 企业 更多地 了解 洛阳 认识 洛阳 推动 我市 城市 旅游 客源 市场 开发 旅游 产品 打造 方面 进一步 合作\n",
          "洛阳 科慧 广场 项目 位于 科技 大道 玉溪 东街 交叉口 西南侧 占地面积 整个 建筑 总高 规划 建设 地上 五层 地下 一层 建筑面积 11.9 平米 项目 科技 赋能 文旅 吸引 双核心 驱动 发展 理念 着力 打造 一座 科技 底色 融合 洛阳 城市 特色 科技 文旅 跨界 融合 沉浸 式微 旅游 目的地 目前 项目 正在 全面 推进 五层 底部 吊顶 铝板 整体 安装 城市 展厅 幕墙 玻璃 安装 屋面 工程装饰 铝板 安装 及水 源热泵 工程 建设 工作 一步 项目 全力 推进 幕墙 室外 管网 泛光照明 工程建设 确保 年底 初步 具备 运营 条件\n",
          "洛阳 风起 古都 觉醒 一部 风起 洛阳 万千 网友 折服 洛阳 千年 古都 魅力 一鱼 十二 IP 一员 剧集 风起 洛阳 沉浸 大众 展现出 洛阳 山河 之美 文化底蕴 华夏 古城 宇宙 洛阳 IP 一鱼 十二 创新 商业模式 成功 贯穿 剧集 综艺 动画片 纪录片 电影 产品 形态 中国 IP 宇宙 构建 探索 一条 复用 路径 IP 赋能 城市 文旅 产业 高质量 发展 迎来 全新 局面 全民 冰雪 计划 宝藏 旅行 美好 辽宁 欢迎您 尿酸 精华 护肤 套装 补水 保湿 化妆品 套装 女士 护肤品 组合 尿酸 护肤 六件 烟酰\n",
          "LOGO 本届 中原 文化 旅游 产业 博览会 视觉 形象设计 工作 洛阳 旅发 文化产业 集团 洛阳 城市 礼物 研究院 担任 灵感 来源于 本次 博览会 主题 创新 融合 共赢 发展 角度 出发 标志 造型 取自 汉字 包含 中原 中原 文化 旅游 产业 博览会 中国 之意 河南 方言 之意 多重 意义 对应 本次 博览会 主题 融合 标志 一笔 完成 线条 流畅 造型 大气 落笔 笔锋 意犹未尽 犹如 一条 彩带 象征 丝绸之路 标志 整体 色彩 亮丽 富有 朝气 丰富 色彩 结合 对应 博览会 主题 融合 共赢 象征 中原 文化 旅游 产业 蓬勃发展 对应 主题 发展 部分 体现 本次 中原 文化 旅游 产业 博览会 英文名称 主题 采用 蓝色 渐变 严肃 端庄 清晰 体现 本次 博览会 专业 严谨 更是 全世界 发出 诚挚 邀请 表达 中原 文化 旅游 产业 锐意进取 蒸蒸日上 美好愿望 接到 任务 设计 团队 全员 出动 设计 元素 标志 图形 大纲 确定 色彩 搭配 整体 布局 大家 通宵 熬夜 开会讨论 赶稿 改稿 先后 设计 十余 方案 每一版 方案 推翻 做到 更好 洛阳 准备 准备 一起 品味 古今 辉映 驻足 体会 远方 洛阳\n",
          "行走 河南 读懂 中国 关注 全省 文旅文创 发展 大会 二十大 报告 指出 坚持 以文塑 旅彰文 推进 文化 旅游 深度 融合 发展 今日 河南 将文 旅文创 融合 战略 列入 十大 战略 依托 历史 底蕴 深厚 文旅 资源 丰富 优势 建设 中华文化 传承 创新 中心 打造 世界 文化 旅游胜地 目标 积极 发展 富有 特色 链条 文旅 业态 培育 文旅文创 产业 支柱 领跑 时代 文旅融合 发展 赛道 河南省 文旅文创 发展 大会 洛阳 举办 本报 围绕 行走 河南 读懂 中国 主题 推出 关注 河南省 文旅文创 发展 大会 特刊 集中 展示 我省 深入 实施 文旅文创 融合 战略 取得 显著 成效 凝聚 建设 文化 旅游 强省 强大 合力 详见 河南日报 客户端\n",
          "焦点 聚焦 洛河 顶级 设计 理念 先进 洛阳 十三 古都 联合国教科文组织 认定 世界 四大 圣城 河洛 地区 华夏 文明 发祥地 河道 两岸 孕育 繁荣 商旅 文明 北控 水务 洛河 水系 城区 进行 总体规划 市区 公里 洛河 流域 景观带 分为 郊野 生态 创意 产业 城市 活力 历史 文化 四个 区段 设计 定位 仔细分析 国外 盛名 河流 充分 尊重 洛浦 公园 现状 基底 基础 增强 河道 生态 人性化 地域性 经济性 着力 改善 城市 生态环境 完善 休闲 旅游 服务设施 华夏 文明 第一 设计 主线 创建 5A 景区 要求 打造 功能完善 优美 宜人 充满活力 国际级 滨水 岸线\n",
          "洛阳 身边 重磅 洛阳 大型 文化 广场 日前 城乡规划 委员会 会议 审议 原则 洛阳 定鼎 文化 广场 设计方案 方案 定鼎 南侧 打造 标志性 文化 广场 休闲 娱乐 好去处 定鼎 文化 广场 位于 定鼎 遗址 博物馆 南侧 古城 宜人 之间 占地面积 4.67 万平方米 整体 景观设计 配套 生态 休闲 观光 场地 规划 文化 广场 东西 两侧 建设 隋唐 风貌 仿古 建筑 主要 用于 小型 展览馆 民间 博物馆 市民 服务 旅游 服务中心 物质 文化遗产 展示 文化 创意 文创 产品开发 完善 周边 文化 服务 旅游 功能 洛阳\n",
          "香港 摄影师 河南 作品 记录 文化 风光 一新 美术馆 举行 曹锦周 五光十色 摄影 展览 展出 六十 来自 香港 业余 摄影师 曹锦周 作品 展品 记录 今年 九月 遊览 河南 各大 文化 所见所闻 本次 展品 全部都是 曹锦周 遊历 河南 拍摄 地方 包括 郑州 开封 登封 洛阳 三门峡 大多 河南 热门 旅遊 景点 作品 曹锦周 喜欢 捕捉 效果 不论是 建筑物 天花 城市 夜色 大多 独特 视角 呈现 宜人 风采 一新 美术馆 总监 杨春棠 表示 曹锦周 手法 求真 不想 卖弄 花巧 现实 景象 化作 抽象 目的 传情 传达 景物 个人 体验 作品 常时 表现 颜色 形体 之间 对照 种种 程式 反映 心中 工作 成败 学业 优劣 人物 有美醜 人生 必遇 开心 开心 现象 自然 出现 无可避免\n",
          "洛阳城 龙门石窟 入选 第二批 国家级 夜间 文化 旅游 消费 集聚 名单 地方 申报 合规性 审查 专家 评审 实地考察 程序 全国 共有 项目 入选 第二批 国家级 夜间 文化 旅游 消费 集聚 公示 名单 加上 首批 入选 栾川县 重渡 风景区 洛阳 古城 特色 文化 街区 我市 共有 项目 跻身 国家级 夜间 文化 旅游 消费 集聚 名单 数量 全省 全省 入选 项目 总数 三分之一 近几年 我市 着力 培育 发展 一批 融合 文化 旅游 商业 体育 娱乐 业态 沉浸 夜间 文旅 产品 沉浸 灯光 星空 露营 博物馆 之夜 文化 内涵 丰富 夜间 文旅 项目 游客 带来 全新 体验 洛阳 经济 注入 活力 古都 夜色 动人\n",
          "民间 文艺表演 团队 洛阳 演出 昨晚 河洛 文化 牵手 丝路 风情 文化 艺术交流 活动 周王城 广场 兴洛 湖北 广场 隋唐 遗址 植物园 广场 开演 来自 俄罗斯 澳大利亚 波兰 立陶宛 保加利亚 葡萄牙 国家 民间 文艺表演 团队 广大 市民 游客 奉上 精彩 丝路 风情 演出 本次 文化 艺术交流 活动 今年 河洛 文化 旅游节 系列 活动 持续 随后 几天 文艺表演 团队 隋唐洛阳城 国家 历史 文化公园 九洲 景区 汝阳县 刘伶 文化 广场 老城区 洛邑 古城 第二届 中原 文化 旅游 产业 博览会 洛阳 河洛 文化 旅游节 开幕式 亮相 观众 带来 精彩演出 交流 巡演 时间 场地 安排 市区 周王城 广场 兴洛 湖北 广场 隋唐 植物园 广场 时间 隋唐 国家 遗址 公园 九洲 专场 时间 每团 分钟 汝阳县 刘伶 广场 专场 时间 O9 每团 分钟 老城区 洛邑 古城 专场 时间 O9 每团 分钟 新安县 抖动 新安 发布会 体育 广场 专场 时间 O9 每团 分钟 洛阳 河洛 文化 旅游节 开幕式 时间\n",
          "今日 商报 打造 国际 文化 旅游 名城 路上 旅游 部门 紧紧围绕 工作 布局 高一 强一 率先 奋斗目标 积极 转变 发展 思路 加快 国际 文化 旅游 名城 建设 着力 推动 旅游 产业 转型 升级 推动 洛阳市 景点 旅游 全域 旅游 转变 全市 旅游业 呈现出 持续 快速 健康 发展 态势 距离 国际 文化 旅游 名城 距离 缩短 未来 旅游 发展 趋势 洛阳 旅游 又会有 动作 本期 推出 打造 国际 文化 旅游 名城 路上 策划 还原 旅游 行业 盛典 现场 盘点 洛阳 旅游 成绩 了解 今年 旅游 重点 工作 聆听 专家 业内 建言\n",
          "深厚 文化底蕴 精美 城市 背景 流量 剧作 综艺 应该 很大 作用 河南 文旅文创 发展 大会 跻身 全国 文旅 城市 顶流 洛阳 密码 洛阳 密码 近年来 洛阳 文旅 发展势头 迅猛 频频 成为 年轻人 纷纷 打卡 网红 文旅 目的地 全省 近年来 规模 最大 规格 最高 文旅 行业 大会 选择 洛阳 召开 考虑 上午 河南省政府 新闻办 召开 河南省 文旅文创 发展 大会 新闻 发布会 河南省 文化 旅游 党组书记 厅长 东升 上述 问题 回答 提问 跻身 全国 文旅 城市 顶流 洛阳 密码 郑州 龙子 大学城 湖心岛\n",
          "洛阳 微城 冬游 隋唐洛阳城 来过 最潮 中国 日至 洛阳 文保 集团 开展 隋唐洛阳城 最潮 中国 主题 冬季 文化 旅游 消费 活动 市民 游客 呈现 隋唐 特色 新春 文化 盛宴 隋唐洛阳城 最潮 中国 主题 活动 包含 三个 系列 活动 分别 春节 之源 隋唐 过年 系列 活动 春节 之源 一街 千年 系列 活动 冬读 春学 乐在 天街 系列 活动 活动 分别 隋唐洛阳城 国家 遗址 公园 贴廓 红色 文化 步行街 隋唐洛阳城 国家 历史 文化公园 天街 东方 博物馆 研学 营地 进行 体验 隋唐洛阳城 多元 文化 盛宴 感受 味儿\n",
          "今日 晚报 洛阳市 公开 征集 明年 民生 实事 建议 我市 面向社会 公开 征集 民生 实事 建议 邀请 社会各界 围绕 民生 领域 亟待解决 问题 提出 建议 征集 内容 围绕 普惠性 基础性 兜底 民生 建设工程 主要 包括 扶贫 脱贫 创业 就业 教育 文化 医疗卫生 食药 安全 社会保障 安居工程 环境 改善 公共交通 基础设施 社会 治理 方面 民生 事项 所提 建议 聚焦 群众 急需 尽量 反映 群众 关心 直接 现实 迫切需要 解决 问题 广大 城乡居民 共享 改革 发展 成果 充分考虑 洛阳 实际 发展 需求 尽力而为 量力而行 循序渐进 原则 具有 可操作性 能够 当年 完成 当年 见效 联系方式 之前 市民 直接 发送 建议 电子邮箱 lysms2017 com 征集 民生 实事 项目 建议 市政府 办公室 及时 分类 梳理 认真 研究 分析 确定 市民 实事 重要依据 洛阳 晚报 明明\n",
          "公益活动 来袭 讲座 鉴宝 奖品 全免费 活跃 端午节 期间 群众 生活 传播 文物 收藏 保护 知识 推动 中华 优秀 传统 文化 传承 弘扬 北京 淘古趣 洛阳 树威 古瓷 鉴藏 博物馆 联合 举办 主题 中华文化 民间 瑰宝 公益 讲座 鉴宝 活动 活动 时间 O2018 活动 地点 洛阳 尼斯 酒店 三层 会议厅 地址 瀛洲 开元 大道 交叉口 东北角 参与 方法 凭票 参加 领票 地点 洛阳 树威 古瓷 鉴藏 博物馆 地址 洛阳市 洛龙区 南路 书香 号楼 领票 时间 日至 O16 上午 点半至 下午 点至 点半 限票 为止 参加 时间 领票 朋友 本文 下方 留言 预约 提前 留下 入场 留言 工作人员 领票 外地 参加 不了 活动 观看 淘古趣 直播\n",
          "花样 城市 城会 洛阳 古城 玩法 明星 侦探 全国 爆火 剧本 游戏 国内 越发 盛行 洛阳 探案 剧本 体验 店以 为名 剧本 体验 方式 本地 文化 旅游 融合 娱乐 方式 感触 了解 洛阳 文化 洛阳 历史 洛阳 旅游 玩家 拿到 剧本 扮演 剧中 角色 玩家 共同 演绎 一段 故事 线索 推断 交流 探讨 让玩家 身着 汉服 漫步 景区 观看 舞蹈 演绎 探索 竞技 方式 了解 洛阳 历史 文化 更加 透彻 游览 了解 洛邑 古城 探案 如影 悬衡 大型 真人秀 真人 体验 五一 期间 正式 洛邑 古城 面向 广大 民众 开放 五一 随手 小伙伴 起来 打卡 米奇 比心 洛阳 洛邑 古城 景区\n",
          "今豫言 河洛 文化 惊艳 世界 打造 发展 引擎 之三 新起点 推进 洛阳 中心 城市 建设 就要 黄河 故事 弘扬 黄河 文化 推动 河洛 文化 繁荣 兴盛 走向世界 繁荣经济 世界 交流 需要 凝神 聚力 推动 振兴 强大 动力 推进 洛阳 中心 城市 建设 不能不 重视 河洛 文化 河洛 文化 五千年 丰厚 文化 遗存 厚重 历史 沉淀 精神 气质 河图洛书 传说 彰显 探索 人世沧桑 自然 奥妙 奋斗 精神 隋唐 时期 宏大 呈现 积极 融入 丝路 开放 气度 九鼎 移洛 家国 同构 历史 展现 胸怀 天下 气概 需要 传承 弘扬 文化 精神 河洛 文化 走进 心里 走向世界 就要 河洛 文化 铸魂 挖掘 优秀 传统 文化 蕴含 思想 精髓 道德 追求 人文精神 赋予 当代 价值 世界 意义 文化 优势 感召力 提升 古都 洛阳 吸引力 辐射力 河洛 文化 壮骨 以文旅 产业 创新 动力 抓住 黄河流域 生态 保护 高质量 发展 战略 机遇 不断 推动 文旅 产业 转型 升级 提质 增效 打造 国际 文化 旅游 目的地 河洛 文化 健足 高科技 手段 跨界 融合 科技 引领 丰富 人们 文化 体验 河洛 文化 浸润 心灵 惊艳 世界 洛阳城 桃李 飞来飞去 谁家 抢抓 历史\n",
          null
         ],
         "marker": {
          "opacity": 0.5,
          "size": 5
         },
         "mode": "markers+text",
         "name": "1_文化_旅游_洛阳",
         "text": [
          "",
          "",
          "",
          "",
          "",
          "",
          "",
          "",
          "",
          "",
          "",
          "",
          "",
          "",
          "",
          "",
          "",
          "",
          "",
          "",
          "",
          "",
          "",
          "",
          "",
          "",
          "",
          "",
          "",
          "",
          "",
          "",
          "",
          "",
          "",
          "",
          "",
          "",
          "",
          "",
          "",
          "",
          "",
          "",
          "",
          "",
          "",
          "",
          "",
          "",
          "",
          "",
          "",
          "",
          "",
          "",
          "",
          "",
          "",
          "",
          "",
          "",
          "",
          "",
          "",
          "",
          "",
          "",
          "",
          "",
          "",
          "",
          "",
          "",
          "",
          "",
          "",
          "",
          "1_文化_旅游_洛阳"
         ],
         "textfont": {
          "size": 12
         },
         "type": "scattergl",
         "x": [
          9.160908699035645,
          9.099573135375977,
          9.156392097473145,
          9.025647163391113,
          9.08145809173584,
          9.39758014678955,
          8.910943984985352,
          8.399563789367676,
          8.775344848632812,
          8.67611026763916,
          10.142326354980469,
          10.170360565185547,
          10.260214805603027,
          8.094900131225586,
          9.492608070373535,
          8.411598205566406,
          9.40755844116211,
          8.836179733276367,
          8.777833938598633,
          8.69857120513916,
          8.485147476196289,
          9.53014850616455,
          8.796676635742188,
          10.250821113586426,
          8.919825553894043,
          8.993929862976074,
          9.079360008239746,
          8.890848159790039,
          9.131067276000977,
          9.727779388427734,
          8.822264671325684,
          8.945694923400879,
          9.069832801818848,
          8.571264266967773,
          9.503660202026367,
          9.13270092010498,
          8.400959014892578,
          8.863240242004395,
          9.225616455078125,
          8.937600135803223,
          8.327794075012207,
          8.989502906799316,
          9.265222549438477,
          9.308424949645996,
          9.000178337097168,
          9.091681480407715,
          9.315825462341309,
          8.371522903442383,
          8.381824493408203,
          9.159646987915039,
          8.702093124389648,
          8.364880561828613,
          8.50324535369873,
          9.223950386047363,
          8.829070091247559,
          8.454873085021973,
          8.889290809631348,
          9.274721145629883,
          9.009866714477539,
          8.979945182800293,
          8.254631996154785,
          8.506237983703613,
          10.242717742919922,
          9.219096183776855,
          9.042826652526855,
          9.07714557647705,
          8.865715980529785,
          10.22121810913086,
          8.73758602142334,
          8.365909576416016,
          8.82492733001709,
          8.34596061706543,
          9.091014862060547,
          8.979058265686035,
          8.158618927001953,
          9.548975944519043,
          9.014627456665039,
          9.008825302124023,
          9.002599716186523
         ],
         "y": [
          7.922697067260742,
          7.913671970367432,
          8.180867195129395,
          8.088824272155762,
          8.34703254699707,
          8.805456161499023,
          8.156452178955078,
          8.331716537475586,
          8.123112678527832,
          8.164416313171387,
          7.836855888366699,
          7.786284923553467,
          7.746885299682617,
          8.734551429748535,
          8.148694038391113,
          8.273857116699219,
          8.454835891723633,
          8.396337509155273,
          8.435002326965332,
          8.331583023071289,
          8.266616821289062,
          8.536855697631836,
          8.409720420837402,
          7.885195255279541,
          8.152871131896973,
          8.61008358001709,
          8.462762832641602,
          7.58599853515625,
          8.117469787597656,
          8.322493553161621,
          8.770318984985352,
          8.751984596252441,
          7.9763054847717285,
          8.279304504394531,
          8.165092468261719,
          8.026444435119629,
          8.362000465393066,
          8.276265144348145,
          7.801590442657471,
          8.376202583312988,
          8.061344146728516,
          8.68390941619873,
          8.255888938903809,
          8.816749572753906,
          8.640764236450195,
          8.520795822143555,
          8.082182884216309,
          8.043139457702637,
          8.07874584197998,
          8.031770706176758,
          8.928020477294922,
          8.093852996826172,
          8.261040687561035,
          8.678367614746094,
          8.926556587219238,
          8.349535942077637,
          7.538814544677734,
          9.256924629211426,
          8.105428695678711,
          8.817785263061523,
          8.403820037841797,
          8.274616241455078,
          7.808065891265869,
          8.394766807556152,
          7.913619041442871,
          8.014555931091309,
          8.32214069366455,
          7.737298011779785,
          8.231082916259766,
          8.064715385437012,
          8.881494522094727,
          8.325435638427734,
          8.311280250549316,
          9.050966262817383,
          8.841662406921387,
          8.373926162719727,
          8.677642822265625,
          8.725092887878418,
          8.305622100830078
         ]
        },
        {
         "hoverinfo": "text",
         "hovertext": [
          "豫川云陕 鄂五省 六地 自贸 片区 政务 服务 跨省 通办 开封 自贸 片区 豫川云 陕鄂 地自贸 片区 举行 政务 服务 跨省 通办 网上 签约 仪式 郑州 兰考 跨区 通办 西安 济南 襄阳 跨省 通办 协议 跨省 通办 朋友圈 再次 扩大 本次 增加 跨省 通办 区域 全部 自贸 片区 包括 湖北 宜昌 自贸 片区 河南 洛阳 自贸 片区 四川 川南 临港 自贸 片区 云南 红河 自贸 片区 陕西 杨凌自贸 片区 自贸 片区 集体 签署 政务 服务 区域 通办 合作 协议 本次 通办 事项 涵盖 企业 准入 项目 建设 文化 旅游 税务 行政 审批 服务 事项 提供 线上 线下 相结合 服务 方式 对线 办理 事项 加强 网络 电话 线下 咨询 辅导 线下 办理 事项 提供 现场 帮办 异地 受理 免费 邮寄 异地 领证 服务 实现 同城化 待遇 证明 事项 提供 网上 核验 服务 实现 当场 领取 证明 材料 两地 统一 审批 标准 材料 要求 服务 流程 审批 时限 广大 企业 充分 感受 同城化 服务 转自 河南 自贸 试验区 开封 片区\n",
          "列席 政协 第十二届 洛阳市 委员会 常务委员会 政协 第十二届 洛阳市 委员会 常务委员会 第二十四 会议 召开 会议 听取 市政府 我市 国际 文化 旅游 名城 建设 情况 通报 围绕 全力 建设 国际 文化 旅游 名城 进行 专题 议政 会议 追认 免去 张炳志 政协 第十二届 洛阳市 委员会 常务委员 职务 撤销 委员 资格 决定 撤销 郑建 新政协 第十二届 洛阳市 委员会 委员 资格 决定 市政协 主席 刘应安 主持会议 讲话 强调 自觉 服务大局 紧紧围绕 建设 国际 文化 旅游 名城 履职 尽责 持续 建言献策 持续 汇聚 合力 持续 抓实 积极 建设 国际 文化 旅游 名城 献计 出力 二要 强化 理论 武装 深入 学习 贯彻 习近平 总书记 加强 改进 人民政协 工作 重要 思想 市政协 常委 学习 贯彻 习近平 总书记 加强 改进 人民政协 工作 重要 思想 上带 好头 表率 带头 做到 明白 明白 明白 三要 积极 担当 确保 政协 工作 高质量 高效率 推进 认真总结 党的建设 引领 政协 各项 工作 政协 协商 民主 经验 做法 突出 问题 导向 认真 查找 短板 着力 改进 不足 推动 政协 工作 高质量 发展\n",
          "河南省 森林 特色 小镇 洛阳 看看 有没有 你家 洛阳 爆料 林业局 近日 公布 年度 河南省 森林 特色 小镇 名单 洛阳 单位 上榜 我省 首批 命名 森林 特色 小镇 了解 我省 森林 特色 小镇 分为 四个 类型 森林 康养型 生态旅游 生态 绿化 特色产业 四个 类型 梳理 发现 首批 森林 特色 小镇 一半 属于 森林 康养型 属于 生态旅游 属于 特色产业 据介绍 成为 森林 特色 小镇 自愿 申报 审核 筛选 培育 建设 考核 验收 程序 满足 区域 人口 面积 林木 覆盖率 林业 产值 接待 能力 生态 服务设施 大类 指标 森林 特色 小镇 农民 来自 林业 相关 收入 总收入 比应 达到 60% 以上 加油 洛阳\n",
          "河南省 推介 河南 行走 河南 读懂 中国 文化 旅游 季暨 第五届 全球 文旅 创作者 大会 举行 王凯作 主旨 讲话 宣布 大会 启动 日晚 行走 河南 读懂 中国 文化 旅游 季暨 第五届 全球 文旅 创作者 大会 洛阳 举行 行走 河南 读懂 中国 省长 王凯作 主旨 讲话 四方 宾朋 发出 邀约 老家 河南 看一看 一次 寻根 之旅 一场 心灵 之约 行走 河南 感受 华夏 煌煌 文脉 领略 山水 灵秀 俊美 尽享 传统 时尚 风韵 体悟 红色 精神 之魂 河南 全球 发出 邀请 老家 河南 融出 归欣 迅翔 杜小伟 河南日报\n",
          "河南省 推介 河南 行走 河南 读懂 中国 文化 旅游 季暨 第五届 全球 文旅 创作者 大会 举行 王凯作 主旨 讲话 宣布 大会 启动 日晚 行走 河南 读懂 中国 文化 旅游 季暨 第五届 全球 文旅 创作者 大会 洛阳 举行 行走 河南 读懂 中国 省长 王凯作 主旨 讲话 四方 宾朋 发出 邀约 老家 河南 看一看 一次 寻根 之旅 一场 心灵 之约 行走 河南 感受 华夏 煌煌 文脉 领略 山水 灵秀 俊美 尽享 传统 时尚 风韵 体悟 红色 精神 之魂 行走 河南 读懂 中国 河南 全球 发出 邀请 老家 河南 融出 归欣 迅翔 杜小伟 河南日报\n",
          "洛阳 身边 栾川 生活 栾川县 重点 培养 干部 深圳 培训班 开班 栾川县 重点 培养 干部 培训班 深圳市 建筑 科学 研究院 正式 开班 第一批 重点 培养 管理 干部 深圳市 进行 为期 集中学习 培训 此次 培训 围绕 全县 中心 重点 工作 主要 设置 开拓 视野 创新 创业 生态建设 旅游 发展 城市 建设 互联网 综合 素质 提升 方面 课程 采取 专家教授 理论 讲座 实地 观摩 学习 学习 形式 专门 增加 互动 交流 讨论 环节 建立 栾川县 重点 培养 干部 深圳 培训班 微信 公众 学员 每天 培训 内容 微信 平台 提交 学习 日志 交流学习 感悟 相关 领导 带班 老师 进行 查阅 点评 真正 培训 学员 能够 结合 工作 实际 学习 思考 学习 过程 变成 思考问题 解决问题 过程 学习 更富 针对性 实效性 深入 学习 深圳市 经验 做法 进一步 拓宽 干部 眼界 培育 创新 思维 提高 能力 素质\n",
          "地方 国资 洛阳市 国资委 检查组 检查 督导 洛阳 文化 旅游 投资 集团 国企改革 三年 行动 工作 洛阳市 国资委 党委书记 主任 常涌涛 带领 国资委 检查组 洛阳 文化 旅游 投资 集团 检查 督导 国企改革 三年 行动 工作 进行 座谈 交流 洛阳市 国资委 党委委员 主任 海燕 集团 领导 崔小梅 张红 李森 出席会议 会上 国资委 检查组 国企改革 三年 行动 考核 标准 进行 讲解 听取汇报 现场 查阅 资料 座谈 交流 形式 进行 督导 检查 发现 问题 现场 给予 指导 常涌涛 集团 改革 成效 表示 肯定 指出 国企改革 三年 行动 攻坚 收官 确保 重点难点 任务 取得 突破 实现 国企改革 全面 胜利 收官 常涌涛 强调 明确 国企改革 目标 深刻 了解 考核 标准 各项 工作 做实 做好 二要 补短 强弱 及时 查缺 补漏 规范 相关 制度 建立 长效机制 三要 着力 2A 主体 信用 评级 实现 突破 加强 融资 能力 扩大 核心 资产 四是 加强 沟通交流 及时 解疑释惑 做好 标准 解读 工作 五是 总结 先进经验 改革 中好 做法 认真 进行 梳理 培塑 推广先进 典型 崔小梅 表示 集团 国企改革 三年 行动 收官战 契机 聚焦 重点 精准 施策 务实 工作 企业 改革 高质量 发展 结合 起来 推动 企业 各项 工作 取得 成效\n",
          "洛阳城 洛阳 网民 最新消息 洛阳 新增 河南省 智慧 景区 洛阳市 文化 广电 旅游局 获悉 河南省 文化 旅游 日前 公示 年度 河南省 智慧 景区 名单 全省 共有 景区 入选 洛阳 景区 榜上有名 了解 各地 文化 旅游 主管部门 推荐 文化 旅游 依据 景区 智慧 建设 考核办法 基础 建设 智慧 管理 智慧 服务 智慧 营销 方面 景区 进行 综合 评判 评定 景区 年度 河南省 智慧 景区 洛阳 入选 景区 分别 眉山 风景区 青要 景区 汉光武帝 景区 截至 目前 洛阳 已有 河南省 智慧 景区\n",
          "洛阳 旅游 迎来 掌门人 洛阳 网讯 洛阳市 旅游 发展 委员会 迎来 掌门人 近日 洛阳市 旅游 发展 委员会 官方网站 更新 领导 分工 赵莉任 洛阳市 旅游 发展 委员会 党组书记 主任 主持 市旅 发委 全面 工作 赵莉 简历 出生 汉族 河南 郑州 中共党员 硕士 研究生 学历 参加 工作 历任 洛阳市 体委 办事员 科员 副科长 主任科员 洛阳市 审计局 工作 洛阳市 审计局 机关 总支 书记 共青团 洛阳 市委 书记 党组 成员 洛阳市 接待 主任 党组 成员 河南省 嵩县 人民政府 副县长 中共 河南省 嵩县 县委 常委 办公室 主任 中共 河南省 嵩县 县委 常委 组织部 部长 中共 河南省 新安 县委 书记 洛阳 市政府 秘书长 接待 办公室 主任 党组书记\n",
          "洛阳 生活 洛阳 旅游 get 洛阳 伊滨区 环境优美 学校 北大 公学 洛阳 国际 学校 推行 小班制 教学 每班 学生 控制 左右 保障 每位 同学 得到 老师 关注 指导 北大 公学 行政 总厨 孩子 精心设计 不同 种类 营养 食谱 每天 供应 新鲜 本地 蔬菜 应季 水果 年级 以下 儿童 统一 提供 营养 均衡 套餐 加点 年级 以上 孩子 自由选择 食堂 菜单 餐食 食堂 孩子 开设 厨艺 工作室 定期 孩子 蛋糕 披萨 厨艺 孩子 学到 课堂 知识 以外 技能 北大 公学 永远 孩子 安全 放在首位 学校食堂 采用 集团 垂直 管理模式 保证 学生 安心 家长 放心 学校 提供 小时 生活 照顾 日常 服务 孩子 实行 全方位 安全 监护 管理 男女 分楼 独立 宿舍 宿舍 冷暖空调 系统 独立 卫生间 学生 配备 生活 老师 寄宿 环境 塑造 孩子 优秀 生活 品德 集体 归属感\n",
          "大学生 鹏程 捐献 智能 果皮箱 亮相 洛阳 建设 智慧 景区 智慧 城市 洛阳 大学生 团队 研发 一批 科技 智能 果皮箱 无偿 捐献 洛阳市 响应 洛阳市 智慧 城市 节能 环保 号召 洛阳 伊滨区 鹏程 同学 带领 团队 历时 八个 研发 一批 智能 果皮箱 捐赠 洛阳市 环保 事业 贡献 目前 已经 安放 伊滨区 部分 街道 社区 了解 投放 垃圾 之后 果皮箱 自动 手机 发放 红包 以此 提倡 市民 不乱 垃圾 果皮箱 包含 感应 开门 定位 语音 播报 积分 共享 监督 报警 发电 导游 充电 满载 预警 灭火 数据分析 温度 检测 除臭 环境监测 人脸识别 数十种 功能 果皮箱 首次 智慧 景区 相结合 增设 导游 服务 电子 手绘 地图 洛阳市 智慧 景区 建设 添砖加瓦 据悉 鹏程 近年来 多次 公益事业 贡献 今年 四月 自费 发起 首届 华夏 汉服 旅游节 城市 营销 宣传 吸引 万名 游客 洛阳 旅游 参观 洛阳 文化 旅游事业 发展 做出 努力\n",
          "洛宁县 农村公路 管理所 文明 志愿者 积极 参加 三山 同登 活动 月份 洛宁 人民 来讲 特别 一个月 第十二届 河洛 金秋 上戈 苹果 文化节 洛宁县 隆重举行 山水 田园 秀美 洛宁 品牌 更具 影响 洛宁县 体彩 河南省 第六届 三山 同登 群众 登山 健身 大会 分会场 洛宁县 农村公路 管理所 精心组织 认真 参与 登山 爱好者 组成 志愿者 团队 参加 本次 活动 上午 时许 活动 淅淅 小雨 拉开帷幕 绵绵细雨 丝毫 遮挡住 农村公路 文明 志愿者 热情 积极开展 指路 引导 文明 旅游 宣传 志愿 服务 活动 做好 赛事 参与 服务 工作\n",
          "人大代表 视察 政府 投资 项目 上午 人大常委会 组织 部分 人大代表 我市 年市 本级 政府 投资 项目 进行 集中 视察 本次 视察 市人大 主任 振华 同志 带队 组织 工委 主任 人大代表 一行 抽查 轨道交通 号线 博物馆 西路 区间 工程 伊水 游园 诸葛 求是 中共 洛阳 市委党校 校区 二里头 遗址 博物馆 项目 听取 项目 单位 情况汇报 查看 施工 资料 项目 进度 资金 保障 施工 环境 问题 进行 详细 了解 为期 半天 视察 人大代表 视察 本级 政府 投资 项目 建设 情况 比较满意 项目 建设 超前 谋划 倒排 工期 压茬 推进 做法 给予 充分肯定 代表 一致 认为 轨道交通 市委党校 项目 按计划 顺利 推进 伊水 游园 二里头 遗址 博物馆 建成 投用 切实 增进 民生 福祉 提高 河洛 文化 影响力 部门 继续 做好 项目 统筹 谋划 落地 实施 确保 完成 今年 本级 政府 投资 建设 任务 切实做好 年市 本级 投资 计划 安排 推动 重大项目 有序 衔接 真正 发挥 政府 投资 引领 示范 带动 作用 中原 更加 出彩 谱写 浓墨重彩 洛阳 篇章\n",
          "分享 来自 今日 头条 好想你 枣片 信阳 毛尖 宋河 道口 烧鸡 广大 市民 耳熟能详 商品 如今 官方 身份 日前 河南省 旅游 商品 企业 协会 了解 首批 河南 知名 旅游 商品 名单 出炉 上述 产品 首批 名单 郑州 旅游局 开封市 旅游局 洛阳市 旅发委 焦作市 旅游局 驻马店 旅游局 漯河 旅游 河南 济源 旅游 周口市 旅游 管理 部门 商丘市 旅游局 信阳市 旅游局 南阳市 旅游 外事 侨务 新乡 旅游 濮阳市 旅游局 许昌 魏都 旅游 三门峡 旅游 首批 河南 知名 旅游 商品 名单 发布 你家 企业 上榜\n",
          "洛阳市 笛乐 艺术 研究会 成立 日晚 洛阳市 笛乐 艺术 研究会 洛阳 隋唐 百戏 知音 音乐厅 成立 市笛乐 艺术 研究会 旨在 我市 笛乐 爱好者 提供 学习 交流 平台 加深 大众 竹笛 洞箫 葫芦丝 了解 弘扬 传承 我国 优秀 民族音乐 文化 艺术 目前 研究会 共有 会员 成立 仪式 研究会 老城区 农校 小学 北路 小学 西工区 唐宫路 小学 涧西区 芳华 小学 授牌 建立 长期 合作 关系 研究会 会长 李西 表示 今后 定期 邀请 专家 学校 讲课 举办 各种类型 经验 交流会 座谈会 提高 洛阳 笛乐 艺术 发展 水平 洛阳 日报 张宁\n",
          "启卷 知新 文脉 流长 河南省 中华 传统 晒书 活动 嘉应观 举办 文化 深入 贯彻落实 习近平 总书记 保护 传承 弘扬 黄河 文化 重要 指示精神 迎接 二十大 胜利 召开 上午 启卷 知新 文脉 流长 河南省 中华 传统 晒书 活动 启动 仪式 焦作市 武陟县 嘉应观 举行 本次 活动 河南省 图书馆 河南省 古籍 保护 中心 主办 焦作市 文化 广电 旅游局 武陟县 文化 广电 旅游局 武陟县 嘉应观 景区 管理局 承办 全省 市县 公共 图书馆 河南省 民间 古籍 保护 协会 协办 珍藏 黄河 文献 河南省 图书馆 武陟县 图书馆 焦作市 图书馆 新乡市 图书馆 开封市 图书馆 洛阳市 图书馆 全省 十余家 古籍 收藏 单位 私人 藏品 精心 遴选出 相关 黄河 文献 黄河 图考 黄河 溯源 治河 方略 治河 名家 著述 中原 方志 黄河 五个 专题 展示 黄河 历史 史料 考证 黄河 史迹 挖掘 黄河 文化 现实意义 赓续 黄河 血脉 弘扬 光大 黄河 文明 本次 晒书 活动 品读 黄河 古籍 文献 传承 弘扬 黄河 文化 主题 结合 古籍 保护 黄河 文化 宣传 采取 古籍 文献 民间 遗展 传统 文化 体验 多种形式 广大群众 沉浸 文化 体验\n",
          "河南 新增 省级 旅游 休闲 街区 从省 文化 旅游 获悉 旅游 休闲 街区 等级 划分 国家 行业标准 河南省 省级 旅游 休闲 街区 评定 细则 试行 自愿 申报 省辖市 省直管 推荐 专家 评审 公示 工作 程序 认定 巩义市 竹林 长寿 风情 古镇 休闲 街区 河南省 省级 旅游 休闲 街区 具体 名单 如下 郑州市 管城 回族 区北 顺城 代书 胡同 文化 街区 巩义市 竹林 长寿 风情 古镇 开封市 顺河 回族 双龙 历史 文化 街区 洛阳市 洛阳市 西工区 西工 小街 新乡市 卫滨区 东方文化 商业 步行街 许昌市 魏都区 曹魏 古城 中轴 步行街 南阳市 社旗县 赊店 瓷器 宛城区 南阳 知府 衙门 博物馆 旅游 休闲 街区 商丘市 虞城县 马牧集 老街 信阳市 河区 胜利 步行街 温小娟\n",
          "心中 洛阳 心中 洛阳 演讲比赛 本次 演讲比赛 市直 工委 市旅 发委 文广 新局 主办 洛阳 旅发 集团 承办 文物局 教育局 洛阳 日报 报业 集团 洛阳 广播 电视台 协办 演讲 题目 自拟 演讲 内容 要求 紧扣 厚重 洛阳 文化 洛阳 山水 洛阳 风土人情 现代 发展 成果 内容 积极向上 社会各界 群众 报名 参加 报名 电话 报名 邮箱 lylfgrscb com 关注 微信 公众 一人 洛阳 洛阳 旅游 进行 报名 比赛 设置 一等奖 二等奖 三等奖 优秀奖 决赛 选出 优秀 选手 机会 参与 我市 对外 宣传 推介 活动 本次 演讲比赛 从即日起 接受 报名 心中 洛阳 样子 报名 参赛 讲述 心中 洛阳 洛阳市 旅发委 洛阳 文广 新局 洛阳市 文物局 洛阳市 教育局 洛阳 日报 报业 集团 洛阳 电台\n",
          "洛阳 生活 重渡 音乐 啤酒节 隆重开幕 燕京啤酒 独家 冠名 栾川 重渡 风景区 河南 支点 智业 集团 联合 打造 燕京啤酒 重渡 第十届 音乐 啤酒节 开幕式 重渡 演艺 广场 隆重举行 本届 啤酒节 得到 河南省旅游局 洛阳市 旅游局 栾川 县委 县政府 栾川县 旅游 工作 委员会 大力支持 老君山 鸡冠 禅宗 少林 音乐 大典 众多 旅游 景区 纷纷 发表 贺信 预祝 燕京啤酒 重渡 第十届 音乐 啤酒节 圆满成功 开幕式 当天 首期 主题 活动 刘秀 巡游 重渡 狮王 争霸 遗秀 景区 中心广场 震撼 上演 活动 现场 武大帝 刘秀 御驾 亲临 重渡 安排 河洛 大鼓 传统 舞龙 背装 游行 丰富多彩 文化 大餐 游客 开幕式 晚会 高朋满座 游客 云集 盛大 狮王 颁奖 时尚 歌曲 热辣 性感 舞蹈 精彩纷呈 民俗 绝活 逗趣 诙谐 搞笑 表演 轮番 登场 刺激 逗趣 互动 游戏 现场 游客 如痴如醉 大呼 过瘾 摇滚歌手 带来 音乐 晚会 氛围 达到高潮 万名 游客 跟随 音乐 节奏 肆意 舞动 举杯畅饮 彻底 陶醉 重渡 狂欢 氛围 备受瞩目 重渡 音乐 啤酒节 第二期 主题 活动 万人 啤酒 争霸赛 景区 万亩 竹海 火热 开赛 届时 重渡 风景区 开启\n",
          "河南省 两会 人大代表 郝彦洁 文物 说话 人们 触摸 历史 上午 河南省 第十三届 人民代表大会 第二次 会议 第二次 代表 通道 开启 名省 人大代表 直面 提问 人大代表 郝彦洁 来自 历史 文化名城 洛阳 一名 从事 城市规划 工作 代表 洛阳 国内 知名 旅游 城市 文化 旅游 资源 十分 丰富 国际 文化 旅游 名城 建设 省委 省政府 赋予 洛阳 战略 定位 洛阳 加快 国际 文化 旅游 名城 建设 工作 以后 规划 人大代表 郝彦洁 文物 说话 人们 触摸 历史\n",
          "偃师 农商 银行 开展 助力 高考 宣传 服务 活动 切实 履行 社会 责任 提高 偃师 农商 银行 知名度 影响力 偃师 农商 银行 文化路 支行 开展 助力 高考 农商 相随 宣传 服务 活动 活动 持续 高考 结束 做好 此次 活动 偃师 农商 银行 文化路 支行 人员 安排 宣传 形式 宣传 内容 进行 精心 充分 准备 工作人员 早早 考点 旁边 考生 家长 撑起 遮阳伞 提供 休息 纯净水 纸巾 工作人员 主动 考生 家长 中间 聊天 交流 缓解 焦躁 情绪 针对性 宣传 该行 产品 此次 活动 受到 广大 考生 家长 高度赞扬 这次 助力 高考 农商 相随 活动 偃师 农商 银行 文化路 支行 积极主动 承担 社会 责任 考生 家长 感受 偃师 农商 银行 群众 温暖 关爱 农商 银行 一次 实际行动 诠释 大爱 无疆 惠泽 农商 经营 理念\n",
          "洛阳 美好 打造 方特 主题乐园 最新消息 日至 江凌 书记 率队 粤港澳 大湾 广东省 深圳市 广州市 考察 对接 项目 华强 方特 集团 总裁 刘道 举行 工作 会谈 围绕 打造 方特 主题乐园 项目 进行 深入 交流 双方 表示 洛阳 历史 文化名城 发展 文旅 产业 具有 独特 优势 强大 市场 号召力 华强 方特 长期 深耕 文旅融合 板块 拥有 成熟 专业 策划 运营 能力 当前 旅游 产业 发展 方式 加快 观光 休闲 度假 体验 转变 文旅 消费 更加 旺盛 双方 深化 合作 空间 巨大 一步 双方 前期 合作 基础 深入 优化 设计方案 组建 项目 对接 专班 携手 打造 竞争力 主题乐园 游客 沉浸 体验 增强 文化 自信\n",
          "地方 国资 洛阳市 国有企业 纪检监察 工作 调研 座谈会 洛阳 文化 旅游 投资 集团 召开 洛阳市 国有企业 纪检监察 工作 调研 座谈会 洛阳 文化 旅游 投资 集团 召开 纪委 常委 伍干东 出席 讲话 纪委 监委 第八 监督 检查 室主任 碧云 主持会议 会上 与会 单位 分别 围绕 工作 实际 进行 汇报 现场 气氛 热烈 活跃 碧云 表示 单位 纪检监察 领导 体制 机构 设置 人员培训 履职 尽责 人文 关怀 方面 进行 交流 提出 宝贵意见 建议 纪委 监委 及时 反馈 积极 筹划 逐步 推动 纪检监察 机制 持续 完善 伍干东 指出 纪委 监委 市属 国有企业 之间 开展 互动 合作 探索 组企 联动 发展 洛阳 样板 强调 一是 发掘 特色 亮点 单位 及时 总结经验 做法 发挥 先进典型 示范 引领 作用 营造 赶超 良好氛围 二是 树立 学习 意识 坚持 基调 不断完善 党和国家 监督 体系 三是 改进 工作作风 务实 清廉 勇于进取 表率 四是 汇总 梳理 意见 纪委 监委 企业 所提 意见建议 进行 认真 梳理 拿出 具体 培训 方案 切实 帮助 企业 解决问题 纪委 监委 驻市 国资委 纪检监察 组组长 严宝宏 市国宏 集团 国晟 集团 文旅 集团 轨道交通 集团 纪委书记 出席会议\n",
          "以书化 笔墨 飘香 青岛 洛阳 小学 师生 第十三届 三杯 现场 书法 比赛 喜获 佳绩 贯彻 教育部 中小学 开展 书法 教育 意见 弘扬 中华 优秀 传统 文化 展示 我区 书法家 进校园 教育 成果 推进 全区 中小学 书法 教育 普及 提高 市北区 教育局 主办 青岛 重庆路 第三 小学 承办 第十三届 三杯 现场 书法 比赛 拉开帷幕 我校 师生 此次 比赛 喜获 佳绩 参加 比赛 师生 一等奖 三名 二等奖 三名 三等奖 五名 优秀奖 三名 参赛 学生 努力 我校 更是 历年来 首次 荣获 书法 比赛 优胜 集体 硬笔书法 比赛 一等奖 杨雅涵 开元 齐熙 二等奖 李想 常澜 三等奖 于凌瑜 孙家 张漫馨 张子宸 优秀奖 王湘钰 孙梦媛 天宇 软笔 书法 比赛 三等奖 周江宇 优秀奖 刘致 本次 比赛 同学 充分 领略到 书法艺术 魅力 书法艺术 学习 兴趣 愈加 浓厚 这次 比赛 体现 学校 提升 学生 传统 文化 素养 高度重视 继续 坚持 书法 教育 孩子 乐于 书法 规范 汉字 最美 少年 以书化 笔墨 飘香 幽幽 墨香 飘往 远方 市北 教育\n",
          "简讯 区委 常委 宣传部长 郭素霞 区政府 副区长 王颖 一行 深入 位于 回族 环城 北路 洛阳 北门 文化 产业园 项目 调研 董事长 马银栓 金玉满堂 总经理 徐洪钢 陪同 郭素霞 王颖 一行 参观 位于 园区 影星 美大 北门 影城 一万 平米 容纳 三千 就餐 金玉满堂 婚宴 主题 酒店 常年 恒温 游泳馆 正在 建设 三千 平米 超大 运动 空间 拥有 洛阳 首家 室内 攀岩 项目 顶级 建身 中心 超大 儿童乐园 大型 体育 建身 综合体 项目 全国 名优 小吃 听取 目前 园区 运营 餐饮 娱乐 项目 建设 未来 发展 规划 情况 介绍 园区 产业布局 规划 方面 进行 交流 调研组 一行 表示 协调 相关 部门 加大 园区 发展 支持 力度 力争 使大 北门 文化 产业园 项目 成为 文化产业 排头兵\n",
          "洛阳 交通运输 工作 动态 河南省 交通运输 党组 成员 交通 事业 中心 主任 温胜强 我市 调研 指导 普通 公路 养护 管理工作 河南省 交通运输 党组 成员 交通 事业 中心 主任 温胜强 一行 轻车简从 我市 调研 指导 普通 公路 迎国评 准备 工作 检查组 国道 G311 G344 先后 汝阳 嵩县 栾川县 普通 公路 迎国评 准备 工作 进行 检查 沿线 灾后 重建 项目 伏牛山 旅游 公路 建设项目 进行 调研 温胜强 指出 公路 经济 发展 命脉 改善 民生 营造 环境 保障 提高 县域 综合 竞争力 发展 后劲 关键因素 单位 相关 标准 要求 加强 路域 环境治理 加大 政治 工作力度 不断 提升 公路 服务水平 温胜强 强调 各级 公路 部门 继续 坚持 预防性 养护 主动 养护 理念 及时 处治 路面 病害 不断完善 普通 公路 服务设施 做到 精细化 管理 提高 公路 建养 管理 服务 能力 持续 抓好 公路 建设 容路貌 整治 提升 公路 畅通 便捷 安全 舒适 水平 加大 安全 巡查 力度 及时 消除 安全隐患 施工单位 确保安全 质量 前提 精心组织 施工 作业 逐项 推进 工作 落实 规范 警示 标牌 标识 保质保量 完成 改造 提升 任务 推动 地方 经济社会 持续 健康 发展 洛阳市 市政府 秘书长 罗克振 交通运输 党组 成员 公路\n",
          "利好 消息 洛阳 都市 规划 正式 列入 河南省 台账 管理 河南省 经济体制 改革 专项 小组 办公室 召开 专项 小组 第一次 联络员 会议 省直 相关 牵头 责任 单位 洛阳市 郑州市 改革 工作 联络员 参加 会议 会上 下发 河南省 经济体制 改革 专项 小组 改革 制定 支持 洛阳 高质量 发展 政策措施 规划 建设 洛阳 都市 加大 洛阳 推动 制造业 高质量 发展 打造 内陆地区 双向 开放 新高 创建 国家 文化 旅游 融合 示范区 扶持 力度 正式 列入 管理 台账 明确 制定 出台 支持 洛阳 开放 引领 加快 建设 中原 城市群 中心 城市 若干意见 印发 洛阳 都市 发展 规划 年度 标志性 成果 季度 制定 工作 计划 洛阳市 发展 改革 牵头 单位 共同 负责 推进 落实 洛阳 全攻略\n",
          "洛阳 提升 龙门 白马寺 两大 名片 辐射力 城乡规划 委员会 第四次 会议 召开 审议 原则 白马寺 释源 大道 总体规划 设计方案 龙门石窟 景区 东北 出口 片区 概念 规划设计 银隆 青春 建筑 规划 设计方案 规划 设计方案 龙门石窟 东北 出口 片区 建文 小镇 龙门石窟 东北 出口 片区 龙门石窟 文旅 小镇 文创 小镇 模式 提升 龙门 景区 文化 旅游 功能 完善 景区 配套 服务 提升 龙门 园区 整体 质量 辐射 带动力 重要 内容 白马寺 释源 大道 旁将现 古寺 小镇 况释源 大道北 白马寺 陇海铁路 中州 东路 连接 整体 区域 结构 白马寺 门前 东西向 广场 占地 释源 大道 占地 两侧 商业 建筑 占地 古寺 小镇 占地 此次 规划 完善 白马寺 中州 东路 之间 文旅 业态 完善 周边旅游 配套 交通 疏导 业态 服务 功能 局释源 大道 景观 分为 三段 进行 打造 分别 形成 寺前 广场 片区 文化 展示 片区 功能 服务 片区 三大 分区\n",
          "港澳 青少年 游学 推广 活动 内地 游学 联盟 大会 洛阳 召开 港澳 青少年 游学 推广 活动 内地 游学 联盟 大会 我市 召开 文化 旅游部 港澳台 办公室 一级 巡视员 满宏卫 文化 旅游 厅长 姜继鼎 副厅长 延庆 市长 险峰 出席 相关 活动 了解 此次 活动 文化 旅游部 港澳台 办公室 指导 文化 旅游 内地 游学 联盟 主办 文化 广电 旅游局 承办 北京 山西 在内 内地 游学 联盟 成员 单位 协办 活动 内地 游学 联盟 发布 年度 工作 报告 年度 工作 计划 举行 内地 游学 联盟 轮值 主席 单位 交接仪式 港澳 学校 游学 机构 合作 签约 仪式 此次 港澳 青少年 入洛 游学 旅行 我市 特别 策划 丰富 游学 路线 涵盖 河洛 文化 地域 民俗文化 红色 革命 文化 现代 人文 艺术 工业 文明 丰富 内容 学者 充分 领略 洛阳 多元 文化 体验 知行合一 过程 增长 见闻 丰富 知识 涵养 人文 素质 培育 爱国 情感 此次 内地 游学 联盟 大会 系列 推广 活动 我市 倾力 洛阳 造成 内地 重要 游学 基地 港澳 青少年 喜爱 游学 目的地 期望 游学 实践 活动 不断 增强 港澳 学子 中华文化 认同 洛阳 旅游 喜爱 新闻 孔迪\n",
          "国企 资讯 河南省 文化 旅游 投资 集团 党委书记 董事长 吴孟铎 考察 调研 洛阳 文化 旅游 投资 集团 相关 重点项目 上午 河南省 文化 旅游 投资 集团 党委书记 董事长 吴孟铎 一行 来到 洛阳 文化 旅游 投资 集团 所属 黄河流域 遗产 保护 展示中心 隋唐 大运河 国家 文化公园 东区 唐宫 市场 改造 提升 阳光 工业 游园 唐街 伊水 迎宾馆 龙门 古街 二期 龙门 数字 展示中心 重点项目 建设 现场 考察 调研 省文旅 投资 集团 党委委员 总会计师 梁爽 省文旅 投资 集团 筹建 组成员 省文 旅厅 公共服务 处处长 汤雁 集团 党委书记 董事长 崔光焱 集团 党委委员 副总经理 李森 薛善民 汪斌 分别 参加 上述 活动\n",
          "洛阳 栾川县 全国 森林 旅游 示范县 荣誉 河南 争光 洛阳 身边 日前 中国 森林 旅游节 上海 举行 洛阳市 栾川县 国家林业局 授予 全国 森林 旅游 示范县 称号 成为 我省 首个 获此 荣誉 市县 全国 森林 旅游 示范县 国家林业局 命名 管理 评选 对象 具备 良好 森林 风景 资源 森林 旅游 发展 取得 显著成绩 各地 森林 旅游 发展 具有 重要 示范 意义 区级 行政区 栾川 位于 豫西 伏牛山 腹地 卫星 地图 栾川 独特 山地 地理 特征 显而易见 栾川 山地 植被 覆盖率 位列 全省 第一 依托 丰富 山水 森林 景观 发展 起来 山地 森林 旅游 栾川 旅游 主导 成就 一座 闻名全国 生态旅游 名城 县域 依托 森林 景观 建成 旅游 景区 大大小小 十几家 直接 从业人员 3.2 万人 10.2 农民 直接 间接 参与 森林 旅游业 重点 森林 旅游区 接待 游客 达到 万人次 森林 旅游 综合 收入 万元 山城 栾川 每一处 有种 自然 交融 美好 栾川 代表 河南 成为 全国 森林 旅游 示范县 实至名归\n",
          "河南 文旅 大会 月底 举办 省政府 新闻办 新闻 发布会 获悉 全省 文旅文创 发展 大会 月底 洛阳 举办 主题 行走 河南 读懂 中国 本次 大会 安排 工作 会议 实地 观摩 线路 考察 立足 培育 文旅文创 融合 发展 产业 业态 提振文 消费 策划 开展 系列 主题 活动 主要 行走 河南 读懂 中国 文化 旅游 季暨 第五届 全球 文旅 创作者 大会 启动 仪式 百万 学子 河南 美好生活 露营 中华 霓裳 汉服 古都 八点 文旅 消费 黄河 之礼 文创 产品 项目 主题 展等 特别 针对 暑期 特点 省辖市 济源 示范区 航空港 联动 开展 行走 河南 读懂 中国 文化 旅游 活动 出台 减免 门票 发放 文旅 消费 券等惠游 政策措施 推出 露营 夜游 消夏 康养 暑期 线路 产品 举办 音乐节 美食节 宣传 促销 活动 持续 活跃 文旅 市场 热度 激发 文旅 消费 老家 河南 融出 行走 河南 读懂 中国 河南日报\n",
          "洛阳 旅游 编辑部 嵩县 旅游 张相正 全景 洛阳 河南 旅游 生活 杂志 洛阳市 旅发委 洛阳 提升 服务 品质 洛阳 白云山 组织 志愿 服务 团队 开展 专项 培训 增强 员工 主动 服务 微笑服务 意识 提升 员工 团队 协作 精神 增强 沟通 表达能力 工作 协调 能力 洛阳 白云山 旅游 度假区 重要 服务 岗位 组织 志愿 服务 团队 开展 专项 培训 此次 培训 内容 主要 包括 服务 礼仪 急救 常识 常见 咨询 问题解答 服务 实操 培训 参与 人员 客服部 车队 保安 区域 管理人员 这次 培训 景区 各个部门 服务 更加 专业 更加 优质\n",
          "首届 研学 伊川 精品课程 设计 大赛 初赛 名单 公示 伊川县 文化 广电 旅游局 伊川县 教育 体育局 联合 下发 全国 征集 研学 伊川 精品课程 设计 大赛 通知 要求 大赛 规程 召开 评审 会议 选举 确定 专家组 组长 研讨 课程 评选 标准 委托 洛阳市 研学 旅行 发展 联盟 成立 大赛 课程 评审 专家组 召开 第一次 专家组 会议 正式 开展 初评 报名 课程 进行 集中 评审 每门 课程 课程名称 课程目标 安全 保障 研学 资源 活动 任务 研学 过程 研学 评价 附属 要件 研学 特色 方面 进行 综合 评审 打分 最终 确定 课程 进入 决赛 环节 现将 初赛 入围 课程名称 参赛者 公示 如下 公示\n",
          "日至 人大常委会 委员 财经委 主任委员 预算 工委 主任 乔军 带领 调研组 来延 调研 特色 小镇 建设 产业 发展 情况 人大常委会 主任 靖江 主任 白小平 阚延军 分别 陪同 调研 上午 调研组 召开 汇报 座谈会 发改委 建局 我市 特色 小镇 建设 产业 发展 情况 汇报 参会 人员 我市 特色 小镇 建设 定位 规划 用地 体制 建设 情况 进行 深入探讨 交流 下午 调研组 一行 先后 深入 宝塔区 南泥湾 冯庄乡 康坪村 安塞 河湾 冯家营 民族 文化村 西营 洛川县 旧县 洛阳 阿寺村 进行 实地 调研 乔军 我市 特色 小镇 建设 产业 发展 情况 给予 充分 充定 一步 工作 指出 特色 小镇 建设 创新 机制 下功夫 积极 推行 市场化 运作 发挥 企业 特色 小镇 建设 过程 主体作用 规划 先行 落到实处 坚持 适度 适用 原则 规划 指导 建设 规划 推动 发展 坚持 旅游 产业 发展 相结合 努力 产业 特色 小镇 建设 提供 强大 产业 支撑 正在 规划 建设 小镇 找准 定位 放大 优势 着力 打造 一批 各具特色 小镇\n",
          "实施 全域 旅游 战略 服务质量 提升 无止境 全面 提升 栾川 旅游 发展 水平 实施 全域 旅游 战略 栾川县 客运 行业 服务质量 提升 活动 动员大会 召开 交通运输 局樊立杰 同志 运管局 吴立宏 同志 指导 栾川县 领导 向阳 同志 讲话 会上 宣读 客运 行业 服务质量 提升 活动 实施方案 方案 场站 建设 售票 候车 车容 车貌 车辆 技术 状况 司乘人员 工作 流程 文明用语 进一步 规范 客运 服务 行为 群众 特别 游客 提供 安全 便捷 舒适 公共交通 服务 栾川 全域 旅游 战略 先行 榜样 据悉 栾川 客运 行业 服务质量 提升 活动 为期 一年\n",
          "洛阳市 国资委 领导 莅临 洛阳 旅游 发展 集团 指导 工作 下午 国资委 主任 张俊武 莅临 旅发 集团 主要 通报 年度 考核 情况 安排 指导 考核 工作 汇报会 董事长 吕宗乐 旅发 集团 经营 情况 一步 工作 打算 汇报 吕宗乐 表示 市委 市政府 正确 领导 国资委 关心 支持 旅发 集团 不断 深化改革 创新 发展 各项 工作 取得 新进展 今后 旅发 集团 继续 认真贯彻 市委 市政府 总体 战略 国资委 工作 布署 精神 加大 体制 体系 建设 增强 内在 发展 动力 完善 监督 检察 机制 进一步 规范 国有企业 重大 事项 决策 体制 不断 开拓 旅发 集团 局面 随后 旅发 集团 副总经理 赵汝宪 总经理 助理 何江 分别 汇报 项目 安排 推进 情况 财务预算 报告 听取汇报 国资委 主任 张俊武 旅发 集团 过去 一年 工作效率 提升 项目 指标 完成 给予 充分肯定 指出 当前 经济 下行 压力 较大 背景 深化改革 转型 升级 生存 发展 根本 之策 敏锐地 观察 研判 当前 经济 发展 面临 形势 问题 抢抓 机遇 应对 挑战 最大 限度 激发 企业 活力 实现 国有资产 保值 增值 会议 认真 讨论 旅发 集团 项目 规划 项目 建设 财务预算 风险 管控\n",
          "加强 文化 保护 传承 呵护 蓝天 碧水 清波 河南 设区 地方性 法规 提请 审查 批准 洛阳 立法 保护 最早 中国 河南省 十三届 人大常委会 第三十四 会议 召开 分组 会议 郑州 洛阳 安阳 鹤壁 焦作 濮阳 许昌 漯河 南阳 商丘 信阳 周口 十二个 设区 地方性 法规 进行 审查 设立 企业家 开设 办不成 窗口 禁止 改装 提高 电动机 功率 规范 电动 自行车 管理 切口 立法 加强 生态 文明 建设 禁止 私拉乱 电线 充电 加强 居民 住宅区 消防安全 管理 法规 有何 亮点 起来 看看 河南 政策 解读 加强 文化 保护 传承 呵护 蓝天 碧水 清波 河南 设区 地方性 法规\n",
          "国内外 咖齐 洛阳 亚洲 文化遗产 保护 行动 青年 主题 研修 活动 举行 今天上午 亚洲 文化遗产 保护 行动 青年 主题 研修 活动 举行 来自 中国 柬埔寨 伊朗 也门 多个 国家 余位 青年 大使 代表 齐聚 洛阳 现场 考察 主题 讨论 形式 文化遗产 保护 传承 各国 青年 代表 先后 前往 龙门石窟 定鼎 天街 应天门 隋唐 大运河 文化 博物馆 隋唐洛阳城 国家 遗址 公园 进行 实地考察 学习 青年 大使 代表 围绕 文化遗产 保护 监测 文化遗产 文明 互鉴 数智 技术 遗产 保护 展示 管理 文化遗产 旅游 融合 发展 方面 进行 深入研究 探讨 文化遗产 国内外 文明 交流 互鉴 作用 时代背景 更好 保护 利用 文化遗产 河南 广播 电视台 李鑫 洛阳 张健 李嘉琦 河南 新闻广播\n",
          "上海 旅游 产业 博览会 喜茶 旅游 产业 简报 喜茶 联合 城文 旅局 城市 文旅 冰箱 喜茶 正式 广州市 江门市 洛阳市 三亚市 成都市 锦江区 长沙市 芙蓉区 杭州市 城区 宁波市 海曙区 南京市 秦淮区 西安 曲江 新区 厦门市 思明区 文旅 相关 部门 达成 合作 联合推出 代表 各地 特色 文旅 资源 五一 特别 合作 城市 文旅 限定 冰箱 设计 元素 突出 展现 城市 特色美食 自然风光 历史 建筑 传统 技艺 文旅 元素 当地 指定 文旅 景点 指定 喜茶 门店 进行 发放 城市 冰箱 新店 开业 活动 推出 限定 周边产品 至今 推出 余款 来源 未来 消费\n",
          "联合 执法 治理 旅游 客运 市场 进一步 规范 全市 道路 客运 市场秩序 保护 客运 经营者 人民 群众 合法权益 日起 洛阳市 交通运输 综合 行政 执法 支队 联合 市文旅 支队 旅游 客运 市场 开展 联合 治理 行动 凌晨 执法人员 到达 指定 区域 进行 驻点 检查 重点 查处 涉旅 车辆 是否 存在 按规定 线路 行驶 超范围 经营 旅游包 车牌 违法 违规行为 依法 违法 违规 涉旅 车辆 进行 扣证 处理 普法教育 一步 双方 加大 联合 执法 力度 继续 抓实 抓牢 道路 客运 市场 安全监管 工作 落实 车辆 动态 监管 制度 认真 排查 客运 线路 安全隐患 旅客 安全 出行 保驾护航\n",
          "中国银行 洛阳 分行 召开 开门红 启动 大会 中国银行 洛阳 分行 召开 开门红 启动 大会 中国银行 河南省 分行 副行长 洛阳 分行 行长 周恩红 出席会议 并作 动员 讲话 中国银行 洛阳 分行 领导 支行 班子成员 部门 主任 参加 会议 会议 指出 春节 时间 往年 时间 任务 看到 洛阳 旅游 城市 人员 资金 密集 蕴藏 大量 业务 机会 当前 市场 大幅 波动 同业 产品 同质 全行 转型 发展 员工 士气 提振 敢于 抢占 先机 抓住 开门红 发展 机遇 会议 强调 开门红 期间 费用 配置 充足 希望 全行 协同 积极 准备 落实 坚守 风险 底线 前提 一起 携手 奋进 共赢 旺季 会议 要求 全行 立即行动 争分夺秒 加压 奋进 高质量 完成 各项 业绩 指标 建设 时代 全球 一流 银行 贡献 洛阳 力量 分管 领导 宣讲 开门红 方案 展示 机关 帮扶 网点 名单 进行 目标 任务 擂台 争霸 员工 文艺 风采 展示 青年 代表 宣誓 展现 中国银行 洛阳 分行 干部 员工 坚定 信念 必胜 决心 大家 纷纷表示 奋勇争先 齐心协力 共同 实现 中国银行 洛阳 分行 开门红 目标\n",
          "伊川 乡贤 研讨会 事关 文旅 产业 发展 推动 我县 文旅 产业 发展 充分发挥 文化 旅游 宣传 营销 招商引资 项目 规划 建设 工作 上午 我县 举办 文旅 产业 发展 乡贤 研讨会 县委 常委 宣传部 部长 梁纪朋 河南省 文化产业 发展 研究院 院长 戴松 成及 文旅 方面 教授 文旅 企业 负责人 参加 会上 文广 旅游局 负责人 介绍 文化 旅游 产业 发展 情况 戴松成 与会 嘉宾 分别 文化 旅游 发展 定位 发展 路径 措施 提出 具有 针对性 可操作性 意见建议 征集 我县 文化 旅游 宣传 口号 提出 建议 戴松成 梁纪朋 赠送 亲自 创作 伊川县 六个 伊川 伊川 三首 歌词 梁纪 朋说 伊川 紧邻 古都 洛阳 素有 酒祖 故里 圣贤 理学 名城 美誉 地缘 区位 历史 人文 优势 得天独厚 县委 县政府 依托 丰厚 文化 资源优势 围绕 龙凤 文旅融合 万安 生态 康养 伊河 农旅 融合 三条 产业带 大力发展 文化 旅游事业 我县 文旅 起步 较晚 经验不足 任重道远 针对 我县 文旅 现状 未来 规划 宣传 推介 提升 借助 大家 智慧 力量 集思广益 提供 更多更好 建议 借鉴 文化 旅游 产业 发展 建言献策 云上 河南 洛阳 伊川县 地点\n",
          "身边 感动 河南省 时代 少年 千里 千里 现为 洛阳市 栾川 一高 学生 热心 环保 环保 实践 当成 学习 一部分 利用 假期 组织 开展 南水北调 清河 环境保护 公益 宣传 利用 暑假 参加 中山大学 栾川 举办 生态旅游 发展 监测点 抽样调查 工作 先后 撰写 伊河 水系 现状 调查 栾川县 环境保护 工作 调查报告 千里 组织 成立 栾川 一高 生态环境 学社 号召 环保 爱好者 共同 学习 交流 实践 心愿 希望 能为 家乡 生态 环境保护 贡献力量 千里 品学兼优 学生 成绩 优异 自初 一起 班干部 任劳任怨 组织 同学 一帮 结对子 共同提高\n",
          "洛阳 郑州 西安 联动 发展 河南省 发展 改革 委员会 支持 洛阳市 提升 开放 能级 助力 中原 城市群 中心 城市 建设 若干 措施 启动 郑洛西 高质量 发展 合作 战略规划 研究 省级 层面 建立 郑洛西 联动 发展 协作 机制 定期 召开 三地 政府 联席会议 谋划 实施 区域合作 重大项目 支持 洛阳 郑州 西安 合作 成立 具有 国际 影响力 旅游 目的地 联盟 共同 举办 世界 古都 论坛 世界 旅游 大会 国际 文化 旅游节 活动 联合 打造 世界级 精品 旅游 品牌 鼓励 引导 郑州 西安 高等院校 洛阳 大学城 设立 分校 共建 学科 加强 洛阳 郑州 西安 高校 科研院所 交流 合作 整合 提升 创新 策源 能力 产业 发展 能级\n",
          "水兵 摄影 声屏 人物 庞晓戈 2001.8 8.23 西安 易俗 剧院 河南 电视台 梨园春 剧组 西安 庞晓戈 日出 生于 河南 洛阳 偃师 中国 内地 节目 主持人 进入 河南 电视台 工作 主持 文化 博览 节目 出任 河南 卫视 戏曲 节目 梨园春 主持人 获得 金鹰奖 优秀 主持人 成为 全国十佳 金话筒 得主 动画片 铁蛋 配音 主持 河南 卫视 推出 老年 时尚 圆梦 栏目 金色 舞台 全国 先进 工作者 荣誉称号 人物 评价 庞晓戈 岗位 发挥 作用 带动 其他人 一同 向前 对待 节目 用心 全部 精力 热情 投入 梨园春 创作 真正 做到 多大劲 多大劲 庞晓戈 对待 工作 热情 恒心 孜孜不倦 求知 脚踏实地 勤奋 拥有 忠实 观众 人民网 一个名 主持人 庞晓戈 主持 节目 梨园春 血脉相连 成为 一家人 平时 主持 工作 参与 栏目 策划 工作 只能 用心 做好 一件 主持 节目 郑州 晚报 评价\n",
          "洛阳 开展 违反 中央 八项 规定 实施细则 精神 问题 专项 整治 从市 纪委 获悉 即日起 月底 我市 纪检监察 机关 全市 范围 开展 违反 中央 八项 规定 实施细则 精神 问题 专项 整治 重点 监督 各级 领导班子 领导 干部 此次 专项 整治 范围 全市 机关 人大 机关 行政 机关 政协 机关 审判机关 检察机关 人民团体 事业单位 国有 国有 控股 企业 重点 各级 领导班子 领导 干部 各级 部门 贯彻执行 市委 市政府 贯彻落实 中央 八项 规定 实施细则 精神 办法 情况 进行 全面 监督 检查 中央 省委 巡视 发现 交办 违反 中央 八项 规定 实施细则 精神 问题 工作 重点 以下内容 进行 重点 监督 违规 公款吃喝 公务 接待 违规 使用 办公用房 超标准 配置 办公 家具 违规 配备 使用 公车 公款 旅游 违规 收送 礼品 礼金 发放 津贴 补贴 专项 整治 期间 纪委 监委 组成 督导组 进行 全面 督导 检查 随机 暗访 点式 检查 方式 各县 市直 单位 自查自纠 整改 情况 专项 整治 开展 情况 监督 检查 发现 问题 线索 处置 情况 进行 监督 检查 不定期 协调 各县 市直 单位 之间 开展 交叉 互查 异地 检查\n",
          "河南 新增 一批 休闲 观光 好去处 特色 小镇 家乡 近日 河南省旅游局 发布 认定 河南省 休闲 观光 园区 特色 生态旅游 示范 名单 认定 河南省 休闲 观光 园区 特色 生态旅游 示范 河南省旅游局 公示 中共河南省委 农村 工作 领导小组 办公室 中央 省委 文件 重点 任务 工作 台账 要求 河南省旅游局 开展 河南省 休闲 观光 园区 特色 生态旅游 示范 创建活动 自愿 申报 省辖市 省直管 旅游局 推荐 专家 评审 河南省旅游局 党组 集体 研究 认定 河南省 休闲 观光 园区 特色 生态旅游 示范 认定 河南省 休闲 观光 园区 名单 洛阳 南阳 信阳市 数量 分别 达到 郑州 新乡\n",
          "洛阳 身边 栾川 面向 贫困 群众 旅游 就业 岗位 第七个 中国 旅游 当日 河南省 栾川县 旅游 部门 发布 百村 千岗 旅游 专项 扶贫 政策 面向 当地 贫困 群众 提供 就业 岗位 一位 愿意 从事 旅游 服务业 贫困 群众 能够 找到 合适 岗位 就业 脱贫 扶贫 岗位 针对 贫困 群众 不同 层次 分类 设置 愿意 从事 旅游 服务业 贫困 群众 报名 应聘 针对 贫困 大学生 提供 暑期 就业 实践 岗位 主要 从事 景区 文秘 检票 咨询服务 秩序 调度 宾馆饭店 餐饮 服务 客房 服务 工作 针对 当地 年龄 周岁 之间 建档立卡 贫困 群众 提供 暑期 农家 宾馆 服务 岗位 主要 从事 餐饮 服务 客房 服务 工作 旅游 景区 环卫 岗位\n",
          "十一 期间 洛阳 广播 电视台 中国 之声 发稿 河南 新闻广播 发稿 取得 十月份 外宣 开门红 做好 十一 期间 外宣 工作 洛阳 广播 电视台 围绕 中国 之声 河南 新闻广播 十一 宣传 重点 提前 策划 落实到人 录音 报道 国庆 长假 第一天 全国 首个 入园 景区 龙门石窟 迎来 出游 高峰 家乡 共享 汽车 博物馆 十条 精品 线路 青睐 洛阳 老君山 景区 推出 一元 午餐 温馨 服务 游客 暖心 中国 之声 播出 针对 网上 龙门石窟 游客 爆棚 佛像 咸猪 摸黑 报道 洛阳 广播 电视台 及时 派出 详尽 采访 相关 内容 以正视听 很快 录音 连线 报道 洛阳 文明 旅游 宣传 渗透到 旅游 各个环节 中国 之声 新闻纵横 央广 新闻 栏目 播出 针对 十一 期间 河南 新闻广播 录音 报道 用稿 实际 情况 洛阳 广播 电视台 每位 布置 具体任务 围绕 每天 宣传 重点 做好 录音 报道 河南 新闻 节目 播出 三篇 频率 采制 录音 报道 本月 国家 不再 统一 禁止 飞机 使用 手机 调查 发现 政策 落地 时日 洛阳 老君山 景区 推出 一元 午餐 温馨 服务 游客 暖心 洛阳 党员 旅游 服务 小分队 现身 景区 游客 身边 贴心 大管家\n",
          "相约 内蒙古 一区 一品 创新 发展 大会 开幕 日至 北京市 旅游委 乌兰察布 市政府 主办 北京 对口 地区 旅游 合作 促进 平台 执行机构 乌兰察布 旅游委 承办 和田地区 旅游局 拉萨市 旅游委 玉树州 旅游局 巴东县 旅游局 赤峰市 旅游委 南阳市 旅游 外事 侨务 洛阳市 旅游委 卢氏县 旅游委 邓州市 旅游局 十堰市 旅游委 神农架林区 旅游委 张家口市 旅游委 承德市 旅游委 保定市 旅游委 什邡市 风景名胜 旅游 管理局 沈阳市 旅游委 呼伦贝尔市 旅游委 共同 支持 一区 一品 创新 发展 主题 开展 第二届 平台 大会 乌兰察布 举行\n",
          "心中 洛阳 心中 洛阳 演讲比赛 演讲 题目 自拟 演讲 内容 要求 紧扣 厚重 洛阳 文化 洛阳 山水 洛阳 风土人情 现代 发展 成果 内容 积极向上 社会各界 群众 报名 参加 报名 电话 报名 邮箱 lylfgrscb com 关注 微信 公众 一人 洛阳 洛阳 旅游 进行 报名 比赛 设置 一等奖 二等奖 三等奖 优秀奖 决赛 选出 优秀 选手 机会 参与 我市 对外 宣传 推介 活动 本次 演讲比赛 从即日起 接受 报名 心中 洛阳 样子 报名 参赛 讲述 心中 洛阳\n",
          "花都 温泉 河南省 旅游 协会 温泉 旅游 分会 会长 扩大 会议 许昌 花都 温泉 胜利 召开 下午 河南省 旅游 协会 温泉 旅游 分会 会长 扩大 会议 许昌 花都 温泉 小镇 隆重举行 河南 旅游 协会 温泉 旅游 分会 秘书长 张庆亚 主持会议 河南省 旅游 协会 秘书长 滑蕾 介绍 协会 近期 工作 安排 本次 会议 主要 议题 大会 选举 洛阳 凤翔 温泉 董事 高仁 第二任 轮值 会长 增补 许昌 花都 温泉 总经理 张晓乐 秘书长 随后 会议 发布 首批 温泉 评员 名单 商讨 河南 首届 温泉 节等 相关 事项 最后 全体 与会 人员 合影留念 参观 考察 花都 温泉 小镇\n",
          "洛阳 身边 奇境 栾川 栾川 殊荣 被授 全国 森林 旅游 示范县 称号 国家林业局 上海市人民政府 主办 中国 森林 旅游节 上海 开幕 会上 栾川县 国家林业局 授予 全国 森林 旅游 示范县 荣誉称号 了解 全国 森林 旅游 示范县 国家林业局 命名 管理 评选 具备 良好 森林 风景 资源 森林 旅游 发展 取得 显著成绩 各地 森林 旅游 发展 具有 重要 示范 意义 区级 行政区 要求 行政区域 范围 森林 覆盖率 低于 50% 森林 风景 资源类型 生态环境 良好 区域 省级 以上 森林 旅游 数量 不少 至少 国家级 森林 旅游 具有 较大 游客 接待量 全国 国家林业局 命名 全国 森林 旅游 示范县 我县 榜上有名 近年来 我县 依托 丰富 森林资源 优势 全县 森林 旅游 直接 从业人员 3.2 万人 10.2 农民 直接 间接 参与 森林 旅游业 农民 人均 纯收入 增加 年底 重点 森林 旅游区 接待 游客 达到 万人次 森林 旅游 综合 收入 万元 栾川 旅游\n",
          "洛阳 身边 洛阳市 第十届 河洛 大鼓 曲艺 开幕 免费 欣赏 从市 文广 新局 获悉 洛阳市 第十届 河洛 大鼓 曲艺 明日 开幕 主会场 设在 老城区 洛邑 古城 孟津县 新安县 分别 设置 分会场 市民 免费 欣赏 文广 新局 相关 负责人 介绍 活动 旨在 展示 近年来 国家级 物质 文化遗产 代表性 项目 河洛 大鼓 保护 成果 丰富 游客 市民 文化 生活 推进 非遗 保护 传承 交流 曲艺 保护 传承 经验 实现 保护 成果 全民 共享 参演 节目 既有 传统 名篇 反映 时代精神 新作 来自 登封市 巩义市 河洛 大鼓 演员 登台 献艺 主会场 地点 洛邑 古城 演出 时间 日至 每天 分会场 孟津县 分会场 地点 孟津县 桂花 中心广场 演出 时间 日至 每天 新安县 分会场 地点 新安县 体育馆 广场 演出 时间 日至 每天 潘立阁\n",
          "伊川 授牌 伊川县 关心 下一代 工作 委员会 文化 广电 旅游局 教育 体育局 联合 举行 青少年 德育 洛阳市 青少年 优秀 读物 专区 授牌 仪式 关工委 执行 主任 张孝先 参加 授牌 仪式 授牌 仪式 文化 广电 旅游局 相关 负责人 宣读 命名 伊川县 青少年 德育 洛阳市 青少年 优秀 读物 专区 决定 张孝先 先后 文化 南路 城市 书房 酒城路 城市 书房 城北 城市 书房 普惠 金融 广场 城市 书房 智慧 政务 服务中心 城市 书房 邵雍 文化 城市 书房 西山 植物园 城市 书房 南府 城市 书房 城市 书房 授牌 人民 城市 书房 揭牌 张孝先 关心 下一代 工作 一项 系统工程 需要 社会 共同 参与 发挥 利用 城市 书房 引导 广大 青少年 阅读 经典 图书 教育 努力学习 坚定 理想信念 践行 社会主义 核心 价值观 成为 国家 社会 人民 有用 人才\n",
          "首届 中国 文澄阁 四库全书 论坛 发布 洛阳 宣言 文澄阁 四库全书 编纂 委员会 主办 文澄阁 四库全书 洛阳 工作 中心 承办 首届 中国 文澄阁 四库全书 洛阳 论坛 洛阳市 孟津 魏家坡 景区 花筑奢 魏紫 别院 举行 与会代表 认真学习 习近平 总书记 传承 发展 中华 优秀 传统 文化 重要讲话 中共中央办公厅 国务院办公厅 印发 推进 时代 古籍 工作 意见 结合 编纂 文澄阁 四库全书 实践 畅谈 心得 交流经验 会后 发布 首届 中国 文澄阁 四库全书 论坛 洛阳 宣言 全文如下 十八 以来 习近平 同志 核心 党中央 高度重视 中华 古籍 传承 弘扬 中华 优秀 传统 文化 方面 重要 作用 系统 梳理 传统 文化 资源 书写 古籍 文字 起来 这是 习近平 总书记 殷殷 嘱托 推动 中华 优秀 传统 文化 创造性 转化 创新性 发展 己任 文澄阁 四库全书 编纂 工作 启动 以来 取得 阶段性 重大成果 海内外 产生 积极 反响 编纂 工作 深入 推进 地区 城市 加入 进来 共同完成 这一 旷世 杰作 今天 来自 河北 山东 江西 上海 余位 专家学者 相聚 千年 古都 洛阳 中国 历史 编纂 最大 丛书 四库全书 进行 学术 问题 研讨\n",
          "洛阳市 少年儿童 图书馆 孙旗 小学 分馆 开馆 开启 校馆 合作 路径 洛阳市 少年儿童 图书馆 首个 校内 分馆 孙旗 小学 分馆 正式 开馆 开启 公共 图书馆 学校 合作 共建 书香 校园 图书馆 服务 路径 分馆 位于 学校 多功能 活动 室内 面积 平方米 陈列 各类 少儿读物 余册 设置 座席 余个 配备 自助 借阅 机等 设备 具备 借阅 功能 实现 少年儿童 图书馆 分馆 通借通 目前 该校 全体学生 办理 读者 分馆 每天 时段 对外开放 方便 周边 读者 借阅 截至 目前 少年儿童 图书馆 总分 数量 分馆 在校学生 提供 种类 丰富 针对性 少儿读物 打破 传统 公共 图书馆 中小学校 图书馆 壁垒 盘活 学校 图书馆 资源 今后 文化 广电 旅游局 继续加强 全市 学校 联系 进一步 推广 校馆 共建 模式 助推 书香 洛阳 建设 洛阳 日报 朱艳艳 通讯员 朝霞\n",
          "期待 河南省 文旅文创 发展 大会 洛阳 举行 近日 获悉 河南省 文旅文创 发展 大会 洛阳 隋唐洛阳城 遗址 公园 九州 举行 本次 大会 主题 行走 河南 读懂 中国 形式 工作 会议 实地 观摩 产业 招商 引客 入豫 宣传 推介 配套 活动 了解 举办 全省 文旅文创 发展 大会 我省 推动 文化 旅游 高质量 发展 加快 建设 文化 旅游 强省 重要 举措 旨在 推进 文旅文创 融合 战略 深入 实施 叫响 行走 河南 读懂 中国 品牌 提振 文化 旅游 消费 凝聚 推动 文旅文创 产业 支柱 建设 文化 旅游 强省 合力 合力 郑州 文旅\n",
          "部门 动态 比干庙 景区 洛阳 老君山 景区 学习 服务 标准化 建设 全面 推进 比干庙 景区 创建 省级 服务 标准化 示范 单位 工作 进一步 提升 景区 旅游 服务 标准化 水平 卫辉市 比干庙 景区 办公室 主任 马俊渠 一行 洛阳 栾川 老君山 景区 学习 服务 标准化 建设 先进经验 马俊渠 同志 一行 实地 参观 老君山 景区 详细 了解 老君山 景区 创建 省级 服务 标准化 示范 单位 工作 实效 随后 老君山 景区 副总经理 郭海涛 进行 深入细致 座谈 交流 深入 了解 学习 老君山 景区 创建 省级 服务 标准化 示范 单位 工作 成功经验 做法 服务 标准化 工作 发展 新路 进行 探讨 近年来 老君山 景区 加强 基础设施 建设 投资 亿元 实现 景区 标准化 建设 覆盖 成功 创建 国家 AAAAA 景区 批准 省级 服务 标准化 示范 单位 国家 标准化 管理 委员会 公布 年度 国家级 服务业 标准化 试点 项目 考察团 人员 一致 认为 此次 考察 学习 不虚此行 受益 良多 比干庙 景区 一步 抓住机遇 创建 省级 服务 标准化 示范 单位 契机 注重 创新 形成 特色 扎实 推进 标准化 建设 工作 力争 以较 成绩 月底 验收\n",
          "文旅 专家 解读 河南省 文旅文创 发展 大会 中华文明 之源 文之盛 山水 之韵 风俗 之醇 古今之 充分发挥 文旅 资源优势 打造 中华文化 传承 创新 中心 世界 文化 旅游胜地 行走 河南 触摸 历史 感知 文明 滋养 精神 读懂 中国 日前 全省 文旅文创 发展 大会 洛阳 成功 召开 了解 会议 深入 贯彻 习近平 总书记 文化 旅游 工作 重要 论述 视察 河南 重要讲话 重要 指示 实施 文旅文创 融合 战略 作出 全面 部署 加快 塑造 行走 河南 读懂 中国 品牌 推动 文旅文创 产业 支柱 推进 中国式 现代化 建设 河南 实践 注入 动能\n",
          "洛阳城 洛阳 爆料 我县 召开 铁路 小镇 建设 推进 重渡 管委会 铁路 小镇 项目 铁路 主题公园 建设 进行 专项 部署 副县长 周胜展 重渡 管委会 相关 负责同志 参加 会议 会议 要求 进一步 完善 铁路 主题公园 设计规划 明确 铁路 元素 种类 数量 认真 做好 铁路 元素 捐赠 申请 报送 工作 据悉 此次 申请 铁路 元素 包括 火车头 车厢 钢轨 枕木 信号机 轮饼 总价值 余万元 铁路 元素 用于 打造 车头 咖啡屋 火车 景观 小品 登山 更好 打造 铁路 小镇 提升 当地 旅游 品质 起到 积极 作用 来源 中国 栾川 米茂茂 洛阳\n",
          "郑州 洛阳 发布 娱乐 演出 场所 复工 指南 电影 提前 预约 错峰 入场 预约 限流 严格控制 人员 数量 消费者 提前 预约 错峰 入场 郑州市 文化 广电 旅游局 发布 郑州市 文化 市场 经营场所 疫情 防控 期间 有序 复工 复产 工作指南 指南 要求 娱乐场所 互联网 上网 服务 营业 场所 演出 场所 复工 复产 属地 开发区 要求 所在地 乡镇 办事处 和文 主管部门 提交 承诺书 备足 口罩 手套 体温 检测 仪器 消毒 设施 消毒水 防疫 物资 切实做好 复工 复产 准备 工作 当天 洛阳市 文化 广电 旅游局 发文 电影院 KTV 娱乐场所 开放 详情 速看 郑州 洛阳 两地 娱乐 演出 场所 复工 指南\n",
          null
         ],
         "marker": {
          "opacity": 0.5,
          "size": 5
         },
         "mode": "markers+text",
         "name": "2_工作_旅游_发展",
         "text": [
          "",
          "",
          "",
          "",
          "",
          "",
          "",
          "",
          "",
          "",
          "",
          "",
          "",
          "",
          "",
          "",
          "",
          "",
          "",
          "",
          "",
          "",
          "",
          "",
          "",
          "",
          "",
          "",
          "",
          "",
          "",
          "",
          "",
          "",
          "",
          "",
          "",
          "",
          "",
          "",
          "",
          "",
          "",
          "",
          "",
          "",
          "",
          "",
          "",
          "",
          "",
          "",
          "",
          "",
          "",
          "",
          "",
          "",
          "",
          "",
          "",
          "",
          "",
          "2_工作_旅游_发展"
         ],
         "textfont": {
          "size": 12
         },
         "type": "scattergl",
         "x": [
          8.429205894470215,
          9.544116973876953,
          8.560681343078613,
          9.369731903076172,
          9.406718254089355,
          9.445777893066406,
          9.593570709228516,
          8.521441459655762,
          9.763195037841797,
          10.076652526855469,
          8.823216438293457,
          9.433999061584473,
          9.49272632598877,
          8.498513221740723,
          9.970964431762695,
          9.957438468933105,
          8.428842544555664,
          9.916699409484863,
          9.955727577209473,
          9.272149085998535,
          9.954912185668945,
          9.218619346618652,
          9.531153678894043,
          10.171004295349121,
          9.456783294677734,
          9.402766227722168,
          9.467913627624512,
          9.397795677185059,
          9.55966567993164,
          8.878484725952148,
          8.603470802307129,
          9.404892921447754,
          9.738303184509277,
          9.7238130569458,
          9.458646774291992,
          8.464004516601562,
          9.462662696838379,
          9.996593475341797,
          9.837924003601074,
          8.510957717895508,
          8.215928077697754,
          9.472622871398926,
          9.570024490356445,
          8.752004623413086,
          9.432575225830078,
          10.001964569091797,
          9.490299224853516,
          8.663113594055176,
          8.531327247619629,
          9.795919418334961,
          8.54902458190918,
          9.885797500610352,
          9.59755802154541,
          8.58251953125,
          9.944592475891113,
          9.793641090393066,
          10.01737117767334,
          10.260421752929688,
          9.404831886291504,
          8.46531867980957,
          9.807686805725098,
          9.429109573364258,
          8.37175464630127,
          9.345036506652832
         ],
         "y": [
          7.657104015350342,
          7.2559051513671875,
          7.2291035652160645,
          7.854048252105713,
          7.830012321472168,
          7.656852722167969,
          7.294865131378174,
          7.3623552322387695,
          7.582935333251953,
          8.354933738708496,
          7.481231212615967,
          7.660351276397705,
          7.156195163726807,
          7.58664083480835,
          8.505019187927246,
          8.604604721069336,
          7.295504093170166,
          8.717496871948242,
          8.669037818908691,
          7.782874584197998,
          8.097304344177246,
          7.629385948181152,
          7.240786552429199,
          8.585552215576172,
          7.56084680557251,
          7.075572967529297,
          7.149292945861816,
          7.093161582946777,
          7.431543350219727,
          7.4654541015625,
          7.254400253295898,
          7.834235668182373,
          7.492129325866699,
          7.794902324676514,
          7.114582538604736,
          7.108493328094482,
          7.125486373901367,
          8.520573616027832,
          8.448208808898926,
          7.654061317443848,
          7.179344177246094,
          7.545036315917969,
          7.544673919677734,
          7.484053611755371,
          7.139621734619141,
          7.762709140777588,
          7.119179725646973,
          7.3601531982421875,
          7.319228172302246,
          8.331048011779785,
          7.542372703552246,
          8.716548919677734,
          7.497578144073486,
          7.246230602264404,
          8.5723876953125,
          7.711624622344971,
          8.578367233276367,
          8.693617820739746,
          7.709498405456543,
          7.110450267791748,
          8.538488388061523,
          7.143162727355957,
          7.485213756561279,
          7.691168308258057
         ]
        },
        {
         "hoverinfo": "text",
         "hovertext": [
          "时光 之旅 龙门石窟 石刻 艺术 宝库 世界 文化遗产 全国 重点 文物保护 单位 国家 AAAAA 旅游 景区 位于 洛阳市 南郊 伊河 两岸 龙门山 香山 龙门石窟 敦煌 莫高窟 云冈石窟 并称 中国 三大 石窟 龙门石窟 开凿 于北 魏孝文帝 年间 之后 历经 东魏 西魏 北齐 五代 宋等 朝代 连续 大规模 营造 余年 南北 长达 公里 存有 造像 万余尊 碑刻 题记 余品 龙门 二十品 书法 魏碑 精华 褚遂良 所书 伊阙 佛龛 之碑 初唐 楷书 艺术 典范 龙门石窟 延续 时间 跨越 朝代 大量 实物 形象 文字 资料 不同 侧面 反映 中国 古代 政治 经济 宗教 文化 领域 发展 变化 中国 石窟 艺术 创新 发展 做出 重大贡献 深深 艺术 气氛 不能 错过\n",
          "KStudy 今日 一起 走进 敦煌 接受 文化 熏陶 领略 沙漠 之美 司南 考研 司南 考研 司南 考研 教育 DAY4 敦煌 莫高窟 鸣沙山 月牙泉 敦煌 莫高窟 敦煌 莫高窟 河南 洛阳龙门石窟 山西大同 云冈石窟 并称 中国 三大 石窟 世界 著名 物质 文化遗产 来到 看到 石窟 壁画 震惊 感叹 古人 智慧 勤劳 鸣沙山 月牙泉 踏上 丝绸之路 沙漠 之巅 一眼 望去 全是 沙漠 茫茫 大漠 中有 一片 绿洲 掩映 鸣沙山 怀抱 月牙泉 绿洲 弯弯 明月 清澈见底 沙漠 清泉 共存 一道 美的 风景 考研 小伙伴 学习 看看 风景 感受 祖国 悠久 历史 文化 奇特 自然风光 旅游 敦煌\n",
          "云南 安宁 法华寺 石窟 佛头 敲碎 官方 介入 调查 上午 上游 新闻 重庆晨报 云南省 安宁市 文体 旅游局 了解 针对 网上 曝出 法华寺 石窟 损毁 情况 该局 文管 部门 已经 介入 调查 相关 情况 对外 发布 处理结果 法华寺 位于 云南省 昆明 安宁市 城东 五公里 洛阳 山麓 原名 佛寺 石窟 艺术 著称 爆料 信息 显示 法华寺 石窟 佛头 敲碎 恶作剧 画上 狰狞 图案 书法 精湛 晚照 摩崖 石刻 完全 拙劣 涂鸦 遮盖 云南 安宁 法华寺 石窟 quot 佛头 敲碎 quot 官方 介入 调查\n",
          "云冈石窟 位于 中国 北部 山西省 大同市 西郊 公里 武周山 南麓 石窟 依山 开凿 东西 绵延 公里 存有 主要 洞窟 大小 石雕 造像 余躯 中国 规模 最大 古代 石窟群 敦煌 莫高窟 洛阳龙门石窟 天水 麦积山 石窟 称为 中国 四大 石窟 艺术 宝库 国务院 公布 全国 首批 重点 文物保护 单位 联合国教科文组织 列入 世界遗产 名录 国家旅游局 评为 首批 国家 5A 旅游 景区 探秘 山西 山西旅游 云冈石窟 PIE\n",
          "去过 大同 以前 印象 往往 停留 中国 煤都 空气 一定 不太好 如果说 大同 旅游 相信 大家 想到 悬空寺 恒山 云冈石窟 毕竟 景点 几乎 成为 大同 旅游 代名词 小马 山西大同 旅行 第一站 云冈石窟 敦煌 莫高窟 洛阳龙门石窟 天水 麦积山 石窟 一同 称为 中国 四大 石窟 云冈石窟 规模 非常 如今 保留 下来 石窟 长约 公里 共有 洞窟 大小 不不一 造像 更是 多达 万多尊 成为 如今 中国 最大 石窟群 暑期 旅游 值得 爱上 这座\n",
          "龙门石窟 中国 石刻 艺术 宝库 现为 世界 文化遗产 全国 重点 文物保护 单位 国家 AAAAA 旅游 景区 位于 河南省 洛阳市 洛龙区 伊河 两岸 龙门山 香山 龙门石窟 莫高窟 云冈石窟 麦积山 石窟 并称 中国 四大 石窟 龙门石窟 开凿 于北 魏孝文帝 年间 之后 历经 东魏 西魏 北齐 五代 宋等 朝代 连续 大规模 营造 余年 南北 长达 公里 存有 造像 万余尊 碑刻 题记 余品 龙门 二十品 书法 魏碑 精华 褚遂良 所书 伊阙 佛龛 之碑 初唐 楷书 艺术 典范 龙门石窟 延续 时间 跨越 朝代 大量 实物 形象 文字 资料 不同 侧面 反映 中国 古代 政治 经济 宗教 文化 领域 发展 变化 中国 石窟 艺术 创新 发展 做出 重大贡献 联合国 科教文 组织 列为 世界 文化遗产 洛阳 龙门石窟 景区\n",
          "龙门石窟 中国 石刻 艺术 宝库 现为 世界 文化遗产 全国 重点 文物保护 单位 国家 AAAAA 旅游 景区 位于 河南省 洛阳市 洛龙区 伊河 两岸 龙门山 香山 依两山 一水 风景优美 龙门石窟 莫高窟 云冈石窟 麦积山 石窟 并称 中国 四大 石窟 龙门石窟 开凿 于北 魏孝文帝 年间 之后 历经 东魏 西魏 北齐 五代 宋等 朝代 连续 大规模 营造 余年 南北 长达 公里 存有 造像 万余尊 碑刻 题记 余品 龙门石窟 历经 上千年 风吹日晒 雨雪 冲洗 加上 战乱 人为 破坏 盗取 佛像 碑刻 残破 不堪 洛阳 龙门石窟 景区 可爱 Adream\n",
          "长春 发布 长春 世界 雕塑公园 成为 国家 5A 景区 长春 世界 雕塑公园 国家 AAAAA 旅游 景区 正式 揭牌 至此 我市 拥有 国家 AAAAA 旅游 景区 四处 全国 城市 排名 洛阳 并列 第四 东北三省 排名 位列 第一 AAAAA 全国 旅游 景区 最高 荣誉 我市 下半年 正式 启动 长春 世界 雕塑公园 AAAAA 旅游 景区 创建 工作 高起点 完善 旅游 配套 设施 高质量 搞好 景区 管理 服务 高水平 打造 旅游 景区 品牌 全面 提升 景区 品牌形象 核心 竞争力 不懈努力 长春 世界 雕塑公园 成功 晋级 国家 AAAAA 旅游 景区\n",
          "龙门石窟 中国 石刻 艺术 宝库 现为 世界 文化遗产 全国 重点 文物保护 单位 国家 AAAAA 旅游 景区 位于 河南省 洛阳市 洛龙区 伊河 两岸 龙门山 香山 龙门石窟 莫高窟 云冈石窟 麦积山 石窟 并称 中国 四大 石窟 龙门石窟 开凿 于北 魏孝文帝 年间 之后 历经 东魏 西魏 北齐 五代 宋等 朝代 连续 大规模 营造 余年 南北 长达 公里 存有 造像 万余尊 碑刻 题记 余品 龙门 二十品 书法 魏碑 精华 褚遂良 所书 伊阙 佛龛 之碑 初唐 楷书 艺术 典范 龙门石窟 延续 时间 跨越 朝代 大量 实物 形象 文字 资料 不同 侧面 反映 中国 古代 政治 经济 宗教 文化 领域 发展 变化 中国 石窟 艺术 创新 发展 做出 重大贡献 联合国 科教文 组织 列为 世界 文化遗产 洛阳城 古迹 寻踪 河南 历史 河南省旅游局 官方 洛阳城 旅游 攻略 全景 洛阳 洛阳 平乐\n",
          "正在 发生 旅行 最萌 大佛 最美 佛像 老祖宗 留下 艺术 文化 瑰宝 宝库 现为 世界 文化遗产 全国 重点 文物保护 单位 国家 AAAAA 旅游 景区 位于 洛阳市 南郊 伊河 两岸 龙门山 香山 龙门石窟 莫高窟 云冈石窟 麦积山 石窟 并称 中国 四大 石窟 龙门石窟 开凿 于北 魏孝文帝 年间 之后 历经 东魏 西魏 北齐 五代 宋等 朝代 连续 大规模 营造 余年 南北 长达 公里 存有 造像 万余尊 碑刻 题记 余品 龙门 二十品 书法 魏碑 精华 褚遂良 所书 伊阙 佛龛 之碑 初唐 楷书 艺术 典范 龙门石窟 延续 时间 跨越 朝代 大量 实物 形象 文字 资料 不同 侧面 反映 中国 古代 政治 经济 宗教 文化 领域 发展 变化 中国 石窟 艺术 创新 发展 做出 重大贡献 联合国 科教文 组织 列为 世界 文化遗产 洛阳 龙门石窟 景区\n",
          "hello 旅行 旅行 势力 换个 角度看 世界 世界 世界 甘肃 旅行 莫高窟 俗称 千佛洞 坐落 河西走廊 西端 敦煌 始建 十六 前秦 时期 历经 十六 北朝 五代 西夏 历代 兴建 形成 巨大 规模 洞窟 壁画 4.5 万平方米 泥质 彩塑 世界 现存 规模 最大 内容 丰富 佛教 艺术 莫高窟 山西大同 云冈石窟 河南 洛阳龙门石窟 甘肃 天水 麦积山 石窟 称为 中国 四大 石窟 漠高窟 沙漠 高处 后世 通用 改称 莫高窟 另有 一说 佛家 有言 修建 佛洞 功德无量 莫者 可能 莫高窟 意思 修建 佛窟 旅游 旅游 行走 小肥羊\n",
          "旅行 灵感 遇见 最美 城市 旅行 河南 旅行 洛阳 旅行 龙门石窟 位于 河南省 洛阳市 洛龙区 伊河 两岸 龙门山 香山 龙门石窟 中国 石刻 艺术 宝库 现为 世界 文化遗产 全国 重点 文物保护 单位 国家 5A 旅游 景区 莫高窟 云冈石窟 麦积山 石窟 并称 中国 四大 石窟 龙门石窟 开凿 于北 魏孝文帝 年间 之后 历经 东魏 西魏 北齐 五代 宋等 朝代 连续 大规模 营造 余年 南北 长达 公里 存有 造像 万余尊 碑刻 题记 余品 大量 实物 形象 文字 资料 不同 侧面 反映 中国 古代 政治 经济 宗教 文化 领域 发展 变化 中国 石窟 艺术 创新 发展 做出 重大贡献 推荐 指数 门票 电瓶车 票价 单程 地址 洛阳市 洛龙区 龙门镇 龙门 大道 旅游 微博旅 旅游 旅行 河南省旅游局 官方 洛阳 龙门石窟 景区\n",
          "雕工 日入 千塑 山寨 佛窟 造型 尴尬 来源 河南 洛阳 村落 土崖 几尊 佛像 远望 龙门石窟 细看 造型 有点 一言难尽 村民 最近 几年 才造 雕工 师傅 每天 千元 工资 石窟 一种 佛教 建筑 形式 佛教 提倡 遁世 隐修 僧侣 选择 崇山峻岭 幽僻 之地 开凿 石窟 修行 之用 代表 佛教文化 一系列 精美 建筑 雕塑 绘画 艺术 有机 组合 网友 看到 山寨 手笔 禁不住 吐槽 第八 奇迹 这种 山寨 旅游景点 想起 山寨 兵马俑 Lnddpg111\n",
          "洛阳 身边 洛阳龙门石窟 成为 全国 首个 无现金 景区 今天上午 龙门石窟 景区 龙门石窟 智能 平台 上线 启动 仪式 举行 标志 龙门石窟 全国 首个 互联网 智慧 景区 迈入 智能 时代 开启 智慧 旅游 龙门 智能 平台 打通 龙门石窟 智慧 旅游 管理 平台 微信 支付 平台 票务 管理系统 停车场 管理系统 平台 系统 数据 一系列 智能 筛选 分析 进行 可视化 处理 直观 呈现 实现 数据 真正 融合 智能 平台 龙门石窟 成为 全国 首个 无现金 景区 游客 景区 吃住行 游购 活动 全部 微信 支付 无现金 使用\n",
          "洛阳 洛阳龙门石窟 地点 洛阳 世界遗产 委员会 龙门石窟 评价 龙门 地区 石窟 佛龛 展现 中国 北魏 晚期 唐代 公元 期间 最具 规模 最为 优秀 造型艺术 详实 描述 佛教 宗教 题材 艺术作品 代表 中国 石刻 艺术 最高峰 龙门石窟 满足 世界 文化遗产 下列 评定 标准 人类 艺术 创造力 杰出 表现 ii 悠久 历史 艺术 形式 完美 展现 区域 文化 发展 扮演着 重要 角色 iii 中国 唐朝 高度 文化 水平 成熟 社会 展现 下面 一下 旅游 群众 评价\n",
          "龙门石窟 以前 小学 课本上 看到 龙门石窟 来到 洛阳 上学 第一站 龙门石窟 游览 之后 感受 大佛 巧夺天工 震撼 小佛 鬼斧神工 触动 惊叹 古人 力量 智慧 沿途 风景 用心 享受 溢美之词 下面 大家 强势 安利 一下 洛阳龙门石窟 中国 石刻 艺术 宝库 现为 世界 文化遗产 全国 重点 文物保护 单位 国家 AAAAA 旅游 景区 莫高窟 云冈石窟 麦积山 石窟 并称 中国 四大 石窟 开凿 于北 魏孝文帝 年间 之后 历经 东魏 西魏 北齐 五代 宋等 朝代 连续 大规模 营造 余年 南北 长达 公里 存有 造像 万余尊 大量 实物 形象 文字 资料 不同 侧面 反映 中国 古代 政治 经济 宗教 文化 领域 发展 变化 中国 石窟 艺术 创新 发展 做出 重大贡献 联合国 科教文 组织 列为 世界 文化遗产 洛阳 大学城\n",
          "洛阳城 龙门石窟 入选 美国 国家 地理 年度 全球 推荐 旅游 获悉 美国 国家 地理 杂志 昨日 公布 年度 全球 推荐 旅游 名单 龙门石窟 入选 文化 旅游 了解 Best of the World 世界 最佳 榜单 尊重 主题 分为 社区 文化 冒险 自然 家庭 五个 类别 囊括 旅行 目的地 龙门石窟 因其 世界 造像 规模 最大 石刻 艺术 宝库 联合国教科文组织 评为 中国 石刻 艺术 最高峰 成功 入选 文化 旅游 文章 介绍 世界 遗产地 成为 电视节目 龙门 金刚 杂技 舞蹈 背景 引起 全国 轰动 石窟 西安交大 芝加哥大学 数字 扫描 科技 合作 对象\n",
          "龙门石窟 位于 洛阳市 南郊 伊河 两岸 龙门山 香山 龙门石窟 敦煌 莫高窟 云冈石窟 并称 中国 三大 石窟 龙门石窟 开凿 于北 魏孝文帝 年间 之后 历经 东魏 西魏 北齐 五代 宋等 朝代 连续 大规模 营造 余年 南北 长达 公里 存有 造像 万余尊 碑刻 题记 余品 龙门 二十品 书法 魏碑 精华 褚遂良 所书 伊阙 佛龛 之碑 初唐 楷书 艺术 典范 龙门石窟 延续 时间 跨越 朝代 大量 实物 形象 文字 资料 不同 侧面 反映 中国 古代 政治 经济 宗教 文化 领域 发展 变化 中国 石窟 艺术 创新 发展 做出 重大贡献 联合国 科教文 组织 列为 世界 文化遗产\n",
          "壮行 大西北 十七 麦积山 石窟 上午 公交车 直达 麦积山 石窟 门票 麦积山 石窟 中国 四大 石窟 莫高窟 甘肃 敦煌 云冈石窟 山西大同 龙门石窟 河南 洛阳 麦积山 石窟 甘肃 天水 中国 古代 传统 文化 艺术 瑰宝 麦积山 因山 形似 麦垛 得名 麦积山 石窟 始建 现存 洞窟 泥塑 石雕 余平方米 壁画 被誉为 东方 雕塑 艺术 陈列馆 大部分 网罩 起来 下午 火车 观看 万分之 飞奔 下山 麦积山 风景区 麦积山 仙人 石门 曲溪 街亭 温泉 五个 景区 多个 景点 组成 拥有 丰富 多样 生物 类型 物种 称为 陇上 林泉之 丝绸 古道 一颗 璀璨 艺术 明珠 朋友 机会 天水 旅行 不错 选择 2018.6 天水 上海 T118 列车 蚌埠 淮河路\n",
          "龙门 位于 洛阳 南郊 十二 公里 因两山 相对 形似 石门 得名 龙门石窟 开凿 于北 魏孝文帝 年间 开凿 时间 四百多年 龙门石窟 莫高窟 云冈石窟 麦积山 石窟 并称 中国 四大 石窟 联合国 科教文 组织 列为 世界 文化遗产 世界 文化遗产 龙门石窟 坐落于 素称 十三 古都 洛阳城 公里 伊河 两岸 南北 长达 公里 两山 巍然 对峙 水中 形如门 古称 伊阙 地处 都城 之南 古代 帝王 真龙天子 故又称 龙门 龙门 之称 始于 中经 直至 今天 仍然 沿用 龙门 自古 险要 关隘 交通要道 兵家必争之地 山清水秀 环境 清幽 气候宜人 素为 文人墨客 观游 胜地 石质 优良 宜于 雕刻 故而 古人 择此建 石窟 旅行 洛阳 河南 旅游 洛阳 旅游 洛阳 龙门石窟 景区 李培友\n",
          "文博 公开课 莫高窟 无数 精美 壁画 泥质 彩塑 世人 展示 中华民族 优秀 文化遗产 之美 一起 精美绝伦 敦煌 艺术 瑰宝 敦煌研究院 敦煌研究院 文化 弘扬 莫高窟 俗称 千佛洞 坐落 河西走廊 西端 敦煌 始建 十六 前秦 时期 历经 十六 北朝 五代 西夏 历代 兴建 形成 巨大 规模 洞窟 壁画 4.5 万平方米 泥质 彩塑 世界 现存 规模 最大 内容 丰富 佛教 艺术 东方 卫视 闪亮 名字 莫高窟 中华人民共和国国务院 公布 第一批 全国 重点 文物保护 单位 莫高窟 列为 世界 文化遗产 莫高窟 山西大同 云冈石窟 河南 洛阳龙门石窟 甘肃 天水 麦积山 石窟 称为 中国 四大 石窟 遇见 敦煌 东方 卫视 闪亮 名字\n",
          "洛阳 青春 龙门石窟 入选 年度 全球 推荐 旅游 获悉 美国 国家 地理 杂志 昨日 公布 年度 全球 推荐 旅游 名单 世界遗产 龙门石窟 代表 中国 石刻 艺术 最高峰 入选 文化 旅游 Best of the World 世界 最佳 榜单 尊重 主题 分为 社区 文化 冒险 自然 家庭 五个 类别 囊括 明年 必去 旅行 目的地 龙门石窟 世界 造像 规模 最大 石刻 艺术 宝库 联合国 科教文 组织 评为 中国 石刻 艺术 最高峰\n",
          "畅游 旅行 龙门石窟 中国 石刻 艺术 宝库 现为 世界 文化遗产 全国 重点 文物保护 单位 国家 AAAAA 旅游 景区 位于 河南省 洛阳市 洛龙区 伊河 两岸 龙门山 香山 龙门石窟 莫高窟 云冈石窟 麦积山 石窟 并称 中国 四大 石窟 龙门石窟 开凿 于北 魏孝文帝 年间 之后 历经 东魏 西魏 北齐 五代 宋等 朝代 连续 大规模 营造 余年 南北 长达 公里 存有 造像 万余尊 碑刻 题记 余品 龙门 二十品 书法 魏碑 精华 褚遂良 所书 伊阙 佛龛 之碑 初唐 楷书 艺术 典范\n",
          "概念 文物保护 设立 部门 几十年 时间 盗墓 已经 几千年 历史 盗墓贼 需要 高科技 手段 考古队 出名 旅游景点 乾陵 中山陵 洛阳 古墓 博物馆 当时 碰见 陕西省 考古队 几个 下来 考古队 一无所获 偶然间 发现 一处 陵墓 挖开 之后 发现 陪葬品 相当 丰富 只护膊 上面 引发 大家 争议 惊叹 认为 造假 觉得 这是 老祖宗 中国 考古队 决定 陵墓 试掘 多方 调查 定陵 进入 考古队 视野 试掘 正式 考古队 中国 古代 人口统计 一向 成谜 考虑 逃户 隐户 因素 这份 户口簿 乐浪郡 知名 中国 出名 考古队\n",
          "大众 揽境 揽境 TALAGON 洛阳龙门石窟 世界 造像 规模 最大 石刻 艺术 宝库 世界 文化遗产 全国 重点 文物保护 单位 国家 5A 旅游 景区 龙门石窟 位于 悬崖峭壁 伊河 为界 分为 西山 北山 部分 石窟 始凿 魏孝文帝 年间 盛于唐 终于 清末 南北 公里 现存 洞窟 佛龛 造像 万余尊 敦煌 莫窟 大同 云冈石窟 麦积山 石窟 并称 中国 四大 石窟 著名 武则天 容貌 体态 雕刻 卢舍那 大佛 17.14 耳朵 1.9 造型 美观 仪态万千 孝文帝 冯太后 古阳洞 兰陵王 孙于 万佛洞 造像 李泰为 皇后 宾阳 南洞 龙门石窟 碑刻 题记 余品 有古 碑林 之称 代表作 龙门 十二 龙门 双璧 中国 书法艺术 杰作 白园 纪念 白居易 晚年生活 内有 国际友人 碑刻 水流 淙淙 竹林 掩映 人们 追思 怀古 清净 大众 揽境 算是 途昂 孪生兄弟 帕萨特 迈腾样 全系 标配 carplay 百度 carlife 手机 导航 听歌 电话 全系 标配 10.25 液晶 仪表盘 满满 科技 提供 动力 组合 2.0 速双 离合 2.5 速双 离合 当然 顶配 车型 搭载 2.5 发动机 主打 应该 2.0 速双\n",
          "旅行 地平线 古村落 民居 史上 活化石 陕州 坑院 位于 河南省 三门峡市 陕州区 张汴乡 北营村 三门峡市 公里 规划 面积 平方公里 一种 古老 神奇 民居 样式 地坑院 蕴藏 丰富 文化 全国 世界 唯一 地下 古民居 建筑 我国 特有 四大 古民居 建筑 地坑院 营造 技艺 列入 国家级 物质 文化遗产 保护 名录 陕州 坑院 消夏 纳凉 季来 洛阳 热门 洛阳 三门峡 身边 旅行 势力 陕州 坑院 三门峡 三门峡 旅游\n",
          "玩家 推荐 指数 风景 指数 不止 旅行 龙门石窟 国家 AAAAA 旅游 景区 位于 洛阳市 南郊 伊河 两岸 龙门山 香山 龙门石窟 敦煌 莫高窟 云冈石窟 并称 中国 三大 石窟 龙门石窟 开凿 于北 魏孝文帝 年间 之后 历经 东魏 西魏 北齐 五代 宋等 朝代 连续 大规模 营造 余年 南北 长达 公里 存有 造像 万余尊 碑刻 题记 余品 龙门 二十品 书法 魏碑 精华 褚遂良 所书 伊阙 佛龛 之碑 初唐 楷书 艺术 典范 龙门石窟 延续 时间 跨越 朝代 大量 实物 形象 文字 资料 不同 侧面 反映 中国 古代 政治 经济 宗教 文化 领域 发展 变化 中国 石窟 艺术 创新 发展 做出 重大贡献 联合国 科教文 组织 列为 世界 文化遗产 自驾 旅行 新年 旅行 遇见 美好 洛阳 旅游\n",
          "对话 中原 古都 洛阳城 外国 使节 上个世纪 八十年代 河南省 洛阳市 一家 企业 洛阳 龙门山 修建 厂址 意外 发现 一座 古墓 施工人员 立即 通知 洛阳市 文物部门 洛阳市 文物 工作队 振华 朱亮 立即 赶到 现场 吃惊 这座 古墓 被盗 文物 保存 完好 东汉 唐朝 年间 外国 使节 留学生 来到 古都 洛阳 古代 政府 机构 接待 礼仪 外国 人员 传播 中华文明 文化交流 起到 作用 关注 本期 对话 中原 古都 洛阳城 外国 使节 河南 卫视 周日 新闻频道 周日 周一 不见不散 河南 广播 电视台\n",
          "三星堆 博物馆 考古 盲盒 评分 种草 优选 种草 安利 奉贤 博物馆 古蜀 之光 三星堆 金沙 遗址 出土文物 没买 盲盒 总是 甘心 网上 三星堆 文创店 考古 盲盒 回来 好好 三星堆 盲盒 包装 精美 里面 送到 工具 很多 锤子 刷子 手套 口罩 护目镜 不得不 相当 周到 依旧 耗时 一个半 小时 出土 青铜 纵目 面具 很漂亮 原本 以为 土里 文物 没想到 很多 隐藏 青铜 零件 竟然 叠压 关系 难度 有所增加 趣味性 更高 相比 昨天 河南 博物院 考古 盲盒 优点 包装 更好 技术性 更高 弱项 文物 不是 金属 树脂 手感 稍差 锤子 洛阳 质感 总结 下来 人能 逃过 盲盒 诱惑 坑里 好物 测评 微博众测 玩乐 上海 旅游 旅游 旅行\n",
          "洛阳 地方 上榜 中国 世界 文化遗产 预备 名单 日前 国家文物局 万里 茶道 申遗 项目 正式 列入 中国 世界 文化遗产 预备 名单 标志 万里 茶道 跨国 申遗 进入 关键性 环节 洛阳 关林 潞泽 会馆 洛阳 山陕 会馆 列入 万里 茶道 申遗 项目 清单 万里 茶道 干线 总长 1.4 万余公里 纵贯 中蒙 三国 横跨 亚欧大陆 留存 大量 珍贵 文化遗产 推进 一带 一路 建设 热潮 中蒙 三国 共同 致力 复兴 古老 万里 茶道 联合 发起 申报 世界 文化遗产 倡议 多年 努力 跨国 申遗 迈出 重要 一步 洛阳 身边 洛阳 印象 精彩 洛阳 河南 旅游 洛阳 音乐 喷泉\n",
          "旅游 旅行 势力 换个 角度看 世界 世界 世界 甘肃 旅行 莫高窟 俗称 千佛洞 坐落 河西走廊 西端 敦煌 始建 十六 前秦 时期 历经 十六 北朝 五代 西夏 历代 兴建 形成 巨大 规模 洞窟 壁画 4.5 万平方米 泥质 彩塑 世界 现存 规模 最大 内容 丰富 佛教 艺术 莫高窟 山西大同 云冈石窟 河南 洛阳龙门石窟 甘肃 天水 麦积山 石窟 称为 中国 四大 石窟 漠高窟 沙漠 高处 后世 通用 改称 莫高窟 另有 一说 佛家 有言 修建 佛洞 功德无量 莫者 可能 莫高窟 意思 修建 佛窟 旅游 旅游 行走 小肥羊\n",
          "凤凰网 旅游 极致 之旅 泉州 值得 泉州 申遗 成功 古迹 功不可没 世界遗产 名录 再添 中国 项目 泉州 宋元 中国 世界 海洋 商贸 中心 世界遗产 大会 正式 获得 今年 泉州 二度 申遗 申遗 遗产 增加 遗产 面积 总计 536.08 公顷 缓冲区 面积 总计 11126.02 公顷 分布 海港 江口 平原 延伸 腹地 山区 广阔 空间 完整 体现 宋元 时期 泉州 富有 特色 海外 贸易 体系 多元 社会 结构 多维度 支撑 宋元 中国 世界 海洋 商贸 中心 这一 价值 主题 解锁 遗产 品读 世遗里 泉州 故事 九日山 祈风 石刻 泉州 市舶司 遗址 德济门 遗址 天后宫 真武庙 南外 宗正 遗址 泉州 文庙 开元寺 老君岩 造像 清净寺 伊斯兰教 圣墓 草庵 尼光佛 造像 磁灶 窑址 德化 窑址 安溪 青阳 下草埔 冶铁 遗址 洛阳桥 安平桥 顺济桥 江口 码头 石湖 码头 六胜塔 万寿塔 百闻不如一见 背上 行囊 探索 泉州 海丝 泉州 文旅之声 清新 福建 文旅之声 福建 泉州 申遗 成功 古迹 功不可没\n",
          "旅游 打卡 敦煌 莫高窟 一处 别致 风景区 莫高窟 俗称 千佛洞 坐落 河西走廊 西端 敦煌 始建 十六 前秦 时期 历经 十六 北朝 五代 西夏 历代 兴建 形成 巨大 规模 洞窟 壁画 4.5 万平方米 泥质 彩塑 世界 现存 规模 最大 内容 丰富 佛教 艺术 莫高窟 中华人民共和国国务院 公布 第一批 全国 重点 文物保护 单位 莫高窟 列为 世界 文化遗产 莫高窟 山西大同 云冈石窟 河南 洛阳龙门石窟 甘肃 天水 麦积山 石窟 称为 中国 四大 石窟 创业 U88\n",
          "龙门石窟 入选 年度 全球 推荐 旅游 美国 国家 地理 杂志 昨日 公布 年度 全球 推荐 旅游 名单 龙门石窟 中国 唯一 上榜 目的地 入选 文化 旅游 推荐 名单 了解 Best of the World 世界 最佳 榜单 尊重 主题 分为 社区 文化 冒险 自然 家庭 五个 类别 囊括 旅行 目的地 位于 河南省 洛阳市 龙门石窟 世界 造像 规模 最大 石刻 艺术 宝库 联合国教科文组织 评为 中国 石刻 艺术 最高峰 现为 世界 文化遗产 全国 重点 文物保护 单位 国家 5A 旅游 景区 一条 plog 告别 秋天 洛阳 秋天 有多美 洛阳 旅游\n",
          "河图 报道 洛阳 推出 冰瓷 系列 文创 产品 中国 特殊 爱好 自古 孕育 中国 传统 美学 中国 传统 文化 载体 浓缩 中国 几千年 文化 历史 艺术 社会 发展 今天 洛阳市 文物 考古 研究院 公众 考古 文创 发布会 洛阳 冰瓷 揭开 神秘 面纱 惊艳 亮相 了解 冰瓷 采用 进口 高纯 粉体 材料 利用 高温高压 现代 技术手段 近百 配方 实验 成型 实验 得到 艺术 品级 精美 器具 古往今来 无数 制瓷 巨匠 孜孜不倦 梦寐 追求 白如玉 如镜 薄如纸 声如磬 这种 崇高 瓷器 境界 得以 完美 实现 选用 材料 极其 安全 环保 土壤 普通 瓷器 日常生活 环境 纯净 采用 现代 工艺 烧制 复杂 形状 品相 精美 工艺品\n",
          "慢游 全世界 慢游 故事 罗云熙 慢游 斐济 慢游 故事 城市规划 洛阳 每个 城市规划 心中 一座 神殿 喜欢 历史 古城 很多 东西 不复存在 前人 留下 绘画 石刻 墓葬群 时间 启示 留下 不可磨灭 记忆 行程 一共 三天 基本 景点 分布 位置 安排 DAY1 龙门石窟 关林 洛阳 博物馆 DAY2 白马寺 古墓 博物馆 八角楼 DAY3 天子 驾六 山陕 会馆 潞泽 会馆 丽景门 交通 全程 滴滴 价格便宜 美食 洛阳 博物馆 门口 鸡蛋 不翻 超级 好吃 详见 长图 喜欢 旅游 志同道合 一座 城市 每一处 山水 想要 签名 罗云熙 Leo 慢游 全世界\n",
          "旅行 洛阳 龙门石窟 中国 石刻 艺术 宝库 现为 世界 文化遗产 全国 重点 文物保护 单位 国家 AAAAA 旅游 景区 位于 河南省 洛阳市 洛龙区 伊河 两岸 龙门山 香山 龙门石窟 莫高窟 云冈石窟 麦积山 石窟 并称 中国 四大 石窟 龙门石窟 开凿 于北 魏孝文帝 年间 之后 历经 东魏 西魏 北齐 五代 宋等 朝代 连续 大规模 营造 余年 南北 长达 公里 存有 造像 万余尊 碑刻 题记 余品 龙门 二十品 书法 魏碑 精华 褚遂良 所书 伊阙 佛龛 之碑 初唐 楷书 艺术 典范 龙门石窟 延续 时间 跨越 朝代 大量 实物 形象 文字 资料 不同 侧面 反映 中国 古代 政治 经济 宗教 文化 领域 发展 变化 中国 石窟 艺术 创新 发展 做出 重大贡献 联合国 科教文 组织 列为 世界 文化遗产 中国 黄河 旅游 大会 评为 中国 黄河 洛阳 龙门石窟 景区\n",
          "龙门石窟 中国 石刻 艺术 宝库 现为 世界 文化遗产 国家 重点 文物保护 单位 国家 AAAAA 旅游 景区 位于 河南省 洛阳市 洛龙区 伊河 两岸 龙门山 香山 龙门石窟 莫高窟 云冈石窟 麦积山 石窟 并称 中国 四大 石窟 龙门石窟 开凿 于北 魏孝文帝 年间 之后 历经 东魏 西魏 北齐 五代 宋等 朝代 连续 大规模 营造 余年 南北 长达 公里 存有 造像 万余尊 碑刻 题记 余品 武则天 容貌 仪态 龙门石窟 奉先寺 雕刻 卢舍那 大佛 洛阳 紫微城 建造 天堂 消息 传入 日本 武天皇 发愿 奉造 奈良 平城 建立 东大寺 龙门 二十品 书法 魏碑 精华 褚遂良 所书 伊阙 佛龛 之碑 初唐 楷书 艺术 典范 龙门石窟 延续 时间 跨越 朝代 大量 实物 形象 文字 资料 不同 侧面 反映 中国 古代 政治 经济 宗教 文化 领域 发展 变化 中国 石窟 艺术 创新 发展 做出 重大贡献\n",
          "龙门石窟 位于 河南省 洛阳市 世界 造像 规模 最大 石刻 艺术 宝库 联合国 科教文 组织 评为 中国 石刻 艺术 最高峰 位居 中国 各大 石窟 现为 世界 文化遗产 全国 重点 文物保护 单位 国家 AAAAA 旅游 景区 龙门 大禹治水 开凿 鱼跃龙门 传说 发生 石窟 始凿 魏孝文帝 年间 盛于唐 终于 清末 历经 多个 朝代 陆续 营造 长达 余年 世界 营造 时间 最长 石窟 建造 采用 大量 彩绘 今多 褪色 密布 伊水 东西 两山 峭壁 南北 长达 公里 现存 洞窟 造像 万余尊 莫高窟 云冈石窟 并称 中国 三大 石窟 后加 麦积山 石窟 四大 石窟 洛阳 龙门石窟 景区\n",
          "龙门石窟 中国 石刻 艺术 宝库 世界 文化遗产 全国 重点 文物保护 单位 国家 AAAAA 旅游 景区 位于 洛阳市 南郊 伊河 两岸 龙门山 香山 中国 四大 石窟 三大 石窟 甘肃 敦煌 莫高窟 山西大同 云冈石窟 天水 麦积山 石窟 开凿 于北 魏孝文帝 年间 之后 历经 东魏 西魏 北齐 五代 宋等 朝代 连续 大规模 营造 余年 南北 长达 公里 存有 造像 万余尊 碑刻 题记 余品 龙门 二十品 书法 魏碑 精华 褚遂良 所书 伊阙 佛龛 之碑 初唐 楷书 艺术 典范 龙门石窟 延续 时间 跨越 朝代 大量 实物 形象 文字 资料 不同 侧面 反映 中国 古代 政治 经济 宗教 文化 领域 发展 变化 中国 石窟 艺术 创新 发展 做出 重大贡献 旅行 自然风光 龙门石窟 受欢迎\n",
          "洛阳 新鲜事 明堂 天堂 有人 仿古 仿古 仿古 看看 地面 建筑 仿古 地下 真正 遗迹 公元 毁损 至今 一千二百 五十六年 过去 看到 中心 遗址 不虚此行 真正 坑旁 其深 其大 日本 所藏 唐代 尺子 平均值 唐尺 30.33 厘米 伫立 巨型 天柱 高度 米左右 底层 边长 一坑 足以 怀想 盛唐 风貌 李白 天宝初 年游 洛阳 曾作 明堂 比夫 秦赵 吴楚 争高 竞奢 阿房 丛台 姑苏 及章华 非享 严配 凌霞 由此观之 不足 蒙况 瑶台 巨丽 复安 语哉 大唐帝国 第一 高楼 天堂 武则天 佛堂 第三层 俯视 明堂 全景 计算 差不多 同样 柱础 同样 深大 心动 旅游 洛阳 伊滨\n",
          "转自 百度 百科 龙门石窟 位于 河南省 洛阳市 世界 造像 规模 最大 石刻 艺术 宝库 联合国 科教文 组织 评为 中国 石刻 艺术 最高峰 位居 中国 各大 石窟 之首 现为 世界 文化遗产 全国 重点 文物保护 单位 国家 AAAAA 旅游 景区 龙门 大禹治水 开凿 鱼跃龙门 传说 发生 石窟 始凿 魏孝文帝 年间 盛于唐 终于 清末 历经 多个 朝代 陆续 营造 长达 余年 世界 营造 时间 最长 石窟 建造 采用 大量 彩绘 今多 褪色 密布 伊水 东西 两山 峭壁 南北 长达 公里 现存 洞窟 造像 万余尊 莫高窟 云冈石窟 并称 中国 三大 石窟 后加 麦积山 石窟 四大 石窟 龙门石窟 造像 多为 皇家 贵族 世界 绝无仅有 皇家 石窟 武则天 容貌 仪态 雕刻 卢舍那 大佛 洛阳 皇宫 紫微 城建 天堂 消息 传入 日本 武天皇 发愿 奉造 奈良 建立 东大寺 另有 孝文帝 冯太后 古阳洞 兰陵王 孙于 万佛洞 造像 李泰为 长孙 皇后 宾阳 南洞 贵妃 凿敬善 高力士 唐玄宗 无量 寿佛 洛阳 龙门石窟 景区\n",
          "豫见 十月 洛阳 古墓 博物馆 这是 本次 旅行 难忘 喜欢 沉浸 信息 爆炸 流连忘返 最想 推荐 一站 邙山 古墓 原样 迁移 集中 了解 墓葬 文化 观察 魏晋 墓葬 风格 演进 历程 人们 彼岸 世界 生活空间 装扮 感受 现世 生活 期待 汉代 壁画墓 空间 真是 宽敞 开阔 拍摄 地方 相当于 墓室 前厅 主人 长眠 后室 壁画 一卷 车马 出行 拍摄 部分 应该 文物 修复 人员 临摹 仍然 感受 那种 灵动 笔触 画中 驾车人 有种 憨憨的 可爱 是从 或者说 不能 整体 迁移 保护 移过来 壁画 砖雕 一座 墓室 结构 巧妙 墓室 装饰 精致 随葬品 历史风云 变化 墓志铭 情深意重 故事 推荐 登场 洛阳 古墓 文化 慎终追远 事死 如生 洛阳 洛阳 古墓 博物馆\n",
          "旖旎 风景 龙门石窟 中国 石刻 艺术 宝库 现为 世界 文化遗产 全国 重点 文物保护 单位 国家 AAAAA 旅游 景区 位于 河南省 洛阳市 洛龙区 伊河 两岸 龙门山 香山 龙门石窟 莫高窟 云冈石窟 麦积山 石窟 并称 中国 四大 石窟 龙门石窟 开凿 于北 魏孝文帝 年间 之后 历经 东魏 西魏 北齐 五代 宋等 朝代 连续 大规模 营造 余年 南北 长达 公里 存有 造像 万余尊 碑刻 题记 余品 龙门 二十品 书法 魏碑 精华 褚遂良 所书 伊阙 佛龛 之碑 初唐 楷书 艺术 典范 龙门石窟 延续 时间 跨越 朝代 大量 实物 形象 文字 资料 不同 侧面 反映 中国 古代 政治 经济 宗教 文化 领域 发展 变化 中国 石窟 艺术 创新 发展 做出 重大贡献 联合国 科教文 组织 列为 世界 文化遗产\n",
          "敦煌 莫高窟 至今 保留 十六 北魏 西魏 北周 五代 西夏 十个 朝代 规模宏大 保存 完好 洞窟 敦煌 莫高窟 始建 公元 清代 一千五百 年间 三华里 鸣沙山 壁上 密密层层 建造 四百八十 多个 洞窟 布满 彩塑 佛像 佛教 故事 题材 壁画 彩色 佛像 共有 两千多 最大 三十三 壁画 技巧 高超 数量 惊人 一方 连接起来 排成 五十多 华里 画廊 封闭 石室中 发现 大量 价值 极高 古代 经卷 文书 画卷 莫高窟 俗称 千佛洞 不是 指有 千个 一千个 洞窟 佛语 泛指 许许多多 洞窟 我国 四大 石窟 山西大同 云冈石窟 河南 洛阳 龙门石窟 甘肃 天水 麦积山 石窟 敦煌 莫高窟 莫高窟 声誉 远远 超越 石窟 原因 一是 敦煌 莫高窟 开凿 年代 迄今已有 历史 二是 规模宏大 保存 完好 洞窟 蜂窝 密密麻麻 排列 错落有致 绵延 多米 三是 雕塑 壁画 十分 精美 现存 彩塑 壁画 平方米 有人 敦煌 莫高窟 一大 雕塑 佛教 艺术 画廊 青海 旅游 当地 包车 小马 青海湖 旅游 小马哥 车队\n",
          "现代 唐三彩 惊艳 奥斯汀 郭爱 彩釉 画展 中国 新春 期间 美国 德克萨斯州 首府 奥斯汀 罗素 收藏馆 Russell Collection 开幕 展出 陶瓷 艺术大师 郭爱 至今 创作 彩釉 画及 陶艺 作品 来自 中国 美国 墨西哥 印度 日本 意大利 希腊 余名 艺术家 设计师 收藏者 前往 一饱眼福 美国国会 议员 Lloyd Doggett 中国 休斯敦 总领事馆 参赞 陈宏生 嘉宾 出席 开幕式 郭爱 中国 文化 旅游部 优秀 专家 现任 中国 三彩 艺术馆 洛阳 三彩 艺术 博物馆 多幅 作品 成为 中国 大都市 地标 首次 北美 举行 大型 个展 展览 持续 结束 中国 之造 ChinaMade\n",
          "洛阳 旅行 龙门石窟 龙门石窟 开凿 于北 魏孝文帝 年间 东魏 西魏 北齐 五代 宋等 朝代 连续 大规模 营造 余年 南北 长达 公里 存有 造像 万余尊 碑刻 题记 余品 最大 佛像 高达 17.14 最小 厘米 龙门石窟 可谓 空岩 绝壁 众志 穿山 念凿 意刻 神斧 天工 人心 虔敬 佛力 无边 至此 人们 领悟到 一点 宗教 统治阶级 和谐一致 梁武帝 萧衍 崇佛 南朝 四百八十 实际 两千 八百多 僧尼 几十万 几成 佛国 隋文帝 杨坚 崇佛 五台山 佛教 圣地 少林 雄刹 武则天 崇佛 卢舍那 佛韵 肃然 统治阶级 尊崇 文化 倾向 时代 潮流 历史 痕迹 社会 需要 文化 修养 取向 持守 传播\n",
          "春游 新星 计划 旅行 打卡 龙门石窟 穿越 千年 洛都 佛教 盛景 龙门石窟 位于 洛阳 市区 南约 公里 开凿 于北魏 后经 东魏 西魏 北齐 隋唐 连续 营造 余年 联合国 科教文 组织 列为 世界 文化遗产 石窟 南北 长达 公里 宛若 蜂巢 般的 石窟 洞穴 龙门石窟 保存 大小 各类 造像 多万 佛塔 碑刻 最高 卢舍那 大佛 17.14 最小 佛像 2cm 万多尊 佛像 万佛洞 超级 震撼 龙门石窟 分为 东西 部分 始建 于北魏 太和 年间 迁都 洛阳 几年 此后 东魏 西魏 北齐 北周 五代 北宋 明都 修复 和续 北魏 唐代 开凿 活动 规模 最大 长达 之久 龙门 所有 洞窟 北魏 洞窟 30% 唐代 60% 朝代 10% 左右 建议 游览 路线 龙门石窟 固定 游览 路线 是从 西山 石窟 东山 石窟 中间 过桥 注意 东山 不能 折回 西山 主要 石窟 景点 西山 石窟 包括 卢舍那 大佛 宾阳洞 剪刀手 网红佛 东山 主要 香山寺 白居易 墓园 白园 旅游 旅游\n",
          "乐戈 漫步 天涯 河南 旅游 龙门石窟 龙门石窟 中国 石刻 艺术 宝库 世界 文化遗产 位于 河南省 洛阳市 洛龙区 伊河 两岸 龙门山 香山 龙门石窟 莫高窟 云冈石窟 麦积山 石窟 并称 中国 四大 石窟 龙门石窟 开凿 于北 魏孝文帝 年间 之后 历经 东魏 西魏 北齐 五代 宋等 朝代 连续 大规模 营造 余年 南北 长达 公里 存有 造像 万余尊 碑刻 题记 余品 龙门 二十品 书法 魏碑 精华 褚遂良 所书 伊阙 佛龛 之碑 初唐 楷书 艺术 典范 龙门石窟 延续 时间 跨越 朝代 大量 实物 形象 文字 资料 不同 侧面 反映 中国 古代 政治 经济 宗教 文化 领域 发展 变化 中国 石窟 艺术 创新 发展 做出 重大贡献 联合国 科教文 组织 列为 世界 文化遗产 乐戈 书屋 贵阳 龙泉 苑街\n",
          "吕梁 旅行 吕梁 汾酒 竖石 佛村 摩崖 造像 时代 地址 交城县 北部 山区 岭底 始凿 年代 不详 清道光 七年 碑刻 记载 成于 金元 之际 石刻 凿刻 巨石 之上 巨石 金字塔 西朝东 7.3 底部 8.8 2.7 岩石 东壁 共有 石窟 造像 余尊 时代 最早 石窟 三层 布置 布局 整齐 规范 一时期 石窟 形制 较大 最大者 1.4 1.5 进深 1.2 洞口 方形 火焰 北魏 隋唐 风格 洞窟 圆雕 释迦牟尼 佛及 菩萨 金刚 力士 百余 洞壁 施墨 彩云 装饰 简洁 抽象 似为 后人 增绘 岩面 正中 上端 洞窟 形制 较大 雕饰 内容 丰富 具有 代表性 迎面 正中 释迦牟尼 佛结 趺坐 高大 肉髻 双肩 大衣 内有 神祗 衣纹 雕饰 简略 疏朗 阿难 迦叶 合十 侍立 左右 左侧 佛像 结迦 趺坐 右侧 佛像 垂足 坐姿 洞口 两侧 武士 站立 南向 岩面 刻有 佛塔 一座 1.9 石塔 平座 方形 塔身 一层 方形 塔门 酷似 唐代 以前 四门 塔檐 叠涩 挑出 尤具 特色 基座 塔刹 塔刹 莲座 以上 造像 两层 石刻 正殿 基座 之上 现存 明正德 十六年 清康熙 五十四年 清道光 七年\n",
          "龙门石窟 位于 河南 洛阳 世界 造像 规模 最大 石刻 艺术 宝库 位居 中国 各大 石窟 现为 世界 文化遗产 4A 旅游 景区 石窟 始凿 于北魏 盛于唐 终于 清末 历经 多个 朝代 长达 余年 建造 采用 大量 彩绘 今多 褪色 损坏 龙门石窟 造像 多为 皇家 贵族 世界 绝无仅有 皇家 石窟 武则天 容貌 仪态 雕刻 卢舍那 大佛 高力士 唐玄宗 无量 寿佛 今天 三个 景点 加上 艳阳高照 腿软 晚上 释小龙 宾馆 看到 窗外 释小龙 武术学校 学生 操场上 练武 混血 满满 登封\n",
          "水城 第一集 石窟 鼻祖 天水 身边 甘肃 本土 大型 纪录片 中国 石窟 走廊 日起 每晚 分在 CCTV 科教 频道 探索 发现 栏目 首播 武威 天梯 石窟 拆迁 过程 研究 人员 发现 隐藏 清代 壁画 北凉 壁画 由此 揭开 中国 内地 最早 石窟 北凉 国王 渠蒙逊 创建 南山 石窟 神秘 面纱 两个 初来乍到 北凉 菩萨 内地 菩萨 形象 大不相同 印度 龟兹 龟兹 凉州 凉州 造像 影响 全国 石窟 营造 天梯 石窟 起点 祁连山 一路 向西 展开 搜索 寻找 北凉 造像 前世 今生 张掖 金塔寺 石窟 酒泉 文殊 石窟 敦煌 莫高窟 河西 早期 石窟 找到 北凉 风格 壁画 塑像 带有 浓厚 印度 西域 造像 特征 同一 时期 永靖 炳灵 石窟 发现 中国 最早 石窟 纪年 题记 佛教 造像 中国化 循环 起点 凉州 中国 内地 石窟 鼻祖 凉州 造像 新疆 克孜尔 石窟 下启 大同 云冈石窟 洛阳龙门石窟 深刻影响 中国 内地 石窟 营造 甘肃 旅游 天水 水城\n",
          "景色 撩人 石刻 艺术 龙门 龙门石窟 中国 石刻 艺术 宝库 世界 文化遗产 全国 重点 文物保护 单位 国家 AAAAA 旅游 景区 位于 洛阳市 南郊 伊河 两岸 龙门山 香山 龙门石窟 敦煌 莫高窟 云冈石窟 并称 中国 三大 石窟 龙门石窟 开凿 于北 魏孝文帝 年间 之后 历经 东魏 西魏 北齐 五代 宋等 朝代 连续 大规模 营造 余年 南北 长达 公里 存有 造像 万余尊 碑刻 题记 余品 龙门 二十品 书法 魏碑 精华 褚遂良 所书 伊阙 佛龛 之碑 初唐 楷书 艺术 典范 龙门石窟 延续 时间 跨越 朝代 大量 实物 形象 文字 资料 不同 侧面 反映 中国 古代 政治 经济 宗教 文化 领域 发展 变化 中国 石窟 艺术 创新 发展 做出 重大贡献 联合国 科教文 组织 列为 世界 文化遗产 郑州 郑州大学\n",
          "河南 洛阳龙门石窟 位于 河南省 洛阳市 世界 造像 规模 最大 石刻 艺术 宝库 联合国教科文组织 评为 中国 石刻 艺术 最高峰 位居 中国 各大 石窟 现为 世界 文化遗产 全国 重点 文物保护 单位 国家 AAAAA 旅游 景区 龙门 大禹治水 开凿 鱼跃龙门 传说 发生 石窟 始凿 魏孝文帝 年间 盛于唐 终于 清末 历经 多个 朝代 陆续 营造 长达 余年 世界 营造 时间 最长 石窟 现存 洞窟 造像 万余尊 龙门石窟 造像 多为 皇家 贵族 世界 绝无仅有 皇家 石窟 洛阳 龙门石窟 景区\n",
          "龙门石窟 中国 石刻 艺术 宝库 现为 世界 文化遗产 全国 重点 文物保护 单位 国家 AAAAA 旅游 景区 位于 河南省 洛阳市 洛龙区 伊河 两岸 龙门山 香山 龙门石窟 莫高窟 云冈石窟 麦积山 石窟 并称 中国 四大 石窟 龙门石窟 开凿 于北 魏孝文帝 年间 之后 历经 东魏 西魏 北齐 五代 宋等 朝代 连续 大规模 营造 余年 南北 长达 公里 存有 造像 万余尊 碑刻 题记 余品 龙门 二十品 书法 魏碑 精华 褚遂良 所书 伊阙 佛龛 之碑 初唐 楷书 艺术 典范 龙门石窟 延续 时间 跨越 朝代 大量 实物 形象 文字 资料 不同 侧面 反映 中国 古代 政治 经济 宗教 文化 领域 发展 变化 中国 石窟 艺术 创新 发展 做出 重大贡献 联合国 科教文 组织 列为 世界 文化遗产 洛阳 龙门石窟 景区\n",
          "玩家 推荐 指数 风景 指数 不止 旅行 龙门石窟 国家 AAAAA 旅游 景区 位于 洛阳市 南郊 伊河 两岸 龙门山 香山 龙门石窟 敦煌 莫高窟 云冈石窟 并称 中国 三大 石窟 龙门石窟 开凿 于北 魏孝文帝 年间 之后 历经 东魏 西魏 北齐 五代 宋等 朝代 连续 大规模 营造 余年 南北 长达 公里 存有 造像 万余尊 碑刻 题记 余品 龙门 二十品 书法 魏碑 精华 褚遂良 所书 伊阙 佛龛 之碑 初唐 楷书 艺术 典范 龙门石窟 延续 时间 跨越 朝代 大量 实物 形象 文字 资料 不同 侧面 反映 中国 古代 政治 经济 宗教 文化 领域 发展 变化 中国 石窟 艺术 创新 发展 做出 重大贡献 联合国 科教文 组织 列为 世界 文化遗产 自驾 旅行 新年 旅行 遇见 美好 洛阳 旅游\n",
          "津晋 小津爱 旅游 小津乐道 大同 云冈石窟 我国 最大 石窟 敦煌 莫高窟 洛阳龙门石窟 麦积山 石窟 称为 中国 四大 石窟 艺术 宝库 位于 山西省 大同市 西郊 武州 南麓 石窟 依山 开凿 东西 绵延 公里 现存 洞窟 大小 大小 造像 余尊 我国 规模 最大 古代 石窟群 五窟 布局 设计 严谨 统一 中国 佛教 艺术 第一个 巅峰 时期 经典 杰作 云冈石窟 造像 气势 宏伟 内容 丰富多彩 堪称 公元 世纪 中国 石刻 艺术 之冠 被誉为 中国 古代 雕刻 艺术 宝库 地址 山西省 大同市 云冈 云冈 景区\n",
          "旅行 洛阳龙门石窟 龙门石窟 中国 石刻 艺术 宝库 现为 世界 文化遗产 全国 重点 文物保护 单位 国家 AAAAA 旅游 景区 位于 河南省 洛阳市 洛龙区 伊河 两岸 龙门山 香山 龙门石窟 莫高窟 云冈石窟 麦积山 石窟 并称 中国 四大 石窟 洛阳 身边 龙门石窟 开凿 于北 魏孝文帝 年间 之后 历经 东魏 西魏 北齐 五代 宋等 朝代 连续 大规模 营造 余年 南北 长达 公里 存有 造像 万余尊 碑刻 题记 余品 龙门 二十品 书法 魏碑 精华 褚遂良 所书 伊阙 佛龛 之碑 初唐 楷书 艺术 典范 龙门石窟 延续 时间 跨越 朝代 大量 实物 形象 文字 资料 不同 侧面 反映 中国 古代 政治 经济 宗教 文化 领域 发展 变化 中国 石窟 艺术 创新 发展 做出 重大贡献 联合国 科教文 组织 列为 世界 文化遗产 摄影师 飞扬 摄影\n",
          "洛阳 周边游 龙门石窟 中国 石刻 艺术 宝库 现为 世界 文化遗产 全国 重点 文物保护 单位 国家 AAAAA 旅游 景区 位于 河南省 洛阳市 洛龙区 伊河 两岸 龙门山 香山 龙门石窟 莫高窟 云冈石窟 麦积山 石窟 并称 中国 四大 石窟 龙门石窟 开凿 于北 魏孝文帝 年间 之后 历经 东魏 西魏 北齐 五代 宋等 朝代 连续 大规模 营造 余年 南北 长达 公里 存有 造像 万余尊 碑刻 题记 余品 龙门 二十品 书法 魏碑 精华 褚遂良 所书 伊阙 佛龛 之碑 初唐 楷书 艺术 典范 龙门石窟 延续 时间 跨越 朝代 大量 实物 形象 文字 资料 不同 侧面 反映 中国 古代 政治 经济 宗教 文化 领域 发展 变化 中国 石窟 艺术 创新 发展 做出 重大贡献 联合国 科教文 组织 列为 世界 文化遗产\n",
          "五一 新书 速递 班门 系列 班门 广场 聚焦 四个 大洲 十余个 国家 五十余处 广场 跨越 学科 关注 日常 建筑 历史 文化 角度 重新 理解 公共 空间 广场 五一 出游 感受 城市 流动 生命 来到 城市 主要 广场 真正 抵达 城市 打开 班门 广场 一场 穿越时空 盛大 卧游 感受 古老 广场 岁月 磨砺 各异 气质 领略 清华大学 大礼堂 广场 自然 山水 人工 建筑 融合 追溯 罗马 广场 喷泉 背后 贵族 权力 公共利益 博弈 见证 中国 古代 广场 形状 广场 线索 延伸 当下 未来 领略 洛阳 隋唐 西市 广场 设计 理念 慕尼黑 大小 广场 传统 现代 交织 布局 方式 艺术风格 打破 建筑 传统 目标 哈迪 韩国 大门 广场 设计 体现 超前 思考 表达 试图 从中 窥测 未来 广场 发展趋势 设计者 旅行者 作者 图上 路上 纸上 班门 广场 摄影 绘画 写作 丈量 广场 源流 变迁 捕捉 广场 特有 艺术 底蕴 勃发 生命力\n",
          "河南 旅游 之焦 洛阳 --- 龙门石窟 中国 石刻 艺术 宝库 现为 世界 文化遗产 全国 重点 文物保护 单位 国家 AAAAA 旅游 景区 位于 河南省 洛阳市 洛龙区 伊河 两岸 龙门山 香山 龙门石窟 莫高窟 云冈石窟 麦积山 石窟 并称 中国 四大 石窟 龙门石窟 开凿 于北 魏孝文帝 年间 之后 历经 东魏 西魏 北齐 五代 宋等 朝代 连续 大规模 营造 余年 南北 长达 公里 存有 造像 万余尊 碑刻 题记 余品 龙门 二十品 书法 魏碑 精华 褚遂良 所书 伊阙 佛龛 之碑 初唐 楷书 艺术 典范 龙门石窟 延续 时间 跨越 朝代 大量 实物 形象 文字 资料 不同 侧面 反映 中国 古代 政治 经济 宗教 文化 领域 发展 变化 中国 石窟 艺术 创新 发展 做出 重大贡献 联合国 科教文 组织 列为 世界 文化遗产\n",
          null
         ],
         "marker": {
          "opacity": 0.5,
          "size": 5
         },
         "mode": "markers+text",
         "name": "3_石窟_龙门石窟_艺术",
         "text": [
          "",
          "",
          "",
          "",
          "",
          "",
          "",
          "",
          "",
          "",
          "",
          "",
          "",
          "",
          "",
          "",
          "",
          "",
          "",
          "",
          "",
          "",
          "",
          "",
          "",
          "",
          "",
          "",
          "",
          "",
          "",
          "",
          "",
          "",
          "",
          "",
          "",
          "",
          "",
          "",
          "",
          "",
          "",
          "",
          "",
          "",
          "",
          "",
          "",
          "",
          "",
          "",
          "",
          "",
          "",
          "",
          "",
          "",
          "",
          "",
          "",
          "3_石窟_龙门石窟_艺术"
         ],
         "textfont": {
          "size": 12
         },
         "type": "scattergl",
         "x": [
          13.221158027648926,
          13.12922191619873,
          13.234009742736816,
          13.244743347167969,
          13.306963920593262,
          13.363407135009766,
          13.373581886291504,
          13.379887580871582,
          13.388687133789062,
          13.28132438659668,
          13.312386512756348,
          13.33694839477539,
          13.134686470031738,
          13.352688789367676,
          13.257567405700684,
          13.10489273071289,
          13.288994789123535,
          13.388699531555176,
          13.185097694396973,
          13.42943000793457,
          13.013232231140137,
          13.292840003967285,
          13.372027397155762,
          12.78051471710205,
          13.427244186401367,
          13.345913887023926,
          13.371536254882812,
          12.694717407226562,
          12.854142189025879,
          13.411224365234375,
          13.296656608581543,
          12.984330177307129,
          13.33506965637207,
          13.308527946472168,
          13.109687805175781,
          12.689189910888672,
          13.398880004882812,
          13.34244155883789,
          13.35578441619873,
          13.185222625732422,
          13.48759651184082,
          13.313555717468262,
          12.577747344970703,
          13.379251480102539,
          13.446939468383789,
          13.029491424560547,
          13.468484878540039,
          13.401482582092285,
          13.166274070739746,
          13.42159366607666,
          13.384662628173828,
          13.250238418579102,
          13.348530769348145,
          13.316863059997559,
          13.334880828857422,
          13.367283821105957,
          13.228416442871094,
          13.391105651855469,
          13.381319046020508,
          13.142524719238281,
          13.394267082214355,
          13.254361152648926
         ],
         "y": [
          8.002915382385254,
          8.512836456298828,
          8.541386604309082,
          8.472919464111328,
          7.799793720245361,
          7.540774822235107,
          7.537993431091309,
          7.523438930511475,
          7.488706111907959,
          7.628275394439697,
          8.343400001525879,
          7.767762184143066,
          8.642736434936523,
          7.514247894287109,
          7.384947299957275,
          8.474493980407715,
          7.871945381164551,
          8.332487106323242,
          8.543266296386719,
          8.244067192077637,
          8.387664794921875,
          7.8453450202941895,
          7.747349739074707,
          7.807722091674805,
          7.843743801116943,
          7.785251617431641,
          7.74561882019043,
          7.806075096130371,
          7.828365802764893,
          7.625397205352783,
          8.296897888183594,
          7.791054725646973,
          8.356017112731934,
          7.829655647277832,
          7.358931064605713,
          7.759044647216797,
          7.699941635131836,
          7.53269624710083,
          7.42210054397583,
          8.435602188110352,
          8.204721450805664,
          7.390042304992676,
          7.775976657867432,
          7.656026840209961,
          8.270288467407227,
          7.3679728507995605,
          8.234223365783691,
          8.291365623474121,
          8.50285816192627,
          8.308968544006348,
          7.512505531311035,
          8.54881763458252,
          7.731508731842041,
          7.381648063659668,
          7.513608455657959,
          7.738823413848877,
          8.488097190856934,
          7.706465244293213,
          7.571681976318359,
          8.371566772460938,
          7.5179572105407715,
          7.9206223487854
         ]
        },
        {
         "hoverinfo": "text",
         "hovertext": [
          "超全 安阳 旅游 攻略 安阳 美食 大全 安阳 简称 这座 七朝 古都 盘踞 河南省 北端 长达 建城史 建都 这座 城市 更是 无愧于 中华 第一 古都 美称 举世闻名 母戊鼎 中国 最早 都城 殷墟 遗址 人工 天河 红旗渠 安阳 正是 瑰宝 荟萃 特意 安阳 旅行 并不多 河南省 来说 安阳 知名度 远不如 洛阳 开封 郑州 或许 安阳 这种 古城 一分 遗世独立 孤傲 色彩 ..... 参考 路线 自然 三日 Day1 红旗渠 一日游 分水 巨型 浮雕 纪念碑 相关 展厅 青年 双锁关 步云桥 络丝潭 Day2 太行 大峡谷 一日游 游王 相岩 玉皇阁 桃花 龙潭 瀑布 Day3 殷墟 一日游 文化 三日 Day1 中国 文字 博物馆 北大街 Day2 殷墟 文峰塔 Day3 遗址 岳飞 经典 景点 安阳 美食 住宿 交通 温馨 提示 最佳 旅游 时间 春秋 两季 太行山 大峡谷 最美 时节 穿衣 指南 春季 温暖 风沙 较大 夏季 炎热 多雨 冬季 寒冷 干燥 春秋季 过渡 季节 温度 变化 幅度 较大 注意 添衣 出行 关注 当地 防疫 政策 准备 健康 核酸 证明\n",
          "洛阳 旅游 攻略 洛阳 伊川 范仲淹 范仲淹 位于 伊川县 彭婆 许营村 地分 两域 总面积 河南省 人民 委员会 列为 重点 文物保护 单位 范仲淹 字希文 吴县 江苏省 苏市 北宋 时期 杰出 政治家 军事家 文学家 一生 政绩 百姓 有口皆碑 他定 岳阳楼记 骈散 结合 工整 描绘 巴陵 山水 盛景 抒发 壮大 凌云 历代 千古绝唱 其是 天下 忧而忧 后天下之乐而乐 深蕴 哲理 意味 饮寓 坦诚 心志 后世 称为 千秋 名言 边塞 激越 粗狼谊 长烟 落日 陶城闭 边关 征战 意境 表达 脍炙人口 碧云天 黄叶 委婉 细研 深秋 旷遇 刻划 抚力 无穷 范仲淹 天地间 第一流 人物\n",
          "大理 逛逛 大理 古城 这座 中华 六朝 大理 古城 多年 历史 云南 政治 经济 文化 中心 古城 分布 市级 以上 重点 文物保护 单位 承载 大理 历史 文化 宗教 文化 民族 文化 大理 旅游 核心区 大理 古城 五代 两宋 时期 南诏 大长 大天兴 义宁 大理 六个 地方 政权 王朝 都城 多年 建都 西安 北京 洛阳 南京 开封 成为 中华 历史 享有盛名 古都 城市 连接 茶马 古道 西南 西北 海上 三条 丝绸之路 文化 宗教 经济 贸易 交流中心 大理 古城 全天 免费 开放 逛下来 差不多 大半天 题有 大理 二字 石头 旁边 文献 始建 清康熙 年间 楼额 悬挂 云南 提督 偏图 康熙 四十年 所题 文献 名邦 匾额 文献 文献 楼为 两层 歇山 土木 结构 具有 典型 白族 建筑 特色 不要 错过 春天 云南 旅行 旅行 旅游 大理 大理 古镇\n",
          "小鬼 王琳凯 明星 势力 新星 榜上 加油 今生 唯一 执著 棒棒 明星 势力 打电话 济南 青岛 淄博 枣庄 东营 烟台 潍坊 威海 济宁 泰安 日照 莱芜 临沂 德州 聊城 滨州 菏泽 郑州 开封 达琳们 打电话 小鬼 王琳凯 小鬼 王琳凯 西安 好多 旅游景点 回民 秦始皇陵 兵马俑 钟楼 鼓楼 永宁 古城墙 大雁塔 华清池 碑林 好多 抖音 网红 景点 马道 艺术 街区 西安 长恨歌 诗经 永兴 西安 小寨 现代 唐人街 好多 好吃 羊肉 泡馍 肉夹馍 胡辣汤 魏家 凉皮 臊子 面灌 汤包 冰峰 biangbiang 毛笔 小鬼 王琳凯 苏州 好多 旅游景点 拙政园 周庄 古镇 虎丘 狮子林 留园 古镇 山塘 古街 寒山寺 金鸡湖 好多 好吃 带你去 松鼠 桂鱼 鱼头 豆腐 巴肺 碧螺 虾仁 清汤 鱼翅 白汁 桂花 鸡头 肉响 油鳝 荷花 集锦 西瓜 太湖 三白 莼菜 阳澄湖 大闸蟹 吴江 鲈鱼 油鸡 竹笋 东坡肉 济南 青岛 淄博 枣庄 东营 烟台 潍坊 威海 济宁 泰安 日照 莱芜 临沂 德州 聊城 滨州 菏泽 郑州 开封 洛阳 平顶山 焦作 鹤壁 新乡 安阳 濮阳 许昌 漯河 三门峡 南阳 商丘 信阳 周口\n",
          "深圳 周边 自驾游 旅行 打卡 记录 周末 潮州 古城 广济桥 千年 文化 古城 潮之洲 潮州 一座 拥有 多年 历史 文化 古城 唐朝 三百六十 潮州 建置 得名 潮之洲 潮水 往复 之意 探访 宋代 广东 陶瓷 古窑 笔架山 潮州 遗址 置身 兴建 唐代 粤东 第一 古刹 潮州 开元寺 处处 领略 潮州 古韵 外地人 特别 关注 容易 误认为 潮汕 主要 汕头 管辖 地区 实际上 潮州 最早 行政 州府 潮汕 四市 潮州 汕头 揭阳 汕尾 四市 广东省 地级市 潮州 古城 跨越 千年 依然 保持 外曲 内方 四横三纵 历史 空间 格局 城市 路网 基本 明代 潮州 府城 重合 广济桥 广济桥 集梁桥 浮桥 拱桥 一体 我国 古桥 孤例 十八 梭船 二十四 独特 风格 河北 赵州桥 福建 洛阳桥 北京 卢沟桥 并称 中国 四大 古桥 著名 桥梁 专家 茅以升 誉为 世界 最早 启闭 桥梁\n",
          "隋代 统一 全国 以后 隋炀帝 获得 江淮 流域 丰富 物产 开凿 沟通 南北 大运河 开封 位于 大运河 黄河 交汇处 南来 船只 开封 附近 转入 黄河 开封 发展 四通八达 交通枢纽 长安 洛阳 逐渐 衰落 开封 成为 北方 政治 中心 公元 北宋 定都于 开封 成为 全国 政治经济 文化 中心 进入 黄金时代 宋徽宗 翰林 画师 张择端 不朽 画卷 清明上河图 正是 当时 开封 街市 纷然 杂陈 繁荣景象 生动 写照 开封 衰落 以后 北京 继之 成为 全国 政治 中心 元代 至元 四年 元朝 迁都 北京 成为 清三朝 首都 除明 建都\n",
          "波特兰 留学 生活 长期 接触 河南人 总结 河南 城市 特点 郑州 去过 郑州 几件 东西 不好意思 去过 郑州 据说 郑州 公交车 一半 小偷 另一半 扒手 包括 司机 享有 郑州 郑州 遍地 小偷 美誉 洛阳 洛阳人 喜欢 东西 洛阳 文化 已有 数千年 历史 据说 洛阳 小孩子 先学 洛阳 后学 筷子 俗话说 龙生龙 凤生凤 洛阳人 下崽打 盗洞 洛阳人 祖宗 忍不住 来看 一看 信阳 信阳 擅长 所谓 信阳 一出 争锋 电缆 钢筋 防盗锁 防盗网 不费吹灰之力 一剪 即断 尘世间 东西 信阳 不断 濮阳 濮阳 女人 喜欢 濮阳 女人 全家 收入 一说 驻马店 驻马店 擅长 民间 歌谣 盛传 十个 河南 九个 教练 总部 设在 驻马店 全国 连锁店 据说 学校 号称 驻马店 骗术 妓校 毕业 出来 学生 骗天 下骗 中间 空气\n",
          "徐州 博物馆 大汉 气象 天工 汉玉 馆藏 汉代 文物 玉器 精品 陈列 2020.10 徐州 高祖 刘邦 故里 汉朝 历代 楚王 封地 西汉 开国 第二年 高祖 封其弟 刘交于 楚国 彭城 徐州 东汉时期 先封 楚国 改封 彭城国 邳国 迄今为止 西汉 楚国 东汉 彭城国 邳国 都城 得到 考古 发掘 证实 发现 发掘 两汉 王侯 宗室 墓近 包括 熟知 狮子山 汉墓 龟山 汉墓 卧牛山 汉墓 北洞山 汉墓 分布 徐州 市区 周围 公里 以内 山上 徐州 汉墓 出土 大量 文物 精美绝伦 徐州 文化 两汉 都城 长安 洛阳 齐平 出土 文物 方面 胜过 金缕玉衣 西汉 银缕 玉衣 铜缕 玉衣 东汉 约会 博物馆 徐州 徐州 博物馆\n",
          "旅行 郑州 身边 河洛 古国 地点 洛阳 郑州 巩义市 考古 勘探 发掘 科学 测年 确认 郑州 巩义 双槐树 遗址 一处 距今 仰韶文化 中晚期 巨型 聚落 遗址 迄今为止 黄河流域 仰韶文化 中晚期 这一 中华文明 形成 初期 发现 规格 最高 具有 性质 中心 聚落 考古 实证 河洛 地区 这一 中华文明 起源 黄金 阶段 代表性 影响力 填补 中华文明 起源 关键时期 关键 地区 关键 材料 考古学 实证 材料 表明 双槐树 遗址 中心 仰韶文化 中晚期 文明 的的确确 黄河 文化 之根 华夏 文明 之魂 专家学者 称为 早期 中华文明 胚胎 最早 河洛 古国 再次 印证 郑州 位居 八大 古都 历史 地位 郑州 郑州 东站\n",
          "考古学 2018.1 发表 魏继印 长文 认为 造律 流在 二里头 张莉 发表 中国 文化 研究 年秋之卷 文献 之外 夏代 历史 认为 公元前 年代 中国 出现 大灾难 导致 范围 社会 崩溃 突变 黄河流域 幸存 额济纳 流域 黄土高原 两处 龙山 传统 洛阳 盆地 后进 文化 崛起 两篇 论文 注重 纵向 时间 比较 后者 注重 横向 比较 研究 值得称赞 二里头 崛起 肯定 不是 意外 山东 龙山 倒退 岳石 文化 替代 遗址 稀少 关中 龙山 遗址 下降 陕北 龙山 遗址 遍布 大规模 人口 流动 已经 无可辩驳 流动 促进 交流 促进 王权 诞生 考虑 石家河 良渚 消亡 社会 突变 恐怕 还要 提前\n",
          "写给 玉溪 情歌 嗜烟 满屋 庭院 云烟 成雾 记得 名牌 香烟 红塔山 当新 中国 成立 祖国 繁荣富强 陪伴着 时代 红歌 激励 国人 义勇军 进行曲 名字 聂耳 美丽富饶 云南 玉溪 相距甚远 城市 北上 广才 都市 西安 五千年 文明城市 西安 这座 城市 河南 洛阳 享誉 名叫 古城 常常 仰慕 天堂 最近 篮天 白云 髙原 牧场 西藏 拉萨 人们 天边 玉溪 遗落 髙原 明珠 春城 完美 五朵 金花 原型 出水 芙蓉 我国 第一部 云南 以歌 弘扬 中华民族 园地 彩色电影 勤劳 少女 喜欢 勇敢 善良 愛情 故事 写真 玉溪 八县 一区 故事 不断 诗情画意 观光旅游 多数 享受 享受 中国 第一 温泉 云南 第一 村子 看看 大美 云南 美食 甲天下 三山 三水 桑田 八县 一区 美名 边陲 中国 第一 遠方 之光\n",
          "旅行 发展 旅游 历史 人物 起来 史诗剧 武则天 洛阳 历史 文化名城 洛阳 历史 中国 地位 十分 突出 一部 洛阳 古代史 我国 古代史 缩影 遗憾 洛阳 历史 屡经 兵燹 很多 叹为观止 东西 化为灰烬 有人 洛阳 可读性 可视性 过去 外地 游客 洛阳 旅游 基本上 白天 看庙 晚上 睡觉 史诗剧 武则天 成功 推出 某种意义 填补 这方面 缺憾 拉大 洛阳 旅游 空间 洛阳 千年 帝都 洛阳 坐天下 帝王 一百多位 真正 称得上 彪炳史册 实际 并不多 汉光武帝 魏孝文帝 武则天 应该 史诗剧 武则天 应该 选材 抓住 人们 眼球 中国 城市 大型 演艺 做文章 杭州 漓江 丽江 洛阳 开展 此种 项目 毕竟 迈出 难得 一步 实在 可喜可贺 河洛 洛阳\n",
          "河南省 巩义市 西距 古都 洛阳 公里 东距 郑州 公里 秦庄襄王 元年 置县 以来 山河 四塞 巩固 得名 因地 古都 洛阳 故史 锁钥 之称 巩义 河洛 文化 发祥地 中华民族 文明 摇篮 人文 始祖 伏義在 看到 河洛 交汇 而悟 八卦 炎帝 神农氏 开垦 河洛 播撒 五谷 开创 农耕 文明 这块 土地 处处 蕴含着 深厚 文化底蕴 以来 巩义 综合 经济 实力 连续 位居 河南省 县域 首位 连续 跻身 全国 百强县 素有 中原 第一 之称 旅行 遇见 美好 详情请 点击 河南 富裕 县级市 连续 位居 全省 县域 首位 被誉 中原 第一\n",
          "老家 苏州 生死 徐州 为啥 要葬 洛阳 研学 古今 伊川 范仲淹 中国 历史 顶流 明星 文有 岳阳楼记 武能 暴打 西夏 改革 教育 两把刷子 写写 书法 后人 吧嗒 光芒 闪闪 人物 选择 洛阳 归葬 之地 老范 祖宗 范滂 范履冰 出名 人物 当年 大展 拳脚 主要 洛阳 老范 仰慕 北宋 西京 洛阳 名副其实 文化 中心 老范 洛阳 当过 曾来 洛阳 印象 写道 尚有 名园 抽身 希白傅 一日 天恩 放尔归 相逐 栽花 洛阳 赤裸裸 暴露 退休 定居 洛阳 企图 遗憾 老范 等到 退休 那天 临死前 留下 遗言 母亲 一起 母亲 曾经 改嫁 不便 入范家 祖坟 伊川 万安 姚崇墓 附近 坟地 安置 母亲 灵柩 姚崇 伴母 老范 有样学样 伴随 母亲 洛阳 寻美 中国 洛神\n",
          "去过 旅游景点 河南省 焦作 新乡 宝泉 云台山 界山 开封 清明 河园 鼓楼 郑州 黄帝 千古 河南 戏剧 幻城 电影 小镇 博园 博园 黄河 风景区 洛阳 龙潭 龙门石窟 白马寺 平顶山 二郎山 巩义 百万 庄园 省外 西安 鼓楼 城墙 大唐 芙蓉 山东 日照 江苏 连云港 北京 长城 故宫 西藏 布达拉宫 羊卓雍错 林芝 大峡谷 巴松措 林海 纳木错 西宁 茶卡盐湖 塔尔寺 青海湖 成都 大熊猫 基地 都江堰 宽窄 巷子 国外 泰国 目前 起来 去过 景区\n",
          "河南 固有 中国 老家 之称 河南 旅游 中华民族 历史 文化名城 遗迹 见证 之游 中华 发祥地 中国 八朝 古都 河南 占有 即夏商 郑州 商都 安阳 十三 古都 洛阳 七朝 古都 开封 最为 精典 当属 龙门石窟 嵩山 少林 故里 清明 河园 殷墟 云台山 丹江口 旅游 无疑 中国 历史 文化 考量 追逐 中华 历史 足迹 追求 大自然 鬼斧神工 秀丽 山水 风光 太行 挂壁 公路 郭亮 西游记 拍摄地 一饱眼福 七天 时间 重庆 出发 玩转 老家 河南 可能 去粗取精 取舍 由人 重庆 出发 两条线 选择 北线 西安 潼关 三门峡 洛阳 郑州 里程 一千 一百多公里 早起 一天 郑州 两天 时间 可西出 潼关 看看 关口 三门峡 大坝 便是 中国 万里 黄河 第一 南线 宜昌 南阳 许昌 郑州 里程 同样 一千 一百多公里 沿途 可赏 三峡工程 南阳 武候祠 卧龙岗 南阳 府署 到达 郑州 郑州 中心 取舍 景点 最想 地方 完成 夙愿 时间 返回 河南 地方 取舍难定 包含 历史 韵味 风土人情 旷世 唯有 定夺 重庆 欣阳 广场\n",
          "小样 无聊 记录 稻米 第二集 谷子 糜子 统称 小米 距今 小米 黄河 中下游 广泛 种植 多地 发现 小米 遗存 仰韶文化 经济 主体 多年 稻米 遗存 陕西 泉护村 遗址 二里头 发现 稻米 遗存 山西 汾城 小米 酿醋 山西 醋用 高粱 孔子 食夫稻 衣夫 稻米 北方 稀缺资源 成为 地位 象征 张掖 匈奴 之臂 中国 之掖 小麦 生于 西亚 距今 年前 传入 传入 喜欢 小米 大米 蒸着 小麦 好吃 麦饭豆羹 魏晋 逐渐 普及 取代 小米 成为 北方 主要 农作物 石磨 小麦 面食 南迁 米制 食品 匈奴 攻陷 洛阳 西晋 迁都 南京 第一次 衣冠南 经济 中心 南移 苏湖 天下 隋唐 洛阳 含嘉仓 武则天 定都 洛阳 运河 开辟 海运 运输 稻米 供应 元大都 海运仓\n",
          "旅行 有个 景区 黄陂 程朱 理学 奠基者 宋代 洛学 创始人 出自 答案 程朱 理学 奠基者 宋代 洛学 创始人 程颢 程颐 出自 湖北 武汉 黄陂 人称 程颢 程颐 兄弟 二程 夫子 程先生 二程 河南 洛阳 祖父 黄陂 县令 该县 父程响 年幼 无力 返乡 居于 黄陂 后来 县尉 二程 其父 黄陂 县尉 时所生 黄陂 二程 夫子 关系密切 二程 纪念 建筑 不少 二程 青少年 时代 传说 史料 记载 生于 湖北 黄陂 草木 文教 程乡 北宋 理学 创始人 程颐 程颢 兄弟 朱熹 老师 黄陂 生活 十六年 留下 望鲁台 聪明 花柳 前川 十多处 遗迹 郭沫若 题写 牌坊 双凤亭 最为 有名 人民日报 人民 文旅 头条 旅游 湖北 旅游 黄陂 文旅 一双 拖鞋 天涯\n",
          "博物 中国 洛阳 第一 视角 Vlog 全国 人大代表 郭爱 博物 中国 洛阳 向往 远方 一座 洛阳城 见证 朝代 更替 承载 朝代 记忆 文旅文 创成 支柱 洛阳 旅游 一大 亮点 特色 看到 古今 辉映 远方 郭爱 说道 近日以来 洛阳 文旅火 出新 高度 国风 潮流 出圈 成为 年轻人 向往 打卡 文旅 火热 源源不断 吸引 游客 到来 郭爱 提出 叫响 博物 中国 洛阳 品牌 年轻人 爱上 洛阳 理由 千年 何以 焕发 文旅新 活力 贺志泉 王紫仪 第一 视角 Vlog 全国 人大代表 郭爱 博物 中国 洛阳 向往 远方\n",
          "豫见 国保 读书 历史 造就 巩义 深厚 富足 赋予 巩义 迷离 尴尬 长达 多年 历史进程 巩义 身份 迭经 变换 始终 政治 中心 若即若离 演绎 无穷的 纠葛 洛阳 中国 政治 经济 文化 中心 巩义 基本上 畿辅 作用 或谓 拱卫 京师 屏藩 或言 扼守 东门 咽喉 政治 中心 东移 开封 巩义 同样 开封 建立 保持 隶属 关系 直到 世纪 下半叶 巩义 长期 开封 专区 属地 目前 巩义 省会 郑州 行政 版图 郑州市 举足轻重 组成部分 具有 省直管 身份 具有 一定 程度 自主权 巩义 几千年 存在 洛阳 开封 郑州 安阳 掩映 之下 不是 刻意 区隔 很难 触摸 巩义 历史 脉动 论及 王朝 古都 绝难 绕开 巩义 巩义 始终 特殊 身份 京畿 陈彦堂 郑洛 之间 古城 巩义 文化 谱系\n",
          "案例 洛阳 遗址 保护 洛阳 盆地 狭长地带 排列 大都城 遗址 二里头 遗址 偃师 商城 遗址 周王城 遗址 汉魏 洛阳 故城 隋唐洛阳城 邙山 陵墓 遗址 全国 重点 文物保护 单位 汉魏 洛阳 故城 隋唐洛阳城 世界 文化遗产 丝绸之路 中国 大运河 重要 组成部分 洛阳 遗址 数量 全国 具有 价值 面积 核心 保护 范围 平方公里 埋藏 建设 用地 交错 叠压 特点 保护 难度 堪称 全国 城镇 村庄 遗址 大量 基本农田 生态 用地 保护 发展 矛盾 尤为 突出 中国 城市规划 学会 中国 文博 规划 学术 国土 空间规划 体系 洛阳 遗址 保护 简介\n",
          "WithYang 旅行 秋季 广富林 不得不 太太 太像 京都 禅寺 塔尖 有点像 京都 清水 清水 宋代 时期 仿造 中国 洛阳 白马寺 建造 京都 城市 街道 格局 古代 长安 非常适合 汉服 拍摄 之外 和服 来应 秋季 枫叶 阴天 阳光 完美 天气预报 说好 晴天 骗人 值得一提的是 广富林 公共设施 进园 入口 地下 停车场 一起 不用 走路 不到 入口 售票 进园 井然有序 公共 卫生间 开着 暖气 非常 人性化 卫生间 宽敞 干净 国内 公共设施 少有 体验 非常 景点 五星 好评 米奇 比心 广富林 一片 水上 建筑 特别 公园 徽派 建筑 亭台楼阁 长廊 水榭 令人 赏心悦目 非常 值得 二刷 地方 开春 打算 一次 广富林 文化 遗址 地址 松江区 广富 林路 开放 时间 禁止入 门票 工作日 节假日 PS 松江区 两个 广富林 公园 广富林 文化 遗址 俗称 广富林 遗址 公园 广富林 郊野 公园 挨着 看点 不同 禅寺 广富林 文化 遗址 不要 走弯路 上海\n",
          "韶关 身边 韶关 乳源 举行 首届 采茶 第二届 云锦 杜鹃 赏花 日前 乳源瑶族自治县 首届 采茶 第二届 云锦 杜鹃 赏花 节在 洛阳镇 举行 旅游局 负责人 游客 参加 活动 本次 采茶 赏花 内容 丰富多彩 阿妹 采茶 采茶 舞蹈 生动 展示 茶乡 洛阳镇 历史 茶文化 3.5 公里 深呼吸 徒步 比赛 游客 大自然 呼吸 清心 洗肺 天瑶 红茶 园里 游客 采风 仙子 靓丽 登场 茶园 基地 试穿 采茶 背茶 斗笠 体验 采茶 乐趣 现场 免费 品茗 活动 茶艺 表演 助兴 游客 走累 玩累 美食 摊位 购买 品尝 本地 各类 小吃 集赞 比赛 摄影 大赛 游客 洛阳 风景 洛阳 故事 比赛 场景 茶园 景色 采茶 活动 最美 瞬间 分享 亲朋好友 机会 获得 奖品 奖金 近年来 洛阳镇 加大力度 发展 茶叶 种植 引进 天瑶 瑶山 华瑶 品牌 茶叶 种植 企业 不断扩大 茶叶 种植 面积 目前 全镇 面积 多亩 该镇 深度 提升 茶叶 品质 着力 打造 洛阳 品牌 韶关 乳源 举行 首届 采茶 第二届 云锦 杜鹃 赏花\n",
          "壮丽 古都 新风貌 洛阳 悠悠 古香 焕发 生机 古今 兴废 请君 洛阳城 历史 长廊 回望 洛阳 很多 脑海 浮现 武则天 李世民 隋唐 时代 中国 五千年 历史长河 朝代 更替 天下 分分合合 洛阳 始终 占据 古代 政治 风暴 中心 承载 厚重 历史 文化 壮丽 古都 新风貌 网络 主题 活动 河南站 首日 洛阳市 深厚 文化底蕴 历史 积淀 随行 感触 颇深 栉风沐雨 记录 时代 缩影 这座 曾经 已经 发展 一座 光芒 闪耀 人气 旅游 城市 壮丽 古都 新风貌 洛阳 悠悠 古香 焕发 生机\n",
          "河南 旅游 邓州 之前 小南 大家 聊过 北魏 政治 经济 文化 中心 五代 时期 宣化 节度 地位 相当于 省级 行政 机构 可谓 盛极一时 不仅如此 北魏 至金 时期 魏孝武 唐高祖 唐昭宗 宋钦宗 宋高宗 金哀宗 六个 帝王 意欲 迁都 邓州 河南 境内 古都 洛阳 开封 不同 几个 帝王 迁都 邓州 并非 是从 交通 水源 人口 经济 地理位置 战略 关系 因素 考虑 邓州 是否 适合 长期 建都 反而 国家 生死存亡 之际 无奈 历史 六个 皇帝 迁都 河南 邓州 最后 不了了之\n",
          "洛阳 明堂 天堂 景区 评分 中国 旅游 旅行 青年 计划 洛阳 旅游 一定 不要 错过 明堂 天堂 景区 修建 唐神 洛阳 皇宫 紫微城 遗址 核心 区域 昔日 女皇 武则天 理政 礼佛 生活 重要 场所 归属 隋唐洛阳城 国家 遗址 公园 成为 洛阳 旅游 必去 景点 女皇 武则天 洛阳 政治权利 中心 景区 主要 包含 明堂 天堂 两座 建筑 明堂 洛阳 紫微城 正殿 万象 神宫 天堂 武则天 御用 佛堂 中国 古代 历史 最高 建筑 一步 一景 仿佛 能触 碰到 过往 历史 时光 年轮 仿佛 从未 转动 开放 时间 周一 周日 停止 售票 检票 门票 攻略 详细 地址 洛阳市 老城区 中州 定鼎 交汇处 旅游 旅游\n",
          "中国 旅游 世界 不见不散 孟津 魏家坡 景区 特别之处 景区 展示 魏氏 家族 数年 家风 家训 重视 比如说 魏氏 家族 罗列 一系列 规定 警示 族人 不能 官府 太近 不能 花钱买 不能 不学无术 魏氏 家族 祖先 深谙 学而优则仕 道理 诗书 传家 人为 家训 世代相传 代代 恪守 农保学 以学求 成为 魏氏 子孙 必由之路 魏氏 始祖 深知 文化 家族 重要 积累 一定 财富 毅然决然 投入 巨资 修建 私塾 学堂 不惜 重金聘用 先生 任教 不计成本 供养 子孙 读书 封建 落后 时代 能够 尊师重教 说明 魏氏 祖先 远见卓识 博大胸怀 魏家坡 洗涤 一下 心灵 爱上 孟津 魏家坡 旅游 一雙 拖鞋 天涯 魅丽 洛阳\n",
          "旅游 碎念 其实 成都 本身 特别 兴趣 唯一 一点 武侯祠 想着 诸葛 青去 打卡 没想到 乐山 大佛 发现 量身定做 打卡 周易 八卦图 一摸 口袋 没带 透卡 博物馆 逛得 开心 人少点 开心 学到 很多 知识 没往 脑子里 照片 留下 不少 那种 看见 文物 震撼 感是 出来 其实 人文 景点 路线 穿插 顺势 这次 旅行 重头 剑阁 峨眉山 不是 断断续续 十年 天龙八部 着眼 记得 地图 之间 联系 洛阳 南城门 嵩山 城门 敦煌 城门 雁南 阿朱乔 剧情 花掉 所有 外观 npc 洛阳 嵩山 已经 去过 敦煌 草原 辽西 最后 长白山 已经 去过 最后 认认真真 三年 峨眉 峨眉 地图 出来 剑阁 大理 无量山 游戏 剑阁 一处 漂亮 彩虹 现实 剑门关 彩虹 晴空 高照 万里无云 姜伯约 峨眉山 门派 师门 任务 采集 猴子 一动不动 现实 峨眉山 猴子 凶得 差一点 车票 峨眉山 迷迷糊糊 睡死 没订 闹钟 居然 清晨 加票 突然 清醒 终究 错过 郭襄 心心念念 云和霞 风陵 渡口 初相遇\n",
          "古代 遗址 荥阳市 河南省 省会 郑州市 下辖 县级市 郑州市 西部 新城 组成部分 战国时期 韩国 荥水 北岸 筑城 名曰 荥阳 从此 得名 荥阳 地处 黄河 中下游 分界 洛阳 南眺 中岳 嵩山 北濒 九曲 黄河 省会 郑州 中心 城区 东都襟 三秦 咽喉 之称 截至 荥阳 市辖区 总面积 平方公里 常住人口 62.67 万人 城镇化率 55.43% 荥阳 中华民族 文化 重要 发祥地 留下 黄帝 夫人 嫘祖 养蚕 缫丝 教民 衣服 美丽 传说 出土 世界 最早 丝织品 存有 织机 古人类 遗址 关帝庙 商朝 晚期 遗址 娘娘 周朝 遗址 文物 国民 命名 中国 诗歌 文化之乡 中国象棋 文化之乡 中国 嫘祖 文化之乡 中国 嫘祖 文化 传承 基地\n",
          "vivo 生活 旅游 安阳 安阳 长春 观是 免费 景区 道士 修炼 地方 道教 祀神 做法 处所 河南省 城市 分布 道观 有名 大道 分别 中岳 王屋山 阳台 老君山 金顶 鹿邑 太清宫 鹿邑 明道 安阳 长春 开封 延庆 太昊陵 洛阳 清宫 嘉应观 著名 赵匡胤 千里 送京娘 故事 据说 安阳 长春 相传 民间 女子 赵京娘 父亲 北岳 香愿 怎料 途中 偶遇 马贼 赵匡胤 叔父 赵景清 所在 道观 赵匡胤 某日 闲逛 忽闻 暗室 女子 哭泣 得知 详情 京娘 救出 恐京娘 再次 赵匡胤 护送 回家 两人以 兄妹 相称 归途 艰险 异常 三番两次 遭遇 马贼 滋扰 赵匡胤 一人 之力化 赵京娘终 赵匡胤 仗义 打动 表达 爱慕 之情 赵匡胤 感念 大业 背上 不义 之名 婉言拒绝 将京娘 归后 其父 感念 恩德 将京娘 许之 赵匡胤 接受 可怜 京娘 马贼 所虏 陌生 男子 结伴 多时 周遭 之人 非议 为表 贞洁 只能 自尽 而亡 赵匡胤 登基 获知 此事 感其 忠贞 敕封 立祠 故事 所说 道观 相传 长春 当然 故事 故事 无从 考究 真假 长春 却是 真实 存在 位于 安阳市 善应 南海路\n",
          "百家 所谓 中国 概念 演化史 救命稻草 儒学 思想 无儒 中国 殷商 周所代 后裔 奴役 人口 不得 分封 群居 洛阳 分支 经济 称为 商人 分支 礼仪 称为 儒生 前朝 遗民 奉行 低调 哲学 老子 道德经 抱朴 说法 春秋时代 诸侯 雄起 儒生 一支 有所作为 提倡 君子 自强不息 孔儒 孔儒 厉害 一为 书写 方块字 一为 书记 历史 王侯将相 各取所长 推动 儒生 变型 纵横家 法家 兵家 在野 之派 別称 墨家 诡辨家 中国 本土 文化 秦汉 本来 完全 书写 历史 塑造 儒家 根基 印度 阿拉伯 挑战 洗礼 终于 成为 近于 神道 文化 图腾 增加 文化 辐射 范围 三要素 组成 第一 方块字 第三 筷子 吃饭 符合 这三条 中华 传人 百家争鸣 其实 源自 两条 百家 封建 自治 一条 百经皆史\n",
          "近代 学界 往往 宋朝 天水 一朝 陈寅恪 天水 一朝 文化 竟为 民族 永远 瑰宝 历史 赵姓 最大 聚居地 甘肃 天水 秦灭 六国后 赵国 代王 赵嘉 公子 赵公辅 率领 族人 进居 天水 所在 有政声 后来 氏族 人即 天水 赵匡胤 早就 迁都 洛阳 意思 几乎 遭遇 所有人 反对 最终 未能如愿 后来 历史 证明 远见卓识 简言之 开封 屏障 建都 不利于 捍御 北境 南侵 草原 铁骑 河北 黄河 需要 几天 时间 回旋 空间 时间 考察 开封 具备 理想 京师 条件 河南 自古 称为 四战之地 四面 有所 防卫 战争 频发 之地 天下 河南 必争之地 等到 天下 安定 河南 岌岌可危 走向 败亡 趋势 历史 西周 动迁 河南 衰亡 西汉 东迁 河南 疲弱 拓跋氏 北魏 南下 河南 丧乱 朱温 篡窃 大唐 汴梁 称帝 勉强 延续 五个 帝王 败亡 是因为 河南 不是 陕西 视为 大本营 缘故 河南 京畿 自古以来 祸事 连连 祸事 之起 源于 关中 河北 十分 占有 九分 大宋 王朝 建议 迁都 洛阳 人物 赵匡胤 之外 仁宗朝 范仲淹 公元 赵匡胤 病逝\n",
          "春晚 洛阳 道歉 重走 丝路 丝绸之路 东方 起点 隋唐洛阳城 定鼎 遗址 定鼎 遗址 位于 中原地区 洛阳 盆地 隋唐洛阳城 遗址 南区 丝绸之路 鼎盛时期 东方 起点 城市 洛阳城 代表性 遗存 见证 东方 农耕 文明 发展 鼎盛时期 帝国 文明 水平 展现 唐代 都城 城市 文化 礼制 特征 影响力 丝绸之路 繁盛 商贸 往来 具有 密切 关联 公元 世纪 丝绸之路 东方 起点 都城 洛阳城 入口 街区 遗址 定鼎 始建 隋代 世纪 建国门 唐代 改称 定鼎 沿用 北宋 其间 多有 重修 定鼎 门门址 南侧 发现 唐代 路面 存有 脚印 动物 蹄印 车辙 遗迹 定鼎 门门址 南侧 发现 骆驼 蹄印 丝绸之路 沿线 骆驼 主要 运输工具 进行 商贸 活动 独特 物证 印证 西域 中原 密切 往来 丝绸之路 繁盛 商品 交流活动 密切 关联 有空 隋唐洛阳城 定鼎 遗址 转一转 见识 历史\n",
          "中原 又称 中土 中州 华夏 洛阳 开封 一带 中心 黄河 中下游 地区 狭义 今天 河南省 外族 对应 中原 泛指 中国 中原 中国 政治 经济 文化 交通 中心 自古 中原 天下 逐鹿中原 方可 鼎立 天下 扩展 资料 中原 三面 太行 伏牛 熊耳 外方 桐柏 大别 诸山 环抱 中部 东部 一望无际 华北平原 被誉为 中华民族 摇篮 黄河 西向东 穿境 淮河 水系 海河 水系 主流 长江 水系 支流 丹江 流经 此地 中原 自古 咽喉 视为 中国 之处 天下 之枢 中原 一词 最早 见于 诗经 小雅 南有 嘉鱼 之什 吉日 天子 中原 其祁孔 诗经 小雅 吉日 中原 其祁孔 中原 一词 最早 出处 并未 形成 完整 统一 地域 概念 含有 原野 原中 意思 参考资料 百度 百科 中原 中原 古代 地方\n",
          "郑州 生活 河南 值得 景点 去过 几次 去过 哪几个 河南 中华民族 主要 发祥地 历史 先后 多个 朝代 建都 四千年 新石器 时代 中原 人民 创造 仰韶文化 龙山文化 文物古迹 众多 旅游 资源 丰富 中国 八大 古都 河南 一省 四个 分别 为夏商 古都 郑州 商都 安阳 十三 古都 洛阳 七朝 古都 开封 河南 旅游景点 包括 龙门石窟 少林寺 黄帝 故里 白云山 伏牛山 云台山 丹江口水库 武侯祠 河南 值得 景点 去过 几次 去过 哪几个\n",
          "诗画 成语 漫游 邯郸 邯郸市 河北省 省辖市 位于 河北省 南端 总面积 12073.8 平方公里 邯郸 建城史 年前 孕育 新石器 早期 磁山 文化 战国 邯郸 赵国都 魏县 魏国 都城 汉代 洛阳 临淄 南阳 成都 共享 大都会 盛名 汉末 曹魏 临漳 建都 先后 曹魏 冉魏 前燕 东魏 北齐 都城 北宋 大名府 成为 北宋 陪都 清代 大名府 直隶省 第一 省会 邯郸市 国家 历史 文化名城 国家 园林城市 中国 优秀 旅游 城市 全国 绿化 模范 城市 全国 双拥 模范 城市 全国 文明城市 全国 社会治安 综合治理 优秀 城市 中国 成语 典故 苏大言\n",
          "洛阳 汉魏 故城 东汉 曹魏 西晋 北魏 都城 遗址 世界 文化遗产 全国 重点 文物保护 单位 丝绸之路 起点 史载 公元 罗马帝国 国王 安敦派 使者 来到 东汉 首都 洛阳 朝见 汉桓帝 标志 丝绸之路 东端 西端 直接 交往 史载 罗马帝国 中国 交往 来到 京师 洛阳 来到 汉魏 洛阳 故城 这座 城市 见证 西方 文化交往 丝绸之路 第一次 延伸 欧洲 过程 北宋 时期 文学家 司马光 汉魏 故城 面对 这座 城市 悠远 辉煌 历史 发出 古今 兴废 请君 洛阳城 概叹\n",
          "国家 发展 改革 印发 汉江 生态 经济带 发展 规划 通知 汉江 生态 经济带 规划 范围 包括 河南省 南阳市 全境 洛阳市 三门峡市 驻马店市 部分 地区 湖北省 十堰市 神农架林区 襄阳 荆门市 天门市 潜江市 仙桃市 全境 随州市 孝感市 武汉市 部分 地区 陕西省 汉中市 安康市 商洛市 全境 规划 面积 19.16 万平方公里 年底 常住人口 万人 地区 生产总值 2.24 万亿元 加快 襄阳 机场 十堰 机场 南阳 机场 改扩建 安康 机场 迁建 项目 建设 推动 汉中 机场 改扩建 提高 区域 机场 综合 保障 能力 服务水平 改造 新建 一批 通用 机场 积极 发展 短途运输 培育 通用 航空 市场 新增 加密 襄阳 机场 南阳 机场 十堰 机场 神农架 机场 航线 航班 提升 旅游 机场 运送 能力\n",
          "陶女 东晋 公元 江苏 南京 出土 陶女 三国 公元 四川 忠县 涂井 出土 陶男俑 三国 公元 四川 忠县 涂井 出土 乐舞 陶俑 三国 公元 四川 忠县 涂井 出土 女乐 北魏 公元 陕西 西安 草场 出土 彩绘 陶俑 北魏 公元 河南 洛阳 邵墓 出土 青瓷 羊形 烛台 东晋 公元 江苏 镇江 出土 鹰形 陶鼎 仰韶文化 公元前 陕西 华县 太平庄 出土 北京\n",
          "超全 安阳 旅游 攻略 安阳 美食 大全 安阳 简称 这座 七朝 古都 盘踞 河南省 北端 长达 建城史 建都 这座 城市 更是 无愧于 中华 第一 古都 美称 举世闻名 母戊鼎 中国 最早 都城 殷墟 遗址 人工 天河 红旗渠 安阳 正是 瑰宝 荟萃 特意 安阳 旅行 并不多 河南省 来说 安阳 知名度 远不如 洛阳 开封 郑州 或许 安阳 这种 古城 一分 遗世独立 孤傲 色彩 ..... 参考 路线 自然 三日 Day1 红旗渠 一日游 分水 巨型 浮雕 纪念碑 相关 展厅 青年 双锁关 步云桥 络丝潭 Day2 太行 大峡谷 一日游 游王 相岩 玉皇阁 桃花 龙潭 瀑布 Day3 殷墟 一日游 文化 三日 Day1 中国 文字 博物馆 北大街 Day2 殷墟 文峰塔 Day3 遗址 岳飞 经典 景点 安阳 美食 住宿 交通 温馨 提示 最佳 旅游 时间 春秋 两季 太行山 大峡谷 最美 时节 穿衣 指南 春季 温暖 风沙 较大 夏季 炎热 多雨 冬季 寒冷 干燥 春秋季 过渡 季节 温度 变化 幅度 较大 注意 添衣 出行 关注 当地 防疫 政策 准备 健康 核酸 证明\n",
          "打卡 古城 后花园 京津冀 周末 邯郸 邯郸 国家 历史 文化名城 建城史 战国时期 邯郸 赵国都 汉代 洛阳 临淄 南阳 成都 共享 大都会 盛名 邯郸 临漳县 先后 曹魏 冉魏 前燕 东魏 北齐 都城 北宋 时期 大名府 今属 邯郸市 大名县 成为 北宋 陪都 清代 大名府 直隶省 第一 省会 邯郸 之窗 邯郸 国家 园林城市 中国 优秀 旅游 城市 全国 绿化 模范 城市 全国 社会治安 综合治理 优秀 城市 河北省 旅游 产业 发展 大会 即将 邯郸 举办 河北 综合 广播 河北 新闻广播 京津冀 之声 特别 策划 人民 城市 人民 打卡 邯郸 复兴区 这座 三千年 古城 后花园 共赴 一场 穿越 古今 京津冀 打卡 之旅 京津冀 之声 FM1006\n",
          "世界遗产 尼西 旅途 故事 旅行 泉州 刺桐 史迹 宋元 中国 世界 海洋 商贸 中心 泉州 申遗 可谓 一波三折 阐述 核心 价值 海上 丝绸之路 多元 文化 海洋 商贸 尘埃 虽未 落定 不可否认 散落 泉州 历史 遗迹 保存 完好 构成 这座 城市 不可磨灭 记忆 融入 人间烟火 日常 想到 京都 泉州 翌日 清源山 洛阳桥 告别 老城 古早 滋味 投入 郊区 寻访 闷热 难耐 登山 之径 诡秘 清幽 先贤 归处 大雨倾盆 跨海 古桥 准世遗 容易 依旧 这座 城市 冰山一角 旅游 福建 旅游 泉州 旅游 世界遗产 泉州\n",
          "洛阳 悠久 历史 灿烂 文化 洛阳 历史 朝代 故有 九朝古都 之称 龙门石窟 青山绿水 万象 生辉 佛光 万年 普照 游山玩水 感悟 人生 龙门石窟 中国 石刻 艺术 宝库 世界 文化遗产 重点 文物保护 单位 中国 四大 石窟 北魏 敦煌 莫高窟 云冈石窟 麦积山 石窟 称为 中国 四大 石窟 龙门石窟 历史 非常 悠久 北魏 唐代 不停 地有 信众 出资 南北 长一 公里 造像 十万余 最大 佛像 高达 17.14 最小 厘米 碑刻 题记 余品 诗人 白居易 长眠 国家 5A 旅游 景区 一种 骄傲 中国 一种 表白 我爱你 中国 石窟 位于 洛阳市 公里 火车站 公交车 全程 分钟 票价 洛阳 龙门石窟 景区\n",
          "金昌 碰瓷 古罗马 几天 有张 甘肃 金昌 碰瓷 古罗马 图片 出现 其实 甘肃 的确 碰瓷 古罗马 罗马帝国 拜占庭 帝国 波斯 接壤 古代 中国 波斯 文化 渊源 避免 不了 罗马 交集 是从 野马 尘埃 图片 世界 最长 徒步旅行 非洲 俄罗其斤 同样 古人类 迁徙 路线 欧亚 草原 一支 粟特 商队 往来 东西方 世界 通用 波斯 罗马 这条 早就 欧亚 草原 甘肃 碰瓷 罗马 带来 条件 早先 广义 河套 地区 涵盖 甘肃 欧亚 草原 斯基泰 南下 第一站 后面 罗马 影响力 欧亚 草原 到达 广义 河套 地区 到达 甘肃 实际上 影响力 河套 毗邻 洛阳 到达 洛阳 出土 罗马 金币 佐证 当然 金币 可能 中亚 仿造 使用 已经 罗马 印记 留在 河套 中原\n",
          "河南 百姓 家门 自行车 顶级 赛事 河南省政府 新闻办 获悉 中国 公路 自行车 联赛 河南 黄河 国际 公路 自行车赛 期间 先后 济源市 洛阳市 洛宁县 濮阳市 濮阳县 三地 举办 河南 沿黄 生态 廊道 共计 公里 沿途 风景 文化 各异 济源 黄河 素有 万里 黄河 第一 之称 濮阳 黄河 孕育出 中华 第一 文化 适宜 赛道 距离 优美 黄河 沿线 风景 厚重 黄河 文化 河南 黄河 国际 公路 自行车赛 具备 吸引力 一步 河南 黄河 国际 公路 自行车赛 依托 黄河 赛道 河南 黄八市 一区 主轴 顶级 赛事 抓手 积极 打造 中部 六省 最高级别 UCI 国际 自行车 联盟 认证 品牌 赛事 李薇 私家车 广播\n",
          "宫灯 中国 已经 上千年 历史 已经 中国 传统 文化 符号 宫灯 我国 手工业 制作 特种 工艺品 在世界上 享有盛名 直到 今天 豪华 殿堂 住宅 发现 宫灯 造型 装饰 相传 汉光武帝 刘秀 建都 洛阳 统一天下 庆贺 这一 功业 宫廷 张灯结彩 大摆 宴席 宫灯 艳姿 宫灯 之名 由此 而生 隋炀帝 大业 元年 正月十五 洛阳 陈设 百戏 遍布 宫灯 饮宴 畅游 全城 张灯结彩 半月 不息 隋唐 之后 每逢 元宵节 家家 宝灯 高挂 处处 明灯 璀璨 人人 提灯 漫游 争奇斗艳 后来 宫灯 制作 技术 传入 民间 洛阳 洛阳 恒大 绿洲\n",
          "郑州 生活 河南 值得 景点 去过 几次 去过 哪几个 河南 中华民族 主要 发祥地 历史 先后 多个 朝代 建都 四千年 新石器 时代 中原 人民 创造 仰韶文化 龙山文化 文物古迹 众多 旅游 资源 丰富 中国 八大 古都 河南 一省 四个 分别 为夏商 古都 郑州 商都 安阳 十三 古都 洛阳 七朝 古都 开封 河南 旅游景点 包括 龙门石窟 少林寺 黄帝 故里 白云山 伏牛山 云台山 丹江口水库 武侯祠 郑州 玩乐 攻略 河南 值得 景点 去过 几次 去过 哪几个\n",
          "旅行 没什么 网红 气质 靠着 满城 美景 征服 古今 兴废 请君 洛阳城 一千年 司马光 恐怕 想不到 两句诗 洛阳 贴切 写真 这座 千年 帝都 中国 宝贵 城市 只不过 经历 无数次 战争 繁华 繁华 付之一炬 拥有 历史 文化 自然 美景 本书 清楚 明白 当今 网红 打卡 遍布 时代 洛阳 依然 不疾不徐 独特 魅力 征服 来到 网红 打卡 网红 气质 丰富 历史 文化 自然 美景 旅游 攻略 先森\n",
          "古风 寻宝 奇遇记 遗在 身边 全民 晒宝季 全民 晒宝季 盛唐 华彩 唐三彩 女俑 唐三彩 中国 文化 占有 重要 历史 地位 中国 陶瓷 史上 留下 浓墨重彩 一笔 辉煌 璀璨 唐三彩 绚丽 斑斓 艺术 效果 雕塑 精美 造型 生动 得到 完美 发挥 淋漓尽致 展现 唐代 我国 历史 鼎盛时期 唐三彩 侧面 反映 这种 王朝 政治 文化 生活 唐代 诗歌 绘画 建筑 文化 共同 形成 王朝 文化 旋律 不同于 文化 艺术 唐三彩 陶瓷 史上 划时代 里程碑 从单 色釉 历史 唐代 以后 出现 多彩的 釉色 陶瓷 器物 得到 运用 唐代 审美观点 包容 文化 包括 异域 文化 绘画 陶瓷 金银器 制作 形成 璀璨 文化 发展 进程 唐三彩 釉彩 黑等色 白三色 为主 人们 习惯 称之为 唐三彩 三彩 多彩的 意思 专指 三种 颜色 唐三彩 最早 出土 洛阳 洛阳 唐三彩 之称\n",
          "河南 不能 河南 河南 位于 中国 中部 充满活力 创新 精神 地方 华夏 文明 重要 发源地 拥有 丰富 历史 文化遗产 了解 红色 革命 历史 探访 古代 文化 遗址 品尝 地道 美食 河南 满足 需求 河南 有着 丰富多彩 旅游 资源 洛阳 龙门石窟 白马寺 开封 清明上河图 铁塔 信阳 黄河壶口瀑布 许昌 金明池 郑州 嵩山少林寺 令人 心驰神往 旅游胜地 河南 美食 更是 垂涎欲滴 烩面 油泼面 汤包 卤水 驴肉 火烧 垂涎欲滴 无论是 小巷子 酒楼 河南 美食 流连忘返 河南 体验 热情 豪迈 河南 人民 生活 方式 热情好客 喜欢 唱歌 跳舞 太极 感受 人文 氛围 了解 中国 历史 文化 享受 地道 美食 感受 热情好客 人文 氛围 河南 绝对 容错过 旅游 目的地 河南\n",
          "超全 安阳 旅游 攻略 安阳 美食 大全 安阳 简称 这座 七朝 古都 盘踞 河南省 北端 长达 建城史 建都 这座 城市 更是 无愧于 中华 第一 古都 美称 举世闻名 母戊鼎 中国 最早 都城 殷墟 遗址 人工 天河 红旗渠 安阳 正是 瑰宝 荟萃 特意 安阳 旅行 并不多 河南省 来说 安阳 知名度 远不如 洛阳 开封 郑州 或许 安阳 这种 古城 一分 遗世独立 孤傲 色彩 ..... 参考 路线 自然 三日 Day1 红旗渠 一日游 分水 巨型 浮雕 纪念碑 相关 展厅 青年 双锁关 步云桥 络丝潭 Day2 太行 大峡谷 一日游 游王 相岩 玉皇阁 桃花 龙潭 瀑布 Day3 殷墟 一日游 文化 三日 Day1 中国 文字 博物馆 北大街 Day2 殷墟 文峰塔 Day3 遗址 岳飞 经典 景点 安阳 美食 住宿 交通 温馨 提示 最佳 旅游 时间 春秋 两季 太行山 大峡谷 最美 时节 穿衣 指南 春季 温暖 风沙 较大 夏季 炎热 多雨 冬季 寒冷 干燥 春秋季 过渡 季节 温度 变化 幅度 较大 注意 添衣 出行 关注 当地 防疫 政策 准备 健康 核酸 证明\n",
          "孩子 去年 找到 不能 放过 人贩子 隐身 涉拐 嫌疑人 近日 湖北 荆门市 掇刀区 涉拐 嫌疑人 某某 缉拿归案 刘清 正在 荆门 龙泉 公园 父亲 刘永学 所谓 同学 带走 杳无音信 人贩子 某某 清正 价格 河南 洛阳 堂哥 年底 荆门 警方 刘永学 夫妻 找到 清正 一家人 相拥 团聚 警方 未曾 停止 追缉 脚步 今年 抓获 人贩子 最终 换来 家庭 团聚 一起 案件 终结 来源 湖北日报 旅游 警察 身边 洪雅 公安\n",
          "中华民族 有着 悠久 天文 观测 历史 中华 地上 留下 数不清 历史 遗迹 远古 时期 日月 纹饰 商周 秦汉 墓葬 星图 天象 记录 宋辽金 星宿 绘图 加上 陶寺 观象台 洛阳 灵台 登封 观星台 明清 北京 古观象台 近代 以来 佘山 紫金山 凤凰山 天文台 历朝历代 天文 观测 设施 一起 一首 波澜壮阔 中国 天文 史诗 天文 古迹 前面 亲身 体会 古人 观星 智慧 仿佛 古人 对话 感受 亘古 不变 星空 面前 发生 沧海桑田 岁月 变迁 中国 考古学 先驱 苏秉琦 老先生 曾经 满天星斗 形容 中国 多元 一体 史前 文化 天文 古迹 何尝 不是 菌菌 特意 制作 这张 中国 天文 访古 指南 展示 分布 全国 各地 天文 相关 古代 近现代 文物 史迹 今后 大家 规划 出游 按图索骥 寻访 宝贵 历史 文化遗产 希望 感受 那份 古今 交融 乐趣 旅行 公开课\n",
          null
         ],
         "marker": {
          "opacity": 0.5,
          "size": 5
         },
         "mode": "markers+text",
         "name": "4_中国_历史_安阳",
         "text": [
          "",
          "",
          "",
          "",
          "",
          "",
          "",
          "",
          "",
          "",
          "",
          "",
          "",
          "",
          "",
          "",
          "",
          "",
          "",
          "",
          "",
          "",
          "",
          "",
          "",
          "",
          "",
          "",
          "",
          "",
          "",
          "",
          "",
          "",
          "",
          "",
          "",
          "",
          "",
          "",
          "",
          "",
          "",
          "",
          "",
          "",
          "",
          "",
          "",
          "",
          "",
          "",
          "",
          "4_中国_历史_安阳"
         ],
         "textfont": {
          "size": 12
         },
         "type": "scattergl",
         "x": [
          11.373023986816406,
          10.771677017211914,
          10.980990409851074,
          10.533102989196777,
          11.259068489074707,
          11.15162467956543,
          10.652502059936523,
          11.023951530456543,
          11.14801025390625,
          11.445849418640137,
          11.264106750488281,
          11.27170181274414,
          11.03372859954834,
          11.345658302307129,
          10.48483943939209,
          11.134805679321289,
          10.906455039978027,
          10.660831451416016,
          11.428470611572266,
          11.210814476013184,
          10.644245147705078,
          11.000542640686035,
          10.363898277282715,
          11.275091171264648,
          11.180547714233398,
          10.477243423461914,
          11.546623229980469,
          11.630292892456055,
          10.77364730834961,
          10.562395095825195,
          11.480024337768555,
          11.284610748291016,
          10.925783157348633,
          10.99798583984375,
          11.514322280883789,
          10.924516677856445,
          10.936233520507812,
          10.385144233703613,
          10.50925064086914,
          11.322237014770508,
          10.506656646728516,
          11.62368106842041,
          11.636516571044922,
          11.486570358276367,
          10.38132095336914,
          11.496018409729004,
          11.521815299987793,
          11.504501342773438,
          11.511303901672363,
          11.517914772033691,
          11.3777437210083,
          10.723016738891602,
          11.464852333068848,
          11.086185455322266
         ],
         "y": [
          8.85734748840332,
          9.240938186645508,
          9.25097942352295,
          9.35900592803955,
          8.953773498535156,
          9.42361068725586,
          9.391871452331543,
          9.220476150512695,
          9.233059883117676,
          9.11028003692627,
          9.299440383911133,
          9.839486122131348,
          9.307703971862793,
          9.792634963989258,
          9.388190269470215,
          9.209333419799805,
          9.303832054138184,
          9.527656555175781,
          8.974181175231934,
          9.594534873962402,
          9.260055541992188,
          8.52204418182373,
          9.518460273742676,
          9.441442489624023,
          9.42287826538086,
          9.252230644226074,
          9.174848556518555,
          9.010461807250977,
          9.282645225524902,
          9.461201667785645,
          9.27884292602539,
          9.360536575317383,
          9.057581901550293,
          9.259852409362793,
          9.075485229492188,
          9.212166786193848,
          9.079562187194824,
          9.106290817260742,
          9.419817924499512,
          8.870396614074707,
          9.340729713439941,
          8.734087944030762,
          9.245368957519531,
          9.10435676574707,
          9.281682968139648,
          9.391613960266113,
          9.064574241638184,
          8.829751014709473,
          9.398881912231445,
          8.938515663146973,
          8.864867210388184,
          9.59077262878418,
          9.376264572143555,
          9.235974311828613
         ]
        },
        {
         "hoverinfo": "text",
         "hovertext": [
          "洛阳城 宁洛 高速 洛阳 西南 绕城 高新区 开放 车道 ETC 今天上午 宁洛 高速 洛阳 西南 绕城 高新区 开放 该站 位于 宁洛 高速 河洛 交会处 原有 收费 车道 改造 提升 该站 拥有 收费 车道 增设 ETC 车道 出站口 临时 停车 该站 周边 景观 一并 改造 提升 收费站 拆除 重建 增加 管理 用房 平方米 该站 洛阳市 城市 立体 交通系统 重要 组成部分 有效 提升 车辆 宁洛 高速 通行 能力 改善 出行 环境 成为 高铁 枢纽 旅游 景区 对外 联系 出口 通道 有效 发挥 高速公路 洛阳 发展 带动 作用\n",
          "今天 上海 旅游 回来 学生 孩子 感知 敏锐 再次 感受 理念 科学 用心 感受 学生 不是 简单 成绩 有色眼镜 看人 学生 告诉 上海 优点 缺点 优点 年轻人 活动 比较 不像 洛阳 这方面 活动 太少 愿意 付费 没什么 活动 参与 同意 城市 老龄化 年轻人 来说 不爱待 缺点 大多 围绕 方便 地铁 太绕 很花 时间 出门 只好 网约车 出租车 地铁 线路 很绕 城市 市中心 繁华 周边环境 洛阳 差别 不太大 花钱 不像 洛阳 钱花 发现 上海 年轻人 动漫 游戏 付费 意愿 很强 觉得 压力 来说 觉得\n",
          "郑州 这座 中国 最大 交通枢纽 心脏 迎来送往 功能 游客 过客 明天 一名 游客 体验 风貌 文化 米奇 比心 中原 腹地 缺乏 旅游 资源 开封 北宋 文化 洛阳 隋唐 文化 许昌 三国 文化 安阳 甲骨文 殷墟 提到 郑州 往往 陷入 沉默 其实 足够 多可供 自夸 资本 轩辕黄帝 故里 文明 发源地 中国 姓氏 文化 发源地 少林寺 闪亮 文化 名片 如今 仅剩 记载 历史 课本上 一次 二七 惨案 也许 郑州 陆上 交通 中心 唯一 回忆 郑州 马拉松 郑州 二七 广场\n",
          "安阳 自驾游 水湾 温泉 旅游区 距离 洛阳 3.5 小时 郑州 2.5 小时 安阳市 水湾 温泉 旅游区 位于 河南省 安阳市 高新技术 开发区 安林 高速 出口处 紧邻 国道 京广铁路 西侧 占地 多亩 安阳市 生态旅游 发展 重点项目 安阳市 规模 最大 档次 最高 服务 最全 大型 综合 温泉 旅游 景区 中国 温泉 历史悠久 古人 称之为 汩汩 而出 温泉水 富含 偏硅酸 多种 有益 人体 微量元素 矿物质 水湾 温泉 旅游区 采自 地底 多米 深层 优质 矿泉水 资源 达到 国家 饮用水 标准 安阳 问答 安阳 哪些地方 值得 自驾游 周边游\n",
          "大学生 跨省 旅游 计划 景点 陕西 宝鸡 大学生 周末 假期 跨省 旅游 计划 时间 著名景点 当事人 杨同学 介绍 室友 是从 陕西 出发 坐火车 洛阳 车程 大概 需要 小时 第一次 城市 打算 著名景点 参观 一遍 计划 每人 这次 旅行 提前 一天 攻略 攻略 详细 景点 之间 乘坐 公车 需要 花费 时间 必吃 美食 价格 提前 查询 行程 会先 按计划 进行 旅行 过程 中有 变动 实际 情况 进行 调整 白鹿 白鹿\n",
          "文明 洛阳 洛阳 公交线路 取消 洛阳市 公交 集团 相关 负责人 表示 自即日起 古都 八点 线路 部分 快车 线路 取消 古都 八点 线路 线路 古都 八点 公交线路 开通 运营 目的 对接 中原 快车 古都 八点 高铁 旅游 列车 推动 经济 发展 目前 线路 已能 常规 线路 全面 覆盖 取消 今后 公交 集团 实际 客流 情况 加密 夜间 发车 密度 减少 车辆 间隔 助力 经济 发展 部分 快车 线路 取消 D1 D3 D55 D58 公交线路 大站 快车 线路 道路 通行 条件 限制 无法 体现 优势 致使 空载 率高 周转 取消 一步 洛阳市 公交 集团 依托 主城区 公交 专用道 主要 客流 走廊 探索 公交 快线 发展 方向 完善 洛阳 公交 快线 网络 布局\n",
          "洛阳 栾川 卢氏 高速公路 全长 公里 概算 投资 亿元 计划 月底 建成 通车 采用 双向 车道 现代 高速公路 技术标准 项目 地处 熊耳山 伏牛山 深山区 助力 卢氏 深度 贫困地区 脱贫 攻坚 扶贫 促进 沿线 旅游 矿产资源 开发 生态 保护 带动 豫西 地区 区域 经济社会 发展 一条 致富路 更是 三门峡市 人民 群众 翘首以盼 民生路 目前 项目 发改委 交通运输 自然资源 部门 单位 大力 关心 支持 具备 全面 开工 条件 栾川 卢氏 高速公路 卢氏 重点 建设项目 我省 双千 工程 重要 组成部分 项目 起点 洛阳 栾川县 洛栾 高速公路 相接 途经 卢氏县 汤河 横涧 终点 高速公路 相连 计划 月底 建成 通车\n",
          "今天 连云港 西安 花果山 高铁 旅游 品牌 列车 首发 今天 连云港 西安 花果山 高铁 旅游 品牌 列车 首发 仪式 连云港 举行 这是 我市 抢抓 连云港 西安 高铁 列车 开通 机遇 大力发展 高铁 旅游 开发 中西部 旅游 市场 重要 举措 提升 连云港 旅游 中西部 地区 知名度 有着 重要 意义 连云港 花果山 高铁 旅游 品牌 列车 西安 北站 始发 终点站 连云港 途经 郑州 洛阳 华山 商丘 徐州 淮安 深度 覆盖 亚欧大陆桥 沿线 中西部 重点 旅游 客源 市场 整个 列车 车身 彩贴 枕巾 小桌 行李架 车厢 海报 门贴 语音 播报 LED 展示 连云港 优美 旅游 风光 成为 宣传 连云港 文化 旅游 移动 展览馆 连云港 深厚 历史 文化 西游 文化 独特 旅游 资源 得到 集中 广泛 传播 进一步 打响 大圣 故里 西游 胜境 神奇 浪漫 连云港 城市 品牌 连云港 花果山 高铁 旅游 品牌 列车 征集 活动 同步 开展 参与 方式 旅客 拍摄 连云港 花果山 列车 发抖 朋友圈 发送 截图 邮箱 lygwlcm com 名称 作者姓名 手机号码 通讯地址 即可 获得 连云港 旅游 纪念品 一份 限量 抖音 点赞量 以上 朋友圈 集赞达\n",
          "载有 韩国 游客 客车 河南 林州 发生 交通事故 事故 发生 时许 当天 河南 职工 旅行社 导游 郑勇 带领 韩国 游客 乘坐 洛阳市 司机 赵留柱 驾驶 CL0139 牌照 中巴车 林州 太行 大峡谷 旅游 入住 该市 中州 国际 酒店 乘车 红旗渠 观光 大道 红旗渠 干渠 沿线 一家 韩国 料理店 吃饭 中巴车 行驶 红旗渠 科技园 附近 路段 突然 前面 正在 行驶 一辆 满载 袋装 水泥 三轮 汽车 尾部 当场 造成 三轮 汽车 侧翻 中巴车 驾驶室 严重 变形 中巴车 司机 驾驶室 车上 韩国 游客 不同 程度 受伤 面部 衣服 扬起 水泥 覆盖 载有 韩国 游客 客车 河南 林州 发生 交通事故\n",
          "陕西 河山 生态旅游 景区 高铁 冠名 专列 乘着 高铁 旅行 金秋 时节 喜讯 连连 印着 陕西 河山 景区 欢迎您 冠名 专列 首发 起航 高铁 G658 次列车 希望 梦想 驰出 西安 北站 一路 风驰电掣 北京 驶去 据悉 G658 途经 华山 北站 洛阳 龙门 郑州 东站 新乡 东站 安阳 东站 邯郸 东站 石家庄 保定 东站 北京西站 站点 覆盖 陕西 河南 河北 四省 一市 河山 景区 这次 充分利用 高铁 效应 一路 呼啸 将野 河山 旅游 文化 传向 北京 向外 展示 介绍 河山 景点 独特 风光 旅游 线路 优质服务 中国 速度 旅行 陕西 河山 生态旅游 景区\n",
          "终于 通车 奇境 栾川 河南 最美 高速公路 郑栾西 高速 尧山 栾川 今天 第一天 正式 通车 该条 高速 平均海拔 以上 称为 云中 高速 王府 竹海 度假 旅游区 郑西 高速 栾段 开工 建设 全长 78.839 公里 双向 车道 山岭 重丘区 高速公路 标准 设计 设计 时速 公里 起于 平顶山市 鲁山县 山镇 郑尧 高速 终点 向东 4.2 公里 接出 西经 洛阳市 嵩县 村镇 栾川县 庙子 洛栾 高速 相交 而后 南接 在建 郑西 高速 栾川 西峡 部分 河南 旅行 郑州 洛阳 平顶山 许昌 南阳 漯河 方向 小时 左右 栾川 超话 社区\n",
          "雨辰 世界 洛城 新鲜事 洛阳 新增 国家 4A 旅游 景区 近日 河南省 新增 景区 国家 4A 旅游 景区 洛阳 凤翔 温泉 旅游区 豪泽 国际 郁金香 花海 欢乐城 榜上有名 九洲 遗址 公园 明年 四月份 部分 对外开放 铁办 了解 呼南 高铁 豫西 通道 规划 过境 汝阳 具体 过境 洛阳 线路 路由 尚未 进行 深入研究 目前 正在 谋划 研究 洛阳 栾川 铁路 事宜 目前 天津桥 项目 正在 进行 方案 修改 完善 新伊 大街 新街 桥至 古城 路段 市政府 工作 部署 要求 计划 明年 花会 节前 通车 洛阳\n",
          "高速 中国 山西 篇通 大道 兴文 幸福 阳城 济源 高速公路 阳城 河段 正式 打通 阳蟒 高速 安阳 高速 向南 连接 济源 直通 洛阳 南京 连通 晋豫 两省 重要 通道 更是 融合 地域 文化 生态 美景 旅游 大通道 致富 黄金 左黎 高速公路 山西省 通往 京津冀 地区 重要 通道 连通 长治市 黎城县 晋中市 左权县 连接 大革命 老区 纽带 补齐 太行山区 交通运输 短板 促进 区域 经济 发展 红色旅游 资源 开发 有着 十分 重要 意义 来源 山西 日报\n",
          "十堰 随手 十堰 十堰 柏林 地点 十堰 爆料 十堰 郧阳 十堰 郧县 地点 西安 爆料 西安 白鹿原 影视城 将军 隧道 地点 郑州 爆料 新郑 航空港 地点 三门峡 三门峡 豫西 大峡谷 宾馆 深圳 交友 襄阳 南河 地点 随州 值得 长治 壶关 八泉峡 名景 小院 农家 客栈 旅行 铜仁 碧江区 地点 株洲 商洛 太原 体育馆 地点 三门峡 三门峡 豫西 大峡谷 宾馆 神农架林区 天燕 原始 生态 旅游区 地点 丹江口市 地点 洛阳 新鲜事 吕梁 新鲜事 神农架林区 天燕 原始 生态 旅游区 地点 汾阳市 地点 长治 壶关 八泉峡 名景 小院 农家 客栈\n",
          "洛阳市 公交 集团 发布 最新消息 做好 区域 线路 接驳 工作 万安 专线 公交 进行 优化 具体情况 如下 万安 专线 乡道 进行 延长 优化 调整 途径 乡道 乡道 省道 龙少路 恢复 万安 专线 增加 停靠站 封沟 村站 李家寨 村站 沙沟村 西朱村 舜帝 庙村 常村 偏桥 南站 马庄 赵村 票价 1.5 人次 支持 各类 IC卡 移动 支付 末班 时间 发车 间隔 分钟 本次 调整 万安 专线 公交 万安 七彩 大峡谷 开往 市区 方向 增设 舜帝 庙村 途径 万安 旅游 度假区 舜耕 智慧 田园 直接 市区 乘坐 万安 专线 公交 抵达\n",
          "呼南 铁路 计划 开工 今年 月初 国家 发改委 发布 铁路 十三 发展 规划 提到 呼南 铁路 呼尔 浩特 南宁 高铁 通道 计划 开工 建成 北海 市民 有望 南宁 高铁 直达 呼和浩特 呼南 高铁 走向 呼和浩特 大同 朔州 忻州 太原 晋中 长治 晋城 济源 洛阳 襄阳 宜昌 荆门 常德 益阳 娄底 邵阳 永州 桂林 柳州 南宁 了解 呼南 高速铁路 全长约 公里 设计 速度 公里 小时 沿途 设有 呼和浩特 东站 太原 南站 郑州 东站 襄阳 东津站 常德 桂林 北站 南宁 东站 站点 建成 北海 市民 南宁 高铁 呼和浩特 看大 草原 烤全羊 .... 太原 洛阳 襄阳 著名 旅游 城市 游玩\n",
          "十一 大自然 欢乐 之旅 洛阳 旅游 编辑部 嵩县 旅游 张相正 郑西 高速 尧山 栾川 开建 预计 建成 通车 好消息 好消息 郑西 郑州 西峡 高速 尧山 栾川 开建 该段 高速公路 全长 78.839 公里 预计 建成 通车 洛阳 白云山 玩耍 小伙伴 便利 洛阳市 交通局 相关 负责人 介绍 郑西 高速 尧山 栾川 西峡 项目 穿越 伏牛山 腹地 连通 尧山 大佛 界岭 景区 4A 景区 单在 洛阳 境内 沿途 连接 木札岭 白云山 泰山 老君山 养子 龙峪湾 重渡 景区 美景 一路 外地人 洛阳 南部 县区 旅游 方便\n",
          "郑州 爆料 全国 首家 高铁 共享 汽车 旅游 项目 启动 高铁 票游 河南 优惠 中国 铁路 郑州 宣布 全国 首家 高铁 共享 汽车 旅游 项目 启动 项目 第一批 郑州 开封 洛阳 城市 建设 计划 郑州 东站 郑州 洛阳 龙门 建设 共享 汽车 停车位 河南 制定 优惠政策 游客 日内 高铁 车票 实名制 票证 相符 情况 河南省 境内 旅游 比照 旅游 团体票 优惠政策 享受 景区 门票 优惠 郑州 春运 全国 首家 高铁 共享 汽车 旅游 项目 启动 高铁 票游 河南 优惠\n",
          "进入 河南 焦作 天河 十万亩 桃花 竞相 开放 游客 能够 一睹 十万亩 桃花 盛景 天河 景区 桃花 观赏 期间 推出 自驾 天河 高速 免费 大型 优惠活动 日起 自驾车 七座 以下 七座 郑州 新乡 洛阳 焦作 济源 晋城 六个 城市 任一 高速 收费站 出发 焦作 任一 高速 收费站 下站 天河 游览 游客 行车证 当日 高速公路 收费 凭证 天河 景区 购买 门票 予以 报销 天河 景区 专门 售票 窗口 办理 购票 业务 如遇 高速公路 收费 凭证 金额 大于 所购 门票 金额 所购 门票价格 上限 最终 报销 价格 持年 旅游 游客 享受 此次 优惠 清明节 假期 期间 享受 此次 优惠\n",
          "洛阳 身边 地铁站 工程施工 洛阳 部分 道路 通行 规则 有变 地铁 号线 启明 南路 塔湾 谷水站 相关 交通 疏解 管线 导改 工程施工 自即日起 上述 各站 周边 道路 通行 规则 发生 改变 通行 规则 改变 中州 东路 启明 南路 交叉口 通行 方式 改为 环岛 行驶 路口 向东 双向 机动车道 局部 封闭 改为 南侧 车道 北侧 车道 通行 中州 东路 东路 路口 双向 机动车道 局部 封闭 改为 南侧 车道 北侧 车道 通行 施工 区域 周边 沿线 道路 禁止 车辆 停放 自即日起 西环路 谷水 花坛 南侧 部分 路段 主道 封闭 车辆 东侧 辅道 绕行 辅道 禁止 车辆 停放\n",
          "备孕 怀孕 生娃 坐月子 哺乳 需要 节制 很多 自由 地方 需要 强迫 事情 喝难 中药 每天 早上 优甲乐 很多 检查 忌口 不能 地方 不能 旅游 每每 看到 朋友圈 旅游 玩耍 大餐 其实 内心 大多 平静 很多 地方 去过 很多 东西 北京 天津 洛阳 广州 西安 澳门 香港 苏州 南京 徐州 上海 重庆 成都 长沙 凤凰古城 张家界 天门山 华山 泰山 庐山 黄山 九华山 刷到 内心 毫无 波澜 蚌埠 绝大多数 好吃 好玩 大家 打卡 观澜 集市 去年 已经 去过 两三回 大家 打卡 歪歪 上个月 去过 南京 人来 打卡 蚌埠 鞋底 烧饼 里脊 宋记冰 酒酿 启锐 牛肉汤 发现 ..... 原来 过去 精彩 热爱生活 楼下 集市 人来人往 内心 平静 未来 一年 好好 哺乳 依旧 有所 限制 缺少 自由 希望 娃儿 健康成长 妈妈 玩遍 吃遍 美好 世界\n",
          "古都 八点 夜市 中原 快车 古都 八点 今天 正式 发车 河南 经济 广播 采访 组将 乘坐 首发 列车 洛阳 动车组 列车 分别 郑州 三门峡 G9103 三门峡 郑州 G9104 郑州 洛阳 龙门 G9101 洛阳 龙门 郑州 G9102 以后 运行 时刻 铁路 部门 最新 运行图 另行 公布 方便 游客 畅游 洛阳 洛阳 公交 集团 专门 安排 四条 古都 八点 接驳 公交线路 包括 洛阳 龙门 丽景门 洛邑 古城 洛阳 龙门 天堂 明堂 九洲 周王城 广场 洛阳 龙门 王府井 商场 广州 市场 步行街 洛阳 龙门 龙门石窟 景区 郑州 游客 就近 游览 隋唐洛阳城 观赏 天堂 明堂 九洲 绚丽 夜景 老城 十字街 烟火 十足 夜市 洛阳 美食 洛邑 古城 感受 精湛 制作 技艺 观看 丰富 演艺 节目 一步 铁路 部门 开行 安阳 洛阳 商丘 洛阳 高铁 旅游 列车 全力 助推 洛阳 文化 旅游 产业 发展 洛阳 打造 省内 最佳 旅游 目的地 河南人 洛阳 提供 便捷 交通 保障 河南 经济 广播\n",
          "郑蓉 随约 豫向川行 温馨 提示 了解 郑州 东至 成都 始发 旅客 列车车次 G2201 G2203 G2205 G2211 分别 经停 巩义 洛阳 三门峡 西安 汉中 广元 绵阳 德阳 旅游 城市 成都 东至 郑州 始发 旅客 列车车次 G2204 G1888 G1702 G308 G2208 G90 G2210 G2212 重庆 北经 成都 到达 郑州 直通 旅客 列车车次 G1710 全天 往返 郑州 成都 两地 直通 始发 列车 满足 旅客 不同 时段 乘车 需求 成都 小伙伴 高铁 成都\n",
          "一起 行走 洛阳城 洛阳 火车站 施工 变化 旅行 照里 变化 高铁 流行 之前 洛阳 火车站 游客 洛阳 旅游 第一个 接触 地方 洛阳 窗口 合影 如今 洛阳 高铁 到达 洛阳 以前 洛阳 火车站 依然 大家 熟悉 样子 洛阳 地铁 建设 洛阳 火车站 广场 开启 改造 广场 改造 项目 逐渐 进入 尾声 几天 洛阳 最新 效果图 曝光 也许 不久 将来 它会 大变样 近日 洛阳 广场 洛阳 汽车站 交叉口 附近 金谷园 围挡 起来 施工 机械 已经 进入 据说 广场 改造 项目 相关 施工 洛阳 火车站 改造 变化 越来越 期待 洛阳 火车站 完成 改造 样子 期待 洛阳 生活 徒步旅行\n",
          "江河 湖北 高速 湖北 全线贯通 日前 湖北 交投 集团 投资 建设 十堰 淅川 高速公路 湖北 交工 验收 十淅 高速公路 湖北 起于 丹江口市 石鼓 西峡 十堰 高速公路 河南 对接 丹江口市 丁家 营镇 福银 高速公路 衔接 全长 41.079 公里 丹江口水库 大桥 全线 控制性 工程 大桥 全长 主跨 目前 世界 最大 跨径 双塔 双索面 部分 地锚 组合 斜拉桥 十淅 高速公路 湖北 建成 鄂豫 两省 构建 一条 南北向 快速通道 实现 鄂西北 豫西南 快速 直达 串联 洛阳 老君山 丹江口水库 武当山 优质 旅游 景区 完善 国家 区域 高速公路网 布局 推动 沿线 区域 生态 文化 旅游 产业 开发 促进 丹江口 库区 经济社会 高质量 发展 具有 重要 意义 湖北 发布 湖北省 国资委\n",
          "建设 内通 外达 交通枢纽 打造 带动 全省 发展 增长极 当好 先行官 下午 交通局 党组 贯彻 市委 十一届 四次 全会精神 省委 洛阳 提出 加快 建设 中原 城市群 中心 城市 建设 打造 带动 全省 经济 发展 增长极 战略 定位 特别 李亚 书记 会上 交通 工作 提出 加快 建设 全国性 重要 交通枢纽 着力 后植 区域 发展 优势 目标 要求 进行 深入 讨论 谋划 党组 认为 中心 城市 增长极 真正 内涵 经济 高速 发展 而后 带动 辐射 周边 交通运输 更是 起到 决定性 作用 要求 交通 不辱使命 担起 责任 当好 先行 市内 通外 梯次 布局 全面 优化 组网 成环 综合 交通运输 体系 更加 完善 全国性 重要 交通枢纽 地位 进一步 提升 实现 三横三纵 三环 公路交通 更加 发达 目标 重点 完成 四项 任务 一是 打通 通往 周边 所有 出入口 实现 周边 省地市 全部 高速公路 二级 干线 公路 二是 实现 中心 城区 组团 生态县 之间 高速公路 快速通道 二级 干线 公路 相联接 三是 实现 全市 4A 以上 景区 快速 公路 二级 以上 旅游 专线 组团 之间 形成 高速公路 二级 以上 公路 相连接 形成 环线 四是 全市 85% 以上 之间 二级 公路 所有\n",
          "洛阳 身边 河南 旅行 河南 洛阳 栾川县 旅游景点 推荐 很多 小伙伴 栾川 年轻 4A 景区 王府 竹海 度假 旅游区 度假 旅游区 自驾 攻略 收藏 郑州 洛阳 线路 洛栾 高速 九龙山 下站 景区 大门 线路 里程 导航 显示 公里 分钟 实测 不足 分钟 九龙山 至秋 道路 平整 宽敞 景区 大门 道路 稍显 曲折 盘山路 较为 考验 驾驶 技术 当然 沿途 能够 欣赏 一路 山景 田园风光 天气晴好 唯美 公路 大片 栾川县 线路 栾川县 赤土 店镇 肩头 隧道 狮子 庙镇 景区 大门 线路 里程 导航 显示 公里 小时 分钟 实测 导航 显示 基本相同 本条 线路 相对 较为 崎岖 弯道 赤土 镇区 一路 盘山路 全程 比较 考验 司机 驾驶 能力 过五 肩头 隧道 偶遇 一处 农家 纯手工 吊炉 烧饼 强推 一波 小编 实测 美味 景区 消费 门票 景区 交通 往返 景区 农家 食宿 左右 游玩 消费 暂无 王府 竹海 度假 旅游区 这次 交通 攻略 下期 大家 游玩 攻略 大家 需要 我盘 栾川 景区 留言 告诉 洛阳 晚报\n",
          "洛阳 身边 洛阳 公交 扫码 支付 月底 落实 智慧 公交 包含 移动 支付 智能 调度 各个方面 市民 朋友 智能 站牌 手机 客户端 实时 查看 周边 公交站点 线路 车辆 运行 情况 计划 开通 老城 环线 恒大 绿洲 周边 短途 线路 微循环 公交线路 公交 集团 电子 月票 电子 钱包 基础 推出 日卡 周卡 日卡 市民 选择 外地人 来洛 旅游 办事 乘坐 公交车 便利 优惠 换乘 优惠政策 届时 推出 规定 时间 换乘 免费 超出 规定 时间 换乘 可享 折扣 老贾 播报\n",
          "洛阳 公交 集团 获悉 古都 八点 线路 部分 快车 线路 调整 面向社会 征集 意见建议 古都 八点 公交线路 开通 运营 目的 对接 中原 快车 古都 八点 高铁 旅游 列车 推动 经济 发展 目前 线路 已经 常规 线路 全面 覆盖 取消 今后 公交 集团 实际 客流 情况 加密 夜间 发车 密度 减少 车辆 间隔 助力 经济 发展 D1 D3 D55 D58 公交线路 大站 快车 线路 道路 通行 条件 限制 无法 体现 优势 致使 空载 率高 周转 取消 一步 洛阳市 公交 集团 依托 主城区 公交 专用道 主要 客流 走廊 探索 公交 快线 发展 方向 完善 洛阳 公交 快线 网络 布局 此次 公交线路 调整 目的 合理配置 公共资源 提高 公交 通行 效率 利用率 调整 公交线路 公示 期为 日至 日前 欢迎 社会 各界人士 提出 意见 建议 反馈 电子邮箱 lygjyyc com 拨打 公交 热线\n",
          "郑州 出发 感受 高铁 小时 娱乐圈 河南 率先 实现 市市 通高 高铁 郑段 开通 运营 河南 率先 建成 字形 高铁 实现 市市 通高 省会 郑州 中心 中原 城市群 主要 城市 小时 通达 国家 重点 城市群 经济区 实现 小时 通达 国内 高铁 线路 逐渐 完善 高铁 成为 越来越 人们 选择 出游 首选 为此 整理 郑州 出发 小时 省内 高铁 旅游 地图 涉及 安阳 鹤壁 焦作 开封 洛阳 漯河 平顶山 城市 郑在 郑州 出发 高铁 小时 娱乐圈 城市 收藏\n",
          "易居院 研报 重点 城市 城区 人口 年均 增速 排名 城市 省会 城市 东莞 苏州 青岛 是非 省会 城市 省会 城市 相对 完善 基础设施 多元 产业结构 周边 城市 人口 虹吸 效应 较为 明显 省会 战略 带动 城镇化 进程 都市 圈化 特征 明显 海口 排名 第一 海南 省会 城市 旅游业 发达 自贸港 推进 进一步 人口 吸附力 南宁 排名 近几年 东部 打工 群体 回流 武鸣 设区 助增 城区 人口 排名 第三第四 东莞 苏州 两个 城市 分别 比邻 上海 深圳 两个 超大 城市 益于 超大 城市 溢外 红利 东莞 苏州 经济 发达 企业 众多 外向型 经济 特征 吸引 很多 外地 打工 群体 吴江 撤市 设区 助增 苏州 城区 人口 洛阳 重点 城市 唯一 城区 人口减少 城市 属于 河南 大城市 当中 垫底 户籍 口径 城区 人口数量 增加 万人 暂住 人口 万人 暂住 人口减少 估计 省内 商丘 周口 驻马店 信阳 地级市 情况 类似 人口 吸附力 减弱\n",
          "我市 融入 辐射 全省 省辖市 小时 经济圈 郑渝 高铁 开通 运营 平西 朋友圈 越来越 平顶山 郑州 车次 每天 最快 用时 分钟 二等 票价 元至 之间 郑州 东站 高铁 省内 南阳 商丘 周口 洛阳 龙门 省外 北京 上海 珠海 城市 大连 青岛 烟台 威海 知名 旅游 城市 平西 高铁 朋友圈 范围 平顶山 前往 襄阳 二等 票价 小时 襄阳 换乘 汉口 郑州 十堰 武汉 高铁 平顶山 借此 融入 全国 八纵 八横 高铁 网络 有效 融入 辐射 全省 省辖市 小时 经济圈\n",
          "郑州 地铁 开通 大幅度 缓解 城市 交通 压力 出行 上班 方便快捷 增加 就业机会 创业 机会 提升 城市 繁荣 发展 必须 地铁 延伸 开封 逐步 延伸 洛阳 延伸 黄河 以北 新乡 焦作 延伸 许昌 禹州 人口 大幅度 流入 扩大 地盘 形成 真正 郑州 未来 可能 超越 武汉 不断 招商引资 创造 良好 环境 条件 合理 搭配 增加 产业园 提供 就业 引进 科技产业 人才 导向 不断 创新 完善 创造 新格局 新面貌 城市 活力 产业园 商业区 学校 公园 旅游 餐饮 居民区 酒店 相互 匹配 合理 搭配 布局 城市 才能 健康 稳定 发展 郑州\n",
          "旅行 旅游 河南 郑州 简称 古称 商都 河南省 省会 中国 中部 地区 重要 中心 城市 特大城市 国家 重要 综合 交通枢纽 商贸 物流 中心 中原 城市群 中心 城市 国家 园林城市 位居 河南省 中部 偏北 开封 西依 洛阳 北临 黄河 新乡 焦作 相望 南部 许昌 平顶山 接壤 郑州 华夏 文明 重要 发祥地 国家 历史 文化名城 中国 八大 古都 国家 六个 遗址 片区 郑州 历史 五次 中华 人文 始祖 轩辕黄帝 故里 拥有 不可 移动 文物 近万处 世界 文化遗产 全国 重点 文物保护 单位 郑州市 文化 广电 旅游局 郑州 旅游 攻略 郑州 旅游 美食 郑州 发布 绿色 郑州 郑州\n",
          "天地 史话 河南 城市 发展 郑州 特大城市 洛阳 中心 城市 竞争 省内 第三 河南省 内有 众多 城市 排名 第一第二 城市 争议 郑州 省会 城市 人口 将近 万人 城区 人口 万人 上半年 GDP 全国 郑州 已经 一线 城市 特大城市 河南 洛阳 中国 建都 时间 城市 城区 人口 万人 上半年 GDP 全国 洛阳 省内 中心 城市 未来 有望 成为 特大城市 河南省 排名 第三 历来 竞争 激烈 城市 竞争 激烈 南阳 河南 南部 重要 城市 交通枢纽 GDP 排名 仅次于 郑州 洛阳 许昌 河南 中部 重要 城市 坐拥 郑州 新郑 国际 机场 河南 第三个 拥有 地铁 城市 周口 河南 中部 重要 城市 人口 近年来 发展 很快 排名 持续上升 开封 河南 省会 宋朝 都城 旅游 发达 清明 河园 旅游景点 国内 闻名 秋季 菊展 非常 出名 新乡 河南 北部 重要 城市 年代 平原 省会 轻工业 发达 五个 城市 各有 优势 城市 成为 河南 第三\n",
          "用心 事情 用心 努力 事情 城市 经济 发展 不开 本土 文化 当地 历史 文化 浓厚 果实 需要 智慧 发展 城市 经济 选择 发展 城市 经济 这是 眼下 事情 应该 需要 当地政府 事情 更要 同谋 共计 政府 市场 团体 加入 城市 经济 发展 融入 智慧 共同 发展 城市 经济 实打实 发现 城市 经济 一整套 产业链 形成 互享 共享 模式 共接 城市 经济 发展 推广 营销 才能 城市 更要 商业 互享 共享 互利 推广 平台 模式 支撑 城市 经济 发展 目标 更要 做好 做活 做大 做强 做优 做名 一字 值千金 国际 知名品牌 城市 国际标准 旅游 购物 商务 经贸 运动器材 生产 国际 航空港 国际 酒店 标准 管理 培训 保税区 自贸区 自由 出行 城市 经济 发展 整体 布局 规划 城市 经济 发展 前瞻性 更能 融入 未来 城市 经济 发展 模式 长远 思维 创新 大胆 持续 发展 城市 经济 目标 品牌 定位 本土 文化 城市 经济 发展 方式 高效 精准 立足 长远 中国 洛阳 美丽 城市 大有作为\n",
          "开封 公布 密接 轨迹 乘坐 高铁 开封市 祥符 疫情 防控 指挥部 办公室 例新冠 肺炎 密接 人员 活动 轨迹 通告 祥符 人员 某某 巴基斯坦 阳性 人员 某同车 目前 某某 隔离 现将 某某 主要 活动 轨迹 通告 如下 日早 某某 乘坐 高铁 G1900 列车 洛阳 龙门 到达 开封 北站 分张 某某 开封 北站 北站 公交站 乘坐 前往 客运 西站 旅游 路线 支付宝 扫码 支付 上车 收款人 显示 某某 分钟 到达 客运 西站 分在 开封 客运 西站 乘坐 朱仙镇 公交车 左右 姜寨 路口 下车 到家 某某 居家 外出 以上 行程 某某 全程 佩戴 口罩 提醒 广大 居民 上述 时间段 密切接触 立即 主动 属地 疫情 防控 指挥部 报告 居家 等候 不要 外出 隐瞒 造成 后果 依法追究 相关 责任 广大 居民 积极 配合 不必 恐慌 做到 不信谣 传谣 时刻 增强 个人 防护 意识 规范 佩戴 口罩 保持 安全 社交 距离 落实 各项 防控 措施 开封市 祥符 区新冠 病毒 肺炎 疫情 防控 指挥部 办公室 开封 尉氏 公布 密接 活动 轨迹\n",
          "出行 注意 公交线路 有变 合理配置 公共资源 提高 公交 通行 效率 利用率 前期 洛阳 公交 集团 部分 公交线路 调整 方案 予以 公示 期间 社会 各界人士 提出 很多 宝贵意见 建议 感谢您 洛阳 公交 事业 支持 关心 结合 各方 意见 建议 调整 方案 如下 取消 古都 八点 线路 古都 八点 线路 市政府 对接 中原 快车 古都 八点 高铁 旅游 列车 推动 经济 迅速 复苏 开通 线路 目前 线路 常规 线路 全面 覆盖 即日起 取消 古都 八点 线路 公交 集团 实际 客流 情况 加密 夜间 发车 密度 减少 车辆 间隔 助力 经济 发展 取消 部分 快车 线路 D1 D3 D55 D58 线路 大站 快车 道路 通行 条件 限制 拥堵 严重 无法 体现 运营 优势 致使 空载 率高 周转 即日起 取消 线路 一步 公交 集团 依托 主城区 公交 专用道 主要 客流 走廊 探索 公交 快线 发展 方向 完善 洛阳 公交 快线 网络 布局\n",
          "莫名 陕北 好感 看霞姐 应该 三年 真好 之前 大学 坐火车 洛阳 出发 路过 三门峡 灵宝 华阴 渭南 之后 西安 每次 河南 陕西 境内 看到 二里 窑洞 房子 火车 车站 看到 城墙 穿过 城墙 地铁站 火车站 附近 大量 乘客 进站 出站 旅游 公交 乱糟糟 地铁站 对面 创优 有时 进去 逛逛 记得 不用 地铁 应该 不用 直接 后卫 之后 公交 人人乐 超市 附近 蹦蹦 学校 直接 咸阳 打车 学校 怀念 陕西 亲切 好听 砂锅 麻花 自制 辣条 微辣 羊肉 泡馍 好吃 肉夹馍 汤汁 浸入 味儿\n",
          "复古 范儿 电动 铛铛 抵洛 首批 复古 铛铛 珠海 长途跋涉 依次 停放 新区 公交 第一 停车场 截止 全部 抵洛 铛铛 模样 帽子 衣裳 独眼 火车头 大灯 挡风 三块 玻璃 三块 雨刷 一派 复古 元素 车长 10.5 现有 公交车 略宽 一扇 木纹 安装 两块 透明 玻璃 乘客 驾驶室 隔开 前部 一左一右 两个 展示台 陈列 红色 里衬 复古 典雅 木纹 结构 车门 车窗 红色 仿皮 座椅 棕红色 木地板 乘客 仿佛 置身 客厅 车尾 模拟 驾驶舱 一大 亮点 仿古 仪表盘 木制 摇柄 配合 头顶 金黄色 铃铛 宛如 穿越 回到 民国时期 北京 有轨电车 现代 元素 该车 亮点 铛铛 车均 电动 空调车 配置 LED 显示屏 车辆 监控 设备 一应俱全 每辆 万元 从市 公交 集团 获悉 铛铛 重点 投放 龙门石窟 白马寺 两条 旅游 线路 成为 洛阳 一道 靓丽 风景\n",
          "王府 竹海 位于 洛阳市 栾川县 一处 避暑胜地 美丽 风景 充沛 水资源 游客 炎炎夏日 能够 尽情 享受 郑州市 出发 小时 车程 途经 高速公路 山路 欣赏 伏牛山 美景 旅行 花费 大家 关心 焦点 王府 竹海 4A 景区 门票价格 非常 亲民 第三方 平台 景区 停车场 收费 游客 中心 验票 之间 电动 观光车 单程 票价 基本 额外 消费 餐饮 方面 喜好 预算 选择 挑剔 一碗 捞面 满足 口腹之欲 当然 美食 供选择 竹林 虹鳟鱼 竹笋 住宿 方面 选择 百元 农家 宾馆 具有 文艺 气息 民宿 豪华 舒适 木屋 别墅 合适 预算 一定 找到 适合 旅行 套餐 体验 人少 景美 花费 旅行 乐趣 王府 竹海 度假 旅游区 遇见 风景\n",
          "英雄城 交通 汽车 客运 南昌 庐山 牯岭 首条 定制 客运 景区 专线 今起 试运行 南昌 旅行 今日 南昌 交投 集团 旗下 江西 都市 城际 公交 打造 南昌 庐山 牯岭 首条 定制 客运 旅游 景区 专线 试运行 方便 广大 市民 前往 庐山 景区 游玩 据悉 班线 目前 投入 营运 车辆 江铃新 全顺 九座 商务车 票价 人次 包含 景点 门票 费用 每日 开行 一班 后续 客流 灵活 增加 班次 线路 情况 每日 南昌 青山 客运站 始发 南昌 全域 旅游 集散中心 南昌市 洛阳 南昌 长途汽车站 进行 配载 庐山 汽车站 庐山 国际会议中心 返程 途中 开设 门到 点到点 接送 服务 全程 高速 广大 市民 游客 WX 公众 赣悦行 平台 线上 购票 青山 客运站 南昌 长途汽车站 现场 购票 可拨打 咨询服务 电话 具体 需求 私人 定制 团队 旅游 包车 江西 长运 南昌 南昌 长途汽车站\n",
          "美丽 郑少 荣获 第四届 交通运输 企业 十佳 文化 品牌 郑州 少林寺 高速公路 全长 53.664 公里 河南省 黄金 旅游 三点一线 郑州 开封 洛阳 黄河 沿岸 精品 旅游 被誉为 河南省 第一条 旅游 高速 国家级 中心 城市 郑州 通往 豫西南 方向 主要 高速 通道 风雨兼程 郑少 高速 历经 开通 建设期 快速 发展期 提升 规范 深耕细作 凝练 美丽 郑少 品牌 打造 美好 出行 延伸 郑少 幸福生活 传递 七大 节假日 特色 服务 开创性 建设 河南省 首家 5G 共享 服务 驿站 引入 ETC 自助 处理 终端 坐席 进一步 探索 智慧 数字 标准化 收费站 创新 举措 逐步 美丽 郑少 建设 成为 省内 国内 优秀 高速 品牌 美丽 郑少 先后 获得 国家级 青年文明 首届 最美 中国 景观 最美 中国 路姐 团队 河南省 示范 收费站 养护 示范 首批 产业 示范性 劳模 工匠 人才 创新 工作室 工人 先锋号 百余 荣誉 中国 交通 报社 中国 交通 报刊 协会 联合 举办 交通 强国 品牌 力量 第四届 交通运输 优秀 文化 品牌 推选 活动 荣获 企业 十佳 文化 品牌 荣誉 河南 法治 频道\n",
          "18210677547GPS 定位器 gps 车辆 定位 管理系统 金融 风控 GPS 车辆 定位 监控 洛阳 校车 gps 定位器 正品 安全可靠 洛阳 业务 车辆 定位系统 正品 安全可靠 洛阳 机械 gps 定位器 正品 安全可靠 洛阳 OBD 插口 gps 正品 安全可靠 洛阳 危险品 车辆 GPS 定位 正品 安全可靠 洛阳 汽车 GPS 位置 查询 正品 安全可靠 洛阳 货运 车辆 GPS 定位 正品 安全可靠 洛阳 GPS 汽车 定位 查询 正品 安全可靠 洛阳 路拉 货车 gps 正品 安全可靠 洛阳 旅游车 gps 正品 安全可靠 洛阳 汽车 gps 定位器 正品 安全可靠 洛阳 车载 gps 定位系统 正品 安全可靠 洛阳 汽车 GPS 定位系统 安装 正品 安全可靠 洛阳 全球 gps 定位系统 正品 安全可靠 洛阳 汽车 gps 管理系统 正品 安全可靠 洛阳 混凝土 定位系统 安装 正品 安全可靠 洛阳 租车 gps 定位器 正品 安全可靠 洛阳 听音 gps 定位器 正品 安全可靠 洛阳 路免 安装 gps 正品 安全可靠 洛阳 车载 gps 定位器 安装 正品 安全可靠\n",
          "洛阳 爆料 洛阳 身边 明天 洛阳 公交 旅游 专线 优化 调整 游览 关林 龙门 便捷 助力 洛阳 旅游 经济 发展 进一步 加强 关林庙 龙门石窟 景区 对接 日起 优化 调整 关林庙 公交 枢纽站 发车 关林路 龙门 大道 到达 龙门石窟 回程 去程 运营 线路 一致 优化 调整 不再 途经 高铁 龙门 乘坐 乘客 承担 运送 ps V9 洛阳 公交线路 兄弟 V9 服务 高铁 关林 龙门 公交线路 调整 相关 公交线路 分工 V9 高铁 龙门石窟 往返 关林庙 龙门石窟 往返 关林庙 龙门石窟 高铁 关林庙 综合 来源 洛阳 公交 集团 洛阳 公交 平台\n",
          "洛阳 洛阳 身边 洛阳 栾川 嵩县 家门口 铁路 洛阳 这次 迎来 好消息 洛十 铁路 洛阳 十堰 极力争取 列入 十四五 规划 当中 途径 嵩县 栾川县 两个 旅游 名城 栾川 嵩县 家门口 铁路 时速 洛十 铁路 河南 境内 走向 宜阳县 洛宜 铁路 西南 方向 引出 汇聚 三洋 铁路 宜阳 南站 继续 向南 引出 途径 董王庄 大坪 嵩县 进行 途径 大章 旧县 潭头镇 重渡村 设立 站点 朝西南 方向 跨越 伊河 设立 栾川 东南 方向 绕开 鸡冠 景区 穿过 伏牛山 抵达 南阳市 西峡县 全长 公里 当然 最后 淅川县 接入 湖北 十堰 铁路线 规划 填补 洛阳 缺少 西南 方向 铁路 空白 洛阳 发展 意义 十分 重大 洛阳\n",
          "新闻资讯 今天下午 中国 河南 自由贸易 试验区 产业 项目 推介会 郑州 举行 河南 自贸区 实施 范围 119.77 平方公里 共分 片区 郑州 片区 73.17 平方公里 开封 片区 19.94 平方公里 洛阳 片区 26.66 平方公里 功能 布局 三个 片区 统筹 协调 各有 侧重 郑州 片区 重点 促进 交通 物流 融合 发展 投资 贸易 便利化 方面 推进 体制 机制 创新 打造 多式 联运 国际性 物流 中心 发挥 服务 一带 一路 建设 现代 综合 交通枢纽 作用 开封 片区 重点 构建 国际 文化 贸易 人文 旅游 合作 平台 打造 服务 贸易 创新 发展 和文 产业 对外开放 先行 促进 国际 文化 旅游 融合 发展 洛阳 片区 重点 提升 装备 制造业 转型 升级 能力 国际 产能 合作 能力 打造 国际 智能 制造 合作 示范区 推进 华夏 历史 文明 传承 创新 建设 河南省委 省政府 高度重视 自贸 试验区 建设 去年 正式 挂牌 挂牌 一年 河南 自贸 试验区 入驻 企业 超过 万家 注册资本 亿元 注册 企业 数约 全省 同期 新增 企业 外资企业 合同 利用外资 10.8 亿美元 实际 利用外资 8.1 亿美元 入区 国内外 企业 全省 48.1% 河南 经济 广播 晓晖\n",
          "中欧 班列 国际 铁路 重新认识 襄阳 襄阳 北站 地处 鄂西北 历史 文化名城 湖北省 大城市 襄阳 始建 襄阳 北站 现为 特等 路网 双向 纵列 三级 七场 特等 编组站 中国 九大 铁路 编组站 亚洲 最大 单向 纵列 铁路 编组站 中国 铁路运输 八纵 八横 网络 核心 枢纽 担负 汉丹 焦柳 襄渝 三条 铁路干线 五个 方向 郑州 重庆 柳州 洛阳 丹江 列车 解编 工作 全国 路网 编组站 该站 进出 咽喉 北煤 南运 重要 通道 连通 山区 铁路 平原 铁路 常速 铁路 高速铁路 中部 铁路 西部 铁路 缓冲区 过渡带\n",
          "紫牛 新闻 小伙 澳门 公交 北京 人们 习惯 乘飞机 高铁 快节奏 交通工具 公交车 旅游 成都 小伙 强哥成 网红 第一次 公交 出游 上海 大连 心爱 姑娘 表白 第一次 旅行 经验 陆续 杭州 西安 杭州 洛阳 公交 中国 行程 强哥 开启 公交 中国 第四季 旅程 澳门 出发 乘坐 途经 城市 全程 公里 最后 抵达 北京 接受 扬子晚报 紫牛 新闻记者 采访 强哥 一次 旅程 献礼 中国共产党 成立 周年 牛头 小伙 澳门 公交 北京 紫牛 新闻\n",
          null
         ],
         "marker": {
          "opacity": 0.5,
          "size": 5
         },
         "mode": "markers+text",
         "name": "5_高铁_公交_城市",
         "text": [
          "",
          "",
          "",
          "",
          "",
          "",
          "",
          "",
          "",
          "",
          "",
          "",
          "",
          "",
          "",
          "",
          "",
          "",
          "",
          "",
          "",
          "",
          "",
          "",
          "",
          "",
          "",
          "",
          "",
          "",
          "",
          "",
          "",
          "",
          "",
          "",
          "",
          "",
          "",
          "",
          "",
          "",
          "",
          "",
          "",
          "",
          "",
          "",
          "",
          "5_高铁_公交_城市"
         ],
         "textfont": {
          "size": 12
         },
         "type": "scattergl",
         "x": [
          6.2944722175598145,
          7.417093753814697,
          7.359307289123535,
          7.477438926696777,
          7.0284104347229,
          5.9680657386779785,
          7.340161323547363,
          6.897729873657227,
          7.027385711669922,
          6.3020148277282715,
          6.792464733123779,
          6.931824684143066,
          6.811607837677002,
          7.210777759552002,
          6.2279744148254395,
          6.266252517700195,
          6.467973709106445,
          6.867656230926514,
          7.011959075927734,
          6.233896732330322,
          7.504461288452148,
          6.301873207092285,
          6.282166957855225,
          6.3886308670043945,
          6.808465480804443,
          7.629283428192139,
          6.95032262802124,
          6.042539596557617,
          6.021907806396484,
          7.006858825683594,
          7.775423049926758,
          7.139606952667236,
          7.504179954528809,
          7.2298431396484375,
          7.700563430786133,
          7.7874908447265625,
          6.202769756317139,
          6.100124359130859,
          6.461239337921143,
          6.0854387283325195,
          7.566536903381348,
          6.960689544677734,
          6.923659801483154,
          6.362849712371826,
          6.272403240203857,
          6.321924209594727,
          7.063661575317383,
          6.393681526184082,
          6.983484745025635,
          6.810337543487549
         ],
         "y": [
          8.916144371032715,
          9.248895645141602,
          9.065673828125,
          10.154001235961914,
          9.529743194580078,
          8.902499198913574,
          8.667658805847168,
          8.779922485351562,
          8.856276512145996,
          8.796792984008789,
          9.138073921203613,
          9.353944778442383,
          9.158726692199707,
          8.938014030456543,
          8.939884185791016,
          8.79910945892334,
          9.025952339172363,
          8.61931324005127,
          9.407443046569824,
          8.901881217956543,
          9.096365928649902,
          8.76762866973877,
          8.761299133300781,
          8.854425430297852,
          9.15303897857666,
          8.553380012512207,
          9.396625518798828,
          9.04057502746582,
          8.975457191467285,
          8.84360408782959,
          8.643148422241211,
          9.057963371276855,
          8.706547737121582,
          8.974078178405762,
          8.645506858825684,
          8.666380882263184,
          8.838293075561523,
          8.95726490020752,
          9.194446563720703,
          8.942560195922852,
          10.357240676879883,
          8.819026947021484,
          9.231660842895508,
          9.025079727172852,
          8.898009300231934,
          8.898384094238281,
          8.734527587890625,
          8.791526794433594,
          8.965224266052246,
          8.99977970123291
         ]
        },
        {
         "hoverinfo": "text",
         "hovertext": [
          "跟着 风起 洛阳 一座 成全 一部 电视剧 风起 洛阳 热播 风起 洛阳 取景 洛阳 华夏 文明 发祥地 历史 文化 风俗 特色 风景名胜 数不胜数 联合 河南日报 洛阳 晚报 发起 眼中 洛阳 跟着 风起 洛阳 话题 活动 一起 感受 风起 洛阳 恢弘 磅礴 古城 即日起 题词 眼中 洛阳 分享 洛阳 视觉 味觉 触觉 体验 追剧 沉浸 体检 洛阳 文化 旅游 魅力 图文 形式 参与 话题 讨论 机会 获取 洛阳 热门 景点 门票 起来 分享\n",
          "洛阳 公交 一条 古迹 遗存 名人 故里 深度 游线 洛阳 旅游 攻略 花开 洛阳 青春 西关 站位 丽景门 地铁站 九龙 丽景门 城隍庙 老集 站位 安国 青年宫 站位 青年宫 地铁站 老城 十字街 夜市 明福 王府 石狮子 阶石 中州 东路 民主 街口 站位 洛邑 古城 文峰塔 妥灵宫 金元 洛阳 故城 城墙 新潭 遗址 鼓楼 第一 人民 医院 站位 铜驼 暮雨 洛阳 八大 最后 一景 潘寨 村西 站位 苏秦 相公 庄东 站位 吕蒙正 故里 公交 洛阳 景点 古迹 系列 雨辰 洛城\n",
          "周三 周日 穿街 走巷 泉州 深度 品味 刺桐 文化 走访 行程 周三 泉州 酒店 五星 集合 周四 穿街 走巷 老城区 西街 开元寺 文庙 后城 清净寺 关岳庙 周五 穿街 走巷 海交馆 圣墓 市舶司 天后宫 城南 周六 包车 洛阳桥 浔埔村 草庵 安平桥 落日 周日 包车 永宁 古城 杨家 大楼 机场 主讲 老师 洪峰 泉州 古建筑 修复 专家 古建筑 研究 学者 泉州 老李 泉州 文化 爱好者 古城 讲解员 培训 导师 十八 掌柜 一茶 书房 主人 费用 讲课费 住宿费 餐费 车费 包含 泉州 交通 消费 欢迎 大家 报名 报名 WX\n",
          "洛阳 旅游 推荐 洛阳 旅游 编辑部 嵩县 旅游 张相正 全景 洛阳 河南 旅游 生活 杂志 洛阳市 旅发委 吉祥 洛阳 洛阳 洛城 视野 洛阳城 旅游 攻略 洛阳 玩乐 攻略 河南 旅游 千年 银杏 白云 盛景 洛阳 嵩县 白云山 第九届 银杏 文化节 主题 活动 隆重开幕 金风 锦杉 一生 炫彩 开颜 上午 银杏 金黄 颜色 深秋 致敬 洛阳 嵩县 白云山 第九届 银杏 文化节 主题 活动 洛阳 白云山 旅游 度假区 铜河 游客 中心 隆重开幕 本次 活动 千年 银杏 白云 盛景 主题 嵩县 人民政府 主办 白河 人民政府 洛阳 白云山 旅游 度假区 承办 洛阳 白云山 旅游 度假区 白河 镇政府 联合 举办 此次 银杏 推出 以下 惠民 政策 日至 期间 凡购 云岩寺 乘车 可免 白云山 景区 门票 白云山 游客 免费 游览 五马 千年 银杏 千年 银杏 白云 盛景 洛阳 嵩县 白云山 第九届 银杏 文化节 主题 活动 隆重开幕\n",
          "洛阳 旅游 编辑部 嵩县 旅游 张相正 全景 洛阳 河南 旅游 生活 杂志 洛阳市 旅发委 吉祥 洛阳 洛阳 洛城 视野 洛阳城 旅游 攻略 洛阳 玩乐 攻略 河南 旅游 云雾 洛阳 白云山 美成 一幅 浓郁 水墨 山水画 连绵 细雨 也许 不少 感到 厌倦 其实 过雨后 白云山 有多美 一场 大雨 过后 白云山 旅游 度假区 风景 美如画 显得 格外 独特 白云山 四周 山峰 树木 更加 青翠 鲜亮 雨后 白云山 群瀑 飞流 溪水 欢歌 山清水秀 空气清新 白云山 正式 开启 雨季 震撼 模式 景区 云雾 缭绕 云山 幻影 宛若 仙境 连续 几天 大雨 之后 九龙 大峡谷 大小 瀑布 竞相 活跃 大雨 洗礼 瀑布 显得 活力 水声 作响 仿佛 告诉 人们 欣赏 雄伟壮观 景色 云雾 包围 白云山 若隐若现 奇峰 远远望去 美不胜收\n",
          "本地 攻略 十一 洛阳 九洲 池品 诗词 大戏 穿越 十一 准备 央视 中秋 晚会 录制 地神 洛阳 准错 不了 秋天 第一杯 奶茶 洛阳 水席 别忘了 女皇 武则天 皇家 后花园 九洲 打卡 _# 十一 隋唐 穿越 大戏 沉浸 大型 实景 演出 神都志 幻唐 之夜 get 看点 NPC 玩家 游乐 大唐 南市 上官婉儿 欣赏 水幕 演出 喷火 表演 杂技 演出 再现 大唐 盛世 强烈 安利 种草 诗词 中秋 特别节目 秋夜 黄河 九洲 诗词 诵读 共赴 一场 传统 诗词 文化 盛宴 公开课 Tips 洛阳 亲友 如相问 一片冰心 玉壶 洛阳 不整 几句 古诗词 不好意思 打卡 洛阳 十一 哥哥 小姐姐 起来 一起 邂逅 隋唐 洛阳 旅游 全景 洛阳\n",
          "考古 书当 旅游 自驾 指南 大地 文章 本书 文章 作者 李零 行走 山西 陕西 甘肃 古代 上党 西河 雍州 实地考察 寻访 古迹 后写 文章 考古 离不开 地理 文献 各类 文献 历代 引用 注释 讹传 笔误 很多 身临其境 才能 发现 文献 是否 准确 本书 自驾 旅游指南 来读 从中 总结 三条 自驾 线路 第一条 周灭商 路线 先是 统一 周地 西安 宝鸡 中心 陕西 中部 兼并 夏地 向东 进入 洛阳 郑州 一线 河南 最后 直取 商王畿 山西 太行 进入 安阳 太行 八陉游 第二条 山西 陕西 北部 内蒙古 交界 古长城 边城 访古 一线 古代 北方 民族 中原 华夏 各国 相争 之地 最能 追思 中华民族 文化 包容性 有种 身处 两千年 情境 恍惚 第三条 关中 甘肃 雍州 自驾游 敦煌 河西走廊 祁连山 循着 秦人 崛起 路线 一路 到达 宝鸡 书中 走路 埋头 走路 读书 出发 前要 功课 路上 记日记 回来 还要 整理 核对 自驾游 功课 最美 风景 最好 路线 行万里路 读万卷书 只行 不读 别人 吹牛 费劲 自驾游 旅行 自驾游\n",
          "洛阳 旅游 推荐 洛阳 旅游 编辑部 嵩县 旅游 张相正 全景 洛阳 河南 旅游 生活 杂志 洛阳市 旅发委 吉祥 洛阳 洛阳 洛城 视野 洛阳城 旅游 攻略 洛阳 玩乐 攻略 河南 旅游 嵩县 吃喝玩乐 旅行 小册子 公告 洛阳 白云山 旅游 度假区 恢复 开园 正常 营业 欢迎 小伙伴 前来 赏景 滑雪 天气 已经 放晴 山路 积雪 清扫 完毕 洛阳 白云山 旅游 度假区 今日 开园 接待 游客 将雪后 美丽 风景 游客 开放 精彩 滑雪 项目 等候 大家 温馨 提示 天气 放晴 海拔 市内 温差 较大 建议 前来 赏雪 小伙伴 多带 衣物 防滑 鞋子 注意 防寒保暖 景区 客服 电话 66586666O 公告 洛阳 白云山 旅游 度假区 恢复 开园 正常 营业 欢迎 小伙伴 前来 赏景 滑雪\n",
          "洛阳 身边 秀美 栾川 老君山 白云山 眉山 旅游 项目 入选 国家 优选 旅游 项目 名录 近日 从市 旅发委 获悉 国家旅游局 近日 印发 全国 优选 旅游 项目 名录 通知 洛阳 白云山 国家 旅游 度假区 老君山 文化 生态旅游 度假区 游览区 基础设施 项目 眉山 景区 提升 工程项目 入选 国家 优选 旅游 项目 名录 全国 优选 旅游 项目 国家旅游局 国家开发银行 银行 共同 组织 专家 遴选 综合 考虑 项目 成熟度 开工 条件 市场前景 示范 引领 带动 作用 今年 确定 旅游 项目 我省 旅游 项目 入选 全国 优选 旅游 项目 获得 国家 旅游 发展 基金 贷款 贴息 资金 优先 支持 入选 名录 旅游 项目 获得 省级 旅游 部门 相关 金融机构 优先 支持 项目 单位 推动 优选 旅游 项目 落地 协调 解决 项目 投融资 程中 获得 招商 融资 方面 支持\n",
          "洛阳 旅游 编辑部 嵩县 旅游 张相正 全景 洛阳 河南 旅游 生活 杂志 洛阳 洛阳市 旅发委 一份 夏日 大礼包 快点 相信 小伙伴 不少 银行卡 夏天 是不是 带上 银行卡 起来 一张 银行卡 带上 享受 旅行 优惠 大礼包 绝对 清凉 一夏 活动 时间 即日起 活动 内容 活动 期间 郑州 银行 信用卡 持卡人 洛阳 白云山 旅游 度假区 刷卡 购票 享受 一赠 活动 单卡 最高 赠送 门票 仅限 购买 当日 门票 活动 共计 赠送 门票 总数 数量 有限 先到 先得 咨询电话 活动 时间 即日起 活动 内容 活动 期间 郑州 银行 信用卡 刷卡 住宿 瑞贝卡 度假 酒店 指定 房型 低至 白云 度假 酒店 指定 房型 低至 森林 度假 木屋 指定 房型 低至 咨询电话 瑞贝卡 度假 酒店 白云 度假 酒店 森林 度假 木屋 66566699O\n",
          "文旅 河南 Hello 世界 外国 嘉宾 河南 印象 河南 历史 文化 圈粉 无数 日本 特别 喜欢 洛阳龙门石窟 登封 少林功夫 来自 日本 志摩 市长 竹内 千寻 德岛 第二副 市长 丰井泰雄 告诉 河南 有着 悠久 历史 名胜古迹 优秀 传统 文化 这次 河南 河南 传统 文化 吸引 相信 日本 人会 优秀 传统 文化 来到 河南 旅行 丰井泰雄 非常 喜爱 中国 文化 特别 中国 传统 文化 三次 来到 河南 专程 参观 龙门石窟 少林功夫 享誉 世界 文化 遗址 河南 有着 浓厚 历史 氛围 研究 中国 历史 文化 河南 必须 要来 地方 文旅 河南 Hello 世界 外国 嘉宾 河南 印象 河南 历史 文化 圈粉 无数 日本\n",
          "奥克斯 空调 四季 新风 品鉴 日至 奥克斯 空调 四季 新风 品鉴 系列 活动 洛阳 武汉 长沙 三城 圆满 举行 奥克斯 空调 品牌 代表 当地 合作伙伴 受邀 嘉宾 一同 出席 共同 打卡 十三 古都 洛阳 文化 新风 江城 武汉 田园风光 于星城 长沙 筑梦 启航 探享 一场场 别致 四季 新风 鲜氧之旅 助力 新风 空调 普及 更好 拥抱 零售 奥克斯 空调 近期 推出 创新 力作 本次 品鉴 系列 活动 四季 新风 空调 秉持 独立 新风 小时 全屋 换鲜 核心 产品 主张 急速 新风 智慧 母婴 HEPA 净化 除菌 三大 核心 产品 力于 一身 新风 速度 送风 轻柔 干净 用户 打造 鲜氧 充盈 室内环境\n",
          "女儿 同学 女儿 同学 新加坡国立大学 生物学 硕士 积极 备考 可能 保送 就读 博士 奖学金 留学生 郭释 春节 微信 妻子 五月 底要 回老家 陕西 宝鸡 借时 洛阳 看望 同学 女儿 陈谦一 妻子 随机 回信 表示 欢迎 告诉 心情 复杂 极为 赞同 一转眼 临近 五月 没少 筹划 安排 远道 前来 看望 亡故 同学 有情有义 客人 昨天 恰巧 一天 前天 微信 恰巧 昨天 我忧豫 再三 前段 海南 调得 未补 眼下 不好 张口 反正 来日方长 只能 小小 失礼 一次 一天 学校 忐忑不安 水彩 肖像 示范 练习 水准 低得 吓人 中午 妻子 高铁 接上 附近 饭店 就餐 打电话 郭释 晚上 赶回去 返程票 心急如焚 原先 旅游 吃饭 设计 安排 全成 泡影 下午 下课 十分钟 实在 坚持 下去 交代 代表 匆匆 往家 赶奔 郭释 2018.5 下午\n",
          "十一 长假 玩转 洛阳 秘籍 神曲 地主 霸王餐 十一 洛阳 旅游 推荐 十一 洛阳 南环路 新增 玩乐 好去处 玩转 精彩 天乐 十八 狂欢 活动 物质 文化遗产 海神 演奏 河洛 大鼓 讲故事 民间 奇人 绝技 表演 霸王餐 免费 现场 火爆 地主 田园风光 农耕地 天天 转发 记录 即可 获得 颐龙 仙谷 十八 免费 福利 免费 参与 __ 十八 屯邀 国庆 精彩 不断 转发 免费 参与 现场 活动 线路 百度 地图 颐龙 仙谷 十八 休闲 旅游 度假区 即可 导航 到达\n",
          "洛阳 旅游 推荐 洛阳 旅游 编辑部 嵩县 旅游 张相正 全景 洛阳 河南 旅游 生活 杂志 洛阳市 旅发委 吉祥 洛阳 洛阳 洛城 视野 洛阳城 旅游 攻略 洛阳 玩乐 攻略 河南 旅游 相约 洛阳 嵩县 白云山 第九届 银杏 文化节 共赴 一场 金色 盛宴 每年 秋风 一起 一片片 银杏叶 由绿转 它用 金黄 颜色 深秋 致敬 秋风 美的 捕捉到 深秋 艳丽 色彩 随风飘 落而下 精灵 悄悄 打造 金黄 童话世界 洛阳 嵩县 白云山 第九届 银杏 文化节 大家 如期而至 带上 相机 洛阳 白云山 一场 银杏 之约 邂逅 深秋 一抹 惊艳 相约 洛阳 嵩县 白云山 第九届 银杏 文化节 共赴 一场 金色 盛宴\n",
          "行走 河南 阅见 美好 一镜 到底 白居易 一起 喝茶 听曲 白居易 喝酒 老婆大人 管教 种种 奇幻 般的 镜头 昨日 洛阳 白园 发生 网友 纷纷表示 白居易 老先生 一席话 胜读 十年 河南 原来 二十六日 下午 洛阳 举办 行走 河南 阅见 美好 书本 旅行 系列 活动 第一期 寻梦 直播 综艺 活动 白园 举行 白居易 老先生 穿越时空 应邀而来 鸟语花香 园林 白居易 老先生 现代 著名作家 王小朋 先生 时而 谈诗论 喝茶 听曲 时而 谈古论今 传道受业 解惑 时而 讨论 人生 感叹 生活 点滴 两位 大佬 引经据典 谈话 内容 人生 百态 贯穿 河南 洛阳 千年 文化 一句 行走 百科全书 不足以 形容 两位 大佬 文化底蕴 以后 读书 好书 网友 观看 直播 深情 共振 寻美 中国 青竹\n",
          "银川 生活 开行 银川 吉首 湛江 桂林 宜昌 旅游 列车 银川 客运段 获悉 开行 银川 吉首 湛江 桂林 宜昌 旅游 列车 历时 小时 分钟 次列车 银川 始发 青铜峡 中卫 中卫 平凉 洛阳 襄阳 张家界 抵达 旅游 专列 第一站 吉首 停留 小时 在此期间 旅客 置身 湘西 特色 民居 吊脚楼 感受 壮美 传统 建筑 品味 酸辣 湘西 正宗 味道 列车 驶离 吉首 怀化 八斗 柳州 玉林 抵达 港城 湛江 停留 小时 旅客 追寻 雷州 文化 足迹 领略 遂溪 孔子 文化城 岭北 螺岗 小镇 骑楼 建筑群 大美 风光\n",
          "洛阳 青春 洛阳 十一 游玩 攻略 十一 长假 洛阳 跟着 小姐姐 一起 打卡 适合 年轻人 网红 街区 广州 市场 打卡 拍照 吃吃喝喝 更绝 惊险刺激 本子 超多 迷案 推理 晚上 适合 群体 闺蜜 情侣 同学 游玩 小时 推荐 指数 十秒 包袱 氛围 超强 洛阳 本土 脱口秀 喜剧 小赏 洛阳 地道 下次 机车 工厂 大盘鸡 偶遇 史炎 老师 适合 群体 伙计 闺蜜 游玩 半小时 推荐 指数 ------------------------------ 小姐姐 脱口秀 开启 广州 市场 模式 汉堡 烤串 酸奶 简直 不要 太爽 带上 闺蜜 伙计 广州 市场 打卡 洛阳 旅游 洛阳 广州 市场 步行街 全景 洛阳\n",
          "足球彩票 旅游 推广 本报讯 足球彩票 旅游 推广 活动 期间 参加 抽奖 活动 彩民 朋友 机会 获得 旅游 大奖 活动 时间 拟定 日至 期间 开展 足球彩票 旅游 推广 抽奖 活动 每周 开展 参与 条件 活动 期间 购买 中国 体育彩票 传统 足彩 胜负 游戏 任选 游戏 场半 全场 游戏 进球 游戏 竞彩 足球 玩法 单票 金额 达到 以上 参与 每周 抽奖 活动 单人 参与 不限 张数 每张 符合条件 彩票 参与 抽奖 奖品 设置 每周 抽奖 每名 奖品 郑州 三亚 往返 直飞 精品 双人 日游 旅游 体验 活动 开展 抽出 旅游 体验 活动 最终 解释权 河南省 体育彩票 管理中心 所有\n",
          "自驾游 旅行 蚂蜂 自由 攻略 秋天 河南 玩儿 河南 发布 六条 旅游 线路 穿越 自驾 探险 拾遗 线路 涉及 城市 景点 郑州市 河南 博物院 河南 戏剧 幻城 嵩山少林寺 开封市 清明 河园 洛阳市 隋唐洛阳城 龙门石窟 老君山 白云山 线路 自驾 云中 高速 之旅 近日 伏牛山 区尧 栾西 高速 正式 开通 高速 贯穿 伏牛山 腹地 全长 48.4 公里 海拔高度 之间 高差 以上 自驾游 不可 忽视 潮流 声嘶力竭 吆喝 门票 醒醒 大连\n",
          "高速 人去 皇城 相府 能省 一笔 节后 上班 福利 任性 皇城 相府 晋城 市民 放大 四个 景区 一场 门票 近日 皇城 相府 外地 游客 福利 长治 临汾 洛阳 济源 四个 城市 游客 皇城 相府 旅游 报销 高速 过路费 时间 正月初七 正月 十六 活动 城市 长治 临汾 洛阳 济源 活动 内容 长治 临汾 洛阳 济源 自驾 游客 正月初七 正月 十六 驾到 皇城 相府 旅游 购买 皇城 相府 景区 门票 当天 过路费 发票 报销 单程 高速 路桥费 活动 说明 本次 活动 自驾车 参与 旅行社 团队 户外 团队 仅限 七座 以下 车辆 过路费 发票 显示 高速 进口 必须 车牌 归属 一致 归属 地到 景区 最优 线路 不得 故意 绕行 出站 景区 附近 出口 游客 前台 办理 时需 出示 当天 过路费 发票 ETC 客户 不能 参与 活动 如需 参加 走非 ETC 通道 出示 票据\n",
          "宜阳 生活 滨河 之声 宜阳县 第十七届 滨河 之声 广场 文化 活动 今晚 隆重开幕 一个月 精心 筹备 宜阳县 第十七届 滨河 之声 群众性 系列 广场 文化 活动 隆重开幕 来自 我县 自编自演 文艺节目 层层 筛选 优秀 节目 脱颖而出 荣登 滨河 之声 舞台 全县 群众 送上 一道 文化 大餐 本届 滨河 之声 活动 中共 宜阳 县委 宜阳县 人民政府 主办 中共 宜阳 县委 宣传部 宜阳县 文化 广电 科技局 承办 文化馆 具体 组织 实施 活动 紧紧围绕 弘扬 主旋律 文化 进万家 这一 主题 大力开展 内容 丰富 形式多样 文艺活动 丰富 全县 群众 精神 文化 生活 宜阳 公共 文化 服务 开幕式 节目 先睹为快 洛阳 宜阳县 城关镇\n",
          "洛阳城 美哩 河洛 文化 旅游节 老城区 活动 洛阳市 老城区 宣传部 获悉 河洛 文化 旅游节 老城区 系列 活动 日至 举行 河洛 文化 旅游节 老城区 系列 活动 中共 老城区 老城区 人民政府 主办 围绕 文旅文 创成 支柱 打造 梦里 盛唐 洛邑 恢弘 盛景 树立 老城 记忆 文旅文创 品牌 策划 安排 市井 老城 演艺 历史 首届 老城 演艺 文化 艺术节 老城 记忆 文化 创意 老城 记忆 第四届 中原 饮食文化 洛阳 味道 美食节 梦里 盛唐 洛邑 唐潮 吉市 河洛 大鼓 曲艺 美哩 河洛 文化 旅游节 老城区 活动\n",
          "美丽 河南 文化 旅游 郑州 巩义 旅游 直通车 即将 发车 郑州 市民 轻松 巩义 今天上午 巩义市 文物 旅游局 分别 河南 旅游 集团 郑州 河南 旅游 百事通 郑州 河南 中州 国际 旅行社 郑州 河南 南湖 国际 旅行社 郑州 洛阳 康辉 旅行社 洛阳 开封 康辉 旅行社 开封 焦作 浣溪沙 旅行社 焦作 旅行社 签订 巩义市 旅行社 战略 合作 协议 巩义 直通车 合作 协议 双方 加快 巩义 旅游 突破 发展 实现 合作 共赢 提出 具体意见 建议 月份 每周六 周日 旅行社 直通车 巩义 旅游\n",
          "花式 种草 三岁 旅行 旅游 旅游 尤物 一姐 尤物 草菌 投稿 私信 洛阳 最美 民宿 苏木 民宿 古都 一家 很少 预订 民宿 萌萌 店名 苏木 民宿 古都 坐标 洛邑 古城 对面 小区 斜眼 预订 小猪 爱彼迎 榛果 价格 不同 时间 不同 价格 房间 两室 一厅 区内 小时 安保 门禁 投影 全自动 洗衣机 吊椅 高层 河景 暖气 房间 距离 洛邑 古城 散步 距离 距离 洛邑 古城 著名 十字街 夜市 不到 公里 距离 花园 丽景门 龙门石窟 白马寺 中间 适合 家庭 出行 朋友 闺蜜 小聚 美到 不像话 斜眼 三岁 旅行家\n",
          "爱心 播报 特殊 来电 见证 栾川 旅游 温度 点赞 综合 管理部 苏佳欣 中午 左右 办公室 值班 接到 工委 打来 电话 激动 表扬 景区 员工 电话 落实 综合 管理部 苏佳欣 苏佳欣 菩提树 广场 值班 期间 看到 一辆 私家车 钥匙 未拔 联系电话 苏佳欣 钥匙 拔掉 便条 车上 车主 下山 后到 车前 看到 一幕 车主 打电话 工委 表扬 苏佳欣 再此 苏佳欣 这种 工作 态度 值得 员工 学习 景区 服务 添砖加瓦 洛阳 豫见 栾川 栾川 旅游\n",
          "河图 报道 第九届 河洛 大鼓 曲艺 节在 洛邑 古城 开幕 演出 现场 伊洛 碧波 起舞 颂歌 洛阳 十三 古都 伴着 悠扬 动听 河洛 鼓声 洛邑 古城 内盏 俏丽 洛阳 宫灯 第九届 河洛 大鼓 曲艺 昨日 拉开帷幕 洛阳 河洛 文化 旅游节 一项 文化 惠民 活动 本月 日至 每天 分至 第九届 河洛 大鼓 曲艺 持续 精彩 呈现 市民 免费 进入 位于 老城区 东路 柳林 交叉口 北侧 洛邑 古城 观灯 演出 一手 执月 牙板 一手 鼓槌 唱者 立于 鼓前 故事 伴奏者 拉着 坠胡 旋律 欢快 激昂 演出 现场 河洛 大鼓 省级 传承 人张 怀生 带来 洛阳人 最美 河洛 大鼓 市级 传承 李占土 带来 河南 河洛 大鼓 市级 传承 人牛 小枝 带来 吕蒙正 教书 精彩节目 赢得 观众 阵阵 掌声 往届 不同 本届 河洛 大鼓 曲艺 举办 期间 展出 各类 洛阳 宫灯 洛阳 宫灯 洛阳 宫灯 传承 人王 建水 精心制作 伴着 悠扬 河洛 鼓声 洛邑 古城 古色古香 建筑 韵味 十足 洛阳 宫灯 交织 一起 游人 穿梭 其间 仿佛 置身 画中\n",
          "大自然 欢乐 之旅 洛阳市 旅发委 洛阳 旅游 编辑部 嵩县 旅游 张相正 洛阳 白云山 走出 鹿角 造型 如今 蒙面 一把 日晚 江苏 卫视 蒙面 猜猜猜 蒙面 盛典 现场 近日 占据 话题 榜前列 阿凡 妹妹 到底 猜测 终于 尘埃落定 原来 殿堂 歌唱家 谭晶 观众 评团 惊呼 不已 小伙伴 看到 造型 有木有 觉得 熟悉 起来 一张 图片 一定 陌生 小伙伴 熟悉 场面 没错 神秘 森林 肆意 主题 Rebecca 时尚 假发 趋势 发布 洛阳 白云山 森林 氧吧 现场\n",
          "洛阳 生活 电影 柒號 百年老 洛阳 开机 家门口 大片 现辉 编剧 执导 著名 喜剧演员 大宝 乐善 主演 年代 电影 柒號 百年老 洛阳 开机 影片 世纪 四十年代 六十年代 洛阳 西大街 杨氏 沙园 故事 改编 饱经 岁月 洗礼 精华 百年老 见证 真实 还原 抗日战争 全国 解放 上山下乡 运动 期间 杨氏 父女 不忘乡 受恩厚报 感人 故事 本次 电影 摄制组 分别 来到 民俗文化 魏坡 古民居 建筑群 进行 实地 取景 得到 相关 部门 景区 当地 群众 协助 配合 刮目 洛阳\n",
          "若有 战召 必回 百名 退伍 老兵 登山 拉练 八一 河南 洛阳 建军节 前夕 四面八方 汇聚 而来 余名 六旬 中国 海军 某部 退伍军人 抵达 老君山 展开 登山 急行军 拉练 攀登 海拔 余米 伏牛山 主峰 马鬃岭 最高峰 举行 升旗仪式 军旗 致敬 图为 队伍 浩浩荡荡 蜿蜒 栈道 行进 河南 洛阳 军旗 宣誓 若有战 召必回 河南 洛阳 悬崖绝壁 山顶 主峰 一面 集资 做起 大锅饭 简单 一碗 大锅菜 追忆 峥嵘岁月 同吃 团圆饭 追忆 峥嵘岁月 饭前 坚持 进行 拉歌赛 表示 退伍 军人 骨气 艰苦朴素 精神 军人 气魄 时刻 准备 再次 祖国 戍边 守疆 人民日报 河南 老君山 洛阳 旅游 推荐 洛阳城 旅游 攻略 映象 栾川 全景 栾川 若有战 召必会 禹州 山镇\n",
          "洛阳 旅游 推荐 洛阳 旅游 编辑部 嵩县 旅游 张相正 全景 洛阳 河南 旅游 生活 杂志 洛阳市 旅发委 吉祥 洛阳 洛阳 洛城 视野 洛阳城 旅游 攻略 洛阳 玩乐 攻略 河南 旅游 脱单 必备 购物车 有没有 添加 洛阳 白云山 本应 单身 汪们 聚集 狂欢 日子 好端端 购物 模式 本来 没人 就算 一不小心 穷光蛋 初冬 时节 寒风 乍起 看看 购物车 是不是 觉得 无可 大家 辛苦 一年 年末 谋点 福利 没错 买买 真是 out 旅游 洛阳 白云山 景区 门票 景区 交通 正常 收费 鸡冻 不鸡冻 单身 小伙伴 应该 多来 白云山 游玩 说不定 偶遇 属于 另一半 毕竟 人间仙境 般的 地方 很多 仙女 仙童 脱单 必备 购物车 有没有 添加 洛阳 白云山\n",
          "大弦戏 原称 公兴班 又名 弦子 古老 稀有 传统 声腔 戏曲 剧种 河南 开封 濮阳 中心 流行 河南省 东北部 山东省 西南部 河北省 南部 一带 认为 大弦戏 唐代 宫廷 梨园戏 一定 渊源 关系 演变 发展 过程 继承 宋元 杂剧 北曲 传统 大弦 戏剧 原有 五百余 现存 左右 内容 忠奸 斗争 杀伐 征战 及除 霸安良 为主 代表性 剧目 五关 黑石关 杨府 洛阳 南唐 孙武子 兴兵 黄花 西厢记 两架 大弦戏 流行 河南省 东北部 山东省 西南部 河北省 南部 一带 古老 剧种 范围 河南省 开封 濮阳 中心 名字 来源 是因为 大弦 戏曲 牌起 三弦 领头 起板 河南省 滑县 濮阳县 联合 申报 大弦戏 国务院 批准 列入 第一批 国家级 物质 文化遗产 名录\n",
          "洛阳 旅游 编辑部 嵩县 旅游 张相正 全景 洛阳 河南 旅游 生活 杂志 洛阳市 旅发委 吉祥 洛阳 洛阳 洛城 视野 洛阳城 旅游 攻略 洛阳 玩乐 攻略 河南 旅游 洛阳 白云山 走出 洛阳 走出 河南 走向 全国 洛阳 旅游 推介会 上海 圆满 举办 上海 人们 生活 分分秒秒 匆匆 路上 一处 养生 福地 饱览 山水 修身养性 寻觅 乡愁 都市人 心中 期许 旅行 洛阳 河洛 文化 旅游节 新闻 发布会 洛阳 旅游 推介 活动 上海 斯格威 铂尔曼 大酒店 举办 洛阳 白云山 国家 5A 旅游 景区 出席 本次 推介会 风光旖旎 白云山 山水 带给 上海 市民 丰满 视觉 盛宴\n",
          "寻峰瞰 今天 大家 推荐 几个 洛阳 名胜 景点 洛阳 旅游景点 排名 前十 龙门石窟 释源 祖庭 白马寺 关林 洛阳 老集 丽景门 洛阳 古代 艺术 博物馆 洛阳 博物馆 洛阳 周王城 天子 驾六 博物馆 王城 公园 洛阳 山陕 会馆 洛阳 周王城 天子 驾六 博物馆 洛阳 周王城 天子 驾六 博物馆 洛阳 周王城 天子 驾六 博物馆 位于 洛阳 市中心 周王城 广场 周王城 遗址 东北部 一座 原址 保护 展示 东周时期 大型 车马坑 主体 辅展 以东 周王城 概况 王陵 考古 发现 部分 东周时期 珍贵文物 王城 王陵 王器 专题 博物馆 洛阳 山陕 会馆 位于 洛阳 老城 南关 马市 前门 已封 开门 路边 又称 会馆 始建 清康熙 雍正年间 距今 多年 历史 当时 活跃 洛阳 附近 山西 陕西 两地 成功 商人 筹资 修建 经商 聚会 场所 乡谊 通商 关爷 社交性 公共场合 龙门石窟 位列 世界 文化遗产 名录 河南 洛阳 必去 景点 伊河 为界 石窟 分为 西山 东山 部分 东山 石窟 唐代 作品 西山 石窟 开凿 北朝 隋唐 时期 龙门 精华 部分 包括 奉先 卢舍那 佛像 古阳洞 龙门 二十品 云台山 云台山 这座 非常 神奇 有着 北方 溶地 地貌 面积 很大 各类 动植物\n",
          "河图 报道 第九届 河洛 大鼓 曲艺 节在 洛邑 古城 开幕 演出 现场 伊洛 碧波 起舞 颂歌 洛阳 十三 古都 伴着 悠扬 动听 河洛 鼓声 洛邑 古城 内盏 俏丽 洛阳 宫灯 第九届 河洛 大鼓 曲艺 昨日 拉开帷幕 洛阳 河洛 文化 旅游节 一项 文化 惠民 活动 本月 日至 每天 分至 第九届 河洛 大鼓 曲艺 持续 精彩 呈现 市民 免费 进入 位于 老城区 东路 柳林 交叉口 北侧 洛邑 古城 观灯 演出 一手 执月 牙板 一手 鼓槌 唱者 立于 鼓前 故事 伴奏者 拉着 坠胡 旋律 欢快 激昂 演出 现场 河洛 大鼓 省级 传承 人张 怀生 带来 洛阳人 最美 河洛 大鼓 市级 传承 李占土 带来 河南 河洛 大鼓 市级 传承 人牛 小枝 带来 吕蒙正 教书 精彩节目 赢得 观众 阵阵 掌声 往届 不同 本届 河洛 大鼓 曲艺 举办 期间 展出 各类 洛阳 宫灯 洛阳 宫灯 洛阳 宫灯 传承 人王 建水 精心制作 伴着 悠扬 河洛 鼓声 洛邑 古城 古色古香 建筑 韵味 十足 洛阳 宫灯 交织 一起 游人 穿梭 其间 仿佛 置身 画中\n",
          "眼中 洛阳 随风 起舞 call 洛阳 文化 古今 兴废 请君 洛阳城 电视剧 风起 洛阳 热播 取景 洛阳 十三 古都 华夏 文明 发祥地 历史 文化 风俗 特色 风景名胜 数不胜数 联合 河南日报 发起 眼中 洛阳 话题 活动 一起 感受 风起 洛阳 磅礴 厚重 古城 即日起 题词 眼中 洛阳 分享 洛阳 视觉 味觉 触觉 感知 追剧 沉浸 体验 展示 洛阳 文化 旅游 魅力 分享 文化 远方 图文 形式 参与 话题 讨论 机会 获取 洛阳 热门 景点 门票 起来 分享\n",
          "宜阳 身边 中国 洛阳 五一 西游 文化 诗词 朗诵会 今天 花果山 举行 宜阳 县委 宣传部 主办 宜阳县 西游 文化 研究会 宜阳县 旅游局 宜阳县 诗词 学会 宜阳县 花果山 管委会 宜阳县 朗诵 协会 承办 诗乡 宜阳 韵流 仙山 中国 洛阳 五一 西游 文化 诗词 朗诵会 花果山 举行 宜阳 西游 文化 发源地 宜阳 涌现出 大批 著名诗人 有名 诗人 李贺 宜阳 宜阳 众多 诗词 爱好者 宜阳 朗诵 协会 众多 爱好者 组成 社会 团体 朗诵会 紧紧围绕 西游 文化 主题 古今 赞美 花果山 女几山 诗词 赞美 花果山 红叶 诗词 张宜 张洁 朗诵 县委书记 吉炳伟 创作 花果山 四首 李小平 创作 飞翔 宜阳 整台 朗诵会 推向 高潮 图文 赵少洲 洛阳 洛阳 花果山 连云 度假村 宜阳\n",
          "宜阳 生活 精彩 花落 宜阳 体育产业 风生水 初夏 古城 洛河 历史 深处 迤逦 悠远 明媚 如今 一年四季 这条 这座 上演 着力 美的 动人 画面 碧波荡漾 多彩 划艇 穿梭 皮艇 灵动 劈波斩浪 山脉 绵延 射击 射箭 清脆 鸣响 越野 摩托 爬山 过坎 产业 车间 泳衣 泳帽 篮球 排球 漂洋过海 出口 国外 隋唐 文官 武将 马驰骋 凤凰岭 明清 文人墨客 泛舟 徜徉 洛河 之上 现代 健儿 各展 雄姿 竞技 山水 体育 风尚 传承 悠久 书写 这座 山水 小城 荣耀 辉煌 近年 洛阳市 体育局 大力支持 指导 宜阳县 确立 山水 区位 建设 体育场馆 承办 大型 赛事 带动 体育 旅游 打造 休闲 宜阳 发展 思路 构建 一体 两翼 体育产业 发展 布局 推动 独具特色 体育产业 优势 转化 发展 动能 全力 打造 生态 城市 融合 发展 体育 运动 精彩 花落 宜阳 体育产业 风生水\n",
          "年度 智慧 景区 先进 单位 榜单 公布 河南省 文化 旅游 获悉 年度 智慧 景区 建设 先进 单位 一个月 公示 之后 最终 来自 全省 智慧 景区 上榜 洛阳市 龙门石窟 景区 焦作市 云台山 风景 名胜区 景区 荣获 五钻级 智慧 景区 南阳市 内乡 县衙 博物馆 郑州市 方特 欢乐 世界 景区 荣获 四钻级 智慧 景区 洛阳市 眉山 景区 驻马店市 乐山 景区 荣获 三钻级 智慧 景区 此次 评选 河南省 文化 旅游 印发 河南省 智慧 景区 考评 工作 方案 通知 豫文旅 科教 要求 省辖市 省直管 文化 旅游 行政 主管部门 推荐 河南省 景区 智慧 建设 考评 领导小组 综合 评判 目的 更好 拉动 河南 智慧 旅游 落地 速度 未来 各大 景区 加强 跨行业 内容 整合 实现 旅游 科技 旅游 航空 业态 河南 文旅 增添 发展 动能 孙旭\n",
          "宜阳 生活 宜阳 古老 现代 宜阳 宛如 一颗 古朴 璀璨 明珠 镶嵌 锦屏 山麓 洛水之 宜阳 宛如 陈年 佳酿 醇香 芬芳 厚重 悠长 宜阳 又名 寿安 福昌 紧邻 古都 洛阳 战国 韩置 已有 多年 历史 唐代 诗人 李贺 故里 中国 西游 文化之乡 宜阳 古代 战略 要冲 古代 秦楚 晋楚 商道 汉唐 京官 交汇 之地 驿站 行宫 会馆 遍布 全境 周召伯 听政 古毛国 封地 战国 韩都 光武帝 迫降 赤眉 周齐 宜阳 争夺 安史之乱 落幕 李自成 攻陷 豫西 重大 历史 事件 发生 宜阳\n",
          "五一 河南 美景 五一 假期 马上 就要 五一 河南 推荐 值得 一去 景区 欢迎 收藏 打卡 登封 嵩山 少林 风景区 开封市 清明 河园 洛阳市 龙门石窟 景区 洛阳 白云山 景区 洛阳 老君山 鸡冠 旅游区 洛阳市 龙潭 大峡谷 景区 焦作市 云台山 神农 天河 景区 平顶山市 尧山 中原 大佛 景区 安阳市 殷墟 景区 南阳市 西峡 伏牛山 界岭 恐龙 遗址 旅游区 驻马店市 旅游 景区 5A 景区 不止 河南 两百多 景区 推出 门票 优惠 诚挚 邀请 全国 各地 小伙伴 河南 打卡 欣赏 河南 美景 品尝 河南 美食 美景 美食 欢迎 推荐 图附 免票 景区 名单 河南省 文化 旅游 官方 区域 热点 安阳\n",
          "五一 河南 五一 假期 马上 就要 五一 河南 推荐 值得 一去 景区 欢迎 收藏 打卡 登封 嵩山 少林 风景区 开封市 清明 河园 洛阳市 龙门石窟 景区 洛阳 白云山 景区 洛阳 老君山 鸡冠 旅游区 洛阳市 龙潭 大峡谷 景区 焦作市 云台山 神农 天河 景区 平顶山市 尧山 中原 大佛 景区 安阳市 殷墟 景区 南阳市 西峡 伏牛山 界岭 恐龙 遗址 旅游区 驻马店市 旅游 景区 5A 景区 不止 河南 两百多 景区 推出 门票 优惠 诚挚 邀请 全国 各地 小伙伴 河南 打卡 欣赏 河南 美景 品尝 河南 美食 美景 美食 欢迎 推荐 图源 网络\n",
          "全国 武术比赛 洛阳 举行 洛阳 太极 文化 渊源 洛阳 著名 历史 文化 学者 金星 易经 易有 太极 两仪 仪生 四象 四象 八卦 所谓 太极 宇宙 万物 本源 太极 文化 研究 世间 万物 形成 变化 规律 系辞 河出 出书 圣人 河图 洛书 华夏文化 源头 河洛 文化 代表 易经 老子 阴阳五行 八卦 河图洛书 太极 文化 密切 关系 不少 研究者 认为 太极 太极 文化 河洛 文化 组成部分 太极 文化 源于 河洛 地区 万多名 市民 洛浦 公园 公里 长堤 表演 简化 太极拳 成功 入选 吉尼斯世界纪录 今年 全国 市长 武术 太极拳 比赛 选择 洛阳 举行 洛阳 文化 市民 太极拳 喜爱 密不可分\n",
          "洛阳 旅游 编辑部 嵩县 旅游 张相正 全景 洛阳 河南 旅游 生活 杂志 洛阳市 旅发委 吉祥 洛阳 洛阳 洛城 视野 洛阳城 旅游 攻略 洛阳 玩乐 攻略 河南 旅游 白云 美景 今胜 登高望远 心怀 洛阳 白云山 吸引 全国 各地 旅行 白云 美景 今胜 登高望远 心怀 秋意 盎然 季节 洛阳 白云山 旅游 度假区 迎来 洛阳 河洛 文化 旅游节 旅行 嘉宾 团队 来自 全国 各地 旅行 包括 辽宁 青海 甘肃 陕西 湖北 内蒙古 广东 省份 旅行社 代表 洛阳 白云山 奇山秀水 引得 嘉宾 赞不绝口\n",
          null
         ],
         "marker": {
          "opacity": 0.5,
          "size": 5
         },
         "mode": "markers+text",
         "name": "6_洛阳_旅游_河南",
         "text": [
          "",
          "",
          "",
          "",
          "",
          "",
          "",
          "",
          "",
          "",
          "",
          "",
          "",
          "",
          "",
          "",
          "",
          "",
          "",
          "",
          "",
          "",
          "",
          "",
          "",
          "",
          "",
          "",
          "",
          "",
          "",
          "",
          "",
          "",
          "",
          "",
          "",
          "",
          "",
          "",
          "",
          "",
          "",
          "",
          "6_洛阳_旅游_河南"
         ],
         "textfont": {
          "size": 12
         },
         "type": "scattergl",
         "x": [
          10.546159744262695,
          10.269759178161621,
          10.032456398010254,
          10.311911582946777,
          10.394652366638184,
          10.746620178222656,
          10.354263305664062,
          10.258597373962402,
          10.392683029174805,
          9.950675010681152,
          10.47429084777832,
          10.398016929626465,
          10.090786933898926,
          10.165557861328125,
          10.267417907714844,
          10.579827308654785,
          10.285710334777832,
          10.304471015930176,
          10.307923316955566,
          10.270463943481445,
          10.065825462341309,
          10.493678092956543,
          10.524943351745605,
          10.161256790161133,
          9.84514331817627,
          10.181736946105957,
          10.705168724060059,
          10.458826065063477,
          10.415144920349121,
          10.819371223449707,
          10.279600143432617,
          10.77908992767334,
          10.229228973388672,
          10.340605735778809,
          10.73411750793457,
          10.656157493591309,
          10.416271209716797,
          10.56960391998291,
          10.009257316589355,
          10.586854934692383,
          10.15820026397705,
          10.03235149383545,
          10.967278480529785,
          10.324667930603027,
          10.367196083068848
         ],
         "y": [
          10.152877807617188,
          10.177815437316895,
          10.410782814025879,
          9.742642402648926,
          10.09659194946289,
          10.130701065063477,
          10.458237648010254,
          9.958438873291016,
          10.042876243591309,
          10.007176399230957,
          9.974427223205566,
          9.999929428100586,
          9.656888961791992,
          10.189616203308105,
          9.810966491699219,
          10.210705757141113,
          10.173698425292969,
          9.954800605773926,
          9.990784645080566,
          10.444046974182129,
          10.0789213180542,
          10.233099937438965,
          9.93387222290039,
          9.867608070373535,
          10.560284614562988,
          10.156787872314453,
          10.12124252319336,
          9.976963996887207,
          9.772629737854004,
          10.221784591674805,
          9.925216674804688,
          10.182931900024414,
          9.848487854003906,
          10.002548217773438,
          10.12624454498291,
          10.044702529907227,
          9.838247299194336,
          10.445554733276367,
          10.360218048095703,
          10.333697319030762,
          10.487475395202637,
          10.487017631530762,
          10.201315879821777,
          10.111655235290527,
          10.111421585083008
         ]
        },
        {
         "hoverinfo": "text",
         "hovertext": [
          "哪座 寺庙 称为 中国 第一 古刹 中国 一座 寺庙 中国 佛教文化 有着 不可磨灭 贡献 白马寺 位于 洛阳市 城东 千米 北依 邙山 南近 洛水 中国 佛教 发源地 后来 人们 尊称 祖庭 释源 佛教 传入 中国 兴建 哪座 寺庙 称为 中国 第一 古刹 中国 一座 寺庙 中国 佛教文化 有着 不可磨灭 贡献 白马寺 位于 洛阳市 城东 千米 北依 南近 洛水 中国 佛教 发源地 后来 人们 尊称 祖庭 释源 佛教 传入 中国 兴建 第一座 寺院 称为 中国 第一 古刹 今天 寺庙 明清 规模 不能 唐代 相比 白马寺 得名 原因 众说纷纭 确认 一点 一匹 白马 这匹 白马 取经 主要 工具 后来 返回 洛阳 此庙 称为 白马寺 取经 不是 玄奘 史书 记载 秦景 受命 东汉 帝刘庄 天竺 求取 经文 白马寺 建成 成为 东汉 主要 译经 场所 四十二章 翻译 完成 中国 佛教 有着 无法 替代 地位 唐朝 诗人 王昌龄 赋诗 赞美 白马寺 明月 古寺 林外 登高 南风 长廊 夏日 凉如秋 今天 这座 著名 古刹 名扬 海内外 巍然屹立\n",
          "洛阳 汉魏 故城 原是 中国 古代 神话传说 天门 北魏 洛阳城 宫城 正门 称为 最早 是从 曹魏 初期 重修 洛阳宫 西晋时 沿用 北魏 迁都 洛阳 以后 显示 国统 正朔 营造 宫殿 宫门 名称 相对 位置 宫城 规模 形制 基本上 沿用 魏晋 旧制 宫城 正门 仍称 北面 正对 宫城 正殿 太极 南面 御道 铜驼 大街 直通 内城 正门 宣阳门 象征 帝王 威仪 礼仪 建筑 举行 帝王 登基 接见 四方 朝贡 重大 活动 地方 极少 用于 通行 洛阳市 遗址 目前为止 考古 发掘出 年代 最早 都城 宫城 正门 左右双 迄今为止 发掘 最早 宫城\n",
          "北魏 永宁寺 佛塔 建于 北魏 熙平 元年 公元 遗址 洛阳市 白马寺 国道 陇海铁路 交叉口 永宁寺 笃信 佛法 灵太后 胡氏 主持 修建 规模 宏大 洛阳 千寺 之冠 杨玄 洛阳 伽蓝 追述 永宁寺 塔为 木结构 九层 一百里 看见 塔高 四十 九丈 十余丈 合今 米左右 加上 塔刹 通高 古代 伟大 佛塔 武帝永 三年 公元 二月 雷电 击中 永宁寺 引发 大火 木塔 建成 焚毁 仅仅 永宁寺 中心 木塔 这座 皇室 着力 经营 寺院 旋即 荒废 盛极一时 北魏 王朝 仿佛 顿时 失去 佛法 护佑 正是 永宁寺 毁掉 当年 北魏 王朝 覆灭 LYuning Lee\n",
          "豫见 美景 少林寺 位于 河南省 郑州市 登封市 嵩山 乳峰 坐落于 嵩山 腹地 少室 茂密 丛林 之中 少林寺 中国 佛教 禅宗 祖庭 中国 功夫 发源地 世界 文化遗产 全国 重点 文物保护 单位 国家 AAAAA 旅游 景区 少林寺 始建 于北魏 太和 十九年 孝文帝 安置 敬仰 印度 高僧 跋陀 尊者 都城 洛阳 相望 嵩山 少室 北麓 建而成 少林寺 住院 占地面积 平方米 现任 方丈 曹洞 正宗 代嗣祖 沙门 释永信 少林寺 世界 著名 佛教 寺院 汉传 佛教 禅宗 祖庭 中国 佛教史 占有 重要 地位 被誉为 天下第一 名刹 历代 少林 武僧 潜心 研创 不断 发展 少林功夫 名扬天下 素有 天下 功夫 少林 少林功夫 甲天下 郑州大学 青年 志愿者\n",
          "河南 城隍庙 修缮 保护 工程验收 洛阳市 文物局 组织 专家组 河南 城隍庙 修缮 工程 进行 结项 验收 专家组 现场 勘验 资料 会审 河南 城隍庙 修缮 工程施工 效果 达到 设计 要求 工程施工 符合 施工 要求 河南 城隍庙 位于 洛阳市 老城区 始建 年代 不详 现存 河南 重修 城隍庙 刻石 明武宗 正德 五年 西元 五月 说明 以前 已有 城隍庙 存在 至今 沿其 中轴线 辕门 山门 戏楼 石亭 威灵 寝殿 建筑 遗存 保留 现为 省级 文物保护 单位 洛阳 旅游 古迹 寻踪 古建筑 豫见 国保\n",
          "今天 参访 东大寺 平假名 日本 华严宗 本山 称为 华严寺 金光明 天王 护国寺 东大寺 位于 平城 奈良 大寺 距今 一千二百 余年 历史 全世界 最大 木造 建筑 奈良 历史 遗迹 组成部分 列为 世界 文化遗产 东大寺 建立 源于 武则天 洛阳 紫微城 建造 天堂 龙门石窟 雕刻 卢舍那 大佛 天平 十二年 光明 皇后 力劝 武天皇 发愿 奉造 Jumbo Heritage List in Nara Japan 日本 大阪\n",
          "洛阳 白马寺 停车场 施工 进入 攻坚 阶段 千年 古刹 白马寺 停车场 进入 最后 攻坚 阶段 上午 白马寺 释源 大道 东侧 看到 占地 停车场 初具规模 给排水 供电 照明 车位 透空 铺设 进入 尾声 绿化 工作 已经 机械化 施工 车场 沥青 摊铺 预计 进行 停车场 设计 驾校 倒车 入库 侧方 停车 宽敞 库前 道路 绝对 不会 露怯 尴尬 白马寺 管委会 介绍 白马寺 大型 停车场 分东 西两 部分 停车场 停放 小车 多辆 停车场 占地 分为 两种 规划 存放 公交车 设计 亮点 充电 设计规划 旅游 大巴车 究竟 目前 拿到 数据 缓解 目前 白马寺 停车难 已成定局 近些年 千年 古刹 白马寺 影响 越来越 停车难 窘态 令人 难堪 释源 大道 建成 无疑 提升 景区 档次 科学 规划 大型 停车场 提升 景区 接待 能力 据悉 停车场 计划 国庆节 期间 投入使用 游客 接待 中心 卫生间 显然 无法 完工 安置 临时 卫生间 解决 游客 内急 需求 待东 停车场 全部 完工后 施工方 东师 西进 快马加鞭 展现 洛阳 速度\n",
          "日本 旅行 太和殿 还要 一倍 世界 最大 木造 建筑 已经 一千二百多年 历史 奈良 东大寺 大佛殿 当今世界 最大 木造 建筑 大佛殿 放置 以上 大佛像 卢舍那 当时 首都 平城 以东 被称作 东大寺 唐朝 鉴真 和尚 设坛 授戒 东大寺 建立 源于 日本天皇 文化 崇拜 仿造 武则天 洛阳 紫微城 建造 天堂 安放 佛像 之地 龙门石窟 雕刻 卢舍那 大佛 建造 东大寺 隋唐 洛阳宫 乾元殿 唐神 洛阳 紫微城 正殿 体量 相近 东大寺 想像 唐代 长安 洛阳 所建 巨刹 恢弘 气势 大佛殿 台阶 前有 一座 巨大 八角 灯笼 建于 日本 国内 最为 古老 重创 东大寺 两次 火灾 摧毁 这座 灯笼 始终 屹立 大佛殿 见证 东大寺 一千多年 历史 大佛殿 高度 太和殿 高度 还要 高近 一倍 殿内 仰视 这座 世界 最大 木构 建筑 横七竖八 木梁 相当 震撼 日本 不见不散 不止 旅行 日本 旅行 旅行 嘉年华\n",
          "洛阳 人民 急切 盼望 洛阳 明堂 三次 改造 明堂 外观 确实 丑陋 中心 核心 区域 宫殿 四不像 设计 美学 观念 毫无 气势 马上 建成 应天门 搭配 不当 隋唐洛阳城 需要 大型 核心 建筑 天堂 功能 不是 宫殿 中心 明堂 不起 台面 保护 工程 下图 保护 提升 难度 保护 遗址 游客 感受 隋唐洛阳城 宏伟 壮丽 洛阳 应天门 天津桥 定鼎 洛阳城 城墙 遗址 多点 开花 希望 建设 成为 精品 完成 隋唐洛阳城 宏伟 壮丽 格局 相信 建成 极大 提升 洛阳市 旅游 文化 提升 历史 厚重感 城市 人民 极大 提升 景点 核心 建筑 或者说 高潮 撑起 中国 洛阳 隋唐洛阳城 大旗 图片 图片 图片 洛阳 全攻略 洛阳 洛阳市 文物局 洛阳 石家庄 河北师范大学\n",
          "教院 旅游 推荐 本周 推荐 河南 嵩山少林寺 少林寺 位于 河南省 郑州市 登封市 嵩山 乳峰 坐落于 嵩山 腹地 少室 茂密 丛林 之中 少林寺 始建 于北魏 太和 十九年 孝文帝 安置 敬仰 印度 高僧 跋陀 尊者 都城 洛阳 相望 嵩山 少室 北麓 建而成 少林寺 住院 占地面积 平方米 现任 方丈 曹洞 正宗 代嗣祖 沙门 释永信 少林寺 世界 著名 佛教 寺院 汉传 佛教 禅宗 祖庭 中国 佛教史 占有 重要 地位 被誉为 天下第一 名刹 历代 少林 武僧 潜心 研创 不断 发展 少林功夫 名扬天下 素有 天下 功夫 少林 少林功夫 甲天下 少林寺 现为 国家 AAAAA 旅游 景区 全国 重点 文物保护 单位 包括 少林寺 住院 初祖庵 塔林 在内 天地 之中 历史 建筑群 著名 世界 文化遗产 济宁 曲阜师范大学\n",
          "少林寺 中国 莆田 佛教 禅宗 祖庭 中国 功夫 发源地 现为 世界 文化遗产 全国 重点 文物 保匡威护 单位 国家 AAAAA 旅游 景区 位于 莆田 鞋南省 郑州市 登封市 嵩山 乳峰 坐落于 嵩山 腹地 少室 茂密 丛林 之中 少林寺 始建 于北魏 太和 十九 莆田 鞋年 孝文帝 安置 敬仰 印度 高僧 跋陀 尊者 都城 洛阳 相望 嵩山 少室 北麓 莆田 建而成 少林寺 住院 占地面积 平方米 运动鞋 现任 方丈 曹洞 正宗 代嗣祖 沙门 释永信 少林寺 世界 著名 佛教 莆田 寺院 汉传 佛教 禅宗 祖庭 中国 佛教史 占有 重要 地位 被誉为 天下第一 名刹 老爹 历代 少林 武僧 潜心 研创 不断 发展 椰子 功夫 名扬天下 素有 天下 功夫 少林 莆田 鞋林 功夫 甲天下\n",
          "南京旅游 孔庙 全国 各地 秦淮河 夫子 几分 自然 平常 前庙 后学 独特 合一 始建 于东 晋成帝 司马衍 咸康 三年 孔庙 宋仁宗 景佑 元年 东晋 学宫 扩建 而成 古老 孔子 问礼图 砖雕 南朝 齐永明 二年 公元 描绘 孔子 公元前 曲阜 前往 周王城 洛阳 问理于 老聃 寻求 巩固 鲁国 国政 之策 经历 儒教 讲究 次序 皇家 自然 喜欢 历代帝王 尊孔 万世师表 康熙 生民 未有 雍正 天地 乾隆 集大成 嘉庆 圣协时 道光帝 圣神 天纵 同治帝 斯文 光绪帝 位育 宣统 南京 南京 夫子庙\n",
          "品鉴 中国 邮史 文化 玄奘 玄奘 洛州 缑氏 河南 洛阳 偃师 唐代 佛教 学者 旅行家 佛经 翻译家 法相宗 创始人 尊称 三藏 法师 出家 四处 求学 因感 各类 佛典 众说纷纭 难有 定论 决心 西行求 唐太宗 贞观 年间 凉州 玉门关 西行 印度 进入 当时 印度 佛教 中心 那烂陀寺 学习 游学 印度 各地 当地 学者 展开 辩论 声名远播 贞观 十九年 回到 长安 译出 我国 佛教 思想 发展 影响 极大 记录 西行 见闻 大唐 西域 经典 译著 般若经 传于 后世 邮票 设计 中国画 工笔 重彩 形式 刻画 人物 生动 细致 画面 古朴 典雅 小型张 玄奘译 背景 面容 一体 恰到好处 该套 邮票 云中 原艺 设计 北京 邮票 影写 工艺 印制\n",
          "洛阳 身边 洛阳 山村里 竟然 隐藏 一座 宫殿 福昌 位于 宜阳县 城镇 福昌 宜阳县 记载 隋朝 此建 福昌 现存 建筑 始建 明代 清嘉庆 二十四年 公元 进行 全面 修葺 近年 进行 翻修 福昌 阁面 五间 四周 斗拱 飞檐翘角 阁顶 黄绿 琉璃瓦 覆盖 东西 各有 一大 龙吻 正面 雕花 门窗 门楣 之上 福昌 匾额 福昌 前筑 余级 石阶 气势雄伟 福昌 独特 之处 包容 儒众 相聚 阁基 两侧 很多 神洞 分别 财神 老君 鲁班 西佛洞 药王 吕祖洞 五瘟洞 城隍 洪钧 老祖 天尊 玄帝 菩萨 南极 仙翁 华佗 十二 老母 部分 存在 当地 村民 介绍 每年 农历 三月初 一至 初五 举办 庙会 热闹 洛阳 河南省旅游局 官方\n",
          "洛阳 好玩 地方 景点 必去 龙门石窟 推荐 理由 中国 三大 石窟 拥有 余尊 佛像 石刻 艺术 宝库 白马寺 推荐 理由 佛教 传入 中国 第一座 官府 建造 寺院 中国 第一 古刹 之称 关林庙 推荐 理由 我国 唯一 林三祀 合一 古代 经典 建筑 因葬 关公 首级 得名 丽景门 推荐 理由 洛阳 古城 象征 不到 丽景门 枉来 洛阳城 一说 洛阳 博物馆 推荐 理由 馆藏 精品 丰富 叹为观止 观赏 来自 故宫 珍品 洛阳 老街 推荐 理由 距今已有 多年 历史 复古 街道 洛阳 历史 文化 缩影 栾川 老君山 推荐 理由 老君山 伏牛山 三大 主峰 清诸代 道教 圣地 栾川 重渡 风景区 推荐 理由 区内 茂林 野生 动植物 繁多 竹海 媲美 洛阳 古代 艺术 博物馆 推荐 理由 博物馆 地下 一出 规模宏大 地下 古墓群 年代久远 壁画 参观 西山 石窟 推荐 理由 龙门石窟 完整 精华 部分 洛阳 旅游 洛阳 导游 洛阳 旅游景点\n",
          "少林寺 中国 佛教 禅宗 祖庭 中国 功夫 发源地 现为 世界 文化遗产 全国 重点 文物保护 单位 国家 AAAAA 旅游 景区 位于 河南省 郑州市 登封市 嵩山 乳峰 坐落于 嵩山 腹地 少室 茂密 丛林 之中 少林寺 始建 于北魏 太和 十九年 孝文帝 安置 敬仰 印度 高僧 跋陀 尊者 都城 洛阳 相望 嵩山 少室 北麓 建而成 少林寺 住院 占地面积 平方米 现任 方丈 曹洞 正宗 代嗣祖 沙门 释永信 少林寺 世界 著名 佛教 寺院 汉传 佛教 禅宗 祖庭 中国 佛教史 占有 重要 地位 被誉为 天下第一 名刹 历代 少林 武僧 潜心 研创 不断 发展 少林功夫 名扬天下 素有 天下 功夫 少林 少林功夫 甲天下\n",
          "龙门石窟 佛像 黝黑 发亮 游客 告示 佛气 黄金周 期间 世界 文化遗产 河南 洛阳龙门石窟 精美 佛像 惨遭 黑手 游客 轮流 抚摸 整个 佛像 黝黑 发亮 上演 现实 景区 看到 广播 不断 重复 播出 请勿 触摸 佛像 告示 不能 阻止 游客 佛像 加装 保护网 挡不住 触摸 工作人员 表示 靠近 游览 栈道 游客 触摸 黑黝亮 佛像 过去 数十年 日积月累 旅行 团队 景区 参与 活动 游客 推荐 常常 看到 一大 团人围 很窄 栈道 佛气\n",
          "洛阳 访古 千年 古刹 灵山寺 灵山寺 原名 报恩寺 报忠寺 玉泉寺 悬泉 凤凰寺 位于 洛阳市 西南 公里 宜阳县 灵山 北麓 全寺 山势 而建 南向 北临 洛水 灵山寺 扩建 金大定 三年 西元 始建 年代 不应 晚于 唐武周 时期 距今 至少 余年 历史 可能 汉魏 距今 左右 博客 太乙清 千年 古刹 灵山寺 洛阳 爆料 洛阳 身边 洛阳 旅游 豫见 国保 中国 古建筑 其寺 坐落于 宜阳 灵山 主峰 山腰 全寺 因山 而建 背依 灵山 面临 洛河 山清水秀 建筑 精美 遐迩 历史 久远 香火 鼎盛 白马寺 东西 呼应 称为 姊妹 灵山 民间 相传 周灵王 葬于 缘故 此山 当时 释迦牟尼 讲经说法 鹫山 非常 相似 得名\n",
          "车载 民生 行天下 河南 旅游 行天下 汽车票 旅游 风景 智慧 购票 便民 出行 河南 洛阳 白马寺 白马寺 始建 东汉 永平 十一年 公元 佛教 传入 我国 官府 建造 寺院 历来 尊为 中国 佛教 祖庭 释源 据传 寺名 白马 负经 典故 白马寺 屡经 战乱 数度 重建 如今 白马寺 面积 步行 游览 景区 完全 问题 游客 山门 进去 山门 明代 门外 两旁 石雕 马是 宋代 遗物 现有 重大 坐落 一条 中轴线 主殿 第二重 大佛殿 做法 主要 场所 第三重 大雄殿 摆放着 白马寺 镇寺 之宝 中国 仅存 元代 干漆 造像 殿内 元代 干漆 造像 形态各异 全都 制成 尊重 公斤 元代 至今 多年 未经 修缮 仍然 色彩 如新 中国 看看 行天下 汽车票 方便快捷\n",
          "乐戈 漫步 天涯 河南 旅游 洛阳 关林 关林为 埋葬 三国 关羽 首级 之地 祠庙 位于 河南省 洛阳市 洛龙区 关林镇 关林北 隋唐 故城 南临 龙门石窟 西接 洛龙 大道 东依伊水 清流 海内外 大关 千百 关庙 中独称 中国 唯一 林三祀 合一 古代 经典 建筑 关林 始建 明万历 清乾隆 加以 扩建 现存 建筑 主要 明代 一处 保存 完整 古建筑群 关林 建筑 规格 宫殿 形式 修建 布局 严谨 壮观 庙前 戏台 中轴线 建筑 依次 大门 仪门 甬道 拜殿 大殿 二殿 三殿 石牌坊 碑亭 关墓 中轴线 两侧 附以 形式 相同 对称 建筑物 最具 特色 当数 舞楼 前台 歇山 后台 硬山 组合 一起 重檐 楼阁 构筑 之妙 全国 罕见 洛阳 古代 艺术馆 所在地 关林 国家级 物质 文化遗产 关公 信俗 遗产地 成为 全人类 共享 文化 瑰宝 乐戈 书屋 编辑整理 贵阳 龙泉 苑街\n",
          "河南 旅游景点 推荐 嵩山少林寺 景区 5A 少林寺 我国 久负盛名 佛教 寺院 声誉 显赫 禅宗 祖庭 少林寺 位于 嵩山 乳峰 嵩山 风景区 主要 核心 景区 古代 朝廷 大力支持 少林寺 发展 极快 博得 天下第一 名刹 美称 少林功夫 从此 美名 远扬 中国 成立 特别 一部 少林寺 电影 少林寺 少林功夫 风靡 世界 成为 河南 世界 顶级 旅游 产品 少林寺 自建寺 以来 举世闻名 经久不衰 沉积 丰厚 历史 内涵 文化底蕴 名副其实 中原 旅游 明珠 华夏 旅游胜地 洛阳 旅游 洛阳 导游\n",
          "龙门石窟 中有 佛像 据说 武则天 位于 河南省 洛阳市 伊河 之畔 卢舍那 又名 奉先寺 龙门石窟 开凿 规模 最大 摩崖 奉先寺 始建 唐高宗 时期 咸亨 三年 公元 武则天 该寺 捐钱 万贯 唐高宗 二年 公元 除夕 奉先寺 竣工 武则天 亲率 文武 朝臣 驾临 龙门 参加 主佛 卢舍那 开光 仪式 整个 佛龛 造像 布局 一佛 弟子 菩萨 天王 力士 共计 九尊 雕像 主尊 卢舍那 跏趺 坐于 八角 束腰 叠色式 莲花座 通高 17.14 头高 面容 饱满 神情 安宁 卢舍那 全身 衣饰 雕刻 仅用 寥寥 数笔 朴素 简练 线条 流畅 中国 西藏 摄影 剪辑 杨月云 中国 西藏\n",
          "天下 讲理 地方 洛阳 伊川 身边 二程 文化园 位于 伊川县 西侧 山脚下 宋代 杰出 思想家 教育家 宋明理学 莫基人 程颢 程颐 墓园 基础 兴建 大型 文化景观 全园 面积 余亩 建筑 占地 目前 国内 最大 儒学 文化 园林 二程 兄弟 师从 理学 开山 周敦颐 受教于 理学 先驱 安定 继承 儒学 兼容 佛道 创立 洛学 莫基 理学 理学 思想 经四传 弟子 朱熹 发扬光大 形成 体系 精致 完备 影响 深至 程朱 理学 程朱 理学 南宋 成为 正统 哲学 统治 中国 思想界 八百年 程朱 理学 漂洋过海 东南亚 欧洲 思想 产生 深刻 影响 二程 文化园 北面 气势磅礴 整个 园区 分为 三个 部分 西侧 系程林 祭拜 中间 程庙 纪念 东部 书院 文化区 建成 开园 弘扬 优秀 文化 传承 华夏 文明 保护 文物古迹 繁荣 旅游事业 意义 重大 影响 深远 二程 文化园 犹似 一座 丰碑 矗立 中原 大地 二程 文化园 东方 圣殿 光耀 华夏 神州\n",
          "少林寺 位于 河南省 郑州市 嵩山 乳峰 坐落于 嵩山 腹地 少室 茂密 丛林 之中 少林寺 始建 于北魏 太和 十九年 孝文帝 安置 敬仰 印度 高僧 跋陀 尊者 都城 洛阳 相望 嵩山 少室 北麓 建而成 少林寺 住院 占地面积 平方米 现任 方丈 曹洞 正宗 代嗣祖 沙门 释永信 少林寺 世界 著名 佛教 寺院 汉传 佛教 禅宗 祖庭 中国 佛教史 占有 重要 地位 被誉为 天下第一 名刹 历代 少林 武僧 潜心 研创 不断 发展 少林功夫 名扬天下 素有 天下 功夫 少林 少林功夫 甲天下 少林寺 现为 国家 AAAAA 旅游 景区 全国 重点 文物保护 单位 包括 少林寺 住院 初祖庵 塔林 在内 天地 之中 历史 建筑群 著名 世界 文化遗产 郑州\n",
          "兴国 禅寺 唐三藏 西行 取经 始发站 典型 禅宗 寺院 兴国 始建 唐太宗 马场 唐贞观 元年 公元 二七 建成 兴国 唐时 寺院 规模宏大 相传 老和尚 骑马 后门 美谈 唐永徽 元年 公元 六五年 薛刚 反唐 藏身 西侧 有瓦碴塔 数丈 高僧 玄奘法师 洛阳 二次 长安 投身 塔西 该寺 唐僧 取经 第一站 闻名于世 信仰 很酷 信仰 选择 变得 简单 兴国 禅寺 寺庙 寺院 西安 唐朝 唐三藏 玄奘西 西游记 西安 兴国 禅寺\n",
          "洛阳 白马寺 建筑 格局 白马寺 整个 寺庙 坐北朝南 一长形 院落 总面积 万平方米 主要 建筑 天王殿 大佛殿 大雄宝殿 接引 毗卢阁 均列 南北向 中轴线 不是 创建 悉依 天竺 旧式 但寺址 从未 迁动 汉时 依稀可见 重大 四个 大院 东西 厢房 山门 中国 佛寺 正门 三个 组成 象征 佛教 空门 无相门 无作门 解脱 中国 古代 寺院 山村里 山门 之称 白马寺 山门 采用 牌坊 一门 三洞 石砌 券门 明嘉靖 二十五年 重建 红色 门楣 白马寺 青石 题刻 它同 接引 通往 清凉 桥洞 拱形 石上 字迹 东汉 遗物 白马寺 最早 古迹 山门 东西 两侧 摄摩腾 法兰 二僧 重大 由南向北 依次 天王殿 大佛殿 大雄殿 接引 卢殿 每座 大殿 造像 多为 时期 作品 毗卢殿 清凉 台上 清凉 台为 摄摩腾 法兰 翻译 佛经 东西 厢房 左右 对称 整个 建筑 宏伟 肃穆 布局 严整 碑刻 多方 研究 寺院 历史 佛教文化 重要 价值\n",
          "少林寺 中国 佛教 禅宗 祖庭 中国 功夫 发源地 现为 世界 文化遗产 全国 重点 文物保护 单位 国家 5A 旅游 景区 坐落于 嵩山 腹地 少室 茂密 丛林 之中 少林寺 始建 于北魏 太和 十九年 孝文帝 安置 敬仰 印度 高僧 跋陀 尊者 都城 洛阳 相望 嵩山 少室 北麓 建而成 少林寺 世界 著名 佛教 寺院 汉传 佛教 禅宗 祖庭 中国 佛教史 占有 重要 地位 被誉为 天下第一 名刹 历代 少林 武僧 潜心 研创 不断 发展 少林功夫 名扬天下 素有 天下 功夫 少林 少林功夫 甲天下 包括 少林寺 住院 初祖庵 塔林 在内 天地 之中 历史 建筑群 联合国 科教文 组织 列为 世界 文化遗产 营口\n",
          "洛阳 伊川 二程 文化园 二程 文化园 位于 洛阳市 伊川县 鹤鸣 西路 全国 重点 文物保护 单位 国家 AAAA 旅游 景区 首批 河南省 研学 旅游 示范 基地 北宋 著名 思想家 教育家 哲学家 理学 奠基人 程颢 程颐 墓园 基础 扩建 大型 儒学 文化 园林 二程 文化园 占地 余亩 建筑 占地 整体 分为 书院 文化区 程庙 纪念 程林 祭拜 西侧 自然生态 公园 四个 部分 书院 文化区 及程 纪念 建筑群 采用 宋代 样式 高大 巍峨 建筑 红墙 绿瓦 雕梁画栋 程林 祭拜 区古 柏森森 庄严肃穆 北斗七星 程氏 家族 墓群 存于 自然生态 公园 层林 叠嶂 万木 葱茏 良好 自然生态 公园 鸟语花香 郁郁葱葱 洛阳 旅游\n",
          "动力 探寻 最美 泉州 开元寺 全国 重点 文物保护 单位 全国 首批 旅游景点 地处 市区 西街 始建 武则天 垂拱 二年 公元 原名 莲花 唐开元 公元 唐玄宗 下令 全国 各州 一座 开元寺 改为 现名 全寺 占地面积 7.8 万平方米 规模宏大 构筑 壮观 景色 优美 洛阳 白马寺 杭州 灵隐寺 北京 广济寺 齐名 主要 大雄宝殿 甘露 戒坛 东西 建筑 大雄宝殿 中轴线 建筑 始建 唐朝 垂拱 二年 公元 现存 建筑物 明代 崇祯 十年 公元 遗物 大殿 通高 保存 唐朝 宏模 巨制 巍峨 壮观 建筑风格 甘露 戒坛 始建 现坛 系明 重建 全国 三大 戒坛 耸立 拜庭 两侧 广场 相距 八角 五层 楼阁 木结构 石塔 泉州 东西 全国 四大 名塔 东塔名 镇国塔 通高 48.24 西塔 仁寿 通高 44.06 略低于 东塔 规模 东塔 几乎 完全相同 两塔为 我国 古代 石构 建筑 瑰宝 历史 文化名城 泉州 标志 曾用名 双塔 凌空 开元 双塔 紫云 双塔 郑州\n",
          "佛教 公元 世纪 传入 中国 真正 佛学 批量 引入 东土 大师 却是 生活 公元 世纪 伊朗 僧人 安世高 目前 尚存 信息 考证 他本 某位 帕提亚 帝国 王子 效仿 释迦 摩尼 先例 主动 信仰 放弃 继承权 随后 公元 定居 洛阳 一门心思 投入 经文 翻译 工作 事实上 当时 帕提亚 帝国 采取 贵族 联盟 共治 安世高 极有 可能 来自 伊朗 东部 南部 地方 贵族 家庭 游走 泰西封 之间 王室 直系 早年 活动 区域 伊朗 文化区 印度 文化区 交界 佛教 西传 历程 必经之路 才能 丝绸之路 不断 东进 后人 留下 至少 多部 经典 此类 胡僧 传法 习俗 持续 隋唐 两朝 结束 历史 佛教 伊朗\n",
          "历史 佛教 玄奘 汉传 佛教 伟大 译经 玄奘 俗姓 名袆 生于 河南 洛阳 洛州 缑氏县 河南 偃师 汉传 佛教史 伟大 译经 中国 佛教 法相 唯识宗 创始人 唐太宗 贞观 三年 一作 贞观 元年 历经 艰难 抵达 天竺 那烂陀寺 戒贤 受学 游学 天竺 各地 贞观 十九年 回到 长安 所译 佛经 多用 直译 笔法 谨严 所撰 大唐 西域 十二卷 成书 唐贞观 二十年 书中 记载 玄奘 亲身经历 传闻 得知 一百三十八 国家 地区 城邦 包括 中国 新疆维吾尔自治区 苏联 中亚地区 阿富汗 伊朗 巴基斯坦 印度 尼泊尔 孟加拉 斯里兰卡 情况 内容 非常 丰富 各地 地理 形势 水陆交通 气候 物产 民族 语言 历史 政治 经济 生活 宗教 文化 风俗习惯 方面 叙述 研究 印度 中亚 古代 历史 地理 重要 资料\n",
          "洛阳城 旅游 攻略 洛阳 自由 洛阳 兴福寺 大殿 位于 偃师市 龙镇 高崖 学校 院内 大殿 坐北朝南 面阔 三间 东西长 11.30 南北 进深 9.10 歇山 建筑 现存 大殿 围墙 所嵌 兴福寺 大殿 简介 碑所记 兴福寺 明正德 四年 公元 距今 余年 建造 人为 逯通 清康熙 年间 民国时期 重修 大殿 主脊 两端 正中 鸱吻 垂脊 上饰 各类 小兽 大殿 内部 结构复杂 东边 通梁 西边 通柱 结构 对称 巧妙 利用 力学 原理 保持 建筑 稳固 大殿 建筑 规格 结构 奇特 斗拱 构件 制作 精美 部分 瓦件 有所 脱落 不失为 一处 价值 古建筑 大殿 西侧 学校 平放 三通 碑刻 三通 记载 内容 兴福寺 一块 碑阴 朝上 两块 正面 朝上 长期 踩踏 损毁 严重 该寺 大殿 现状及 几通 碑刻 发现 研究 豫西 地区 民间 宗教 建筑风格 当时 经济 状况 人民 生活 方面 具有 重要 参考价值\n",
          "浮鹰 旅行 少林寺 位于 河南省 郑州市 登封市 嵩山 乳峰 坐落于 嵩山 腹地 少室 茂密 丛林 之中 少林寺 中国 佛教 禅宗 祖庭 中国 功夫 发源地 世界 文化遗产 全国 重点 文物保护 单位 国家 AAAAA 旅游 景区 少林寺 始建 于北魏 太和 十九年 孝文帝 安置 敬仰 印度 高僧 跋陀 尊者 都城 洛阳 相望 嵩山 少室 北麓 建而成 少林寺 住院 占地面积 平方米 现任 方丈 曹洞 正宗 代嗣祖 沙门 释永信 少林寺 世界 著名 佛教 寺院 汉传 佛教 禅宗 祖庭 中国 佛教史 占有 重要 地位 被誉为 天下第一 名刹 历代 少林 武僧 潜心 研创 不断 发展 少林功夫 名扬天下 素有 天下 功夫 少林 少林功夫 甲天下 包括 少林寺 住院 初祖庵 塔林 在内 天地 之中 历史 建筑群 联合国 科教文 组织 列为 世界 文化遗产\n",
          "季羡林 先生 少林 文化 有过 评价 文化 传承 载体 大别 不外 两种 一种 古代 流传 下来 文献 典籍 一种 人工 兴建 建筑物 万里长城 典型 例子 嵩山少林寺 属于 一类 嵩山少林寺 创建 于北魏 太和 十九年 孝文帝 安置 敬仰 印度 高僧 跋陀 都城 洛阳 相望 嵩山 少室 北麓 敕建 少林寺 随后 印度 高僧 那摩提 菩提 流之至 少林寺 开辟 译场 少林寺 成为 当时 佛学 重镇 印度 高僧 菩提 达摩 少林寺 首倡 禅宗 顿教 由此 确定 少林寺 禅宗 祖庭 崇高 地位 中国 图库 旅行 摄影\n",
          null
         ],
         "marker": {
          "opacity": 0.5,
          "size": 5
         },
         "mode": "markers+text",
         "name": "7_少林寺_佛教_中国",
         "text": [
          "",
          "",
          "",
          "",
          "",
          "",
          "",
          "",
          "",
          "",
          "",
          "",
          "",
          "",
          "",
          "",
          "",
          "",
          "",
          "",
          "",
          "",
          "",
          "",
          "",
          "",
          "",
          "",
          "",
          "",
          "",
          "",
          "",
          "",
          "7_少林寺_佛教_中国"
         ],
         "textfont": {
          "size": 12
         },
         "type": "scattergl",
         "x": [
          12.52808666229248,
          12.60420036315918,
          12.657618522644043,
          12.493477821350098,
          12.68643569946289,
          12.718655586242676,
          12.805174827575684,
          12.715456008911133,
          12.787954330444336,
          12.591909408569336,
          12.433520317077637,
          12.46293830871582,
          12.326019287109375,
          12.764071464538574,
          12.537537574768066,
          12.528851509094238,
          12.849458694458008,
          12.631568908691406,
          12.184946060180664,
          12.552212715148926,
          12.57287883758545,
          12.576492309570312,
          12.479521751403809,
          12.628990173339844,
          12.544092178344727,
          12.6832275390625,
          12.5236234664917,
          12.462769508361816,
          12.762491226196289,
          12.32554817199707,
          12.319184303283691,
          12.744519233703613,
          12.492294311523438,
          12.336742401123047,
          12.568013191223145
         ],
         "y": [
          9.08365535736084,
          9.658071517944336,
          9.599288940429688,
          9.026350975036621,
          9.556151390075684,
          9.413763999938965,
          9.210711479187012,
          9.327995300292969,
          9.410204887390137,
          9.611326217651367,
          9.027810096740723,
          9.612561225891113,
          9.920634269714355,
          9.486828804016113,
          9.363941192626953,
          9.013300895690918,
          9.330806732177734,
          9.606624603271484,
          9.96564769744873,
          9.676039695739746,
          9.081583976745605,
          9.69363021850586,
          9.190770149230957,
          9.566664695739746,
          9.623940467834473,
          9.484363555908203,
          9.029169082641602,
          9.009902954101562,
          9.10810661315918,
          9.903968811035156,
          9.905824661254883,
          9.542220115661621,
          9.006312370300293,
          9.702409744262695,
          9.433841705322266
         ]
        },
        {
         "hoverinfo": "text",
         "hovertext": [
          "河南 洛阳 文化 广电 旅游局 此前 发布 通报 显示 日至 洛阳市 旅游 景区 面向全国 人民 限量 门票 通报 发布 限量 门票 景区 包括 龙门石窟 白马寺 老君山 5A 景区 4A 景区 3A 景区 通报 介绍 期间 洛阳市 景区 每天 发放 免费 门票 万张 当地 提醒 游客 参加 本次 活动 采取 实名 预约 全国 游客 微信 公众 洛阳 旅游 享游 洛阳 官方 进入 门票 预约 活动 专区 选择 景区 预约 游客 门票 活动 期间 每个 景区 只能 预约 一次 选择 日期 预约 名额 已满 另行 选择 预约 时间 正常 购票 进入 景区\n",
          "洛阳 旅游 攻略 隋唐洛阳城 国家 遗址 公园 恢复正常 售票 河南省 文旅厅 工作 安排 洛阳市 疫情 防控 最新 要求 通知 避免 人群 聚集 保障 广大 游客 朋友 身体健康 日起 隋唐洛阳城 国家 遗址 公园 豫见 春天 惠游 老家 免票 活动 取消 景区 恢复正常 门票价格 即日起 隋唐洛阳城 应天门 3D 投影 暂停 播放 恢复 播放 时间 另行通知 河南 文旅通 程序 成功 预约 参观 游客 符合 景区 疫情 防控 要求 正常 入园 参观 预约 以后 日期 游客 平台 办理 退约 流程 及时 调整 行程 旅行 带来 不便 敬请 谅解 邂逅 隋唐 全景 洛阳\n",
          "暂停 服务 洛阳市 旅游 年票 管理 办公室 发布 最新 通知 洛阳 旅游 年票 暂停 服务 通知 尊敬 年票 用户 洛阳 旅游 年票 机房 系统 进行 维护 升级 期间 暂停 洛阳 旅游 年票 上线 销售 查询 服务 在此期间 年票 用户 景区 正常 使用 年票 电子 年票 二维码 提前 截图 手机 刷卡 入园 恢复正常 售票 查询 年票 服务 如遇 问题 及时 拨打 热线 带来 不便 敬请 谅解 洛阳市 旅游 年票 管理 办公室 洛阳 爆料\n",
          "洛阳 身边 通知 洛阳 旅游 年票 暂停 办理 洛阳市 旅游 年票 管理 办公室 洛阳 旅游 年票 管理 办公室 零时 起至 洛阳 旅游 年票 信息管理系统 进行 功能 扩展 项目 部署 实施 受此 影响 届时 旅游 年票 信息管理系统 暂时 关闭 全市 旅游 年票 代理 销售点 暂停 办理 洛阳 旅游 年票 销售 补卡 查询 相关 业务 日起 恢复 以上 业务 办理 旅游 年票 景区 在此期间 影响 洛阳 旅游 年票 持卡 用户 正常 开放 旅游 年票 景区 刷卡 入园 洛阳 万达 广场\n",
          "日起 河南 景区 门票 河南省政府 新闻办 召开 新闻 发布会 获悉 豫见 春天 惠游 老家 活动 启动 河南省 3A 景区 日至 部分 景区 日至 面向 游客 门票 免票 时间 长达 半月 据悉 本次 门票 景区 全省 景区 82% 5A 景区 4A 景区 3A 以下 景区 洛阳龙门石窟 安阳 林州 红旗渠 热门 景区 参加 此次 免票 活动 从省 文化 旅游 了解 出行 游客 微信 支付宝 平台 查找 河南 文旅通 官方 预约 程序 进行 实名制 免票 预约 入园 核验 游客 健康 行程 门票 免费 景区 二次 消费 景区 交通 费用 河南 广播 电视台 高慧\n",
          "洛阳 小时 洛阳市 纪委 发布 十条 禁令 督促 党员干部 廉洁 过节 今天 洛阳市 纪委 下发 持之以恒 正风肃纪 确保 元旦 春节 风清气 通知 发布 十条 禁令 严禁 违规 滥发 津贴 补贴 奖金 实物 严禁 公款 相互 走访 送礼 拜年 活动 严禁 违规 公款吃喝 公款 旅游 接受 提供 可能 影响 公正 执行公务 宴请 严禁 公款 回乡 探亲 党员干部 安排 旅游 餐饮 住宿 活动 严禁 出入 隐蔽 场所 私人 违规 吃喝 严禁 违规 操办 婚丧喜庆 事宜 借机 敛财 严禁 公车私用 私车 公养 严禁 公务人员 工作日 午间 饮酒 节假日 值班 期间 饮酒 严禁 相关 费用 转嫁给 下属单位 国有 民营企业 严禁 违规 收受 礼品 礼金 消费 有价证券 支付 凭证 商业 预付卡 电子 红包\n",
          "冬游 洛阳 洛阳 冬季 文化 旅游 惠民 消费 开启 高铁 车票 洛阳 游客 享受 景区 门票 半价 优惠 洛阳 市政府 获悉 今年 日至 期间 洛阳 开展 冬季 文化 旅游 惠民 消费 活动 期间 全国 各地 高铁 动车 到达 洛阳 游客 纸质 车票 洛阳 景区 享受 门票 半价 优惠 据悉 本次 活动 洛阳 整合 冰雪 温泉 庙会 城市 书房 博物馆 各类 文化 旅游 资源 推出 冬游 冬俗 冬购 冬读 冬赏 冬学 冬娱 七大 板块 活动 内容 期间 部分 滑雪场 温泉 热点 消费 场所 推出 优惠 滑雪 温泉 门票 折扣 报销 高速 过路费 降价 增值 免费 活动 河南 全国 各地 高铁 动车 到达 洛阳 游客 到达 之日起 日内 纸质 车票 包括 老君山 鸡冠 龙潭 大峡谷 白云山 5A 景区 在内 景区 半价 购票 入住 部分 酒店 享受 房价 优惠 新春 期间 洛阳 隋唐 遗址 植物园 庙会 灯会 关林 庙会 王城 公园 新春 游园会 天堂 明堂 新春 游园会 活动 实施 消费 优惠 春节 元宵节 期间 举办 万名 学子 洛阳 河洛 欢歌 文化 惠民 演出 灯谜 猜猜猜 爱上 博物馆 系列 活动 广大 市民 游客 丰富 多样 节日 活动 找到 参与 消费\n",
          "门票 门票 门票 重要 三遍 洛阳 白云山 门票 洛阳 白云山 庆祝 中国 旅游 到来 洛阳 白云山 决定 中国 旅游 当天 推出 免票 优惠政策 当天 针对 所有 游客 实行 门票 政策 接待量 超过 核定 最大 承载量 30% 限流 远离 人潮 远离 车流 伴着 蓝天 白云 瀑布 鸟鸣 心爱 穿着 白纱 微笑 款款 而来 整个 自然 感受 自然 云端 幸福 玻璃 横跨 九龙 峡谷 之上 山峦 风景 展现 一览无遗 全程 体验 悬空 行走 更能 体验 九龙 瀑布 彩虹 美景 清晨 日出 茫茫 云海 踏上 金顶 那一刻 峰峦 叠翠 流云 清风 所有 登山 疲惫 诸脑 尽情 享受 云海 仙山 魅力 门票 门票 门票 重要 三遍\n",
          "洛阳 身边 秀美 栾川 高速 售票 栾川 景区 客流 高峰 游客 解忧 十一 黄金周 旅游 目的地 栾川 迎来 大量 游客 更好 服务 游客 重渡 景区 全员 上阵 售票 检票 交通 多方面 考虑 增派 人员 多点 服务 游客 深度 游客 解忧 解决 游客 高峰 排队 购票 入园 检票 问题 重渡 管委会 联合 重渡 景区 重渡 竹筏 漂流 伏牛山 东北虎 洛栾 高速 重渡 设立 临时 售票处 游客 一下 高速 分流 购票 直接 入园 省去 停车 排队 集中 购票 时间 此举 深受 游客 赞扬 国庆 期间 日入园 游客 一万多 景区 一系列 措施 售票处 出现 排长队 现象 游客 购票 体验 轻松\n",
          "洛阳 旅游 年票 在线 续费 昨日 获悉 日起 洛阳 旅游 年票 在线 续费 信息 查询 功能 恢复 满足 相应 条件 洛阳 旅游 年票 持卡人 洛阳 旅游 微信 公众 lylvyou63322 洛阳 旅游 年票 官网 进行 年票 在线 续费 信息 查询 操作 洛阳 旅游 年票 管理 办公室 相关 负责人 介绍 旅游 年票 进行 在线 续费 必须 满足 以下 条件 年票 编号 以后 开头 卡片 注册 时间 小于 IC卡 洛阳 户籍 身份证 办理 旅游 年票 户口本 外地 户籍 身份证 办理 旅游 年票 线下 年票 发售点 办理 相关 业务 续费 时间 旅游 年票 到期日 天至 到期 负责人 介绍 在线 续费 旅游 年票 生效 时间 已过期 旅游 年票 续费 之日起 第五天 生效 有效期 生效 之日起 一年 过期 旅游 年票 续费 直接 生效 有效期 年票 到期日 次日 一年 续费 成功 无须 换卡 使用 旅游 年票 即可 继续 畅游 年票 覆盖 景区 具有 洛阳 户籍 洛阳 求学 大中专 学生 洛阳 工作 生活 一年 以上 外地 户籍 人员 办理 洛阳 旅游 年票 来自 洛阳 晚报\n",
          "洛阳 身边 重磅 消息 洛阳 取消 旅游 年票 旺季 使用 限制 洛阳市 修订 洛阳市 旅游 年票 使用 管理 办法 研究 原则 办法 规定 我市 新增 一批 景区 纳入 旅游 年票 使用 范围 取消 旅游 年票 旺季 使用 限制 昨天 召开 市政府 常务会议 获悉 我市 修订 洛阳市 旅游 年票 使用 管理 办法 研究 原则 办法 规定 我市 新增 一批 景区 纳入 旅游 年票 使用 范围 取消 旅游 年票 旺季 使用 限制 会议 强调 旅游 年票 一项 惠民 工程 办法 出台 做好 宣传 解释 推广 旅游 年票 利民 惠民 政策 家喻户晓 以后 洛阳 市民 何时何地 美美 游玩 洛阳 景点 骄傲 洛阳人 傲娇 起来 洛阳 广播 电视台\n",
          "长三角 旅游 联盟 洛阳 老君山 景区 近千名 游客 欠条 年内 免费 入园 一次 旅行 凭此 欠条 可免 门票 入园 一次 有效期 十年 洛阳 栾川 老君山 景区 达到 最大 游客 承载量 预约 慕名而来 游客 遭遇 限流 抚慰 游客 失落 心情 景区 门口 上千 游客 送上 奶茶 鸡腿 简餐 打下 一张 欠条 很多 游客 提前 预约 几百公里 千公里 来到 老君山 恰好 遇到 景区 限流 景区 门口 进不去 心情 肯定 不爽 不能 心寒 临时 决定 未能 入园 游客 打个 欠条 希望 能够 感受 满满的 诚意 当天 共发 欠条 河南省 老君山 文旅 集团 副总经理 周向毅 老君山 景区 平时 限定 日期 后来 干脆 写个 时间 时间 随时 顶端 新闻 洛阳 老君山 景区 近千名 游客 欠条 年内 免费 入园 http mapi 005vnhZYgy1hdm2if50dfj60hq09ygr802\n",
          "洛阳 旅游 攻略 明堂 天堂 景区 免费 开放 明堂 天堂 景区 区域 时段 面向 洛阳 九县 免费 开放 隋唐 景区 针对 洛阳 九县 免费 开放 身份证 即可 免费 入园 日至 活动 期间 洛阳 九县 游客 本人 有效 身份证 享受 免费 入园 参观 游览 活动 具体 免费 政策 如下 12.01 12.08 面向 洛宁县 宜阳县 实施 全免 12.09 12.16 面向 栾川县 嵩县 实施 全免 12.17 12.23 面向 偃师 新安县 孟津县 实施 全免 12.24 12.31 面向 汝阳县 伊川县 实施 全免 活动 期间 游客 身份证 即可 入园 参观 游览 内容 包含 武则天 至尊 所居 布政之宫 明堂 御用 佛塔 圣堂 目前 景区 全天 常态 演出 九场 感受 盛唐 文化 吞吐 气象 一场 文化 饕餮 盛宴 游览 地址 中州 中路 定鼎 交叉口 隋唐洛阳城 国家 遗址 公园 明堂 天堂 景区 市内 可乘 公交车 中州 定鼎 路口 下车 即可 玉面 独行\n",
          "洛阳 小时 日至 洛阳 旅游 年票 服务 暂停 办理 时至 洛阳 旅游 年票 上线 销售 续费 旅游 年票 官网 微信 相关 服务 暂停 办理 几天 想要 办理 洛阳 旅游 年票 市民 时至 洛阳 旅游 年票 上线 销售 续费 旅游 年票 官网 微信 相关 服务 暂停 办理 洛阳 旅游 年票 机房 系统维护 暂停 服务 通知 更好 服务 年票 用户 年票 系统 运转 拟定 时至 洛阳 旅游 年票 机房 进行 系统维护 在此期间 暂停 洛阳 旅游 年票 上线 销售 续费 旅游 年票 官网 微信 相关 服务 在此期间 影响 年票 用户 景区 使用 如遇 问题 及时 拨打 热线 带来 不便 敬请 谅解 洛阳市 旅游 年票 管理 办公室\n",
          "景区 回来 有奖 新版 景区 六大 优势 地区 需用 一寸 照片 次数 几次 时间 随时随地 不用 预约 说走就走 旅行 包含 景区 大部分 景点 安阳 周边 知名 景区 一次 够本 景区 费用 不高 中奖率 适合 自驾游 办理 抓紧时间 联系 自驾游 好帮手 朋友 贴心 礼物 抢卡 电话 俊梅 微信 微信 邯郸 太行 五指山 长治 天脊 菏泽 孙膑 旅游城 开封 中国 翰园 邯郸 谷子 淇县 灵山 淇县 朝阳 摘星 鹤壁 岩山 卫辉 跑马 林州 龙洞 国家森林公园 卫辉 灵泉峡 卫辉 龙卧岩 峰峰 山底 抗日 地道战 邯郸 造像 博物馆 朱仙镇 岳飞 辉县 顶山 尉氏县 海港 水上 乐园 栾川 红豆杉 栾川 东北虎 洛阳 周王城 天子 驾六 焦作 青龙峡 淇县 云梦山 济源 小沟 卫辉 比干庙 邢台 武当山 邯郸 华山 邯郸 十六 邯郸 铜雀 三台 邯郸 抗日 地道战 电话 微信 林州 开元 街区\n",
          "洛阳 身边 十一 假期 洛阳 景区 酒店 不得 变相涨价 洛阳市 价格 监督 检查 规范 十一 假期 价格 秩序 优化 节日 市场 消费 环境 洛阳市 展开 专项 价格 检查 行动 洛阳市 价格 监督 检查 工作人员 介绍 此次 重点 检查 商品 服务 收费 明码标价 收费 公示 制度 执行 情况 严肃查处 虚假 标价 模糊 价格 虚构 原价 虚假 打折 模糊 赠售 隐瞒 价格 附加条件 履行 价格 承诺 价格 欺诈 行为 主要 检查 项目 包括 加强 出租车 公共交通 运输工具 价格 监管 严厉打击 价外 收费 违法行为 加强 旅行社 监管 防止 虚假 打折 虚假 优惠 加强 宾馆 酒店 床位 价格 监管 防止 价格 串通 哄抬物价 开展 旅游景点 检查 门票 停车费 缆车 收费 价格 监管 重点 市民 生活 关系密切 超市 农贸市场 停车场 场所 此次 检查 重点 价格 监督 检查 提醒 市民 如遇 价格 维权 问题 可留 证据 拨打 小时 热线电话 举报 问题 一经 查实 工作人员 相应 商家 严肃处理 郭飞飞\n",
          "百城 过大年 洛阳 爆料 好消息 洛阳龙门石窟 门票 半价 以上 免费 龙门石窟 景区 获悉 日至 景区 所有 游客 实行 半价 优惠 全国 周岁 以上 游客 群体 执行 门票 免票 优惠 龙门石窟 景区 相关 负责人 介绍 响应 河南省 文化 旅游 春满 中原 老家 河南 全省 5A 景区 春季 旅游 活动 通知 日至 龙门石窟 全国 游客 执行 门票 半价 优惠 享受 景区 门票 免票 优惠政策 游客 群体 执行 景区 现行 优惠政策 享受 门票 半价 优惠 游客 群体 享受 半价 优惠政策 不再 进行 二次 优惠 景区 服务项目 此次 活动 范围 执行 政策 不变 日至 倡导 敬老 爱老 社会风尚 龙门石窟 景区 全国 周岁 以上 游客 群体 执行 门票 免票 优惠 年满 周岁 游客 本人 有效 身份证 即可 享受 门票 免费 优惠政策 直接 验证 入园 洛阳\n",
          "河南 多家 景区 取消 门票 免费 活动 疫情 防控 情况 河南 多家 景区 相继 发布公告 旅游 景区 门票 消费 活动 提前结束 日起 恢复正常 门票价格 截至 郑州 博园 景区 博园 景区 嵩山 景区 洛阳 老君山 景区 鸡冠 景区 重渡 景区 竹林 野生 动物园 眉山 景区 焦作 云台山 景区 青龙峡 峰林 景区 影视城 景区 天河 景区 陈家沟 景区 嘉应观 景区 森林 动物园 景区 山寺 景区 新乡 太行 景区 安阳 红旗渠 景区 太行 大峡谷 景区 信阳 鸡公山 景区 济源 王屋山 景区 龙口 鹤壁 淇县 朝阳 景区 发布公告 暂停 免票 活动 周口 太昊陵 景区 日起 暂时 闭园 恢复 时间 另行通知 景区 发布 最新 防疫 政策 明确 景区 严格 限量 预约 错峰 要求 实行 实名制 预约 所在地 以外 风险 地区 游客 需要 小时 核酸 检测 证明 暂时 接待 行程 码带 游客 暂时 接待 健康 码为 红码 黄码 游客 接待 体温 异常 游客 据悉 河南 文化 旅游 宣布 3A 以上 景区 参加 豫见 春天 惠游 老家 活动 游客 实行 首道 门票 免费 5A 景区 4A 景区\n",
          "自驾游 栾川 高速 全免费 活动 引客 效果显著 本月 栾川县 推出 自驾游 栾川 高速 全免费 活动 成为 旅游 市场 亮点 截至 短短 时间 栾川县 接待 游客 万人次 万辆 私家车 洛栾 高速 栾川 重渡 沟站 免费 进入 栾川 几项 数据 创下 历史 新高 这次 高速公路 免费 活动 栾川 旅游 营销 一次 创新 尝试 这次 尝试 栾川 带来 此类 活动 未来 科学 有效 施惠 于民 这次 活动 旅游 产业 转型 旅游 营销 升级 有何意义 问题 进行 采访 自驾游 栾川 高速 全免费 活动 引客 效果显著\n",
          "春节 期间 河南 旅游 景区 减免 门票 河南省政府 新闻办 召开 河南省 大力 提振 市场 信心 促进 经济 稳定 新闻 发布会 获悉 河南 时而 打好 文旅 市场 重振 组合拳 掀起 河南人 河南 热潮 叫响 行走 河南 读懂 中国 回老家 过年 文旅 品牌 近期 全省 旅游 景区 集中 推出 减免 门票 活动 包括 龙门石窟 少林寺 殷墟 红旗渠 老君山 知名 旅游 景区 真正 大家 惠游 河南 各地 发放 文旅 消费 券来 拉动 消费 郑州 开封 洛阳 分别 发放 万元 万元 万元 文旅 消费 有效 激活 文旅 消费 城市 烟火 重回 中原 大地 详情\n",
          "河南 旅游 洛阳 身边 游山玩水 猛虎 三八节 女士 免票 栾川 重渡 风景区 三八节 期间 女士们 准备 惊喜 重渡 景区 所有 女士 免票 举办 免费 抽奖 活动 奖品 类别 重渡 风景区 门票 原价 伏牛山 东北虎 全免 大礼包 游虎园 全免费 含虎园 门票 交通 往返 散放 观虎车 奖品 数量 重渡 门票 虎园 门票 奖品 名额 每天 随机 抽取 幸运 女神 奖品 抽取 十个 进行 随机 赠送 举行 抽奖 活动 期间 购买 重渡 门票 可送 伏牛山 东北虎 门票 观光车 观虎车\n",
          "狂欢 继续 嵩县 免费 活动 再延 不可 错过 答谢 广大 游客 嵩县 旅游 工作 支持 厚爱 进一步 持续 高速 免费 热度 高速 免费 活动 过后 嵩县 旅游局 再次 推出 旅游 惠民 政策 活动 时间 活动 内容 活动 时段 全国 范围 以下 客车 嵩县 产业 集聚 区站 嵩县 旧县 九龙山 河南 高速 收费 票据 两日 当日 嵩县 境内 景区 白云山 木札岭 天池 河漂流 等额 折扣 景区 门票 不含 交通 费用 不足 部分 现金 补齐 票价 超出 部分 不再 退还 差额 洛阳\n",
          "焦作 身边 同城 报料 春节 地方 峰林 焦作 市民 含所 辖区 门票 门票 农历 正月初一 初七 峰林 焦作 市民 含所 辖区 门票 峰林 所有 云台山 年卡 用户 门票 3.2 日前 峰林 景区 面向全国 游客 门票 半价 旅游热线 咨询电话 救援 电话 旅游 投诉 建议 工作 时间 拨打 餐饮 咨询 订餐 电话 司机 自驾 郑州 方向 郑云 高速 S87 云台山 焦辉路 S306 青云 大道 X006 青龙峡 峰林 景区 新乡 方向 晋新 高速 G5512 郑云 高速 S87 云台山 焦辉路 S306 青云 大道 X006 青龙峡 峰林 景区 洛阳 方向 二广 高速 G55 长济 高速 G28 焦温 高速 S49 晋新 高速 G5512 南路 影视 青云 大道 X006 青龙峡 峰林 景区 安阳 方向 港澳 高速 晋新 高速 G5512 郑云 高速 S87 云台山 焦辉路 S306 青云 大道 X006 青龙峡 峰林 景区\n",
          "庆祝 河南省 老君山 文化 旅游 集团 重金 打造 老君山 景区 周年 河南 栾川 老君山 景区 重磅 回馈 社会 优惠政策 门票 免费 栾川 老君山 景区 全国 人民 门票 时间 O8 高速 免费 全国 所有 自洛栾 高速 栾川 重渡 以下 客车 河南省 高速公路 通行费 流量 控制 日免 门票 限额 万人 老君山 景区 单日 游客 最大 承载量 游客 放心 前来 服务 保障 免费 回馈 全国 人民 老君山 景区 优质服务 打折 老君山 景区 必将 饱满 热情 优质 服务 规范 管理 便捷 交通 高效 机制 游客 打造 舒心 便捷 安全 游览 环境 河南 老君山 映象 栾川 好景 中原 洛阳 头条 豫见 栾川 洛阳 洛阳 栾川县 城关镇\n",
          "洛阳 旅游 一张 所有 游乐 项目 阳春 三月 组队 看花 孩子 万安 郁金香 花海 门票 免费 景区 游乐园 套票 优惠 伊滨区 万安 山豪泽 郁金香 花海 套票 游乐 设施 通玩 套票 价格 散客 提前 小时 出票 团队 以上 随出 随用 万安 山豪泽 郁金香 花海 套票 包含 项目 如下 第一站 新春 庙会 第二站 万国 花海 第三站 动物园 第四站 空中 漫步 第五站 恐怖 第六站 恐龙 第七站 冰雪 世界 第八 逍遥 水母 第九 碰碰车 第十 海盗船 第十一 旋转 木马 第十二 卡丁车 第十三 喷球车 第十四 5d 电影 需要 自费 项目 吊桥 科技馆 万安 山豪泽 郁金香 开园 时间 订票 电话 微信\n",
          "洛阳 日至 洛阳 旅游 年票 服务 暂停 办理 洛阳 旅游 年票 机房 系统维护 暂停 服务 通知 更好 服务 年票 用户 年票 系统 运转 拟定 时至 洛阳 旅游 年票 机房 进行 系统维护 在此期间 暂停 洛阳 旅游 年票 上线 销售 续费 旅游 年票 官网 微信 相关 服务 在此期间 影响 年票 用户 景区 使用 如遇 问题 及时 拨打 热线 带来 不便 敬请 谅解 洛阳市 旅游 年票 管理 办公室 洛阳\n",
          "享游 洛阳 洛阳 日至 洛阳 旅游 年票 服务 暂停 办理 时至 洛阳 旅游 年票 上线 销售 续费 旅游 年票 官网 微信 相关 服务 暂停 办理 几天 想要 办理 洛阳 旅游 年票 市民 时至 洛阳 旅游 年票 上线 销售 续费 旅游 年票 官网 微信 相关 服务 暂停 办理 洛阳 旅游 年票 机房 系统维护 暂停 服务 通知 更好 服务 年票 用户 年票 系统 运转 拟定 时至 洛阳 旅游 年票 机房 进行 系统维护 在此期间 暂停 洛阳 旅游 年票 上线 销售 续费 旅游 年票 官网 微信 相关 服务 在此期间 影响 年票 用户 景区 使用 如遇 问题 及时 拨打 热线 带来 不便 敬请 谅解 洛阳市 旅游 年票 管理 办公室 洛阳\n",
          "洛阳 爆料 洛阳 旅游 洛阳 旅游 年票 增添 两个 景区 手中 旅游 年票 值钱 洛阳市 人民政府 办公室 印发 洛阳市 旅游 年票 使用 管理 办法 通知 文件 规定 鼓励 社会 企业 商业 开发 建设 旅游 景区 自愿 加入 旅游 年票 景区 原则 国家 5A 旅游 景区 焦作 神农 景区 门票价格 国家 4A 旅游 景区 济源 黄河 三峡 景区 门票价格 申请加入 洛阳 旅游 年票 焦作 神农 景区 济源 黄河 三峡 景区 洛阳市 旅游 年票 管理 办公室 申请加入 洛阳 旅游 年票 景区 年票 工作人员 现场 实地考察 两个 景区 基础设施 管理 服务 安全 应急 方面 具有 相应 基础 认为 两个 景区 具备 接待 旅游 年票 游客 条件 上报 文旅局 同意 景区 加入 洛阳 旅游 年票 景区 目前 完成 年票 设备 安装 景区 人员培训 从即日起 接待 洛阳 旅游 年票 游客\n",
          "广而告之 旅游 年票 管理 办公室 零时 起至 洛阳 旅游 年票 信息管理系统 进行 功能 扩展 项目 部署 实施 受此 影响 届时 旅游 年票 信息管理系统 暂时 关闭 全市 旅游 年票 代理 销售点 暂停 办理 洛阳 旅游 年票 销售 补卡 查询 相关 业务 日起 恢复 以上 业务 办理 旅游 年票 景区 入园 在此期间 影响 洛阳 旅游 年票 持卡 用户 正常 开放 旅游 年票 景区 刷卡 入园 洛阳 旅游 年票 管理 办公室 洛阳 旅游 年票 暂停 办理 这家 景区 要免 门票\n",
          "洛阳 身边 栾川 高速 负费 第一位 游客 抵栾 喜获 多重 豪礼 一辆 牌照 小轿车 从洛栾 高速 栾川 驶出 栾川 第二届 高速 免费 活动 正式 拉开帷幕 这位 车主 幸运地 成为 此次 活动 第一位 受益者 活动 首位 游客 陈先生 享受 高速 免费 优惠活动 节省 过路费 免费 得到 栾川 景区 旅游 套票 智选 假日酒店 体验 栾川 印象 大礼包 爱心 西瓜 意外 不敢相信 工作人员 手中 接过 奖品 陈先生 激动不已 陈先生 是从 江苏 扬州 过来 这次 听说 栾川 高速 免费 活动 专程来 栾川 游玩\n",
          "百城 过大年 洛阳 狂欢夜 好消息 洛阳龙门石窟 门票 半价 以上 免费 龙门石窟 景区 获悉 日至 景区 所有 游客 实行 半价 优惠 全国 周岁 以上 游客 群体 执行 门票 免票 优惠 龙门石窟 景区 相关 负责人 介绍 响应 河南省 文化 旅游 春满 中原 老家 河南 全省 5A 景区 春季 旅游 活动 通知 日至 龙门石窟 全国 游客 执行 门票 半价 优惠 享受 景区 门票 免票 优惠政策 游客 群体 执行 景区 现行 优惠政策 享受 门票 半价 优惠 游客 群体 享受 半价 优惠政策 不再 进行 二次 优惠 景区 服务项目 此次 活动 范围 执行 政策 不变 日至 倡导 敬老 爱老 社会风尚 龙门石窟 景区 全国 周岁 以上 游客 群体 执行 门票 免票 优惠 年满 周岁 游客 本人 有效 身份证 即可 享受 门票 免费 优惠政策 直接 验证 入园\n",
          "好消息 洛阳 旅游 年票 双节 放假 更好 发挥 旅游 年票 利民 惠民 作用 旅游 年票 全年 使用 中秋节 国庆节 双节 假期 受限 市旅 发委 年票 相关 负责人 提醒 目前 洛阳 旅游 年票 在线 续费 信息 查询 功能 恢复 满足 相应 条件 洛阳 旅游 年票 持卡人 洛阳 旅游 微信 公众 洛阳 旅游 年票 官网 进行 年票 在线 续费 信息 查询 操作 已过期 旅游 年票 续费 之日起 生效 有效期 生效 之日起 一年 过期 旅游 年票 续费 直接 生效 有效期 年票 到期日 次日 一年 更好 服务 旅游 年票 用户 洛阳 旅游 年票 涵盖 景区 正在 迎接 游客 高峰 各项 准备 工作 市旅 发委 年票 工作人员 机房 景区 验票 设备 进行 升级 维护 旅游 年票 销售点 负责人 进行 专业培训\n",
          "洛阳 洛阳 旅游 年票 出租 五男十女 年票 游玩 景区 包括 限于 龙门石窟 白云山 龙潭 大峡谷 白马寺 王城 公园 著名景点 年票 电子版 二维码 形式 一人 景区 10r 进不去 可退 提供 购票 证明 退款 必要条件 介意 日期 景点 性别 人数 提前 预约 游玩 前可退 当天 售出 保证 所有 景点 测查 不严 戴着 口罩 年票 通道 基本 不看 二维码 当日 购买 就要 当日 使用 年票 小时 使用 成功 概不 退款 工作人员 拦下 无法 入园 提供 官方 购票 凭证 申请 退款 情况 导致 无法 入园 概不负责\n",
          null
         ],
         "marker": {
          "opacity": 0.5,
          "size": 5
         },
         "mode": "markers+text",
         "name": "8_年票_景区_门票",
         "text": [
          "",
          "",
          "",
          "",
          "",
          "",
          "",
          "",
          "",
          "",
          "",
          "",
          "",
          "",
          "",
          "",
          "",
          "",
          "",
          "",
          "",
          "",
          "",
          "",
          "",
          "",
          "",
          "",
          "",
          "",
          "",
          "",
          "",
          "8_年票_景区_门票"
         ],
         "textfont": {
          "size": 12
         },
         "type": "scattergl",
         "x": [
          6.339156150817871,
          6.438845634460449,
          5.06951379776001,
          5.1202263832092285,
          6.424511909484863,
          5.120814800262451,
          6.2586774826049805,
          6.133845806121826,
          6.815754413604736,
          5.074879169464111,
          5.128445625305176,
          6.811859130859375,
          6.543536186218262,
          5.073982238769531,
          6.766007423400879,
          5.12097692489624,
          6.459402084350586,
          6.434441089630127,
          6.364295959472656,
          6.378925800323486,
          6.8830084800720215,
          6.444721698760986,
          6.563900470733643,
          6.371127128601074,
          6.925475597381592,
          5.078193664550781,
          5.09525728225708,
          6.212799072265625,
          5.101294040679932,
          6.387791156768799,
          6.432183265686035,
          5.371983528137207,
          6.538695812225342,
          6.038924694061279
         ],
         "y": [
          10.377284049987793,
          10.393325805664062,
          10.549410820007324,
          10.547968864440918,
          10.36412239074707,
          10.51684856414795,
          10.32929801940918,
          10.100359916687012,
          10.506684303283691,
          10.553714752197266,
          10.550549507141113,
          10.496087074279785,
          10.444580078125,
          10.524618148803711,
          10.5292329788208,
          10.525154113769531,
          10.392098426818848,
          10.404017448425293,
          10.023015975952148,
          10.262065887451172,
          10.556455612182617,
          10.022919654846191,
          10.4662504196167,
          9.90959358215332,
          10.527182579040527,
          10.539265632629395,
          10.554899215698242,
          10.376553535461426,
          10.532498359680176,
          9.9962739944458,
          10.383525848388672,
          10.54191780090332,
          10.466383934020996,
          10.401944160461426
         ]
        },
        {
         "hoverinfo": "text",
         "hovertext": [
          "河南 多家 景区 陆续 开园 台风 杜苏芮 强度 逐渐 减弱 河南 景区 陆续 发布 开园 公告 截至 景区 开园 名单 老君山 景区 白云山 景区 重渡 景区 龙峪湾 景区 天河 大峡谷 景区 鸡冠 景区 竹海 野生 动物园 王府 竹海 度假 旅游区 洛阳 伏牛山 滑雪 度假 乐园 养子 景区 抱犊寨 景区 汉光武帝 景区 伊川 建业 绿色 基地 二里头 夏都 遗址 博物馆 洛阳 民俗 博物馆 千唐志斋 博物馆 洛阳 有生 工矿 景区 花果山 景区 连宝河 大峡谷 景区 灵山 风景区 荆紫 仙山 景区 九洲 景点 龙潭 大峡谷 景区 不夜城 洛阳 灵山 莲花 水城 万安 旅游 度假区 木札岭 景区 洛水 昌谷 景区 天池 景区 郑在\n",
          "游客 劝阻 卷入 多名 游客 劝阻 礁石 拍照 日照 卷入 当地 核实 网传 一段 山东 日照 灯塔 风景区 多名 游客 卷入 显示 日照市 灯塔 风景区 海岸边 大浪 多名 游客 不顾 景区 保安 劝阻 上海 礁石 拍照 留念 现场 目击者 游客 发生意外 卷入 日照市 旅发委 确认 现场 找到 落水 游客 两名 来自 洛阳 义马市 女性 游客 已经 遇难 对此 洛阳市 旅游 发展 委员会 工作人员 表示 清楚 此事 汇报 核实 游客 礁石 拍照 卷入 大海 两人 不幸遇难\n",
          "小洛微 提醒 河南 多家 景区 陆续 发布 开园 公告 台风 杜苏芮 强度 逐渐 减弱 河南 景区 陆续 发布 开园 公告 截至 景区 开园 名单 老君山 景区 白云山 景区 重渡 景区 龙峪湾 景区 天河 大峡谷 景区 鸡冠 景区 竹海 野生 动物园 王府 竹海 度假 旅游区 洛阳 伏牛山 滑雪 度假 乐园 养子 景区 抱犊寨 景区 汉光武帝 景区 伊川 建业 绿色 基地 二里头 夏都 遗址 博物馆 洛阳 民俗 博物馆 千唐志斋 博物馆 洛阳 有生 工矿 景区 花果山 景区 连宝河 大峡谷 景区 灵山 风景区 荆紫 仙山 景区 九洲 景点 龙潭 大峡谷 景区 不夜城 洛阳 灵山 莲花 水城 万安 旅游 度假区 木札岭 景区 洛水 昌谷 景区 天池 景区 大象 新闻\n",
          "河南 多家 景区 陆续 发布 开园 公告 台风 杜苏芮 强度 逐渐 减弱 河南 景区 陆续 发布 开园 公告 河南 迎战 台风 杜苏芮 截至 景区 开园 名单 老君山 景区 白云山 景区 重渡 景区 龙峪湾 景区 天河 大峡谷 景区 鸡冠 景区 竹海 野生 动物园 王府 竹海 度假 旅游区 洛阳 伏牛山 滑雪 度假 乐园 养子 景区 抱犊寨 景区 汉光武帝 景区 伊川 建业 绿色 基地 二里头 夏都 遗址 博物馆 洛阳 民俗 博物馆 千唐志斋 博物馆 洛阳 有生 工矿 景区 花果山 景区 连宝河 大峡谷 景区 灵山 风景区 荆紫 仙山 景区 九洲 景点 龙潭 大峡谷 景区 不夜城 洛阳 灵山 莲花 水城 万安 旅游 度假区 木札岭 景区 洛水 昌谷 景区 天池 景区 猛犸 新闻\n",
          "洛阳 旅游 通知 降雪 天气 影响 栾川县 景区 暂停 接待 寒冬 瑞雪 漫天 飞雪 童话世界 雪景 虽美 出行 安全 重要 通知 降雪 天气 影响 县内 景区 暂停营业 停止 接待 具体 开放 时间 天气 道路 情况 另行通知 及时 拨打 景区 咨询电话 关注 景区 通知 大家 带来 不便 敬请 谅解 栾川 旅游 咨询 热线 景区 服务 热线 老君山 鸡冠 重渡 滑雪场 天河 大峡谷 龙峪湾 抱犊寨 养子 东北虎 栾众 伏牛 分享 洛阳 栾川县 城关镇\n",
          "文旅大 爆料 冰雪 中原 暖心 老家 马上 豫见 金秋 惠游 老家 河南省 多家 景区 门票 活动 结束 河南 冬季 旅游 惠民 活动 要来 活动 力度 据说 很大 可能 焦作 云台山 洛阳 老君山 网红 景区 再次 放出 活动 目前 疫情 总体 年底 家人 出去 感受 河南 冬季 旅游 特色 合适 今天 大家 推荐 洛阳 栾川 小众 宝藏 4A 景区 王府 竹海 度假 旅游区 老君山 属于 伏牛山 美景 不同 人少 景美 冬天 旅游 看到 冰挂 冰瀑 可能 见到 当地 金鸡 瑞鸟 鸾凤 原型 红腹锦鸡 重要 门票 直降 到底 半价 元游 4A 冬日 旅行 奇遇记 河南 旅行\n",
          "河南 多家 景区 陆续 发布 开园 公告 台风 杜苏芮 强度 逐渐 减弱 河南 景区 陆续 发布 开园 公告 截至 景区 开园 名单 老君山 景区 白云山 景区 重渡 景区 龙峪湾 景区 天河 大峡谷 景区 鸡冠 景区 竹海 野生 动物园 王府 竹海 度假 旅游区 洛阳 伏牛山 滑雪 度假 乐园 养子 景区 抱犊寨 景区 汉光武帝 景区 伊川 建业 绿色 基地 二里头 夏都 遗址 博物馆 洛阳 民俗 博物馆 千唐志斋 博物馆 洛阳 有生 工矿 景区 花果山 景区 连宝河 大峡谷 景区 灵山 风景区 荆紫 仙山 景区 九洲 景点 龙潭 大峡谷 景区 不夜城 洛阳 灵山 莲花 水城 万安 旅游 度假区 木札岭 景区 洛水 昌谷 景区 天池 景区\n",
          "河南 多家 景区 陆续 发布 开园 公告 台风 杜苏芮 强度 逐渐 减弱 河南 景区 陆续 发布 开园 公告 截至 景区 开园 名单 老君山 景区 白云山 景区 重渡 景区 龙峪湾 景区 天河 大峡谷 景区 鸡冠 景区 竹海 野生 动物园 王府 竹海 度假 旅游区 洛阳 伏牛山 滑雪 度假 乐园 养子 景区 抱犊寨 景区 汉光武帝 景区 伊川 建业 绿色 基地 二里头 夏都 遗址 博物馆 洛阳 民俗 博物馆 千唐志斋 博物馆 洛阳 有生 工矿 景区 花果山 景区 连宝河 大峡谷 景区 灵山 风景区 荆紫 仙山 景区 九洲 景点 龙潭 大峡谷 景区 不夜城 洛阳 灵山 莲花 水城 万安 旅游 度假区 木札岭 景区 洛水 昌谷 景区 天池 景区 大象 新闻\n",
          "洛阳 战疫 疫情 防控 重拳出击 洛阳 场所 关停 文旅 场所 活动 疫情 防控 重点 洛阳市 作出 部署 进一步 加强 互联网 上网 服务 营业 场所 歌舞 游艺 娱乐场所 星级 酒店 旅行社 营业性 演出 场所 旅游 活动 营业性 演出 活动 常态 疫情 防控 工作 洛阳市 文化 广电 旅游局 洛阳市 文化 市场 综合 行政 执法 支队 立即 市区 余家 网吧 娱乐场所 文化 市场 经营 单位 疫情 防控 措施 落实 情况 开展 地毯式 专项 检查 截至 目前 已有 网吧 KTV 场所 疫情 防控 措施 落实 到位 勒令 关停 疫情 防控 重拳出击 洛阳 场所 关停\n",
          "小浪底 西霞院 风景区 临时 闭园 公告 迎战 杜苏芮 河南 进行 尊敬 游客 朋友 洛阳市 文化 广电 旅游局 下达 紧急通知 要求 防范 应对 台风 杜苏芮 不利 影响 确保 广大 游客 生命财产 安全 小浪底 水利枢纽 风景区 西霞院 调节 水库 风景区 时起 临时 关闭 直至 气象 影响 风险 解除 已购 预售 门票 游客 朋友 可原路 退票 如需 协助 拨打 咨询电话 感谢您 理解 支持 由此 带来 不便 敬请 谅解 黄河 小浪底 水利枢纽 风景区\n",
          "河南 教育 洛阳 头条 网传 显示 昨晚 河南 老君山 索道 附近 发生 火灾 现场 浓烟滚滚 大火 持续 燃烧 惊慌失措 游客 乱跑 老君山 官方 网友 这是 一间 防腐木 商铺 起火 中灵 索道 负责人 第一 时间 拨打 电话 迅速 组织 人员 现场 查看 火情 疏散 现场 人员 随后 消防大队 应急 管理 相关 人员 及时 到达 现场 组织 扑救 工作 扑灭 本次 火情 造成 人员伤亡 重大 财产损失 此次 火情 影响 景区 正常 接待 游客 具体 起火 原因 需要 等待 消防 部门 权威 调查结果 第一第二 截图 显示 时许 老君山 发生 火灾 云台 野人 温馨 提醒 景区 旅游 安全 不能 放松 安全 第一 头条 旅游 老君山 景区 赵云\n",
          "事关 五一 假期 这份 安全 提示 查收 洛阳 美好 伊川 身边 伊川 县安 委办 应急 管理局 温馨 提示 五一 假期 生产 经营 单位 加强 安全 管理 彻底 排查 风险 隐患 强化 重大 危险源 管理 加强 值班 值守 完善 应急 处置 预案 防范 事故 发生 县安 委办 温馨 提示 五一 假期 市场监管 文化 广电 旅游 部门 加强 旅游 景区 安全监管 强化 高风险 项目 大型 游乐 设施 网红 打卡 监管 措施 县安 委办 温馨 提示 五一 假期 公安 交通 文化 广电 旅游 部门 加强 旅游 包车 长途客车 危化品 运输车 交通运输 安全监管 现场 执法 县安 委办 温馨 提示 五一 假期 进入 旅游 景区 宾馆饭店 商场 市场 场所 注意 查看 安全 出口 逃生 通道 消防设施 位置 熟悉 安全 出口 位置 自救 方法 县森防 办公室 温馨 提示 五一 假期 火险 等级 灭火 形势严峻 复杂 加强 巡查 防守 火源 管控 坚决 人为 火源 拒之林外 县森防 办公室 温馨 提示 五一 假期 正值 森林 火灾 多发 季节 进入 林区 荒山 严格遵守 防火 管理 规定 吸烟 不用 不得 烧荒 秸秆 燎地边 焚烧 垃圾 严防 火灾 发生 生命 无价 事故 无情 铭记 规章 善待 生命\n",
          "催眠 治疗 培训 原创 分享 十一 课程 洛阳市 举行 疫情 稳定 方便 大家 学习 十一 课程 调整 洛阳市 举行 课程 过去 十年 安排 著名景点 老君山 进行 优点 环境 优雅 风景秀丽 天热 氧吧 文化底蕴 深厚 旅游 避暑 催眠 学习 兼顾 起来 缺点 交通 不是 便利 这次 课程 安排 洛阳市 路途 减少 很多 劳顿 洛阳 处于 交通枢纽 地位 飞机 高铁 火车 汽车 非常 方便 洛阳 十八 古都 文化底蕴 更加 深厚 隋唐 遗址 龙门石窟 白马寺 著名景点 课程体系 成熟 完善 网络 基础 实操 地面 深度 研修 课程 相互 滋养 洛阳 地面 课程 属于 深度 研修 解决问题 为主 个案 处理 当做 载体 观摩 要点 解析 对练 答疑 交流 反馈 逐步 掌握 催眠 操作 要领 技巧 成为 合格 催眠 治疗师 课程 最大 收获 个人成长 和疗 兼顾 掌握 催眠 技能 希望 大家 千万 不要 错过 失眠 焦虑 抑郁 强迫 厌学 躯体 疼痛 夫妻关系 亲子关系 情感 问题 学习 一定 找到 答案 洛阳 欢迎您\n",
          "洛阳市 安委会 通报 全市 上半年 火灾 形势 夏季 火灾事故 高发 日前 召开 市政府 安委会 通报 全市 上半年 火灾 形势 发布 电气 火灾 警示 持续 深入开展 消防 专项 治理 进行 部署 数据 显示 四成 火灾 电气 引发 全天 时至 火灾 起火 场所 分布 火灾 分布 居民 住宅 火灾 起数 总数 36.6% 城乡 火灾 分布 城市 县城 城区 农村 火灾 起数 明显 下降 旅游区 区域 火灾 数则 明显 上升 火灾 直接 原因 各类 电气 因素 引发 火灾 总数 44.2% 电气 火灾 81.2% 电气 线路 故障 所致 10.3% 电器设备 故障 6.8% 电加热 器具 使用不当 所致 电气 火灾 比例 场所 宿舍 宾馆 招待所 公共 娱乐场所 厂房 商业 场所\n",
          "日照 身边 游客 景区 劝阻 礁石 拍照 卷入 遇难 一段 日照 灯塔 风景区 多名 游客 卷入 网上 广泛传播 两名 女性 游客 来自 洛阳 义马市 确认 已经 遇难 洛阳市 旅游 发展 委员会 工作人员 表示 清楚 此事 正在 汇报 核实 网上 一段 日照 灯塔 风景区 几名 游客 卷入 网上 广泛传播 显示 山东省 日照市 灯塔 风景区 海岸边 大浪 多名 游客 不顾 景区 劝阻 上海 礁石 拍照 留念 现场 目击者 游客 发生意外 卷入 现场 保安 后面 劝阻 游客 非得 礁石 照片 日照 灯塔 风景区 管理 办公室 工作人员 海边 树立 警示 标志 景区 广播 六点 广播 注意事项 部分 游客 劝阻 日照市 旅发委 主任 禚磊 表示 现场 找到 落水 游客 确认 两名 女性 游客 已经 死亡 两名 女性 游客 义马市 一家 旅行社 拼团 洛阳 一家 旅行社 目前 两名 遇难者 家属 已经 联系 日照市 相关 部门 正在 两家 旅行社 下午 映象 此事 致电 洛阳市 旅游 发展 委员会 义马市 文化 旅游局 两家 单位 工作人员 表示 清楚 此事 领导 汇报 核实 随后 洛阳市 旅游 发展 委员 一名 李姓\n",
          "河南人 口罩 戴好 预约 出游 河南 多家 景区 发布 疫情 防控 提醒 近期 国内 疫情 多地 蔓延 了解 两天 保障 广大 游客 身体健康 降低 旅游 风险 河南省 洛阳 白云山 景区 洛阳 龙门 景区 郑州 黄河 文化公园 焦作 云台山 风景 名胜区 多家 景区 加强 疫情 防控 景区 严格 落实 限量 预约 错峰 工作 要求 实行 线上 实名 购票 预约 游览 错峰 限量 入园 切实做好 常态 防控 科学 防控 各项 工作 目前 各地 景区 暂停 接待 高风险 地区 旅居 确诊 病例 所在地 旅居 游客 河南省 游客 需持 小时 核酸 阴性 证明 所有 入园 游客 正确 佩戴 口罩 出示 绿色 健康 通信 数据 行程 做好 防护 游览 自觉 保持 以上 安全 距离 主动 配合 工作人员 进行 预约 健康 核验 体温 检测 消毒 管理 景区 严格执行 环境卫生 消杀 制度 景区 售票 大厅 休息区 公共 区域 基础设施 进行 定时 消毒 完成 全员 接种 全员 核酸 每天 检测 体温 佩戴 口罩 防护 器具 手掌 外衣 每天 消毒 电子屏 广播 随时 发布 防疫 信息 游览 注意 提醒 游客 配合 景区 工作 共同 营造 安全 有序 文明 游览 环境 刘春香 实习生 崔璨\n",
          "下午 起卡 影响 河南 河南 多家 景区 恢复 开放 台风 杜苏芮 昨天 停止 编号 带来 降水 逐渐 减弱 省内 多家 景区 陆续 恢复 开放 具体 如下 平顶山 汝州市 文化 广电 旅游局 发布 通知 全市 所有 景区 除汝河 沙滩 公园 即日起 恢复 对外开放 洛阳市 截至 下午 洛阳 部分 景区 恢复 开放 名单 如下 老君山 景区 重渡 景区 龙峪湾 景区 天河 大峡谷 景区 鸡冠 景区 竹海 野生 动物园 王府 竹海 度假 旅游区 洛阳 伏牛山 滑雪 度假 乐园 养子 景区 抱犊寨 景区 汉光武帝 景区 伊川 建业 绿色 基地 二里头 夏都 遗址 博物馆 洛阳 民俗 博物馆 千唐志斋 博物馆 洛阳 有生 工矿 景区 花果山 景区 连宝河 大峡谷 景区 灵山 风景区 荆紫 仙山 景区 九洲 景点 龙潭 大峡谷 景区 不夜城 洛阳 灵山 莲花 水城 万安 旅游 度假区 木札岭 景区 洛水 昌谷 景区 天池 景区 魏雅琛 河南 局部 防范 大暴雨 河南 备战 强降雨\n",
          "洛阳 试药 连住 全国联网 中兴 项目名称 瑞巴派 餐后 体检 时间 初筛 抽血 留尿 入住 时间 下午 入院 早上 出院 入选 标准 健康 受试者 年龄 身体健康 体重 指数 26kg m2 体重 公斤 女性 公斤 高血压 重大 疾病 动过 手术 过敏史 传染病 请勿 使用 冒名 消磁 过期 身份证 必须 带上 本人 身份证 筛选 参加 临床试验 献血 失血 400ml 入住 期间 无法 接受 统一 饮食 管理者 请勿 报名 洛阳 身边 洛阳 旅游 攻略\n",
          "泰国 旅游 泰国 街头 东西 竟是 穿肠 毒药 种子 新华社 报道 河南 洛阳 出入境 检验 检疫 部门 来自 曼谷 国际航班 一名 入境 旅客 行李 截获 两枚 拳头 大小 极具 危险性 植物种子 实验室 鉴定 剧毒 植物 檬树 种子 据悉 檬树 其茎 果内 含有 剧毒 物质 海檬果 毒素 果实 酷似 芒果 容易 造成 误食 误食 小时 即可 毒性 发作 致死 故常 称为 自杀 旅客 检疫 人员 透露 是从 泰国 街头 没想到 东西 竟然 小伙伴 泰国 街头 东西 一手 Video\n",
          "邂逅 隋唐 隋唐洛阳城 温馨 提示 近期 我国 云南 江苏 地区 相继 出现 本土 新冠 疫情 国内 疫情 防控 形势严峻 复杂 进一步 做好 我市 文化 旅游 行业 当前 疫情 防控 工作 切实 保障 广大 市民 游客 身体健康 生命安全 周边 疫情 形势 最新 疫情 防控 要求 进一步 做好 景区 疫情 防控 工作 保障 游客 朋友 身体健康 景区 管理 部门 景区 出入口 设置 体温 检测点 出入 人员 一律 仔细 查验 健康 认真 测量体温 全天 不间断 开展 消毒 工作 安排 专人 核心 景区 栏杆 游道 设施 设备 卫生间 进行 消毒 杀菌 确保 游客 游览 过程 中触 设施 设备 不会 出现 二次 传染 感染 不间断 播放 广播 提醒 游客 保持 安全 游览 距离 聚集 扎堆 游客 营造 安全 舒适 游览 环境 确保 每位 游客 健康 安全 游客 放心 玩得 舒心 洛阳 九洲 遗址\n",
          "女子 泳池 溺亡 分钟 发现 馆方 救生员 去买烟 搜狐 社会 搜狐网 体育场 开放 条件 技术 要求 游泳 场所 规定 超过 平方米 游泳 场所 必须 配备 救生员 这家 泳池 面积 大概 平方米 左右 弄清 问题 大姐 家人 一起 来到 位于 洛阳 偃师 体育场 附近 水立方 游泳馆 据悉 出事 以后 这家 游泳馆 开门 拨通 泳池 负责人 电话 对方 表示 泳池 配有 救生员 大姐 出事 救生员 去买烟 大姐 出事 之后 家人 通知 大姐 爱人 平时 爱人 时间 本来 计划 妻子 出去 旅游 如今 这成 最大 遗憾 采访 过程 看着 最后 一张 照片 放大 缩小 反复 多次 真想 看看 起来 样子\n",
          "河南 多家 景区 陆续 发布 开园 公告 台风 杜苏芮 强度 逐渐 减弱 河南 景区 陆续 发布 开园 公告 截至 景区 开园 名单 老君山 景区 白云山 景区 重渡 景区 龙峪湾 景区 天河 大峡谷 景区 鸡冠 景区 竹海 野生 动物园 王府 竹海 度假 旅游区 洛阳 伏牛山 滑雪 度假 乐园 养子 景区 抱犊寨 景区 汉光武帝 景区 伊川 建业 绿色 基地 二里头 夏都 遗址 博物馆 洛阳 民俗 博物馆 千唐志斋 博物馆 洛阳 有生 工矿 景区 花果山 景区 连宝河 大峡谷 景区 灵山 风景区 荆紫 仙山 景区 九洲 景点 龙潭 大峡谷 景区 不夜城 洛阳 灵山 莲花 水城 万安 旅游 度假区 木札岭 景区 洛水 昌谷 景区 天池 景区 大象 新闻\n",
          "普陀山 旅游 2022.1 普陀山 疫情 防控 温馨 提醒 核验 小时 核酸 检测 阴性 证明 日常 健康 监测 陕西省 西安市 延安市 咸阳市 河南省 周口市 洛阳市 许昌市 郑州市 商丘市 信阳市 广西壮族自治区 防城港市 云南省 昆明市 西双版纳傣族自治州 浙江省 宁波市 北仑区 金华市 永康市 实行 健康 管理 措施 限制 进入 景区 旅客 高风险 地区 行动 轨迹 直接 劝退 提供 小时 核酸 检测 阴性 证明 行程 证明 陕西省 河南省 广西壮族自治区 云南省 浙江省 宁波市 金华市 入境 人员 实行 管控 措施 集中 隔离 医学观察 居家 健康 观察 日常 健康 监测 入境 有效 行程 证明 健康 购票 劝退 舟山 朱家尖 大青山 国家 公园\n",
          "五一 长假 就要 是不是 机会 出去 走走 放松 一下 喜欢 山水 风光 避开 人潮 地方 推荐 洛阳 王府 竹海 景区 王府 竹海 景区 国家 AAAA 景区 位于 河南省 洛阳市 栾川县 狮子 庙镇 王府 沟村 距离 洛阳 市区 公里 栾川县 城约 公里 景区 竹林 茂密 瀑布 飞流 空气清新 负氧离子 浓度 极高 被誉为 伏牛山 森林 沐场 乘坐 飞天 魔毯 轻松 上山 欣赏 沿途 美景 登上 大王峰 感受 秦王 李世民 威武 之气 天空 之镜 拍摄 云彩 倒影 漫步 高山 竹海 听听 竹叶 沙沙声 湘妃 双妃 瀑等 瀑布群 体验 水珠 清凉 水声 震撼 竹林 木屋 感受 山林 宁静 舒适 美丽 自然风光 王府 竹海 景区 丰富 历史 人文 唐武德 年间 秦王 李世民 东征 洛阳 王世充 重要 基地 寡居 此地 韦氏 姐妹 地方 韦氏 姐妹 后来 成为 李世民 四妃 之首 当然 旅行 不能 美食 王府 竹海 景区 附近 不少 农家乐 品尝 当地 特色 菜肴 石磨 豆花 一鱼 虹鳟鱼 王府 竹海 景区 一个集 避暑 度假 休闲 观光 历史 文化 一体 休闲 度假区\n",
          "洛阳 地区 医院 开展 肥胖 减肥 福利 项目 联网 需要 住院 补助 降糖 注射液 项目 招募 志愿者 超重 肥胖 志愿者 男女 无烟 B超 胸片 眼底 检查 营养 补偿费 项目 结束 医院 统一 打卡 药物 名称 降糖 减肥药 筛选 时间 七月 电话 通知 为准 来院 时间 每周 一次 连续 回访 共计 基本 条件 年龄 周岁 男女 各项 检查 项目 研究者 判断 异常 临床意义 BMI 肥胖者 BMI 确诊 糖尿病 中心 河南 科技 大学 第一 附属 医院 报名 信息 姓名 性别 身高 体重 电话 身份证 复印件 风起 洛阳 洛阳 旅游 攻略\n",
          "洛阳 爆料 提醒 月初 洛阳 几家 景区 陆续 关闭 取消 部分 活动 隋唐 遗址 植物园 暂停 赏荷 游园会 取消 原定 开幕 啤酒节 王城 动物园 停止 游客 动物 项目 隋唐洛阳城 国家 遗址 公园 应天门 遗址 博物馆 九洲 景点 明堂 天堂 景点 园区 部分 设施 进行 提升 改造 服务 内容 进行 专项 提升 日起 暂停 对外开放 应天门 3D 投影 暂停 播放 开放 时间 另行通知 近期 新冠 疫情 加剧 扩散 疫情 防控 工作 需要 避免 游客 聚集 降低 疫情 传播 风险 洛阳 王府 竹海 度假 旅游区 决定 日起 暂时 闭园 开园 时间 另行通知 疫情 影响 切实 保障 广大 游客 安全 研究 决定 洛阳 魏家坡 景区 即日起 暂闭园 由此 带来 不便 敬请 谅解 开园 日期 另行通知 避免 人员 聚集 造成 疫情 防控 不良影响 保障 广大 游客 生命 健康 安全 洛阳 龙凤 生态旅游 度假区 游乐场 商业街 决定 日起 暂停 开放 开放 时间 另行通知 感谢您 理解 支持 带来 不便 敬请 谅解 日起 洛邑 古城 暂时 取消 文峰塔 3D 灯光 园区 表演 演出 活动 恢复 时间 另行通知\n",
          "河南 多家 景区 陆续 开园 台风 杜苏芮 强度 逐渐 减弱 河南 景区 陆续 发布 开园 公告 截至 景区 开园 名单 老君山 景区 白云山 景区 重渡 景区 龙峪湾 景区 天河 大峡谷 景区 鸡冠 景区 竹海 野生 动物园 王府 竹海 度假 旅游区 洛阳 伏牛山 滑雪 度假 乐园 养子 景区 抱犊寨 景区 汉光武帝 景区 伊川 建业 绿色 基地 二里头 夏都 遗址 博物馆 洛阳 民俗 博物馆 千唐志斋 博物馆 洛阳 有生 工矿 景区 花果山 景区 连宝河 大峡谷 景区 灵山 风景区 荆紫 仙山 景区 九洲 景点 龙潭 大峡谷 景区 不夜城 洛阳 灵山 莲花 水城 万安 旅游 度假区 木札岭 景区 洛水 昌谷 景区 天池 景区 郑在 郑在\n",
          "景区 开放 恢复 堂食 日子 回来 省文 旅厅 了解 即日起 我省 云台山 天河 神农 重渡 多家 景区 恢复 开放 此次 焦作 首批 恢复 开放 旅游 景区 包括 云台山 天河 神农 陈家沟 南水北调 天河 公园 森林 动物园 李商隐 文化园 灾后 重建 工作 安排 天河 景区 开放 靳家岭 游览区 洛阳 重渡 风景区 恢复 开放 感谢 全国 社会各界 河南 遭遇 大暴雨 灾害 无私援助 日至 云台山 景区 面向全国 人民 门票 扎实 做好 疫情 防控 工作 旅游 景区 严格执行 限量 预约 错峰 管理 措施 实行 游客 预约 登记 购票 好消息 郑州 有序 恢复 堂食 有序 恢复 餐厅 为例 落实 主体 责任 工作人员 疫苗 接种 做到 应接 尽接 进入 餐厅 顾客 外卖 配送 进行 体温 检测 查验 健康 推广 分餐制 提供 公筷 公勺 建议 就餐 时间 超过 小时 进店 人数 位数 相匹配 不得 造成 点餐 等餐 等位 人员 聚集 工作人员 工作 期间 全程 医用 外科 口罩 以上 级别 口罩 顾客 就餐 时间 佩戴 一次性 使用 医用 口罩 医用 外科 口罩 以上 防护 等级 口罩\n",
          "关注 河南 大暴雨 救援 关注 河南 大暴雨 救援 最全 旅游 退订 信息 时至 部分 地区 强降雨 天气 持续 中部 西北部 出现 大到暴雨 郑州 焦作 新乡 洛阳 许昌 平顶山 部分 地区 出现 大暴雨 郑州 中西部 局地 大暴雨 河南省 暴雨 持续 防汛 形势 异常 严峻 河南省 防指 决定 防汛 应急 响应 级别 由级 提升 为级 国家 防总 决定 防汛 应急 响应 提升 至级 暴雨 困住 郑州 但困 不住 救援 目前 社会各界 形式 驰援 郑州 旅游 企业 航司们 行动 河南 一定 河南 加油 关注 河南 大暴雨 救援 最全 旅游 退订 信息\n",
          "河南 景区 漂流 拥挤 连遭 翻船 造成 受伤 极目 新闻 河南 洛阳 栾川县 漂流 景区 开业 当天 多船 游客 落水 受伤 景区 负责人 极目 新闻记者 解释 此事 系因 上游 突降 大雨 水流 变急 所致 了解 事发 栾川县 大峡谷 漂流 景区 景区 响应 政府 防疫 需求 暂停 开放 今年 恢复 营业 漂流 景区 资料 显示 漂流 全长 9.8 公里 累计 落差 栾川县 陶湾镇 一名 分管 旅游 副镇长 介绍 景区 这起 事故 确实 造成 游客 受伤 晚上 景区 发生 事故 河段 进行 拓宽 维修 措施 计划 增加 巡视 安全 工作人员\n",
          null
         ],
         "marker": {
          "opacity": 0.5,
          "size": 5
         },
         "mode": "markers+text",
         "name": "9_景区_开园_游客",
         "text": [
          "",
          "",
          "",
          "",
          "",
          "",
          "",
          "",
          "",
          "",
          "",
          "",
          "",
          "",
          "",
          "",
          "",
          "",
          "",
          "",
          "",
          "",
          "",
          "",
          "",
          "",
          "",
          "",
          "",
          "",
          "9_景区_开园_游客"
         ],
         "textfont": {
          "size": 12
         },
         "type": "scattergl",
         "x": [
          9.328021049499512,
          9.297122955322266,
          9.169320106506348,
          9.211915969848633,
          9.068490982055664,
          9.089974403381348,
          9.229997634887695,
          9.232823371887207,
          8.04062557220459,
          9.168988227844238,
          8.997360229492188,
          8.950763702392578,
          8.909896850585938,
          8.961511611938477,
          9.27071762084961,
          8.829693794250488,
          9.284231185913086,
          8.847663879394531,
          8.801197052001953,
          8.80544662475586,
          9.17684268951416,
          9.222253799438477,
          8.847918510437012,
          8.996109962463379,
          8.863388061523438,
          9.250027656555176,
          9.282480239868164,
          9.326601028442383,
          9.176116943359375,
          9.220024108886719,
          9.061918258666992
         ],
         "y": [
          13.081125259399414,
          12.932987213134766,
          13.278914451599121,
          13.227581024169922,
          13.012681007385254,
          12.23809814453125,
          13.22287654876709,
          13.221570014953613,
          7.4450883865356445,
          13.276126861572266,
          12.411250114440918,
          12.566914558410645,
          11.822587013244629,
          12.404056549072266,
          12.910703659057617,
          12.159390449523926,
          13.193303108215332,
          12.030177116394043,
          12.08407974243164,
          12.188387870788574,
          12.963834762573242,
          13.233722686767578,
          12.150787353515625,
          11.864786148071289,
          11.987129211425781,
          13.206296920776367,
          13.165390968322754,
          13.163812637329102,
          13.260704040527344,
          13.204617500305176,
          12.56363296508789
         ]
        },
        {
         "hoverinfo": "text",
         "hovertext": [
          "迎接 丝路 唐风 洛阳市 文物 考古 研究院 唐代 文物 特展 大力 弘扬 中华民族 优秀 历史 文化 哈密市 博物馆 有幸 邀请 洛阳市 文物 考古 研究院 史家 院长 举办 题为 洛阳 地区 三国 时期 考古 发现 初步 研究 专家 讲坛 史家 生于 河南 长葛 现任 洛阳市 文物 考古 研究院 院长 研究员 参加 工作 以来 史家 同志 文物保护 田野 考古 一线 工作 先后 主持 发掘 数处 大型 古代 遗址 数十座 重要 墓葬 考古 发掘 工作 主持 发掘 项目 评为 年度 全国 十大 考古 发现 余年 致力于 文物保护 科学研究 工作 全国 核心 期刊 发表 专业 文章 余篇 出版 专著 余部 保护 财产 小偷 搏斗 负伤 洛阳 市政府 授予 见义勇为 勇士 称号 洛阳 文物 考古 事业 发展 做出 重大贡献 业内 公认 拔尖 人才\n",
          "广元 旅游 文物 欣赏 广元市 博物馆 民国 李月溪 制什伐 全形 尺寸 200cm 162cm 收藏 剑阁 文管 来源 李拱山 捐赠 展示 广元市 博物馆 展厅 丹青 墨韵 书画展 唐代 昭陵 六骏原 陕西 礼泉县 昭陵 昭陵 六骏 唐太宗 李世民 陵前 六块 骏马 浮雕 石刻 名称 李世民 建立 王朝 战争 中所 六匹 战马 雕像 于贞观 十年 六骏分 两列 东西 相对 放置 唐太宗 陵前 马头 朝向 南边 陵寝 南向 西侧 依次 飒露 拳毛 白蹄 东侧 依次 特勒 什伐 六骏 每件 厘米 厘米 厘米 重达 3.7 青石 质地 遗憾 六骏 飒露 拳毛 石刻 盗卖 国外 现藏于 美国 费城 宾夕法尼亚大学 考古 人类学 博物馆 四骏 藏于 西安 碑林 博物馆 六马 姿势 各异 雄健 有力 什伐 一匹 波斯 战马 赤色 李世民 洛阳 虎牢关 王世充 窦建德 作战 坐骑 石刻 什伐 赤作 飞奔 身重 五箭 臀部 一箭 是从 背后 射来 看出 什伐 作战 勇往直前 国内 什伐 石雕 已有 缺失 缺失 拓片 民国时期 著名 传拓 艺人 李月溪 所制\n",
          "洛阳 旅游 偃师 商城 博物馆 位于 偃师 市区 西南 偃师 商城 遗址 米处 中国 唯一 集夏商 研究 陈列 宣传 一体 历史 专题性 博物馆 馆舍 殿堂 居中 廊庑 相围 仿古 宫殿 建筑群 落成 对外开放 占地面积 1.6 万平方米 建筑面积 平方米 展室 面积 平方米 馆内 现有 藏品 文物 万余件 展出 文物 馆展 分为 商王 文明 石刻 艺术 长廊 部分 馆内 拥有 科学 管理体系 丰富 陈列 内容 新颖 陈列 形式 完善 服务设施 优美 欣赏 环境 堪称 豫西 明珠 华夏 宝库 洛阳 爆料\n",
          "现场 拥有 博物馆 城市 书房 洛阳 十四五 文旅 发展 迈向 新高 省政府 新闻办 今天 召开 开局 十四五 奋进 征程 系列 第七场 新闻 发布会 了解 目前 洛阳 博物馆 打造 东方 博物馆 城市 书房 彰显 文化底蕴 十四五 期间 洛阳 建成 大都城 遗址 代表 国家级 考古 遗址 公园 群落 推动 二里头 申报 世界 文化遗产 龙门石窟 建成 全国 区域性 石窟寺 保护 研究 中心 隋唐洛阳城 国家 历史 文化公园 二里头 夏都 博物馆 考古 遗址 公园 东方 博物馆 造成 国际级 品牌 一核 两翼 两带 布局 加快 建设 华夏 历史 文明 传承 创新 核心区 黄河 文化 精品 旅游 示范区 伏牛山 国民 休闲 旅游 度假地 洛河 人文 历史 旅游 体验 伊河 生态 休闲 旅游 体验 河南 新闻广播 冰冰\n",
          "文化遗产 主场 城市 定为 洛阳 丝绸之路 中原 文物展 洛阳 博物馆 开展 展览 围绕 丝绸之路 中原 这一 主题 精选 史前 明清 各类 相关 文物 余件 五个 展览 单元 展示 丝绸之路 形成 发展 历程 促进 文明 互鉴 交流 作用 展览 公众 免费 开放 每年 第二个 星期六 我国 文化遗产 国务院 批准 调整 设立 文化 自然遗产 国家文物局 创设 主场 城市 活动 机制 以来 每年 文化遗产 国家文物局 选取 一座 城市 举办 文化遗产 主场 城市 活动 今年 主场 城市 活动 河南省 洛阳市 举办 国家文物局 河南省 人民政府 联合 主办 河南省 文物局 洛阳市 人民政府 联合 承办 年继 浙江 杭州 江苏 苏州 山东 济宁 河南 郑州 陕西 咸阳 江西 景德镇 重庆 大足 河北 承德 之后 举办 文化遗产 主场 城市 活动\n",
          "洛阳 非国有 博物馆 数量 种类 发展 速度 全省 首位 今年以来 洛阳 加快 博物馆 基础 建设 步伐 努力实现 建成 开放 一批 开工 谋划 一批 建设 博物馆 奠定 基础 初期 谋划 项目 吴佩孚 司令部 旧址 纪念馆 焦裕禄 纪念馆 白居易 纪念馆 专题 博物馆 工业 遗产 博物馆 体育 博物馆 行业 博物馆 非国有 博物馆 热得 发烫 洛阳 古代 艺术品 博物馆 正式 开馆 汉代 陶罐 唐代 三彩 宋代 瓷碗 明清 字画 展品 喜欢 文玩 字画 市民 好去处 目前 洛阳 契约 文书 博物馆 主体 建筑 完工 正在 进行 陈展 施工 内部 装修 计划 明年 对外开放 洛阳 仓窖 博物馆 丝绸之路 博物馆 加紧 筹建 洛阳 考古 博物 隋唐 大运河 博物馆 隋唐洛阳城 遗址 博物馆 项目 积极 谋划 孟津 伊川 汝阳 县域 博物馆 筹划 一批 行业 专题 博物馆 正在 谋划 国有 博物馆 我市 加紧 谋划 一批 特色 鲜明 行业 博物馆 专题 博物馆 洛阳 充分利用 遗址 保护 古建筑 修缮 传统 村落 保护 名人 故居 修缮 工业 遗产 保护 机遇 鼓励 行业 地区 结合 文化 特色 相关 文化 资源 建设 展示 行业 特色 博物馆 民俗 科技 体育 重大 历史 事件 重要 历史 人物 专题\n",
          "洛阳 爆料 洛阳 栾川 伏牛山 中医药 博物馆 建设 进展 伏牛山 中医药 博物馆 位于 君山 制药厂 西侧 项目 开工 建设 截至 目前 项目 主体 建设 完工 质量 验收 内部 装修 布展 方案 正在 进行 设计 优化 博物馆 龙君 广场 项目 目前 完成 部分 河道 混凝土 板墙 施工 广场 土方 开挖 外运 博物馆 建成 公益性 场馆 免费 对外开放 洛阳市 唯一 一家 具有 科普 教育 游览 中医药 文化 宣传 弘扬 多种 功能 一体 中医药 文化 博览 中心 博物馆 内部 布展 将要 突出 人类 社会 发展 中医药 关系 历史渊源 突出 伏牛山 中药材 河南 影响 重要性 突出 中医药 文化 传承 突出 中医药 养生 药食 同源 与时俱进 合理 设置 沉浸 体验 现场 参观 VR 虚拟 技术 展现 中药材 种植 采摘 炮制 过程 现代 中药 终端产品 生产 过程 加强 游客 体验 真正 中医药 文化 宣传 出去 依托 伏牛山 中医药 博物馆 中医药 养生 栾川县 旅游 发展 结合 起来 助推 旅游业 发展\n",
          "洛阳 地方 恢复 开放 洛邑 古城 有序 开园 隋唐 大运河 文化 博物馆 做好 疫情 常态 防控 恢复 对外开放 隋唐洛阳城 景区 应天门 明堂 天堂 九洲 有序 开园 万安 旅游 度假区 开园 洛阳 关林 景区 星期五 有序 开园 洛阳 周公庙 博物馆 八路军 驻洛 办事处 纪念馆 即日起 恢复 对外开放 洛阳市 体育局 获悉 洛阳市 新冠 肺炎 疫情 防控 指挥部 办公室 发布 优化 调整 疫情 防控 措施 通知 即日起 洛阳 文博 体育 公园 儿童 游乐 设施 开放 体育中心 部分 场馆 全民 健身 场馆 恢复 市民 开放 据介绍 通知 要求 游泳馆 体育馆 健身 场所 落实 查验 两码 一证 从业人员 进行 防控 措施 培训 流量 开放\n",
          "国家 宝藏 第一季 是因为 登场 洛阳 显而易见 问题 来看 优质 案例 国家 宝藏 文物 主体 演员 引入 一期 三段式 内容 拆解 博物馆 文化 调性 藏品 前世 今生 博物馆 总结 精神 升华 线索 清晰 文案 持重 精彩 内容 藏品 前世 今生 故事 演绎 方式 建立 文物 整体 感知 今日 传承 讲述 收藏 之外 文物 意义 故事 编排 文物 结合 不是 一味 老气横秋 狠狠 嘲笑 乾隆 农家乐 审美 盖章 爱好 几家 博物馆 藏品 选择 颇费 心思 知名度 非常 大众 接受度 非常 文物 史学 价值 知名度 文物 搭配 十期 下来 片长 过长 结构 单一 有点 吃不消 需要 更为 丰富 表现形式 湖南人 不由 特别 关注 湘博 帛画 歌词 写得 太俗 想象 应该 质朴 直白 歌谣 民歌\n",
          "今天 5.18 国际 博物馆 博物馆 国家 民族 象征 历史 文化 融合 璀璨 之地 博物馆 穿越 历史 回到 过去 世界 过去 日子 开心 机会 走进 大大小小 各式各样 博物馆 国博 成博 陕博 金沙 遗址 博物馆 洛阳 博物馆 中国 警察 博物馆 清华 美院 博物馆 故宫博物院 看到 很多 优秀 展子 莫奈 睡莲 阿富汗 国宝展 躲避 战争 破坏 中国 巡展 庞贝 古城 国博 复兴 张大千 书画展 法国 绘画 古代 中国 基本 陈列 看到 历史 书上 文物 目前为止 喜欢 博物馆 依旧 国博 展子 好几遍 当然 遗憾 事情 错过 古埃及 流泪 希望 未来 日子 博物馆 收获 知识 成为 河森堡 自信 文化 河森堡 国家博物馆\n",
          "洛阳 三彩 艺术 博物馆 洛阳 三彩 艺术 博物馆 位于 洛阳市 老城区 历史 文化 街区 展示 面积 余平方米 收藏 洛阳 三彩 藏品 千件 博物馆 采用 现代化 展示 设备 展示 方式 能够 观众 近距离 清晰 观瞻 洛阳 三彩 艺术 能够 观众 提供 体验 三彩 工艺 实践 操作 进一步 发扬 洛阳 三彩 艺术 洛阳 三彩 艺术 广泛 流布 洛阳 文化产业 洛阳 国际 旅游 文化名城 建设 服务 三彩 艺术 博物馆 洛阳 三彩 艺术 研究 中心 洛阳 三彩 设计 制作 中心 洛阳 三彩 艺术 展厅 组成 洛阳 三彩 艺术 研究 制作 展示 和销 售于 一体 位于 洛阳 三彩 艺术 博物馆 二楼 洛阳 三彩 艺术 展厅 三彩 艺术欣赏 展示 传播 中心 既有 外交部 指定 国礼 赠送给 各国 使节 礼品 中国 工艺 美术馆 中华民族 艺术 珍品 永久 收藏 珍品 投身于 洛阳 三彩 平面 艺术 研究 设计 以来 负责人 郭爱 不断 进行 钻研 创新 创作 大批 水准 三彩 作品 上海 世博会 河南 展出 25.8 3.3 巨幅 彩釉 之中 城之源 代表作\n",
          "文博 活动 日前 传承 创新 数字 时代 博物馆 主题 博物馆 发展 论坛 洛阳 举办 来自 北京 上海 陕西 广东 江苏 博物馆 专家 和文 企业 嘉宾 交流 发言 洛阳市 博物馆 文物保护 单位 代表 参加 论坛 与会 专家 嘉宾 围绕 洛阳市 提出 加快 建设 国际 文化 旅游 名城 积极 打造 博物馆 战略目标 深入探讨 数字 时代 博物馆 发展 力争 沉睡 千年 文物 遗迹 地下 地上 无形 变为 现实 古都 文化遗产 得到 真正 保护 传承 此次 论坛 洛阳市 文物局 主办 中国 文物 报社 支持 全国十佳 文博 技术 产品 服务 推介 系列 活动 旨在 把握 博物馆 发展 最新 趋势 关注 文博 技术 产品 博物馆 领域 最新 应用 助推 洛阳市 博物馆 建设\n",
          "洛阳 热门 洛阳 博物馆 文创 产品 淘宝 开张 亲爱 洛博 粉丝 洛阳 博物馆 文创 产品 淘宝 一起 文创 现已 试运行 正式 上线 多种类型 文化 创意 产品 大家 进行 挑选 购买 辟邪 系列 文创 产品 辟邪 牛角 成大器 亲子 围裙 辟下 清凉 辟邪 系列 辟邪 U盘 水神 马克杯 朋友 一件 洛阳 特色 礼物 使用 一件 家乡 记忆 物品 别忘了 动动手 指点 淘宝网 一起 文创 一定 惊喜 粉丝 点击 网站 下方 博文 栏目 图片 进入 网店 浏览 欢迎 大家 提出 宝贵 建议 意见 及时 做出 调整 博文 淘宝 人气 受欢迎 更加 出彩 网店 地址 洛阳 博物馆 文物保护 产业 开发 中心\n",
          "文化 自然遗产 专属 书单 每年 第二个 星期六 我国 文化 自然遗产 活动 主题 多次 非遗 美好生活 一起 看看 相关 好书 推荐 国子监 官韵诵 系列 十字路口 长城 明中期 榆林 生态 战争 长城 保存 毁灭 长城 命运 处于 十字路口 老字号 故事 传承 人篇 第一辑 全聚德 东来顺 鸿宾楼 王致和 六必居 同仁堂 荣宝斋 商务印书馆 本书 带来 老字号 背后 故事 更会 带来 工匠 精神 感动 本书 四色 印刷 图文并茂 非常 值得一看 中国 佛教 石窟 考古 文集 本书 考古学 方法 运用 中国 石窟 年代 分析 石窟 美术 演变 探索 归纳 结合 相关 历史文献 佛教 石窟 美术 研究 迈上 台阶 细节 讲述 中国 故事 细节 认识 多彩的 中国 华夏 地理杂志 细节 中国 系列丛书 本丛书 四色 印刷 图文并茂 河洛 大鼓 国务院 批准 列入 第一批 国家级 物质 文化遗产 名录 河南 传统 地方 曲种 一种 唱为 艺术表演 手段 叙述 故事 塑造 人物 表达思想 感情 歌唱 社会 生活 传统 音乐 当地人 河洛 大鼓 说书 至今\n",
          "洛阳 爆料 洛阳 生活 接待 游客 万人次 洛阳 二里头 夏都 遗址 博物馆 成新 文旅 打卡 五千年 历史 洛阳 备受瞩目 二里头 夏都 遗址 博物馆 二里头 考古 遗址 公园 开馆 开园 以来 人气 爆棚 整整 一个月 博物馆 接待 游客 万人次 讲解员 日均 讲解 批次 考古 遗址 公园 游客 络绎不绝 成为 古都 洛阳 文旅 打卡 三篇 扛鼎之作 高标准 建设 高水平 管理 二里头 夏都 遗址 博物馆 二里头 考古 遗址 公园 任重道远 业内 专家 提出 馆园 热度 持续 不减 说明 二里头 遗址 本身 意义 很大 馆园 建设 成功 目前 情况 需要 提升 空间 很大 专家建议 二里头 夏都 遗址 博物馆 偃师 商城 白马寺 汉魏 洛阳 故城 景点 连点 成线 拉长 旅游 线路 实现 多方 共赢 加快 完善 游客 中心 考古 遗址 公园 相关 配套 服务设施 游客 参观\n",
          "洛阳 隋唐 大运河 博物馆 5.18 开馆 以来 前来 参观 游客 越来越 旅行 遇见 美好 旅行 洛阳 爱上 这座 夜行 bilibili 随手 知识 大运河 文化 推广 正统 十三 古都 洛阳 历经 西周 东周 西汉 刘邦 定陶 称帝 洛阳 建立 西汉 开国 东汉 曹魏 西晋 北魏 后梁 后唐 后晋 十多个 朝代 五千多年 文明史 四千多年 建城史 一千五百多 建都 一部 中国史 半部 洛阳 洛阳 兴衰成败 中国 古代 王朝 兴盛 缩影 自古以来 素有 天下 之中 十省 通衢 地位 丝绸之路 东方 起点 隋唐 大运河 中心 更是 万里 茶道 停留 驿站 丝绸之路 东方 起点 隋唐 大运河 中心 万里 茶道 站点 三线 交集 同一个 地方 洛阳 加上 荟洛 夏都 二里头 商都 偃师 亳城 周汉 曹魏 西晋 北魏 汉魏 洛阳 故城 隋唐洛阳城 周王城 西周 成周城 两岸 中华 圣城 洛阳 风起 洛阳 风起 洛阳城 花开 紫微宫 洛阳 加油 洛阳 豫西 帝王\n",
          "洛阳 旅游 沉浸 体验 博物馆 数字 科技 古今 对话 陶冶情操 旅行 文旅 首家 大型 沉浸 博物馆 即将 洛阳 展出 科技 再造 古今 洛阳 神韵 数字 博物馆 震撼 科技 手段 扫描 复刻 洛阳 十三 中原 文化 历史 依托 打造 国色 之华 洛水之 天下 之中 五路 通洛 一梦 沉浸 体验 空间 西周 青铜器 现代科技 文明 历史 现代 不再 遥不可及 两个 方面 数字 科技 打破 时空 约束 沉睡 文物 起来 逝去 历史 回来 一场 穿越 古今 对话 即将 上演 来到 绽放 光华 邂逅 古今 辉煌 成人礼\n",
          "寒鲲 访古 古迹 行程 两日 三代 汉魏 遗址 铺垫 本鲲 主讲 艺旅 文化 旅行 端午 洛阳 通史 研学团 专程 来到 洛阳 博物馆 三代 汉魏 展厅 进行 阶段性 回顾总结 鸿蒙初辟 陶土 世界 穆穆 皇皇 青铜 森林 鸡犬相闻 天汉 王朝 到秀骨 清像 元魏 佛国 路过 百家 炊烟 路过 灯火 路过 城市 繁华 路过 旷野 英雄 筚路蓝缕 号角 金戈铁马 战歌 帝王 权臣 野望 宅兹 中域 问鼎中原 中立 亿万 野心 梦想 大合唱 历史 讲堂 河南 卫视 河南 历史 历史 博文 博物馆 国宝 说话 洛阳市 文物局 河南 卫视 洛阳 洛阳 博物馆\n",
          "洛阳 热门 二里头 遗址 博物馆 奠基 时间 看点 二里头 遗址 博物馆 项目 列入 国民经济 社会 发展 第十三个 五年 规划 纲要 国家 文物 事业 发展 十三 规划 国家 重大 文化 工程 项目 旨在 持续 推动 二里头 遗址 考古 发掘 整理 研究 展示 工作 促进 开展 文明 国家 起源 领域 国内外 学术交流 文物保护 成果 惠及 民众 博物馆 规划 占地 余亩 建设 规模 万平方米 当地 计划 国家 相关 部门 支持 该馆 建成 全国 遗址 保护 展示 利用 示范 早期 中国 国家 形成 发展 研究 展示中心 夏商周 断代 工程 中华文明 探源 工程 研究 历程 成果 展示 基地 考古 遗址 公园 建设 运营 典范 提升 国家 文化 影响力 促进 区域 经济社会 发展 民生 改善\n",
          "二里头 对话 三星堆 嘉宾 效成 著名画家 主编 高校 美术 十二五 十三 规划 教材 油画 俄罗斯 中亚 研究 中心 高级 研究员 龙门石窟 研究院 研究员 河南 钧瓷 博物馆 研究员 洛阳市 文物 考古 研究院 艺术总监 嘉宾 高大 中国 考古学 常务理事 中国 秦汉 研究会 副会长 四川省 文物 考古 研究院 院长 主要 研究 方向 为夏商 秦汉 考古 博物馆学 代表作 夏史 物证 古玉器 中所见 远古 文明 信息 举例 尹湾 汉代 木牍 集薄 户口 研究 三星堆 遗址 古文明 长度 宽度 高度 领导 越南 考古 发掘 组织 主持 三星堆 遗址 调查 发掘 保护 规划 四川 彭山 江口 沉银 水下 考古 近年来 主要 致力于 三星堆 考古 公众 考古 博物馆 策展 文化遗产 活化 利用 研究 实践\n",
          "洛阳 龙门 博物馆 洛阳 龙门 博物馆 位于 龙门石窟 风景区 入口处 河南省 首家 非国有 博物馆 公布 国家 二级 博物馆 洛阳 龙门 博物馆 建筑面积 万平方米 投资 亿元 丝绸之路 为主 收藏 保护 研究 展示 中国 佛教 艺术 特别 龙门 石刻 艺术 为主 大力 宣扬 河洛 该馆 馆藏 文物 万余件 主要 龙门石窟 周边 东汉 唐宋 重要 佛教文化 遗存 一级 文物 百余件 中古时代 碑志 千种 东汉 黄肠石 余品 该馆 主要 承担 龙门石窟 环境 文物 保护 研究 展示 文化交流 旅游 服务 工作 注重 民间 文化遗产 当代艺术 发现 保护 发扬 该馆 致力于 活态 博物馆 建设 从事 传统 文化 艺术 传承 教育 实践\n",
          "博物馆 之旅 隋唐 大运河 文化 博物馆 洛阳 博物馆 永宁寺 特展 珍宝馆 三彩 曹魏 玉杯 北魏 泥塑 佛面 洛阳 古代 艺术 博物馆 馆内 公益 免费 讲解 第一场 第二场 二里头 夏都 遗址 博物馆 馆内 公益 免费 讲解 第一场 第二场 河南 博物馆 馆之宝 贾湖 古笛 第一 展厅 莲鹤 方壶 第四 展厅 妇好 展厅 武则天 金简 第七 展厅 云纹 铜禁 第十三 展厅 以上 博物馆 公众 提前 免费 预约 洛阳 旅行 河南 旅行 二里头 夏都 遗址 博物馆 其宁 惟永 北魏 洛阳 永宁寺 特展 洛阳 隋唐 大运河 文化 博物馆 开馆 郑州\n",
          "洛阳 旅游 洛阳 古瓷 标本 博物馆 开馆 洛浦 公园 东方 博物馆 再添 一座 博物馆 上午 洛阳 古瓷 标本 博物馆 举行 捐赠 开馆 仪式 该馆 位于 洛河 交汇 河口 汇流处 洛浦 公园 晴望 北依 滨河 北路 朱樱塔 相望 古朴 典雅 风景优美 洛阳 古瓷 标本 博物馆 建筑面积 平方米 地上 三层 陈列 展厅 建筑面积 平方米 目前 馆内 展出 展品 展示 中国 古代 瓷器 标本 主要 内容 陈列 展品 仰韶文化 时期 宋元 明清 民国 涵盖 中国 瓷器 各大窑系 诸多 窑口 尤其 河洛 地区 古窑 瓷片 展品 类型 丰富 Photo By 洛阳 晚报\n",
          "洛阳 洛阳 打造 博物馆 见证 中国 记录 华夏 文明 洛阳 历史悠久 文化底蕴 深厚 中华 文明史 有着 极为重要 地位 极其 丰厚 文化 遗存 洛阳市 首家 博物馆 洛阳 博物馆 成立 至今 目前 洛阳 拥有 博物馆 国有 博物馆 包括 行业 博物馆 非国有 博物馆 总数 全省 首位 近年来 洛阳 全力 打造 博物馆 助推 国际 文化 旅游 名城 建设 初步 形成 洛阳 博物馆 中心 国有 博物馆 支撑 非国有 博物馆 重要 补充 博物馆 体系 洛阳 真诚 欢迎 全世界 人民 洛阳 看一看 体验 洛阳 历史 文化名城 魅力 洛阳 打造 博物馆 见证 中国 记录 华夏 文明\n",
          "丝路 华光 敦煌 云冈 龙门石窟 艺术 联展 龙门石窟 龙门石窟 列入 世界遗产 名录 二十周年 举办 学术交流 大会 之际 丝路 华光 敦煌 云冈 龙门石窟 艺术 联展 洛阳 博物馆 开幕 博客 太乙清 丝路 华光 敦煌 云冈 龙门石窟 艺术 联展 龙门石窟 此次 展览 龙门石窟 研究院 敦煌研究院 云冈石窟 研究院 主办 洛阳 博物馆 协办 中国 成立 以来 我国 三大 石窟 首次 举办 大型 艺术 联展 展览 鸣沙 圣迹 赫赫 敦煌 塞上 皇冠 巍巍 云冈 中原 明珠 泱泱 龙门 三大 板块 主题 展厅 敦煌 云冈 龙门石窟 宏大 规模 丰厚 历史 文化 精美 艺术 数十年 文化遗产 保护 历程 成果 进行 充分 展示 众多 精美 文物 展品 3D 打印 VR 数字化 技术 广大 中外 游客 欣赏 人类 瑰宝 独特 魅力 三大 石窟 异彩纷呈 各具特色 洛阳 博物馆 二楼 展出 持续 文物 放大镜 洛阳 身边 洛阳 爆料 洛阳 旅游 攻略 博物馆 奇妙 之旅 洛阳市 文物局 东方 博物馆 洛阳 文化 旅游 洛阳 博物馆\n",
          "洛阳 旅游 文化 自然遗产 洛阳 活动 文化 自然遗产 金玉 共振 主题 讲座 时间 地点 二里头 夏都 遗址 博物馆 跟着 小夏去 考古 野外 考古 体验 活动 时间 适合 孩子 参加 地点 活动 地点 二里头 夏都 遗址 博物馆 考古 实践 基地 开启 穿越时空 文化 之旅 直播 二里头 夏都 遗址 博物馆 讲解员 博物馆 数字 展厅 进行 直播 徐阳 墓地 考古 发现 成果展 时间 地点 洛阳 博物馆 香包 雪糕 免费 即日起 参与 景区 公众 赛龙舟 小游戏 积分 排名 最高 选手 即可 领奖 互动 赢文创 礼品 日至 游览 参观 景区 游客 应天门 紫微潮 明堂 文创 销售区 参加 现场 互动 游戏 免费 领取 消费 代金券 或文创 纸巾 端午 特色 研学 课程 日至 天堂 七层 茶舍 开展 巧手 香囊 端午 特色 研学 课程 浓情 端午 亲子 共享 O6 应天门 遗址 博物馆 精彩 亲子活动 参加 参与 对象 家庭 一大 一小 成团 上限 家庭 谷关 客家 之源 博物馆 谷关 客家 之源 纪念馆\n",
          "隋唐 大运河 文化 博物馆 项目 类型 文化 建筑 项目 地点 河南省 洛阳市 基地 面积 建筑面积 32986.3 设计 时间 2018.10 2020.9 施工 时间 2020.9 2022.5 布局 尊重 呼应 洛河 大堤 已经 形成 仿唐 建筑群 朱樱 中轴线 内部空间 组织 上用 层层 递进 功能 空间布局 规避 不利 地形 影响 形成 完整 连续 展厅 单元 富于 变化 内部空间 体验 设计 试图 脱出 仿唐 风格 包围 束缚 寻找 隋唐 历史 文化 不同 切入 视角 现代 建造 技术 自然 呈现 取代 传统 风格 具象 模仿 实现 古今 文明 对话 结构 对偶 运用 平面 组织 采用 横向 纵向 交织 拱形 剪力墙 形成 有效 双向 抗震 结构 体系 剖面 组织 上部 屋面 采用 预应力 混凝土 悬垂 端部 混凝土 瓦当 下部 基座 拱形 剪力墙 共同 组成 闭合 剪力墙 传力 体系 平面 对偶 结构特征 模板 清水 混凝土 浇筑 形成 清晰 室内空间 架构 剖面 对偶 结构 关系 陶瓷 青砖 材料 组合 赋予 特定 历史 记忆 文化 内涵\n",
          "洛阳 旅游 周末 不妨 洛阳 三彩 艺术 博物馆 打卡 三彩器 最早 洛阳 发现 三彩 叫做 洛阳 三彩 特点 洛阳 三彩 不止 唐三彩 各代 艺术 瑰宝 唐三彩 三彩 发展 时期 重要 阶段 洛阳 三彩 艺术 博物馆 位于 京门 瓮城 二楼 博物馆 展出 诸多 精彩 三彩 艺术品 工艺品 画作 一楼 商铺 买到 三彩 艺术 纪念品 三彩 博物馆 展示 面积 余平方米 收藏 洛阳 三彩 藏品 千件 博物馆 采用 现代化 展示 设备 展示 方式 观众 近距离 清晰 观瞻 洛阳 三彩 艺术 体验 三彩 工艺 实践 操作 洛阳人 逛过 三彩 艺术 博物馆 周末好 天气 孩子 一起 瞧瞧\n",
          "大同 身边 难得 国内 首次 拓跋 鲜卑 民族 发展史 综合 展在 大同 开展 大同 得来 看看 我国 迎来 文化 自然遗产 主题 文化遗产 传播 传承 今天上午 大同市 博物馆 迎来 开展 原创 联合 展览 一次 全新 尝试 积极 利用 馆内 文物 资源 全市 青少年儿童 搭建 学习 实践 平台 一年 筹办 今天上午 内蒙古 河南 山西 文博界 欢聚一堂 大同市 博物馆 共同 见证 融合 拓跋 鲜卑 迁徙 发展 历程 开幕 展期 日至 主办 大同市 博物馆 呼伦贝尔 民族 博物院 洛阳 博物馆 联合 举办 地点 大同市 博物馆 三楼 展厅 文物 涉及 内蒙古 博物院 乌兰察布 博物馆 通辽市 博物馆 盛乐 博物馆 额尔古纳 民族 博物馆 大同市 考古所 大同 北朝 艺术 博物馆 天镇县 文管 文保 单位 各类 文物 种类 包含 陶器 瓷器 骨器 石器 金银器 铜器 铁器 玻璃 后续 首站 大同 之后 洛阳 呼伦贝尔 全国 各地 巡展 意义 这次 展览 国内 首次 举办 拓跋 鲜卑 民族 发展史 主题 综合 展览 拓跋 鲜卑 民族 相关 历史文物 描绘 拓跋 鲜卑 不同 阶段 文明 文化 特征 呈现 拓跋 鲜卑 社会 演进 发展 时代风貌\n",
          null
         ],
         "marker": {
          "opacity": 0.5,
          "size": 5
         },
         "mode": "markers+text",
         "name": "10_博物馆_三彩_洛阳",
         "text": [
          "",
          "",
          "",
          "",
          "",
          "",
          "",
          "",
          "",
          "",
          "",
          "",
          "",
          "",
          "",
          "",
          "",
          "",
          "",
          "",
          "",
          "",
          "",
          "",
          "",
          "",
          "",
          "",
          "",
          "10_博物馆_三彩_洛阳"
         ],
         "textfont": {
          "size": 12
         },
         "type": "scattergl",
         "x": [
          11.726567268371582,
          11.657854080200195,
          11.62324333190918,
          11.605622291564941,
          11.174847602844238,
          11.358298301696777,
          11.538671493530273,
          11.594603538513184,
          11.306995391845703,
          11.533283233642578,
          11.60103702545166,
          11.351678848266602,
          11.638862609863281,
          11.192102432250977,
          11.85262393951416,
          11.76236343383789,
          11.62890338897705,
          11.804594993591309,
          11.317657470703125,
          11.381126403808594,
          11.64405345916748,
          11.77281665802002,
          11.715411186218262,
          11.515889167785645,
          11.711360931396484,
          11.801194190979004,
          11.011263847351074,
          11.619708061218262,
          11.283122062683105,
          11.542268753051758
         ],
         "y": [
          7.792850494384766,
          7.720181941986084,
          7.653280735015869,
          7.6721882820129395,
          7.391512870788574,
          7.439810752868652,
          7.584636688232422,
          7.990437030792236,
          7.408641815185547,
          7.570907115936279,
          7.636251449584961,
          7.476762294769287,
          7.60489559173584,
          7.403465747833252,
          7.726130962371826,
          7.86494779586792,
          7.696876049041748,
          7.95935583114624,
          7.451892852783203,
          7.787558078765869,
          7.6670660972595215,
          7.879467964172363,
          7.813130855560303,
          7.5951619148254395,
          7.7184906005859375,
          7.736917495727539,
          7.4433512687683105,
          7.703253269195557,
          7.382517337799072,
          7.647308349609375
         ]
        },
        {
         "hoverinfo": "text",
         "hovertext": [
          "谭处端 忍折齿 之愤 谭处端 通正 长真子 宋金 时期 道教 全真 祖师 谭处端 陕西 关中 师父 重阳 真人 守墓 期满 去往 洛阳 豫北 一带 修行 不久 谭处端 来到 河北省 磁县 无知 妄为 轻慢 对方 狠狠 谭处端 一拳 一拳 牙齿 崩折 嘴里 直流 鲜血 街上 看到 谭处端 感到 忿忿不平 报官 官府 处理 真人 折齿 吐出 便挥袖 这件 金世宗 之孙 国公 完颜 真人 给予 评价 真人 忍折齿 之愤 的确 受辱 非有 高士 不及 中华 道家 文化 传播者\n",
          "中兹 神州 绚烂 唐代 洛阳城 跏趺 菩萨 石像 龙门石窟 研究院 菩萨 头部 发髻 以花 蔓冠为 面相 丰圆 饱满 眉弓 风化 略显 平淡 双眼 微睁 垂视 鼻梁 挺直 唇部 饱满 耳垂 颈部 三道 节纹 神情 恬静 安详 肌体 丰腴 细腰 宽肩 上身 披络 肩绕 佩戴 项圈 及臂 腕钏 璎珞 垂于 胸前 腹前 交叉 再绕 身后 长裙 裙摆 覆搭于 台座 薄衣 贴体 衣褶 流畅 跏趺 坐于 束腰 莲座 右腿 左足 莲台 右臂 残缺 左手 抚膝 姿态 闲适 造像 雕刻 技术 非常 成熟 显示 盛唐 菩萨 造像 精美 艳丽 风格 特点 水韵 江苏 江苏 旅游 博文 政务 中运博 宝藏 文博热展\n",
          "听听 古诗 熏陶 打卡 孩子 自我 学习 王安石 泊船 瓜洲 京口 瓜洲 一水间 钟山 数重 春风 自绿 江南 明月 熙宁 元年 王安石 应召 赴京 从西 津渡 扬舟 北去 舟次 瓜洲 即景 抒情 写下 著名 泊船 瓜洲 今天 听听 日诵 古诗词 这首 很多 人会 想起 王安石 炼字 诗坛 佳话 春风 江南 王安石 圈去 不好 改为 改为 改为 一共 改了 十多个 最后 定为 确实 形象 生动 极富 表现力 整首 诗眼 江南 美丽 概念 地理 更是 文化 白居易 六十六岁 身在 洛阳 某日 老白 词兴 大发 写下 三首 忆江南 日出 花红 胜火 春来 江水 绿如 成为 后人 识别 江南 标志性 色彩 江南 陈伯之 叛梁北 好友 丘迟 书信 相劝 信中 写道 暮春 三月 江南 草长 杂树 生花 群莺 乱飞 这句 引发 陈伯之 思乡 之情 骏马 秋风 冀北 杏花春雨 江南 吴冠中 春天 想起 江南 唐诗 江南 九岁 时采 桑叶 蜻蜓 余光中 二小 读书笔记\n",
          "洛阳纸贵 洛阳纸贵 中国 古代 成语 西晋 都城 洛阳 之纸 大家 争相 传抄 左思 作品 三都赋 一时 供不应求 货缺 后喻 作品 世所重 风行一时 流传 甚广 出自 晋书 左思 豪贵 之家 竞相 传写 洛阳 纸贵 孽海花 第二回 洛阳纸贵 名震一时 总嫌 江湖气 宋之问 范阳王 挽词 二首 洛阳 今纸 犹写 太冲词 元稹 王侍郎 放榜 相贺 都中纸贵 流传 海外 金填 姓字 柯岩 奇异 书简 自古以来 诗人 唱和 赠友 明志 常有 洛阳纸贵 昆仑 问世 洛阳纸贵 凤歌 凤迷 尊称 凤大\n",
          "洛阳镇 秋景 宛如 天堂 地方 一定 静谧 洛阳镇 秋景 宛如 天堂 房前 屋后 黄叶 纷飞 异常 美丽 千年 银杏 零零散散 好多 每到 秋天 到处 金黄 烂漫 飘摇 落下 叶子 层层叠叠 堆砌 一片 金黄 地毯 仿佛 欢迎 人们 到来 远离 城市 喧嚣 之后 找到 一种 宁静 这片 金黄 世界 静静的 感受 秋季 洛阳镇 仙境 感受 满山 树叶 呈现 五彩斑斓 颜色 绿色 黄色 浅红 红色 棕色 颜色 极为 丰富 位置 湖北省 随州市 洛阳镇 湖北 旅行 湖北 旅游\n",
          "刘宇 如麟 一梦 国风 舞台 河南 不能 河南 禀赋 底蕴 洛阳 百瑞藻 三都赋 写神 尽满 长安 中原 疆域 之远 黄河 一线天 写诗 华章 之灿 华夏 五千年 河南 卫视 唐宫 夜宴 大国 审美 水下 飞天 芙蓉 丽人行 菩萨 此莲鹤 方壶 高台 华鸾 天下 熙攘 世乾乾 有凤来仪 龙潜渊 写三彩 闹千灯 水乡 伞缘 一位 龙鳞装 少年 古人 今年 文化 自信 写国 风华 矢志 初心 墨难染 国潮 盛典 遗之美 云烟 INTO1 刘宇 LINTO1 刘宇\n",
          "地藏 菩萨 本愿经 佛陀 天宫 母亲 摩耶 夫人 说法 而成 一部 经典 称为 孝经 里面 介绍 地狱 众生 状况 解释 亲人 眷属 脱离 苦难 种种 方法 一部 因果 经中 特别 讲述 地藏 菩萨 示现 婆罗门 光目 孝亲 度亲 感人 故事 地藏 菩萨 地狱 不空 成佛 众生 方证 菩提 深弘 誓愿 为缘 感化 众生 成为 中国 佛教 四大 菩萨 之中 大愿 菩萨 受到 人们 喜爱 地藏 菩萨 圣诞 每年 农历 七月 三十日 今地 菩萨 圣诞 开引 众生 广获 法益 本寺 定于 农历 七月 廿三日 日止 七月 廿九日 灵山寺 举行 为期 七天 殊胜 地藏 法会 以地 菩萨 大悲 力加 超度 过往 所有 父母 师长 债主 方法 有祀 无祀 孤魂 众之灵 解脱 净土 祈愿 社会 和谐 国泰民安 欢迎 诸方善 大德 居士 随喜 参加 同沾法 广利 人天\n",
          "夜深 一夜 风情 说起 旅游 忍不住 百般 伤情 蓑披 残雪 湘江 红尘 渭水 宋之方 惟深 怎及 贾岛 秋风 渭水 落叶 长安 长安 三年 第二次 退票 十三 古都 竟然 不敢 提及 睽违 二字 计划 变化 因时 因势 因缘 请个 不易 疫情 蓝色 水星 之殇 出省 难题 核酸 检测 第二个 难题 道德 法制 第三个 难题 恒古 难题 重庆 两百万 年前 巫山 铜梁 文化 不再 归属 四川 望洋兴叹 深度 不易 知晓 历史 有限 遨游 岁月 有涯 一点 大理 风花雪月 嘉兴 杨柳依依 洛阳 杨絮 苏州 园林 乌镇 厕所 文明 政治 温情 我守 百年孤独 向往 世纪 尔雅 眉山\n",
          "宜阳 生活 宜阳 旅游 洛阳 花果山 秋色 斑斓 洛阳 花果山 远古 洪荒 呼啸 绝尘 洒脱 巨禽 猛兽 羽翼 蹄爪 中幽 眼含 秋波 唐诗宋词 深情 款款 靓影 婆娑 云雾 流水 斑斓 幻化 飘渺 仙曲 朵朵 触摸 秋叶 五彩斑斓 童话 闪烁 花果山 绚烂 彩林 灿烂 如梦如幻 薄雾 飘过 温婉 玲珑 溪流 细语 潺潺 白云 过处 片片 彩林 山间 飞舞 旋转 一处 绝美 极乐 秋天 花果山 妖娆 树叶 奇石 飞瀑 流潭 充满 韵味 万千 风情 诗情画意 花果山 之秋 秋天 花果山 每年 九月 下旬 月初 展现 一年四季 色彩 丰富 一面 秋天 花果山 秋高气爽 群峰 画布 黄栌 颜料 秋风 好比 一支 神奇 彩笔 随心 挥洒 桀骜不驯 创作 花果山 一幅 五彩 画卷 充满生机 韵味 黄到 充满 丰收 气息 花果山 一步 沉浸 多彩多姿 绚烂 中随 角度 一幅 大片 惊艳 假期 丰富 季节 花果山 开启 一次 秋天 之旅 准备 镜头 徐徐 展开 美丽 画卷 收一 一眼 宜阳\n",
          "寻找 羽子 古今 兴废 请君 洛阳城 洛阳 华夏 第一 古都 昌盛 物华天宝 想要 了解 这座 十三 古都 洛阳 博物馆 不二 之选 遇见 北魏 泥塑 微笑 听见 三彩 嘶鸣 参见 曹魏 玉杯 觥筹 历史 车轮下 洛阳 留下 浓墨重彩 一笔 洛都 四郊 山水 之胜 龙门 首焉 时光 卢舍那 大佛 日月 当空 长安 千年 古刹 白马寺 钟声 响起 感受 佛缘 之下 世界 融合 人间 惊鸿 一睹 仙山 盛世 老君山 云顶 天宫 许下 愿望 洛阳 被誉为 汤城 洛阳人 不可 一日 无汤 牛肉汤 洛阳人 引以为傲 早点 入夜 洛阳 仿佛 梦回 万邦 来朝 歌舞升平 机会 阙楼 一场 唐宫乐宴 中国 旅游 洛阳 旅行 洛阳 老君山 羽子 偕老\n",
          "今天 来到 洛阳 栾川县 老君山 旅游 刚到 景区 大门 抬头 看到 大门 上头 横批 秀压 五岳 此山 秀美 大门 两旁 对联 左手边 人法 地法天 天法 自然 右手边 道生 一生 二生 三生 万物 此时 明白 原来 老君山 道教 圣地 坐中灵 索道 同行 惊呼 尖叫声 胆战心惊 来到 天门 穿过 美丽 紫花 长廊 二级 索道 来到 南天门 登上 玉皇顶 凛冽 寒风 迎面 大家 自带 棉衣 棉衣 穿过 大约 寒冷 隧道 来到 朝阳 冬去春来 身体 暖洋洋 走过 十里 画屏 欣赏 如画 般的 美景 一路 跋涉 最后 金顶 道观\n",
          "海丝 泉州 当古 刺桐 史迹 遇上 诗句 竟时 美的 画面 椅栏 远眺 任飘浪 帆影 映入 视线 姑嫂 望眼欲穿 宝盖 山上 深情 等待 一座 望归台 鸿雁 如泣如诉 盘旋 飞石 敬奉 佛火 指引 一舟 乡愁 烛泪 闪动 凄美 光芒 万寿塔 以上 诗句 是否 眼前 呈现 一幅 凄美 画作 泉州市 目前 共有 遗产 列入 泉州 刺桐 史迹 分别 万寿塔 六胜塔 石湖 码头 江口 码头 九日山 祈风 石刻 真武庙 天后宫 磁灶 窑系 金交椅 窑址 泉州 文庙 老君岩 造像 开元寺 伊斯兰教 圣墓 清净寺 草庵 尼光佛 造像 德济门 遗址 洛阳桥 十六 处均 配上 诗句 一幅 美丽 画面 泉州 福建 旅游 泉州 晚报社 海峡 都市报 闽南 了解 周末 刺桐 古迹 诗句 竟是 美的 画面\n",
          "步明 王阳明 七律 诸生 原韵 子玉 李璧 七律 赋志篇 贤达 有志 不求安 无畏 方能 蒙正 洛阳 厌恶 孔丘 蔡破 艰难 推敲 词语 学贾鲁 著述 文章 效柳 好事 远谋 奋进 成功 必定 相观 吕蒙正 宋代 状元 著名 破窑 流传 楚国 陈国 聘请 孔子 孔子 随即 出发 被困 在于 野外 绝粮 七日 楚国 贾迅 贾指 唐代 诗人 贾岛 鲁指 现代 文学家 鲁迅 他俩 著名 推敲 词语 修改文章 大家 七律 赋富 泱泱 华夏 壮威 先富 如星 处处 经济繁荣 殆尽 国家 强盛 烦难 旅游 已腻 新泰 采买 常欣 美日韩 外域 欢迎 华夏 手续 简化 游观 选自 李如水 摄影 作品展\n",
          "城市 生活 免费 驴友 打卡 大福 先寺 唐代 洛阳 大福 先寺 一座 规模宏大 著名 寺院 大福 先寺 武则天 开创 建造 据说 建造 寺庙 母亲 减罪 母亲 祈福 大福 先寺 建成 武则天 亲撰 大福 先寺 浮图 碑文 大福 先寺 浮图 碑文 大福 先寺者 先圣 旧居 楼台 郁而 烟雾 山川 旷而 原野 万国 交会 之区 四海 朝宗 碑文 记载 一座 楼阁 高塔 房间 重要 事情 三遍 大福 先寺 清净 之地 不要 门票 不要 停车费 适合 自驾 免费 游玩 河南省 文化 旅游 洛阳\n",
          "俊杰 李世民 米奇 喜欢 俊杰 天下 长安 惊喜 yi 旅游 少林寺 导游 唐武德 年间 秦王 李世民 遭遇 统一 战争 最难 征服 两大 强手 郑帝 王世充 夏王 窦建德 三方 洛阳 爆发 争霸 大战 历时 十个月 九个 战争 惨烈 异常 唐军 强攻 郑都 洛阳 城坚 久攻 难克 陷入 对峙 雄霸 河北 窦建德 十万 大军 增援 王世充 唐军 局势 骤然 凶险 武德 四年 四月 二十七日 传捷报 少林寺 棍僧助 拿下 攻不克 战局 由此 发生 根本 转机 拿下 唐军 生俘 窦建德 迫降 王世充 擒获 两国国主 唐朝 统一大业 由此 奠定 李世民 登基 少林 武僧 大加 对赏 少林寺 田地 四十顷 水碾 一具 十三 棍僧 俱受 封赏 宗为 大将军 从此 少林寺 名扬天下 厉害 俊杰\n",
          "不知 洛阳 神秘 古寨 等待 探索 旅行 来说 宁静 地方 沉淀 这样的话 洛阳 选个 味道 古寨 古寨 古村落 地方 不仅仅 村落 更是 文化 符号 蕴含 古藤老树 沧桑 小桥流水 静谧 数不尽 乡愁 滋味 走进 寨门 穿行 岁月 深处 而来 老巷 老宅 抚摸 百年 风雨 巍峨 挺立 聆听 引人入胜 传说 故事 纵横交错 街道 错落有致 瓦房 再配 湛蓝 天空 斑驳 树影 身在其中 缓步 慢行 沉淀 情绪 追忆往事 不得不 看似 平凡 古寨 一种 特别 味道 吸引 一拨 一拨 游人 流连忘返\n",
          "心眼 人缘 太上 心起 而吉神 随之 善念 力量 不容 小觑 不知不觉 便会 带来 巨大 回报 人生在世 福田 心耕 善良 心眼 人缘 福气 深厚 顾荣 西晋 末年 名士 一日 出席 宴会 宴席 十分 丰富 偶然间 顾荣 注意 负责 烤肉 侍从 看着 飘香 四溢 烤肉 羡慕 见状 顾荣 那份 烤肉 大方 送给 周围 不屑 顾荣 却说 哪有 整日 别人 烤肉 不知 烤肉 滋味 后来 匈奴 攻占 洛阳 顾荣 落难 逃走 一路上 凶险 无数 有人 顾荣 百思不解 那人素 相识 总帮 说道 当年 那份 烤肉 善举 竟救 性命 曾子言 祸其远 善良 最好 护身符 善良 宽厚 真诚待人 有人 愿意 水火 患难与共 老天 不会 亏待 善良 有祸 天会护 有福 自然 善良 福泽 深厚 人缘 事事 顺心 命运 世间 积德 行善 一种 修行 所谓 恶有恶报 善有善报 善良 必有 福报 传统 文化 人生 人生 感悟 李现 人生 如初\n",
          "每日 动脑 永不 洛阳纸贵 下列 哪一部 作品 司马相如 子虚赋 曹植 洛神赋 左思 三都赋 张衡 田赋 明天 答案 昨天 答案 投笔从戎 故事 发生 身上 秋瑾 陆游 班超 项羽 说明 投笔从戎 扔掉 笔去 参军 比喻 文人 放弃 文化 工作 参军入伍 褒义 谓语 定语 南朝 范晔 后汉书 班超 永平 五年 兄固 召诣 校书郎 超与母 随至 洛阳 家贫 为官 佣书 供养 劳苦 辍业 投笔 大丈夫 他志略 犹当 效傅 介子 张骞 立功 异域 以取 封侯 安能 笔砚 间乎 后世 据此 典故 引申 成语 投笔从戎 克敏\n",
          "日常 十三 古都 洛阳 魅力 洛阳 夜晚 迷人 洛邑 古城 古色古香 灯笼 应天门 恢宏 气势 热闹 丽景门 十字街 身着 汉服 美女 姐姐 一秒 回到 百年 古都 老君山 特别 值得 一去 第一次 缆车 俯瞰 山林 第一次 感受 山顶 山脚 巨大 温差 冲锋衣 依然 感受 冷峻 第一次 切身体会 层峦叠嶂 风景如画 原来 古人 骗人 同一天 白马寺 洛阳 博物馆 龙门石窟 感受 浓厚 佛教文化 抢走 佛像 感到 愤怒 可惜 悲伤 这是 一座 历史悠久 古城 可惜 时间 不够 真想 仔仔细细 几天 Ps 这次 旅行 最大 花费 老君山 缆车 景交车 费钱 一点 不太 方便 公交站 距离 景点 入口 有点 距离 起来 没什么\n",
          "放生 慈济 法门 释遵式 比丘 某甲 今为 傍生类 发佛大 慈悲 忏彼六情 无始 业障 眼根 诸色 耳界闻 乱声 鼻染 舌生 诸恶 身如 机关 六贼 游戏 心想 猿猴 无有 暂停 六法 名为 六情 因缘 妄想 妄想 如幻焰 空中 迷倒 不觉 诸惑业 三途界 众苦 不闻 正法 何曾 忏悔 惟愿 十方 菩萨 大师 慈力 冥加 令其知 发露 无始 今日 消除 毕故 不造 常当修 梵行 未脱 傍生 余命 安乐 网及 虞罗 愿不相 值遇 随时 饥渴 永不 相见 慈心 愿不相 当承 三宝 脱众 尘劳 毕此 苦类 愿生 佛国 弥陀 广慈愿 不舍 观音 慈愿 常游 五道 愿舒 五色 轮回 若命 终时 愿垂亲 接引 难得 菩萨 檀那 我临 汤火 舍财 我命 须弥 大海 徒自谓 高深 檀那 今日 高深 不可 现生 福寿 眷属 团圆 来世 受身 愿同生 佛国 贤圣 夏日 确幸 洛阳 身边 旅游 遇见 美好 炎炎夏日 确幸 山水 童话 康养 龙峪湾 遇见 美好 龙峪湾 度假区\n",
          "洛阳 旅游 编辑部 嵩县 旅游 张相正 全景 洛阳 河南 旅游 生活 杂志 洛阳市 旅发委 释放 压力 回归 童年 五个 妙招 送给 才能 保持 一颗 童心 一定 保持 心情舒畅 学会 化解 压力 送给 大家 五种 解压 秘方 不用谢 NO 看书 一本 喜欢 坐在 窗前 阅读 深入 忘记 压力 NO.4 美食 美食 有着 独特 魔力 压力 大吃一顿 解决 所有 实在 不行 两顿 NO.3 音乐 疲劳 烦躁 节奏 舒缓 曲调 流杨 音乐 心情 慢慢 放松 下来 NO.2 运动 运动 不仅仅 帮助 强身健体 能够 有效 缓解 心理压力 保证 身体健康 NO.1 白云山 旅行 夏季 白云山 满眼 绿色 绿色 释放 心灵 感受 大自然 清新 生活 充满 阳光 芬芳 忘记 所有 压力 忘却 所有 烦恼 出走 半生 归来 童心 童年 只差 白云山 距离\n",
          "古诗 诗豪 刘禹锡 陋室铭 人生 陋室铭 刘禹锡 有龙 斯是 陋室 惟吾德馨 苔痕 上阶绿 草色 入帘青 谈笑 鸿儒 往来 白丁 调素琴 阅金经 丝竹 之乱 案牍之劳 南阳 诸葛 西蜀子 云亭 孔子 何陋 作者 介绍 刘禹锡 公元 公元 字梦得 洛阳 河南 洛阳 我国 唐代 著名 文学家 哲学家 据说 汉朝 中山 王刘胜 后人 曾任 监察 御史 王叔文 政治 改革 集团 一员 刘禹锡 文化 气氛 浓厚 大唐 王朝 时期 被誉为 诗豪 诗文 精品 陋室铭 竹枝词 杨柳枝 乌衣巷 名作 通古达 物欲横流 时代 很多 人正 渐渐 迷失 物质享受 诱惑 之中 古人 先贤 遗风 已渐 行渐 夜深人静 远离 城市 喧嚣 之后 细细 品读 陋室铭 顿觉 神清气爽 所有 功利 之心 物欲 之念皆会 归于 平静 常常 感叹 此文 主人 淡泊名利 洁身自好 高尚 人格\n",
          "一枝 一叶 总关情 要说 万水千山 河南 值得 提笔 挥墨 承载 白居易 诗词 走进 五彩斑斓 河南 红冠 琼羽 人生 轻羽 之下 重情 河南 开封 泱泱 华夏 文明 土地 河南 犹如 一张 美丽 风景画 遇见 开封 清明 园点 笔挥 其间 巧妙 金色 画笔 勾勒 金碧辉煌 夜晚 万家灯火 胜似 皇宫 浓浓的 文人 墨彩止 唇间 醉于 河南 洛阳 白居易 口中 所说 半遮面 美人 坐落于 河南省 洛阳市 栾川县 东南 八百里 伏牛山 美景 一室 老君山 好比 人间 惊鸿 宴站 白雪皑皑 老君山 望眼欲穿 老君山 绝佳 美景 河南 不去 洛阳 都城 赏花 一定 亲自 目睹 老君山 如同 亭亭玉立 美人 河南 新乡 来自 很远 地方 看看 何妨 一场 说走就走 旅行 广为人知 天然 风景 被誉为 太行 明珠 新乡 仙山 风景区 悬崖绝壁 犹如 刀切 斧劈 宛如 碧玉 般的 黑龙潭 折束 微履拂云 壁来 一趟 漫步 长徒 旅行 旅游 爱好者 绝佳 去处 一片 叶脉 绵延 数十公里 水和云 架起 梦中 走过 高空 云月 周旋 创造 垂直 世界 万物 同行 星辰 指引方向 云和展 铺展 大地 模样 河南 一方水土 一方 文化 欢迎 西面 八方来客 游玩\n",
          "莫愁湖 金陵 第一 名胜 南京 大湖 北宋 太平 寰宇 记载 莫愁湖 三山 门外 昔有 卢莫愁 家此 相传 莫愁 河南 洛阳人 幼年 丧母 父亲 相依为命 十三岁 采桑 养蚕 纺织 刺绣 十四岁 父亲 学习 采药 治病 十五岁 父亲 采药 不幸 坠崖 身亡 家境贫寒 卖身 葬父 卢员外 搭救 来到 梁朝 京城 建康 嫁进 卢家 员外 儿媳 梁武帝 莫愁 美貌 吸引 设计 害死 公子 传旨 选莫愁 进宫 莫愁 高风劲节 投石 城湖 人们 纪念 莫愁 石城 改名 莫愁湖 莫愁 忠贞不渝 爱情 中国 传统 文化 人们 传颂 纪念 例子 很多 学习 西方 民主自由 宣传 恋爱 自由 婚姻自由 得到 幸福 爱情 长久 婚姻 现实 每个 人掌 响亮 耳光 婚姻 爱情 坟墓 社会 伦理 关系 丑陋 不堪 爱情 自由 爱情 忠贞 意味着 有着 五千年 文化底蕴 国家 跟着 几百年 历史 发动战争 掠夺 世界 财富 强盗 文化 人才 旅拍 旅行 哥钉个 思窝 到此一游 思窝 旅行 南京旅游 南京 南京 莫愁湖 景区 地点\n",
          "神秘 旅行 飞猪 玛莎拉蒂 Maserati 玛莎拉蒂 遇到 飞猪 猜会 发生 今天 神秘 旅行 第一天 下面 玛莎拉蒂 车主 提车 作业 深重 午后 来到 石家庄 玛莎拉蒂 展厅 销售 顾问 询问 来意 提车 一人 一台 玛莎拉蒂 Levante 玛莎拉蒂 历史 第一台 SUV 标志性 家族 显示 玛莎 高贵 血统 轿车 明显 不同 霸气 造型 透出 台车 野性 基因 进入 内部 奢华 充斥 每个 细节 明早 出发 郑州 洛阳 一路 到达 西安 完成 一段 中国 古文化 探寻 之旅 持续 关注 石家庄\n",
          "洛阳 爆料 嵩县 白河 千年 银杏 犹如 童话世界 进入 晚秋 嵩县 白河 千年 银杏 一片 金黄 即将 谢幕 满地 金黄 银杏 叶子 淳朴 美丽 农家 犹如 走进 童话世界 每到 深秋 季节 嵩县 白河 下寺 金色 世界 村落 一棵 银杏树 高大挺拔 金黄 银杏叶 秋风 摇曳 格外 耀眼 满地 金黄 落叶 袅袅 炊烟 寂静 小村 构成 一幅幅 美丽 油画 村庄 中心 方圆 平方公里 完整 保存 一片 银杏 据调查 考证 千年 以上 银杏树 树龄 最长 多年 如今 千年 银杏树 村民 精心 呵护 枝繁叶茂 生机盎然 吸引 众多 游客 体验 银杏 风情 心动 旅游 嵩县 感受 银杏 一年 最美 模样\n",
          null
         ],
         "marker": {
          "opacity": 0.5,
          "size": 5
         },
         "mode": "markers+text",
         "name": "11_菩萨_江南_大福",
         "text": [
          "",
          "",
          "",
          "",
          "",
          "",
          "",
          "",
          "",
          "",
          "",
          "",
          "",
          "",
          "",
          "",
          "",
          "",
          "",
          "",
          "",
          "",
          "",
          "",
          "",
          "",
          "11_菩萨_江南_大福"
         ],
         "textfont": {
          "size": 12
         },
         "type": "scattergl",
         "x": [
          11.450477600097656,
          11.397931098937988,
          11.102880477905273,
          11.51170825958252,
          10.800895690917969,
          11.306756019592285,
          11.657268524169922,
          11.012629508972168,
          10.849488258361816,
          11.129854202270508,
          11.399888038635254,
          11.10105037689209,
          11.531451225280762,
          12.159978866577148,
          11.60531997680664,
          10.990279197692871,
          11.341155052185059,
          11.458109855651855,
          11.034809112548828,
          11.692846298217773,
          11.429708480834961,
          11.5595703125,
          10.949161529541016,
          11.064167976379395,
          10.98160171508789,
          10.768207550048828,
          11.280277252197266
         ],
         "y": [
          10.421425819396973,
          10.439751625061035,
          10.519822120666504,
          10.108142852783203,
          10.574466705322266,
          10.47890853881836,
          10.437000274658203,
          10.634178161621094,
          10.678084373474121,
          10.361895561218262,
          10.449715614318848,
          10.51950740814209,
          10.406022071838379,
          10.038060188293457,
          10.322980880737305,
          10.407132148742676,
          10.52969741821289,
          10.328104019165039,
          10.493122100830078,
          10.469039916992188,
          10.350809097290039,
          10.295647621154785,
          10.662229537963867,
          10.553017616271973,
          10.456263542175293,
          10.778210639953613,
          10.450509071350098
         ]
        },
        {
         "hoverinfo": "text",
         "hovertext": [
          "天地 史话 春节 期间 洛阳 接待 游客 人数 593.86 万人 收入 32.28 亿元 开封 春节 期间 接待 游客 人数 714.16 万人 收入 34.81 亿元 疫情 结束 旅游业 迅速 回暖 开封 春节 期间 接待 人数 收入 洛阳 确实 感到 意外 有点 相信 开封 郑州 郑州 顺便去 开封 转转 洛阳 缺少 大型 实景 演出 大型 游乐 项目 洛阳 景区 承载能力 好多 进不去 景区 地方 旅行 洛阳 物价 相对 洛阳 历史 文化 美景 之多 成绩单 只能 疫情 结束 旅游 迅速 回暖 希望 洛阳 开封 所有 河南 城市 抓住机会 大力发展 旅游业 强化 文旅 市场 规范 运行 确保 游客 开心 安心 带来 经济效益\n",
          "上半年 夜游 目的地 TOP10 出炉 洛阳 力拔 头筹 获评 全国 第一 携程 数据 显示 上半年 用户 人均 夜游 次数 1.3 夜游 人均 消费 上半年 夜游 景区 玩乐 门票 销量 同比 增长 469% 夜游 目的地 TOP10 洛阳 惊喜 获评 最佳 成为 全国 夜游 目的地 城市 看来 洛阳 旅游 终于 做出 名堂 网红 城市 路上 迈出 一大步 当然 洛阳 打造 夜游 古都 方面 确实 不小 努力 古都 八点 应天门 灯光 开元 音乐 喷泉 夜游 龙门 繁荣 经济 活动 喜欢 主题 活动\n",
          "洛阳 身边 十一 洛阳 接待 游客 万人次 全市 接待 境内外 旅游者 万人次 同比 增长 8.68% 旅游 总收入 42.71 亿元 同比 增长 15.25% 国内 游客 677.76 万人次 同比 增长 8.66% 国内 旅游 收入 42.31 亿元 同比 增长 15.19% 入境 游客 2.19 万人次 旅游 创汇 616.81 万美元 分别 同比 增长 15.52% 12.42% 主要 旅游 景区 接待 游客 460.61 万人次 同比 增长 8.16% 门票 收入 9398.64 万元 同比 增长 13.74% 铁路 公路 民航 交通 客运 单位 运送 旅客 194.37 万人次 客运 总收入 4324.54 万元\n",
          "数据 监测 时至 国家级 夜间 文化 旅游 消费 集聚 夜间 客流量 7768.6 万人次 平均 每个 集聚 每夜 6.39 万人次 同期 增长 114.5% 上海 南京 西路 南京 秦淮河 夫子庙 片区 泰安 泰山 秀城 洛阳 洛阳 古城 长沙 五一 商圈 成都 春熙路 大慈坊 南宁 三街 两巷 西安 城墙 景区 多个 集聚 五一 假期 累计 夜间 客流量 已超 万人次 全国 国内 旅游 出游 合计 2.74 亿人次 同比 增长 70.83% 可比 口径 恢复 同期 119.09% 实现 国内 旅游 收入 1480.56 亿元 同比 增长 128.90% 可比 口径 恢复 同期 100.66%\n",
          "今天 连续 七天 算算 洛阳 文旅 消费 券能 洛阳市 文化 广电 旅游局 洛阳市 发展 改革 委员会 洛阳市 财政局 洛阳市 商务局 联合 主办 古都 八点 相约 洛阳城 文旅促 消费 活动 万元 文旅 消费 正在 火热 发放 新一波 消费 日至 连续 七天 发放 消费 类别 价值 消费 券包 包含 一张 一张 一张 叠加 使用 公众 洛阳 旅游 微信 公众 享游 洛阳 微信 公众 享游 河洛 APP 领取 需要 注意 在此期间 领取 消费 券须 日前 使用 优惠 景区 名单 大图 河南 新闻广播 冰冰\n",
          "洛阳 身边 星期六 农历 腊月 廿三 海关总署 去年 我国 进出口 总值 首次 突破 万亿元 同比 7.7% 连续 保持 货物贸易 第一 大国 地位 央行 蚂蚁 集团 大型 平台 企业 整改 基本 完成 中智 咨询 发布 企业 年终奖 发放 计划 调研 报告 74% 企业 计划 发放 年终奖 人均 2.19 万元 平均 1.8 月薪 胡润 中国 发布 总价值 万亿元 台积 位列 第一 宁波市 所有 公交 地铁 春节 免费 东航 南航 自美 退市 存托股 交易量 有限 最后 交易 日期 预计 海南 预计 去年 GDP 实现 增长 今年 GDP 目标 增长 9.5% 左右 武汉 房产交易 中心 二环 限购 新房 二手房 适用 江苏 南京 南通 两市 国有 旅游 景区 属地 医务人员 免费 开放 三年 乌克兰 立法 允许 外国人 参加 乌克兰 军队 韩国 警方 公布 首尔 梨泰院 踩踏 事故 调查结果 公职人员 业务 过失 所致 日本政府 确认 福岛 污水 预计 年春夏 排放 入海\n",
          "凤凰网 旅讯 2.3 亿人次 出游 1132.3 亿元 收入 五一 假期 哪些地方 火爆 今年 五一 连休 五天 消费者 积蓄 已久 长途 出行 需求 得以 释放 凤凰网 旅游 从文 旅部 获悉 综合 各地 文旅 部门 通讯 运营商 线上 旅行 服务商 数据 经文 旅部 测算 五一 假期 全国 国内 旅游 出游 2.3 亿人次 实现 国内 旅游 收入 1132.3 亿元 五一 假期 人均 出游 4.18 多地 旅游 市场 火爆 携程 数据 显示 北京 上海 广州 杭州 成都 西安 南京 重庆 武汉 长沙 入围 五一 黄金周 十大 热门 旅游 城市 上海 迪士尼 度假区 颐和园 华山 成都 大熊猫 繁育 研究 基地 八达岭长城 圆明园 拙政园 长隆 野生动物 世界 龙门石窟 西安 城墙 跻身 五一 黄金周 热门 景区 TOP10 值得注意 出游 人群 代表 世代 人群 五一 黄金周 表现 亮眼 比达 21% 旅游 消费 直追 拥有 历史 文化 厚重感 参与 体验 感强 挑战性 玩乐 项目 成为 出游 首选 对比 订单 城市 荆州 连云港 汕头 湖州 大同 洛阳 淮安 等市 入围 今年 五一 黄金周 增速 最快 目的地 城市 五一 假期 出游 假期\n",
          "清明 机票价格 回归 至疫前 水平 清明 出游 人数 三成 面对 越来越近 清明 长假 旅游 产品 预订 火爆 情况 显现出 游客 急切 出游 决心 旅行 平台 数据 显示 目前 清明 假期 机票 预订 已经 同期 1.3 供需 关系 影响 机票价格 随之 回归 平均 支付 价格 河南 春晚 三星堆 考古 发现 带动 今年 文化 古迹 景区 格外 受到 关注 截至 文化 古迹 景区 热度 年时 增长 3.8 清明 假期 坐飞机 洛阳 游客 同期相比 增长 超过 两成 四川 三星堆 景区 门票 搜索 出现 大幅 上涨 截至 旅行 平台 三星堆 景区 搜索 同期相比 增长 3.4 预计 热度 持续 清明 假期 旅客 到达 方面 成都 今年 到达 旅客量 最多 城市 排名 前五 客源地 依次 北京 上海 广州 深圳 沈阳 到达 成都 国内机票 平均 支付 价格 证券日报\n",
          "洛阳 十年 之间 十年间 洛阳 国家 景区 数量 增加 旅游 收入 目前 洛阳 已有 世界 文化遗产 全国 文物保护 单位 博物馆 纪念馆 总数 达到 城市 书房 图书馆 文化馆 全部 达到 国家 三级 以上 标准 基层 综合性 文化 服务中心 实现 覆盖 十年间 洛阳 国家 景区 数量 增加 全市 接待 游客 0.77 亿人次 增加 1.42 亿人次 增加 84.4% 旅游 收入 420.75 亿元 增加 1321.02 亿元 增加 213.96% 洛阳 权威 发布 洛阳 小时\n",
          "元旦假期 洛阳 旅游 数据 出炉 网友 整理 归纳 元旦假期 河南 旅游 数据 元旦假期 洛阳 全市 接待 游客 153.2 万人次 同期 增长 90.98% 旅游 总收入 9.42 亿元 同期 增长 79.87% 栾川县 接待 游客 19.58 万人次 实现 旅游 综合 收入 1.42 亿元 同比 分别 增长 515.72% 516.8% 据统计 老君山 景区 接待 游客 3.29 万人次 实现 旅游 收入 823.38 万元 龙门石窟 景区 接待 游客 2.45 万人次 实现 旅游 收入 156.86 万元 隋唐洛阳城 国家 遗址 公园 接待 游客 1.74 万人次 实现 旅游 收入 46.26 万元 雨辰 洛城 洛阳\n",
          "春节 旅游 回暖 销售额 恢复 三成 旅行社 从业 人节 姚学森 告诉 今年春节 旅游 自由 小包 为主 团游 比重 日前 海南 云南 热门 目的地 机票 酒店 价格 都己 高点 洛阳 海口 昆明 西双版纳 机票 很多 海南 云南 东北 雪乡 比较 热门 出镜 游有 泰国 海岛 价位 疫情 上涨 部分 市民 年龄 2o 为主 确实 春节 春节 出游 打算 大部分 市民 疫情 影响 老老实实 侍在 家中 疫情 未退 自由 跟团 周边游 专家 尽量减少 室内 人员 聚会 佩带 N95 口罩 勤洗手 保持 距离 勤洗手 身体健康 放在 一位 洛阳 晚报\n",
          "元旦 期间 河南 文旅 市场 快速 回暖 元旦 期间 全省 接待 游客 多万人次 热闹 场景 回来 从省 文化 旅游 获悉 元旦 期间 河南 文旅 市场 快速 回暖 全省 接待 游客 1308.47 万人次 去年同期 增长 20.68% 旅游 收入 61.07 亿元 同比 增长 27.39% 元旦假期 郑州市 举办 喜迎 双节 乐游 郑州 主题 节日 活动 少林寺 景区 百万 庄园 樱桃沟 多个 旅游 景区 中国 活动 元素 开展 传统 民俗 表演 新春 互动 剧目 演出 举办 非遗 体验 跨年 派对 特色 创意 灯展 节日 主题 活动 营造 浓厚 节日 氛围 洛阳 隋唐洛阳城 景区 开展 宫里 过大年 系列 活动 安阳市 开展 安阳 十大 网红 打卡 征集 评选 一字 千年 博物馆 奇妙 推介 多条 漫步 安阳 都市 旅游 线路\n",
          "元旦 河南 旅游 实现 开门红 河南 发布 冬季 旅游 市场 不冷 反热 文旅 行业 喜开 新局 文化 旅游 了解 元旦 假期 全省 接待 游客 万人次 旅游 收入 42.54 亿元 成绩 来之不易 全省 文旅 行业 努力 克服 疫情 影响 积极 适应 市场 变化 元旦假期 元旦假期 相比 日至 栾川 林州 重点 旅游 市县 龙头 景区 游客量 旅游 收入 增长 迅猛 表现 最为 抢眼 老君山 景区 接待 游客 2.4 万人次 同期相比 增长 1500% 旅游 收入 541.8 万元 同期相比 增长 3736% 云台山 景区 接待 游客 6.72 万人次 同期相比 增长 967% 方特 欢乐 世界 接待 游客 2.58 万人次 同期相比 增长 96.63% 老君山 顶流 表现 河南省 今年 冬游 市场 缩影 全省各地 供给 需求 两端 发力 推出 一批 高品质 冬游 产品 形成 需求 牵引 供给 供给 创造 需求 良性循环 泡温泉 冰挂 滑雪 成为 游客 打卡 热门 项目 洛阳 白云山 推出 冰雪 奇遇 高山 雪景 游客 震撼 林州市 增加 写生 基地 供暖 设施 解决 冬季 写生 留不住\n",
          "山地 旅游 中国 旅游 研究院 游客 满意度 课题组 发布 一季度 全国 游客 满意度 调查报告 报告 显示 一季度 全国 国内 游客 综合 满意度 指数 80.41 季度 环比 增长 0.29% 处于 满意 区间 企稳 回升 趋势 初显 出境 游客 满意度 82.32 同期 增长 0.98% 超过 疫前 同期 水平 游客 满意度 排名 位居 前列 城市 包括 苏州 青岛 重庆 长春 南京 洛阳 杭州 成都 长沙 天津 购物 餐饮 旅行社 服务 短板 投诉 较为 集中 短期内 游客 满意度 下行 风险 关注 报告 主要 内容 如下 中国 游客 重返 国际 旅游 市场 出境 游客 满意度 超过 疫前 水平\n",
          "随州 星期四 农历 三月 十五 五一 假期 国内 旅游 出游 2.74 亿人次 恢复 同期 119% 宁德 时代 比亚迪 分列 动力电池 一季度 全球 市占率 二名 周五 香港 警队 招募 取消 最低 身高 要求 增设 中英文 笔试 四川 宜宾 兴文县 接连 发生 4.0 4.5 地震 云南 隆阳 5.2 地震 造成 受伤 一次 旅行 有效期 十年 洛阳 老君山 景区 游客 欠条 好评 景区 回应 临时 限流 不愿 游客 寒心 山东 聊城 化工厂 爆炸 着火 已致 遇难 受伤 人失联 山东 成立 事故 调查组 今年 五一 票房 已达 亿元 跻身 中国 影史 同期 第三 再创 历史 张之臻 三救 赛点 逆转 弗里茨 挺进 马德里 大师赛 西湖 景区 回应 高价 打捞 手机 工作人员 接到 求助 免费 打捞 两架 无人机 袭击 克里姆林宫 俄方 普京 受伤 保留 报复 权利 莫斯科 宣布 禁飞 无人机 否认 参与 克里姆林宫 袭击\n",
          "洛阳 身边 秀美 栾川 中秋 长假 栾川县 接待 游客 8.54 万人次 中秋 长假 栾川县 接待 游客 8.54 万人次 实现 旅游 收入 428.78 万元 老君山 景区 接待 游客 2.19 万人 门票 收入 183.96 万元 重渡 接待 1.22 万人 门票 收入 98.2 万元 鸡冠 接待 1.09 万人 门票 收入 44.69 万元 龙峪湾 接待 1.03 万人 门票 收入 46.35 万元 养子 接待 0.31 万人 门票 收入 9.92 万元 抱犊寨 接待 2.5 万人 门票 收入 万元 天河 大峡谷 接待 0.2 万人 门票 收入 0.66 万元 今年 中秋 栾川县 天气晴好 秋高气爽 吸引 大批 游客 前往 老君山 景区 红粉 修行 下山 施粥 数千 排队 争相 品尝 免费送 出福糕 公斤 开心 余碗 龙峪湾 景区 推出 中秋 出游 龙峪湾 过路费 买单 优惠政策 游客 高速 免费 之忧 抱犊寨 景区 举行 电影 开机 仪式 栾川 卢氏 两县 居民 门票 吸引 大批 游客 高速 下站 游客 信息 咨询中心 游客 提供 第一手 咨询服务 宣传 文明 旅游 受到 游客 一致 称赞\n",
          "洛阳城 酒店 预订 飙涨 洛阳 春节假期 太火 洛阳人 春游 洛阳 文化 旅游部 数据中心 测算 今年 春节假期 全国 国内 旅游 出游 3.08 亿人次 同比 增长 23.1% 恢复 同期 88.6% 实现 国内 旅游 收入 3758.43 亿元 同比 增长 30% 恢复 同期 73.1% 洛阳 小众 城市 春节 同程 旅行 数据 显示 今年 春节假期 期间 洛阳 开封 佛山 惠州 酒店 预订 同比 去年同期 上涨 超过 洛阳 增幅 高达 2335% 前往 洛阳 游客 分享 有趣 经历 酒店 一房 难求 无奈 选择 附近 洗浴 中心 过夜 前台 服务 人员 反馈 类似 游客 为数不少\n",
          "重磅 今年 自驾游 栾川 嵩县 高速 费全免 奇境 栾川 记得 去年 栾川 举办 自驾游 栾川 高速 全免费 活动 日到 万人次 游客量 万元 景区 门票 收入 7.57 亿元 旅游 总收 自驾游 栾川 高速 全免费 旅游 扶贫 公益 行动 开创 全国 旅游 扶贫 活动 先河 再次 全国 旅游 营销 活动 创新 前列 来自 全国 各地 游客 享受 栾川 旅游 产业 发展 红利 好消息 今年 栾川 高速 免费 将要 继续 举办 重要 今年 活动 重大 升级 活动 力度 更大 活动 范围 更广 活动 时间 更长 了解 充分发挥 伏牛山 全域 旅游 扶贫 联盟 优势 积极探索 伏牛山 地区 旅游 交通 产业 扶贫 区域 一体化 发展 道路 全域 旅游 促进 全域 脱贫 栾川县 人民政府 嵩县 人民政府 交通 惠民 旅游 扶贫 原则 河南省 交通运输 同意 栾川县 嵩县 联合 举办 高速 免费 活动 活动 零时 周末 所有 洛栾 高速 栾川县 境内 栾川 重渡 沟站 嵩县 境内 嵩县 产业 集聚 区站 嵩县 旧县 九龙山 以下 客车 河南省 高速公路 通行费\n",
          "旅游 太不容易 五一 被迫 放弃 接下来 暑期 看到 希望 景区 一整 年收入 重要 组成部分 每年 五一 景区 倾注 大量 心血 五一 收入 一定 程度 决定 上半年 收入 目前 来看 上半年 景区 味同嚼蜡 动不动 熔断 已经 省际 旅游 化为泡影 就算 市际 旅游 时不时 面临 诸多困难 山东 五一 来看 济南人 休想 济南 有人 断言 暑期 影响 全年 一下 国庆 黄金周 旅游 企业 坚持 下去 眼下 五一 长假 各大 景区 截流 祭出 免费 大旗 庐山 福建 永定 土楼 恩施 地心谷 张家界 荔波 樟江 七孔 景区 洛阳 白云山 景区 不同 程度 免费 缆车 索道 免费 景区 内卷 长远 来看 未必 良策 眼下 环境 容不得 景区 喘息 有没有 二次 消费 可能 吸引 过来 景区 难处 可见一斑 假期 期间 员工 支出 管理 成本 养护 成本 部分 动物园 饲养 成本 景区 一动不动 费用 吓人 希望 景区 坚持下去 山东 发布 五一 假期 提示 世界 疫情 旅游\n",
          "直播 对话 民生 本期 关注 积极 谋划 多措 并举 加快 全省 文化 旅游 市场 恢复 国内 疫情 逐步 得到 控制 以来 旅游 消费 意愿 市场 信心 稳步 回升 特别 月份 以后 我省 旅游 市场 恢复 全省 累计 接待 旅游 人数 恢复 去年同期 62% 左右 月份 全省 旅游 已经 恢复 去年同期 85% 左右 预计 月份 全省 旅游 接待 人数 恢复 去年同期 90% 左右 目前 全省 景区 恢复 开放 开放 率为 91.81% 全省 星级饭店 开业 开业 91.4% 跨省 放开 全省 旅行社 情况 有所 好转 旅行社 接待 外省 团队 数量 同比 恢复 31.2% 全省 在建 旅游 项目 投资 5782.83 亿元 完成 投资 366.27 亿元 全省 文化产业 示范园区 入驻 企业 同比 增长 20.1% 河南 博物院 殷墟 遗址 博物馆 二里头 夏都 遗址 博物馆 数字化 项目 隋唐洛阳城 遗址 保护 展示 工程 安阳 高陵 保护 展示 工程项目 进展 顺利\n",
          "洛阳 万元 文旅 消费 洛阳市 抢券 万元 文旅 消费 强势 来袭 日起 全国 游客 享游 河洛 APP 首页 活动 专区 领取 成功 领取 消费 游客 享受 龙门石窟 老君山 重渡 洛阳市 余家 景区 最高 门票 优惠 下载 享游 河洛 APP 四轮 累计 价值 万元 文旅 消费 即将 承包 整个 夏天 本次 活动 持续 本此 古都 八点 相约 洛阳城 系列 惠民 活动 洛阳市 文化 广电 旅游局 洛阳市 发展 改革 委员会 洛阳市 财政局 洛阳市 商务局 联合 主办 上午 闹钟 准备 抢券 享游 洛阳\n",
          "河南 地成 清明 假期 热门 景区 清明 假期 国内 热门 航线 TOP10 清明 假期 临近 旅游 持续 升温 消息 数据 显示 目前 清明 假期 机票 预订 已经 同期 1.3 供需 关系 影响 机票价格 随之 回归 平均 支付 价格 郑州 唐宫 小姐姐 三星堆 考古 发现 带动 今年 文化 古迹 景区 格外 受到 关注 正观 发现 河南 博物院 隋唐洛阳城 国家 遗址 公园 开封 清明 河园 成为 清明 假期 热门 景区 数据 显示 截至 文化 古迹 景区 热度 年时 增长 3.8 清明 假期 坐飞机 洛阳 游客 同期相比 增长 超过 两成 正观 乔西\n",
          "五一 成绩单 河南 赢麻 五一 假期 收官 截至 目前 二十多个 省区市 公布 五一 文旅 市场 相关 数据 河南 接待 游客 万人次 位列 第一 长假 旅游 总收入 共有 依次 浙江 369.7 亿元 云南 349.6 亿元 河南 310.1 亿元 江苏 310.08 亿元 省份 河南 表现 尤为 引人注目 万人次 如今 万人次 河南 增加 旅游 人数 高于 湖南 湖北 内蒙古 整个 五一 期间 游客 相关 数据 显示 五一 期间 洛阳 古城 特色 文化 街区 接待 游客 余万人次 白马寺 隋唐洛阳城 景区 游客 达到 历史 峰值 龙门石窟 更是 跻身 五一 期间 全国 十大 热门 景区 中国 新闻周刊 奇点 财经 奇点 财经\n",
          "位出 洛阳 全国 夜游 携程 发布 上半年 旅游 经济 报告 数据 显示 上半年 用户 人均 夜游 次数 1.3 夜游 人均 消费 上半年 夜游 景区 玩乐 门票 销量 同比 增长 469% 夜游 目的地 TOP10 洛阳 超过 上海 成为 全国 夜游 目的地 城市 入围 TOP10 城市 夜游 宵夜 著称 目的地 更受 消费者 青睐 年轻 旅行者 宵夜 夜景 3D 灯影 更是 不可或缺 环节 上半年 搜索 增长 100% 以上 夜游 项目 几乎 多元化 沉浸 关键词 分不开 上海 海昌 海洋公园 海洋 奇夜 龙门石窟 夜游 龙门石窟 瘦西湖 唐诗 主题 大型 沉浸 夜游 项目 三亚 海昌 梦幻 海洋 不夜城 夜间 音乐节 黄果树 瀑布 沉浸 光影 视觉 盛宴 游客 喜爱 搜索 热门 深度 夜游 项目 温小娟\n",
          null
         ],
         "marker": {
          "opacity": 0.5,
          "size": 5
         },
         "mode": "markers+text",
         "name": "12_增长_游客_收入",
         "text": [
          "",
          "",
          "",
          "",
          "",
          "",
          "",
          "",
          "",
          "",
          "",
          "",
          "",
          "",
          "",
          "",
          "",
          "",
          "",
          "",
          "",
          "",
          "",
          "",
          "12_增长_游客_收入"
         ],
         "textfont": {
          "size": 12
         },
         "type": "scattergl",
         "x": [
          6.030625343322754,
          5.978549957275391,
          6.033676624298096,
          5.970096111297607,
          6.522642135620117,
          6.193408489227295,
          6.029351234436035,
          6.137140274047852,
          6.0825982093811035,
          6.025024890899658,
          6.180342674255371,
          6.027536869049072,
          6.104325771331787,
          6.014090061187744,
          5.948188304901123,
          6.589162349700928,
          6.003123760223389,
          6.149770736694336,
          6.025805473327637,
          6.040207862854004,
          6.637638092041016,
          6.320990085601807,
          6.0333147048950195,
          5.923616409301758,
          6.125051498413086
         ],
         "y": [
          11.128634452819824,
          11.148248672485352,
          11.165003776550293,
          11.195291519165039,
          10.888070106506348,
          10.955388069152832,
          11.115559577941895,
          10.817358016967773,
          11.219564437866211,
          11.163604736328125,
          10.908648490905762,
          11.145848274230957,
          10.985466003417969,
          11.168364524841309,
          11.186493873596191,
          10.78695011138916,
          11.185583114624023,
          10.859375953674316,
          11.117237091064453,
          11.111165046691895,
          10.817728042602539,
          10.822242736816406,
          11.159625053405762,
          11.232717514038086,
          11.053507804870605
         ]
        },
        {
         "hoverinfo": "text",
         "hovertext": [
          "今年 春运 洛阳 火车站 累计 发送 旅客 125.2 万人次 清明 长假 车票 开售 昨天 为期 春运 落下 帷幕 今年 春运 洛阳 火车站 累计 发送 旅客 125.2 万人次 去年 增长 2.88% 洛阳 火车站 获悉 本周 洛阳 车站 客流 逐渐 回落 旅客 学生 旅游者 外出 务工者 为主 目前 前往 北京 上海 广州 旅客 集中 方向 客流量 明显 下降 了解 今年 春运期间 洛阳 火车站 客流 主要 集中 北京 上海 广州 深圳 成都 方向 洛阳 累计 发送 旅客 74.6 万人次 洛阳 龙门 45.1 万人次 正月 十七 全站 发送 旅客 人次 今年 春运 历史 单日 发送 最高 应对 客流 高峰 春运期间 洛阳 火车站 加开 临客 加开 洛阳 龙门 夜间 高铁 方便 旅客 出行 洛阳 火车站 设置 自动 售取 票机 人工 售票口 继续 推行 取消 异地 售票 手续费 微信 支付宝 付款 高铁 接续 换乘 选座 一系列 便民 举措 旅客 春运 行程 提供 便捷 温馨 出行 体验 本月 日起 值得 期待 清明 长假 日至 车票 已经 开售 铁路 部门 提醒 外出 计划 市民 游客 网站 手机 客户端 电话 提前 购票\n",
          "新闻 速报 十一 假期 郑州火车站 互联网 购票 九成 郑州 报道 郑州火车站 统计数据 显示 刚刚 过去 十一 假期 乘坐 火车 出行 旅客 百分之九十 使用 互联网 购票 假期 车站 东西 广场 站房 售票厅 处所 增加 自助 票机 实现 取票 分离 保障 旅客 有序 出行 郑州火车站 累计 发送 旅客 137.2 万人次 同比 增长 7.4% 客流 集中 探亲 旅游 学生 方向 主要 北京 上海 广州 西安 成都 杭州 青岛 旅游 城市 旅客 发送 人数 19.8 万人次 运输 期间 最高 十一 黄金周 期间 郑州火车站 日均 加开 临客 列车 主要 开往 北京 上海 洛阳 热门 方向 省内 短途\n",
          "交通运输 部门 提醒 清明 假期 下午 回程 出现 车流 高峰 河南省 交通运输 了解 清明 假期 预计 达到 车流 高峰 长假 期间 郑州 中心 返乡 祭扫 短程 旅游 赏花 车流 为主 高速公路 部分 枢纽 互通 路段 热点 城市 出入口 路段 墓地 景区 附近 高速公路 出现 阶段性 车流 高峰 短时 拥堵 预测 清明节 假期 前一天 下午 车流 逐渐 升高 上午 高速公路 收费站 主线 互通 流量 逐渐 增大 维持 高水平 假日 最后 一天 清明节 祭扫 出行 踏春 自驾车 流将 达到 最大 预计 下午 车流 密度 达到 峰值 带来 短时 拥堵 达到 假期 高峰 清明 期间 我省 高速公路 出口 流量 接近 万辆 去年同期 增长 10% 日均 流量 万辆 之间 日常 流量 1.5 左右 清明 假期 郑州 周边 通行 压力 较大 路段 郑少洛 高速 连霍 高速 郑州 洛阳 二广 高速 洛阳 郑州 焦作 新乡 方向 郑云 高速 港澳 高速 郑州 郑州 禹州 许昌 方向 机场 高速 港澳 高速 薛店 新郑 通行 压力 较大 互通 枢纽 刘江 枢纽 连霍 高速 和京 港澳 高速 交汇 广武 枢纽 连霍 高速 郑云 高速 交汇 港澳 商登 互通 港澳 高速 郑新\n",
          "洛阳 河洛 文化 旅游节 洛阳 铁路 迎来 返程 客流 高峰 十一 长假 接近 尾声 今明两天 洛阳 火车站 迎来 返程 客流 高峰 洛阳 铁路 部门 提醒 出行 计划 旅客 注意 提前 避免 因人 误车 洛阳 火车站 相关 负责人 往年 情况 估算 洛阳 火车站 今天 预计 发送 旅客 4.4 万人次 客流 成分 主要 探亲流 旅游 学生 该名 负责人 提醒 旅客 目前 进入 游客 返程 高峰期 洛阳 火车站 管辖 洛阳 洛阳 龙门 关林站 洛阳 东站 四个 车站 取票 进站 安检 检票 区域 客流 密集 出行 当天 携带 本人 有效证件 遇到 突发 情况 及时 铁路 部门 工作人员 求助 洛阳\n",
          "今天 郑州 铁路 预计 发送 旅客 51.7 万人 管内 客流量 激增 中国 铁路 郑州 了解 国庆 假期 第二天 郑州 预计 发送 旅客 51.7 万人 车票 预售 情况 分析 直通 客流量 趋于平稳 管内 客流量 激增 郑州 东站 今天 预计 发送 旅客 7.6 万人 开行 列车 加开 高铁 临客 城际 临客 列车 开往 北京西 商丘 宝鸡 洛阳 龙门 武汉 西安 安阳 东等 方向 截至 上午 郑州 东站 城际 列车 余票 方向 余票 紧张 了解 国庆 假期 首日 郑州 累计 发送 旅客 万人 历史 单日 旅客 发送量 新高 郑州 东站 郑州 车站 商丘 车站 洛阳 车站 发送量 同比 增幅 较大 多地 火车站 呈现 旅游 探亲流 中转 客流 叠加 出行 模式 郑州 东站 累计 发送 旅客 10.3 万人 同比 增长 12.5% 郑州 车站 累计 发送 旅客 万人 同比 增长 5.0%\n",
          "春运 郑州火车站 预计 日均 发送 万人 郑州火车站 加开 临客 郑州火车站 了解 春运 郑州火车站 预计 发送 旅客 万人 日均 万人 左右 发送 直通 旅客 195.1 万人 发送 管内 旅客 164.9 万人 春运期间 郑州 计划 开行 临客 37.5 始发 终到 列车 16.5 列车 基本 计划 停运 列车 5.5 春图 列车 合计 减少 5.5 春运 节前 客流 总体 相对 平缓 学生 返程 客流 为主 节后 探亲流 旅游 为主 返程 相互 叠加 相对 集中 春节 上年 提前 春运 运输 期限 影响 届时 部分 高校 返校 学生 流将 务工 探亲流 叠加 出行 春运期间 整体 客流 高峰 持续 节后 春节假期 探亲流 旅游 为主 节后 直通 客流 主要 流向 北京 上海 杭州 广州 乌鲁木齐 城市 东北 地区 管内 主要 集中 洛阳 南阳 信阳 商丘 安阳 地区\n",
          "郑州铁路局 增开 周末 临客 助力 旅客 轻松 出行 今日 郑州铁路局 获得 消息 日至 日至 日至 日至 增开 周末 临客 列车 始发站 终到 省内 郑州 洛阳 开封 焦作 热门 旅游 城市 为主 最大 限度 满足 周末 旅客 出行 需求 具体 班次 下图 了解 本次 加开 城际 列车 多趟 一站 直达 部分 城际 列车 经停 博园 黄河 景区 修武 西站 武陟 景区 附近 车站 周末 期间 增开 高铁 城铁 列车 加开 郑州 洛阳 K5355 洛阳 郑州 K5356 洛阳 商丘 K5358 商丘 洛阳 K5357 普速 临客 列车 郑州 洛阳 票价 19.5 经济 便捷 舒适 普速 列车 旅客 提供 个性化 选择 空间 铁路 部门 提醒 旅客 具体 列车运行 时刻 停靠站 车次 信息 网站 各大 车站 公告 为准 旅客 规划 行程 互联网 购取 往返票 联乘票 形式 提前 使用 代售点 车站 自助 取票机 换取 车票 便捷 出行 通讯员 梁展\n",
          "好消息 春运 正式 启动 郑州 安阳 六地 夜班 高铁 春运 工作 正式 启动 初步 预测 今年 春运期间 我省 客运量 1.63 亿人次 同比 增长 2.5% 郑州 武汉 铁路局 河南省 发送 旅客 万人次 同比 增长 17.2% 春运期间 郑州铁路局 开行 图定 临客 列车 郑州 机场 运输 飞行 2.32 万架次 交通运输 部门 储备 不少 座位 旅游 客车 客运 应急 能力 储备 不少 吨位 货车 货运 应急 运力 客流 需要 今年 郑州 武汉 铁路局 首次 郑州 安阳 许昌 洛阳 龙门 三门峡 信阳 安排 夜班 高铁 今年 春运 开启 郑州 安阳 六地 车站 夜班 高铁\n",
          "郑州 房产 春运 正式 启动 郑州 安阳 六地 夜班 高铁 春运 工作 正式 启动 初步 预测 今年 春运期间 我省 客运量 1.63 亿人次 同比 增长 2.5% 郑州 武汉 铁路局 河南省 发送 旅客 万人次 同比 增长 17.2% 春运期间 郑州铁路局 开行 图定 临客 列车 郑州 机场 运输 飞行 2.32 万架次 交通运输 部门 储备 不少 座位 旅游 客车 客运 应急 能力 储备 不少 吨位 货车 货运 应急 运力 客流 需要 今年 郑州 武汉 铁路局 首次 郑州 安阳 许昌 洛阳 龙门 三门峡 信阳 安排 夜班 高铁 河南 商报\n",
          "郑州 东站 端午 假期 加开 临客 端午 长假 期间 郑州 东站 客流 主要 探亲访友 旅游观光 为主 客流 流向 主要 北京 武汉 西安 上海 旅游 城市 为主 省内 集中 洛阳 商丘 安阳 信阳 应对 此次 长假 客流 高峰 该站 加开 临客 高铁 列车 城际 列车 最大 限度 满足 广大 旅客 出行 需求 该站 高峰 时段 开启 全部 进站 通道 实名制 进站 闸机 铁路 网站 手机 APP 购票 旅客 无需 取票 直接 本人 二代 身份证 进站 最大化 方便 旅客 进站 候车 广大 旅客 提前 做好 行程 规划 充分考虑 道路 拥堵 公交 地铁 实际 情况 合理安排 交通 方式 时间 耽误 行程\n",
          "端午 假期 高速公路 出口 总流量 降至 结合 目前 省内外 疫情 防控 政策 要求 倡导 民众 非必要 不离省 非必要 出市 预计 端午节 期间 公众 探亲 旅游 出行 热度 依然 不高 去年 端午节 期间 明显 下降 全省 高速公路 出口 总流量 降至 万辆 左右 去年 同比 下降 52.29% 左右 日均 万辆 高速 路段 分布 预测 预计 O6 下午 O6 上午 时至 高速公路 收费站 主线 互通 车流量 逐渐 增大 提醒 公众 合理安排 时间 错峰 出行 避开 拥堵 高速公路 下站 结合 假期 高速 通行 政策 以往 假期 高速 拥堵 情况 分析 端午节 期间 以下 高速 路段 收费站 可能 出现 拥堵 情况 港澳 高速 机场 互通 商登 互通 港澳 高速 刘江 黄河 大桥 原阳 连霍 高速 巩义段 盐洛 高速 许昌 郑栾 高速 郑州 始祖 隧道 郑少 高速 新密段 郑民 高速 郑州 全省 车流量 较大 收费站 主要 分布 郑州 周边 流量 较大 收费站 郑州 南站 十八里 河站 航海 路站 柳林 文化路 郑州 南站 陇海 西路 侯寨 中原 西路 开封 洛阳 登封 新乡 焦作 附近 收费站 出现 拥堵 现象 张睿 栗倩\n",
          "明日 郑州 东站 人工 窗口 自助 售票机 开售 国庆 高铁 车票 今天 郑州 东站 了解 明天 该站 人工 售票 窗口 自助 售票机 开售 国庆 假期 高铁 车票 往年 长假 客流 规律 今年 国庆 假期 郑州 东站 预计 出现 两次 客流 高峰 分别 出行 高峰 返程 高峰 呈现 旅游 出行 返乡 探亲 不同 类型 客流 高度 叠加 特点 东站 即将 到来 售票 高峰 做好 充足 准备 目前 车站 人工 窗口 自动 售票机 现金 支付宝 微信 银行卡 多种 方式 进行 购票 下午 网站 查询 发现 国庆节 前一天 郑州 去往 上海 方向 高铁 车票 余票 充足 去往 北京 方向 高铁 车票 所剩 去往 西安 武汉 方向 车票 基本 售罄 郑州 东站 去往 新乡 安阳 高铁 车票 余票 充足 去往 开封 商丘 高铁 少量 余票 去往 许昌 漯河 驻马店 信阳 洛阳 三门峡 高铁 车票 基本 售罄 郑州 东站 提醒 广大 旅客 中秋节 国庆 假期 比较 集中 长假 时间 选择 高铁 出行 旅客 尽早 规划 行程 购票 趁早 郑说 广播\n",
          "国庆 长假 我市 迎来 客流 高峰 公路 铁路 发送 旅客 超过 万人次 今年 国庆 长假 期间 天气晴朗 温度 适宜 不少 市民 机会 探亲访友 外出 游玩 我市 客运 迎来 客流 高峰 公路 铁路 部门 统计 日至 全市 公路 铁路 发送 旅客 超过 万人次 下午 长途 客运 总站 看到 售票 窗口 安检 通道 候车 大厅 井然有序 车站 开往 各地 客运 班车 一辆 一辆 运送 旅客 今年 国庆 长假 高峰 客流 主要 游玩 探亲 中短途 为主 主要 流向 我市 周边 各市县 长假 首日 我市 汽车 客运 发送 旅客 就近 人次 据统计 今年 十一 旅游 黄金周 期间 我市 道路 旅客 运输 发送 旅客 49.7 万人次 道路 运输 投入 客运 班车 班次 假日 期间 全市 道路 旅客 运输 市场 平稳 有序 国庆 长假 期间 济源 铁路 迎来 出行 高峰 采访 了解 今年 国庆 长假 高峰 客流 主要 流向 洛阳 焦作 新乡 周边城市 长途 客流 主要 流向 太原 重庆 北京 求学 探亲 旅游 客流 为主 长假 首日 铁路 方面 发行 旅客 人次 济源 火车站 统计 截至 晚上 今年 黄金周 假日 期间 我市 铁路 旅客 运输 发送 旅客 人次 铁路 部门 开行 图定 列车\n",
          "五一 期间 单日 客流 历史 新高 郑州 铁路 平均 开行 一趟 列车 获悉 五一 假期 日至 国铁 集团 郑州 累计 发送 旅客 万人次 同期 日至 增长 31% 日均 发送 旅客 77.4 万人次 单日 最高 发送 旅客 83.01 万人次 历史 新高 五一 假期 国铁 集团 郑州 局管内 跨省 客流 短途 客流 较大 旅游 探亲流 商务 叠加 部分 时段 客流 高度集中 直通 主要 流向 北京 上海 广州 深圳 杭州 成都 大连 管内 客流 主要 集中 郑州 洛阳 南阳 商丘 周口 安阳 国铁 集团 郑州 一日 一图 细化 安排 方向 运力 方便 旅客 出行 日均 开行 旅客列车 平均 开行 一趟 列车 高峰 开行 旅客列车 日均 加开 临客 列车\n",
          "出行 提示 五一 假期 首日 火车票 周六 开售 五一劳动节 放假 时间 日至 目前 火车票 预售 周六 开售 五一 假期 首日 火车票 火车票 回程 车票 发售 时间 旅游 机构 出游 趋势 预测 今年 五一 假期 国内 长线 需求 增长 显著 火车票 预计 较为 抢手 旅游 机构 数据 显示 截至 五一 假期 最受 用户 关注 国内 旅游 目的地 北京 成都 重庆 广州 上海 西安 长沙 深圳 杭州 昆明 阿坝 秦皇岛 黄山 锦州 洛阳 目的地 旅游 热度 迎来 快速 上涨 旅游 热度 环比 涨幅 70% 以上\n",
          "好消息 郑州 东站 增开 周末 临客 需注意 郑机 城际 列车 停运 郑州 东站 获悉 方便 广大 旅客 暑期 周末 高铁 出行 郑州 东站 日起 新增 开往 洛阳 安阳 商丘 三门峡 信阳 省内 城市 高铁 临客 列车 探亲访友 旅游观光 旅客 提供 选择 两天 道岔 施工 影响 途经 郑州 东站 C2841 C2842 C2843 C2844 C2845 C2846 C2847 C2848 C2849 C2850 C2851 C2852 C2853 C2854 C2855 郑机 城际 列车 停运 两天 新郑 机场 方向 换乘 飞机 出行 旅客 选择 城际 列车 地铁 机场 大巴 自驾 交通 方式 前往 列车 停运 出行 带来 不便\n",
          "端午 假期 第一天 郑州 公路 铁路 迎来 客流 高峰 今天 端午 假期 第一天 郑州 铁路 公路 客运 部门 双双 迎来 客流 高峰 郑州 长途汽车 中心站 了解 端午 长假 客流 平常 有所 增多 预计 全天 发送 旅客 万人 左右 主要 探亲流 学生 为主 主要 省内 中短途 出行 端午 假期 中心站 随时 旅客 排队 购票 情况 增开 售票 窗口 针对 热点 线路 增开 班次 全力 保障 客流 高峰期 旅客 顺利 出行 满足 节日期间 旅客 自助游 出行 需求 中心站 开通 登封 少林寺 云台山 开封 洛阳 旅游 直通车 省外 山西 晋城 长治 省际 公交 晋城 公交 节假日 期间 乘车 铁路 方面 今天 郑州火车站 预计 发送 旅客 17.5 万人次 整个 端午 假期 预计 客流量 将会 达到 万人次 左右 目前 开往 上海 广州 西安 方向 票源 比较 紧张 仅剩 少量 站票 开往 北京 方向 高铁 普速 列车 车票 少量 剩余 应对 客流 高峰 郑州火车站 增加 售票 窗口 增加 临时 旅客列车 主要 开往 三门峡 灵宝 洛阳 商丘 周口 方向\n",
          "五一 放假 拟去 三亚 洛阳 恩施 游客 增速 最快 五一 假期 调整 May Day holiday was extended to four days 短途旅行 medium and short distance trips 全国 铁路 日起 实施 列车运行 new railway operating plan was started from April 乘坐 高铁 旅行 便捷 High speed train trips are easier and more convenient 假期 延长 计划 三亚 洛阳 恩施 游客 增长速度 最快 Travel plans to Sanya Luoyang and Enshi grew most rapidly due to the extended holidays 网络图 小时 高铁 旅游 地图\n",
          "洛阳 铁路 节后 客流 高峰 三六九 往外 昨日 正月初 洛阳 铁路 迎来 节后 客流 高峰 铁路 部门 统计 今年 春节假期 洛阳 火车站 累计 发送 旅客 19.9 万人次 同比 增长 4.1% 洛阳 发送 旅客 10.9 万人次 洛阳 龙门 发送 旅客 8.8 万人次 洛阳 火车站 累计 发送 旅客 4.6 万人次 春节 长假 单日 旅客 发送 最高 纪录 昨日 洛阳 铁路 迎来 返程 客流 高峰 主要 探亲流 旅游 为主 洛阳 火车站 相关 负责人 节后 客流 高峰期 预计 持续 正月初十 之后 客流量 有所 回落 来源 洛阳 日报\n",
          null
         ],
         "marker": {
          "opacity": 0.5,
          "size": 5
         },
         "mode": "markers+text",
         "name": "13_旅客_客流_郑州",
         "text": [
          "",
          "",
          "",
          "",
          "",
          "",
          "",
          "",
          "",
          "",
          "",
          "",
          "",
          "",
          "",
          "",
          "",
          "",
          "",
          "13_旅客_客流_郑州"
         ],
         "textfont": {
          "size": 12
         },
         "type": "scattergl",
         "x": [
          5.400068759918213,
          5.465628147125244,
          5.764002799987793,
          5.402368068695068,
          5.420101165771484,
          5.391778469085693,
          5.63253116607666,
          5.40564489364624,
          5.407651901245117,
          5.74094820022583,
          5.708491325378418,
          5.711003303527832,
          5.432960510253906,
          5.422763347625732,
          5.402319431304932,
          5.761946201324463,
          5.658486366271973,
          5.372914791107178,
          5.3604230880737305,
          5.519054412841797
         ],
         "y": [
          9.741984367370605,
          9.753914833068848,
          9.743210792541504,
          9.800808906555176,
          9.735773086547852,
          9.712624549865723,
          9.643309593200684,
          9.687982559204102,
          9.682293891906738,
          9.596531867980957,
          10.441848754882812,
          9.668556213378906,
          9.881356239318848,
          9.751321792602539,
          9.889415740966797,
          9.585837364196777,
          9.674137115478516,
          9.832802772521973,
          9.819936752319336,
          9.770718574523926
         ]
        },
        {
         "hoverinfo": "text",
         "hovertext": [
          "好消息 洛阳 再添 4A 景区 洛阳市 文化 旅游局 获悉 洛阳 再添 国家 4A 景区 河南省 文化 旅游 网站 发布公告 依据 旅游 景区 质量 等级 划分 评定 国家标准 旅游 景区 质量 等级 管理 办法 省辖市 文化 旅游 主管部门 推荐 河南省 文化 旅游 按程序 组织 综合 评定 全省 景区 达到 国家 4A 旅游 景区 标准 要求 洛阳市 栾川县 竹海 野生 动物园 宜阳县 花果山 国家森林公园 位列 批准 国家 4A 旅游 景区 至此 全市 共有 5A 景区 4A 景区 增至 景区 数量 全国 地级 城市 名列前茅 洛阳 爆料 洛阳\n",
          "河南省 文旅厅 要求 河南 所有 旅游 景区 不得 擅自 开放 河南省 文化 旅游 了解 截止 全省 景区 景区 关闭 运营 关闭 率达 65.68% 5A 景区 开放 全省 5A 景区 恐龙 遗迹 龙门石窟 白云山 鸡冠 老君山 景区 开放 南阳 恐龙 遗迹 园外 集中 洛阳 地区 少林寺 清明 河园 云台山 红旗渠 龙潭 大峡谷 殷墟 太行 大峡谷 天河 神农 界岭 八里沟 尧山 砀山 景区 关闭 防汛 形势 防止 景区 次生 灾害 发生 文化 旅游 发文 要求 各地 扎实 开展 景区 安全隐患 排查 特别 景区 临水 临崖 道路 漂流 游船 攀岩 玻璃 栈道 吊桥 观景台 重点 区域 索道 游船 游乐 设施 大型 设备 安全 大排查 目前 所有 旅游 景区 不得 擅自 开放 如需 开放 景区 安全隐患 认真 排查 确保安全 前提 综合 评定 自然 天气 条件 当地 党委 政府 批准 才能 开放 报省 文化 旅游 备案 截至 目前 全省 景区 人员 伤亡事故 发生 河南日报\n",
          "资讯 关注 河南省 文旅厅 要求 河南 所有 旅游 景区 不得 擅自 开放 河南省 文化 旅游 了解 截止 全省 景区 景区 关闭 运营 关闭 率达 65.68% 5A 景区 开放 全省 5A 景区 恐龙 遗迹 龙门石窟 白云山 鸡冠 老君山 景区 开放 南阳 恐龙 遗迹 园外 集中 洛阳 地区 少林寺 清明 河园 云台山 红旗渠 龙潭 大峡谷 殷墟 太行 大峡谷 天河 神农 界岭 八里沟 尧山 砀山 景区 关闭 防汛 形势 防止 景区 次生 灾害 发生 文化 旅游 发文 要求 各地 扎实 开展 景区 安全隐患 排查 特别 景区 临水 临崖 道路 漂流 游船 攀岩 玻璃 栈道 吊桥 观景台 重点 区域 索道 游船 游乐 设施 大型 设备 安全 大排查 目前 所有 旅游 景区 不得 擅自 开放 如需 开放 景区 安全隐患 认真 排查 确保安全 前提 综合 评定 自然 天气 条件 当地 党委 政府 批准 才能 开放 报省 文化 旅游 备案 截至 目前 全省 景区 人员 伤亡事故 发生 河南日报\n",
          "永城市 日月 湖景区 荣膺 国家 4A 旅游 景区 河南省 文化 旅游 发布公告 永城市 日月 湖景区 文化 旅游 认定 国家 4A 旅游 景区 据悉 文化 旅游 旅游 景区 质量 等级 划分 评定 国家标准 旅游 景区 质量 等级 管理 办法 河南省 旅游 景区 质量 等级 管理 办法 修订版 省辖市 文化 旅游 主管部门 推荐 该厅 按程序 组织 综合 评定 公示 确定 洛阳市 伊川县 龙凤 古镇 景区 国家 4A 旅游 景区 近年来 永城市 深入 践行 习近平 生态 文明 思想 牢固 树立 绿水青山 金山 银山 理念 大力 实施 日月 采煤 沉陷 综合治理 工程 进一步 保护 水资源 防治 水污染 修复 生态 切实做好 文章 民生 探索 出以 日月 湖景区 为主 采煤 沉陷 治理 生态环境 修复 湿地 景观 开发 综合治理 模式 采煤 沉陷 区蝶 变为 生态 旅游区 治理 日月 湖景区 满目 翠绿 水天一色 变为 国家级 水利 风景区 省级 湿地 公园 建设 试点 一幅 河畅 岸绿 景美 生态 画卷 来源 商丘 商丘 日报 商丘 城市 服务台\n",
          "洛阳 身边 栾川 重渡 获批 河南 省级 旅游 度假区 近日 洛阳市 旅发委 获悉 国家旅游局 旅游 度假区 等级 管理 办法 旅游 度假区 等级 划分 国家标准 实施细则 经省 旅游 度假区 质量 等级 评定 委员会 组织 专家 评定 验收 确定 重渡 旅游 度假区 获批 河南省 省级 旅游 度假区 此次 共有 单位 获批 河南省 省级 旅游 度假区 包括 济源市 小浪底 北岸 旅游 度假区 新乡市 宝泉 西沟 旅游 度假区 信阳市 泉池 旅游 度假区 新乡市 太行 旅游 度假区 焦作市 天河 旅游 度假区 固始县 九华山 旅游 度假区 我市 老君山 山地 旅游 度假区 泰山 旅游 度假区 万安 旅游 度假区 南阳市 老君 生态 养生 旅游 度假区 三门峡市 龙湾 旅游 度假区 固始县 华阳 旅游 度假区 单位 获批 河南省 省级 旅游 度假区 创建 单位 洛阳市 旅发委 相关 负责人 表示 获批 单位 珍惜 品牌 进一步 优化 环境 丰富 度假 产品 内涵 完善 设施 提升 服务水平 我市 旅游 产业 转型 升级 做出 贡献 来源 河南省旅游局 信息中心\n",
          "河南 新增 国家 4A 旅游 景区 从省 文化 旅游 获悉 旅游 景区 质量 等级 划分 评定 国家标准 旅游 景区 质量 等级 管理 办法 河南省 旅游 景区 质量 等级 管理 办法 修订版 省辖市 文化 旅游 主管部门 推荐 该厅 按程序 组织 综合 评定 公示 确定 洛阳市 伊川县 龙凤 古镇 以下 景区 国家 4A 旅游 景区 了解 4A 旅游 景区 名单 洛阳市 伊川县 龙凤 古镇 偃师县 二里头 夏都 遗址 博物馆 新乡市 原阳县 九多肉 多酱 文化园 景区 焦作市 解放区 森林 动物园 温县 蜜雪 集团 国际 梦工厂 鹤壁市 山城区 石林 会议 旧址 濮阳市 濮阳县 濮水 小镇 三门峡市 湖滨区 庙底 考古 遗址 公园 商丘市 永城市 日月 湖景区 信阳市 光山县 钟鼓楼 亲子 乐园 新县 武占岭 生态旅游 度假 景区 顶端 郑州\n",
          "许昌 身边 许昌 一处 4A 景区 近日 河南省旅游局 发布 公示 确定 景区 入围 国家 4A 级涉 郑州 洛阳 濮阳 三门峡 许昌 商丘 信阳 地市 许昌 五彩 大地 观光 休闲 旅游区 入选 审核 标准 公示 显示 依据 旅游 景区 质量 等级 划分 评定 国家标准 GB T17775 国家旅游局 旅游 景区 质量 等级 管理 办法 相关 要求 河南省 旅游 景区 质量 等级 管理 实施办法 规定 景区 自愿 申报 县市 逐级 推荐 省景 评委 明查暗访 党组 集体 研究 程序 河南省 旅游 景区 质量 等级 评定 委员会 确定 上述 景区 国家 4A 旅游 景区 公示 期为\n",
          "河南省旅游局 日起 官方网站 公示 批准 国家 4A 旅游 景区 名单 包含 景区 公示 名单 商丘 日月 跻身 公示 期将 结束 旅游局 公示 信息 依据 旅游 景区 质量 等级 划分 评定 规定 景区 自愿 申报 县市 逐级 推荐 省景 评委 明查暗访 党组 集体 研究 程序 河南省 旅游 景区 质量 等级 评定 委员会 确定 景区 国家 4A 旅游 景区 予以 公示 进行 公示 景区 涉及 郑州 洛阳 濮阳 三门峡 许昌 商丘 信阳 商丘 日月 湖景区 景区 分别 郑州市 新密红 石林 景区 二七区 樱桃沟 景区 黄河 富景 生态 世界 洛阳 天河 大峡谷 景区 洛阳 青要 景区 伊川县 二程 文化园 濮阳 上园 景区 三门峡 陕州 坑院 景区 豫西 百草园 景区 许昌 五彩 大地 观光 休闲 旅游区 信阳 大苏山 国家森林公园 金刚 猫儿 旅游区 龙湖 生态 文化 旅游区\n",
          "洛阳 身边 洛阳 有望 再添 两家 4A 旅游 景区 景区 增至 洛阳市 旅游 发展 委员会 洛阳市 恐龙 漂流 景区 中国 薰衣草 庄园 两家 景区 有望 成为 国家 4A 旅游 景区 届时 洛阳 景区 增至 依据 旅游 景区 质量 等级 划分 评定 国家标准 相关 要求 河南省 旅游 景区 质量 等级 评定 委员会 拟将 包括 洛阳 恐龙 漂流 景区 中国 薰衣草 庄园 在内 景区 确定 国家 4A 旅游 景区 日至 进行 公示 目前 洛阳 共有 旅游 景区 5A 旅游 景区 4A 旅游 景区 3A 旅游 景区 2A 旅游 景区 VIA 洛城 攻略\n",
          "驻马店 身边 驻马店 两地 进入 省级 旅游 度假区 名单 河南省 旅游 度假区 质量 等级 评定 委员会 发布 名单 公示 确定 洛阳 嵩县 白云山 旅游 度假区 单位 河南省 省级 旅游 度假区 依据 相关 要求 河南省 旅游 度假区 质量 等级 评定 委员会 工作 方案 自愿 申报 逐级 推荐 专家 评审 现场 检查 集体 研究 程序 确定 洛阳 嵩县 白云山 旅游 度假区 焦作 云台山 旅游 度假区 许昌 鄢陵 花都 生态旅游 度假区 南阳 西峡 界岭 旅游 度假区 驻马店 温泉 小镇 旅游 度假区 驻马店 乐山 旅游 度假区 信阳 鸡公山 旅游 度假区 单位 河南省 省级 旅游 度假区\n",
          "河南 认定 睢县 北湖 景区 旅游 景区 国家 4A 旅游 景区 河南省 文化 旅游 发布 认定 国家 4A 旅游 景区 名单 公示 认定 旅游 景区 国家 4A 旅游 景区 依据 旅游 景区 质量 等级 划分 评定 国家标准 GB T17775 评分 细则 旅游 景区 质量 等级 管理 办法 相关 要求 旅游 景区 自愿 申报 省辖市 推荐 专家 暗访 检查 厅长 办公会 研究 程序 认定 旅游 景区 国家 4A 旅游 景区 予以 公示 公示 期为 工作日 公示 之日起 计算 祝萍 认定 国家 4A 旅游 景区 名单 郑州市 登封 观星台 景区 建业 华谊 兄弟 电影 小镇 登封 大熊 仙人 景区 开封市 天波 杨府 公园 洛阳市 栾川 竹海 野生 动物园 宜阳 花果山 国家森林公园 平顶山市 姚庄 旅游区 安阳市 滑县 道口 古镇 鹤壁市 桑园 小镇 太极图 景区 阿斗 景区 新乡市 龙卧岩 景区 关山 景区 焦作市 南水北调 天河 公园 老家 莫沟 景区 许昌市 唐韵 生态 旅游区 南阳市 淅川 河南 丹江 大观 景区 方城 云山 风情 植物园 商丘市 睢县 北湖 景区\n",
          "洛阳 身边 厉害 洛阳 新增 国家 4A 旅游 景区 去过 河南省 新增 景区 国家 4A 旅游 景区 洛阳 凤翔 温泉 旅游区 豪泽 国际 郁金香 花海 欢乐城 榜上有名 洛阳 爆料 河南省 旅游 景区 质量 等级 评定 委员会 公告 国家 文化 旅游部 旅游 景区 质量 等级 管理 办法 相关 要求 依据 旅游 景区 质量 等级 划分 评定 国家标准 GB T17775 评定 细则 省辖市 省直管 旅游 景区 质量 等级 评定 委员会 推荐 河南省 旅游 景区 质量 等级 评定 委员会 组织 评定 郑州市 博园 景区 达到 国家 4A 旅游 景区 标准 要求 批准 国家 4A 旅游 景区 予以 公告\n",
          "洛阳 身边 洛阳 白云山 景区 旅游局 警告 河南 旅游 资讯网 消息 河南省旅游局 月初 月底 全省 范围 开展 为期 旅游 景区 集中 检查 整治 行动 并于 上午 召开 全省 旅游 景区 集中 检查 整治 情况 新闻 发布会 通报 景区 暗访 情况 河南省 旅游 景区 质量 等级 评定 委员会 决定 洛阳市 白云山 景区 景区 给予 警告 通报 要求 限期 整改 据悉 河南省旅游局 暗访 检查组 发现 景区 存在 主要 问题 以下 几个 方面 一是 服务设施 破损 严重 旅游 厕所 管理 滞后 二是 游客 服务中心 功能 健全 停车场 管理混乱 乱放 严重 三是 旅游 标识 系统 健全 旅游 购物 规范 四是 个别 景区 管理 服务 到位 环境卫生 脏乱差 五是 部分 景区 旅游 安全 方面 存在 安全隐患\n",
          "河南 全部 旅游 景区 不得 擅自 开放 河南省 文化 旅游 了解 截止 全省 景区 景区 关闭 运营 关闭 率达 65.68% 5A 景区 开放 全省 5A 景区 恐龙 遗迹 龙门石窟 白云山 鸡冠 老君山 景区 开放 南阳 恐龙 遗迹 园外 集中 洛阳 地区 少林寺 清明 河园 云台山 红旗渠 龙潭 大峡谷 殷墟 太行 大峡谷 天河 神农 界岭 八里沟 尧山 砀山 景区 关闭 防汛 形势 防止 景区 次生 灾害 发生 文化 旅游 发文 要求 各地 扎实 开展 景区 安全隐患 排查 特别 景区 临水 临崖 道路 漂流 游船 攀岩 玻璃 栈道 吊桥 观景台 重点 区域 索道 游船 游乐 设施 大型 设备 安全 大排查 目前 所有 旅游 景区 不得 擅自 开放 如需 开放 景区 安全隐患 认真 排查 确保安全 前提 综合 评定 自然 天气 条件 当地 党委 政府 批准 才能 开放 报省 文化 旅游 备案 截止 目前 全省 景区 人员 伤亡事故 发生 河南 信息 广播\n",
          "商丘 生活 日月 湖景区 进入 国家 4A 旅游 景区 公示 名单 河南省旅游局 日起 官方网站 公示 批准 国家 4A 旅游 景区 名单 包含 景区 公示 名单 商丘 日月 跻身 公示 期将 结束 旅游局 公示 信息 依据 旅游 景区 质量 等级 划分 评定 规定 景区 自愿 申报 县市 逐级 推荐 省景 评委 明查暗访 党组 集体 研究 程序 河南省 旅游 景区 质量 等级 评定 委员会 确定 景区 国家 4A 旅游 景区 予以 公示 进行 公示 景区 涉及 郑州 洛阳 濮阳 三门峡 许昌 商丘 信阳 商丘 日月 湖景区 景区 分别 郑州市 新密红 石林 景区 二七区 樱桃沟 景区 黄河 富景 生态 世界 洛阳 天河 大峡谷 景区 洛阳 青要 景区 伊川县 二程 文化园 濮阳 上园 景区 三门峡 陕州 坑院 景区 豫西 百草园 景区 许昌 五彩 大地 观光 休闲 旅游区 信阳 大苏山 国家森林公园 金刚 猫儿 旅游区 龙湖 生态 文化 旅游区 鲁超\n",
          "洛阳 发布 洛阳 新安 函谷关 获批 国家 3A 旅游 景区 新年 立春头 一天 新安 函谷关 获得 喜报 洛阳市 旅游 资源 规划 开发 质量 评定 委员会 公告 批准 新安 函谷关 国家 3A 旅游 景区 新安 函谷关 紧紧围绕 县委 县政府 发展 全域 旅游 战略部署 着力 打造 新安 函谷关 丝路 第一关 旅游 品牌 倡导 文物保护 旅游 发展 文化产业 有机 结合 不断 开拓创新 文物保护 理念 展示 方式 高标准 高质量 创建 国家 AAA 旅游 景区 新安 函谷关 继续 加大 保护 开发 力度 打造 南部 旅游 文化 线路 目标 做实 丝路 汉关 山水 新安 旅游 定位 加快 保护 展示 工作 步伐 争取 早日 新安 函谷关 造成 丝路 关隘 文化 特色 老城 复兴 目标 世界遗产 观光 物质 文化 体验 文化 休闲 旅游 新丝路 驿站 服务 一体 文化 旅游 盛地\n",
          null
         ],
         "marker": {
          "opacity": 0.5,
          "size": 5
         },
         "mode": "markers+text",
         "name": "14_景区_旅游_等级",
         "text": [
          "",
          "",
          "",
          "",
          "",
          "",
          "",
          "",
          "",
          "",
          "",
          "",
          "",
          "",
          "",
          "",
          "14_景区_旅游_等级"
         ],
         "textfont": {
          "size": 12
         },
         "type": "scattergl",
         "x": [
          7.254075050354004,
          7.577571868896484,
          7.588310718536377,
          7.2414140701293945,
          7.254131317138672,
          7.240478992462158,
          7.235880374908447,
          7.231138706207275,
          7.219038963317871,
          7.237811088562012,
          7.208952903747559,
          7.261773109436035,
          7.197909355163574,
          7.585526943206787,
          7.2294182777404785,
          7.25274133682251,
          7.301011085510254
         ],
         "y": [
          5.714227676391602,
          6.467124938964844,
          6.482895851135254,
          5.727282524108887,
          5.727025985717773,
          5.724819660186768,
          5.741338729858398,
          5.739933013916016,
          5.7164201736450195,
          5.745960712432861,
          5.746428489685059,
          5.730568885803223,
          5.813177585601807,
          6.48403263092041,
          5.73408317565918,
          5.7210259437561035,
          5.876021385192871
         ]
        }
       ],
       "layout": {
        "annotations": [
         {
          "showarrow": false,
          "text": "D1",
          "x": 4.309086728096008,
          "y": 10.063922572135926,
          "yshift": 10
         },
         {
          "showarrow": false,
          "text": "D2",
          "x": 9.909911358356476,
          "xshift": 10,
          "y": 15.27075161933899
         }
        ],
        "height": 750,
        "shapes": [
         {
          "line": {
           "color": "#CFD8DC",
           "width": 2
          },
          "type": "line",
          "x0": 9.909911358356476,
          "x1": 9.909911358356476,
          "y0": 4.8570935249328615,
          "y1": 15.27075161933899
         },
         {
          "line": {
           "color": "#9E9E9E",
           "width": 2
          },
          "type": "line",
          "x0": 4.309086728096008,
          "x1": 15.510735988616943,
          "y0": 10.063922572135926,
          "y1": 10.063922572135926
         }
        ],
        "template": {
         "data": {
          "bar": [
           {
            "error_x": {
             "color": "rgb(36,36,36)"
            },
            "error_y": {
             "color": "rgb(36,36,36)"
            },
            "marker": {
             "line": {
              "color": "white",
              "width": 0.5
             },
             "pattern": {
              "fillmode": "overlay",
              "size": 10,
              "solidity": 0.2
             }
            },
            "type": "bar"
           }
          ],
          "barpolar": [
           {
            "marker": {
             "line": {
              "color": "white",
              "width": 0.5
             },
             "pattern": {
              "fillmode": "overlay",
              "size": 10,
              "solidity": 0.2
             }
            },
            "type": "barpolar"
           }
          ],
          "carpet": [
           {
            "aaxis": {
             "endlinecolor": "rgb(36,36,36)",
             "gridcolor": "white",
             "linecolor": "white",
             "minorgridcolor": "white",
             "startlinecolor": "rgb(36,36,36)"
            },
            "baxis": {
             "endlinecolor": "rgb(36,36,36)",
             "gridcolor": "white",
             "linecolor": "white",
             "minorgridcolor": "white",
             "startlinecolor": "rgb(36,36,36)"
            },
            "type": "carpet"
           }
          ],
          "choropleth": [
           {
            "colorbar": {
             "outlinewidth": 1,
             "tickcolor": "rgb(36,36,36)",
             "ticks": "outside"
            },
            "type": "choropleth"
           }
          ],
          "contour": [
           {
            "colorbar": {
             "outlinewidth": 1,
             "tickcolor": "rgb(36,36,36)",
             "ticks": "outside"
            },
            "colorscale": [
             [
              0,
              "#440154"
             ],
             [
              0.1111111111111111,
              "#482878"
             ],
             [
              0.2222222222222222,
              "#3e4989"
             ],
             [
              0.3333333333333333,
              "#31688e"
             ],
             [
              0.4444444444444444,
              "#26828e"
             ],
             [
              0.5555555555555556,
              "#1f9e89"
             ],
             [
              0.6666666666666666,
              "#35b779"
             ],
             [
              0.7777777777777778,
              "#6ece58"
             ],
             [
              0.8888888888888888,
              "#b5de2b"
             ],
             [
              1,
              "#fde725"
             ]
            ],
            "type": "contour"
           }
          ],
          "contourcarpet": [
           {
            "colorbar": {
             "outlinewidth": 1,
             "tickcolor": "rgb(36,36,36)",
             "ticks": "outside"
            },
            "type": "contourcarpet"
           }
          ],
          "heatmap": [
           {
            "colorbar": {
             "outlinewidth": 1,
             "tickcolor": "rgb(36,36,36)",
             "ticks": "outside"
            },
            "colorscale": [
             [
              0,
              "#440154"
             ],
             [
              0.1111111111111111,
              "#482878"
             ],
             [
              0.2222222222222222,
              "#3e4989"
             ],
             [
              0.3333333333333333,
              "#31688e"
             ],
             [
              0.4444444444444444,
              "#26828e"
             ],
             [
              0.5555555555555556,
              "#1f9e89"
             ],
             [
              0.6666666666666666,
              "#35b779"
             ],
             [
              0.7777777777777778,
              "#6ece58"
             ],
             [
              0.8888888888888888,
              "#b5de2b"
             ],
             [
              1,
              "#fde725"
             ]
            ],
            "type": "heatmap"
           }
          ],
          "heatmapgl": [
           {
            "colorbar": {
             "outlinewidth": 1,
             "tickcolor": "rgb(36,36,36)",
             "ticks": "outside"
            },
            "colorscale": [
             [
              0,
              "#440154"
             ],
             [
              0.1111111111111111,
              "#482878"
             ],
             [
              0.2222222222222222,
              "#3e4989"
             ],
             [
              0.3333333333333333,
              "#31688e"
             ],
             [
              0.4444444444444444,
              "#26828e"
             ],
             [
              0.5555555555555556,
              "#1f9e89"
             ],
             [
              0.6666666666666666,
              "#35b779"
             ],
             [
              0.7777777777777778,
              "#6ece58"
             ],
             [
              0.8888888888888888,
              "#b5de2b"
             ],
             [
              1,
              "#fde725"
             ]
            ],
            "type": "heatmapgl"
           }
          ],
          "histogram": [
           {
            "marker": {
             "line": {
              "color": "white",
              "width": 0.6
             }
            },
            "type": "histogram"
           }
          ],
          "histogram2d": [
           {
            "colorbar": {
             "outlinewidth": 1,
             "tickcolor": "rgb(36,36,36)",
             "ticks": "outside"
            },
            "colorscale": [
             [
              0,
              "#440154"
             ],
             [
              0.1111111111111111,
              "#482878"
             ],
             [
              0.2222222222222222,
              "#3e4989"
             ],
             [
              0.3333333333333333,
              "#31688e"
             ],
             [
              0.4444444444444444,
              "#26828e"
             ],
             [
              0.5555555555555556,
              "#1f9e89"
             ],
             [
              0.6666666666666666,
              "#35b779"
             ],
             [
              0.7777777777777778,
              "#6ece58"
             ],
             [
              0.8888888888888888,
              "#b5de2b"
             ],
             [
              1,
              "#fde725"
             ]
            ],
            "type": "histogram2d"
           }
          ],
          "histogram2dcontour": [
           {
            "colorbar": {
             "outlinewidth": 1,
             "tickcolor": "rgb(36,36,36)",
             "ticks": "outside"
            },
            "colorscale": [
             [
              0,
              "#440154"
             ],
             [
              0.1111111111111111,
              "#482878"
             ],
             [
              0.2222222222222222,
              "#3e4989"
             ],
             [
              0.3333333333333333,
              "#31688e"
             ],
             [
              0.4444444444444444,
              "#26828e"
             ],
             [
              0.5555555555555556,
              "#1f9e89"
             ],
             [
              0.6666666666666666,
              "#35b779"
             ],
             [
              0.7777777777777778,
              "#6ece58"
             ],
             [
              0.8888888888888888,
              "#b5de2b"
             ],
             [
              1,
              "#fde725"
             ]
            ],
            "type": "histogram2dcontour"
           }
          ],
          "mesh3d": [
           {
            "colorbar": {
             "outlinewidth": 1,
             "tickcolor": "rgb(36,36,36)",
             "ticks": "outside"
            },
            "type": "mesh3d"
           }
          ],
          "parcoords": [
           {
            "line": {
             "colorbar": {
              "outlinewidth": 1,
              "tickcolor": "rgb(36,36,36)",
              "ticks": "outside"
             }
            },
            "type": "parcoords"
           }
          ],
          "pie": [
           {
            "automargin": true,
            "type": "pie"
           }
          ],
          "scatter": [
           {
            "fillpattern": {
             "fillmode": "overlay",
             "size": 10,
             "solidity": 0.2
            },
            "type": "scatter"
           }
          ],
          "scatter3d": [
           {
            "line": {
             "colorbar": {
              "outlinewidth": 1,
              "tickcolor": "rgb(36,36,36)",
              "ticks": "outside"
             }
            },
            "marker": {
             "colorbar": {
              "outlinewidth": 1,
              "tickcolor": "rgb(36,36,36)",
              "ticks": "outside"
             }
            },
            "type": "scatter3d"
           }
          ],
          "scattercarpet": [
           {
            "marker": {
             "colorbar": {
              "outlinewidth": 1,
              "tickcolor": "rgb(36,36,36)",
              "ticks": "outside"
             }
            },
            "type": "scattercarpet"
           }
          ],
          "scattergeo": [
           {
            "marker": {
             "colorbar": {
              "outlinewidth": 1,
              "tickcolor": "rgb(36,36,36)",
              "ticks": "outside"
             }
            },
            "type": "scattergeo"
           }
          ],
          "scattergl": [
           {
            "marker": {
             "colorbar": {
              "outlinewidth": 1,
              "tickcolor": "rgb(36,36,36)",
              "ticks": "outside"
             }
            },
            "type": "scattergl"
           }
          ],
          "scattermapbox": [
           {
            "marker": {
             "colorbar": {
              "outlinewidth": 1,
              "tickcolor": "rgb(36,36,36)",
              "ticks": "outside"
             }
            },
            "type": "scattermapbox"
           }
          ],
          "scatterpolar": [
           {
            "marker": {
             "colorbar": {
              "outlinewidth": 1,
              "tickcolor": "rgb(36,36,36)",
              "ticks": "outside"
             }
            },
            "type": "scatterpolar"
           }
          ],
          "scatterpolargl": [
           {
            "marker": {
             "colorbar": {
              "outlinewidth": 1,
              "tickcolor": "rgb(36,36,36)",
              "ticks": "outside"
             }
            },
            "type": "scatterpolargl"
           }
          ],
          "scatterternary": [
           {
            "marker": {
             "colorbar": {
              "outlinewidth": 1,
              "tickcolor": "rgb(36,36,36)",
              "ticks": "outside"
             }
            },
            "type": "scatterternary"
           }
          ],
          "surface": [
           {
            "colorbar": {
             "outlinewidth": 1,
             "tickcolor": "rgb(36,36,36)",
             "ticks": "outside"
            },
            "colorscale": [
             [
              0,
              "#440154"
             ],
             [
              0.1111111111111111,
              "#482878"
             ],
             [
              0.2222222222222222,
              "#3e4989"
             ],
             [
              0.3333333333333333,
              "#31688e"
             ],
             [
              0.4444444444444444,
              "#26828e"
             ],
             [
              0.5555555555555556,
              "#1f9e89"
             ],
             [
              0.6666666666666666,
              "#35b779"
             ],
             [
              0.7777777777777778,
              "#6ece58"
             ],
             [
              0.8888888888888888,
              "#b5de2b"
             ],
             [
              1,
              "#fde725"
             ]
            ],
            "type": "surface"
           }
          ],
          "table": [
           {
            "cells": {
             "fill": {
              "color": "rgb(237,237,237)"
             },
             "line": {
              "color": "white"
             }
            },
            "header": {
             "fill": {
              "color": "rgb(217,217,217)"
             },
             "line": {
              "color": "white"
             }
            },
            "type": "table"
           }
          ]
         },
         "layout": {
          "annotationdefaults": {
           "arrowhead": 0,
           "arrowwidth": 1
          },
          "autotypenumbers": "strict",
          "coloraxis": {
           "colorbar": {
            "outlinewidth": 1,
            "tickcolor": "rgb(36,36,36)",
            "ticks": "outside"
           }
          },
          "colorscale": {
           "diverging": [
            [
             0,
             "rgb(103,0,31)"
            ],
            [
             0.1,
             "rgb(178,24,43)"
            ],
            [
             0.2,
             "rgb(214,96,77)"
            ],
            [
             0.3,
             "rgb(244,165,130)"
            ],
            [
             0.4,
             "rgb(253,219,199)"
            ],
            [
             0.5,
             "rgb(247,247,247)"
            ],
            [
             0.6,
             "rgb(209,229,240)"
            ],
            [
             0.7,
             "rgb(146,197,222)"
            ],
            [
             0.8,
             "rgb(67,147,195)"
            ],
            [
             0.9,
             "rgb(33,102,172)"
            ],
            [
             1,
             "rgb(5,48,97)"
            ]
           ],
           "sequential": [
            [
             0,
             "#440154"
            ],
            [
             0.1111111111111111,
             "#482878"
            ],
            [
             0.2222222222222222,
             "#3e4989"
            ],
            [
             0.3333333333333333,
             "#31688e"
            ],
            [
             0.4444444444444444,
             "#26828e"
            ],
            [
             0.5555555555555556,
             "#1f9e89"
            ],
            [
             0.6666666666666666,
             "#35b779"
            ],
            [
             0.7777777777777778,
             "#6ece58"
            ],
            [
             0.8888888888888888,
             "#b5de2b"
            ],
            [
             1,
             "#fde725"
            ]
           ],
           "sequentialminus": [
            [
             0,
             "#440154"
            ],
            [
             0.1111111111111111,
             "#482878"
            ],
            [
             0.2222222222222222,
             "#3e4989"
            ],
            [
             0.3333333333333333,
             "#31688e"
            ],
            [
             0.4444444444444444,
             "#26828e"
            ],
            [
             0.5555555555555556,
             "#1f9e89"
            ],
            [
             0.6666666666666666,
             "#35b779"
            ],
            [
             0.7777777777777778,
             "#6ece58"
            ],
            [
             0.8888888888888888,
             "#b5de2b"
            ],
            [
             1,
             "#fde725"
            ]
           ]
          },
          "colorway": [
           "#1F77B4",
           "#FF7F0E",
           "#2CA02C",
           "#D62728",
           "#9467BD",
           "#8C564B",
           "#E377C2",
           "#7F7F7F",
           "#BCBD22",
           "#17BECF"
          ],
          "font": {
           "color": "rgb(36,36,36)"
          },
          "geo": {
           "bgcolor": "white",
           "lakecolor": "white",
           "landcolor": "white",
           "showlakes": true,
           "showland": true,
           "subunitcolor": "white"
          },
          "hoverlabel": {
           "align": "left"
          },
          "hovermode": "closest",
          "mapbox": {
           "style": "light"
          },
          "paper_bgcolor": "white",
          "plot_bgcolor": "white",
          "polar": {
           "angularaxis": {
            "gridcolor": "rgb(232,232,232)",
            "linecolor": "rgb(36,36,36)",
            "showgrid": false,
            "showline": true,
            "ticks": "outside"
           },
           "bgcolor": "white",
           "radialaxis": {
            "gridcolor": "rgb(232,232,232)",
            "linecolor": "rgb(36,36,36)",
            "showgrid": false,
            "showline": true,
            "ticks": "outside"
           }
          },
          "scene": {
           "xaxis": {
            "backgroundcolor": "white",
            "gridcolor": "rgb(232,232,232)",
            "gridwidth": 2,
            "linecolor": "rgb(36,36,36)",
            "showbackground": true,
            "showgrid": false,
            "showline": true,
            "ticks": "outside",
            "zeroline": false,
            "zerolinecolor": "rgb(36,36,36)"
           },
           "yaxis": {
            "backgroundcolor": "white",
            "gridcolor": "rgb(232,232,232)",
            "gridwidth": 2,
            "linecolor": "rgb(36,36,36)",
            "showbackground": true,
            "showgrid": false,
            "showline": true,
            "ticks": "outside",
            "zeroline": false,
            "zerolinecolor": "rgb(36,36,36)"
           },
           "zaxis": {
            "backgroundcolor": "white",
            "gridcolor": "rgb(232,232,232)",
            "gridwidth": 2,
            "linecolor": "rgb(36,36,36)",
            "showbackground": true,
            "showgrid": false,
            "showline": true,
            "ticks": "outside",
            "zeroline": false,
            "zerolinecolor": "rgb(36,36,36)"
           }
          },
          "shapedefaults": {
           "fillcolor": "black",
           "line": {
            "width": 0
           },
           "opacity": 0.3
          },
          "ternary": {
           "aaxis": {
            "gridcolor": "rgb(232,232,232)",
            "linecolor": "rgb(36,36,36)",
            "showgrid": false,
            "showline": true,
            "ticks": "outside"
           },
           "baxis": {
            "gridcolor": "rgb(232,232,232)",
            "linecolor": "rgb(36,36,36)",
            "showgrid": false,
            "showline": true,
            "ticks": "outside"
           },
           "bgcolor": "white",
           "caxis": {
            "gridcolor": "rgb(232,232,232)",
            "linecolor": "rgb(36,36,36)",
            "showgrid": false,
            "showline": true,
            "ticks": "outside"
           }
          },
          "title": {
           "x": 0.05
          },
          "xaxis": {
           "automargin": true,
           "gridcolor": "rgb(232,232,232)",
           "linecolor": "rgb(36,36,36)",
           "showgrid": false,
           "showline": true,
           "ticks": "outside",
           "title": {
            "standoff": 15
           },
           "zeroline": false,
           "zerolinecolor": "rgb(36,36,36)"
          },
          "yaxis": {
           "automargin": true,
           "gridcolor": "rgb(232,232,232)",
           "linecolor": "rgb(36,36,36)",
           "showgrid": false,
           "showline": true,
           "ticks": "outside",
           "title": {
            "standoff": 15
           },
           "zeroline": false,
           "zerolinecolor": "rgb(36,36,36)"
          }
         }
        },
        "title": {
         "font": {
          "color": "Black",
          "size": 22
         },
         "text": "<b>Documents and Topics</b>",
         "x": 0.5,
         "xanchor": "center",
         "yanchor": "top"
        },
        "width": 1200,
        "xaxis": {
         "visible": false
        },
        "yaxis": {
         "visible": false
        }
       }
      }
     },
     "metadata": {},
     "output_type": "display_data"
    }
   ],
   "source": [
    "# ⭐ UMAP可视化\n",
    "reduced_embeddings = UMAP(n_neighbors=10, n_components=2, min_dist=0.0, metric='cosine',).fit_transform(embeddings)\n",
    "topic_model.visualize_documents(docs, reduced_embeddings=reduced_embeddings)"
   ]
  },
  {
   "cell_type": "markdown",
   "metadata": {},
   "source": [
    "# 查看层级"
   ]
  },
  {
   "cell_type": "code",
   "execution_count": null,
   "metadata": {},
   "outputs": [],
   "source": [
    "hierarchical_topics = topic_model.hierarchical_topics(docs)\n",
    "topic_model.visualize_hierarchy(hierarchical_topics=hierarchical_topics)"
   ]
  },
  {
   "cell_type": "markdown",
   "metadata": {},
   "source": [
    "# 动态主题模型"
   ]
  },
  {
   "cell_type": "code",
   "execution_count": null,
   "metadata": {},
   "outputs": [],
   "source": [
    "# step6 动态主题模型\n",
    "# 读取时间戳\n",
    "with open('../../data/时间.txt', \"r\", encoding='utf-8') as file:\n",
    "    lines = file.readlines()\n",
    "    timestamps = [int(line.strip()) for line in lines]\n",
    "print(len(timestamps), timestamps[:10])"
   ]
  },
  {
   "cell_type": "code",
   "execution_count": null,
   "metadata": {},
   "outputs": [],
   "source": [
    "topics_over_time = topic_model.topics_over_time(docs, timestamps)\n",
    "topic_model.visualize_topics_over_time(topics_over_time)"
   ]
  }
 ],
 "metadata": {
  "kernelspec": {
   "display_name": "topic",
   "language": "python",
   "name": "python3"
  },
  "language_info": {
   "codemirror_mode": {
    "name": "ipython",
    "version": 3
   },
   "file_extension": ".py",
   "mimetype": "text/x-python",
   "name": "python",
   "nbconvert_exporter": "python",
   "pygments_lexer": "ipython3",
   "version": "3.11.9"
  },
  "orig_nbformat": 4
 },
 "nbformat": 4,
 "nbformat_minor": 2
}
